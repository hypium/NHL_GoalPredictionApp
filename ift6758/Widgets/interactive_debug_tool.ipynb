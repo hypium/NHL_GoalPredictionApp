{
 "cells": [
  {
   "cell_type": "code",
   "execution_count": 11,
   "metadata": {},
   "outputs": [],
   "source": [
    "import ipywidgets as widgets\n",
    "import json\n",
    "import matplotlib.image as img\n",
    "import matplotlib.pyplot as plt\n",
    "import pandas as pd\n",
    "\n",
    "from IPython.display import clear_output"
   ]
  },
  {
   "cell_type": "code",
   "execution_count": 12,
   "metadata": {},
   "outputs": [],
   "source": [
    "# Game Info\n",
    "with open(\"../data/2017/playoffs.json\") as file:\n",
    "    data = json.load(file)\n",
    "\n",
    "# use the first game to debug\n",
    "debug_game = data[0]\n",
    "\n",
    "plays = debug_game['plays']\n",
    "plays_info = []\n",
    "for play in plays:\n",
    "    details = play.get('details', {})\n",
    "    periodDescriptor = play.get('periodDescriptor', {})\n",
    "    row = {\n",
    "        'typeDescKey': play.get('typeDescKey'),\n",
    "        'timeInPeriod': play.get('timeInPeriod'),\n",
    "        'timeRemaining': play.get('timeRemaining'),\n",
    "        'xCoord': details.get('xCoord'),\n",
    "        'yCoord': details.get('yCoord'),\n",
    "        'period': periodDescriptor.get('number')\n",
    "    }\n",
    "    plays_info.append(row)\n",
    "\n",
    "df = pd.DataFrame(plays_info)\n"
   ]
  },
  {
   "cell_type": "code",
   "execution_count": 13,
   "metadata": {},
   "outputs": [],
   "source": [
    "# Initialize the widgets\n",
    "plot_widget = widgets.Output()\n",
    "slider_widget = widgets.IntSlider(value=0, min=0, max=df.shape[0]-1, step=1, description='Play #')\n",
    "combined_widget = widgets.VBox(\n",
    "    [plot_widget, slider_widget],\n",
    "    layout=widgets.Layout(\n",
    "        justify_content='center', \n",
    "        align_items='center'\n",
    "    ))"
   ]
  },
  {
   "cell_type": "code",
   "execution_count": 14,
   "metadata": {},
   "outputs": [],
   "source": [
    "def init_plot(ax):\n",
    "    with plot_widget:\n",
    "        x_min = -100\n",
    "        x_max = 100\n",
    "        y_min = -42.5\n",
    "        y_max = 42.5\n",
    "        rink_img = img.imread(\"../../figures/nhl_rink.png\")\n",
    "\n",
    "        ax.set_xlim(x_min, x_max)\n",
    "        ax.set_ylim(y_min, y_max)\n",
    "        \n",
    "        ax.imshow(rink_img, extent=(x_min, x_max, y_min, y_max))\n",
    "\n",
    "        ax.set_xlabel('X Coordinate (ft)')\n",
    "        ax.set_ylabel('Y Coordinate (ft)')\n",
    "\n",
    "def plot_play(play_number):\n",
    "    with plot_widget:\n",
    "        clear_output(wait=True)\n",
    "        fig, ax = plt.subplots()\n",
    "        \n",
    "        init_plot(ax)\n",
    "        play = df.iloc[play_number]\n",
    "        \n",
    "        ax.set_title(f\"Game Play-By-Play\")\n",
    "        x = play['xCoord']\n",
    "        y = play['yCoord']\n",
    "\n",
    "        if pd.notna(x) and pd.notna(y):\n",
    "            ax.plot(x, y, 'bo')\n",
    "\n",
    "        plt.show()\n",
    "        print(f\"Event: {play['typeDescKey']}\")\n",
    "        print(f\"Time in period: {play['timeInPeriod']}\")\n",
    "        print(f\"Period: {play['period']}\")"
   ]
  },
  {
   "cell_type": "code",
   "execution_count": 15,
   "metadata": {},
   "outputs": [
    {
     "data": {
      "application/vnd.jupyter.widget-view+json": {
       "model_id": "3ffbf92e657b47098711b54ad2940eb7",
       "version_major": 2,
       "version_minor": 0
      },
      "text/plain": [
       "VBox(children=(Output(), IntSlider(value=0, description='Play #', max=363)))"
      ]
     },
     "metadata": {},
     "output_type": "display_data"
    }
   ],
   "source": [
    "slider_widget.observe(lambda change: plot_play(change['new']), names='value')\n",
    "\n",
    "display(combined_widget)\n",
    "plot_play(slider_widget.value)"
   ]
  }
 ],
 "metadata": {
  "kernelspec": {
   "display_name": "ift6758-projet",
   "language": "python",
   "name": "python3"
  },
  "language_info": {
   "codemirror_mode": {
    "name": "ipython",
    "version": 3
   },
   "file_extension": ".py",
   "mimetype": "text/x-python",
   "name": "python",
   "nbconvert_exporter": "python",
   "pygments_lexer": "ipython3",
   "version": "3.9.19"
  }
 },
 "nbformat": 4,
 "nbformat_minor": 2
}
