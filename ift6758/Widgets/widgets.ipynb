{
 "cells": [
  {
   "cell_type": "code",
   "execution_count": 1,
   "id": "6db1045e-4f0e-4a8f-919c-6f4efe07196c",
   "metadata": {},
   "outputs": [],
   "source": [
    "import json\n",
    "import matplotlib.pyplot as plt\n",
    "from ipywidgets import Label, HBox \n",
    "from IPython.display import display\n",
    "import matplotlib.image as mpimg"
   ]
  },
  {
   "cell_type": "code",
   "execution_count": 3,
   "id": "69e833d5-9363-4c92-ac0a-14ed5149e59a",
   "metadata": {},
   "outputs": [
    {
     "ename": "FileNotFoundError",
     "evalue": "[Errno 2] No such file or directory: '../figures/nhl_rink.png'",
     "output_type": "error",
     "traceback": [
      "\u001b[1;31m---------------------------------------------------------------------------\u001b[0m",
      "\u001b[1;31mFileNotFoundError\u001b[0m                         Traceback (most recent call last)",
      "Cell \u001b[1;32mIn[3], line 2\u001b[0m\n\u001b[0;32m      1\u001b[0m \u001b[38;5;66;03m# Load the rink image with the correct path\u001b[39;00m\n\u001b[1;32m----> 2\u001b[0m rink_image \u001b[38;5;241m=\u001b[39m mpimg\u001b[38;5;241m.\u001b[39mimread(rink_image \u001b[38;5;241m=\u001b[39m \u001b[43mmpimg\u001b[49m\u001b[38;5;241;43m.\u001b[39;49m\u001b[43mimread\u001b[49m\u001b[43m(\u001b[49m\u001b[38;5;124;43m'\u001b[39;49m\u001b[38;5;124;43m../figures/nhl_rink.png\u001b[39;49m\u001b[38;5;124;43m'\u001b[39;49m\u001b[43m)\u001b[49m)\n",
      "File \u001b[1;32mc:\\Users\\Dell.DESKTOP-4AU2O53\\anaconda3\\envs\\ift6758-projet\\lib\\site-packages\\matplotlib\\image.py:1544\u001b[0m, in \u001b[0;36mimread\u001b[1;34m(fname, format)\u001b[0m\n\u001b[0;32m   1537\u001b[0m \u001b[38;5;28;01mif\u001b[39;00m \u001b[38;5;28misinstance\u001b[39m(fname, \u001b[38;5;28mstr\u001b[39m) \u001b[38;5;129;01mand\u001b[39;00m \u001b[38;5;28mlen\u001b[39m(parse\u001b[38;5;241m.\u001b[39murlparse(fname)\u001b[38;5;241m.\u001b[39mscheme) \u001b[38;5;241m>\u001b[39m \u001b[38;5;241m1\u001b[39m:\n\u001b[0;32m   1538\u001b[0m     \u001b[38;5;66;03m# Pillow doesn't handle URLs directly.\u001b[39;00m\n\u001b[0;32m   1539\u001b[0m     \u001b[38;5;28;01mraise\u001b[39;00m \u001b[38;5;167;01mValueError\u001b[39;00m(\n\u001b[0;32m   1540\u001b[0m         \u001b[38;5;124m\"\u001b[39m\u001b[38;5;124mPlease open the URL for reading and pass the \u001b[39m\u001b[38;5;124m\"\u001b[39m\n\u001b[0;32m   1541\u001b[0m         \u001b[38;5;124m\"\u001b[39m\u001b[38;5;124mresult to Pillow, e.g. with \u001b[39m\u001b[38;5;124m\"\u001b[39m\n\u001b[0;32m   1542\u001b[0m         \u001b[38;5;124m\"\u001b[39m\u001b[38;5;124m``np.array(PIL.Image.open(urllib.request.urlopen(url)))``.\u001b[39m\u001b[38;5;124m\"\u001b[39m\n\u001b[0;32m   1543\u001b[0m         )\n\u001b[1;32m-> 1544\u001b[0m \u001b[38;5;28;01mwith\u001b[39;00m \u001b[43mimg_open\u001b[49m\u001b[43m(\u001b[49m\u001b[43mfname\u001b[49m\u001b[43m)\u001b[49m \u001b[38;5;28;01mas\u001b[39;00m image:\n\u001b[0;32m   1545\u001b[0m     \u001b[38;5;28;01mreturn\u001b[39;00m (_pil_png_to_float_array(image)\n\u001b[0;32m   1546\u001b[0m             \u001b[38;5;28;01mif\u001b[39;00m \u001b[38;5;28misinstance\u001b[39m(image, PIL\u001b[38;5;241m.\u001b[39mPngImagePlugin\u001b[38;5;241m.\u001b[39mPngImageFile) \u001b[38;5;28;01melse\u001b[39;00m\n\u001b[0;32m   1547\u001b[0m             pil_to_array(image))\n",
      "File \u001b[1;32mc:\\Users\\Dell.DESKTOP-4AU2O53\\anaconda3\\envs\\ift6758-projet\\lib\\site-packages\\PIL\\ImageFile.py:126\u001b[0m, in \u001b[0;36mImageFile.__init__\u001b[1;34m(self, fp, filename)\u001b[0m\n\u001b[0;32m    122\u001b[0m \u001b[38;5;28mself\u001b[39m\u001b[38;5;241m.\u001b[39mdecodermaxblock \u001b[38;5;241m=\u001b[39m MAXBLOCK\n\u001b[0;32m    124\u001b[0m \u001b[38;5;28;01mif\u001b[39;00m is_path(fp):\n\u001b[0;32m    125\u001b[0m     \u001b[38;5;66;03m# filename\u001b[39;00m\n\u001b[1;32m--> 126\u001b[0m     \u001b[38;5;28mself\u001b[39m\u001b[38;5;241m.\u001b[39mfp \u001b[38;5;241m=\u001b[39m \u001b[38;5;28;43mopen\u001b[39;49m\u001b[43m(\u001b[49m\u001b[43mfp\u001b[49m\u001b[43m,\u001b[49m\u001b[43m \u001b[49m\u001b[38;5;124;43m\"\u001b[39;49m\u001b[38;5;124;43mrb\u001b[39;49m\u001b[38;5;124;43m\"\u001b[39;49m\u001b[43m)\u001b[49m\n\u001b[0;32m    127\u001b[0m     \u001b[38;5;28mself\u001b[39m\u001b[38;5;241m.\u001b[39mfilename \u001b[38;5;241m=\u001b[39m fp\n\u001b[0;32m    128\u001b[0m     \u001b[38;5;28mself\u001b[39m\u001b[38;5;241m.\u001b[39m_exclusive_fp \u001b[38;5;241m=\u001b[39m \u001b[38;5;28;01mTrue\u001b[39;00m\n",
      "\u001b[1;31mFileNotFoundError\u001b[0m: [Errno 2] No such file or directory: '../figures/nhl_rink.png'"
     ]
    }
   ],
   "source": [
    "# Load the rink image with the correct path\n",
    "rink_image = mpimg.imread('../figures/nhl_rink.png')"
   ]
  },
  {
   "cell_type": "code",
   "execution_count": 154,
   "id": "542c9047-4630-45b5-af27-792ecba12a16",
   "metadata": {},
   "outputs": [],
   "source": [
    "# Function to load event data from JSON files\n",
    "def load_event_data(season, game_type):\n",
    "    filename = f'ift6758/data/{season}/{game_type}.json'\n",
    "    with open(filename) as f:\n",
    "        return json.load(f)"
   ]
  },
  {
   "cell_type": "code",
   "execution_count": 156,
   "id": "53f3dbb6-8b69-4ef1-9dbc-efd36c904c99",
   "metadata": {},
   "outputs": [],
   "source": [
    "# Create widgets for selecting season and match\n",
    "season_dropdown = Dropdown(options=[str(year) for year in range(2016, 2025)], description='Season:')\n",
    "match_dropdown = Dropdown(options=[], description='Match:')\n",
    "output_plot = Output()"
   ]
  },
  {
   "cell_type": "code",
   "execution_count": 158,
   "id": "0a92656a-7cf4-4c2e-ba3a-f9169a5b0b21",
   "metadata": {},
   "outputs": [],
   "source": [
    "def update_match_options(change):\n",
    "    season = change['new']\n",
    "    print(f\"Loading data for season: {season}\")\n",
    "\n",
    "    # Load regular season data\n",
    "    season_data = load_event_data(season, 'season')  \n",
    "    print(f\"Regular Season data for {season}:\")\n",
    "    print(json.dumps(season_data, indent=2))  \n",
    "    # Create match options, ensuring id exists\n",
    "    match_options = [game['id'] for game in season_data if 'id' in game]\n",
    "    \n",
    "    # Load playoff data\n",
    "    playoffs_data = load_event_data(season, 'playoffs')\n",
    "    print(f\"Playoffs data for {season}:\")\n",
    "    print(json.dumps(playoffs_data, indent=2))  \n",
    "\n",
    "    # Append playoff match options\n",
    "    playoff_match_options = [game['id'] for game in playoffs_data if 'id' in game]\n",
    "    \n",
    "    # Combine regular and playoff match options\n",
    "    match_options.extend(playoff_match_options)\n",
    "\n",
    "    print(f\"Match options for season {season}: {match_options}\")  \n",
    "\n",
    "    # Update the match dropdown options\n",
    "    match_dropdown.options = match_options\n",
    "\n",
    "season_dropdown.observe(update_match_options, names='value')"
   ]
  },
  {
   "cell_type": "code",
   "execution_count": 160,
   "id": "87eb12ac-f1bd-44cd-8849-3292a30ff218",
   "metadata": {},
   "outputs": [],
   "source": [
    "def plot_events_on_rink(change):\n",
    "    match_id = change['new']\n",
    "    season = season_dropdown.value  # Get the currently selected season\n",
    "    print(f\"Selected match ID: {match_id} for season: {season}\")\n",
    "\n",
    "    # Load the event data for the selected match\n",
    "    season_data = load_event_data(season, 'season')  \n",
    "    # Load playoff data\n",
    "    playoffs_data = load_event_data(season, 'playoffs')\n",
    "\n",
    "    with output_plot:\n",
    "        output_plot.clear_output(wait=True)  # Clear previous output\n",
    "        fig, ax = plt.subplots()\n",
    "        ax.imshow(rink_image)  # Display the rink image\n",
    "\n",
    "        # Find the game in regular season\n",
    "        game_found = False # track if the game is found\n",
    "        for game in season_data:\n",
    "            if game.get('id') == match_id:  # avoid KeyError\n",
    "                events = game.get('plays', [])\n",
    "                game_found = True\n",
    "                for event in events:\n",
    "                    if 'details' in event and 'xCoord' in event['details'] and 'yCoord' in event['details']:\n",
    "                        x = event['details']['xCoord']\n",
    "                        y = event['details']['yCoord']\n",
    "                        ax.scatter(x, y, color='red')  # Plot the event\n",
    "                    else:\n",
    "                        print(f\"Event with no coordinates: {event}\")  # Print metadata \n",
    "\n",
    "        # If not found in regular season, check playoffs\n",
    "        if not game_found:\n",
    "            for game in playoffs_data:\n",
    "                if game.get('id') == match_id:\n",
    "                    events = game.get('plays', [])\n",
    "                    game_found = True\n",
    "                    for event in events:\n",
    "                        if 'details' in event and 'xCoord' in event['details'] and 'yCoord' in event['details']:\n",
    "                            x = event['details']['xCoord']\n",
    "                            y = event['details']['yCoord']\n",
    "                            ax.scatter(x, y, color='red')  # Plot the event\n",
    "                        else:\n",
    "                            print(f\"Event with no coordinates: {event}\")  # Print metadata \n",
    "\n",
    "        if not game_found:\n",
    "            print(f\"No game found with ID: {match_id}\")  # Print if no game matches the ID\n",
    "\n",
    "        plt.show()  # Show the plot\n",
    "\n",
    "match_dropdown.observe(plot_events_on_rink, names='value')\n"
   ]
  },
  {
   "cell_type": "code",
   "execution_count": 170,
   "id": "4c4b13c1-67d6-4b5c-ad23-6f301ff77360",
   "metadata": {},
   "outputs": [
    {
     "data": {
      "application/vnd.jupyter.widget-view+json": {
       "model_id": "b1341a03e9e64cfba7730db236219446",
       "version_major": 2,
       "version_minor": 0
      },
      "text/plain": [
       "VBox(children=(HBox(children=(Label(value='Choose a Season:'), Dropdown(description='Season:', index=5, option…"
      ]
     },
     "metadata": {},
     "output_type": "display_data"
    }
   ],
   "source": [
    "# Create labels \n",
    "season_label = Label(value=\"Choose a Season:\")\n",
    "match_label = Label(value=\"Choose a Match:\")\n",
    "\n",
    "# Display the widgets and output area \n",
    "layout = VBox([\n",
    "    HBox([season_label, season_dropdown]),\n",
    "    HBox([match_label, match_dropdown]),\n",
    "    output_plot\n",
    "])\n",
    "display(layout)"
   ]
  },
  {
   "cell_type": "code",
   "execution_count": null,
   "id": "884b979a-4cc7-4a66-b725-0d62db00ad98",
   "metadata": {},
   "outputs": [],
   "source": []
  },
  {
   "cell_type": "code",
   "execution_count": null,
   "id": "09b9187a-6886-4580-b4b3-af7213894b80",
   "metadata": {},
   "outputs": [],
   "source": []
  },
  {
   "cell_type": "code",
   "execution_count": null,
   "id": "3f9730d6-d470-4077-bea5-b337afdd5d03",
   "metadata": {},
   "outputs": [],
   "source": []
  }
 ],
 "metadata": {
  "kernelspec": {
   "display_name": "Python 3 (ipykernel)",
   "language": "python",
   "name": "python3"
  },
  "language_info": {
   "codemirror_mode": {
    "name": "ipython",
    "version": 3
   },
   "file_extension": ".py",
   "mimetype": "text/x-python",
   "name": "python",
   "nbconvert_exporter": "python",
   "pygments_lexer": "ipython3",
   "version": "3.9.19"
  }
 },
 "nbformat": 4,
 "nbformat_minor": 5
}
