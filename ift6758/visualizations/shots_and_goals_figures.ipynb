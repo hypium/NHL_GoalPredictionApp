{
 "cells": [
  {
   "cell_type": "code",
   "execution_count": 37,
   "metadata": {},
   "outputs": [
    {
     "data": {
      "text/plain": [
       "<module 'shots_data_retriever' from 'c:\\\\Users\\\\Dell.DESKTOP-4AU2O53\\\\Documents\\\\UdeM\\\\IFT 6758\\\\Projet\\\\ift6758\\\\visualizations\\\\shots_data_retriever.py'>"
      ]
     },
     "execution_count": 37,
     "metadata": {},
     "output_type": "execute_result"
    }
   ],
   "source": [
    "import shots_data_retriever\n",
    "import importlib\n",
    "\n",
    "importlib.reload(shots_data_retriever)"
   ]
  },
  {
   "cell_type": "code",
   "execution_count": 38,
   "metadata": {},
   "outputs": [
    {
     "name": "stdout",
     "output_type": "stream",
     "text": [
      "       period time_in  is_goal  x_coord  y_coord shot_type  is_empty_net  \\\n",
      "0           1   01:11        0     77.0      5.0     wrist             0   \n",
      "1           1   02:53        0     86.0     13.0     wrist             0   \n",
      "2           1   04:01        0     23.0    -38.0     wrist             0   \n",
      "3           1   04:46        0     33.0    -15.0      slap             0   \n",
      "4           1   06:46        0     34.0     28.0     wrist             0   \n",
      "...       ...     ...      ...      ...      ...       ...           ...   \n",
      "68495       3   16:45        0     77.0    -23.0  backhand             0   \n",
      "68496       3   17:20        0     76.0     38.0      slap             0   \n",
      "68497       3   17:22        0     79.0     10.0  backhand             0   \n",
      "68498       3   18:50        0     81.0     -7.0      snap             0   \n",
      "68499       3   19:39        0     67.0    -14.0      snap             0   \n",
      "\n",
      "        distance  angle_to_goal  time_in_seconds  game_seconds  \n",
      "0      13.928388      21.037511               71            71  \n",
      "1      13.601471      72.897271              173           173  \n",
      "2      77.025970     -29.560354              241           241  \n",
      "3      58.940648     -14.743563              286           286  \n",
      "4      62.609903      26.565051              406           406  \n",
      "...          ...            ...              ...           ...  \n",
      "68495  26.419690     -60.524111             1005          3405  \n",
      "68496  40.496913      69.775141             1040          3440  \n",
      "68497  14.866069      42.273689             1042          3442  \n",
      "68498  11.401754     -37.874984             1130          3530  \n",
      "68499  26.925824     -31.328693             1179          3579  \n",
      "\n",
      "[305814 rows x 11 columns]\n"
     ]
    }
   ],
   "source": [
    "shotsDataRetriever = shots_data_retriever.ShotsDataRetriever()\n",
    "\n",
    "df = shotsDataRetriever.get_df_for_milestone2_part4()\n",
    "\n",
    "print(df)"
   ]
  },
  {
   "cell_type": "code",
   "execution_count": null,
   "metadata": {},
   "outputs": [
    {
     "name": "stdout",
     "output_type": "stream",
     "text": [
      "int64\n",
      "[1 2 3 4 5]\n",
      "       period time_in  is_goal  x_coord  y_coord shot_type  is_empty_net  \\\n",
      "67          4   00:37        1     49.0      5.0      snap             0   \n",
      "428         4   00:24        0     66.0    -11.0     wrist             0   \n",
      "429         4   00:51        0     81.0     -7.0     wrist             0   \n",
      "430         4   01:30        0     79.0     10.0     wrist             0   \n",
      "431         4   01:39        0     73.0     -7.0     wrist             0   \n",
      "...       ...     ...      ...      ...      ...       ...           ...   \n",
      "68171       5   00:00        1     70.0     -6.0     wrist             0   \n",
      "68172       5   00:00        0     78.0      5.0  backhand             0   \n",
      "68173       5   00:00        0     66.0      0.0      snap             0   \n",
      "68433       4   01:02        0     63.0     -9.0     wrist             0   \n",
      "68434       4   02:50        1     72.0     -3.0    tip-in             0   \n",
      "\n",
      "        distance  angle_to_goal  time_in_seconds  game_seconds  \n",
      "67     41.303753       6.952957               37          3637  \n",
      "428    26.400758     -24.623565               24          3624  \n",
      "429    11.401754     -37.874984               51          3651  \n",
      "430    14.866069      42.273689               90          3690  \n",
      "431    18.384776     -22.380135               99          3699  \n",
      "...          ...            ...              ...           ...  \n",
      "68171  20.880613     -16.699244                0          4800  \n",
      "68172  13.000000      22.619865                0          4800  \n",
      "68173  24.000000       0.000000                0          4800  \n",
      "68433  28.460499     -18.434949               62          3662  \n",
      "68434  18.248288      -9.462322              170          3770  \n",
      "\n",
      "[6900 rows x 11 columns]\n"
     ]
    }
   ],
   "source": [
    "print(df['time_in_seconds'].dtype)\n",
    "print(df['period'].unique())\n",
    "print(df[df['period'].isin([4,5])])"
   ]
  }
 ],
 "metadata": {
  "kernelspec": {
   "display_name": "ift6758-projet",
   "language": "python",
   "name": "python3"
  },
  "language_info": {
   "codemirror_mode": {
    "name": "ipython",
    "version": 3
   },
   "file_extension": ".py",
   "mimetype": "text/x-python",
   "name": "python",
   "nbconvert_exporter": "python",
   "pygments_lexer": "ipython3",
   "version": "3.9.19"
  }
 },
 "nbformat": 4,
 "nbformat_minor": 2
}
