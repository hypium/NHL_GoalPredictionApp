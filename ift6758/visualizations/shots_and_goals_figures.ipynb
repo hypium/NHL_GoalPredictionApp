{
 "cells": [
  {
   "cell_type": "code",
   "execution_count": 43,
   "metadata": {},
   "outputs": [
    {
     "data": {
      "text/plain": [
       "<module 'shots_data_retriever' from 'c:\\\\Users\\\\Dell.DESKTOP-4AU2O53\\\\Documents\\\\UdeM\\\\IFT 6758\\\\Projet\\\\ift6758\\\\visualizations\\\\shots_data_retriever.py'>"
      ]
     },
     "execution_count": 43,
     "metadata": {},
     "output_type": "execute_result"
    }
   ],
   "source": [
    "import shots_data_retriever\n",
    "import importlib\n",
    "\n",
    "importlib.reload(shots_data_retriever)"
   ]
  },
  {
   "cell_type": "code",
   "execution_count": 44,
   "metadata": {},
   "outputs": [],
   "source": [
    "shotsDataRetriever = shots_data_retriever.ShotsDataRetriever()\n"
   ]
  },
  {
   "cell_type": "code",
   "execution_count": null,
   "metadata": {},
   "outputs": [
    {
     "ename": "AttributeError",
     "evalue": "'ShotsDataRetriever' object has no attribute 'get_df_for_milestone2_part4'",
     "output_type": "error",
     "traceback": [
      "\u001b[1;31m---------------------------------------------------------------------------\u001b[0m",
      "\u001b[1;31mAttributeError\u001b[0m                            Traceback (most recent call last)",
      "Cell \u001b[1;32mIn[45], line 1\u001b[0m\n\u001b[1;32m----> 1\u001b[0m df \u001b[38;5;241m=\u001b[39m \u001b[43mshotsDataRetriever\u001b[49m\u001b[38;5;241;43m.\u001b[39;49m\u001b[43mget_df_for_milestone2_part4\u001b[49m()\n\u001b[0;32m      2\u001b[0m df\n",
      "\u001b[1;31mAttributeError\u001b[0m: 'ShotsDataRetriever' object has no attribute 'get_df_for_milestone2_part4'"
     ]
    }
   ],
   "source": [
    "df = shotsDataRetriever.get_df_for_milestone2_part4()\n",
    "df"
   ]
  }
 ],
 "metadata": {
  "kernelspec": {
   "display_name": "ift6758-projet",
   "language": "python",
   "name": "python3"
  },
  "language_info": {
   "codemirror_mode": {
    "name": "ipython",
    "version": 3
   },
   "file_extension": ".py",
   "mimetype": "text/x-python",
   "name": "python",
   "nbconvert_exporter": "python",
   "pygments_lexer": "ipython3",
   "version": "3.9.19"
  }
 },
 "nbformat": 4,
 "nbformat_minor": 2
}
