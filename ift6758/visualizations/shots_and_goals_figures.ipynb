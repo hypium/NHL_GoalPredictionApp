{
 "cells": [
  {
   "cell_type": "code",
   "execution_count": null,
   "metadata": {},
   "outputs": [
    {
     "data": {
      "text/plain": [
       "<module 'shots_data_retriever' from 'c:\\\\Users\\\\Dell.DESKTOP-4AU2O53\\\\Documents\\\\UdeM\\\\IFT 6758\\\\Projet\\\\ift6758\\\\visualizations\\\\shots_data_retriever.py'>"
      ]
     },
     "execution_count": 2,
     "metadata": {},
     "output_type": "execute_result"
    }
   ],
   "source": [
    "import shots_data_retriever\n",
    "import importlib\n",
    "\n",
    "importlib.reload(shots_data_retriever)"
   ]
  },
  {
   "cell_type": "code",
   "execution_count": null,
   "metadata": {},
   "outputs": [
    {
     "name": "stdout",
     "output_type": "stream",
     "text": [
      "       is_goal  is_empty_net   distance  angle_to_goal\n",
      "0            0             0  13.928388      21.037511\n",
      "1            0             0  13.601471      72.897271\n",
      "2            0             0  77.025970     -29.560354\n",
      "3            0             0  58.940648     -14.743563\n",
      "4            0             0  62.609903      26.565051\n",
      "...        ...           ...        ...            ...\n",
      "68495        0             0  26.419690     -60.524111\n",
      "68496        0             0  40.496913      69.775141\n",
      "68497        0             0  14.866069      42.273689\n",
      "68498        0             0  11.401754     -37.874984\n",
      "68499        0             0  26.925824     -31.328693\n",
      "\n",
      "[305814 rows x 4 columns]\n"
     ]
    }
   ],
   "source": [
    "shotsDataRetriever = shots_data_retriever.ShotsDataRetriever()\n",
    "\n",
    "df = shotsDataRetriever.get_df_for_milestone2_part2()\n",
    "\n",
    "print(df)"
   ]
  }
 ],
 "metadata": {
  "kernelspec": {
   "display_name": "ift6758-projet",
   "language": "python",
   "name": "python3"
  },
  "language_info": {
   "codemirror_mode": {
    "name": "ipython",
    "version": 3
   },
   "file_extension": ".py",
   "mimetype": "text/x-python",
   "name": "python",
   "nbconvert_exporter": "python",
   "pygments_lexer": "ipython3",
   "version": "3.9.19"
  }
 },
 "nbformat": 4,
 "nbformat_minor": 2
}
