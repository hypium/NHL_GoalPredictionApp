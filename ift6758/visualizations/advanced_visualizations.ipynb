{
 "cells": [
  {
   "cell_type": "code",
   "execution_count": 2,
   "metadata": {},
   "outputs": [
    {
     "name": "stderr",
     "output_type": "stream",
     "text": [
      "Retrieving shots data: 100%|██████████| 40/40 [01:36<00:00,  2.41s/it]\n"
     ]
    }
   ],
   "source": [
    "import shots_data_retriever\n",
    "from shots_data_retriever import ShotsDataRetriever\n",
    "import importlib\n",
    "import warnings\n",
    "import pandas as pd\n",
    "\n",
    "# Filter dtype warnings. Column 10 can contain str, int, and float types \n",
    "# which spams a warning in the output\n",
    "warnings.filterwarnings(\"ignore\", category=pd.errors.DtypeWarning)\n",
    "importlib.reload(shots_data_retriever)\n",
    "\n",
    "shotsDataRetriever = ShotsDataRetriever()\n",
    "df = shotsDataRetriever.get_all_shots()"
   ]
  },
  {
   "cell_type": "code",
   "execution_count": 3,
   "metadata": {},
   "outputs": [
    {
     "name": "stdout",
     "output_type": "stream",
     "text": [
      "Index(['game_id', 'period', 'time_in', 'time_remaining', 'team_id', 'is_goal',\n",
      "       'x_coord', 'y_coord', 'shooter_name', 'goalie_name', 'shot_type',\n",
      "       'is_empty_net', 'situation_type'],\n",
      "      dtype='object')\n"
     ]
    }
   ],
   "source": [
    "print(df.columns)"
   ]
  },
  {
   "cell_type": "code",
   "execution_count": 4,
   "metadata": {},
   "outputs": [],
   "source": [
    "# Average shot rate\n",
    "single_game_time = 1 # in hours, assumption from google doc\n",
    "total_games = df['game_id'].nunique()\n",
    "total_game_time = single_game_time * total_games\n",
    "shot_location_league = df.groupby(['x_coord', 'y_coord']).size().reset_index(name='shot_count')\n",
    "shot_location_league['shot_rate'] = shot_location_league['shot_count'] / total_game_time\n",
    "# shot_location_league.to_csv('test_league.csv', index=False)"
   ]
  },
  {
   "cell_type": "code",
   "execution_count": 5,
   "metadata": {},
   "outputs": [],
   "source": [
    "# Shot rate by team\n",
    "total_game_time_per_team = df.groupby('team_id')['game_id'].nunique().reset_index(name='time_played')\n",
    "shot_location_group = df.groupby(['team_id', 'x_coord', 'y_coord']).size().reset_index(name='shot_count')\n",
    "shot_location_group = pd.merge(shot_location_group, total_game_time_per_team, on='team_id', how='left')\n",
    "shot_location_group['shot_rate'] = shot_location_group['shot_count'] / shot_location_group['time_played']\n",
    "# shot_location_group.to_csv('test_team.csv', index=False)"
   ]
  },
  {
   "cell_type": "code",
   "execution_count": 76,
   "metadata": {},
   "outputs": [
    {
     "name": "stdout",
     "output_type": "stream",
     "text": [
      "        team_id  x_coord  y_coord  shot_rate  shot_rate_league\n",
      "0             1      0.0    -26.0   0.001577          0.000293\n",
      "1             1      0.0    -18.0   0.001577          0.000391\n",
      "2             1      0.0      2.0   0.001577          0.000781\n",
      "3             1      0.0      3.0   0.001577          0.000976\n",
      "4             1      0.0     11.0   0.001577          0.000098\n",
      "...         ...      ...      ...        ...               ...\n",
      "145439       30     97.0     22.0   0.001548          0.000488\n",
      "145440       30     97.0     23.0   0.001548          0.000195\n",
      "145441       30     98.0    -20.0   0.001548          0.000195\n",
      "145442       30     99.0     -0.0   0.001548          0.000098\n",
      "145443       30     99.0     11.0   0.001548          0.000293\n",
      "\n",
      "[145444 rows x 5 columns]\n"
     ]
    }
   ],
   "source": [
    "# Difference from league average\n",
    "full_df = pd.DataFrame()\n",
    "d = pd.DataFrame()\n",
    "d['team_id'] = shot_location_group['team_id']\n",
    "d['x_coord'] = shot_location_group['x_coord']\n",
    "d['y_coord'] = shot_location_group['y_coord']\n",
    "\n",
    "d = d.groupby('team_id')\n",
    "for g in d:\n",
    "    team_id = g[1]['team_id'].iloc[0]\n",
    "    x_coord = g[1]['x_coord'].iloc[0]\n",
    "    y_coord = g[1]['y_coord'].iloc[0]\n",
    "    merge_df = pd.merge(\n",
    "        shot_location_group,\n",
    "        shot_location_league[['x_coord', 'y_coord', 'shot_rate']].rename(columns={'shot_rate': 'shot_rate_league'}),\n",
    "        on=['x_coord', 'y_coord'],\n",
    "        how='left'\n",
    "    )\n",
    "    merge_df = merge_df.drop('shot_rate_league_y', axis=1)\n",
    "    full_df = pd.concat([full_df, shot_location_group[shot_location_group['team_id'] == team_id]])\n",
    "    full_df = pd.merge(full_df, merge_df, how='left')\n",
    "    full_df = full_df.drop('shot_rate_league_x', axis=1)\n",
    "    full_df = full_df.drop('shot_count', axis=1)\n",
    "    full_df = full_df.drop('time_played', axis=1)\n",
    "print(full_df)\n",
    "full_df.to_csv('full_df.csv', index=False)"
   ]
  },
  {
   "cell_type": "code",
   "execution_count": null,
   "metadata": {},
   "outputs": [],
   "source": [
    "# Temporary test\n",
    "\n",
    "import plotly.express as px\n",
    "\n",
    "# Create the shot map\n",
    "fig = px.density_heatmap(team_df, x='x_coord', y='y_coord', z='is_goal', \n",
    "                          title=f'Shot Map for team 15', \n",
    "                          labels={'x_coord': 'X Coordinate', 'y_coord': 'Y Coordinate'},\n",
    "                          color_continuous_scale='Viridis')\n",
    "\n",
    "# Save as HTML\n",
    "fig.write_html('team_shot_map.html')"
   ]
  },
  {
   "cell_type": "code",
   "execution_count": null,
   "metadata": {},
   "outputs": [],
   "source": [
    "# Temporary test\n",
    "\n",
    "import matplotlib.pyplot as plt\n",
    "\n",
    "def plot_shot_map(df, team_name):\n",
    "    # Create a figure and axis\n",
    "    fig, ax = plt.subplots(figsize=(10, 5))\n",
    "\n",
    "    # Create the rink layout (you may need to customize this)\n",
    "    rink_width = 100\n",
    "    rink_height = 85\n",
    "    ax.set_xlim(-rink_width/2, rink_width/2)\n",
    "    ax.set_ylim(-rink_height/2, rink_height/2)\n",
    "\n",
    "    # Plot shot coordinates\n",
    "    shot_x = df['x_coord']\n",
    "    shot_y = df['y_coord']\n",
    "    ax.scatter(shot_x, shot_y, color='red', alpha=0.5, label='Shots')\n",
    "\n",
    "    # Labels and title\n",
    "    ax.set_title(f'Shot Map for {team_name}')\n",
    "    ax.set_xlabel('Width of Rink (ft)')\n",
    "    ax.set_ylabel('Height of Rink (ft)')\n",
    "    ax.legend()\n",
    "    plt.show()\n",
    "\n",
    "# Call the function with your filtered DataFrame and team name\n",
    "plot_shot_map(team_df, \"Team 15\")  # Re"
   ]
  },
  {
   "cell_type": "code",
   "execution_count": null,
   "metadata": {},
   "outputs": [],
   "source": []
  }
 ],
 "metadata": {
  "kernelspec": {
   "display_name": "venv",
   "language": "python",
   "name": "python3"
  },
  "language_info": {
   "codemirror_mode": {
    "name": "ipython",
    "version": 3
   },
   "file_extension": ".py",
   "mimetype": "text/x-python",
   "name": "python",
   "nbconvert_exporter": "python",
   "pygments_lexer": "ipython3",
   "version": "3.11.10"
  }
 },
 "nbformat": 4,
 "nbformat_minor": 2
}
