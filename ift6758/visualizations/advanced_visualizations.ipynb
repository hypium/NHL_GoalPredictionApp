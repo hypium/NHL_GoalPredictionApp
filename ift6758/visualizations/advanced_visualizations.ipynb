{
 "cells": [
  {
   "cell_type": "code",
   "execution_count": 1,
   "metadata": {},
   "outputs": [],
   "source": [
    "import shots_data_retriever\n",
    "from shots_data_retriever import ShotsDataRetriever\n",
    "import importlib\n",
    "import warnings\n",
    "import pandas as pd\n",
    "\n",
    "# Filter dtype warnings. Column 10 can contain str, int, and float types \n",
    "# which spams a warning in the output\n",
    "warnings.filterwarnings(\"ignore\", category=pd.errors.DtypeWarning)\n",
    "importlib.reload(shots_data_retriever)\n",
    "\n",
    "shotsDataRetriever = ShotsDataRetriever()"
   ]
  },
  {
   "cell_type": "code",
   "execution_count": 10,
   "metadata": {},
   "outputs": [],
   "source": [
    "# Average shot rate\n",
    "def get_league_avg_shot_rate_by_coordinate(year: str):\n",
    "    df = shotsDataRetriever.get_season_shots(year)\n",
    "\n",
    "    single_game_time = 1 # in hours, assumption from google doc\n",
    "    total_games = df['game_id'].nunique()\n",
    "    total_game_time = single_game_time * total_games\n",
    "\n",
    "    shot_location = df.groupby(['x_coord', 'y_coord']).size().reset_index(name='shot_count')\n",
    "    shot_location['shot_rate'] = shot_location['shot_count'] / total_game_time\n",
    "\n",
    "    return shot_location"
   ]
  },
  {
   "cell_type": "code",
   "execution_count": 11,
   "metadata": {},
   "outputs": [],
   "source": [
    "# Shot rate by team\n",
    "def get_team_avg_shot_rate_by_coordinate(year: str, team_id: int):\n",
    "    df = shotsDataRetriever.get_season_shots_for_team(year, team_id)\n",
    "\n",
    "    single_game_time = 1 # in hours, assumption from google doc\n",
    "    total_games = df['game_id'].nunique()\n",
    "    total_game_time = single_game_time * total_games\n",
    "\n",
    "    shot_location = df.groupby(['x_coord', 'y_coord']).size().reset_index(name='shot_count')\n",
    "    shot_location['shot_rate'] = shot_location['shot_count'] / total_game_time\n",
    "\n",
    "    return shot_location"
   ]
  },
  {
   "cell_type": "code",
   "execution_count": 39,
   "metadata": {},
   "outputs": [
    {
     "name": "stdout",
     "output_type": "stream",
     "text": [
      "positive: 1895\n",
      "negative: 0\n",
      "      x_coord  y_coord  shot_count  team_shot_rate  league_shot_rate  \\\n",
      "0         0.0    -32.0           1        0.012195          0.000738   \n",
      "1         1.0    -18.0           1        0.012195          0.001476   \n",
      "2         2.0     29.0           1        0.012195          0.001476   \n",
      "3         3.0     -9.0           1        0.012195          0.000738   \n",
      "4         3.0     16.0           1        0.012195          0.000738   \n",
      "...       ...      ...         ...             ...               ...   \n",
      "1890     93.0     18.0           1        0.012195          0.006642   \n",
      "1891     95.0     10.0           1        0.012195          0.003690   \n",
      "1892     95.0     11.0           1        0.012195          0.005904   \n",
      "1893     99.0     -4.0           1        0.012195          0.005166   \n",
      "1894     99.0     10.0           1        0.012195          0.005904   \n",
      "\n",
      "      excess_shot_rate  \n",
      "0             0.011457  \n",
      "1             0.010719  \n",
      "2             0.010719  \n",
      "3             0.011457  \n",
      "4             0.011457  \n",
      "...                ...  \n",
      "1890          0.005553  \n",
      "1891          0.008505  \n",
      "1892          0.006291  \n",
      "1893          0.007029  \n",
      "1894          0.006291  \n",
      "\n",
      "[1895 rows x 6 columns]\n"
     ]
    }
   ],
   "source": [
    "def get_team_excess_shot_rate(year: str, team_id: int):\n",
    "    team_df = get_team_avg_shot_rate_by_coordinate(year, team_id)\n",
    "    league_df = get_league_avg_shot_rate_by_coordinate(year)\n",
    "\n",
    "    result_df = team_df\n",
    "    result_df['team_shot_rate'] = result_df['shot_rate'].copy()\n",
    "    result_df = result_df.drop(columns=['shot_rate'])\n",
    "    result_df['league_shot_rate'] = league_df['shot_rate']\n",
    "    result_df['excess_shot_rate'] = team_df['shot_rate'] - league_df['shot_rate']\n",
    "    \n",
    "    return result_df\n",
    "\n",
    "df = get_team_excess_shot_rate('2017', 16)\n",
    "\n",
    "# Validate the values - about half of the values should be negative\n",
    "print(f\"positive: {df[df['excess_shot_rate'] >= 0]['excess_shot_rate'].count()}\")\n",
    "print(f\"negative: {df[df['excess_shot_rate'] < 0]['excess_shot_rate'].count()}\")\n",
    "\n",
    "print(df)"
   ]
  },
  {
   "cell_type": "code",
   "execution_count": 5,
   "metadata": {},
   "outputs": [],
   "source": [
    "# Difference from league average\n",
    "full_df = pd.DataFrame()\n",
    "temp_df = pd.DataFrame()\n",
    "temp_df['team_id'] = shot_location_group['team_id']\n",
    "temp_df['x_coord'] = shot_location_group['x_coord']\n",
    "temp_df['y_coord'] = shot_location_group['y_coord']\n",
    "\n",
    "temp_df = temp_df.groupby('team_id')\n",
    "for team_group in temp_df:\n",
    "    team_id = team_group[1]['team_id'].iloc[0]\n",
    "    x_coord = team_group[1]['x_coord'].iloc[0]\n",
    "    y_coord = team_group[1]['y_coord'].iloc[0]\n",
    "    merge_df = pd.merge(\n",
    "        shot_location_group,\n",
    "        shot_location_league[['x_coord', 'y_coord', 'shot_rate']].rename(columns={'shot_rate': 'shot_rate_league'}),\n",
    "        on=['x_coord', 'y_coord'],\n",
    "        how='left'\n",
    "    )\n",
    "    full_df = pd.concat([full_df, shot_location_group[shot_location_group['team_id'] == team_id]])\n",
    "    full_df = pd.merge(full_df, merge_df, how='left')\n",
    "    full_df = full_df.drop('shot_count', axis=1)\n",
    "    full_df = full_df.drop('time_played', axis=1)\n",
    "full_df.to_csv('full_df.csv', index=False)"
   ]
  },
  {
   "cell_type": "code",
   "execution_count": 32,
   "metadata": {},
   "outputs": [],
   "source": [
    "import numpy as np\n",
    "import matplotlib.image as mpimg\n",
    "import matplotlib.pyplot as plt\n",
    "from tqdm import tqdm\n",
    "import plotly.graph_objects as go\n",
    "import os\n",
    "from PIL import Image\n",
    "from scipy.ndimage import gaussian_filter"
   ]
  },
  {
   "cell_type": "code",
   "execution_count": 41,
   "metadata": {},
   "outputs": [
    {
     "name": "stderr",
     "output_type": "stream",
     "text": [
      "Drawing plot: 1895it [00:16, 115.30it/s]\n"
     ]
    },
    {
     "data": {
      "image/png": "[encoded data removed]",
      "text/plain": [
       "<Figure size 1000x800 with 1 Axes>"
      ]
     },
     "metadata": {},
     "output_type": "display_data"
    }
   ],
   "source": [
    "# Now that we have a shot map, we want to plot it\n",
    "\n",
    "def plot_shot_map_matplotlib(shot_rate_map: pd.DataFrame):\n",
    "    rink_image = mpimg.imread(\"../../figures/nhl_rink.png\")\n",
    "\n",
    "    plt.figure(figsize=(10, 8))\n",
    "    plt.imshow(rink_image, extent=[-100, 100, -42.5, 42.5], aspect='auto')\n",
    "\n",
    "    for _, row in tqdm(shot_rate_map.iterrows(), desc=\"Drawing plot\"):\n",
    "        x = row['x_coord']\n",
    "        y = row['y_coord']\n",
    "        shot_rate = row['team_shot_rate']\n",
    "        plt.scatter(x, y, s=shot_rate * 500, color='blue', alpha=0.5)  # Adjust y-coordinates\n",
    "\n",
    "    plt.xlim(0, 100)\n",
    "    plt.ylim(-42.5, 42.5)\n",
    "\n",
    "    plt.xlabel('X Coordinate')\n",
    "    plt.ylabel('Y Coordinate')\n",
    "    plt.title('Shot Distribution on NHL Rink')\n",
    "\n",
    "    plt.show()\n",
    "\n",
    "plot_shot_map_matplotlib(df)"
   ]
  },
  {
   "cell_type": "code",
   "execution_count": 46,
   "metadata": {},
   "outputs": [
    {
     "name": "stderr",
     "output_type": "stream",
     "text": [
      "Processing DataFrame: 0it [00:00, ?it/s]"
     ]
    },
    {
     "name": "stderr",
     "output_type": "stream",
     "text": [
      "Processing DataFrame: 1895it [00:03, 528.98it/s]\n"
     ]
    },
    {
     "data": {
      "application/vnd.plotly.v1+json": {
       "config": {
        "plotlyServerURL": "https://plot.ly"
       },
       "data": [
        {
         "marker": {
          "color": "blue",
          "opacity": 0.5,
          "size": 1.2195121951219512
         },
         "mode": "markers",
         "showlegend": false,
         "type": "scatter",
         "x": [
          0
         ],
         "y": [
          -32
         ]
        },
        {
         "marker": {
          "color": "blue",
          "opacity": 0.5,
          "size": 1.2195121951219512
         },
         "mode": "markers",
         "showlegend": false,
         "type": "scatter",
         "x": [
          1
         ],
         "y": [
          -18
         ]
        },
        {
         "marker": {
          "color": "blue",
          "opacity": 0.5,
          "size": 1.2195121951219512
         },
         "mode": "markers",
         "showlegend": false,
         "type": "scatter",
         "x": [
          2
         ],
         "y": [
          29
         ]
        },
        {
         "marker": {
          "color": "blue",
          "opacity": 0.5,
          "size": 1.2195121951219512
         },
         "mode": "markers",
         "showlegend": false,
         "type": "scatter",
         "x": [
          3
         ],
         "y": [
          -9
         ]
        },
        {
         "marker": {
          "color": "blue",
          "opacity": 0.5,
          "size": 1.2195121951219512
         },
         "mode": "markers",
         "showlegend": false,
         "type": "scatter",
         "x": [
          3
         ],
         "y": [
          16
         ]
        },
        {
         "marker": {
          "color": "blue",
          "opacity": 0.5,
          "size": 1.2195121951219512
         },
         "mode": "markers",
         "showlegend": false,
         "type": "scatter",
         "x": [
          4
         ],
         "y": [
          -33
         ]
        },
        {
         "marker": {
          "color": "blue",
          "opacity": 0.5,
          "size": 1.2195121951219512
         },
         "mode": "markers",
         "showlegend": false,
         "type": "scatter",
         "x": [
          4
         ],
         "y": [
          -32
         ]
        },
        {
         "marker": {
          "color": "blue",
          "opacity": 0.5,
          "size": 1.2195121951219512
         },
         "mode": "markers",
         "showlegend": false,
         "type": "scatter",
         "x": [
          5
         ],
         "y": [
          -10
         ]
        },
        {
         "marker": {
          "color": "blue",
          "opacity": 0.5,
          "size": 1.2195121951219512
         },
         "mode": "markers",
         "showlegend": false,
         "type": "scatter",
         "x": [
          5
         ],
         "y": [
          3
         ]
        },
        {
         "marker": {
          "color": "blue",
          "opacity": 0.5,
          "size": 1.2195121951219512
         },
         "mode": "markers",
         "showlegend": false,
         "type": "scatter",
         "x": [
          5
         ],
         "y": [
          26
         ]
        },
        {
         "marker": {
          "color": "blue",
          "opacity": 0.5,
          "size": 1.2195121951219512
         },
         "mode": "markers",
         "showlegend": false,
         "type": "scatter",
         "x": [
          6
         ],
         "y": [
          -33
         ]
        },
        {
         "marker": {
          "color": "blue",
          "opacity": 0.5,
          "size": 1.2195121951219512
         },
         "mode": "markers",
         "showlegend": false,
         "type": "scatter",
         "x": [
          6
         ],
         "y": [
          19
         ]
        },
        {
         "marker": {
          "color": "blue",
          "opacity": 0.5,
          "size": 1.2195121951219512
         },
         "mode": "markers",
         "showlegend": false,
         "type": "scatter",
         "x": [
          7
         ],
         "y": [
          12
         ]
        },
        {
         "marker": {
          "color": "blue",
          "opacity": 0.5,
          "size": 1.2195121951219512
         },
         "mode": "markers",
         "showlegend": false,
         "type": "scatter",
         "x": [
          7
         ],
         "y": [
          21
         ]
        },
        {
         "marker": {
          "color": "blue",
          "opacity": 0.5,
          "size": 1.2195121951219512
         },
         "mode": "markers",
         "showlegend": false,
         "type": "scatter",
         "x": [
          7
         ],
         "y": [
          26
         ]
        },
        {
         "marker": {
          "color": "blue",
          "opacity": 0.5,
          "size": 1.2195121951219512
         },
         "mode": "markers",
         "showlegend": false,
         "type": "scatter",
         "x": [
          7
         ],
         "y": [
          27
         ]
        },
        {
         "marker": {
          "color": "blue",
          "opacity": 0.5,
          "size": 1.2195121951219512
         },
         "mode": "markers",
         "showlegend": false,
         "type": "scatter",
         "x": [
          8
         ],
         "y": [
          -33
         ]
        },
        {
         "marker": {
          "color": "blue",
          "opacity": 0.5,
          "size": 1.2195121951219512
         },
         "mode": "markers",
         "showlegend": false,
         "type": "scatter",
         "x": [
          8
         ],
         "y": [
          32
         ]
        },
        {
         "marker": {
          "color": "blue",
          "opacity": 0.5,
          "size": 1.2195121951219512
         },
         "mode": "markers",
         "showlegend": false,
         "type": "scatter",
         "x": [
          9
         ],
         "y": [
          -21
         ]
        },
        {
         "marker": {
          "color": "blue",
          "opacity": 0.5,
          "size": 1.2195121951219512
         },
         "mode": "markers",
         "showlegend": false,
         "type": "scatter",
         "x": [
          10
         ],
         "y": [
          -23
         ]
        },
        {
         "marker": {
          "color": "blue",
          "opacity": 0.5,
          "size": 1.2195121951219512
         },
         "mode": "markers",
         "showlegend": false,
         "type": "scatter",
         "x": [
          10
         ],
         "y": [
          31
         ]
        },
        {
         "marker": {
          "color": "blue",
          "opacity": 0.5,
          "size": 1.2195121951219512
         },
         "mode": "markers",
         "showlegend": false,
         "type": "scatter",
         "x": [
          11
         ],
         "y": [
          -35
         ]
        },
        {
         "marker": {
          "color": "blue",
          "opacity": 0.5,
          "size": 1.2195121951219512
         },
         "mode": "markers",
         "showlegend": false,
         "type": "scatter",
         "x": [
          11
         ],
         "y": [
          24
         ]
        },
        {
         "marker": {
          "color": "blue",
          "opacity": 0.5,
          "size": 1.2195121951219512
         },
         "mode": "markers",
         "showlegend": false,
         "type": "scatter",
         "x": [
          11
         ],
         "y": [
          34
         ]
        },
        {
         "marker": {
          "color": "blue",
          "opacity": 0.5,
          "size": 1.2195121951219512
         },
         "mode": "markers",
         "showlegend": false,
         "type": "scatter",
         "x": [
          12
         ],
         "y": [
          -9
         ]
        },
        {
         "marker": {
          "color": "blue",
          "opacity": 0.5,
          "size": 1.2195121951219512
         },
         "mode": "markers",
         "showlegend": false,
         "type": "scatter",
         "x": [
          12
         ],
         "y": [
          -5
         ]
        },
        {
         "marker": {
          "color": "blue",
          "opacity": 0.5,
          "size": 1.2195121951219512
         },
         "mode": "markers",
         "showlegend": false,
         "type": "scatter",
         "x": [
          13
         ],
         "y": [
          -24
         ]
        },
        {
         "marker": {
          "color": "blue",
          "opacity": 0.5,
          "size": 1.2195121951219512
         },
         "mode": "markers",
         "showlegend": false,
         "type": "scatter",
         "x": [
          13
         ],
         "y": [
          -19
         ]
        },
        {
         "marker": {
          "color": "blue",
          "opacity": 0.5,
          "size": 1.2195121951219512
         },
         "mode": "markers",
         "showlegend": false,
         "type": "scatter",
         "x": [
          13
         ],
         "y": [
          4
         ]
        },
        {
         "marker": {
          "color": "blue",
          "opacity": 0.5,
          "size": 1.2195121951219512
         },
         "mode": "markers",
         "showlegend": false,
         "type": "scatter",
         "x": [
          13
         ],
         "y": [
          24
         ]
        },
        {
         "marker": {
          "color": "blue",
          "opacity": 0.5,
          "size": 1.2195121951219512
         },
         "mode": "markers",
         "showlegend": false,
         "type": "scatter",
         "x": [
          13
         ],
         "y": [
          31
         ]
        },
        {
         "marker": {
          "color": "blue",
          "opacity": 0.5,
          "size": 1.2195121951219512
         },
         "mode": "markers",
         "showlegend": false,
         "type": "scatter",
         "x": [
          14
         ],
         "y": [
          -12
         ]
        },
        {
         "marker": {
          "color": "blue",
          "opacity": 0.5,
          "size": 1.2195121951219512
         },
         "mode": "markers",
         "showlegend": false,
         "type": "scatter",
         "x": [
          14
         ],
         "y": [
          -3
         ]
        },
        {
         "marker": {
          "color": "blue",
          "opacity": 0.5,
          "size": 1.2195121951219512
         },
         "mode": "markers",
         "showlegend": false,
         "type": "scatter",
         "x": [
          14
         ],
         "y": [
          23
         ]
        },
        {
         "marker": {
          "color": "blue",
          "opacity": 0.5,
          "size": 1.2195121951219512
         },
         "mode": "markers",
         "showlegend": false,
         "type": "scatter",
         "x": [
          16
         ],
         "y": [
          -13
         ]
        },
        {
         "marker": {
          "color": "blue",
          "opacity": 0.5,
          "size": 1.2195121951219512
         },
         "mode": "markers",
         "showlegend": false,
         "type": "scatter",
         "x": [
          16
         ],
         "y": [
          3
         ]
        },
        {
         "marker": {
          "color": "blue",
          "opacity": 0.5,
          "size": 1.2195121951219512
         },
         "mode": "markers",
         "showlegend": false,
         "type": "scatter",
         "x": [
          16
         ],
         "y": [
          23
         ]
        },
        {
         "marker": {
          "color": "blue",
          "opacity": 0.5,
          "size": 1.2195121951219512
         },
         "mode": "markers",
         "showlegend": false,
         "type": "scatter",
         "x": [
          17
         ],
         "y": [
          -35
         ]
        },
        {
         "marker": {
          "color": "blue",
          "opacity": 0.5,
          "size": 1.2195121951219512
         },
         "mode": "markers",
         "showlegend": false,
         "type": "scatter",
         "x": [
          17
         ],
         "y": [
          -23
         ]
        },
        {
         "marker": {
          "color": "blue",
          "opacity": 0.5,
          "size": 1.2195121951219512
         },
         "mode": "markers",
         "showlegend": false,
         "type": "scatter",
         "x": [
          17
         ],
         "y": [
          -8
         ]
        },
        {
         "marker": {
          "color": "blue",
          "opacity": 0.5,
          "size": 1.2195121951219512
         },
         "mode": "markers",
         "showlegend": false,
         "type": "scatter",
         "x": [
          17
         ],
         "y": [
          -5
         ]
        },
        {
         "marker": {
          "color": "blue",
          "opacity": 0.5,
          "size": 1.2195121951219512
         },
         "mode": "markers",
         "showlegend": false,
         "type": "scatter",
         "x": [
          17
         ],
         "y": [
          1
         ]
        },
        {
         "marker": {
          "color": "blue",
          "opacity": 0.5,
          "size": 1.2195121951219512
         },
         "mode": "markers",
         "showlegend": false,
         "type": "scatter",
         "x": [
          18
         ],
         "y": [
          -27
         ]
        },
        {
         "marker": {
          "color": "blue",
          "opacity": 0.5,
          "size": 1.2195121951219512
         },
         "mode": "markers",
         "showlegend": false,
         "type": "scatter",
         "x": [
          18
         ],
         "y": [
          7
         ]
        },
        {
         "marker": {
          "color": "blue",
          "opacity": 0.5,
          "size": 1.2195121951219512
         },
         "mode": "markers",
         "showlegend": false,
         "type": "scatter",
         "x": [
          18
         ],
         "y": [
          33
         ]
        },
        {
         "marker": {
          "color": "blue",
          "opacity": 0.5,
          "size": 1.2195121951219512
         },
         "mode": "markers",
         "showlegend": false,
         "type": "scatter",
         "x": [
          19
         ],
         "y": [
          37
         ]
        },
        {
         "marker": {
          "color": "blue",
          "opacity": 0.5,
          "size": 1.2195121951219512
         },
         "mode": "markers",
         "showlegend": false,
         "type": "scatter",
         "x": [
          20
         ],
         "y": [
          -28
         ]
        },
        {
         "marker": {
          "color": "blue",
          "opacity": 0.5,
          "size": 1.2195121951219512
         },
         "mode": "markers",
         "showlegend": false,
         "type": "scatter",
         "x": [
          20
         ],
         "y": [
          -3
         ]
        },
        {
         "marker": {
          "color": "blue",
          "opacity": 0.5,
          "size": 1.2195121951219512
         },
         "mode": "markers",
         "showlegend": false,
         "type": "scatter",
         "x": [
          21
         ],
         "y": [
          -31
         ]
        },
        {
         "marker": {
          "color": "blue",
          "opacity": 0.5,
          "size": 1.2195121951219512
         },
         "mode": "markers",
         "showlegend": false,
         "type": "scatter",
         "x": [
          21
         ],
         "y": [
          -25
         ]
        },
        {
         "marker": {
          "color": "blue",
          "opacity": 0.5,
          "size": 1.2195121951219512
         },
         "mode": "markers",
         "showlegend": false,
         "type": "scatter",
         "x": [
          21
         ],
         "y": [
          -14
         ]
        },
        {
         "marker": {
          "color": "blue",
          "opacity": 0.5,
          "size": 1.2195121951219512
         },
         "mode": "markers",
         "showlegend": false,
         "type": "scatter",
         "x": [
          21
         ],
         "y": [
          -4
         ]
        },
        {
         "marker": {
          "color": "blue",
          "opacity": 0.5,
          "size": 1.2195121951219512
         },
         "mode": "markers",
         "showlegend": false,
         "type": "scatter",
         "x": [
          22
         ],
         "y": [
          -6
         ]
        },
        {
         "marker": {
          "color": "blue",
          "opacity": 0.5,
          "size": 1.2195121951219512
         },
         "mode": "markers",
         "showlegend": false,
         "type": "scatter",
         "x": [
          22
         ],
         "y": [
          13
         ]
        },
        {
         "marker": {
          "color": "blue",
          "opacity": 0.5,
          "size": 1.2195121951219512
         },
         "mode": "markers",
         "showlegend": false,
         "type": "scatter",
         "x": [
          22
         ],
         "y": [
          31
         ]
        },
        {
         "marker": {
          "color": "blue",
          "opacity": 0.5,
          "size": 1.2195121951219512
         },
         "mode": "markers",
         "showlegend": false,
         "type": "scatter",
         "x": [
          22
         ],
         "y": [
          36
         ]
        },
        {
         "marker": {
          "color": "blue",
          "opacity": 0.5,
          "size": 1.2195121951219512
         },
         "mode": "markers",
         "showlegend": false,
         "type": "scatter",
         "x": [
          23
         ],
         "y": [
          4
         ]
        },
        {
         "marker": {
          "color": "blue",
          "opacity": 0.5,
          "size": 1.2195121951219512
         },
         "mode": "markers",
         "showlegend": false,
         "type": "scatter",
         "x": [
          23
         ],
         "y": [
          26
         ]
        },
        {
         "marker": {
          "color": "blue",
          "opacity": 0.5,
          "size": 1.2195121951219512
         },
         "mode": "markers",
         "showlegend": false,
         "type": "scatter",
         "x": [
          23
         ],
         "y": [
          29
         ]
        },
        {
         "marker": {
          "color": "blue",
          "opacity": 0.5,
          "size": 1.2195121951219512
         },
         "mode": "markers",
         "showlegend": false,
         "type": "scatter",
         "x": [
          24
         ],
         "y": [
          -5
         ]
        },
        {
         "marker": {
          "color": "blue",
          "opacity": 0.5,
          "size": 1.2195121951219512
         },
         "mode": "markers",
         "showlegend": false,
         "type": "scatter",
         "x": [
          24
         ],
         "y": [
          0
         ]
        },
        {
         "marker": {
          "color": "blue",
          "opacity": 0.5,
          "size": 1.2195121951219512
         },
         "mode": "markers",
         "showlegend": false,
         "type": "scatter",
         "x": [
          25
         ],
         "y": [
          1
         ]
        },
        {
         "marker": {
          "color": "blue",
          "opacity": 0.5,
          "size": 1.2195121951219512
         },
         "mode": "markers",
         "showlegend": false,
         "type": "scatter",
         "x": [
          25
         ],
         "y": [
          8
         ]
        },
        {
         "marker": {
          "color": "blue",
          "opacity": 0.5,
          "size": 1.2195121951219512
         },
         "mode": "markers",
         "showlegend": false,
         "type": "scatter",
         "x": [
          26
         ],
         "y": [
          -11
         ]
        },
        {
         "marker": {
          "color": "blue",
          "opacity": 0.5,
          "size": 1.2195121951219512
         },
         "mode": "markers",
         "showlegend": false,
         "type": "scatter",
         "x": [
          26
         ],
         "y": [
          -5
         ]
        },
        {
         "marker": {
          "color": "blue",
          "opacity": 0.5,
          "size": 1.2195121951219512
         },
         "mode": "markers",
         "showlegend": false,
         "type": "scatter",
         "x": [
          26
         ],
         "y": [
          7
         ]
        },
        {
         "marker": {
          "color": "blue",
          "opacity": 0.5,
          "size": 1.2195121951219512
         },
         "mode": "markers",
         "showlegend": false,
         "type": "scatter",
         "x": [
          28
         ],
         "y": [
          -16
         ]
        },
        {
         "marker": {
          "color": "blue",
          "opacity": 0.5,
          "size": 1.2195121951219512
         },
         "mode": "markers",
         "showlegend": false,
         "type": "scatter",
         "x": [
          28
         ],
         "y": [
          7
         ]
        },
        {
         "marker": {
          "color": "blue",
          "opacity": 0.5,
          "size": 1.2195121951219512
         },
         "mode": "markers",
         "showlegend": false,
         "type": "scatter",
         "x": [
          28
         ],
         "y": [
          31
         ]
        },
        {
         "marker": {
          "color": "blue",
          "opacity": 0.5,
          "size": 1.2195121951219512
         },
         "mode": "markers",
         "showlegend": false,
         "type": "scatter",
         "x": [
          29
         ],
         "y": [
          -25
         ]
        },
        {
         "marker": {
          "color": "blue",
          "opacity": 0.5,
          "size": 1.2195121951219512
         },
         "mode": "markers",
         "showlegend": false,
         "type": "scatter",
         "x": [
          29
         ],
         "y": [
          -23
         ]
        },
        {
         "marker": {
          "color": "blue",
          "opacity": 0.5,
          "size": 1.2195121951219512
         },
         "mode": "markers",
         "showlegend": false,
         "type": "scatter",
         "x": [
          29
         ],
         "y": [
          10
         ]
        },
        {
         "marker": {
          "color": "blue",
          "opacity": 0.5,
          "size": 1.2195121951219512
         },
         "mode": "markers",
         "showlegend": false,
         "type": "scatter",
         "x": [
          29
         ],
         "y": [
          34
         ]
        },
        {
         "marker": {
          "color": "blue",
          "opacity": 0.5,
          "size": 1.2195121951219512
         },
         "mode": "markers",
         "showlegend": false,
         "type": "scatter",
         "x": [
          30
         ],
         "y": [
          -36
         ]
        },
        {
         "marker": {
          "color": "blue",
          "opacity": 0.5,
          "size": 1.2195121951219512
         },
         "mode": "markers",
         "showlegend": false,
         "type": "scatter",
         "x": [
          30
         ],
         "y": [
          -28
         ]
        },
        {
         "marker": {
          "color": "blue",
          "opacity": 0.5,
          "size": 1.2195121951219512
         },
         "mode": "markers",
         "showlegend": false,
         "type": "scatter",
         "x": [
          30
         ],
         "y": [
          -24
         ]
        },
        {
         "marker": {
          "color": "blue",
          "opacity": 0.5,
          "size": 1.2195121951219512
         },
         "mode": "markers",
         "showlegend": false,
         "type": "scatter",
         "x": [
          30
         ],
         "y": [
          0
         ]
        },
        {
         "marker": {
          "color": "blue",
          "opacity": 0.5,
          "size": 1.2195121951219512
         },
         "mode": "markers",
         "showlegend": false,
         "type": "scatter",
         "x": [
          30
         ],
         "y": [
          19
         ]
        },
        {
         "marker": {
          "color": "blue",
          "opacity": 0.5,
          "size": 1.2195121951219512
         },
         "mode": "markers",
         "showlegend": false,
         "type": "scatter",
         "x": [
          30
         ],
         "y": [
          24
         ]
        },
        {
         "marker": {
          "color": "blue",
          "opacity": 0.5,
          "size": 1.2195121951219512
         },
         "mode": "markers",
         "showlegend": false,
         "type": "scatter",
         "x": [
          30
         ],
         "y": [
          38
         ]
        },
        {
         "marker": {
          "color": "blue",
          "opacity": 0.5,
          "size": 1.2195121951219512
         },
         "mode": "markers",
         "showlegend": false,
         "type": "scatter",
         "x": [
          31
         ],
         "y": [
          -24
         ]
        },
        {
         "marker": {
          "color": "blue",
          "opacity": 0.5,
          "size": 1.2195121951219512
         },
         "mode": "markers",
         "showlegend": false,
         "type": "scatter",
         "x": [
          31
         ],
         "y": [
          -23
         ]
        },
        {
         "marker": {
          "color": "blue",
          "opacity": 0.5,
          "size": 1.2195121951219512
         },
         "mode": "markers",
         "showlegend": false,
         "type": "scatter",
         "x": [
          31
         ],
         "y": [
          -20
         ]
        },
        {
         "marker": {
          "color": "blue",
          "opacity": 0.5,
          "size": 1.2195121951219512
         },
         "mode": "markers",
         "showlegend": false,
         "type": "scatter",
         "x": [
          31
         ],
         "y": [
          -19
         ]
        },
        {
         "marker": {
          "color": "blue",
          "opacity": 0.5,
          "size": 1.2195121951219512
         },
         "mode": "markers",
         "showlegend": false,
         "type": "scatter",
         "x": [
          31
         ],
         "y": [
          -14
         ]
        },
        {
         "marker": {
          "color": "blue",
          "opacity": 0.5,
          "size": 1.2195121951219512
         },
         "mode": "markers",
         "showlegend": false,
         "type": "scatter",
         "x": [
          31
         ],
         "y": [
          -2
         ]
        },
        {
         "marker": {
          "color": "blue",
          "opacity": 0.5,
          "size": 1.2195121951219512
         },
         "mode": "markers",
         "showlegend": false,
         "type": "scatter",
         "x": [
          31
         ],
         "y": [
          -1
         ]
        },
        {
         "marker": {
          "color": "blue",
          "opacity": 0.5,
          "size": 1.2195121951219512
         },
         "mode": "markers",
         "showlegend": false,
         "type": "scatter",
         "x": [
          31
         ],
         "y": [
          13
         ]
        },
        {
         "marker": {
          "color": "blue",
          "opacity": 0.5,
          "size": 1.2195121951219512
         },
         "mode": "markers",
         "showlegend": false,
         "type": "scatter",
         "x": [
          31
         ],
         "y": [
          29
         ]
        },
        {
         "marker": {
          "color": "blue",
          "opacity": 0.5,
          "size": 1.2195121951219512
         },
         "mode": "markers",
         "showlegend": false,
         "type": "scatter",
         "x": [
          32
         ],
         "y": [
          -36
         ]
        },
        {
         "marker": {
          "color": "blue",
          "opacity": 0.5,
          "size": 1.2195121951219512
         },
         "mode": "markers",
         "showlegend": false,
         "type": "scatter",
         "x": [
          32
         ],
         "y": [
          -29
         ]
        },
        {
         "marker": {
          "color": "blue",
          "opacity": 0.5,
          "size": 1.2195121951219512
         },
         "mode": "markers",
         "showlegend": false,
         "type": "scatter",
         "x": [
          32
         ],
         "y": [
          -28
         ]
        },
        {
         "marker": {
          "color": "blue",
          "opacity": 0.5,
          "size": 1.2195121951219512
         },
         "mode": "markers",
         "showlegend": false,
         "type": "scatter",
         "x": [
          32
         ],
         "y": [
          -25
         ]
        },
        {
         "marker": {
          "color": "blue",
          "opacity": 0.5,
          "size": 1.2195121951219512
         },
         "mode": "markers",
         "showlegend": false,
         "type": "scatter",
         "x": [
          32
         ],
         "y": [
          -21
         ]
        },
        {
         "marker": {
          "color": "blue",
          "opacity": 0.5,
          "size": 1.2195121951219512
         },
         "mode": "markers",
         "showlegend": false,
         "type": "scatter",
         "x": [
          32
         ],
         "y": [
          -10
         ]
        },
        {
         "marker": {
          "color": "blue",
          "opacity": 0.5,
          "size": 1.2195121951219512
         },
         "mode": "markers",
         "showlegend": false,
         "type": "scatter",
         "x": [
          32
         ],
         "y": [
          -5
         ]
        },
        {
         "marker": {
          "color": "blue",
          "opacity": 0.5,
          "size": 1.2195121951219512
         },
         "mode": "markers",
         "showlegend": false,
         "type": "scatter",
         "x": [
          32
         ],
         "y": [
          -4
         ]
        },
        {
         "marker": {
          "color": "blue",
          "opacity": 0.5,
          "size": 1.2195121951219512
         },
         "mode": "markers",
         "showlegend": false,
         "type": "scatter",
         "x": [
          32
         ],
         "y": [
          -1
         ]
        },
        {
         "marker": {
          "color": "blue",
          "opacity": 0.5,
          "size": 3.6585365853658534
         },
         "mode": "markers",
         "showlegend": false,
         "type": "scatter",
         "x": [
          32
         ],
         "y": [
          3
         ]
        },
        {
         "marker": {
          "color": "blue",
          "opacity": 0.5,
          "size": 1.2195121951219512
         },
         "mode": "markers",
         "showlegend": false,
         "type": "scatter",
         "x": [
          32
         ],
         "y": [
          10
         ]
        },
        {
         "marker": {
          "color": "blue",
          "opacity": 0.5,
          "size": 2.4390243902439024
         },
         "mode": "markers",
         "showlegend": false,
         "type": "scatter",
         "x": [
          32
         ],
         "y": [
          27
         ]
        },
        {
         "marker": {
          "color": "blue",
          "opacity": 0.5,
          "size": 2.4390243902439024
         },
         "mode": "markers",
         "showlegend": false,
         "type": "scatter",
         "x": [
          32
         ],
         "y": [
          29
         ]
        },
        {
         "marker": {
          "color": "blue",
          "opacity": 0.5,
          "size": 1.2195121951219512
         },
         "mode": "markers",
         "showlegend": false,
         "type": "scatter",
         "x": [
          32
         ],
         "y": [
          31
         ]
        },
        {
         "marker": {
          "color": "blue",
          "opacity": 0.5,
          "size": 1.2195121951219512
         },
         "mode": "markers",
         "showlegend": false,
         "type": "scatter",
         "x": [
          32
         ],
         "y": [
          34
         ]
        },
        {
         "marker": {
          "color": "blue",
          "opacity": 0.5,
          "size": 1.2195121951219512
         },
         "mode": "markers",
         "showlegend": false,
         "type": "scatter",
         "x": [
          32
         ],
         "y": [
          35
         ]
        },
        {
         "marker": {
          "color": "blue",
          "opacity": 0.5,
          "size": 1.2195121951219512
         },
         "mode": "markers",
         "showlegend": false,
         "type": "scatter",
         "x": [
          32
         ],
         "y": [
          37
         ]
        },
        {
         "marker": {
          "color": "blue",
          "opacity": 0.5,
          "size": 1.2195121951219512
         },
         "mode": "markers",
         "showlegend": false,
         "type": "scatter",
         "x": [
          33
         ],
         "y": [
          -31
         ]
        },
        {
         "marker": {
          "color": "blue",
          "opacity": 0.5,
          "size": 2.4390243902439024
         },
         "mode": "markers",
         "showlegend": false,
         "type": "scatter",
         "x": [
          33
         ],
         "y": [
          -25
         ]
        },
        {
         "marker": {
          "color": "blue",
          "opacity": 0.5,
          "size": 1.2195121951219512
         },
         "mode": "markers",
         "showlegend": false,
         "type": "scatter",
         "x": [
          33
         ],
         "y": [
          -23
         ]
        },
        {
         "marker": {
          "color": "blue",
          "opacity": 0.5,
          "size": 1.2195121951219512
         },
         "mode": "markers",
         "showlegend": false,
         "type": "scatter",
         "x": [
          33
         ],
         "y": [
          -21
         ]
        },
        {
         "marker": {
          "color": "blue",
          "opacity": 0.5,
          "size": 1.2195121951219512
         },
         "mode": "markers",
         "showlegend": false,
         "type": "scatter",
         "x": [
          33
         ],
         "y": [
          -20
         ]
        },
        {
         "marker": {
          "color": "blue",
          "opacity": 0.5,
          "size": 1.2195121951219512
         },
         "mode": "markers",
         "showlegend": false,
         "type": "scatter",
         "x": [
          33
         ],
         "y": [
          -18
         ]
        },
        {
         "marker": {
          "color": "blue",
          "opacity": 0.5,
          "size": 2.4390243902439024
         },
         "mode": "markers",
         "showlegend": false,
         "type": "scatter",
         "x": [
          33
         ],
         "y": [
          -11
         ]
        },
        {
         "marker": {
          "color": "blue",
          "opacity": 0.5,
          "size": 1.2195121951219512
         },
         "mode": "markers",
         "showlegend": false,
         "type": "scatter",
         "x": [
          33
         ],
         "y": [
          -8
         ]
        },
        {
         "marker": {
          "color": "blue",
          "opacity": 0.5,
          "size": 2.4390243902439024
         },
         "mode": "markers",
         "showlegend": false,
         "type": "scatter",
         "x": [
          33
         ],
         "y": [
          -1
         ]
        },
        {
         "marker": {
          "color": "blue",
          "opacity": 0.5,
          "size": 1.2195121951219512
         },
         "mode": "markers",
         "showlegend": false,
         "type": "scatter",
         "x": [
          33
         ],
         "y": [
          1
         ]
        },
        {
         "marker": {
          "color": "blue",
          "opacity": 0.5,
          "size": 1.2195121951219512
         },
         "mode": "markers",
         "showlegend": false,
         "type": "scatter",
         "x": [
          33
         ],
         "y": [
          2
         ]
        },
        {
         "marker": {
          "color": "blue",
          "opacity": 0.5,
          "size": 1.2195121951219512
         },
         "mode": "markers",
         "showlegend": false,
         "type": "scatter",
         "x": [
          33
         ],
         "y": [
          5
         ]
        },
        {
         "marker": {
          "color": "blue",
          "opacity": 0.5,
          "size": 1.2195121951219512
         },
         "mode": "markers",
         "showlegend": false,
         "type": "scatter",
         "x": [
          33
         ],
         "y": [
          8
         ]
        },
        {
         "marker": {
          "color": "blue",
          "opacity": 0.5,
          "size": 2.4390243902439024
         },
         "mode": "markers",
         "showlegend": false,
         "type": "scatter",
         "x": [
          33
         ],
         "y": [
          9
         ]
        },
        {
         "marker": {
          "color": "blue",
          "opacity": 0.5,
          "size": 1.2195121951219512
         },
         "mode": "markers",
         "showlegend": false,
         "type": "scatter",
         "x": [
          33
         ],
         "y": [
          15
         ]
        },
        {
         "marker": {
          "color": "blue",
          "opacity": 0.5,
          "size": 1.2195121951219512
         },
         "mode": "markers",
         "showlegend": false,
         "type": "scatter",
         "x": [
          33
         ],
         "y": [
          16
         ]
        },
        {
         "marker": {
          "color": "blue",
          "opacity": 0.5,
          "size": 1.2195121951219512
         },
         "mode": "markers",
         "showlegend": false,
         "type": "scatter",
         "x": [
          33
         ],
         "y": [
          22
         ]
        },
        {
         "marker": {
          "color": "blue",
          "opacity": 0.5,
          "size": 1.2195121951219512
         },
         "mode": "markers",
         "showlegend": false,
         "type": "scatter",
         "x": [
          33
         ],
         "y": [
          26
         ]
        },
        {
         "marker": {
          "color": "blue",
          "opacity": 0.5,
          "size": 1.2195121951219512
         },
         "mode": "markers",
         "showlegend": false,
         "type": "scatter",
         "x": [
          33
         ],
         "y": [
          27
         ]
        },
        {
         "marker": {
          "color": "blue",
          "opacity": 0.5,
          "size": 2.4390243902439024
         },
         "mode": "markers",
         "showlegend": false,
         "type": "scatter",
         "x": [
          33
         ],
         "y": [
          28
         ]
        },
        {
         "marker": {
          "color": "blue",
          "opacity": 0.5,
          "size": 1.2195121951219512
         },
         "mode": "markers",
         "showlegend": false,
         "type": "scatter",
         "x": [
          33
         ],
         "y": [
          29
         ]
        },
        {
         "marker": {
          "color": "blue",
          "opacity": 0.5,
          "size": 2.4390243902439024
         },
         "mode": "markers",
         "showlegend": false,
         "type": "scatter",
         "x": [
          33
         ],
         "y": [
          33
         ]
        },
        {
         "marker": {
          "color": "blue",
          "opacity": 0.5,
          "size": 1.2195121951219512
         },
         "mode": "markers",
         "showlegend": false,
         "type": "scatter",
         "x": [
          33
         ],
         "y": [
          36
         ]
        },
        {
         "marker": {
          "color": "blue",
          "opacity": 0.5,
          "size": 1.2195121951219512
         },
         "mode": "markers",
         "showlegend": false,
         "type": "scatter",
         "x": [
          34
         ],
         "y": [
          -33
         ]
        },
        {
         "marker": {
          "color": "blue",
          "opacity": 0.5,
          "size": 1.2195121951219512
         },
         "mode": "markers",
         "showlegend": false,
         "type": "scatter",
         "x": [
          34
         ],
         "y": [
          -32
         ]
        },
        {
         "marker": {
          "color": "blue",
          "opacity": 0.5,
          "size": 2.4390243902439024
         },
         "mode": "markers",
         "showlegend": false,
         "type": "scatter",
         "x": [
          34
         ],
         "y": [
          -28
         ]
        },
        {
         "marker": {
          "color": "blue",
          "opacity": 0.5,
          "size": 1.2195121951219512
         },
         "mode": "markers",
         "showlegend": false,
         "type": "scatter",
         "x": [
          34
         ],
         "y": [
          -25
         ]
        },
        {
         "marker": {
          "color": "blue",
          "opacity": 0.5,
          "size": 1.2195121951219512
         },
         "mode": "markers",
         "showlegend": false,
         "type": "scatter",
         "x": [
          34
         ],
         "y": [
          -23
         ]
        },
        {
         "marker": {
          "color": "blue",
          "opacity": 0.5,
          "size": 1.2195121951219512
         },
         "mode": "markers",
         "showlegend": false,
         "type": "scatter",
         "x": [
          34
         ],
         "y": [
          -22
         ]
        },
        {
         "marker": {
          "color": "blue",
          "opacity": 0.5,
          "size": 1.2195121951219512
         },
         "mode": "markers",
         "showlegend": false,
         "type": "scatter",
         "x": [
          34
         ],
         "y": [
          -20
         ]
        },
        {
         "marker": {
          "color": "blue",
          "opacity": 0.5,
          "size": 1.2195121951219512
         },
         "mode": "markers",
         "showlegend": false,
         "type": "scatter",
         "x": [
          34
         ],
         "y": [
          -17
         ]
        },
        {
         "marker": {
          "color": "blue",
          "opacity": 0.5,
          "size": 1.2195121951219512
         },
         "mode": "markers",
         "showlegend": false,
         "type": "scatter",
         "x": [
          34
         ],
         "y": [
          -16
         ]
        },
        {
         "marker": {
          "color": "blue",
          "opacity": 0.5,
          "size": 2.4390243902439024
         },
         "mode": "markers",
         "showlegend": false,
         "type": "scatter",
         "x": [
          34
         ],
         "y": [
          -13
         ]
        },
        {
         "marker": {
          "color": "blue",
          "opacity": 0.5,
          "size": 1.2195121951219512
         },
         "mode": "markers",
         "showlegend": false,
         "type": "scatter",
         "x": [
          34
         ],
         "y": [
          -12
         ]
        },
        {
         "marker": {
          "color": "blue",
          "opacity": 0.5,
          "size": 2.4390243902439024
         },
         "mode": "markers",
         "showlegend": false,
         "type": "scatter",
         "x": [
          34
         ],
         "y": [
          -10
         ]
        },
        {
         "marker": {
          "color": "blue",
          "opacity": 0.5,
          "size": 1.2195121951219512
         },
         "mode": "markers",
         "showlegend": false,
         "type": "scatter",
         "x": [
          34
         ],
         "y": [
          -7
         ]
        },
        {
         "marker": {
          "color": "blue",
          "opacity": 0.5,
          "size": 1.2195121951219512
         },
         "mode": "markers",
         "showlegend": false,
         "type": "scatter",
         "x": [
          34
         ],
         "y": [
          -6
         ]
        },
        {
         "marker": {
          "color": "blue",
          "opacity": 0.5,
          "size": 1.2195121951219512
         },
         "mode": "markers",
         "showlegend": false,
         "type": "scatter",
         "x": [
          34
         ],
         "y": [
          -5
         ]
        },
        {
         "marker": {
          "color": "blue",
          "opacity": 0.5,
          "size": 2.4390243902439024
         },
         "mode": "markers",
         "showlegend": false,
         "type": "scatter",
         "x": [
          34
         ],
         "y": [
          -3
         ]
        },
        {
         "marker": {
          "color": "blue",
          "opacity": 0.5,
          "size": 2.4390243902439024
         },
         "mode": "markers",
         "showlegend": false,
         "type": "scatter",
         "x": [
          34
         ],
         "y": [
          2
         ]
        },
        {
         "marker": {
          "color": "blue",
          "opacity": 0.5,
          "size": 1.2195121951219512
         },
         "mode": "markers",
         "showlegend": false,
         "type": "scatter",
         "x": [
          34
         ],
         "y": [
          3
         ]
        },
        {
         "marker": {
          "color": "blue",
          "opacity": 0.5,
          "size": 2.4390243902439024
         },
         "mode": "markers",
         "showlegend": false,
         "type": "scatter",
         "x": [
          34
         ],
         "y": [
          10
         ]
        },
        {
         "marker": {
          "color": "blue",
          "opacity": 0.5,
          "size": 2.4390243902439024
         },
         "mode": "markers",
         "showlegend": false,
         "type": "scatter",
         "x": [
          34
         ],
         "y": [
          13
         ]
        },
        {
         "marker": {
          "color": "blue",
          "opacity": 0.5,
          "size": 1.2195121951219512
         },
         "mode": "markers",
         "showlegend": false,
         "type": "scatter",
         "x": [
          34
         ],
         "y": [
          17
         ]
        },
        {
         "marker": {
          "color": "blue",
          "opacity": 0.5,
          "size": 1.2195121951219512
         },
         "mode": "markers",
         "showlegend": false,
         "type": "scatter",
         "x": [
          34
         ],
         "y": [
          18
         ]
        },
        {
         "marker": {
          "color": "blue",
          "opacity": 0.5,
          "size": 1.2195121951219512
         },
         "mode": "markers",
         "showlegend": false,
         "type": "scatter",
         "x": [
          34
         ],
         "y": [
          19
         ]
        },
        {
         "marker": {
          "color": "blue",
          "opacity": 0.5,
          "size": 4.878048780487805
         },
         "mode": "markers",
         "showlegend": false,
         "type": "scatter",
         "x": [
          34
         ],
         "y": [
          20
         ]
        },
        {
         "marker": {
          "color": "blue",
          "opacity": 0.5,
          "size": 2.4390243902439024
         },
         "mode": "markers",
         "showlegend": false,
         "type": "scatter",
         "x": [
          34
         ],
         "y": [
          21
         ]
        },
        {
         "marker": {
          "color": "blue",
          "opacity": 0.5,
          "size": 1.2195121951219512
         },
         "mode": "markers",
         "showlegend": false,
         "type": "scatter",
         "x": [
          34
         ],
         "y": [
          22
         ]
        },
        {
         "marker": {
          "color": "blue",
          "opacity": 0.5,
          "size": 2.4390243902439024
         },
         "mode": "markers",
         "showlegend": false,
         "type": "scatter",
         "x": [
          34
         ],
         "y": [
          24
         ]
        },
        {
         "marker": {
          "color": "blue",
          "opacity": 0.5,
          "size": 1.2195121951219512
         },
         "mode": "markers",
         "showlegend": false,
         "type": "scatter",
         "x": [
          34
         ],
         "y": [
          25
         ]
        },
        {
         "marker": {
          "color": "blue",
          "opacity": 0.5,
          "size": 1.2195121951219512
         },
         "mode": "markers",
         "showlegend": false,
         "type": "scatter",
         "x": [
          34
         ],
         "y": [
          27
         ]
        },
        {
         "marker": {
          "color": "blue",
          "opacity": 0.5,
          "size": 2.4390243902439024
         },
         "mode": "markers",
         "showlegend": false,
         "type": "scatter",
         "x": [
          34
         ],
         "y": [
          28
         ]
        },
        {
         "marker": {
          "color": "blue",
          "opacity": 0.5,
          "size": 1.2195121951219512
         },
         "mode": "markers",
         "showlegend": false,
         "type": "scatter",
         "x": [
          34
         ],
         "y": [
          29
         ]
        },
        {
         "marker": {
          "color": "blue",
          "opacity": 0.5,
          "size": 3.6585365853658534
         },
         "mode": "markers",
         "showlegend": false,
         "type": "scatter",
         "x": [
          34
         ],
         "y": [
          32
         ]
        },
        {
         "marker": {
          "color": "blue",
          "opacity": 0.5,
          "size": 1.2195121951219512
         },
         "mode": "markers",
         "showlegend": false,
         "type": "scatter",
         "x": [
          34
         ],
         "y": [
          33
         ]
        },
        {
         "marker": {
          "color": "blue",
          "opacity": 0.5,
          "size": 2.4390243902439024
         },
         "mode": "markers",
         "showlegend": false,
         "type": "scatter",
         "x": [
          35
         ],
         "y": [
          -36
         ]
        },
        {
         "marker": {
          "color": "blue",
          "opacity": 0.5,
          "size": 1.2195121951219512
         },
         "mode": "markers",
         "showlegend": false,
         "type": "scatter",
         "x": [
          35
         ],
         "y": [
          -35
         ]
        },
        {
         "marker": {
          "color": "blue",
          "opacity": 0.5,
          "size": 1.2195121951219512
         },
         "mode": "markers",
         "showlegend": false,
         "type": "scatter",
         "x": [
          35
         ],
         "y": [
          -33
         ]
        },
        {
         "marker": {
          "color": "blue",
          "opacity": 0.5,
          "size": 1.2195121951219512
         },
         "mode": "markers",
         "showlegend": false,
         "type": "scatter",
         "x": [
          35
         ],
         "y": [
          -30
         ]
        },
        {
         "marker": {
          "color": "blue",
          "opacity": 0.5,
          "size": 1.2195121951219512
         },
         "mode": "markers",
         "showlegend": false,
         "type": "scatter",
         "x": [
          35
         ],
         "y": [
          -29
         ]
        },
        {
         "marker": {
          "color": "blue",
          "opacity": 0.5,
          "size": 1.2195121951219512
         },
         "mode": "markers",
         "showlegend": false,
         "type": "scatter",
         "x": [
          35
         ],
         "y": [
          -28
         ]
        },
        {
         "marker": {
          "color": "blue",
          "opacity": 0.5,
          "size": 1.2195121951219512
         },
         "mode": "markers",
         "showlegend": false,
         "type": "scatter",
         "x": [
          35
         ],
         "y": [
          -27
         ]
        },
        {
         "marker": {
          "color": "blue",
          "opacity": 0.5,
          "size": 1.2195121951219512
         },
         "mode": "markers",
         "showlegend": false,
         "type": "scatter",
         "x": [
          35
         ],
         "y": [
          -22
         ]
        },
        {
         "marker": {
          "color": "blue",
          "opacity": 0.5,
          "size": 2.4390243902439024
         },
         "mode": "markers",
         "showlegend": false,
         "type": "scatter",
         "x": [
          35
         ],
         "y": [
          -21
         ]
        },
        {
         "marker": {
          "color": "blue",
          "opacity": 0.5,
          "size": 1.2195121951219512
         },
         "mode": "markers",
         "showlegend": false,
         "type": "scatter",
         "x": [
          35
         ],
         "y": [
          -19
         ]
        },
        {
         "marker": {
          "color": "blue",
          "opacity": 0.5,
          "size": 1.2195121951219512
         },
         "mode": "markers",
         "showlegend": false,
         "type": "scatter",
         "x": [
          35
         ],
         "y": [
          -16
         ]
        },
        {
         "marker": {
          "color": "blue",
          "opacity": 0.5,
          "size": 1.2195121951219512
         },
         "mode": "markers",
         "showlegend": false,
         "type": "scatter",
         "x": [
          35
         ],
         "y": [
          -14
         ]
        },
        {
         "marker": {
          "color": "blue",
          "opacity": 0.5,
          "size": 1.2195121951219512
         },
         "mode": "markers",
         "showlegend": false,
         "type": "scatter",
         "x": [
          35
         ],
         "y": [
          -12
         ]
        },
        {
         "marker": {
          "color": "blue",
          "opacity": 0.5,
          "size": 1.2195121951219512
         },
         "mode": "markers",
         "showlegend": false,
         "type": "scatter",
         "x": [
          35
         ],
         "y": [
          -10
         ]
        },
        {
         "marker": {
          "color": "blue",
          "opacity": 0.5,
          "size": 1.2195121951219512
         },
         "mode": "markers",
         "showlegend": false,
         "type": "scatter",
         "x": [
          35
         ],
         "y": [
          -9
         ]
        },
        {
         "marker": {
          "color": "blue",
          "opacity": 0.5,
          "size": 1.2195121951219512
         },
         "mode": "markers",
         "showlegend": false,
         "type": "scatter",
         "x": [
          35
         ],
         "y": [
          -8
         ]
        },
        {
         "marker": {
          "color": "blue",
          "opacity": 0.5,
          "size": 1.2195121951219512
         },
         "mode": "markers",
         "showlegend": false,
         "type": "scatter",
         "x": [
          35
         ],
         "y": [
          -7
         ]
        },
        {
         "marker": {
          "color": "blue",
          "opacity": 0.5,
          "size": 1.2195121951219512
         },
         "mode": "markers",
         "showlegend": false,
         "type": "scatter",
         "x": [
          35
         ],
         "y": [
          -4
         ]
        },
        {
         "marker": {
          "color": "blue",
          "opacity": 0.5,
          "size": 1.2195121951219512
         },
         "mode": "markers",
         "showlegend": false,
         "type": "scatter",
         "x": [
          35
         ],
         "y": [
          -3
         ]
        },
        {
         "marker": {
          "color": "blue",
          "opacity": 0.5,
          "size": 3.6585365853658534
         },
         "mode": "markers",
         "showlegend": false,
         "type": "scatter",
         "x": [
          35
         ],
         "y": [
          -2
         ]
        },
        {
         "marker": {
          "color": "blue",
          "opacity": 0.5,
          "size": 1.2195121951219512
         },
         "mode": "markers",
         "showlegend": false,
         "type": "scatter",
         "x": [
          35
         ],
         "y": [
          -1
         ]
        },
        {
         "marker": {
          "color": "blue",
          "opacity": 0.5,
          "size": 1.2195121951219512
         },
         "mode": "markers",
         "showlegend": false,
         "type": "scatter",
         "x": [
          35
         ],
         "y": [
          1
         ]
        },
        {
         "marker": {
          "color": "blue",
          "opacity": 0.5,
          "size": 4.878048780487805
         },
         "mode": "markers",
         "showlegend": false,
         "type": "scatter",
         "x": [
          35
         ],
         "y": [
          3
         ]
        },
        {
         "marker": {
          "color": "blue",
          "opacity": 0.5,
          "size": 1.2195121951219512
         },
         "mode": "markers",
         "showlegend": false,
         "type": "scatter",
         "x": [
          35
         ],
         "y": [
          7
         ]
        },
        {
         "marker": {
          "color": "blue",
          "opacity": 0.5,
          "size": 1.2195121951219512
         },
         "mode": "markers",
         "showlegend": false,
         "type": "scatter",
         "x": [
          35
         ],
         "y": [
          9
         ]
        },
        {
         "marker": {
          "color": "blue",
          "opacity": 0.5,
          "size": 1.2195121951219512
         },
         "mode": "markers",
         "showlegend": false,
         "type": "scatter",
         "x": [
          35
         ],
         "y": [
          10
         ]
        },
        {
         "marker": {
          "color": "blue",
          "opacity": 0.5,
          "size": 1.2195121951219512
         },
         "mode": "markers",
         "showlegend": false,
         "type": "scatter",
         "x": [
          35
         ],
         "y": [
          11
         ]
        },
        {
         "marker": {
          "color": "blue",
          "opacity": 0.5,
          "size": 1.2195121951219512
         },
         "mode": "markers",
         "showlegend": false,
         "type": "scatter",
         "x": [
          35
         ],
         "y": [
          14
         ]
        },
        {
         "marker": {
          "color": "blue",
          "opacity": 0.5,
          "size": 2.4390243902439024
         },
         "mode": "markers",
         "showlegend": false,
         "type": "scatter",
         "x": [
          35
         ],
         "y": [
          16
         ]
        },
        {
         "marker": {
          "color": "blue",
          "opacity": 0.5,
          "size": 1.2195121951219512
         },
         "mode": "markers",
         "showlegend": false,
         "type": "scatter",
         "x": [
          35
         ],
         "y": [
          18
         ]
        },
        {
         "marker": {
          "color": "blue",
          "opacity": 0.5,
          "size": 1.2195121951219512
         },
         "mode": "markers",
         "showlegend": false,
         "type": "scatter",
         "x": [
          35
         ],
         "y": [
          20
         ]
        },
        {
         "marker": {
          "color": "blue",
          "opacity": 0.5,
          "size": 1.2195121951219512
         },
         "mode": "markers",
         "showlegend": false,
         "type": "scatter",
         "x": [
          35
         ],
         "y": [
          22
         ]
        },
        {
         "marker": {
          "color": "blue",
          "opacity": 0.5,
          "size": 2.4390243902439024
         },
         "mode": "markers",
         "showlegend": false,
         "type": "scatter",
         "x": [
          35
         ],
         "y": [
          23
         ]
        },
        {
         "marker": {
          "color": "blue",
          "opacity": 0.5,
          "size": 2.4390243902439024
         },
         "mode": "markers",
         "showlegend": false,
         "type": "scatter",
         "x": [
          35
         ],
         "y": [
          25
         ]
        },
        {
         "marker": {
          "color": "blue",
          "opacity": 0.5,
          "size": 1.2195121951219512
         },
         "mode": "markers",
         "showlegend": false,
         "type": "scatter",
         "x": [
          35
         ],
         "y": [
          27
         ]
        },
        {
         "marker": {
          "color": "blue",
          "opacity": 0.5,
          "size": 1.2195121951219512
         },
         "mode": "markers",
         "showlegend": false,
         "type": "scatter",
         "x": [
          35
         ],
         "y": [
          28
         ]
        },
        {
         "marker": {
          "color": "blue",
          "opacity": 0.5,
          "size": 2.4390243902439024
         },
         "mode": "markers",
         "showlegend": false,
         "type": "scatter",
         "x": [
          35
         ],
         "y": [
          29
         ]
        },
        {
         "marker": {
          "color": "blue",
          "opacity": 0.5,
          "size": 1.2195121951219512
         },
         "mode": "markers",
         "showlegend": false,
         "type": "scatter",
         "x": [
          35
         ],
         "y": [
          30
         ]
        },
        {
         "marker": {
          "color": "blue",
          "opacity": 0.5,
          "size": 1.2195121951219512
         },
         "mode": "markers",
         "showlegend": false,
         "type": "scatter",
         "x": [
          35
         ],
         "y": [
          31
         ]
        },
        {
         "marker": {
          "color": "blue",
          "opacity": 0.5,
          "size": 3.6585365853658534
         },
         "mode": "markers",
         "showlegend": false,
         "type": "scatter",
         "x": [
          35
         ],
         "y": [
          32
         ]
        },
        {
         "marker": {
          "color": "blue",
          "opacity": 0.5,
          "size": 3.6585365853658534
         },
         "mode": "markers",
         "showlegend": false,
         "type": "scatter",
         "x": [
          35
         ],
         "y": [
          33
         ]
        },
        {
         "marker": {
          "color": "blue",
          "opacity": 0.5,
          "size": 1.2195121951219512
         },
         "mode": "markers",
         "showlegend": false,
         "type": "scatter",
         "x": [
          35
         ],
         "y": [
          34
         ]
        },
        {
         "marker": {
          "color": "blue",
          "opacity": 0.5,
          "size": 2.4390243902439024
         },
         "mode": "markers",
         "showlegend": false,
         "type": "scatter",
         "x": [
          35
         ],
         "y": [
          35
         ]
        },
        {
         "marker": {
          "color": "blue",
          "opacity": 0.5,
          "size": 1.2195121951219512
         },
         "mode": "markers",
         "showlegend": false,
         "type": "scatter",
         "x": [
          35
         ],
         "y": [
          37
         ]
        },
        {
         "marker": {
          "color": "blue",
          "opacity": 0.5,
          "size": 2.4390243902439024
         },
         "mode": "markers",
         "showlegend": false,
         "type": "scatter",
         "x": [
          36
         ],
         "y": [
          -31
         ]
        },
        {
         "marker": {
          "color": "blue",
          "opacity": 0.5,
          "size": 1.2195121951219512
         },
         "mode": "markers",
         "showlegend": false,
         "type": "scatter",
         "x": [
          36
         ],
         "y": [
          -28
         ]
        },
        {
         "marker": {
          "color": "blue",
          "opacity": 0.5,
          "size": 1.2195121951219512
         },
         "mode": "markers",
         "showlegend": false,
         "type": "scatter",
         "x": [
          36
         ],
         "y": [
          -27
         ]
        },
        {
         "marker": {
          "color": "blue",
          "opacity": 0.5,
          "size": 1.2195121951219512
         },
         "mode": "markers",
         "showlegend": false,
         "type": "scatter",
         "x": [
          36
         ],
         "y": [
          -26
         ]
        },
        {
         "marker": {
          "color": "blue",
          "opacity": 0.5,
          "size": 1.2195121951219512
         },
         "mode": "markers",
         "showlegend": false,
         "type": "scatter",
         "x": [
          36
         ],
         "y": [
          -23
         ]
        },
        {
         "marker": {
          "color": "blue",
          "opacity": 0.5,
          "size": 2.4390243902439024
         },
         "mode": "markers",
         "showlegend": false,
         "type": "scatter",
         "x": [
          36
         ],
         "y": [
          -21
         ]
        },
        {
         "marker": {
          "color": "blue",
          "opacity": 0.5,
          "size": 1.2195121951219512
         },
         "mode": "markers",
         "showlegend": false,
         "type": "scatter",
         "x": [
          36
         ],
         "y": [
          -20
         ]
        },
        {
         "marker": {
          "color": "blue",
          "opacity": 0.5,
          "size": 2.4390243902439024
         },
         "mode": "markers",
         "showlegend": false,
         "type": "scatter",
         "x": [
          36
         ],
         "y": [
          -19
         ]
        },
        {
         "marker": {
          "color": "blue",
          "opacity": 0.5,
          "size": 1.2195121951219512
         },
         "mode": "markers",
         "showlegend": false,
         "type": "scatter",
         "x": [
          36
         ],
         "y": [
          -15
         ]
        },
        {
         "marker": {
          "color": "blue",
          "opacity": 0.5,
          "size": 1.2195121951219512
         },
         "mode": "markers",
         "showlegend": false,
         "type": "scatter",
         "x": [
          36
         ],
         "y": [
          -14
         ]
        },
        {
         "marker": {
          "color": "blue",
          "opacity": 0.5,
          "size": 1.2195121951219512
         },
         "mode": "markers",
         "showlegend": false,
         "type": "scatter",
         "x": [
          36
         ],
         "y": [
          -11
         ]
        },
        {
         "marker": {
          "color": "blue",
          "opacity": 0.5,
          "size": 1.2195121951219512
         },
         "mode": "markers",
         "showlegend": false,
         "type": "scatter",
         "x": [
          36
         ],
         "y": [
          -8
         ]
        },
        {
         "marker": {
          "color": "blue",
          "opacity": 0.5,
          "size": 1.2195121951219512
         },
         "mode": "markers",
         "showlegend": false,
         "type": "scatter",
         "x": [
          36
         ],
         "y": [
          -5
         ]
        },
        {
         "marker": {
          "color": "blue",
          "opacity": 0.5,
          "size": 1.2195121951219512
         },
         "mode": "markers",
         "showlegend": false,
         "type": "scatter",
         "x": [
          36
         ],
         "y": [
          -2
         ]
        },
        {
         "marker": {
          "color": "blue",
          "opacity": 0.5,
          "size": 1.2195121951219512
         },
         "mode": "markers",
         "showlegend": false,
         "type": "scatter",
         "x": [
          36
         ],
         "y": [
          3
         ]
        },
        {
         "marker": {
          "color": "blue",
          "opacity": 0.5,
          "size": 1.2195121951219512
         },
         "mode": "markers",
         "showlegend": false,
         "type": "scatter",
         "x": [
          36
         ],
         "y": [
          7
         ]
        },
        {
         "marker": {
          "color": "blue",
          "opacity": 0.5,
          "size": 1.2195121951219512
         },
         "mode": "markers",
         "showlegend": false,
         "type": "scatter",
         "x": [
          36
         ],
         "y": [
          9
         ]
        },
        {
         "marker": {
          "color": "blue",
          "opacity": 0.5,
          "size": 1.2195121951219512
         },
         "mode": "markers",
         "showlegend": false,
         "type": "scatter",
         "x": [
          36
         ],
         "y": [
          11
         ]
        },
        {
         "marker": {
          "color": "blue",
          "opacity": 0.5,
          "size": 2.4390243902439024
         },
         "mode": "markers",
         "showlegend": false,
         "type": "scatter",
         "x": [
          36
         ],
         "y": [
          16
         ]
        },
        {
         "marker": {
          "color": "blue",
          "opacity": 0.5,
          "size": 1.2195121951219512
         },
         "mode": "markers",
         "showlegend": false,
         "type": "scatter",
         "x": [
          36
         ],
         "y": [
          17
         ]
        },
        {
         "marker": {
          "color": "blue",
          "opacity": 0.5,
          "size": 1.2195121951219512
         },
         "mode": "markers",
         "showlegend": false,
         "type": "scatter",
         "x": [
          36
         ],
         "y": [
          18
         ]
        },
        {
         "marker": {
          "color": "blue",
          "opacity": 0.5,
          "size": 1.2195121951219512
         },
         "mode": "markers",
         "showlegend": false,
         "type": "scatter",
         "x": [
          36
         ],
         "y": [
          20
         ]
        },
        {
         "marker": {
          "color": "blue",
          "opacity": 0.5,
          "size": 2.4390243902439024
         },
         "mode": "markers",
         "showlegend": false,
         "type": "scatter",
         "x": [
          36
         ],
         "y": [
          24
         ]
        },
        {
         "marker": {
          "color": "blue",
          "opacity": 0.5,
          "size": 1.2195121951219512
         },
         "mode": "markers",
         "showlegend": false,
         "type": "scatter",
         "x": [
          36
         ],
         "y": [
          25
         ]
        },
        {
         "marker": {
          "color": "blue",
          "opacity": 0.5,
          "size": 1.2195121951219512
         },
         "mode": "markers",
         "showlegend": false,
         "type": "scatter",
         "x": [
          36
         ],
         "y": [
          26
         ]
        },
        {
         "marker": {
          "color": "blue",
          "opacity": 0.5,
          "size": 1.2195121951219512
         },
         "mode": "markers",
         "showlegend": false,
         "type": "scatter",
         "x": [
          36
         ],
         "y": [
          27
         ]
        },
        {
         "marker": {
          "color": "blue",
          "opacity": 0.5,
          "size": 1.2195121951219512
         },
         "mode": "markers",
         "showlegend": false,
         "type": "scatter",
         "x": [
          36
         ],
         "y": [
          29
         ]
        },
        {
         "marker": {
          "color": "blue",
          "opacity": 0.5,
          "size": 2.4390243902439024
         },
         "mode": "markers",
         "showlegend": false,
         "type": "scatter",
         "x": [
          36
         ],
         "y": [
          30
         ]
        },
        {
         "marker": {
          "color": "blue",
          "opacity": 0.5,
          "size": 1.2195121951219512
         },
         "mode": "markers",
         "showlegend": false,
         "type": "scatter",
         "x": [
          36
         ],
         "y": [
          31
         ]
        },
        {
         "marker": {
          "color": "blue",
          "opacity": 0.5,
          "size": 1.2195121951219512
         },
         "mode": "markers",
         "showlegend": false,
         "type": "scatter",
         "x": [
          36
         ],
         "y": [
          32
         ]
        },
        {
         "marker": {
          "color": "blue",
          "opacity": 0.5,
          "size": 1.2195121951219512
         },
         "mode": "markers",
         "showlegend": false,
         "type": "scatter",
         "x": [
          36
         ],
         "y": [
          33
         ]
        },
        {
         "marker": {
          "color": "blue",
          "opacity": 0.5,
          "size": 1.2195121951219512
         },
         "mode": "markers",
         "showlegend": false,
         "type": "scatter",
         "x": [
          36
         ],
         "y": [
          34
         ]
        },
        {
         "marker": {
          "color": "blue",
          "opacity": 0.5,
          "size": 1.2195121951219512
         },
         "mode": "markers",
         "showlegend": false,
         "type": "scatter",
         "x": [
          36
         ],
         "y": [
          38
         ]
        },
        {
         "marker": {
          "color": "blue",
          "opacity": 0.5,
          "size": 1.2195121951219512
         },
         "mode": "markers",
         "showlegend": false,
         "type": "scatter",
         "x": [
          37
         ],
         "y": [
          -31
         ]
        },
        {
         "marker": {
          "color": "blue",
          "opacity": 0.5,
          "size": 1.2195121951219512
         },
         "mode": "markers",
         "showlegend": false,
         "type": "scatter",
         "x": [
          37
         ],
         "y": [
          -29
         ]
        },
        {
         "marker": {
          "color": "blue",
          "opacity": 0.5,
          "size": 3.6585365853658534
         },
         "mode": "markers",
         "showlegend": false,
         "type": "scatter",
         "x": [
          37
         ],
         "y": [
          -27
         ]
        },
        {
         "marker": {
          "color": "blue",
          "opacity": 0.5,
          "size": 1.2195121951219512
         },
         "mode": "markers",
         "showlegend": false,
         "type": "scatter",
         "x": [
          37
         ],
         "y": [
          -25
         ]
        },
        {
         "marker": {
          "color": "blue",
          "opacity": 0.5,
          "size": 1.2195121951219512
         },
         "mode": "markers",
         "showlegend": false,
         "type": "scatter",
         "x": [
          37
         ],
         "y": [
          -24
         ]
        },
        {
         "marker": {
          "color": "blue",
          "opacity": 0.5,
          "size": 4.878048780487805
         },
         "mode": "markers",
         "showlegend": false,
         "type": "scatter",
         "x": [
          37
         ],
         "y": [
          -23
         ]
        },
        {
         "marker": {
          "color": "blue",
          "opacity": 0.5,
          "size": 2.4390243902439024
         },
         "mode": "markers",
         "showlegend": false,
         "type": "scatter",
         "x": [
          37
         ],
         "y": [
          -22
         ]
        },
        {
         "marker": {
          "color": "blue",
          "opacity": 0.5,
          "size": 1.2195121951219512
         },
         "mode": "markers",
         "showlegend": false,
         "type": "scatter",
         "x": [
          37
         ],
         "y": [
          -21
         ]
        },
        {
         "marker": {
          "color": "blue",
          "opacity": 0.5,
          "size": 1.2195121951219512
         },
         "mode": "markers",
         "showlegend": false,
         "type": "scatter",
         "x": [
          37
         ],
         "y": [
          -18
         ]
        },
        {
         "marker": {
          "color": "blue",
          "opacity": 0.5,
          "size": 1.2195121951219512
         },
         "mode": "markers",
         "showlegend": false,
         "type": "scatter",
         "x": [
          37
         ],
         "y": [
          -14
         ]
        },
        {
         "marker": {
          "color": "blue",
          "opacity": 0.5,
          "size": 6.097560975609756
         },
         "mode": "markers",
         "showlegend": false,
         "type": "scatter",
         "x": [
          37
         ],
         "y": [
          -12
         ]
        },
        {
         "marker": {
          "color": "blue",
          "opacity": 0.5,
          "size": 1.2195121951219512
         },
         "mode": "markers",
         "showlegend": false,
         "type": "scatter",
         "x": [
          37
         ],
         "y": [
          -9
         ]
        },
        {
         "marker": {
          "color": "blue",
          "opacity": 0.5,
          "size": 1.2195121951219512
         },
         "mode": "markers",
         "showlegend": false,
         "type": "scatter",
         "x": [
          37
         ],
         "y": [
          -8
         ]
        },
        {
         "marker": {
          "color": "blue",
          "opacity": 0.5,
          "size": 1.2195121951219512
         },
         "mode": "markers",
         "showlegend": false,
         "type": "scatter",
         "x": [
          37
         ],
         "y": [
          -6
         ]
        },
        {
         "marker": {
          "color": "blue",
          "opacity": 0.5,
          "size": 1.2195121951219512
         },
         "mode": "markers",
         "showlegend": false,
         "type": "scatter",
         "x": [
          37
         ],
         "y": [
          -5
         ]
        },
        {
         "marker": {
          "color": "blue",
          "opacity": 0.5,
          "size": 1.2195121951219512
         },
         "mode": "markers",
         "showlegend": false,
         "type": "scatter",
         "x": [
          37
         ],
         "y": [
          -3
         ]
        },
        {
         "marker": {
          "color": "blue",
          "opacity": 0.5,
          "size": 1.2195121951219512
         },
         "mode": "markers",
         "showlegend": false,
         "type": "scatter",
         "x": [
          37
         ],
         "y": [
          -2
         ]
        },
        {
         "marker": {
          "color": "blue",
          "opacity": 0.5,
          "size": 1.2195121951219512
         },
         "mode": "markers",
         "showlegend": false,
         "type": "scatter",
         "x": [
          37
         ],
         "y": [
          -1
         ]
        },
        {
         "marker": {
          "color": "blue",
          "opacity": 0.5,
          "size": 1.2195121951219512
         },
         "mode": "markers",
         "showlegend": false,
         "type": "scatter",
         "x": [
          37
         ],
         "y": [
          0
         ]
        },
        {
         "marker": {
          "color": "blue",
          "opacity": 0.5,
          "size": 1.2195121951219512
         },
         "mode": "markers",
         "showlegend": false,
         "type": "scatter",
         "x": [
          37
         ],
         "y": [
          1
         ]
        },
        {
         "marker": {
          "color": "blue",
          "opacity": 0.5,
          "size": 1.2195121951219512
         },
         "mode": "markers",
         "showlegend": false,
         "type": "scatter",
         "x": [
          37
         ],
         "y": [
          2
         ]
        },
        {
         "marker": {
          "color": "blue",
          "opacity": 0.5,
          "size": 2.4390243902439024
         },
         "mode": "markers",
         "showlegend": false,
         "type": "scatter",
         "x": [
          37
         ],
         "y": [
          4
         ]
        },
        {
         "marker": {
          "color": "blue",
          "opacity": 0.5,
          "size": 1.2195121951219512
         },
         "mode": "markers",
         "showlegend": false,
         "type": "scatter",
         "x": [
          37
         ],
         "y": [
          5
         ]
        },
        {
         "marker": {
          "color": "blue",
          "opacity": 0.5,
          "size": 2.4390243902439024
         },
         "mode": "markers",
         "showlegend": false,
         "type": "scatter",
         "x": [
          37
         ],
         "y": [
          6
         ]
        },
        {
         "marker": {
          "color": "blue",
          "opacity": 0.5,
          "size": 1.2195121951219512
         },
         "mode": "markers",
         "showlegend": false,
         "type": "scatter",
         "x": [
          37
         ],
         "y": [
          8
         ]
        },
        {
         "marker": {
          "color": "blue",
          "opacity": 0.5,
          "size": 1.2195121951219512
         },
         "mode": "markers",
         "showlegend": false,
         "type": "scatter",
         "x": [
          37
         ],
         "y": [
          9
         ]
        },
        {
         "marker": {
          "color": "blue",
          "opacity": 0.5,
          "size": 2.4390243902439024
         },
         "mode": "markers",
         "showlegend": false,
         "type": "scatter",
         "x": [
          37
         ],
         "y": [
          12
         ]
        },
        {
         "marker": {
          "color": "blue",
          "opacity": 0.5,
          "size": 1.2195121951219512
         },
         "mode": "markers",
         "showlegend": false,
         "type": "scatter",
         "x": [
          37
         ],
         "y": [
          14
         ]
        },
        {
         "marker": {
          "color": "blue",
          "opacity": 0.5,
          "size": 3.6585365853658534
         },
         "mode": "markers",
         "showlegend": false,
         "type": "scatter",
         "x": [
          37
         ],
         "y": [
          15
         ]
        },
        {
         "marker": {
          "color": "blue",
          "opacity": 0.5,
          "size": 1.2195121951219512
         },
         "mode": "markers",
         "showlegend": false,
         "type": "scatter",
         "x": [
          37
         ],
         "y": [
          17
         ]
        },
        {
         "marker": {
          "color": "blue",
          "opacity": 0.5,
          "size": 1.2195121951219512
         },
         "mode": "markers",
         "showlegend": false,
         "type": "scatter",
         "x": [
          37
         ],
         "y": [
          18
         ]
        },
        {
         "marker": {
          "color": "blue",
          "opacity": 0.5,
          "size": 1.2195121951219512
         },
         "mode": "markers",
         "showlegend": false,
         "type": "scatter",
         "x": [
          37
         ],
         "y": [
          19
         ]
        },
        {
         "marker": {
          "color": "blue",
          "opacity": 0.5,
          "size": 2.4390243902439024
         },
         "mode": "markers",
         "showlegend": false,
         "type": "scatter",
         "x": [
          37
         ],
         "y": [
          20
         ]
        },
        {
         "marker": {
          "color": "blue",
          "opacity": 0.5,
          "size": 2.4390243902439024
         },
         "mode": "markers",
         "showlegend": false,
         "type": "scatter",
         "x": [
          37
         ],
         "y": [
          23
         ]
        },
        {
         "marker": {
          "color": "blue",
          "opacity": 0.5,
          "size": 2.4390243902439024
         },
         "mode": "markers",
         "showlegend": false,
         "type": "scatter",
         "x": [
          37
         ],
         "y": [
          24
         ]
        },
        {
         "marker": {
          "color": "blue",
          "opacity": 0.5,
          "size": 2.4390243902439024
         },
         "mode": "markers",
         "showlegend": false,
         "type": "scatter",
         "x": [
          37
         ],
         "y": [
          25
         ]
        },
        {
         "marker": {
          "color": "blue",
          "opacity": 0.5,
          "size": 1.2195121951219512
         },
         "mode": "markers",
         "showlegend": false,
         "type": "scatter",
         "x": [
          37
         ],
         "y": [
          26
         ]
        },
        {
         "marker": {
          "color": "blue",
          "opacity": 0.5,
          "size": 1.2195121951219512
         },
         "mode": "markers",
         "showlegend": false,
         "type": "scatter",
         "x": [
          37
         ],
         "y": [
          27
         ]
        },
        {
         "marker": {
          "color": "blue",
          "opacity": 0.5,
          "size": 7.317073170731707
         },
         "mode": "markers",
         "showlegend": false,
         "type": "scatter",
         "x": [
          37
         ],
         "y": [
          28
         ]
        },
        {
         "marker": {
          "color": "blue",
          "opacity": 0.5,
          "size": 1.2195121951219512
         },
         "mode": "markers",
         "showlegend": false,
         "type": "scatter",
         "x": [
          37
         ],
         "y": [
          29
         ]
        },
        {
         "marker": {
          "color": "blue",
          "opacity": 0.5,
          "size": 1.2195121951219512
         },
         "mode": "markers",
         "showlegend": false,
         "type": "scatter",
         "x": [
          37
         ],
         "y": [
          30
         ]
        },
        {
         "marker": {
          "color": "blue",
          "opacity": 0.5,
          "size": 1.2195121951219512
         },
         "mode": "markers",
         "showlegend": false,
         "type": "scatter",
         "x": [
          37
         ],
         "y": [
          32
         ]
        },
        {
         "marker": {
          "color": "blue",
          "opacity": 0.5,
          "size": 1.2195121951219512
         },
         "mode": "markers",
         "showlegend": false,
         "type": "scatter",
         "x": [
          37
         ],
         "y": [
          33
         ]
        },
        {
         "marker": {
          "color": "blue",
          "opacity": 0.5,
          "size": 1.2195121951219512
         },
         "mode": "markers",
         "showlegend": false,
         "type": "scatter",
         "x": [
          38
         ],
         "y": [
          -37
         ]
        },
        {
         "marker": {
          "color": "blue",
          "opacity": 0.5,
          "size": 2.4390243902439024
         },
         "mode": "markers",
         "showlegend": false,
         "type": "scatter",
         "x": [
          38
         ],
         "y": [
          -31
         ]
        },
        {
         "marker": {
          "color": "blue",
          "opacity": 0.5,
          "size": 1.2195121951219512
         },
         "mode": "markers",
         "showlegend": false,
         "type": "scatter",
         "x": [
          38
         ],
         "y": [
          -29
         ]
        },
        {
         "marker": {
          "color": "blue",
          "opacity": 0.5,
          "size": 1.2195121951219512
         },
         "mode": "markers",
         "showlegend": false,
         "type": "scatter",
         "x": [
          38
         ],
         "y": [
          -26
         ]
        },
        {
         "marker": {
          "color": "blue",
          "opacity": 0.5,
          "size": 1.2195121951219512
         },
         "mode": "markers",
         "showlegend": false,
         "type": "scatter",
         "x": [
          38
         ],
         "y": [
          -25
         ]
        },
        {
         "marker": {
          "color": "blue",
          "opacity": 0.5,
          "size": 1.2195121951219512
         },
         "mode": "markers",
         "showlegend": false,
         "type": "scatter",
         "x": [
          38
         ],
         "y": [
          -22
         ]
        },
        {
         "marker": {
          "color": "blue",
          "opacity": 0.5,
          "size": 2.4390243902439024
         },
         "mode": "markers",
         "showlegend": false,
         "type": "scatter",
         "x": [
          38
         ],
         "y": [
          -21
         ]
        },
        {
         "marker": {
          "color": "blue",
          "opacity": 0.5,
          "size": 1.2195121951219512
         },
         "mode": "markers",
         "showlegend": false,
         "type": "scatter",
         "x": [
          38
         ],
         "y": [
          -19
         ]
        },
        {
         "marker": {
          "color": "blue",
          "opacity": 0.5,
          "size": 1.2195121951219512
         },
         "mode": "markers",
         "showlegend": false,
         "type": "scatter",
         "x": [
          38
         ],
         "y": [
          -14
         ]
        },
        {
         "marker": {
          "color": "blue",
          "opacity": 0.5,
          "size": 1.2195121951219512
         },
         "mode": "markers",
         "showlegend": false,
         "type": "scatter",
         "x": [
          38
         ],
         "y": [
          -13
         ]
        },
        {
         "marker": {
          "color": "blue",
          "opacity": 0.5,
          "size": 1.2195121951219512
         },
         "mode": "markers",
         "showlegend": false,
         "type": "scatter",
         "x": [
          38
         ],
         "y": [
          -12
         ]
        },
        {
         "marker": {
          "color": "blue",
          "opacity": 0.5,
          "size": 1.2195121951219512
         },
         "mode": "markers",
         "showlegend": false,
         "type": "scatter",
         "x": [
          38
         ],
         "y": [
          -9
         ]
        },
        {
         "marker": {
          "color": "blue",
          "opacity": 0.5,
          "size": 2.4390243902439024
         },
         "mode": "markers",
         "showlegend": false,
         "type": "scatter",
         "x": [
          38
         ],
         "y": [
          -7
         ]
        },
        {
         "marker": {
          "color": "blue",
          "opacity": 0.5,
          "size": 2.4390243902439024
         },
         "mode": "markers",
         "showlegend": false,
         "type": "scatter",
         "x": [
          38
         ],
         "y": [
          -4
         ]
        },
        {
         "marker": {
          "color": "blue",
          "opacity": 0.5,
          "size": 1.2195121951219512
         },
         "mode": "markers",
         "showlegend": false,
         "type": "scatter",
         "x": [
          38
         ],
         "y": [
          -3
         ]
        },
        {
         "marker": {
          "color": "blue",
          "opacity": 0.5,
          "size": 3.6585365853658534
         },
         "mode": "markers",
         "showlegend": false,
         "type": "scatter",
         "x": [
          38
         ],
         "y": [
          -1
         ]
        },
        {
         "marker": {
          "color": "blue",
          "opacity": 0.5,
          "size": 1.2195121951219512
         },
         "mode": "markers",
         "showlegend": false,
         "type": "scatter",
         "x": [
          38
         ],
         "y": [
          0
         ]
        },
        {
         "marker": {
          "color": "blue",
          "opacity": 0.5,
          "size": 3.6585365853658534
         },
         "mode": "markers",
         "showlegend": false,
         "type": "scatter",
         "x": [
          38
         ],
         "y": [
          1
         ]
        },
        {
         "marker": {
          "color": "blue",
          "opacity": 0.5,
          "size": 1.2195121951219512
         },
         "mode": "markers",
         "showlegend": false,
         "type": "scatter",
         "x": [
          38
         ],
         "y": [
          3
         ]
        },
        {
         "marker": {
          "color": "blue",
          "opacity": 0.5,
          "size": 2.4390243902439024
         },
         "mode": "markers",
         "showlegend": false,
         "type": "scatter",
         "x": [
          38
         ],
         "y": [
          4
         ]
        },
        {
         "marker": {
          "color": "blue",
          "opacity": 0.5,
          "size": 1.2195121951219512
         },
         "mode": "markers",
         "showlegend": false,
         "type": "scatter",
         "x": [
          38
         ],
         "y": [
          5
         ]
        },
        {
         "marker": {
          "color": "blue",
          "opacity": 0.5,
          "size": 2.4390243902439024
         },
         "mode": "markers",
         "showlegend": false,
         "type": "scatter",
         "x": [
          38
         ],
         "y": [
          10
         ]
        },
        {
         "marker": {
          "color": "blue",
          "opacity": 0.5,
          "size": 1.2195121951219512
         },
         "mode": "markers",
         "showlegend": false,
         "type": "scatter",
         "x": [
          38
         ],
         "y": [
          14
         ]
        },
        {
         "marker": {
          "color": "blue",
          "opacity": 0.5,
          "size": 2.4390243902439024
         },
         "mode": "markers",
         "showlegend": false,
         "type": "scatter",
         "x": [
          38
         ],
         "y": [
          17
         ]
        },
        {
         "marker": {
          "color": "blue",
          "opacity": 0.5,
          "size": 1.2195121951219512
         },
         "mode": "markers",
         "showlegend": false,
         "type": "scatter",
         "x": [
          38
         ],
         "y": [
          20
         ]
        },
        {
         "marker": {
          "color": "blue",
          "opacity": 0.5,
          "size": 1.2195121951219512
         },
         "mode": "markers",
         "showlegend": false,
         "type": "scatter",
         "x": [
          38
         ],
         "y": [
          23
         ]
        },
        {
         "marker": {
          "color": "blue",
          "opacity": 0.5,
          "size": 3.6585365853658534
         },
         "mode": "markers",
         "showlegend": false,
         "type": "scatter",
         "x": [
          38
         ],
         "y": [
          24
         ]
        },
        {
         "marker": {
          "color": "blue",
          "opacity": 0.5,
          "size": 2.4390243902439024
         },
         "mode": "markers",
         "showlegend": false,
         "type": "scatter",
         "x": [
          38
         ],
         "y": [
          31
         ]
        },
        {
         "marker": {
          "color": "blue",
          "opacity": 0.5,
          "size": 1.2195121951219512
         },
         "mode": "markers",
         "showlegend": false,
         "type": "scatter",
         "x": [
          38
         ],
         "y": [
          35
         ]
        },
        {
         "marker": {
          "color": "blue",
          "opacity": 0.5,
          "size": 1.2195121951219512
         },
         "mode": "markers",
         "showlegend": false,
         "type": "scatter",
         "x": [
          38
         ],
         "y": [
          36
         ]
        },
        {
         "marker": {
          "color": "blue",
          "opacity": 0.5,
          "size": 1.2195121951219512
         },
         "mode": "markers",
         "showlegend": false,
         "type": "scatter",
         "x": [
          39
         ],
         "y": [
          -29
         ]
        },
        {
         "marker": {
          "color": "blue",
          "opacity": 0.5,
          "size": 2.4390243902439024
         },
         "mode": "markers",
         "showlegend": false,
         "type": "scatter",
         "x": [
          39
         ],
         "y": [
          -28
         ]
        },
        {
         "marker": {
          "color": "blue",
          "opacity": 0.5,
          "size": 2.4390243902439024
         },
         "mode": "markers",
         "showlegend": false,
         "type": "scatter",
         "x": [
          39
         ],
         "y": [
          -27
         ]
        },
        {
         "marker": {
          "color": "blue",
          "opacity": 0.5,
          "size": 3.6585365853658534
         },
         "mode": "markers",
         "showlegend": false,
         "type": "scatter",
         "x": [
          39
         ],
         "y": [
          -25
         ]
        },
        {
         "marker": {
          "color": "blue",
          "opacity": 0.5,
          "size": 1.2195121951219512
         },
         "mode": "markers",
         "showlegend": false,
         "type": "scatter",
         "x": [
          39
         ],
         "y": [
          -23
         ]
        },
        {
         "marker": {
          "color": "blue",
          "opacity": 0.5,
          "size": 2.4390243902439024
         },
         "mode": "markers",
         "showlegend": false,
         "type": "scatter",
         "x": [
          39
         ],
         "y": [
          -22
         ]
        },
        {
         "marker": {
          "color": "blue",
          "opacity": 0.5,
          "size": 1.2195121951219512
         },
         "mode": "markers",
         "showlegend": false,
         "type": "scatter",
         "x": [
          39
         ],
         "y": [
          -20
         ]
        },
        {
         "marker": {
          "color": "blue",
          "opacity": 0.5,
          "size": 2.4390243902439024
         },
         "mode": "markers",
         "showlegend": false,
         "type": "scatter",
         "x": [
          39
         ],
         "y": [
          -19
         ]
        },
        {
         "marker": {
          "color": "blue",
          "opacity": 0.5,
          "size": 2.4390243902439024
         },
         "mode": "markers",
         "showlegend": false,
         "type": "scatter",
         "x": [
          39
         ],
         "y": [
          -16
         ]
        },
        {
         "marker": {
          "color": "blue",
          "opacity": 0.5,
          "size": 1.2195121951219512
         },
         "mode": "markers",
         "showlegend": false,
         "type": "scatter",
         "x": [
          39
         ],
         "y": [
          -15
         ]
        },
        {
         "marker": {
          "color": "blue",
          "opacity": 0.5,
          "size": 1.2195121951219512
         },
         "mode": "markers",
         "showlegend": false,
         "type": "scatter",
         "x": [
          39
         ],
         "y": [
          -14
         ]
        },
        {
         "marker": {
          "color": "blue",
          "opacity": 0.5,
          "size": 1.2195121951219512
         },
         "mode": "markers",
         "showlegend": false,
         "type": "scatter",
         "x": [
          39
         ],
         "y": [
          -13
         ]
        },
        {
         "marker": {
          "color": "blue",
          "opacity": 0.5,
          "size": 1.2195121951219512
         },
         "mode": "markers",
         "showlegend": false,
         "type": "scatter",
         "x": [
          39
         ],
         "y": [
          -7
         ]
        },
        {
         "marker": {
          "color": "blue",
          "opacity": 0.5,
          "size": 1.2195121951219512
         },
         "mode": "markers",
         "showlegend": false,
         "type": "scatter",
         "x": [
          39
         ],
         "y": [
          -6
         ]
        },
        {
         "marker": {
          "color": "blue",
          "opacity": 0.5,
          "size": 2.4390243902439024
         },
         "mode": "markers",
         "showlegend": false,
         "type": "scatter",
         "x": [
          39
         ],
         "y": [
          -5
         ]
        },
        {
         "marker": {
          "color": "blue",
          "opacity": 0.5,
          "size": 2.4390243902439024
         },
         "mode": "markers",
         "showlegend": false,
         "type": "scatter",
         "x": [
          39
         ],
         "y": [
          -4
         ]
        },
        {
         "marker": {
          "color": "blue",
          "opacity": 0.5,
          "size": 1.2195121951219512
         },
         "mode": "markers",
         "showlegend": false,
         "type": "scatter",
         "x": [
          39
         ],
         "y": [
          -2
         ]
        },
        {
         "marker": {
          "color": "blue",
          "opacity": 0.5,
          "size": 3.6585365853658534
         },
         "mode": "markers",
         "showlegend": false,
         "type": "scatter",
         "x": [
          39
         ],
         "y": [
          -1
         ]
        },
        {
         "marker": {
          "color": "blue",
          "opacity": 0.5,
          "size": 1.2195121951219512
         },
         "mode": "markers",
         "showlegend": false,
         "type": "scatter",
         "x": [
          39
         ],
         "y": [
          0
         ]
        },
        {
         "marker": {
          "color": "blue",
          "opacity": 0.5,
          "size": 1.2195121951219512
         },
         "mode": "markers",
         "showlegend": false,
         "type": "scatter",
         "x": [
          39
         ],
         "y": [
          5
         ]
        },
        {
         "marker": {
          "color": "blue",
          "opacity": 0.5,
          "size": 2.4390243902439024
         },
         "mode": "markers",
         "showlegend": false,
         "type": "scatter",
         "x": [
          39
         ],
         "y": [
          6
         ]
        },
        {
         "marker": {
          "color": "blue",
          "opacity": 0.5,
          "size": 2.4390243902439024
         },
         "mode": "markers",
         "showlegend": false,
         "type": "scatter",
         "x": [
          39
         ],
         "y": [
          7
         ]
        },
        {
         "marker": {
          "color": "blue",
          "opacity": 0.5,
          "size": 1.2195121951219512
         },
         "mode": "markers",
         "showlegend": false,
         "type": "scatter",
         "x": [
          39
         ],
         "y": [
          8
         ]
        },
        {
         "marker": {
          "color": "blue",
          "opacity": 0.5,
          "size": 1.2195121951219512
         },
         "mode": "markers",
         "showlegend": false,
         "type": "scatter",
         "x": [
          39
         ],
         "y": [
          9
         ]
        },
        {
         "marker": {
          "color": "blue",
          "opacity": 0.5,
          "size": 1.2195121951219512
         },
         "mode": "markers",
         "showlegend": false,
         "type": "scatter",
         "x": [
          39
         ],
         "y": [
          10
         ]
        },
        {
         "marker": {
          "color": "blue",
          "opacity": 0.5,
          "size": 1.2195121951219512
         },
         "mode": "markers",
         "showlegend": false,
         "type": "scatter",
         "x": [
          39
         ],
         "y": [
          11
         ]
        },
        {
         "marker": {
          "color": "blue",
          "opacity": 0.5,
          "size": 1.2195121951219512
         },
         "mode": "markers",
         "showlegend": false,
         "type": "scatter",
         "x": [
          39
         ],
         "y": [
          12
         ]
        },
        {
         "marker": {
          "color": "blue",
          "opacity": 0.5,
          "size": 1.2195121951219512
         },
         "mode": "markers",
         "showlegend": false,
         "type": "scatter",
         "x": [
          39
         ],
         "y": [
          13
         ]
        },
        {
         "marker": {
          "color": "blue",
          "opacity": 0.5,
          "size": 1.2195121951219512
         },
         "mode": "markers",
         "showlegend": false,
         "type": "scatter",
         "x": [
          39
         ],
         "y": [
          16
         ]
        },
        {
         "marker": {
          "color": "blue",
          "opacity": 0.5,
          "size": 1.2195121951219512
         },
         "mode": "markers",
         "showlegend": false,
         "type": "scatter",
         "x": [
          39
         ],
         "y": [
          20
         ]
        },
        {
         "marker": {
          "color": "blue",
          "opacity": 0.5,
          "size": 1.2195121951219512
         },
         "mode": "markers",
         "showlegend": false,
         "type": "scatter",
         "x": [
          39
         ],
         "y": [
          21
         ]
        },
        {
         "marker": {
          "color": "blue",
          "opacity": 0.5,
          "size": 3.6585365853658534
         },
         "mode": "markers",
         "showlegend": false,
         "type": "scatter",
         "x": [
          39
         ],
         "y": [
          22
         ]
        },
        {
         "marker": {
          "color": "blue",
          "opacity": 0.5,
          "size": 1.2195121951219512
         },
         "mode": "markers",
         "showlegend": false,
         "type": "scatter",
         "x": [
          39
         ],
         "y": [
          25
         ]
        },
        {
         "marker": {
          "color": "blue",
          "opacity": 0.5,
          "size": 2.4390243902439024
         },
         "mode": "markers",
         "showlegend": false,
         "type": "scatter",
         "x": [
          39
         ],
         "y": [
          27
         ]
        },
        {
         "marker": {
          "color": "blue",
          "opacity": 0.5,
          "size": 1.2195121951219512
         },
         "mode": "markers",
         "showlegend": false,
         "type": "scatter",
         "x": [
          39
         ],
         "y": [
          28
         ]
        },
        {
         "marker": {
          "color": "blue",
          "opacity": 0.5,
          "size": 2.4390243902439024
         },
         "mode": "markers",
         "showlegend": false,
         "type": "scatter",
         "x": [
          39
         ],
         "y": [
          30
         ]
        },
        {
         "marker": {
          "color": "blue",
          "opacity": 0.5,
          "size": 2.4390243902439024
         },
         "mode": "markers",
         "showlegend": false,
         "type": "scatter",
         "x": [
          39
         ],
         "y": [
          32
         ]
        },
        {
         "marker": {
          "color": "blue",
          "opacity": 0.5,
          "size": 1.2195121951219512
         },
         "mode": "markers",
         "showlegend": false,
         "type": "scatter",
         "x": [
          39
         ],
         "y": [
          35
         ]
        },
        {
         "marker": {
          "color": "blue",
          "opacity": 0.5,
          "size": 1.2195121951219512
         },
         "mode": "markers",
         "showlegend": false,
         "type": "scatter",
         "x": [
          40
         ],
         "y": [
          -32
         ]
        },
        {
         "marker": {
          "color": "blue",
          "opacity": 0.5,
          "size": 1.2195121951219512
         },
         "mode": "markers",
         "showlegend": false,
         "type": "scatter",
         "x": [
          40
         ],
         "y": [
          -30
         ]
        },
        {
         "marker": {
          "color": "blue",
          "opacity": 0.5,
          "size": 1.2195121951219512
         },
         "mode": "markers",
         "showlegend": false,
         "type": "scatter",
         "x": [
          40
         ],
         "y": [
          -29
         ]
        },
        {
         "marker": {
          "color": "blue",
          "opacity": 0.5,
          "size": 1.2195121951219512
         },
         "mode": "markers",
         "showlegend": false,
         "type": "scatter",
         "x": [
          40
         ],
         "y": [
          -26
         ]
        },
        {
         "marker": {
          "color": "blue",
          "opacity": 0.5,
          "size": 1.2195121951219512
         },
         "mode": "markers",
         "showlegend": false,
         "type": "scatter",
         "x": [
          40
         ],
         "y": [
          -25
         ]
        },
        {
         "marker": {
          "color": "blue",
          "opacity": 0.5,
          "size": 2.4390243902439024
         },
         "mode": "markers",
         "showlegend": false,
         "type": "scatter",
         "x": [
          40
         ],
         "y": [
          -22
         ]
        },
        {
         "marker": {
          "color": "blue",
          "opacity": 0.5,
          "size": 4.878048780487805
         },
         "mode": "markers",
         "showlegend": false,
         "type": "scatter",
         "x": [
          40
         ],
         "y": [
          -20
         ]
        },
        {
         "marker": {
          "color": "blue",
          "opacity": 0.5,
          "size": 1.2195121951219512
         },
         "mode": "markers",
         "showlegend": false,
         "type": "scatter",
         "x": [
          40
         ],
         "y": [
          -11
         ]
        },
        {
         "marker": {
          "color": "blue",
          "opacity": 0.5,
          "size": 1.2195121951219512
         },
         "mode": "markers",
         "showlegend": false,
         "type": "scatter",
         "x": [
          40
         ],
         "y": [
          -10
         ]
        },
        {
         "marker": {
          "color": "blue",
          "opacity": 0.5,
          "size": 1.2195121951219512
         },
         "mode": "markers",
         "showlegend": false,
         "type": "scatter",
         "x": [
          40
         ],
         "y": [
          -5
         ]
        },
        {
         "marker": {
          "color": "blue",
          "opacity": 0.5,
          "size": 1.2195121951219512
         },
         "mode": "markers",
         "showlegend": false,
         "type": "scatter",
         "x": [
          40
         ],
         "y": [
          -4
         ]
        },
        {
         "marker": {
          "color": "blue",
          "opacity": 0.5,
          "size": 1.2195121951219512
         },
         "mode": "markers",
         "showlegend": false,
         "type": "scatter",
         "x": [
          40
         ],
         "y": [
          -3
         ]
        },
        {
         "marker": {
          "color": "blue",
          "opacity": 0.5,
          "size": 1.2195121951219512
         },
         "mode": "markers",
         "showlegend": false,
         "type": "scatter",
         "x": [
          40
         ],
         "y": [
          -2
         ]
        },
        {
         "marker": {
          "color": "blue",
          "opacity": 0.5,
          "size": 1.2195121951219512
         },
         "mode": "markers",
         "showlegend": false,
         "type": "scatter",
         "x": [
          40
         ],
         "y": [
          -1
         ]
        },
        {
         "marker": {
          "color": "blue",
          "opacity": 0.5,
          "size": 1.2195121951219512
         },
         "mode": "markers",
         "showlegend": false,
         "type": "scatter",
         "x": [
          40
         ],
         "y": [
          0
         ]
        },
        {
         "marker": {
          "color": "blue",
          "opacity": 0.5,
          "size": 1.2195121951219512
         },
         "mode": "markers",
         "showlegend": false,
         "type": "scatter",
         "x": [
          40
         ],
         "y": [
          4
         ]
        },
        {
         "marker": {
          "color": "blue",
          "opacity": 0.5,
          "size": 1.2195121951219512
         },
         "mode": "markers",
         "showlegend": false,
         "type": "scatter",
         "x": [
          40
         ],
         "y": [
          6
         ]
        },
        {
         "marker": {
          "color": "blue",
          "opacity": 0.5,
          "size": 2.4390243902439024
         },
         "mode": "markers",
         "showlegend": false,
         "type": "scatter",
         "x": [
          40
         ],
         "y": [
          8
         ]
        },
        {
         "marker": {
          "color": "blue",
          "opacity": 0.5,
          "size": 1.2195121951219512
         },
         "mode": "markers",
         "showlegend": false,
         "type": "scatter",
         "x": [
          40
         ],
         "y": [
          11
         ]
        },
        {
         "marker": {
          "color": "blue",
          "opacity": 0.5,
          "size": 1.2195121951219512
         },
         "mode": "markers",
         "showlegend": false,
         "type": "scatter",
         "x": [
          40
         ],
         "y": [
          12
         ]
        },
        {
         "marker": {
          "color": "blue",
          "opacity": 0.5,
          "size": 2.4390243902439024
         },
         "mode": "markers",
         "showlegend": false,
         "type": "scatter",
         "x": [
          40
         ],
         "y": [
          13
         ]
        },
        {
         "marker": {
          "color": "blue",
          "opacity": 0.5,
          "size": 1.2195121951219512
         },
         "mode": "markers",
         "showlegend": false,
         "type": "scatter",
         "x": [
          40
         ],
         "y": [
          15
         ]
        },
        {
         "marker": {
          "color": "blue",
          "opacity": 0.5,
          "size": 1.2195121951219512
         },
         "mode": "markers",
         "showlegend": false,
         "type": "scatter",
         "x": [
          40
         ],
         "y": [
          16
         ]
        },
        {
         "marker": {
          "color": "blue",
          "opacity": 0.5,
          "size": 1.2195121951219512
         },
         "mode": "markers",
         "showlegend": false,
         "type": "scatter",
         "x": [
          40
         ],
         "y": [
          20
         ]
        },
        {
         "marker": {
          "color": "blue",
          "opacity": 0.5,
          "size": 1.2195121951219512
         },
         "mode": "markers",
         "showlegend": false,
         "type": "scatter",
         "x": [
          40
         ],
         "y": [
          21
         ]
        },
        {
         "marker": {
          "color": "blue",
          "opacity": 0.5,
          "size": 1.2195121951219512
         },
         "mode": "markers",
         "showlegend": false,
         "type": "scatter",
         "x": [
          40
         ],
         "y": [
          22
         ]
        },
        {
         "marker": {
          "color": "blue",
          "opacity": 0.5,
          "size": 1.2195121951219512
         },
         "mode": "markers",
         "showlegend": false,
         "type": "scatter",
         "x": [
          40
         ],
         "y": [
          23
         ]
        },
        {
         "marker": {
          "color": "blue",
          "opacity": 0.5,
          "size": 2.4390243902439024
         },
         "mode": "markers",
         "showlegend": false,
         "type": "scatter",
         "x": [
          40
         ],
         "y": [
          24
         ]
        },
        {
         "marker": {
          "color": "blue",
          "opacity": 0.5,
          "size": 1.2195121951219512
         },
         "mode": "markers",
         "showlegend": false,
         "type": "scatter",
         "x": [
          40
         ],
         "y": [
          25
         ]
        },
        {
         "marker": {
          "color": "blue",
          "opacity": 0.5,
          "size": 2.4390243902439024
         },
         "mode": "markers",
         "showlegend": false,
         "type": "scatter",
         "x": [
          40
         ],
         "y": [
          26
         ]
        },
        {
         "marker": {
          "color": "blue",
          "opacity": 0.5,
          "size": 3.6585365853658534
         },
         "mode": "markers",
         "showlegend": false,
         "type": "scatter",
         "x": [
          40
         ],
         "y": [
          27
         ]
        },
        {
         "marker": {
          "color": "blue",
          "opacity": 0.5,
          "size": 1.2195121951219512
         },
         "mode": "markers",
         "showlegend": false,
         "type": "scatter",
         "x": [
          40
         ],
         "y": [
          31
         ]
        },
        {
         "marker": {
          "color": "blue",
          "opacity": 0.5,
          "size": 1.2195121951219512
         },
         "mode": "markers",
         "showlegend": false,
         "type": "scatter",
         "x": [
          41
         ],
         "y": [
          -36
         ]
        },
        {
         "marker": {
          "color": "blue",
          "opacity": 0.5,
          "size": 1.2195121951219512
         },
         "mode": "markers",
         "showlegend": false,
         "type": "scatter",
         "x": [
          41
         ],
         "y": [
          -31
         ]
        },
        {
         "marker": {
          "color": "blue",
          "opacity": 0.5,
          "size": 1.2195121951219512
         },
         "mode": "markers",
         "showlegend": false,
         "type": "scatter",
         "x": [
          41
         ],
         "y": [
          -29
         ]
        },
        {
         "marker": {
          "color": "blue",
          "opacity": 0.5,
          "size": 2.4390243902439024
         },
         "mode": "markers",
         "showlegend": false,
         "type": "scatter",
         "x": [
          41
         ],
         "y": [
          -26
         ]
        },
        {
         "marker": {
          "color": "blue",
          "opacity": 0.5,
          "size": 1.2195121951219512
         },
         "mode": "markers",
         "showlegend": false,
         "type": "scatter",
         "x": [
          41
         ],
         "y": [
          -22
         ]
        },
        {
         "marker": {
          "color": "blue",
          "opacity": 0.5,
          "size": 1.2195121951219512
         },
         "mode": "markers",
         "showlegend": false,
         "type": "scatter",
         "x": [
          41
         ],
         "y": [
          -21
         ]
        },
        {
         "marker": {
          "color": "blue",
          "opacity": 0.5,
          "size": 1.2195121951219512
         },
         "mode": "markers",
         "showlegend": false,
         "type": "scatter",
         "x": [
          41
         ],
         "y": [
          -18
         ]
        },
        {
         "marker": {
          "color": "blue",
          "opacity": 0.5,
          "size": 1.2195121951219512
         },
         "mode": "markers",
         "showlegend": false,
         "type": "scatter",
         "x": [
          41
         ],
         "y": [
          -15
         ]
        },
        {
         "marker": {
          "color": "blue",
          "opacity": 0.5,
          "size": 1.2195121951219512
         },
         "mode": "markers",
         "showlegend": false,
         "type": "scatter",
         "x": [
          41
         ],
         "y": [
          -11
         ]
        },
        {
         "marker": {
          "color": "blue",
          "opacity": 0.5,
          "size": 1.2195121951219512
         },
         "mode": "markers",
         "showlegend": false,
         "type": "scatter",
         "x": [
          41
         ],
         "y": [
          -3
         ]
        },
        {
         "marker": {
          "color": "blue",
          "opacity": 0.5,
          "size": 1.2195121951219512
         },
         "mode": "markers",
         "showlegend": false,
         "type": "scatter",
         "x": [
          41
         ],
         "y": [
          -1
         ]
        },
        {
         "marker": {
          "color": "blue",
          "opacity": 0.5,
          "size": 3.6585365853658534
         },
         "mode": "markers",
         "showlegend": false,
         "type": "scatter",
         "x": [
          41
         ],
         "y": [
          0
         ]
        },
        {
         "marker": {
          "color": "blue",
          "opacity": 0.5,
          "size": 2.4390243902439024
         },
         "mode": "markers",
         "showlegend": false,
         "type": "scatter",
         "x": [
          41
         ],
         "y": [
          1
         ]
        },
        {
         "marker": {
          "color": "blue",
          "opacity": 0.5,
          "size": 1.2195121951219512
         },
         "mode": "markers",
         "showlegend": false,
         "type": "scatter",
         "x": [
          41
         ],
         "y": [
          2
         ]
        },
        {
         "marker": {
          "color": "blue",
          "opacity": 0.5,
          "size": 2.4390243902439024
         },
         "mode": "markers",
         "showlegend": false,
         "type": "scatter",
         "x": [
          41
         ],
         "y": [
          4
         ]
        },
        {
         "marker": {
          "color": "blue",
          "opacity": 0.5,
          "size": 1.2195121951219512
         },
         "mode": "markers",
         "showlegend": false,
         "type": "scatter",
         "x": [
          41
         ],
         "y": [
          5
         ]
        },
        {
         "marker": {
          "color": "blue",
          "opacity": 0.5,
          "size": 1.2195121951219512
         },
         "mode": "markers",
         "showlegend": false,
         "type": "scatter",
         "x": [
          41
         ],
         "y": [
          9
         ]
        },
        {
         "marker": {
          "color": "blue",
          "opacity": 0.5,
          "size": 1.2195121951219512
         },
         "mode": "markers",
         "showlegend": false,
         "type": "scatter",
         "x": [
          41
         ],
         "y": [
          11
         ]
        },
        {
         "marker": {
          "color": "blue",
          "opacity": 0.5,
          "size": 1.2195121951219512
         },
         "mode": "markers",
         "showlegend": false,
         "type": "scatter",
         "x": [
          41
         ],
         "y": [
          13
         ]
        },
        {
         "marker": {
          "color": "blue",
          "opacity": 0.5,
          "size": 1.2195121951219512
         },
         "mode": "markers",
         "showlegend": false,
         "type": "scatter",
         "x": [
          41
         ],
         "y": [
          14
         ]
        },
        {
         "marker": {
          "color": "blue",
          "opacity": 0.5,
          "size": 1.2195121951219512
         },
         "mode": "markers",
         "showlegend": false,
         "type": "scatter",
         "x": [
          41
         ],
         "y": [
          16
         ]
        },
        {
         "marker": {
          "color": "blue",
          "opacity": 0.5,
          "size": 1.2195121951219512
         },
         "mode": "markers",
         "showlegend": false,
         "type": "scatter",
         "x": [
          41
         ],
         "y": [
          18
         ]
        },
        {
         "marker": {
          "color": "blue",
          "opacity": 0.5,
          "size": 1.2195121951219512
         },
         "mode": "markers",
         "showlegend": false,
         "type": "scatter",
         "x": [
          41
         ],
         "y": [
          20
         ]
        },
        {
         "marker": {
          "color": "blue",
          "opacity": 0.5,
          "size": 2.4390243902439024
         },
         "mode": "markers",
         "showlegend": false,
         "type": "scatter",
         "x": [
          41
         ],
         "y": [
          22
         ]
        },
        {
         "marker": {
          "color": "blue",
          "opacity": 0.5,
          "size": 2.4390243902439024
         },
         "mode": "markers",
         "showlegend": false,
         "type": "scatter",
         "x": [
          41
         ],
         "y": [
          24
         ]
        },
        {
         "marker": {
          "color": "blue",
          "opacity": 0.5,
          "size": 3.6585365853658534
         },
         "mode": "markers",
         "showlegend": false,
         "type": "scatter",
         "x": [
          41
         ],
         "y": [
          27
         ]
        },
        {
         "marker": {
          "color": "blue",
          "opacity": 0.5,
          "size": 1.2195121951219512
         },
         "mode": "markers",
         "showlegend": false,
         "type": "scatter",
         "x": [
          41
         ],
         "y": [
          28
         ]
        },
        {
         "marker": {
          "color": "blue",
          "opacity": 0.5,
          "size": 1.2195121951219512
         },
         "mode": "markers",
         "showlegend": false,
         "type": "scatter",
         "x": [
          41
         ],
         "y": [
          29
         ]
        },
        {
         "marker": {
          "color": "blue",
          "opacity": 0.5,
          "size": 1.2195121951219512
         },
         "mode": "markers",
         "showlegend": false,
         "type": "scatter",
         "x": [
          41
         ],
         "y": [
          33
         ]
        },
        {
         "marker": {
          "color": "blue",
          "opacity": 0.5,
          "size": 1.2195121951219512
         },
         "mode": "markers",
         "showlegend": false,
         "type": "scatter",
         "x": [
          41
         ],
         "y": [
          36
         ]
        },
        {
         "marker": {
          "color": "blue",
          "opacity": 0.5,
          "size": 1.2195121951219512
         },
         "mode": "markers",
         "showlegend": false,
         "type": "scatter",
         "x": [
          42
         ],
         "y": [
          -30
         ]
        },
        {
         "marker": {
          "color": "blue",
          "opacity": 0.5,
          "size": 1.2195121951219512
         },
         "mode": "markers",
         "showlegend": false,
         "type": "scatter",
         "x": [
          42
         ],
         "y": [
          -29
         ]
        },
        {
         "marker": {
          "color": "blue",
          "opacity": 0.5,
          "size": 1.2195121951219512
         },
         "mode": "markers",
         "showlegend": false,
         "type": "scatter",
         "x": [
          42
         ],
         "y": [
          -27
         ]
        },
        {
         "marker": {
          "color": "blue",
          "opacity": 0.5,
          "size": 3.6585365853658534
         },
         "mode": "markers",
         "showlegend": false,
         "type": "scatter",
         "x": [
          42
         ],
         "y": [
          -25
         ]
        },
        {
         "marker": {
          "color": "blue",
          "opacity": 0.5,
          "size": 1.2195121951219512
         },
         "mode": "markers",
         "showlegend": false,
         "type": "scatter",
         "x": [
          42
         ],
         "y": [
          -24
         ]
        },
        {
         "marker": {
          "color": "blue",
          "opacity": 0.5,
          "size": 1.2195121951219512
         },
         "mode": "markers",
         "showlegend": false,
         "type": "scatter",
         "x": [
          42
         ],
         "y": [
          -23
         ]
        },
        {
         "marker": {
          "color": "blue",
          "opacity": 0.5,
          "size": 1.2195121951219512
         },
         "mode": "markers",
         "showlegend": false,
         "type": "scatter",
         "x": [
          42
         ],
         "y": [
          -19
         ]
        },
        {
         "marker": {
          "color": "blue",
          "opacity": 0.5,
          "size": 1.2195121951219512
         },
         "mode": "markers",
         "showlegend": false,
         "type": "scatter",
         "x": [
          42
         ],
         "y": [
          -15
         ]
        },
        {
         "marker": {
          "color": "blue",
          "opacity": 0.5,
          "size": 1.2195121951219512
         },
         "mode": "markers",
         "showlegend": false,
         "type": "scatter",
         "x": [
          42
         ],
         "y": [
          -12
         ]
        },
        {
         "marker": {
          "color": "blue",
          "opacity": 0.5,
          "size": 1.2195121951219512
         },
         "mode": "markers",
         "showlegend": false,
         "type": "scatter",
         "x": [
          42
         ],
         "y": [
          -11
         ]
        },
        {
         "marker": {
          "color": "blue",
          "opacity": 0.5,
          "size": 1.2195121951219512
         },
         "mode": "markers",
         "showlegend": false,
         "type": "scatter",
         "x": [
          42
         ],
         "y": [
          -6
         ]
        },
        {
         "marker": {
          "color": "blue",
          "opacity": 0.5,
          "size": 1.2195121951219512
         },
         "mode": "markers",
         "showlegend": false,
         "type": "scatter",
         "x": [
          42
         ],
         "y": [
          -3
         ]
        },
        {
         "marker": {
          "color": "blue",
          "opacity": 0.5,
          "size": 2.4390243902439024
         },
         "mode": "markers",
         "showlegend": false,
         "type": "scatter",
         "x": [
          42
         ],
         "y": [
          -1
         ]
        },
        {
         "marker": {
          "color": "blue",
          "opacity": 0.5,
          "size": 2.4390243902439024
         },
         "mode": "markers",
         "showlegend": false,
         "type": "scatter",
         "x": [
          42
         ],
         "y": [
          0
         ]
        },
        {
         "marker": {
          "color": "blue",
          "opacity": 0.5,
          "size": 1.2195121951219512
         },
         "mode": "markers",
         "showlegend": false,
         "type": "scatter",
         "x": [
          42
         ],
         "y": [
          2
         ]
        },
        {
         "marker": {
          "color": "blue",
          "opacity": 0.5,
          "size": 1.2195121951219512
         },
         "mode": "markers",
         "showlegend": false,
         "type": "scatter",
         "x": [
          42
         ],
         "y": [
          3
         ]
        },
        {
         "marker": {
          "color": "blue",
          "opacity": 0.5,
          "size": 1.2195121951219512
         },
         "mode": "markers",
         "showlegend": false,
         "type": "scatter",
         "x": [
          42
         ],
         "y": [
          6
         ]
        },
        {
         "marker": {
          "color": "blue",
          "opacity": 0.5,
          "size": 1.2195121951219512
         },
         "mode": "markers",
         "showlegend": false,
         "type": "scatter",
         "x": [
          42
         ],
         "y": [
          14
         ]
        },
        {
         "marker": {
          "color": "blue",
          "opacity": 0.5,
          "size": 1.2195121951219512
         },
         "mode": "markers",
         "showlegend": false,
         "type": "scatter",
         "x": [
          42
         ],
         "y": [
          15
         ]
        },
        {
         "marker": {
          "color": "blue",
          "opacity": 0.5,
          "size": 1.2195121951219512
         },
         "mode": "markers",
         "showlegend": false,
         "type": "scatter",
         "x": [
          42
         ],
         "y": [
          16
         ]
        },
        {
         "marker": {
          "color": "blue",
          "opacity": 0.5,
          "size": 1.2195121951219512
         },
         "mode": "markers",
         "showlegend": false,
         "type": "scatter",
         "x": [
          42
         ],
         "y": [
          19
         ]
        },
        {
         "marker": {
          "color": "blue",
          "opacity": 0.5,
          "size": 3.6585365853658534
         },
         "mode": "markers",
         "showlegend": false,
         "type": "scatter",
         "x": [
          42
         ],
         "y": [
          20
         ]
        },
        {
         "marker": {
          "color": "blue",
          "opacity": 0.5,
          "size": 4.878048780487805
         },
         "mode": "markers",
         "showlegend": false,
         "type": "scatter",
         "x": [
          42
         ],
         "y": [
          23
         ]
        },
        {
         "marker": {
          "color": "blue",
          "opacity": 0.5,
          "size": 2.4390243902439024
         },
         "mode": "markers",
         "showlegend": false,
         "type": "scatter",
         "x": [
          42
         ],
         "y": [
          24
         ]
        },
        {
         "marker": {
          "color": "blue",
          "opacity": 0.5,
          "size": 3.6585365853658534
         },
         "mode": "markers",
         "showlegend": false,
         "type": "scatter",
         "x": [
          42
         ],
         "y": [
          25
         ]
        },
        {
         "marker": {
          "color": "blue",
          "opacity": 0.5,
          "size": 2.4390243902439024
         },
         "mode": "markers",
         "showlegend": false,
         "type": "scatter",
         "x": [
          42
         ],
         "y": [
          26
         ]
        },
        {
         "marker": {
          "color": "blue",
          "opacity": 0.5,
          "size": 1.2195121951219512
         },
         "mode": "markers",
         "showlegend": false,
         "type": "scatter",
         "x": [
          42
         ],
         "y": [
          29
         ]
        },
        {
         "marker": {
          "color": "blue",
          "opacity": 0.5,
          "size": 1.2195121951219512
         },
         "mode": "markers",
         "showlegend": false,
         "type": "scatter",
         "x": [
          42
         ],
         "y": [
          35
         ]
        },
        {
         "marker": {
          "color": "blue",
          "opacity": 0.5,
          "size": 1.2195121951219512
         },
         "mode": "markers",
         "showlegend": false,
         "type": "scatter",
         "x": [
          42
         ],
         "y": [
          36
         ]
        },
        {
         "marker": {
          "color": "blue",
          "opacity": 0.5,
          "size": 1.2195121951219512
         },
         "mode": "markers",
         "showlegend": false,
         "type": "scatter",
         "x": [
          42
         ],
         "y": [
          38
         ]
        },
        {
         "marker": {
          "color": "blue",
          "opacity": 0.5,
          "size": 1.2195121951219512
         },
         "mode": "markers",
         "showlegend": false,
         "type": "scatter",
         "x": [
          43
         ],
         "y": [
          -34
         ]
        },
        {
         "marker": {
          "color": "blue",
          "opacity": 0.5,
          "size": 1.2195121951219512
         },
         "mode": "markers",
         "showlegend": false,
         "type": "scatter",
         "x": [
          43
         ],
         "y": [
          -31
         ]
        },
        {
         "marker": {
          "color": "blue",
          "opacity": 0.5,
          "size": 1.2195121951219512
         },
         "mode": "markers",
         "showlegend": false,
         "type": "scatter",
         "x": [
          43
         ],
         "y": [
          -29
         ]
        },
        {
         "marker": {
          "color": "blue",
          "opacity": 0.5,
          "size": 2.4390243902439024
         },
         "mode": "markers",
         "showlegend": false,
         "type": "scatter",
         "x": [
          43
         ],
         "y": [
          -25
         ]
        },
        {
         "marker": {
          "color": "blue",
          "opacity": 0.5,
          "size": 1.2195121951219512
         },
         "mode": "markers",
         "showlegend": false,
         "type": "scatter",
         "x": [
          43
         ],
         "y": [
          -22
         ]
        },
        {
         "marker": {
          "color": "blue",
          "opacity": 0.5,
          "size": 2.4390243902439024
         },
         "mode": "markers",
         "showlegend": false,
         "type": "scatter",
         "x": [
          43
         ],
         "y": [
          -21
         ]
        },
        {
         "marker": {
          "color": "blue",
          "opacity": 0.5,
          "size": 1.2195121951219512
         },
         "mode": "markers",
         "showlegend": false,
         "type": "scatter",
         "x": [
          43
         ],
         "y": [
          -18
         ]
        },
        {
         "marker": {
          "color": "blue",
          "opacity": 0.5,
          "size": 2.4390243902439024
         },
         "mode": "markers",
         "showlegend": false,
         "type": "scatter",
         "x": [
          43
         ],
         "y": [
          -17
         ]
        },
        {
         "marker": {
          "color": "blue",
          "opacity": 0.5,
          "size": 2.4390243902439024
         },
         "mode": "markers",
         "showlegend": false,
         "type": "scatter",
         "x": [
          43
         ],
         "y": [
          -16
         ]
        },
        {
         "marker": {
          "color": "blue",
          "opacity": 0.5,
          "size": 1.2195121951219512
         },
         "mode": "markers",
         "showlegend": false,
         "type": "scatter",
         "x": [
          43
         ],
         "y": [
          -12
         ]
        },
        {
         "marker": {
          "color": "blue",
          "opacity": 0.5,
          "size": 1.2195121951219512
         },
         "mode": "markers",
         "showlegend": false,
         "type": "scatter",
         "x": [
          43
         ],
         "y": [
          -9
         ]
        },
        {
         "marker": {
          "color": "blue",
          "opacity": 0.5,
          "size": 1.2195121951219512
         },
         "mode": "markers",
         "showlegend": false,
         "type": "scatter",
         "x": [
          43
         ],
         "y": [
          -7
         ]
        },
        {
         "marker": {
          "color": "blue",
          "opacity": 0.5,
          "size": 1.2195121951219512
         },
         "mode": "markers",
         "showlegend": false,
         "type": "scatter",
         "x": [
          43
         ],
         "y": [
          -3
         ]
        },
        {
         "marker": {
          "color": "blue",
          "opacity": 0.5,
          "size": 1.2195121951219512
         },
         "mode": "markers",
         "showlegend": false,
         "type": "scatter",
         "x": [
          43
         ],
         "y": [
          0
         ]
        },
        {
         "marker": {
          "color": "blue",
          "opacity": 0.5,
          "size": 1.2195121951219512
         },
         "mode": "markers",
         "showlegend": false,
         "type": "scatter",
         "x": [
          43
         ],
         "y": [
          1
         ]
        },
        {
         "marker": {
          "color": "blue",
          "opacity": 0.5,
          "size": 1.2195121951219512
         },
         "mode": "markers",
         "showlegend": false,
         "type": "scatter",
         "x": [
          43
         ],
         "y": [
          4
         ]
        },
        {
         "marker": {
          "color": "blue",
          "opacity": 0.5,
          "size": 1.2195121951219512
         },
         "mode": "markers",
         "showlegend": false,
         "type": "scatter",
         "x": [
          43
         ],
         "y": [
          6
         ]
        },
        {
         "marker": {
          "color": "blue",
          "opacity": 0.5,
          "size": 1.2195121951219512
         },
         "mode": "markers",
         "showlegend": false,
         "type": "scatter",
         "x": [
          43
         ],
         "y": [
          14
         ]
        },
        {
         "marker": {
          "color": "blue",
          "opacity": 0.5,
          "size": 2.4390243902439024
         },
         "mode": "markers",
         "showlegend": false,
         "type": "scatter",
         "x": [
          43
         ],
         "y": [
          17
         ]
        },
        {
         "marker": {
          "color": "blue",
          "opacity": 0.5,
          "size": 3.6585365853658534
         },
         "mode": "markers",
         "showlegend": false,
         "type": "scatter",
         "x": [
          43
         ],
         "y": [
          24
         ]
        },
        {
         "marker": {
          "color": "blue",
          "opacity": 0.5,
          "size": 3.6585365853658534
         },
         "mode": "markers",
         "showlegend": false,
         "type": "scatter",
         "x": [
          43
         ],
         "y": [
          26
         ]
        },
        {
         "marker": {
          "color": "blue",
          "opacity": 0.5,
          "size": 1.2195121951219512
         },
         "mode": "markers",
         "showlegend": false,
         "type": "scatter",
         "x": [
          44
         ],
         "y": [
          -31
         ]
        },
        {
         "marker": {
          "color": "blue",
          "opacity": 0.5,
          "size": 1.2195121951219512
         },
         "mode": "markers",
         "showlegend": false,
         "type": "scatter",
         "x": [
          44
         ],
         "y": [
          -26
         ]
        },
        {
         "marker": {
          "color": "blue",
          "opacity": 0.5,
          "size": 1.2195121951219512
         },
         "mode": "markers",
         "showlegend": false,
         "type": "scatter",
         "x": [
          44
         ],
         "y": [
          -25
         ]
        },
        {
         "marker": {
          "color": "blue",
          "opacity": 0.5,
          "size": 1.2195121951219512
         },
         "mode": "markers",
         "showlegend": false,
         "type": "scatter",
         "x": [
          44
         ],
         "y": [
          -22
         ]
        },
        {
         "marker": {
          "color": "blue",
          "opacity": 0.5,
          "size": 4.878048780487805
         },
         "mode": "markers",
         "showlegend": false,
         "type": "scatter",
         "x": [
          44
         ],
         "y": [
          -20
         ]
        },
        {
         "marker": {
          "color": "blue",
          "opacity": 0.5,
          "size": 1.2195121951219512
         },
         "mode": "markers",
         "showlegend": false,
         "type": "scatter",
         "x": [
          44
         ],
         "y": [
          -8
         ]
        },
        {
         "marker": {
          "color": "blue",
          "opacity": 0.5,
          "size": 1.2195121951219512
         },
         "mode": "markers",
         "showlegend": false,
         "type": "scatter",
         "x": [
          44
         ],
         "y": [
          -2
         ]
        },
        {
         "marker": {
          "color": "blue",
          "opacity": 0.5,
          "size": 1.2195121951219512
         },
         "mode": "markers",
         "showlegend": false,
         "type": "scatter",
         "x": [
          44
         ],
         "y": [
          -1
         ]
        },
        {
         "marker": {
          "color": "blue",
          "opacity": 0.5,
          "size": 1.2195121951219512
         },
         "mode": "markers",
         "showlegend": false,
         "type": "scatter",
         "x": [
          44
         ],
         "y": [
          14
         ]
        },
        {
         "marker": {
          "color": "blue",
          "opacity": 0.5,
          "size": 1.2195121951219512
         },
         "mode": "markers",
         "showlegend": false,
         "type": "scatter",
         "x": [
          44
         ],
         "y": [
          19
         ]
        },
        {
         "marker": {
          "color": "blue",
          "opacity": 0.5,
          "size": 2.4390243902439024
         },
         "mode": "markers",
         "showlegend": false,
         "type": "scatter",
         "x": [
          44
         ],
         "y": [
          21
         ]
        },
        {
         "marker": {
          "color": "blue",
          "opacity": 0.5,
          "size": 2.4390243902439024
         },
         "mode": "markers",
         "showlegend": false,
         "type": "scatter",
         "x": [
          44
         ],
         "y": [
          22
         ]
        },
        {
         "marker": {
          "color": "blue",
          "opacity": 0.5,
          "size": 1.2195121951219512
         },
         "mode": "markers",
         "showlegend": false,
         "type": "scatter",
         "x": [
          44
         ],
         "y": [
          23
         ]
        },
        {
         "marker": {
          "color": "blue",
          "opacity": 0.5,
          "size": 1.2195121951219512
         },
         "mode": "markers",
         "showlegend": false,
         "type": "scatter",
         "x": [
          44
         ],
         "y": [
          25
         ]
        },
        {
         "marker": {
          "color": "blue",
          "opacity": 0.5,
          "size": 2.4390243902439024
         },
         "mode": "markers",
         "showlegend": false,
         "type": "scatter",
         "x": [
          44
         ],
         "y": [
          27
         ]
        },
        {
         "marker": {
          "color": "blue",
          "opacity": 0.5,
          "size": 1.2195121951219512
         },
         "mode": "markers",
         "showlegend": false,
         "type": "scatter",
         "x": [
          44
         ],
         "y": [
          29
         ]
        },
        {
         "marker": {
          "color": "blue",
          "opacity": 0.5,
          "size": 1.2195121951219512
         },
         "mode": "markers",
         "showlegend": false,
         "type": "scatter",
         "x": [
          44
         ],
         "y": [
          39
         ]
        },
        {
         "marker": {
          "color": "blue",
          "opacity": 0.5,
          "size": 1.2195121951219512
         },
         "mode": "markers",
         "showlegend": false,
         "type": "scatter",
         "x": [
          45
         ],
         "y": [
          -30
         ]
        },
        {
         "marker": {
          "color": "blue",
          "opacity": 0.5,
          "size": 2.4390243902439024
         },
         "mode": "markers",
         "showlegend": false,
         "type": "scatter",
         "x": [
          45
         ],
         "y": [
          -29
         ]
        },
        {
         "marker": {
          "color": "blue",
          "opacity": 0.5,
          "size": 1.2195121951219512
         },
         "mode": "markers",
         "showlegend": false,
         "type": "scatter",
         "x": [
          45
         ],
         "y": [
          -28
         ]
        },
        {
         "marker": {
          "color": "blue",
          "opacity": 0.5,
          "size": 1.2195121951219512
         },
         "mode": "markers",
         "showlegend": false,
         "type": "scatter",
         "x": [
          45
         ],
         "y": [
          -27
         ]
        },
        {
         "marker": {
          "color": "blue",
          "opacity": 0.5,
          "size": 1.2195121951219512
         },
         "mode": "markers",
         "showlegend": false,
         "type": "scatter",
         "x": [
          45
         ],
         "y": [
          -21
         ]
        },
        {
         "marker": {
          "color": "blue",
          "opacity": 0.5,
          "size": 2.4390243902439024
         },
         "mode": "markers",
         "showlegend": false,
         "type": "scatter",
         "x": [
          45
         ],
         "y": [
          -19
         ]
        },
        {
         "marker": {
          "color": "blue",
          "opacity": 0.5,
          "size": 2.4390243902439024
         },
         "mode": "markers",
         "showlegend": false,
         "type": "scatter",
         "x": [
          45
         ],
         "y": [
          -17
         ]
        },
        {
         "marker": {
          "color": "blue",
          "opacity": 0.5,
          "size": 2.4390243902439024
         },
         "mode": "markers",
         "showlegend": false,
         "type": "scatter",
         "x": [
          45
         ],
         "y": [
          -16
         ]
        },
        {
         "marker": {
          "color": "blue",
          "opacity": 0.5,
          "size": 1.2195121951219512
         },
         "mode": "markers",
         "showlegend": false,
         "type": "scatter",
         "x": [
          45
         ],
         "y": [
          -13
         ]
        },
        {
         "marker": {
          "color": "blue",
          "opacity": 0.5,
          "size": 1.2195121951219512
         },
         "mode": "markers",
         "showlegend": false,
         "type": "scatter",
         "x": [
          45
         ],
         "y": [
          -12
         ]
        },
        {
         "marker": {
          "color": "blue",
          "opacity": 0.5,
          "size": 1.2195121951219512
         },
         "mode": "markers",
         "showlegend": false,
         "type": "scatter",
         "x": [
          45
         ],
         "y": [
          -9
         ]
        },
        {
         "marker": {
          "color": "blue",
          "opacity": 0.5,
          "size": 1.2195121951219512
         },
         "mode": "markers",
         "showlegend": false,
         "type": "scatter",
         "x": [
          45
         ],
         "y": [
          -8
         ]
        },
        {
         "marker": {
          "color": "blue",
          "opacity": 0.5,
          "size": 1.2195121951219512
         },
         "mode": "markers",
         "showlegend": false,
         "type": "scatter",
         "x": [
          45
         ],
         "y": [
          -6
         ]
        },
        {
         "marker": {
          "color": "blue",
          "opacity": 0.5,
          "size": 1.2195121951219512
         },
         "mode": "markers",
         "showlegend": false,
         "type": "scatter",
         "x": [
          45
         ],
         "y": [
          -5
         ]
        },
        {
         "marker": {
          "color": "blue",
          "opacity": 0.5,
          "size": 2.4390243902439024
         },
         "mode": "markers",
         "showlegend": false,
         "type": "scatter",
         "x": [
          45
         ],
         "y": [
          -1
         ]
        },
        {
         "marker": {
          "color": "blue",
          "opacity": 0.5,
          "size": 1.2195121951219512
         },
         "mode": "markers",
         "showlegend": false,
         "type": "scatter",
         "x": [
          45
         ],
         "y": [
          2
         ]
        },
        {
         "marker": {
          "color": "blue",
          "opacity": 0.5,
          "size": 1.2195121951219512
         },
         "mode": "markers",
         "showlegend": false,
         "type": "scatter",
         "x": [
          45
         ],
         "y": [
          10
         ]
        },
        {
         "marker": {
          "color": "blue",
          "opacity": 0.5,
          "size": 1.2195121951219512
         },
         "mode": "markers",
         "showlegend": false,
         "type": "scatter",
         "x": [
          45
         ],
         "y": [
          11
         ]
        },
        {
         "marker": {
          "color": "blue",
          "opacity": 0.5,
          "size": 1.2195121951219512
         },
         "mode": "markers",
         "showlegend": false,
         "type": "scatter",
         "x": [
          45
         ],
         "y": [
          12
         ]
        },
        {
         "marker": {
          "color": "blue",
          "opacity": 0.5,
          "size": 1.2195121951219512
         },
         "mode": "markers",
         "showlegend": false,
         "type": "scatter",
         "x": [
          45
         ],
         "y": [
          14
         ]
        },
        {
         "marker": {
          "color": "blue",
          "opacity": 0.5,
          "size": 1.2195121951219512
         },
         "mode": "markers",
         "showlegend": false,
         "type": "scatter",
         "x": [
          45
         ],
         "y": [
          16
         ]
        },
        {
         "marker": {
          "color": "blue",
          "opacity": 0.5,
          "size": 1.2195121951219512
         },
         "mode": "markers",
         "showlegend": false,
         "type": "scatter",
         "x": [
          45
         ],
         "y": [
          19
         ]
        },
        {
         "marker": {
          "color": "blue",
          "opacity": 0.5,
          "size": 2.4390243902439024
         },
         "mode": "markers",
         "showlegend": false,
         "type": "scatter",
         "x": [
          45
         ],
         "y": [
          20
         ]
        },
        {
         "marker": {
          "color": "blue",
          "opacity": 0.5,
          "size": 2.4390243902439024
         },
         "mode": "markers",
         "showlegend": false,
         "type": "scatter",
         "x": [
          45
         ],
         "y": [
          21
         ]
        },
        {
         "marker": {
          "color": "blue",
          "opacity": 0.5,
          "size": 1.2195121951219512
         },
         "mode": "markers",
         "showlegend": false,
         "type": "scatter",
         "x": [
          45
         ],
         "y": [
          23
         ]
        },
        {
         "marker": {
          "color": "blue",
          "opacity": 0.5,
          "size": 2.4390243902439024
         },
         "mode": "markers",
         "showlegend": false,
         "type": "scatter",
         "x": [
          45
         ],
         "y": [
          25
         ]
        },
        {
         "marker": {
          "color": "blue",
          "opacity": 0.5,
          "size": 1.2195121951219512
         },
         "mode": "markers",
         "showlegend": false,
         "type": "scatter",
         "x": [
          45
         ],
         "y": [
          26
         ]
        },
        {
         "marker": {
          "color": "blue",
          "opacity": 0.5,
          "size": 1.2195121951219512
         },
         "mode": "markers",
         "showlegend": false,
         "type": "scatter",
         "x": [
          45
         ],
         "y": [
          27
         ]
        },
        {
         "marker": {
          "color": "blue",
          "opacity": 0.5,
          "size": 1.2195121951219512
         },
         "mode": "markers",
         "showlegend": false,
         "type": "scatter",
         "x": [
          45
         ],
         "y": [
          28
         ]
        },
        {
         "marker": {
          "color": "blue",
          "opacity": 0.5,
          "size": 1.2195121951219512
         },
         "mode": "markers",
         "showlegend": false,
         "type": "scatter",
         "x": [
          45
         ],
         "y": [
          29
         ]
        },
        {
         "marker": {
          "color": "blue",
          "opacity": 0.5,
          "size": 2.4390243902439024
         },
         "mode": "markers",
         "showlegend": false,
         "type": "scatter",
         "x": [
          45
         ],
         "y": [
          30
         ]
        },
        {
         "marker": {
          "color": "blue",
          "opacity": 0.5,
          "size": 1.2195121951219512
         },
         "mode": "markers",
         "showlegend": false,
         "type": "scatter",
         "x": [
          45
         ],
         "y": [
          35
         ]
        },
        {
         "marker": {
          "color": "blue",
          "opacity": 0.5,
          "size": 1.2195121951219512
         },
         "mode": "markers",
         "showlegend": false,
         "type": "scatter",
         "x": [
          45
         ],
         "y": [
          38
         ]
        },
        {
         "marker": {
          "color": "blue",
          "opacity": 0.5,
          "size": 1.2195121951219512
         },
         "mode": "markers",
         "showlegend": false,
         "type": "scatter",
         "x": [
          46
         ],
         "y": [
          -37
         ]
        },
        {
         "marker": {
          "color": "blue",
          "opacity": 0.5,
          "size": 1.2195121951219512
         },
         "mode": "markers",
         "showlegend": false,
         "type": "scatter",
         "x": [
          46
         ],
         "y": [
          -30
         ]
        },
        {
         "marker": {
          "color": "blue",
          "opacity": 0.5,
          "size": 1.2195121951219512
         },
         "mode": "markers",
         "showlegend": false,
         "type": "scatter",
         "x": [
          46
         ],
         "y": [
          -25
         ]
        },
        {
         "marker": {
          "color": "blue",
          "opacity": 0.5,
          "size": 1.2195121951219512
         },
         "mode": "markers",
         "showlegend": false,
         "type": "scatter",
         "x": [
          46
         ],
         "y": [
          -22
         ]
        },
        {
         "marker": {
          "color": "blue",
          "opacity": 0.5,
          "size": 1.2195121951219512
         },
         "mode": "markers",
         "showlegend": false,
         "type": "scatter",
         "x": [
          46
         ],
         "y": [
          -20
         ]
        },
        {
         "marker": {
          "color": "blue",
          "opacity": 0.5,
          "size": 1.2195121951219512
         },
         "mode": "markers",
         "showlegend": false,
         "type": "scatter",
         "x": [
          46
         ],
         "y": [
          -19
         ]
        },
        {
         "marker": {
          "color": "blue",
          "opacity": 0.5,
          "size": 1.2195121951219512
         },
         "mode": "markers",
         "showlegend": false,
         "type": "scatter",
         "x": [
          46
         ],
         "y": [
          -11
         ]
        },
        {
         "marker": {
          "color": "blue",
          "opacity": 0.5,
          "size": 2.4390243902439024
         },
         "mode": "markers",
         "showlegend": false,
         "type": "scatter",
         "x": [
          46
         ],
         "y": [
          -10
         ]
        },
        {
         "marker": {
          "color": "blue",
          "opacity": 0.5,
          "size": 1.2195121951219512
         },
         "mode": "markers",
         "showlegend": false,
         "type": "scatter",
         "x": [
          46
         ],
         "y": [
          -3
         ]
        },
        {
         "marker": {
          "color": "blue",
          "opacity": 0.5,
          "size": 1.2195121951219512
         },
         "mode": "markers",
         "showlegend": false,
         "type": "scatter",
         "x": [
          46
         ],
         "y": [
          -1
         ]
        },
        {
         "marker": {
          "color": "blue",
          "opacity": 0.5,
          "size": 1.2195121951219512
         },
         "mode": "markers",
         "showlegend": false,
         "type": "scatter",
         "x": [
          46
         ],
         "y": [
          1
         ]
        },
        {
         "marker": {
          "color": "blue",
          "opacity": 0.5,
          "size": 2.4390243902439024
         },
         "mode": "markers",
         "showlegend": false,
         "type": "scatter",
         "x": [
          46
         ],
         "y": [
          2
         ]
        },
        {
         "marker": {
          "color": "blue",
          "opacity": 0.5,
          "size": 1.2195121951219512
         },
         "mode": "markers",
         "showlegend": false,
         "type": "scatter",
         "x": [
          46
         ],
         "y": [
          7
         ]
        },
        {
         "marker": {
          "color": "blue",
          "opacity": 0.5,
          "size": 1.2195121951219512
         },
         "mode": "markers",
         "showlegend": false,
         "type": "scatter",
         "x": [
          46
         ],
         "y": [
          9
         ]
        },
        {
         "marker": {
          "color": "blue",
          "opacity": 0.5,
          "size": 1.2195121951219512
         },
         "mode": "markers",
         "showlegend": false,
         "type": "scatter",
         "x": [
          46
         ],
         "y": [
          14
         ]
        },
        {
         "marker": {
          "color": "blue",
          "opacity": 0.5,
          "size": 1.2195121951219512
         },
         "mode": "markers",
         "showlegend": false,
         "type": "scatter",
         "x": [
          46
         ],
         "y": [
          16
         ]
        },
        {
         "marker": {
          "color": "blue",
          "opacity": 0.5,
          "size": 1.2195121951219512
         },
         "mode": "markers",
         "showlegend": false,
         "type": "scatter",
         "x": [
          46
         ],
         "y": [
          20
         ]
        },
        {
         "marker": {
          "color": "blue",
          "opacity": 0.5,
          "size": 1.2195121951219512
         },
         "mode": "markers",
         "showlegend": false,
         "type": "scatter",
         "x": [
          46
         ],
         "y": [
          22
         ]
        },
        {
         "marker": {
          "color": "blue",
          "opacity": 0.5,
          "size": 2.4390243902439024
         },
         "mode": "markers",
         "showlegend": false,
         "type": "scatter",
         "x": [
          46
         ],
         "y": [
          23
         ]
        },
        {
         "marker": {
          "color": "blue",
          "opacity": 0.5,
          "size": 2.4390243902439024
         },
         "mode": "markers",
         "showlegend": false,
         "type": "scatter",
         "x": [
          46
         ],
         "y": [
          24
         ]
        },
        {
         "marker": {
          "color": "blue",
          "opacity": 0.5,
          "size": 2.4390243902439024
         },
         "mode": "markers",
         "showlegend": false,
         "type": "scatter",
         "x": [
          46
         ],
         "y": [
          25
         ]
        },
        {
         "marker": {
          "color": "blue",
          "opacity": 0.5,
          "size": 1.2195121951219512
         },
         "mode": "markers",
         "showlegend": false,
         "type": "scatter",
         "x": [
          46
         ],
         "y": [
          26
         ]
        },
        {
         "marker": {
          "color": "blue",
          "opacity": 0.5,
          "size": 1.2195121951219512
         },
         "mode": "markers",
         "showlegend": false,
         "type": "scatter",
         "x": [
          46
         ],
         "y": [
          29
         ]
        },
        {
         "marker": {
          "color": "blue",
          "opacity": 0.5,
          "size": 1.2195121951219512
         },
         "mode": "markers",
         "showlegend": false,
         "type": "scatter",
         "x": [
          46
         ],
         "y": [
          30
         ]
        },
        {
         "marker": {
          "color": "blue",
          "opacity": 0.5,
          "size": 1.2195121951219512
         },
         "mode": "markers",
         "showlegend": false,
         "type": "scatter",
         "x": [
          47
         ],
         "y": [
          -36
         ]
        },
        {
         "marker": {
          "color": "blue",
          "opacity": 0.5,
          "size": 2.4390243902439024
         },
         "mode": "markers",
         "showlegend": false,
         "type": "scatter",
         "x": [
          47
         ],
         "y": [
          -31
         ]
        },
        {
         "marker": {
          "color": "blue",
          "opacity": 0.5,
          "size": 1.2195121951219512
         },
         "mode": "markers",
         "showlegend": false,
         "type": "scatter",
         "x": [
          47
         ],
         "y": [
          -25
         ]
        },
        {
         "marker": {
          "color": "blue",
          "opacity": 0.5,
          "size": 1.2195121951219512
         },
         "mode": "markers",
         "showlegend": false,
         "type": "scatter",
         "x": [
          47
         ],
         "y": [
          -22
         ]
        },
        {
         "marker": {
          "color": "blue",
          "opacity": 0.5,
          "size": 1.2195121951219512
         },
         "mode": "markers",
         "showlegend": false,
         "type": "scatter",
         "x": [
          47
         ],
         "y": [
          -19
         ]
        },
        {
         "marker": {
          "color": "blue",
          "opacity": 0.5,
          "size": 2.4390243902439024
         },
         "mode": "markers",
         "showlegend": false,
         "type": "scatter",
         "x": [
          47
         ],
         "y": [
          -18
         ]
        },
        {
         "marker": {
          "color": "blue",
          "opacity": 0.5,
          "size": 1.2195121951219512
         },
         "mode": "markers",
         "showlegend": false,
         "type": "scatter",
         "x": [
          47
         ],
         "y": [
          -12
         ]
        },
        {
         "marker": {
          "color": "blue",
          "opacity": 0.5,
          "size": 1.2195121951219512
         },
         "mode": "markers",
         "showlegend": false,
         "type": "scatter",
         "x": [
          47
         ],
         "y": [
          -1
         ]
        },
        {
         "marker": {
          "color": "blue",
          "opacity": 0.5,
          "size": 1.2195121951219512
         },
         "mode": "markers",
         "showlegend": false,
         "type": "scatter",
         "x": [
          47
         ],
         "y": [
          5
         ]
        },
        {
         "marker": {
          "color": "blue",
          "opacity": 0.5,
          "size": 1.2195121951219512
         },
         "mode": "markers",
         "showlegend": false,
         "type": "scatter",
         "x": [
          47
         ],
         "y": [
          10
         ]
        },
        {
         "marker": {
          "color": "blue",
          "opacity": 0.5,
          "size": 1.2195121951219512
         },
         "mode": "markers",
         "showlegend": false,
         "type": "scatter",
         "x": [
          47
         ],
         "y": [
          13
         ]
        },
        {
         "marker": {
          "color": "blue",
          "opacity": 0.5,
          "size": 1.2195121951219512
         },
         "mode": "markers",
         "showlegend": false,
         "type": "scatter",
         "x": [
          47
         ],
         "y": [
          14
         ]
        },
        {
         "marker": {
          "color": "blue",
          "opacity": 0.5,
          "size": 1.2195121951219512
         },
         "mode": "markers",
         "showlegend": false,
         "type": "scatter",
         "x": [
          47
         ],
         "y": [
          19
         ]
        },
        {
         "marker": {
          "color": "blue",
          "opacity": 0.5,
          "size": 1.2195121951219512
         },
         "mode": "markers",
         "showlegend": false,
         "type": "scatter",
         "x": [
          47
         ],
         "y": [
          23
         ]
        },
        {
         "marker": {
          "color": "blue",
          "opacity": 0.5,
          "size": 2.4390243902439024
         },
         "mode": "markers",
         "showlegend": false,
         "type": "scatter",
         "x": [
          47
         ],
         "y": [
          26
         ]
        },
        {
         "marker": {
          "color": "blue",
          "opacity": 0.5,
          "size": 2.4390243902439024
         },
         "mode": "markers",
         "showlegend": false,
         "type": "scatter",
         "x": [
          47
         ],
         "y": [
          31
         ]
        },
        {
         "marker": {
          "color": "blue",
          "opacity": 0.5,
          "size": 1.2195121951219512
         },
         "mode": "markers",
         "showlegend": false,
         "type": "scatter",
         "x": [
          47
         ],
         "y": [
          33
         ]
        },
        {
         "marker": {
          "color": "blue",
          "opacity": 0.5,
          "size": 1.2195121951219512
         },
         "mode": "markers",
         "showlegend": false,
         "type": "scatter",
         "x": [
          48
         ],
         "y": [
          -38
         ]
        },
        {
         "marker": {
          "color": "blue",
          "opacity": 0.5,
          "size": 2.4390243902439024
         },
         "mode": "markers",
         "showlegend": false,
         "type": "scatter",
         "x": [
          48
         ],
         "y": [
          -35
         ]
        },
        {
         "marker": {
          "color": "blue",
          "opacity": 0.5,
          "size": 2.4390243902439024
         },
         "mode": "markers",
         "showlegend": false,
         "type": "scatter",
         "x": [
          48
         ],
         "y": [
          -28
         ]
        },
        {
         "marker": {
          "color": "blue",
          "opacity": 0.5,
          "size": 1.2195121951219512
         },
         "mode": "markers",
         "showlegend": false,
         "type": "scatter",
         "x": [
          48
         ],
         "y": [
          -26
         ]
        },
        {
         "marker": {
          "color": "blue",
          "opacity": 0.5,
          "size": 1.2195121951219512
         },
         "mode": "markers",
         "showlegend": false,
         "type": "scatter",
         "x": [
          48
         ],
         "y": [
          -20
         ]
        },
        {
         "marker": {
          "color": "blue",
          "opacity": 0.5,
          "size": 1.2195121951219512
         },
         "mode": "markers",
         "showlegend": false,
         "type": "scatter",
         "x": [
          48
         ],
         "y": [
          -18
         ]
        },
        {
         "marker": {
          "color": "blue",
          "opacity": 0.5,
          "size": 1.2195121951219512
         },
         "mode": "markers",
         "showlegend": false,
         "type": "scatter",
         "x": [
          48
         ],
         "y": [
          -15
         ]
        },
        {
         "marker": {
          "color": "blue",
          "opacity": 0.5,
          "size": 1.2195121951219512
         },
         "mode": "markers",
         "showlegend": false,
         "type": "scatter",
         "x": [
          48
         ],
         "y": [
          -14
         ]
        },
        {
         "marker": {
          "color": "blue",
          "opacity": 0.5,
          "size": 1.2195121951219512
         },
         "mode": "markers",
         "showlegend": false,
         "type": "scatter",
         "x": [
          48
         ],
         "y": [
          -9
         ]
        },
        {
         "marker": {
          "color": "blue",
          "opacity": 0.5,
          "size": 1.2195121951219512
         },
         "mode": "markers",
         "showlegend": false,
         "type": "scatter",
         "x": [
          48
         ],
         "y": [
          -5
         ]
        },
        {
         "marker": {
          "color": "blue",
          "opacity": 0.5,
          "size": 1.2195121951219512
         },
         "mode": "markers",
         "showlegend": false,
         "type": "scatter",
         "x": [
          48
         ],
         "y": [
          1
         ]
        },
        {
         "marker": {
          "color": "blue",
          "opacity": 0.5,
          "size": 1.2195121951219512
         },
         "mode": "markers",
         "showlegend": false,
         "type": "scatter",
         "x": [
          48
         ],
         "y": [
          2
         ]
        },
        {
         "marker": {
          "color": "blue",
          "opacity": 0.5,
          "size": 1.2195121951219512
         },
         "mode": "markers",
         "showlegend": false,
         "type": "scatter",
         "x": [
          48
         ],
         "y": [
          5
         ]
        },
        {
         "marker": {
          "color": "blue",
          "opacity": 0.5,
          "size": 1.2195121951219512
         },
         "mode": "markers",
         "showlegend": false,
         "type": "scatter",
         "x": [
          48
         ],
         "y": [
          9
         ]
        },
        {
         "marker": {
          "color": "blue",
          "opacity": 0.5,
          "size": 1.2195121951219512
         },
         "mode": "markers",
         "showlegend": false,
         "type": "scatter",
         "x": [
          48
         ],
         "y": [
          10
         ]
        },
        {
         "marker": {
          "color": "blue",
          "opacity": 0.5,
          "size": 1.2195121951219512
         },
         "mode": "markers",
         "showlegend": false,
         "type": "scatter",
         "x": [
          48
         ],
         "y": [
          21
         ]
        },
        {
         "marker": {
          "color": "blue",
          "opacity": 0.5,
          "size": 2.4390243902439024
         },
         "mode": "markers",
         "showlegend": false,
         "type": "scatter",
         "x": [
          48
         ],
         "y": [
          22
         ]
        },
        {
         "marker": {
          "color": "blue",
          "opacity": 0.5,
          "size": 3.6585365853658534
         },
         "mode": "markers",
         "showlegend": false,
         "type": "scatter",
         "x": [
          48
         ],
         "y": [
          23
         ]
        },
        {
         "marker": {
          "color": "blue",
          "opacity": 0.5,
          "size": 2.4390243902439024
         },
         "mode": "markers",
         "showlegend": false,
         "type": "scatter",
         "x": [
          48
         ],
         "y": [
          24
         ]
        },
        {
         "marker": {
          "color": "blue",
          "opacity": 0.5,
          "size": 2.4390243902439024
         },
         "mode": "markers",
         "showlegend": false,
         "type": "scatter",
         "x": [
          48
         ],
         "y": [
          26
         ]
        },
        {
         "marker": {
          "color": "blue",
          "opacity": 0.5,
          "size": 1.2195121951219512
         },
         "mode": "markers",
         "showlegend": false,
         "type": "scatter",
         "x": [
          48
         ],
         "y": [
          28
         ]
        },
        {
         "marker": {
          "color": "blue",
          "opacity": 0.5,
          "size": 1.2195121951219512
         },
         "mode": "markers",
         "showlegend": false,
         "type": "scatter",
         "x": [
          48
         ],
         "y": [
          29
         ]
        },
        {
         "marker": {
          "color": "blue",
          "opacity": 0.5,
          "size": 1.2195121951219512
         },
         "mode": "markers",
         "showlegend": false,
         "type": "scatter",
         "x": [
          48
         ],
         "y": [
          31
         ]
        },
        {
         "marker": {
          "color": "blue",
          "opacity": 0.5,
          "size": 1.2195121951219512
         },
         "mode": "markers",
         "showlegend": false,
         "type": "scatter",
         "x": [
          48
         ],
         "y": [
          33
         ]
        },
        {
         "marker": {
          "color": "blue",
          "opacity": 0.5,
          "size": 2.4390243902439024
         },
         "mode": "markers",
         "showlegend": false,
         "type": "scatter",
         "x": [
          49
         ],
         "y": [
          -35
         ]
        },
        {
         "marker": {
          "color": "blue",
          "opacity": 0.5,
          "size": 2.4390243902439024
         },
         "mode": "markers",
         "showlegend": false,
         "type": "scatter",
         "x": [
          49
         ],
         "y": [
          -31
         ]
        },
        {
         "marker": {
          "color": "blue",
          "opacity": 0.5,
          "size": 3.6585365853658534
         },
         "mode": "markers",
         "showlegend": false,
         "type": "scatter",
         "x": [
          49
         ],
         "y": [
          -29
         ]
        },
        {
         "marker": {
          "color": "blue",
          "opacity": 0.5,
          "size": 2.4390243902439024
         },
         "mode": "markers",
         "showlegend": false,
         "type": "scatter",
         "x": [
          49
         ],
         "y": [
          -23
         ]
        },
        {
         "marker": {
          "color": "blue",
          "opacity": 0.5,
          "size": 1.2195121951219512
         },
         "mode": "markers",
         "showlegend": false,
         "type": "scatter",
         "x": [
          49
         ],
         "y": [
          -21
         ]
        },
        {
         "marker": {
          "color": "blue",
          "opacity": 0.5,
          "size": 1.2195121951219512
         },
         "mode": "markers",
         "showlegend": false,
         "type": "scatter",
         "x": [
          49
         ],
         "y": [
          -18
         ]
        },
        {
         "marker": {
          "color": "blue",
          "opacity": 0.5,
          "size": 1.2195121951219512
         },
         "mode": "markers",
         "showlegend": false,
         "type": "scatter",
         "x": [
          49
         ],
         "y": [
          -17
         ]
        },
        {
         "marker": {
          "color": "blue",
          "opacity": 0.5,
          "size": 1.2195121951219512
         },
         "mode": "markers",
         "showlegend": false,
         "type": "scatter",
         "x": [
          49
         ],
         "y": [
          -16
         ]
        },
        {
         "marker": {
          "color": "blue",
          "opacity": 0.5,
          "size": 1.2195121951219512
         },
         "mode": "markers",
         "showlegend": false,
         "type": "scatter",
         "x": [
          49
         ],
         "y": [
          -12
         ]
        },
        {
         "marker": {
          "color": "blue",
          "opacity": 0.5,
          "size": 1.2195121951219512
         },
         "mode": "markers",
         "showlegend": false,
         "type": "scatter",
         "x": [
          49
         ],
         "y": [
          -11
         ]
        },
        {
         "marker": {
          "color": "blue",
          "opacity": 0.5,
          "size": 1.2195121951219512
         },
         "mode": "markers",
         "showlegend": false,
         "type": "scatter",
         "x": [
          49
         ],
         "y": [
          -10
         ]
        },
        {
         "marker": {
          "color": "blue",
          "opacity": 0.5,
          "size": 2.4390243902439024
         },
         "mode": "markers",
         "showlegend": false,
         "type": "scatter",
         "x": [
          49
         ],
         "y": [
          -5
         ]
        },
        {
         "marker": {
          "color": "blue",
          "opacity": 0.5,
          "size": 1.2195121951219512
         },
         "mode": "markers",
         "showlegend": false,
         "type": "scatter",
         "x": [
          49
         ],
         "y": [
          -2
         ]
        },
        {
         "marker": {
          "color": "blue",
          "opacity": 0.5,
          "size": 2.4390243902439024
         },
         "mode": "markers",
         "showlegend": false,
         "type": "scatter",
         "x": [
          49
         ],
         "y": [
          0
         ]
        },
        {
         "marker": {
          "color": "blue",
          "opacity": 0.5,
          "size": 1.2195121951219512
         },
         "mode": "markers",
         "showlegend": false,
         "type": "scatter",
         "x": [
          49
         ],
         "y": [
          3
         ]
        },
        {
         "marker": {
          "color": "blue",
          "opacity": 0.5,
          "size": 1.2195121951219512
         },
         "mode": "markers",
         "showlegend": false,
         "type": "scatter",
         "x": [
          49
         ],
         "y": [
          7
         ]
        },
        {
         "marker": {
          "color": "blue",
          "opacity": 0.5,
          "size": 1.2195121951219512
         },
         "mode": "markers",
         "showlegend": false,
         "type": "scatter",
         "x": [
          49
         ],
         "y": [
          8
         ]
        },
        {
         "marker": {
          "color": "blue",
          "opacity": 0.5,
          "size": 2.4390243902439024
         },
         "mode": "markers",
         "showlegend": false,
         "type": "scatter",
         "x": [
          49
         ],
         "y": [
          14
         ]
        },
        {
         "marker": {
          "color": "blue",
          "opacity": 0.5,
          "size": 1.2195121951219512
         },
         "mode": "markers",
         "showlegend": false,
         "type": "scatter",
         "x": [
          49
         ],
         "y": [
          17
         ]
        },
        {
         "marker": {
          "color": "blue",
          "opacity": 0.5,
          "size": 1.2195121951219512
         },
         "mode": "markers",
         "showlegend": false,
         "type": "scatter",
         "x": [
          49
         ],
         "y": [
          18
         ]
        },
        {
         "marker": {
          "color": "blue",
          "opacity": 0.5,
          "size": 1.2195121951219512
         },
         "mode": "markers",
         "showlegend": false,
         "type": "scatter",
         "x": [
          49
         ],
         "y": [
          19
         ]
        },
        {
         "marker": {
          "color": "blue",
          "opacity": 0.5,
          "size": 1.2195121951219512
         },
         "mode": "markers",
         "showlegend": false,
         "type": "scatter",
         "x": [
          49
         ],
         "y": [
          22
         ]
        },
        {
         "marker": {
          "color": "blue",
          "opacity": 0.5,
          "size": 1.2195121951219512
         },
         "mode": "markers",
         "showlegend": false,
         "type": "scatter",
         "x": [
          49
         ],
         "y": [
          28
         ]
        },
        {
         "marker": {
          "color": "blue",
          "opacity": 0.5,
          "size": 1.2195121951219512
         },
         "mode": "markers",
         "showlegend": false,
         "type": "scatter",
         "x": [
          49
         ],
         "y": [
          37
         ]
        },
        {
         "marker": {
          "color": "blue",
          "opacity": 0.5,
          "size": 1.2195121951219512
         },
         "mode": "markers",
         "showlegend": false,
         "type": "scatter",
         "x": [
          50
         ],
         "y": [
          -37
         ]
        },
        {
         "marker": {
          "color": "blue",
          "opacity": 0.5,
          "size": 2.4390243902439024
         },
         "mode": "markers",
         "showlegend": false,
         "type": "scatter",
         "x": [
          50
         ],
         "y": [
          -33
         ]
        },
        {
         "marker": {
          "color": "blue",
          "opacity": 0.5,
          "size": 1.2195121951219512
         },
         "mode": "markers",
         "showlegend": false,
         "type": "scatter",
         "x": [
          50
         ],
         "y": [
          -28
         ]
        },
        {
         "marker": {
          "color": "blue",
          "opacity": 0.5,
          "size": 1.2195121951219512
         },
         "mode": "markers",
         "showlegend": false,
         "type": "scatter",
         "x": [
          50
         ],
         "y": [
          -27
         ]
        },
        {
         "marker": {
          "color": "blue",
          "opacity": 0.5,
          "size": 1.2195121951219512
         },
         "mode": "markers",
         "showlegend": false,
         "type": "scatter",
         "x": [
          50
         ],
         "y": [
          -26
         ]
        },
        {
         "marker": {
          "color": "blue",
          "opacity": 0.5,
          "size": 1.2195121951219512
         },
         "mode": "markers",
         "showlegend": false,
         "type": "scatter",
         "x": [
          50
         ],
         "y": [
          -25
         ]
        },
        {
         "marker": {
          "color": "blue",
          "opacity": 0.5,
          "size": 2.4390243902439024
         },
         "mode": "markers",
         "showlegend": false,
         "type": "scatter",
         "x": [
          50
         ],
         "y": [
          -20
         ]
        },
        {
         "marker": {
          "color": "blue",
          "opacity": 0.5,
          "size": 1.2195121951219512
         },
         "mode": "markers",
         "showlegend": false,
         "type": "scatter",
         "x": [
          50
         ],
         "y": [
          -13
         ]
        },
        {
         "marker": {
          "color": "blue",
          "opacity": 0.5,
          "size": 2.4390243902439024
         },
         "mode": "markers",
         "showlegend": false,
         "type": "scatter",
         "x": [
          50
         ],
         "y": [
          -5
         ]
        },
        {
         "marker": {
          "color": "blue",
          "opacity": 0.5,
          "size": 1.2195121951219512
         },
         "mode": "markers",
         "showlegend": false,
         "type": "scatter",
         "x": [
          50
         ],
         "y": [
          -2
         ]
        },
        {
         "marker": {
          "color": "blue",
          "opacity": 0.5,
          "size": 1.2195121951219512
         },
         "mode": "markers",
         "showlegend": false,
         "type": "scatter",
         "x": [
          50
         ],
         "y": [
          -1
         ]
        },
        {
         "marker": {
          "color": "blue",
          "opacity": 0.5,
          "size": 1.2195121951219512
         },
         "mode": "markers",
         "showlegend": false,
         "type": "scatter",
         "x": [
          50
         ],
         "y": [
          3
         ]
        },
        {
         "marker": {
          "color": "blue",
          "opacity": 0.5,
          "size": 1.2195121951219512
         },
         "mode": "markers",
         "showlegend": false,
         "type": "scatter",
         "x": [
          50
         ],
         "y": [
          4
         ]
        },
        {
         "marker": {
          "color": "blue",
          "opacity": 0.5,
          "size": 1.2195121951219512
         },
         "mode": "markers",
         "showlegend": false,
         "type": "scatter",
         "x": [
          50
         ],
         "y": [
          11
         ]
        },
        {
         "marker": {
          "color": "blue",
          "opacity": 0.5,
          "size": 1.2195121951219512
         },
         "mode": "markers",
         "showlegend": false,
         "type": "scatter",
         "x": [
          50
         ],
         "y": [
          13
         ]
        },
        {
         "marker": {
          "color": "blue",
          "opacity": 0.5,
          "size": 2.4390243902439024
         },
         "mode": "markers",
         "showlegend": false,
         "type": "scatter",
         "x": [
          50
         ],
         "y": [
          14
         ]
        },
        {
         "marker": {
          "color": "blue",
          "opacity": 0.5,
          "size": 2.4390243902439024
         },
         "mode": "markers",
         "showlegend": false,
         "type": "scatter",
         "x": [
          50
         ],
         "y": [
          16
         ]
        },
        {
         "marker": {
          "color": "blue",
          "opacity": 0.5,
          "size": 1.2195121951219512
         },
         "mode": "markers",
         "showlegend": false,
         "type": "scatter",
         "x": [
          50
         ],
         "y": [
          24
         ]
        },
        {
         "marker": {
          "color": "blue",
          "opacity": 0.5,
          "size": 2.4390243902439024
         },
         "mode": "markers",
         "showlegend": false,
         "type": "scatter",
         "x": [
          50
         ],
         "y": [
          26
         ]
        },
        {
         "marker": {
          "color": "blue",
          "opacity": 0.5,
          "size": 1.2195121951219512
         },
         "mode": "markers",
         "showlegend": false,
         "type": "scatter",
         "x": [
          50
         ],
         "y": [
          31
         ]
        },
        {
         "marker": {
          "color": "blue",
          "opacity": 0.5,
          "size": 2.4390243902439024
         },
         "mode": "markers",
         "showlegend": false,
         "type": "scatter",
         "x": [
          50
         ],
         "y": [
          32
         ]
        },
        {
         "marker": {
          "color": "blue",
          "opacity": 0.5,
          "size": 1.2195121951219512
         },
         "mode": "markers",
         "showlegend": false,
         "type": "scatter",
         "x": [
          50
         ],
         "y": [
          35
         ]
        },
        {
         "marker": {
          "color": "blue",
          "opacity": 0.5,
          "size": 1.2195121951219512
         },
         "mode": "markers",
         "showlegend": false,
         "type": "scatter",
         "x": [
          51
         ],
         "y": [
          -27
         ]
        },
        {
         "marker": {
          "color": "blue",
          "opacity": 0.5,
          "size": 1.2195121951219512
         },
         "mode": "markers",
         "showlegend": false,
         "type": "scatter",
         "x": [
          51
         ],
         "y": [
          -26
         ]
        },
        {
         "marker": {
          "color": "blue",
          "opacity": 0.5,
          "size": 1.2195121951219512
         },
         "mode": "markers",
         "showlegend": false,
         "type": "scatter",
         "x": [
          51
         ],
         "y": [
          -25
         ]
        },
        {
         "marker": {
          "color": "blue",
          "opacity": 0.5,
          "size": 2.4390243902439024
         },
         "mode": "markers",
         "showlegend": false,
         "type": "scatter",
         "x": [
          51
         ],
         "y": [
          -24
         ]
        },
        {
         "marker": {
          "color": "blue",
          "opacity": 0.5,
          "size": 3.6585365853658534
         },
         "mode": "markers",
         "showlegend": false,
         "type": "scatter",
         "x": [
          51
         ],
         "y": [
          -23
         ]
        },
        {
         "marker": {
          "color": "blue",
          "opacity": 0.5,
          "size": 1.2195121951219512
         },
         "mode": "markers",
         "showlegend": false,
         "type": "scatter",
         "x": [
          51
         ],
         "y": [
          -18
         ]
        },
        {
         "marker": {
          "color": "blue",
          "opacity": 0.5,
          "size": 1.2195121951219512
         },
         "mode": "markers",
         "showlegend": false,
         "type": "scatter",
         "x": [
          51
         ],
         "y": [
          -17
         ]
        },
        {
         "marker": {
          "color": "blue",
          "opacity": 0.5,
          "size": 2.4390243902439024
         },
         "mode": "markers",
         "showlegend": false,
         "type": "scatter",
         "x": [
          51
         ],
         "y": [
          -15
         ]
        },
        {
         "marker": {
          "color": "blue",
          "opacity": 0.5,
          "size": 1.2195121951219512
         },
         "mode": "markers",
         "showlegend": false,
         "type": "scatter",
         "x": [
          51
         ],
         "y": [
          -14
         ]
        },
        {
         "marker": {
          "color": "blue",
          "opacity": 0.5,
          "size": 1.2195121951219512
         },
         "mode": "markers",
         "showlegend": false,
         "type": "scatter",
         "x": [
          51
         ],
         "y": [
          -12
         ]
        },
        {
         "marker": {
          "color": "blue",
          "opacity": 0.5,
          "size": 1.2195121951219512
         },
         "mode": "markers",
         "showlegend": false,
         "type": "scatter",
         "x": [
          51
         ],
         "y": [
          -11
         ]
        },
        {
         "marker": {
          "color": "blue",
          "opacity": 0.5,
          "size": 2.4390243902439024
         },
         "mode": "markers",
         "showlegend": false,
         "type": "scatter",
         "x": [
          51
         ],
         "y": [
          -8
         ]
        },
        {
         "marker": {
          "color": "blue",
          "opacity": 0.5,
          "size": 2.4390243902439024
         },
         "mode": "markers",
         "showlegend": false,
         "type": "scatter",
         "x": [
          51
         ],
         "y": [
          -6
         ]
        },
        {
         "marker": {
          "color": "blue",
          "opacity": 0.5,
          "size": 1.2195121951219512
         },
         "mode": "markers",
         "showlegend": false,
         "type": "scatter",
         "x": [
          51
         ],
         "y": [
          0
         ]
        },
        {
         "marker": {
          "color": "blue",
          "opacity": 0.5,
          "size": 2.4390243902439024
         },
         "mode": "markers",
         "showlegend": false,
         "type": "scatter",
         "x": [
          51
         ],
         "y": [
          1
         ]
        },
        {
         "marker": {
          "color": "blue",
          "opacity": 0.5,
          "size": 1.2195121951219512
         },
         "mode": "markers",
         "showlegend": false,
         "type": "scatter",
         "x": [
          51
         ],
         "y": [
          4
         ]
        },
        {
         "marker": {
          "color": "blue",
          "opacity": 0.5,
          "size": 1.2195121951219512
         },
         "mode": "markers",
         "showlegend": false,
         "type": "scatter",
         "x": [
          51
         ],
         "y": [
          5
         ]
        },
        {
         "marker": {
          "color": "blue",
          "opacity": 0.5,
          "size": 2.4390243902439024
         },
         "mode": "markers",
         "showlegend": false,
         "type": "scatter",
         "x": [
          51
         ],
         "y": [
          6
         ]
        },
        {
         "marker": {
          "color": "blue",
          "opacity": 0.5,
          "size": 1.2195121951219512
         },
         "mode": "markers",
         "showlegend": false,
         "type": "scatter",
         "x": [
          51
         ],
         "y": [
          10
         ]
        },
        {
         "marker": {
          "color": "blue",
          "opacity": 0.5,
          "size": 2.4390243902439024
         },
         "mode": "markers",
         "showlegend": false,
         "type": "scatter",
         "x": [
          51
         ],
         "y": [
          16
         ]
        },
        {
         "marker": {
          "color": "blue",
          "opacity": 0.5,
          "size": 4.878048780487805
         },
         "mode": "markers",
         "showlegend": false,
         "type": "scatter",
         "x": [
          51
         ],
         "y": [
          20
         ]
        },
        {
         "marker": {
          "color": "blue",
          "opacity": 0.5,
          "size": 2.4390243902439024
         },
         "mode": "markers",
         "showlegend": false,
         "type": "scatter",
         "x": [
          51
         ],
         "y": [
          21
         ]
        },
        {
         "marker": {
          "color": "blue",
          "opacity": 0.5,
          "size": 2.4390243902439024
         },
         "mode": "markers",
         "showlegend": false,
         "type": "scatter",
         "x": [
          51
         ],
         "y": [
          22
         ]
        },
        {
         "marker": {
          "color": "blue",
          "opacity": 0.5,
          "size": 2.4390243902439024
         },
         "mode": "markers",
         "showlegend": false,
         "type": "scatter",
         "x": [
          51
         ],
         "y": [
          23
         ]
        },
        {
         "marker": {
          "color": "blue",
          "opacity": 0.5,
          "size": 1.2195121951219512
         },
         "mode": "markers",
         "showlegend": false,
         "type": "scatter",
         "x": [
          51
         ],
         "y": [
          34
         ]
        },
        {
         "marker": {
          "color": "blue",
          "opacity": 0.5,
          "size": 1.2195121951219512
         },
         "mode": "markers",
         "showlegend": false,
         "type": "scatter",
         "x": [
          52
         ],
         "y": [
          -33
         ]
        },
        {
         "marker": {
          "color": "blue",
          "opacity": 0.5,
          "size": 1.2195121951219512
         },
         "mode": "markers",
         "showlegend": false,
         "type": "scatter",
         "x": [
          52
         ],
         "y": [
          -32
         ]
        },
        {
         "marker": {
          "color": "blue",
          "opacity": 0.5,
          "size": 2.4390243902439024
         },
         "mode": "markers",
         "showlegend": false,
         "type": "scatter",
         "x": [
          52
         ],
         "y": [
          -28
         ]
        },
        {
         "marker": {
          "color": "blue",
          "opacity": 0.5,
          "size": 2.4390243902439024
         },
         "mode": "markers",
         "showlegend": false,
         "type": "scatter",
         "x": [
          52
         ],
         "y": [
          -27
         ]
        },
        {
         "marker": {
          "color": "blue",
          "opacity": 0.5,
          "size": 1.2195121951219512
         },
         "mode": "markers",
         "showlegend": false,
         "type": "scatter",
         "x": [
          52
         ],
         "y": [
          -25
         ]
        },
        {
         "marker": {
          "color": "blue",
          "opacity": 0.5,
          "size": 2.4390243902439024
         },
         "mode": "markers",
         "showlegend": false,
         "type": "scatter",
         "x": [
          52
         ],
         "y": [
          -24
         ]
        },
        {
         "marker": {
          "color": "blue",
          "opacity": 0.5,
          "size": 1.2195121951219512
         },
         "mode": "markers",
         "showlegend": false,
         "type": "scatter",
         "x": [
          52
         ],
         "y": [
          -23
         ]
        },
        {
         "marker": {
          "color": "blue",
          "opacity": 0.5,
          "size": 1.2195121951219512
         },
         "mode": "markers",
         "showlegend": false,
         "type": "scatter",
         "x": [
          52
         ],
         "y": [
          -22
         ]
        },
        {
         "marker": {
          "color": "blue",
          "opacity": 0.5,
          "size": 1.2195121951219512
         },
         "mode": "markers",
         "showlegend": false,
         "type": "scatter",
         "x": [
          52
         ],
         "y": [
          -21
         ]
        },
        {
         "marker": {
          "color": "blue",
          "opacity": 0.5,
          "size": 1.2195121951219512
         },
         "mode": "markers",
         "showlegend": false,
         "type": "scatter",
         "x": [
          52
         ],
         "y": [
          -20
         ]
        },
        {
         "marker": {
          "color": "blue",
          "opacity": 0.5,
          "size": 1.2195121951219512
         },
         "mode": "markers",
         "showlegend": false,
         "type": "scatter",
         "x": [
          52
         ],
         "y": [
          -19
         ]
        },
        {
         "marker": {
          "color": "blue",
          "opacity": 0.5,
          "size": 1.2195121951219512
         },
         "mode": "markers",
         "showlegend": false,
         "type": "scatter",
         "x": [
          52
         ],
         "y": [
          -17
         ]
        },
        {
         "marker": {
          "color": "blue",
          "opacity": 0.5,
          "size": 1.2195121951219512
         },
         "mode": "markers",
         "showlegend": false,
         "type": "scatter",
         "x": [
          52
         ],
         "y": [
          -13
         ]
        },
        {
         "marker": {
          "color": "blue",
          "opacity": 0.5,
          "size": 1.2195121951219512
         },
         "mode": "markers",
         "showlegend": false,
         "type": "scatter",
         "x": [
          52
         ],
         "y": [
          -10
         ]
        },
        {
         "marker": {
          "color": "blue",
          "opacity": 0.5,
          "size": 1.2195121951219512
         },
         "mode": "markers",
         "showlegend": false,
         "type": "scatter",
         "x": [
          52
         ],
         "y": [
          -9
         ]
        },
        {
         "marker": {
          "color": "blue",
          "opacity": 0.5,
          "size": 1.2195121951219512
         },
         "mode": "markers",
         "showlegend": false,
         "type": "scatter",
         "x": [
          52
         ],
         "y": [
          -8
         ]
        },
        {
         "marker": {
          "color": "blue",
          "opacity": 0.5,
          "size": 2.4390243902439024
         },
         "mode": "markers",
         "showlegend": false,
         "type": "scatter",
         "x": [
          52
         ],
         "y": [
          -5
         ]
        },
        {
         "marker": {
          "color": "blue",
          "opacity": 0.5,
          "size": 1.2195121951219512
         },
         "mode": "markers",
         "showlegend": false,
         "type": "scatter",
         "x": [
          52
         ],
         "y": [
          -4
         ]
        },
        {
         "marker": {
          "color": "blue",
          "opacity": 0.5,
          "size": 2.4390243902439024
         },
         "mode": "markers",
         "showlegend": false,
         "type": "scatter",
         "x": [
          52
         ],
         "y": [
          -3
         ]
        },
        {
         "marker": {
          "color": "blue",
          "opacity": 0.5,
          "size": 1.2195121951219512
         },
         "mode": "markers",
         "showlegend": false,
         "type": "scatter",
         "x": [
          52
         ],
         "y": [
          -1
         ]
        },
        {
         "marker": {
          "color": "blue",
          "opacity": 0.5,
          "size": 1.2195121951219512
         },
         "mode": "markers",
         "showlegend": false,
         "type": "scatter",
         "x": [
          52
         ],
         "y": [
          0
         ]
        },
        {
         "marker": {
          "color": "blue",
          "opacity": 0.5,
          "size": 3.6585365853658534
         },
         "mode": "markers",
         "showlegend": false,
         "type": "scatter",
         "x": [
          52
         ],
         "y": [
          1
         ]
        },
        {
         "marker": {
          "color": "blue",
          "opacity": 0.5,
          "size": 1.2195121951219512
         },
         "mode": "markers",
         "showlegend": false,
         "type": "scatter",
         "x": [
          52
         ],
         "y": [
          2
         ]
        },
        {
         "marker": {
          "color": "blue",
          "opacity": 0.5,
          "size": 1.2195121951219512
         },
         "mode": "markers",
         "showlegend": false,
         "type": "scatter",
         "x": [
          52
         ],
         "y": [
          6
         ]
        },
        {
         "marker": {
          "color": "blue",
          "opacity": 0.5,
          "size": 2.4390243902439024
         },
         "mode": "markers",
         "showlegend": false,
         "type": "scatter",
         "x": [
          52
         ],
         "y": [
          7
         ]
        },
        {
         "marker": {
          "color": "blue",
          "opacity": 0.5,
          "size": 1.2195121951219512
         },
         "mode": "markers",
         "showlegend": false,
         "type": "scatter",
         "x": [
          52
         ],
         "y": [
          8
         ]
        },
        {
         "marker": {
          "color": "blue",
          "opacity": 0.5,
          "size": 2.4390243902439024
         },
         "mode": "markers",
         "showlegend": false,
         "type": "scatter",
         "x": [
          52
         ],
         "y": [
          9
         ]
        },
        {
         "marker": {
          "color": "blue",
          "opacity": 0.5,
          "size": 1.2195121951219512
         },
         "mode": "markers",
         "showlegend": false,
         "type": "scatter",
         "x": [
          52
         ],
         "y": [
          10
         ]
        },
        {
         "marker": {
          "color": "blue",
          "opacity": 0.5,
          "size": 1.2195121951219512
         },
         "mode": "markers",
         "showlegend": false,
         "type": "scatter",
         "x": [
          52
         ],
         "y": [
          13
         ]
        },
        {
         "marker": {
          "color": "blue",
          "opacity": 0.5,
          "size": 1.2195121951219512
         },
         "mode": "markers",
         "showlegend": false,
         "type": "scatter",
         "x": [
          52
         ],
         "y": [
          18
         ]
        },
        {
         "marker": {
          "color": "blue",
          "opacity": 0.5,
          "size": 1.2195121951219512
         },
         "mode": "markers",
         "showlegend": false,
         "type": "scatter",
         "x": [
          52
         ],
         "y": [
          19
         ]
        },
        {
         "marker": {
          "color": "blue",
          "opacity": 0.5,
          "size": 1.2195121951219512
         },
         "mode": "markers",
         "showlegend": false,
         "type": "scatter",
         "x": [
          52
         ],
         "y": [
          20
         ]
        },
        {
         "marker": {
          "color": "blue",
          "opacity": 0.5,
          "size": 2.4390243902439024
         },
         "mode": "markers",
         "showlegend": false,
         "type": "scatter",
         "x": [
          52
         ],
         "y": [
          21
         ]
        },
        {
         "marker": {
          "color": "blue",
          "opacity": 0.5,
          "size": 2.4390243902439024
         },
         "mode": "markers",
         "showlegend": false,
         "type": "scatter",
         "x": [
          52
         ],
         "y": [
          22
         ]
        },
        {
         "marker": {
          "color": "blue",
          "opacity": 0.5,
          "size": 2.4390243902439024
         },
         "mode": "markers",
         "showlegend": false,
         "type": "scatter",
         "x": [
          52
         ],
         "y": [
          24
         ]
        },
        {
         "marker": {
          "color": "blue",
          "opacity": 0.5,
          "size": 1.2195121951219512
         },
         "mode": "markers",
         "showlegend": false,
         "type": "scatter",
         "x": [
          52
         ],
         "y": [
          25
         ]
        },
        {
         "marker": {
          "color": "blue",
          "opacity": 0.5,
          "size": 1.2195121951219512
         },
         "mode": "markers",
         "showlegend": false,
         "type": "scatter",
         "x": [
          52
         ],
         "y": [
          26
         ]
        },
        {
         "marker": {
          "color": "blue",
          "opacity": 0.5,
          "size": 1.2195121951219512
         },
         "mode": "markers",
         "showlegend": false,
         "type": "scatter",
         "x": [
          52
         ],
         "y": [
          29
         ]
        },
        {
         "marker": {
          "color": "blue",
          "opacity": 0.5,
          "size": 1.2195121951219512
         },
         "mode": "markers",
         "showlegend": false,
         "type": "scatter",
         "x": [
          52
         ],
         "y": [
          32
         ]
        },
        {
         "marker": {
          "color": "blue",
          "opacity": 0.5,
          "size": 1.2195121951219512
         },
         "mode": "markers",
         "showlegend": false,
         "type": "scatter",
         "x": [
          52
         ],
         "y": [
          33
         ]
        },
        {
         "marker": {
          "color": "blue",
          "opacity": 0.5,
          "size": 1.2195121951219512
         },
         "mode": "markers",
         "showlegend": false,
         "type": "scatter",
         "x": [
          52
         ],
         "y": [
          40
         ]
        },
        {
         "marker": {
          "color": "blue",
          "opacity": 0.5,
          "size": 1.2195121951219512
         },
         "mode": "markers",
         "showlegend": false,
         "type": "scatter",
         "x": [
          53
         ],
         "y": [
          -40
         ]
        },
        {
         "marker": {
          "color": "blue",
          "opacity": 0.5,
          "size": 1.2195121951219512
         },
         "mode": "markers",
         "showlegend": false,
         "type": "scatter",
         "x": [
          53
         ],
         "y": [
          -35
         ]
        },
        {
         "marker": {
          "color": "blue",
          "opacity": 0.5,
          "size": 1.2195121951219512
         },
         "mode": "markers",
         "showlegend": false,
         "type": "scatter",
         "x": [
          53
         ],
         "y": [
          -31
         ]
        },
        {
         "marker": {
          "color": "blue",
          "opacity": 0.5,
          "size": 1.2195121951219512
         },
         "mode": "markers",
         "showlegend": false,
         "type": "scatter",
         "x": [
          53
         ],
         "y": [
          -30
         ]
        },
        {
         "marker": {
          "color": "blue",
          "opacity": 0.5,
          "size": 1.2195121951219512
         },
         "mode": "markers",
         "showlegend": false,
         "type": "scatter",
         "x": [
          53
         ],
         "y": [
          -29
         ]
        },
        {
         "marker": {
          "color": "blue",
          "opacity": 0.5,
          "size": 1.2195121951219512
         },
         "mode": "markers",
         "showlegend": false,
         "type": "scatter",
         "x": [
          53
         ],
         "y": [
          -26
         ]
        },
        {
         "marker": {
          "color": "blue",
          "opacity": 0.5,
          "size": 1.2195121951219512
         },
         "mode": "markers",
         "showlegend": false,
         "type": "scatter",
         "x": [
          53
         ],
         "y": [
          -24
         ]
        },
        {
         "marker": {
          "color": "blue",
          "opacity": 0.5,
          "size": 1.2195121951219512
         },
         "mode": "markers",
         "showlegend": false,
         "type": "scatter",
         "x": [
          53
         ],
         "y": [
          -23
         ]
        },
        {
         "marker": {
          "color": "blue",
          "opacity": 0.5,
          "size": 1.2195121951219512
         },
         "mode": "markers",
         "showlegend": false,
         "type": "scatter",
         "x": [
          53
         ],
         "y": [
          -22
         ]
        },
        {
         "marker": {
          "color": "blue",
          "opacity": 0.5,
          "size": 1.2195121951219512
         },
         "mode": "markers",
         "showlegend": false,
         "type": "scatter",
         "x": [
          53
         ],
         "y": [
          -21
         ]
        },
        {
         "marker": {
          "color": "blue",
          "opacity": 0.5,
          "size": 1.2195121951219512
         },
         "mode": "markers",
         "showlegend": false,
         "type": "scatter",
         "x": [
          53
         ],
         "y": [
          -20
         ]
        },
        {
         "marker": {
          "color": "blue",
          "opacity": 0.5,
          "size": 1.2195121951219512
         },
         "mode": "markers",
         "showlegend": false,
         "type": "scatter",
         "x": [
          53
         ],
         "y": [
          -19
         ]
        },
        {
         "marker": {
          "color": "blue",
          "opacity": 0.5,
          "size": 1.2195121951219512
         },
         "mode": "markers",
         "showlegend": false,
         "type": "scatter",
         "x": [
          53
         ],
         "y": [
          -15
         ]
        },
        {
         "marker": {
          "color": "blue",
          "opacity": 0.5,
          "size": 2.4390243902439024
         },
         "mode": "markers",
         "showlegend": false,
         "type": "scatter",
         "x": [
          53
         ],
         "y": [
          -6
         ]
        },
        {
         "marker": {
          "color": "blue",
          "opacity": 0.5,
          "size": 2.4390243902439024
         },
         "mode": "markers",
         "showlegend": false,
         "type": "scatter",
         "x": [
          53
         ],
         "y": [
          -5
         ]
        },
        {
         "marker": {
          "color": "blue",
          "opacity": 0.5,
          "size": 1.2195121951219512
         },
         "mode": "markers",
         "showlegend": false,
         "type": "scatter",
         "x": [
          53
         ],
         "y": [
          -4
         ]
        },
        {
         "marker": {
          "color": "blue",
          "opacity": 0.5,
          "size": 1.2195121951219512
         },
         "mode": "markers",
         "showlegend": false,
         "type": "scatter",
         "x": [
          53
         ],
         "y": [
          1
         ]
        },
        {
         "marker": {
          "color": "blue",
          "opacity": 0.5,
          "size": 1.2195121951219512
         },
         "mode": "markers",
         "showlegend": false,
         "type": "scatter",
         "x": [
          53
         ],
         "y": [
          3
         ]
        },
        {
         "marker": {
          "color": "blue",
          "opacity": 0.5,
          "size": 1.2195121951219512
         },
         "mode": "markers",
         "showlegend": false,
         "type": "scatter",
         "x": [
          53
         ],
         "y": [
          8
         ]
        },
        {
         "marker": {
          "color": "blue",
          "opacity": 0.5,
          "size": 1.2195121951219512
         },
         "mode": "markers",
         "showlegend": false,
         "type": "scatter",
         "x": [
          53
         ],
         "y": [
          11
         ]
        },
        {
         "marker": {
          "color": "blue",
          "opacity": 0.5,
          "size": 1.2195121951219512
         },
         "mode": "markers",
         "showlegend": false,
         "type": "scatter",
         "x": [
          53
         ],
         "y": [
          13
         ]
        },
        {
         "marker": {
          "color": "blue",
          "opacity": 0.5,
          "size": 1.2195121951219512
         },
         "mode": "markers",
         "showlegend": false,
         "type": "scatter",
         "x": [
          53
         ],
         "y": [
          15
         ]
        },
        {
         "marker": {
          "color": "blue",
          "opacity": 0.5,
          "size": 1.2195121951219512
         },
         "mode": "markers",
         "showlegend": false,
         "type": "scatter",
         "x": [
          53
         ],
         "y": [
          18
         ]
        },
        {
         "marker": {
          "color": "blue",
          "opacity": 0.5,
          "size": 1.2195121951219512
         },
         "mode": "markers",
         "showlegend": false,
         "type": "scatter",
         "x": [
          53
         ],
         "y": [
          22
         ]
        },
        {
         "marker": {
          "color": "blue",
          "opacity": 0.5,
          "size": 1.2195121951219512
         },
         "mode": "markers",
         "showlegend": false,
         "type": "scatter",
         "x": [
          53
         ],
         "y": [
          23
         ]
        },
        {
         "marker": {
          "color": "blue",
          "opacity": 0.5,
          "size": 2.4390243902439024
         },
         "mode": "markers",
         "showlegend": false,
         "type": "scatter",
         "x": [
          53
         ],
         "y": [
          29
         ]
        },
        {
         "marker": {
          "color": "blue",
          "opacity": 0.5,
          "size": 1.2195121951219512
         },
         "mode": "markers",
         "showlegend": false,
         "type": "scatter",
         "x": [
          53
         ],
         "y": [
          32
         ]
        },
        {
         "marker": {
          "color": "blue",
          "opacity": 0.5,
          "size": 1.2195121951219512
         },
         "mode": "markers",
         "showlegend": false,
         "type": "scatter",
         "x": [
          53
         ],
         "y": [
          35
         ]
        },
        {
         "marker": {
          "color": "blue",
          "opacity": 0.5,
          "size": 1.2195121951219512
         },
         "mode": "markers",
         "showlegend": false,
         "type": "scatter",
         "x": [
          54
         ],
         "y": [
          -34
         ]
        },
        {
         "marker": {
          "color": "blue",
          "opacity": 0.5,
          "size": 1.2195121951219512
         },
         "mode": "markers",
         "showlegend": false,
         "type": "scatter",
         "x": [
          54
         ],
         "y": [
          -33
         ]
        },
        {
         "marker": {
          "color": "blue",
          "opacity": 0.5,
          "size": 2.4390243902439024
         },
         "mode": "markers",
         "showlegend": false,
         "type": "scatter",
         "x": [
          54
         ],
         "y": [
          -30
         ]
        },
        {
         "marker": {
          "color": "blue",
          "opacity": 0.5,
          "size": 2.4390243902439024
         },
         "mode": "markers",
         "showlegend": false,
         "type": "scatter",
         "x": [
          54
         ],
         "y": [
          -29
         ]
        },
        {
         "marker": {
          "color": "blue",
          "opacity": 0.5,
          "size": 1.2195121951219512
         },
         "mode": "markers",
         "showlegend": false,
         "type": "scatter",
         "x": [
          54
         ],
         "y": [
          -27
         ]
        },
        {
         "marker": {
          "color": "blue",
          "opacity": 0.5,
          "size": 1.2195121951219512
         },
         "mode": "markers",
         "showlegend": false,
         "type": "scatter",
         "x": [
          54
         ],
         "y": [
          -22
         ]
        },
        {
         "marker": {
          "color": "blue",
          "opacity": 0.5,
          "size": 1.2195121951219512
         },
         "mode": "markers",
         "showlegend": false,
         "type": "scatter",
         "x": [
          54
         ],
         "y": [
          -21
         ]
        },
        {
         "marker": {
          "color": "blue",
          "opacity": 0.5,
          "size": 2.4390243902439024
         },
         "mode": "markers",
         "showlegend": false,
         "type": "scatter",
         "x": [
          54
         ],
         "y": [
          -12
         ]
        },
        {
         "marker": {
          "color": "blue",
          "opacity": 0.5,
          "size": 2.4390243902439024
         },
         "mode": "markers",
         "showlegend": false,
         "type": "scatter",
         "x": [
          54
         ],
         "y": [
          -11
         ]
        },
        {
         "marker": {
          "color": "blue",
          "opacity": 0.5,
          "size": 1.2195121951219512
         },
         "mode": "markers",
         "showlegend": false,
         "type": "scatter",
         "x": [
          54
         ],
         "y": [
          -10
         ]
        },
        {
         "marker": {
          "color": "blue",
          "opacity": 0.5,
          "size": 1.2195121951219512
         },
         "mode": "markers",
         "showlegend": false,
         "type": "scatter",
         "x": [
          54
         ],
         "y": [
          -9
         ]
        },
        {
         "marker": {
          "color": "blue",
          "opacity": 0.5,
          "size": 1.2195121951219512
         },
         "mode": "markers",
         "showlegend": false,
         "type": "scatter",
         "x": [
          54
         ],
         "y": [
          -5
         ]
        },
        {
         "marker": {
          "color": "blue",
          "opacity": 0.5,
          "size": 1.2195121951219512
         },
         "mode": "markers",
         "showlegend": false,
         "type": "scatter",
         "x": [
          54
         ],
         "y": [
          -4
         ]
        },
        {
         "marker": {
          "color": "blue",
          "opacity": 0.5,
          "size": 1.2195121951219512
         },
         "mode": "markers",
         "showlegend": false,
         "type": "scatter",
         "x": [
          54
         ],
         "y": [
          -2
         ]
        },
        {
         "marker": {
          "color": "blue",
          "opacity": 0.5,
          "size": 1.2195121951219512
         },
         "mode": "markers",
         "showlegend": false,
         "type": "scatter",
         "x": [
          54
         ],
         "y": [
          2
         ]
        },
        {
         "marker": {
          "color": "blue",
          "opacity": 0.5,
          "size": 2.4390243902439024
         },
         "mode": "markers",
         "showlegend": false,
         "type": "scatter",
         "x": [
          54
         ],
         "y": [
          3
         ]
        },
        {
         "marker": {
          "color": "blue",
          "opacity": 0.5,
          "size": 1.2195121951219512
         },
         "mode": "markers",
         "showlegend": false,
         "type": "scatter",
         "x": [
          54
         ],
         "y": [
          5
         ]
        },
        {
         "marker": {
          "color": "blue",
          "opacity": 0.5,
          "size": 2.4390243902439024
         },
         "mode": "markers",
         "showlegend": false,
         "type": "scatter",
         "x": [
          54
         ],
         "y": [
          6
         ]
        },
        {
         "marker": {
          "color": "blue",
          "opacity": 0.5,
          "size": 1.2195121951219512
         },
         "mode": "markers",
         "showlegend": false,
         "type": "scatter",
         "x": [
          54
         ],
         "y": [
          14
         ]
        },
        {
         "marker": {
          "color": "blue",
          "opacity": 0.5,
          "size": 1.2195121951219512
         },
         "mode": "markers",
         "showlegend": false,
         "type": "scatter",
         "x": [
          54
         ],
         "y": [
          19
         ]
        },
        {
         "marker": {
          "color": "blue",
          "opacity": 0.5,
          "size": 3.6585365853658534
         },
         "mode": "markers",
         "showlegend": false,
         "type": "scatter",
         "x": [
          54
         ],
         "y": [
          20
         ]
        },
        {
         "marker": {
          "color": "blue",
          "opacity": 0.5,
          "size": 1.2195121951219512
         },
         "mode": "markers",
         "showlegend": false,
         "type": "scatter",
         "x": [
          54
         ],
         "y": [
          22
         ]
        },
        {
         "marker": {
          "color": "blue",
          "opacity": 0.5,
          "size": 1.2195121951219512
         },
         "mode": "markers",
         "showlegend": false,
         "type": "scatter",
         "x": [
          54
         ],
         "y": [
          24
         ]
        },
        {
         "marker": {
          "color": "blue",
          "opacity": 0.5,
          "size": 1.2195121951219512
         },
         "mode": "markers",
         "showlegend": false,
         "type": "scatter",
         "x": [
          54
         ],
         "y": [
          25
         ]
        },
        {
         "marker": {
          "color": "blue",
          "opacity": 0.5,
          "size": 2.4390243902439024
         },
         "mode": "markers",
         "showlegend": false,
         "type": "scatter",
         "x": [
          54
         ],
         "y": [
          29
         ]
        },
        {
         "marker": {
          "color": "blue",
          "opacity": 0.5,
          "size": 3.6585365853658534
         },
         "mode": "markers",
         "showlegend": false,
         "type": "scatter",
         "x": [
          54
         ],
         "y": [
          31
         ]
        },
        {
         "marker": {
          "color": "blue",
          "opacity": 0.5,
          "size": 1.2195121951219512
         },
         "mode": "markers",
         "showlegend": false,
         "type": "scatter",
         "x": [
          54
         ],
         "y": [
          32
         ]
        },
        {
         "marker": {
          "color": "blue",
          "opacity": 0.5,
          "size": 1.2195121951219512
         },
         "mode": "markers",
         "showlegend": false,
         "type": "scatter",
         "x": [
          54
         ],
         "y": [
          33
         ]
        },
        {
         "marker": {
          "color": "blue",
          "opacity": 0.5,
          "size": 1.2195121951219512
         },
         "mode": "markers",
         "showlegend": false,
         "type": "scatter",
         "x": [
          54
         ],
         "y": [
          37
         ]
        },
        {
         "marker": {
          "color": "blue",
          "opacity": 0.5,
          "size": 1.2195121951219512
         },
         "mode": "markers",
         "showlegend": false,
         "type": "scatter",
         "x": [
          55
         ],
         "y": [
          -40
         ]
        },
        {
         "marker": {
          "color": "blue",
          "opacity": 0.5,
          "size": 1.2195121951219512
         },
         "mode": "markers",
         "showlegend": false,
         "type": "scatter",
         "x": [
          55
         ],
         "y": [
          -31
         ]
        },
        {
         "marker": {
          "color": "blue",
          "opacity": 0.5,
          "size": 1.2195121951219512
         },
         "mode": "markers",
         "showlegend": false,
         "type": "scatter",
         "x": [
          55
         ],
         "y": [
          -30
         ]
        },
        {
         "marker": {
          "color": "blue",
          "opacity": 0.5,
          "size": 1.2195121951219512
         },
         "mode": "markers",
         "showlegend": false,
         "type": "scatter",
         "x": [
          55
         ],
         "y": [
          -28
         ]
        },
        {
         "marker": {
          "color": "blue",
          "opacity": 0.5,
          "size": 2.4390243902439024
         },
         "mode": "markers",
         "showlegend": false,
         "type": "scatter",
         "x": [
          55
         ],
         "y": [
          -26
         ]
        },
        {
         "marker": {
          "color": "blue",
          "opacity": 0.5,
          "size": 1.2195121951219512
         },
         "mode": "markers",
         "showlegend": false,
         "type": "scatter",
         "x": [
          55
         ],
         "y": [
          -25
         ]
        },
        {
         "marker": {
          "color": "blue",
          "opacity": 0.5,
          "size": 1.2195121951219512
         },
         "mode": "markers",
         "showlegend": false,
         "type": "scatter",
         "x": [
          55
         ],
         "y": [
          -23
         ]
        },
        {
         "marker": {
          "color": "blue",
          "opacity": 0.5,
          "size": 1.2195121951219512
         },
         "mode": "markers",
         "showlegend": false,
         "type": "scatter",
         "x": [
          55
         ],
         "y": [
          -18
         ]
        },
        {
         "marker": {
          "color": "blue",
          "opacity": 0.5,
          "size": 1.2195121951219512
         },
         "mode": "markers",
         "showlegend": false,
         "type": "scatter",
         "x": [
          55
         ],
         "y": [
          -15
         ]
        },
        {
         "marker": {
          "color": "blue",
          "opacity": 0.5,
          "size": 1.2195121951219512
         },
         "mode": "markers",
         "showlegend": false,
         "type": "scatter",
         "x": [
          55
         ],
         "y": [
          -10
         ]
        },
        {
         "marker": {
          "color": "blue",
          "opacity": 0.5,
          "size": 1.2195121951219512
         },
         "mode": "markers",
         "showlegend": false,
         "type": "scatter",
         "x": [
          55
         ],
         "y": [
          -5
         ]
        },
        {
         "marker": {
          "color": "blue",
          "opacity": 0.5,
          "size": 3.6585365853658534
         },
         "mode": "markers",
         "showlegend": false,
         "type": "scatter",
         "x": [
          55
         ],
         "y": [
          -3
         ]
        },
        {
         "marker": {
          "color": "blue",
          "opacity": 0.5,
          "size": 1.2195121951219512
         },
         "mode": "markers",
         "showlegend": false,
         "type": "scatter",
         "x": [
          55
         ],
         "y": [
          -2
         ]
        },
        {
         "marker": {
          "color": "blue",
          "opacity": 0.5,
          "size": 1.2195121951219512
         },
         "mode": "markers",
         "showlegend": false,
         "type": "scatter",
         "x": [
          55
         ],
         "y": [
          -1
         ]
        },
        {
         "marker": {
          "color": "blue",
          "opacity": 0.5,
          "size": 1.2195121951219512
         },
         "mode": "markers",
         "showlegend": false,
         "type": "scatter",
         "x": [
          55
         ],
         "y": [
          0
         ]
        },
        {
         "marker": {
          "color": "blue",
          "opacity": 0.5,
          "size": 1.2195121951219512
         },
         "mode": "markers",
         "showlegend": false,
         "type": "scatter",
         "x": [
          55
         ],
         "y": [
          1
         ]
        },
        {
         "marker": {
          "color": "blue",
          "opacity": 0.5,
          "size": 3.6585365853658534
         },
         "mode": "markers",
         "showlegend": false,
         "type": "scatter",
         "x": [
          55
         ],
         "y": [
          3
         ]
        },
        {
         "marker": {
          "color": "blue",
          "opacity": 0.5,
          "size": 1.2195121951219512
         },
         "mode": "markers",
         "showlegend": false,
         "type": "scatter",
         "x": [
          55
         ],
         "y": [
          6
         ]
        },
        {
         "marker": {
          "color": "blue",
          "opacity": 0.5,
          "size": 1.2195121951219512
         },
         "mode": "markers",
         "showlegend": false,
         "type": "scatter",
         "x": [
          55
         ],
         "y": [
          7
         ]
        },
        {
         "marker": {
          "color": "blue",
          "opacity": 0.5,
          "size": 2.4390243902439024
         },
         "mode": "markers",
         "showlegend": false,
         "type": "scatter",
         "x": [
          55
         ],
         "y": [
          8
         ]
        },
        {
         "marker": {
          "color": "blue",
          "opacity": 0.5,
          "size": 2.4390243902439024
         },
         "mode": "markers",
         "showlegend": false,
         "type": "scatter",
         "x": [
          55
         ],
         "y": [
          10
         ]
        },
        {
         "marker": {
          "color": "blue",
          "opacity": 0.5,
          "size": 1.2195121951219512
         },
         "mode": "markers",
         "showlegend": false,
         "type": "scatter",
         "x": [
          55
         ],
         "y": [
          14
         ]
        },
        {
         "marker": {
          "color": "blue",
          "opacity": 0.5,
          "size": 1.2195121951219512
         },
         "mode": "markers",
         "showlegend": false,
         "type": "scatter",
         "x": [
          55
         ],
         "y": [
          15
         ]
        },
        {
         "marker": {
          "color": "blue",
          "opacity": 0.5,
          "size": 1.2195121951219512
         },
         "mode": "markers",
         "showlegend": false,
         "type": "scatter",
         "x": [
          55
         ],
         "y": [
          17
         ]
        },
        {
         "marker": {
          "color": "blue",
          "opacity": 0.5,
          "size": 1.2195121951219512
         },
         "mode": "markers",
         "showlegend": false,
         "type": "scatter",
         "x": [
          55
         ],
         "y": [
          21
         ]
        },
        {
         "marker": {
          "color": "blue",
          "opacity": 0.5,
          "size": 1.2195121951219512
         },
         "mode": "markers",
         "showlegend": false,
         "type": "scatter",
         "x": [
          55
         ],
         "y": [
          22
         ]
        },
        {
         "marker": {
          "color": "blue",
          "opacity": 0.5,
          "size": 2.4390243902439024
         },
         "mode": "markers",
         "showlegend": false,
         "type": "scatter",
         "x": [
          55
         ],
         "y": [
          23
         ]
        },
        {
         "marker": {
          "color": "blue",
          "opacity": 0.5,
          "size": 2.4390243902439024
         },
         "mode": "markers",
         "showlegend": false,
         "type": "scatter",
         "x": [
          55
         ],
         "y": [
          25
         ]
        },
        {
         "marker": {
          "color": "blue",
          "opacity": 0.5,
          "size": 1.2195121951219512
         },
         "mode": "markers",
         "showlegend": false,
         "type": "scatter",
         "x": [
          55
         ],
         "y": [
          26
         ]
        },
        {
         "marker": {
          "color": "blue",
          "opacity": 0.5,
          "size": 1.2195121951219512
         },
         "mode": "markers",
         "showlegend": false,
         "type": "scatter",
         "x": [
          55
         ],
         "y": [
          28
         ]
        },
        {
         "marker": {
          "color": "blue",
          "opacity": 0.5,
          "size": 2.4390243902439024
         },
         "mode": "markers",
         "showlegend": false,
         "type": "scatter",
         "x": [
          55
         ],
         "y": [
          29
         ]
        },
        {
         "marker": {
          "color": "blue",
          "opacity": 0.5,
          "size": 1.2195121951219512
         },
         "mode": "markers",
         "showlegend": false,
         "type": "scatter",
         "x": [
          55
         ],
         "y": [
          32
         ]
        },
        {
         "marker": {
          "color": "blue",
          "opacity": 0.5,
          "size": 1.2195121951219512
         },
         "mode": "markers",
         "showlegend": false,
         "type": "scatter",
         "x": [
          55
         ],
         "y": [
          36
         ]
        },
        {
         "marker": {
          "color": "blue",
          "opacity": 0.5,
          "size": 1.2195121951219512
         },
         "mode": "markers",
         "showlegend": false,
         "type": "scatter",
         "x": [
          56
         ],
         "y": [
          -37
         ]
        },
        {
         "marker": {
          "color": "blue",
          "opacity": 0.5,
          "size": 1.2195121951219512
         },
         "mode": "markers",
         "showlegend": false,
         "type": "scatter",
         "x": [
          56
         ],
         "y": [
          -31
         ]
        },
        {
         "marker": {
          "color": "blue",
          "opacity": 0.5,
          "size": 1.2195121951219512
         },
         "mode": "markers",
         "showlegend": false,
         "type": "scatter",
         "x": [
          56
         ],
         "y": [
          -30
         ]
        },
        {
         "marker": {
          "color": "blue",
          "opacity": 0.5,
          "size": 2.4390243902439024
         },
         "mode": "markers",
         "showlegend": false,
         "type": "scatter",
         "x": [
          56
         ],
         "y": [
          -26
         ]
        },
        {
         "marker": {
          "color": "blue",
          "opacity": 0.5,
          "size": 2.4390243902439024
         },
         "mode": "markers",
         "showlegend": false,
         "type": "scatter",
         "x": [
          56
         ],
         "y": [
          -25
         ]
        },
        {
         "marker": {
          "color": "blue",
          "opacity": 0.5,
          "size": 2.4390243902439024
         },
         "mode": "markers",
         "showlegend": false,
         "type": "scatter",
         "x": [
          56
         ],
         "y": [
          -22
         ]
        },
        {
         "marker": {
          "color": "blue",
          "opacity": 0.5,
          "size": 1.2195121951219512
         },
         "mode": "markers",
         "showlegend": false,
         "type": "scatter",
         "x": [
          56
         ],
         "y": [
          -20
         ]
        },
        {
         "marker": {
          "color": "blue",
          "opacity": 0.5,
          "size": 2.4390243902439024
         },
         "mode": "markers",
         "showlegend": false,
         "type": "scatter",
         "x": [
          56
         ],
         "y": [
          -17
         ]
        },
        {
         "marker": {
          "color": "blue",
          "opacity": 0.5,
          "size": 2.4390243902439024
         },
         "mode": "markers",
         "showlegend": false,
         "type": "scatter",
         "x": [
          56
         ],
         "y": [
          -16
         ]
        },
        {
         "marker": {
          "color": "blue",
          "opacity": 0.5,
          "size": 1.2195121951219512
         },
         "mode": "markers",
         "showlegend": false,
         "type": "scatter",
         "x": [
          56
         ],
         "y": [
          -8
         ]
        },
        {
         "marker": {
          "color": "blue",
          "opacity": 0.5,
          "size": 1.2195121951219512
         },
         "mode": "markers",
         "showlegend": false,
         "type": "scatter",
         "x": [
          56
         ],
         "y": [
          -7
         ]
        },
        {
         "marker": {
          "color": "blue",
          "opacity": 0.5,
          "size": 1.2195121951219512
         },
         "mode": "markers",
         "showlegend": false,
         "type": "scatter",
         "x": [
          56
         ],
         "y": [
          -6
         ]
        },
        {
         "marker": {
          "color": "blue",
          "opacity": 0.5,
          "size": 1.2195121951219512
         },
         "mode": "markers",
         "showlegend": false,
         "type": "scatter",
         "x": [
          56
         ],
         "y": [
          -3
         ]
        },
        {
         "marker": {
          "color": "blue",
          "opacity": 0.5,
          "size": 1.2195121951219512
         },
         "mode": "markers",
         "showlegend": false,
         "type": "scatter",
         "x": [
          56
         ],
         "y": [
          0
         ]
        },
        {
         "marker": {
          "color": "blue",
          "opacity": 0.5,
          "size": 2.4390243902439024
         },
         "mode": "markers",
         "showlegend": false,
         "type": "scatter",
         "x": [
          56
         ],
         "y": [
          3
         ]
        },
        {
         "marker": {
          "color": "blue",
          "opacity": 0.5,
          "size": 1.2195121951219512
         },
         "mode": "markers",
         "showlegend": false,
         "type": "scatter",
         "x": [
          56
         ],
         "y": [
          4
         ]
        },
        {
         "marker": {
          "color": "blue",
          "opacity": 0.5,
          "size": 1.2195121951219512
         },
         "mode": "markers",
         "showlegend": false,
         "type": "scatter",
         "x": [
          56
         ],
         "y": [
          5
         ]
        },
        {
         "marker": {
          "color": "blue",
          "opacity": 0.5,
          "size": 1.2195121951219512
         },
         "mode": "markers",
         "showlegend": false,
         "type": "scatter",
         "x": [
          56
         ],
         "y": [
          8
         ]
        },
        {
         "marker": {
          "color": "blue",
          "opacity": 0.5,
          "size": 1.2195121951219512
         },
         "mode": "markers",
         "showlegend": false,
         "type": "scatter",
         "x": [
          56
         ],
         "y": [
          10
         ]
        },
        {
         "marker": {
          "color": "blue",
          "opacity": 0.5,
          "size": 1.2195121951219512
         },
         "mode": "markers",
         "showlegend": false,
         "type": "scatter",
         "x": [
          56
         ],
         "y": [
          15
         ]
        },
        {
         "marker": {
          "color": "blue",
          "opacity": 0.5,
          "size": 2.4390243902439024
         },
         "mode": "markers",
         "showlegend": false,
         "type": "scatter",
         "x": [
          56
         ],
         "y": [
          16
         ]
        },
        {
         "marker": {
          "color": "blue",
          "opacity": 0.5,
          "size": 1.2195121951219512
         },
         "mode": "markers",
         "showlegend": false,
         "type": "scatter",
         "x": [
          56
         ],
         "y": [
          19
         ]
        },
        {
         "marker": {
          "color": "blue",
          "opacity": 0.5,
          "size": 1.2195121951219512
         },
         "mode": "markers",
         "showlegend": false,
         "type": "scatter",
         "x": [
          56
         ],
         "y": [
          26
         ]
        },
        {
         "marker": {
          "color": "blue",
          "opacity": 0.5,
          "size": 1.2195121951219512
         },
         "mode": "markers",
         "showlegend": false,
         "type": "scatter",
         "x": [
          56
         ],
         "y": [
          27
         ]
        },
        {
         "marker": {
          "color": "blue",
          "opacity": 0.5,
          "size": 1.2195121951219512
         },
         "mode": "markers",
         "showlegend": false,
         "type": "scatter",
         "x": [
          56
         ],
         "y": [
          28
         ]
        },
        {
         "marker": {
          "color": "blue",
          "opacity": 0.5,
          "size": 1.2195121951219512
         },
         "mode": "markers",
         "showlegend": false,
         "type": "scatter",
         "x": [
          56
         ],
         "y": [
          35
         ]
        },
        {
         "marker": {
          "color": "blue",
          "opacity": 0.5,
          "size": 1.2195121951219512
         },
         "mode": "markers",
         "showlegend": false,
         "type": "scatter",
         "x": [
          56
         ],
         "y": [
          36
         ]
        },
        {
         "marker": {
          "color": "blue",
          "opacity": 0.5,
          "size": 2.4390243902439024
         },
         "mode": "markers",
         "showlegend": false,
         "type": "scatter",
         "x": [
          57
         ],
         "y": [
          -37
         ]
        },
        {
         "marker": {
          "color": "blue",
          "opacity": 0.5,
          "size": 1.2195121951219512
         },
         "mode": "markers",
         "showlegend": false,
         "type": "scatter",
         "x": [
          57
         ],
         "y": [
          -35
         ]
        },
        {
         "marker": {
          "color": "blue",
          "opacity": 0.5,
          "size": 2.4390243902439024
         },
         "mode": "markers",
         "showlegend": false,
         "type": "scatter",
         "x": [
          57
         ],
         "y": [
          -31
         ]
        },
        {
         "marker": {
          "color": "blue",
          "opacity": 0.5,
          "size": 1.2195121951219512
         },
         "mode": "markers",
         "showlegend": false,
         "type": "scatter",
         "x": [
          57
         ],
         "y": [
          -29
         ]
        },
        {
         "marker": {
          "color": "blue",
          "opacity": 0.5,
          "size": 3.6585365853658534
         },
         "mode": "markers",
         "showlegend": false,
         "type": "scatter",
         "x": [
          57
         ],
         "y": [
          -27
         ]
        },
        {
         "marker": {
          "color": "blue",
          "opacity": 0.5,
          "size": 1.2195121951219512
         },
         "mode": "markers",
         "showlegend": false,
         "type": "scatter",
         "x": [
          57
         ],
         "y": [
          -26
         ]
        },
        {
         "marker": {
          "color": "blue",
          "opacity": 0.5,
          "size": 1.2195121951219512
         },
         "mode": "markers",
         "showlegend": false,
         "type": "scatter",
         "x": [
          57
         ],
         "y": [
          -25
         ]
        },
        {
         "marker": {
          "color": "blue",
          "opacity": 0.5,
          "size": 1.2195121951219512
         },
         "mode": "markers",
         "showlegend": false,
         "type": "scatter",
         "x": [
          57
         ],
         "y": [
          -22
         ]
        },
        {
         "marker": {
          "color": "blue",
          "opacity": 0.5,
          "size": 1.2195121951219512
         },
         "mode": "markers",
         "showlegend": false,
         "type": "scatter",
         "x": [
          57
         ],
         "y": [
          -20
         ]
        },
        {
         "marker": {
          "color": "blue",
          "opacity": 0.5,
          "size": 2.4390243902439024
         },
         "mode": "markers",
         "showlegend": false,
         "type": "scatter",
         "x": [
          57
         ],
         "y": [
          -17
         ]
        },
        {
         "marker": {
          "color": "blue",
          "opacity": 0.5,
          "size": 2.4390243902439024
         },
         "mode": "markers",
         "showlegend": false,
         "type": "scatter",
         "x": [
          57
         ],
         "y": [
          -12
         ]
        },
        {
         "marker": {
          "color": "blue",
          "opacity": 0.5,
          "size": 1.2195121951219512
         },
         "mode": "markers",
         "showlegend": false,
         "type": "scatter",
         "x": [
          57
         ],
         "y": [
          -8
         ]
        },
        {
         "marker": {
          "color": "blue",
          "opacity": 0.5,
          "size": 2.4390243902439024
         },
         "mode": "markers",
         "showlegend": false,
         "type": "scatter",
         "x": [
          57
         ],
         "y": [
          -5
         ]
        },
        {
         "marker": {
          "color": "blue",
          "opacity": 0.5,
          "size": 1.2195121951219512
         },
         "mode": "markers",
         "showlegend": false,
         "type": "scatter",
         "x": [
          57
         ],
         "y": [
          -3
         ]
        },
        {
         "marker": {
          "color": "blue",
          "opacity": 0.5,
          "size": 1.2195121951219512
         },
         "mode": "markers",
         "showlegend": false,
         "type": "scatter",
         "x": [
          57
         ],
         "y": [
          3
         ]
        },
        {
         "marker": {
          "color": "blue",
          "opacity": 0.5,
          "size": 1.2195121951219512
         },
         "mode": "markers",
         "showlegend": false,
         "type": "scatter",
         "x": [
          57
         ],
         "y": [
          5
         ]
        },
        {
         "marker": {
          "color": "blue",
          "opacity": 0.5,
          "size": 1.2195121951219512
         },
         "mode": "markers",
         "showlegend": false,
         "type": "scatter",
         "x": [
          57
         ],
         "y": [
          6
         ]
        },
        {
         "marker": {
          "color": "blue",
          "opacity": 0.5,
          "size": 1.2195121951219512
         },
         "mode": "markers",
         "showlegend": false,
         "type": "scatter",
         "x": [
          57
         ],
         "y": [
          8
         ]
        },
        {
         "marker": {
          "color": "blue",
          "opacity": 0.5,
          "size": 1.2195121951219512
         },
         "mode": "markers",
         "showlegend": false,
         "type": "scatter",
         "x": [
          57
         ],
         "y": [
          9
         ]
        },
        {
         "marker": {
          "color": "blue",
          "opacity": 0.5,
          "size": 1.2195121951219512
         },
         "mode": "markers",
         "showlegend": false,
         "type": "scatter",
         "x": [
          57
         ],
         "y": [
          10
         ]
        },
        {
         "marker": {
          "color": "blue",
          "opacity": 0.5,
          "size": 1.2195121951219512
         },
         "mode": "markers",
         "showlegend": false,
         "type": "scatter",
         "x": [
          57
         ],
         "y": [
          11
         ]
        },
        {
         "marker": {
          "color": "blue",
          "opacity": 0.5,
          "size": 3.6585365853658534
         },
         "mode": "markers",
         "showlegend": false,
         "type": "scatter",
         "x": [
          57
         ],
         "y": [
          12
         ]
        },
        {
         "marker": {
          "color": "blue",
          "opacity": 0.5,
          "size": 1.2195121951219512
         },
         "mode": "markers",
         "showlegend": false,
         "type": "scatter",
         "x": [
          57
         ],
         "y": [
          13
         ]
        },
        {
         "marker": {
          "color": "blue",
          "opacity": 0.5,
          "size": 1.2195121951219512
         },
         "mode": "markers",
         "showlegend": false,
         "type": "scatter",
         "x": [
          57
         ],
         "y": [
          15
         ]
        },
        {
         "marker": {
          "color": "blue",
          "opacity": 0.5,
          "size": 2.4390243902439024
         },
         "mode": "markers",
         "showlegend": false,
         "type": "scatter",
         "x": [
          57
         ],
         "y": [
          16
         ]
        },
        {
         "marker": {
          "color": "blue",
          "opacity": 0.5,
          "size": 1.2195121951219512
         },
         "mode": "markers",
         "showlegend": false,
         "type": "scatter",
         "x": [
          57
         ],
         "y": [
          17
         ]
        },
        {
         "marker": {
          "color": "blue",
          "opacity": 0.5,
          "size": 1.2195121951219512
         },
         "mode": "markers",
         "showlegend": false,
         "type": "scatter",
         "x": [
          57
         ],
         "y": [
          18
         ]
        },
        {
         "marker": {
          "color": "blue",
          "opacity": 0.5,
          "size": 4.878048780487805
         },
         "mode": "markers",
         "showlegend": false,
         "type": "scatter",
         "x": [
          57
         ],
         "y": [
          20
         ]
        },
        {
         "marker": {
          "color": "blue",
          "opacity": 0.5,
          "size": 1.2195121951219512
         },
         "mode": "markers",
         "showlegend": false,
         "type": "scatter",
         "x": [
          57
         ],
         "y": [
          21
         ]
        },
        {
         "marker": {
          "color": "blue",
          "opacity": 0.5,
          "size": 2.4390243902439024
         },
         "mode": "markers",
         "showlegend": false,
         "type": "scatter",
         "x": [
          57
         ],
         "y": [
          23
         ]
        },
        {
         "marker": {
          "color": "blue",
          "opacity": 0.5,
          "size": 1.2195121951219512
         },
         "mode": "markers",
         "showlegend": false,
         "type": "scatter",
         "x": [
          57
         ],
         "y": [
          24
         ]
        },
        {
         "marker": {
          "color": "blue",
          "opacity": 0.5,
          "size": 1.2195121951219512
         },
         "mode": "markers",
         "showlegend": false,
         "type": "scatter",
         "x": [
          57
         ],
         "y": [
          25
         ]
        },
        {
         "marker": {
          "color": "blue",
          "opacity": 0.5,
          "size": 1.2195121951219512
         },
         "mode": "markers",
         "showlegend": false,
         "type": "scatter",
         "x": [
          57
         ],
         "y": [
          27
         ]
        },
        {
         "marker": {
          "color": "blue",
          "opacity": 0.5,
          "size": 2.4390243902439024
         },
         "mode": "markers",
         "showlegend": false,
         "type": "scatter",
         "x": [
          57
         ],
         "y": [
          29
         ]
        },
        {
         "marker": {
          "color": "blue",
          "opacity": 0.5,
          "size": 1.2195121951219512
         },
         "mode": "markers",
         "showlegend": false,
         "type": "scatter",
         "x": [
          57
         ],
         "y": [
          30
         ]
        },
        {
         "marker": {
          "color": "blue",
          "opacity": 0.5,
          "size": 2.4390243902439024
         },
         "mode": "markers",
         "showlegend": false,
         "type": "scatter",
         "x": [
          57
         ],
         "y": [
          31
         ]
        },
        {
         "marker": {
          "color": "blue",
          "opacity": 0.5,
          "size": 1.2195121951219512
         },
         "mode": "markers",
         "showlegend": false,
         "type": "scatter",
         "x": [
          57
         ],
         "y": [
          32
         ]
        },
        {
         "marker": {
          "color": "blue",
          "opacity": 0.5,
          "size": 1.2195121951219512
         },
         "mode": "markers",
         "showlegend": false,
         "type": "scatter",
         "x": [
          57
         ],
         "y": [
          33
         ]
        },
        {
         "marker": {
          "color": "blue",
          "opacity": 0.5,
          "size": 1.2195121951219512
         },
         "mode": "markers",
         "showlegend": false,
         "type": "scatter",
         "x": [
          57
         ],
         "y": [
          35
         ]
        },
        {
         "marker": {
          "color": "blue",
          "opacity": 0.5,
          "size": 2.4390243902439024
         },
         "mode": "markers",
         "showlegend": false,
         "type": "scatter",
         "x": [
          58
         ],
         "y": [
          -36
         ]
        },
        {
         "marker": {
          "color": "blue",
          "opacity": 0.5,
          "size": 1.2195121951219512
         },
         "mode": "markers",
         "showlegend": false,
         "type": "scatter",
         "x": [
          58
         ],
         "y": [
          -35
         ]
        },
        {
         "marker": {
          "color": "blue",
          "opacity": 0.5,
          "size": 3.6585365853658534
         },
         "mode": "markers",
         "showlegend": false,
         "type": "scatter",
         "x": [
          58
         ],
         "y": [
          -31
         ]
        },
        {
         "marker": {
          "color": "blue",
          "opacity": 0.5,
          "size": 1.2195121951219512
         },
         "mode": "markers",
         "showlegend": false,
         "type": "scatter",
         "x": [
          58
         ],
         "y": [
          -29
         ]
        },
        {
         "marker": {
          "color": "blue",
          "opacity": 0.5,
          "size": 1.2195121951219512
         },
         "mode": "markers",
         "showlegend": false,
         "type": "scatter",
         "x": [
          58
         ],
         "y": [
          -28
         ]
        },
        {
         "marker": {
          "color": "blue",
          "opacity": 0.5,
          "size": 2.4390243902439024
         },
         "mode": "markers",
         "showlegend": false,
         "type": "scatter",
         "x": [
          58
         ],
         "y": [
          -26
         ]
        },
        {
         "marker": {
          "color": "blue",
          "opacity": 0.5,
          "size": 2.4390243902439024
         },
         "mode": "markers",
         "showlegend": false,
         "type": "scatter",
         "x": [
          58
         ],
         "y": [
          -22
         ]
        },
        {
         "marker": {
          "color": "blue",
          "opacity": 0.5,
          "size": 1.2195121951219512
         },
         "mode": "markers",
         "showlegend": false,
         "type": "scatter",
         "x": [
          58
         ],
         "y": [
          -21
         ]
        },
        {
         "marker": {
          "color": "blue",
          "opacity": 0.5,
          "size": 1.2195121951219512
         },
         "mode": "markers",
         "showlegend": false,
         "type": "scatter",
         "x": [
          58
         ],
         "y": [
          -17
         ]
        },
        {
         "marker": {
          "color": "blue",
          "opacity": 0.5,
          "size": 2.4390243902439024
         },
         "mode": "markers",
         "showlegend": false,
         "type": "scatter",
         "x": [
          58
         ],
         "y": [
          -16
         ]
        },
        {
         "marker": {
          "color": "blue",
          "opacity": 0.5,
          "size": 1.2195121951219512
         },
         "mode": "markers",
         "showlegend": false,
         "type": "scatter",
         "x": [
          58
         ],
         "y": [
          -10
         ]
        },
        {
         "marker": {
          "color": "blue",
          "opacity": 0.5,
          "size": 3.6585365853658534
         },
         "mode": "markers",
         "showlegend": false,
         "type": "scatter",
         "x": [
          58
         ],
         "y": [
          -7
         ]
        },
        {
         "marker": {
          "color": "blue",
          "opacity": 0.5,
          "size": 1.2195121951219512
         },
         "mode": "markers",
         "showlegend": false,
         "type": "scatter",
         "x": [
          58
         ],
         "y": [
          -6
         ]
        },
        {
         "marker": {
          "color": "blue",
          "opacity": 0.5,
          "size": 1.2195121951219512
         },
         "mode": "markers",
         "showlegend": false,
         "type": "scatter",
         "x": [
          58
         ],
         "y": [
          -4
         ]
        },
        {
         "marker": {
          "color": "blue",
          "opacity": 0.5,
          "size": 1.2195121951219512
         },
         "mode": "markers",
         "showlegend": false,
         "type": "scatter",
         "x": [
          58
         ],
         "y": [
          -3
         ]
        },
        {
         "marker": {
          "color": "blue",
          "opacity": 0.5,
          "size": 2.4390243902439024
         },
         "mode": "markers",
         "showlegend": false,
         "type": "scatter",
         "x": [
          58
         ],
         "y": [
          -1
         ]
        },
        {
         "marker": {
          "color": "blue",
          "opacity": 0.5,
          "size": 2.4390243902439024
         },
         "mode": "markers",
         "showlegend": false,
         "type": "scatter",
         "x": [
          58
         ],
         "y": [
          0
         ]
        },
        {
         "marker": {
          "color": "blue",
          "opacity": 0.5,
          "size": 1.2195121951219512
         },
         "mode": "markers",
         "showlegend": false,
         "type": "scatter",
         "x": [
          58
         ],
         "y": [
          1
         ]
        },
        {
         "marker": {
          "color": "blue",
          "opacity": 0.5,
          "size": 1.2195121951219512
         },
         "mode": "markers",
         "showlegend": false,
         "type": "scatter",
         "x": [
          58
         ],
         "y": [
          3
         ]
        },
        {
         "marker": {
          "color": "blue",
          "opacity": 0.5,
          "size": 1.2195121951219512
         },
         "mode": "markers",
         "showlegend": false,
         "type": "scatter",
         "x": [
          58
         ],
         "y": [
          4
         ]
        },
        {
         "marker": {
          "color": "blue",
          "opacity": 0.5,
          "size": 1.2195121951219512
         },
         "mode": "markers",
         "showlegend": false,
         "type": "scatter",
         "x": [
          58
         ],
         "y": [
          7
         ]
        },
        {
         "marker": {
          "color": "blue",
          "opacity": 0.5,
          "size": 1.2195121951219512
         },
         "mode": "markers",
         "showlegend": false,
         "type": "scatter",
         "x": [
          58
         ],
         "y": [
          8
         ]
        },
        {
         "marker": {
          "color": "blue",
          "opacity": 0.5,
          "size": 1.2195121951219512
         },
         "mode": "markers",
         "showlegend": false,
         "type": "scatter",
         "x": [
          58
         ],
         "y": [
          12
         ]
        },
        {
         "marker": {
          "color": "blue",
          "opacity": 0.5,
          "size": 1.2195121951219512
         },
         "mode": "markers",
         "showlegend": false,
         "type": "scatter",
         "x": [
          58
         ],
         "y": [
          14
         ]
        },
        {
         "marker": {
          "color": "blue",
          "opacity": 0.5,
          "size": 3.6585365853658534
         },
         "mode": "markers",
         "showlegend": false,
         "type": "scatter",
         "x": [
          58
         ],
         "y": [
          16
         ]
        },
        {
         "marker": {
          "color": "blue",
          "opacity": 0.5,
          "size": 1.2195121951219512
         },
         "mode": "markers",
         "showlegend": false,
         "type": "scatter",
         "x": [
          58
         ],
         "y": [
          18
         ]
        },
        {
         "marker": {
          "color": "blue",
          "opacity": 0.5,
          "size": 1.2195121951219512
         },
         "mode": "markers",
         "showlegend": false,
         "type": "scatter",
         "x": [
          58
         ],
         "y": [
          19
         ]
        },
        {
         "marker": {
          "color": "blue",
          "opacity": 0.5,
          "size": 1.2195121951219512
         },
         "mode": "markers",
         "showlegend": false,
         "type": "scatter",
         "x": [
          58
         ],
         "y": [
          20
         ]
        },
        {
         "marker": {
          "color": "blue",
          "opacity": 0.5,
          "size": 1.2195121951219512
         },
         "mode": "markers",
         "showlegend": false,
         "type": "scatter",
         "x": [
          58
         ],
         "y": [
          22
         ]
        },
        {
         "marker": {
          "color": "blue",
          "opacity": 0.5,
          "size": 3.6585365853658534
         },
         "mode": "markers",
         "showlegend": false,
         "type": "scatter",
         "x": [
          58
         ],
         "y": [
          23
         ]
        },
        {
         "marker": {
          "color": "blue",
          "opacity": 0.5,
          "size": 1.2195121951219512
         },
         "mode": "markers",
         "showlegend": false,
         "type": "scatter",
         "x": [
          58
         ],
         "y": [
          25
         ]
        },
        {
         "marker": {
          "color": "blue",
          "opacity": 0.5,
          "size": 1.2195121951219512
         },
         "mode": "markers",
         "showlegend": false,
         "type": "scatter",
         "x": [
          58
         ],
         "y": [
          27
         ]
        },
        {
         "marker": {
          "color": "blue",
          "opacity": 0.5,
          "size": 1.2195121951219512
         },
         "mode": "markers",
         "showlegend": false,
         "type": "scatter",
         "x": [
          58
         ],
         "y": [
          28
         ]
        },
        {
         "marker": {
          "color": "blue",
          "opacity": 0.5,
          "size": 1.2195121951219512
         },
         "mode": "markers",
         "showlegend": false,
         "type": "scatter",
         "x": [
          58
         ],
         "y": [
          30
         ]
        },
        {
         "marker": {
          "color": "blue",
          "opacity": 0.5,
          "size": 1.2195121951219512
         },
         "mode": "markers",
         "showlegend": false,
         "type": "scatter",
         "x": [
          58
         ],
         "y": [
          31
         ]
        },
        {
         "marker": {
          "color": "blue",
          "opacity": 0.5,
          "size": 1.2195121951219512
         },
         "mode": "markers",
         "showlegend": false,
         "type": "scatter",
         "x": [
          58
         ],
         "y": [
          37
         ]
        },
        {
         "marker": {
          "color": "blue",
          "opacity": 0.5,
          "size": 1.2195121951219512
         },
         "mode": "markers",
         "showlegend": false,
         "type": "scatter",
         "x": [
          58
         ],
         "y": [
          39
         ]
        },
        {
         "marker": {
          "color": "blue",
          "opacity": 0.5,
          "size": 1.2195121951219512
         },
         "mode": "markers",
         "showlegend": false,
         "type": "scatter",
         "x": [
          59
         ],
         "y": [
          -28
         ]
        },
        {
         "marker": {
          "color": "blue",
          "opacity": 0.5,
          "size": 2.4390243902439024
         },
         "mode": "markers",
         "showlegend": false,
         "type": "scatter",
         "x": [
          59
         ],
         "y": [
          -24
         ]
        },
        {
         "marker": {
          "color": "blue",
          "opacity": 0.5,
          "size": 2.4390243902439024
         },
         "mode": "markers",
         "showlegend": false,
         "type": "scatter",
         "x": [
          59
         ],
         "y": [
          -20
         ]
        },
        {
         "marker": {
          "color": "blue",
          "opacity": 0.5,
          "size": 1.2195121951219512
         },
         "mode": "markers",
         "showlegend": false,
         "type": "scatter",
         "x": [
          59
         ],
         "y": [
          -18
         ]
        },
        {
         "marker": {
          "color": "blue",
          "opacity": 0.5,
          "size": 1.2195121951219512
         },
         "mode": "markers",
         "showlegend": false,
         "type": "scatter",
         "x": [
          59
         ],
         "y": [
          -17
         ]
        },
        {
         "marker": {
          "color": "blue",
          "opacity": 0.5,
          "size": 2.4390243902439024
         },
         "mode": "markers",
         "showlegend": false,
         "type": "scatter",
         "x": [
          59
         ],
         "y": [
          -16
         ]
        },
        {
         "marker": {
          "color": "blue",
          "opacity": 0.5,
          "size": 1.2195121951219512
         },
         "mode": "markers",
         "showlegend": false,
         "type": "scatter",
         "x": [
          59
         ],
         "y": [
          -14
         ]
        },
        {
         "marker": {
          "color": "blue",
          "opacity": 0.5,
          "size": 2.4390243902439024
         },
         "mode": "markers",
         "showlegend": false,
         "type": "scatter",
         "x": [
          59
         ],
         "y": [
          -13
         ]
        },
        {
         "marker": {
          "color": "blue",
          "opacity": 0.5,
          "size": 1.2195121951219512
         },
         "mode": "markers",
         "showlegend": false,
         "type": "scatter",
         "x": [
          59
         ],
         "y": [
          -12
         ]
        },
        {
         "marker": {
          "color": "blue",
          "opacity": 0.5,
          "size": 1.2195121951219512
         },
         "mode": "markers",
         "showlegend": false,
         "type": "scatter",
         "x": [
          59
         ],
         "y": [
          -9
         ]
        },
        {
         "marker": {
          "color": "blue",
          "opacity": 0.5,
          "size": 2.4390243902439024
         },
         "mode": "markers",
         "showlegend": false,
         "type": "scatter",
         "x": [
          59
         ],
         "y": [
          -8
         ]
        },
        {
         "marker": {
          "color": "blue",
          "opacity": 0.5,
          "size": 1.2195121951219512
         },
         "mode": "markers",
         "showlegend": false,
         "type": "scatter",
         "x": [
          59
         ],
         "y": [
          -7
         ]
        },
        {
         "marker": {
          "color": "blue",
          "opacity": 0.5,
          "size": 1.2195121951219512
         },
         "mode": "markers",
         "showlegend": false,
         "type": "scatter",
         "x": [
          59
         ],
         "y": [
          -4
         ]
        },
        {
         "marker": {
          "color": "blue",
          "opacity": 0.5,
          "size": 1.2195121951219512
         },
         "mode": "markers",
         "showlegend": false,
         "type": "scatter",
         "x": [
          59
         ],
         "y": [
          -2
         ]
        },
        {
         "marker": {
          "color": "blue",
          "opacity": 0.5,
          "size": 1.2195121951219512
         },
         "mode": "markers",
         "showlegend": false,
         "type": "scatter",
         "x": [
          59
         ],
         "y": [
          -1
         ]
        },
        {
         "marker": {
          "color": "blue",
          "opacity": 0.5,
          "size": 1.2195121951219512
         },
         "mode": "markers",
         "showlegend": false,
         "type": "scatter",
         "x": [
          59
         ],
         "y": [
          0
         ]
        },
        {
         "marker": {
          "color": "blue",
          "opacity": 0.5,
          "size": 2.4390243902439024
         },
         "mode": "markers",
         "showlegend": false,
         "type": "scatter",
         "x": [
          59
         ],
         "y": [
          1
         ]
        },
        {
         "marker": {
          "color": "blue",
          "opacity": 0.5,
          "size": 1.2195121951219512
         },
         "mode": "markers",
         "showlegend": false,
         "type": "scatter",
         "x": [
          59
         ],
         "y": [
          4
         ]
        },
        {
         "marker": {
          "color": "blue",
          "opacity": 0.5,
          "size": 1.2195121951219512
         },
         "mode": "markers",
         "showlegend": false,
         "type": "scatter",
         "x": [
          59
         ],
         "y": [
          10
         ]
        },
        {
         "marker": {
          "color": "blue",
          "opacity": 0.5,
          "size": 1.2195121951219512
         },
         "mode": "markers",
         "showlegend": false,
         "type": "scatter",
         "x": [
          59
         ],
         "y": [
          12
         ]
        },
        {
         "marker": {
          "color": "blue",
          "opacity": 0.5,
          "size": 1.2195121951219512
         },
         "mode": "markers",
         "showlegend": false,
         "type": "scatter",
         "x": [
          59
         ],
         "y": [
          21
         ]
        },
        {
         "marker": {
          "color": "blue",
          "opacity": 0.5,
          "size": 1.2195121951219512
         },
         "mode": "markers",
         "showlegend": false,
         "type": "scatter",
         "x": [
          59
         ],
         "y": [
          22
         ]
        },
        {
         "marker": {
          "color": "blue",
          "opacity": 0.5,
          "size": 2.4390243902439024
         },
         "mode": "markers",
         "showlegend": false,
         "type": "scatter",
         "x": [
          59
         ],
         "y": [
          24
         ]
        },
        {
         "marker": {
          "color": "blue",
          "opacity": 0.5,
          "size": 2.4390243902439024
         },
         "mode": "markers",
         "showlegend": false,
         "type": "scatter",
         "x": [
          59
         ],
         "y": [
          25
         ]
        },
        {
         "marker": {
          "color": "blue",
          "opacity": 0.5,
          "size": 1.2195121951219512
         },
         "mode": "markers",
         "showlegend": false,
         "type": "scatter",
         "x": [
          59
         ],
         "y": [
          28
         ]
        },
        {
         "marker": {
          "color": "blue",
          "opacity": 0.5,
          "size": 1.2195121951219512
         },
         "mode": "markers",
         "showlegend": false,
         "type": "scatter",
         "x": [
          59
         ],
         "y": [
          29
         ]
        },
        {
         "marker": {
          "color": "blue",
          "opacity": 0.5,
          "size": 1.2195121951219512
         },
         "mode": "markers",
         "showlegend": false,
         "type": "scatter",
         "x": [
          59
         ],
         "y": [
          30
         ]
        },
        {
         "marker": {
          "color": "blue",
          "opacity": 0.5,
          "size": 2.4390243902439024
         },
         "mode": "markers",
         "showlegend": false,
         "type": "scatter",
         "x": [
          59
         ],
         "y": [
          32
         ]
        },
        {
         "marker": {
          "color": "blue",
          "opacity": 0.5,
          "size": 1.2195121951219512
         },
         "mode": "markers",
         "showlegend": false,
         "type": "scatter",
         "x": [
          60
         ],
         "y": [
          -36
         ]
        },
        {
         "marker": {
          "color": "blue",
          "opacity": 0.5,
          "size": 1.2195121951219512
         },
         "mode": "markers",
         "showlegend": false,
         "type": "scatter",
         "x": [
          60
         ],
         "y": [
          -35
         ]
        },
        {
         "marker": {
          "color": "blue",
          "opacity": 0.5,
          "size": 1.2195121951219512
         },
         "mode": "markers",
         "showlegend": false,
         "type": "scatter",
         "x": [
          60
         ],
         "y": [
          -28
         ]
        },
        {
         "marker": {
          "color": "blue",
          "opacity": 0.5,
          "size": 1.2195121951219512
         },
         "mode": "markers",
         "showlegend": false,
         "type": "scatter",
         "x": [
          60
         ],
         "y": [
          -26
         ]
        },
        {
         "marker": {
          "color": "blue",
          "opacity": 0.5,
          "size": 1.2195121951219512
         },
         "mode": "markers",
         "showlegend": false,
         "type": "scatter",
         "x": [
          60
         ],
         "y": [
          -25
         ]
        },
        {
         "marker": {
          "color": "blue",
          "opacity": 0.5,
          "size": 1.2195121951219512
         },
         "mode": "markers",
         "showlegend": false,
         "type": "scatter",
         "x": [
          60
         ],
         "y": [
          -23
         ]
        },
        {
         "marker": {
          "color": "blue",
          "opacity": 0.5,
          "size": 3.6585365853658534
         },
         "mode": "markers",
         "showlegend": false,
         "type": "scatter",
         "x": [
          60
         ],
         "y": [
          -18
         ]
        },
        {
         "marker": {
          "color": "blue",
          "opacity": 0.5,
          "size": 1.2195121951219512
         },
         "mode": "markers",
         "showlegend": false,
         "type": "scatter",
         "x": [
          60
         ],
         "y": [
          -15
         ]
        },
        {
         "marker": {
          "color": "blue",
          "opacity": 0.5,
          "size": 1.2195121951219512
         },
         "mode": "markers",
         "showlegend": false,
         "type": "scatter",
         "x": [
          60
         ],
         "y": [
          -14
         ]
        },
        {
         "marker": {
          "color": "blue",
          "opacity": 0.5,
          "size": 1.2195121951219512
         },
         "mode": "markers",
         "showlegend": false,
         "type": "scatter",
         "x": [
          60
         ],
         "y": [
          -12
         ]
        },
        {
         "marker": {
          "color": "blue",
          "opacity": 0.5,
          "size": 1.2195121951219512
         },
         "mode": "markers",
         "showlegend": false,
         "type": "scatter",
         "x": [
          60
         ],
         "y": [
          -9
         ]
        },
        {
         "marker": {
          "color": "blue",
          "opacity": 0.5,
          "size": 2.4390243902439024
         },
         "mode": "markers",
         "showlegend": false,
         "type": "scatter",
         "x": [
          60
         ],
         "y": [
          -8
         ]
        },
        {
         "marker": {
          "color": "blue",
          "opacity": 0.5,
          "size": 1.2195121951219512
         },
         "mode": "markers",
         "showlegend": false,
         "type": "scatter",
         "x": [
          60
         ],
         "y": [
          -7
         ]
        },
        {
         "marker": {
          "color": "blue",
          "opacity": 0.5,
          "size": 2.4390243902439024
         },
         "mode": "markers",
         "showlegend": false,
         "type": "scatter",
         "x": [
          60
         ],
         "y": [
          -6
         ]
        },
        {
         "marker": {
          "color": "blue",
          "opacity": 0.5,
          "size": 1.2195121951219512
         },
         "mode": "markers",
         "showlegend": false,
         "type": "scatter",
         "x": [
          60
         ],
         "y": [
          -3
         ]
        },
        {
         "marker": {
          "color": "blue",
          "opacity": 0.5,
          "size": 1.2195121951219512
         },
         "mode": "markers",
         "showlegend": false,
         "type": "scatter",
         "x": [
          60
         ],
         "y": [
          1
         ]
        },
        {
         "marker": {
          "color": "blue",
          "opacity": 0.5,
          "size": 1.2195121951219512
         },
         "mode": "markers",
         "showlegend": false,
         "type": "scatter",
         "x": [
          60
         ],
         "y": [
          3
         ]
        },
        {
         "marker": {
          "color": "blue",
          "opacity": 0.5,
          "size": 2.4390243902439024
         },
         "mode": "markers",
         "showlegend": false,
         "type": "scatter",
         "x": [
          60
         ],
         "y": [
          4
         ]
        },
        {
         "marker": {
          "color": "blue",
          "opacity": 0.5,
          "size": 1.2195121951219512
         },
         "mode": "markers",
         "showlegend": false,
         "type": "scatter",
         "x": [
          60
         ],
         "y": [
          5
         ]
        },
        {
         "marker": {
          "color": "blue",
          "opacity": 0.5,
          "size": 1.2195121951219512
         },
         "mode": "markers",
         "showlegend": false,
         "type": "scatter",
         "x": [
          60
         ],
         "y": [
          7
         ]
        },
        {
         "marker": {
          "color": "blue",
          "opacity": 0.5,
          "size": 1.2195121951219512
         },
         "mode": "markers",
         "showlegend": false,
         "type": "scatter",
         "x": [
          60
         ],
         "y": [
          9
         ]
        },
        {
         "marker": {
          "color": "blue",
          "opacity": 0.5,
          "size": 1.2195121951219512
         },
         "mode": "markers",
         "showlegend": false,
         "type": "scatter",
         "x": [
          60
         ],
         "y": [
          10
         ]
        },
        {
         "marker": {
          "color": "blue",
          "opacity": 0.5,
          "size": 1.2195121951219512
         },
         "mode": "markers",
         "showlegend": false,
         "type": "scatter",
         "x": [
          60
         ],
         "y": [
          14
         ]
        },
        {
         "marker": {
          "color": "blue",
          "opacity": 0.5,
          "size": 1.2195121951219512
         },
         "mode": "markers",
         "showlegend": false,
         "type": "scatter",
         "x": [
          60
         ],
         "y": [
          15
         ]
        },
        {
         "marker": {
          "color": "blue",
          "opacity": 0.5,
          "size": 1.2195121951219512
         },
         "mode": "markers",
         "showlegend": false,
         "type": "scatter",
         "x": [
          60
         ],
         "y": [
          16
         ]
        },
        {
         "marker": {
          "color": "blue",
          "opacity": 0.5,
          "size": 1.2195121951219512
         },
         "mode": "markers",
         "showlegend": false,
         "type": "scatter",
         "x": [
          60
         ],
         "y": [
          19
         ]
        },
        {
         "marker": {
          "color": "blue",
          "opacity": 0.5,
          "size": 1.2195121951219512
         },
         "mode": "markers",
         "showlegend": false,
         "type": "scatter",
         "x": [
          60
         ],
         "y": [
          20
         ]
        },
        {
         "marker": {
          "color": "blue",
          "opacity": 0.5,
          "size": 2.4390243902439024
         },
         "mode": "markers",
         "showlegend": false,
         "type": "scatter",
         "x": [
          60
         ],
         "y": [
          23
         ]
        },
        {
         "marker": {
          "color": "blue",
          "opacity": 0.5,
          "size": 2.4390243902439024
         },
         "mode": "markers",
         "showlegend": false,
         "type": "scatter",
         "x": [
          60
         ],
         "y": [
          25
         ]
        },
        {
         "marker": {
          "color": "blue",
          "opacity": 0.5,
          "size": 1.2195121951219512
         },
         "mode": "markers",
         "showlegend": false,
         "type": "scatter",
         "x": [
          60
         ],
         "y": [
          27
         ]
        },
        {
         "marker": {
          "color": "blue",
          "opacity": 0.5,
          "size": 1.2195121951219512
         },
         "mode": "markers",
         "showlegend": false,
         "type": "scatter",
         "x": [
          60
         ],
         "y": [
          28
         ]
        },
        {
         "marker": {
          "color": "blue",
          "opacity": 0.5,
          "size": 1.2195121951219512
         },
         "mode": "markers",
         "showlegend": false,
         "type": "scatter",
         "x": [
          60
         ],
         "y": [
          29
         ]
        },
        {
         "marker": {
          "color": "blue",
          "opacity": 0.5,
          "size": 2.4390243902439024
         },
         "mode": "markers",
         "showlegend": false,
         "type": "scatter",
         "x": [
          60
         ],
         "y": [
          30
         ]
        },
        {
         "marker": {
          "color": "blue",
          "opacity": 0.5,
          "size": 2.4390243902439024
         },
         "mode": "markers",
         "showlegend": false,
         "type": "scatter",
         "x": [
          60
         ],
         "y": [
          32
         ]
        },
        {
         "marker": {
          "color": "blue",
          "opacity": 0.5,
          "size": 1.2195121951219512
         },
         "mode": "markers",
         "showlegend": false,
         "type": "scatter",
         "x": [
          60
         ],
         "y": [
          33
         ]
        },
        {
         "marker": {
          "color": "blue",
          "opacity": 0.5,
          "size": 1.2195121951219512
         },
         "mode": "markers",
         "showlegend": false,
         "type": "scatter",
         "x": [
          61
         ],
         "y": [
          -38
         ]
        },
        {
         "marker": {
          "color": "blue",
          "opacity": 0.5,
          "size": 1.2195121951219512
         },
         "mode": "markers",
         "showlegend": false,
         "type": "scatter",
         "x": [
          61
         ],
         "y": [
          -33
         ]
        },
        {
         "marker": {
          "color": "blue",
          "opacity": 0.5,
          "size": 1.2195121951219512
         },
         "mode": "markers",
         "showlegend": false,
         "type": "scatter",
         "x": [
          61
         ],
         "y": [
          -31
         ]
        },
        {
         "marker": {
          "color": "blue",
          "opacity": 0.5,
          "size": 1.2195121951219512
         },
         "mode": "markers",
         "showlegend": false,
         "type": "scatter",
         "x": [
          61
         ],
         "y": [
          -30
         ]
        },
        {
         "marker": {
          "color": "blue",
          "opacity": 0.5,
          "size": 1.2195121951219512
         },
         "mode": "markers",
         "showlegend": false,
         "type": "scatter",
         "x": [
          61
         ],
         "y": [
          -27
         ]
        },
        {
         "marker": {
          "color": "blue",
          "opacity": 0.5,
          "size": 1.2195121951219512
         },
         "mode": "markers",
         "showlegend": false,
         "type": "scatter",
         "x": [
          61
         ],
         "y": [
          -26
         ]
        },
        {
         "marker": {
          "color": "blue",
          "opacity": 0.5,
          "size": 1.2195121951219512
         },
         "mode": "markers",
         "showlegend": false,
         "type": "scatter",
         "x": [
          61
         ],
         "y": [
          -24
         ]
        },
        {
         "marker": {
          "color": "blue",
          "opacity": 0.5,
          "size": 2.4390243902439024
         },
         "mode": "markers",
         "showlegend": false,
         "type": "scatter",
         "x": [
          61
         ],
         "y": [
          -23
         ]
        },
        {
         "marker": {
          "color": "blue",
          "opacity": 0.5,
          "size": 1.2195121951219512
         },
         "mode": "markers",
         "showlegend": false,
         "type": "scatter",
         "x": [
          61
         ],
         "y": [
          -22
         ]
        },
        {
         "marker": {
          "color": "blue",
          "opacity": 0.5,
          "size": 1.2195121951219512
         },
         "mode": "markers",
         "showlegend": false,
         "type": "scatter",
         "x": [
          61
         ],
         "y": [
          -21
         ]
        },
        {
         "marker": {
          "color": "blue",
          "opacity": 0.5,
          "size": 2.4390243902439024
         },
         "mode": "markers",
         "showlegend": false,
         "type": "scatter",
         "x": [
          61
         ],
         "y": [
          -20
         ]
        },
        {
         "marker": {
          "color": "blue",
          "opacity": 0.5,
          "size": 1.2195121951219512
         },
         "mode": "markers",
         "showlegend": false,
         "type": "scatter",
         "x": [
          61
         ],
         "y": [
          -19
         ]
        },
        {
         "marker": {
          "color": "blue",
          "opacity": 0.5,
          "size": 2.4390243902439024
         },
         "mode": "markers",
         "showlegend": false,
         "type": "scatter",
         "x": [
          61
         ],
         "y": [
          -18
         ]
        },
        {
         "marker": {
          "color": "blue",
          "opacity": 0.5,
          "size": 1.2195121951219512
         },
         "mode": "markers",
         "showlegend": false,
         "type": "scatter",
         "x": [
          61
         ],
         "y": [
          -17
         ]
        },
        {
         "marker": {
          "color": "blue",
          "opacity": 0.5,
          "size": 1.2195121951219512
         },
         "mode": "markers",
         "showlegend": false,
         "type": "scatter",
         "x": [
          61
         ],
         "y": [
          -15
         ]
        },
        {
         "marker": {
          "color": "blue",
          "opacity": 0.5,
          "size": 1.2195121951219512
         },
         "mode": "markers",
         "showlegend": false,
         "type": "scatter",
         "x": [
          61
         ],
         "y": [
          -14
         ]
        },
        {
         "marker": {
          "color": "blue",
          "opacity": 0.5,
          "size": 1.2195121951219512
         },
         "mode": "markers",
         "showlegend": false,
         "type": "scatter",
         "x": [
          61
         ],
         "y": [
          -12
         ]
        },
        {
         "marker": {
          "color": "blue",
          "opacity": 0.5,
          "size": 1.2195121951219512
         },
         "mode": "markers",
         "showlegend": false,
         "type": "scatter",
         "x": [
          61
         ],
         "y": [
          -8
         ]
        },
        {
         "marker": {
          "color": "blue",
          "opacity": 0.5,
          "size": 2.4390243902439024
         },
         "mode": "markers",
         "showlegend": false,
         "type": "scatter",
         "x": [
          61
         ],
         "y": [
          -5
         ]
        },
        {
         "marker": {
          "color": "blue",
          "opacity": 0.5,
          "size": 1.2195121951219512
         },
         "mode": "markers",
         "showlegend": false,
         "type": "scatter",
         "x": [
          61
         ],
         "y": [
          -3
         ]
        },
        {
         "marker": {
          "color": "blue",
          "opacity": 0.5,
          "size": 1.2195121951219512
         },
         "mode": "markers",
         "showlegend": false,
         "type": "scatter",
         "x": [
          61
         ],
         "y": [
          -2
         ]
        },
        {
         "marker": {
          "color": "blue",
          "opacity": 0.5,
          "size": 2.4390243902439024
         },
         "mode": "markers",
         "showlegend": false,
         "type": "scatter",
         "x": [
          61
         ],
         "y": [
          0
         ]
        },
        {
         "marker": {
          "color": "blue",
          "opacity": 0.5,
          "size": 1.2195121951219512
         },
         "mode": "markers",
         "showlegend": false,
         "type": "scatter",
         "x": [
          61
         ],
         "y": [
          2
         ]
        },
        {
         "marker": {
          "color": "blue",
          "opacity": 0.5,
          "size": 2.4390243902439024
         },
         "mode": "markers",
         "showlegend": false,
         "type": "scatter",
         "x": [
          61
         ],
         "y": [
          3
         ]
        },
        {
         "marker": {
          "color": "blue",
          "opacity": 0.5,
          "size": 1.2195121951219512
         },
         "mode": "markers",
         "showlegend": false,
         "type": "scatter",
         "x": [
          61
         ],
         "y": [
          4
         ]
        },
        {
         "marker": {
          "color": "blue",
          "opacity": 0.5,
          "size": 3.6585365853658534
         },
         "mode": "markers",
         "showlegend": false,
         "type": "scatter",
         "x": [
          61
         ],
         "y": [
          6
         ]
        },
        {
         "marker": {
          "color": "blue",
          "opacity": 0.5,
          "size": 1.2195121951219512
         },
         "mode": "markers",
         "showlegend": false,
         "type": "scatter",
         "x": [
          61
         ],
         "y": [
          7
         ]
        },
        {
         "marker": {
          "color": "blue",
          "opacity": 0.5,
          "size": 1.2195121951219512
         },
         "mode": "markers",
         "showlegend": false,
         "type": "scatter",
         "x": [
          61
         ],
         "y": [
          9
         ]
        },
        {
         "marker": {
          "color": "blue",
          "opacity": 0.5,
          "size": 1.2195121951219512
         },
         "mode": "markers",
         "showlegend": false,
         "type": "scatter",
         "x": [
          61
         ],
         "y": [
          11
         ]
        },
        {
         "marker": {
          "color": "blue",
          "opacity": 0.5,
          "size": 1.2195121951219512
         },
         "mode": "markers",
         "showlegend": false,
         "type": "scatter",
         "x": [
          61
         ],
         "y": [
          12
         ]
        },
        {
         "marker": {
          "color": "blue",
          "opacity": 0.5,
          "size": 1.2195121951219512
         },
         "mode": "markers",
         "showlegend": false,
         "type": "scatter",
         "x": [
          61
         ],
         "y": [
          15
         ]
        },
        {
         "marker": {
          "color": "blue",
          "opacity": 0.5,
          "size": 1.2195121951219512
         },
         "mode": "markers",
         "showlegend": false,
         "type": "scatter",
         "x": [
          61
         ],
         "y": [
          18
         ]
        },
        {
         "marker": {
          "color": "blue",
          "opacity": 0.5,
          "size": 2.4390243902439024
         },
         "mode": "markers",
         "showlegend": false,
         "type": "scatter",
         "x": [
          61
         ],
         "y": [
          19
         ]
        },
        {
         "marker": {
          "color": "blue",
          "opacity": 0.5,
          "size": 2.4390243902439024
         },
         "mode": "markers",
         "showlegend": false,
         "type": "scatter",
         "x": [
          61
         ],
         "y": [
          20
         ]
        },
        {
         "marker": {
          "color": "blue",
          "opacity": 0.5,
          "size": 1.2195121951219512
         },
         "mode": "markers",
         "showlegend": false,
         "type": "scatter",
         "x": [
          61
         ],
         "y": [
          21
         ]
        },
        {
         "marker": {
          "color": "blue",
          "opacity": 0.5,
          "size": 3.6585365853658534
         },
         "mode": "markers",
         "showlegend": false,
         "type": "scatter",
         "x": [
          61
         ],
         "y": [
          23
         ]
        },
        {
         "marker": {
          "color": "blue",
          "opacity": 0.5,
          "size": 1.2195121951219512
         },
         "mode": "markers",
         "showlegend": false,
         "type": "scatter",
         "x": [
          61
         ],
         "y": [
          24
         ]
        },
        {
         "marker": {
          "color": "blue",
          "opacity": 0.5,
          "size": 1.2195121951219512
         },
         "mode": "markers",
         "showlegend": false,
         "type": "scatter",
         "x": [
          61
         ],
         "y": [
          25
         ]
        },
        {
         "marker": {
          "color": "blue",
          "opacity": 0.5,
          "size": 2.4390243902439024
         },
         "mode": "markers",
         "showlegend": false,
         "type": "scatter",
         "x": [
          61
         ],
         "y": [
          32
         ]
        },
        {
         "marker": {
          "color": "blue",
          "opacity": 0.5,
          "size": 1.2195121951219512
         },
         "mode": "markers",
         "showlegend": false,
         "type": "scatter",
         "x": [
          61
         ],
         "y": [
          39
         ]
        },
        {
         "marker": {
          "color": "blue",
          "opacity": 0.5,
          "size": 1.2195121951219512
         },
         "mode": "markers",
         "showlegend": false,
         "type": "scatter",
         "x": [
          62
         ],
         "y": [
          -35
         ]
        },
        {
         "marker": {
          "color": "blue",
          "opacity": 0.5,
          "size": 1.2195121951219512
         },
         "mode": "markers",
         "showlegend": false,
         "type": "scatter",
         "x": [
          62
         ],
         "y": [
          -32
         ]
        },
        {
         "marker": {
          "color": "blue",
          "opacity": 0.5,
          "size": 1.2195121951219512
         },
         "mode": "markers",
         "showlegend": false,
         "type": "scatter",
         "x": [
          62
         ],
         "y": [
          -26
         ]
        },
        {
         "marker": {
          "color": "blue",
          "opacity": 0.5,
          "size": 2.4390243902439024
         },
         "mode": "markers",
         "showlegend": false,
         "type": "scatter",
         "x": [
          62
         ],
         "y": [
          -25
         ]
        },
        {
         "marker": {
          "color": "blue",
          "opacity": 0.5,
          "size": 1.2195121951219512
         },
         "mode": "markers",
         "showlegend": false,
         "type": "scatter",
         "x": [
          62
         ],
         "y": [
          -24
         ]
        },
        {
         "marker": {
          "color": "blue",
          "opacity": 0.5,
          "size": 1.2195121951219512
         },
         "mode": "markers",
         "showlegend": false,
         "type": "scatter",
         "x": [
          62
         ],
         "y": [
          -22
         ]
        },
        {
         "marker": {
          "color": "blue",
          "opacity": 0.5,
          "size": 2.4390243902439024
         },
         "mode": "markers",
         "showlegend": false,
         "type": "scatter",
         "x": [
          62
         ],
         "y": [
          -21
         ]
        },
        {
         "marker": {
          "color": "blue",
          "opacity": 0.5,
          "size": 1.2195121951219512
         },
         "mode": "markers",
         "showlegend": false,
         "type": "scatter",
         "x": [
          62
         ],
         "y": [
          -19
         ]
        },
        {
         "marker": {
          "color": "blue",
          "opacity": 0.5,
          "size": 1.2195121951219512
         },
         "mode": "markers",
         "showlegend": false,
         "type": "scatter",
         "x": [
          62
         ],
         "y": [
          -18
         ]
        },
        {
         "marker": {
          "color": "blue",
          "opacity": 0.5,
          "size": 1.2195121951219512
         },
         "mode": "markers",
         "showlegend": false,
         "type": "scatter",
         "x": [
          62
         ],
         "y": [
          -17
         ]
        },
        {
         "marker": {
          "color": "blue",
          "opacity": 0.5,
          "size": 1.2195121951219512
         },
         "mode": "markers",
         "showlegend": false,
         "type": "scatter",
         "x": [
          62
         ],
         "y": [
          -10
         ]
        },
        {
         "marker": {
          "color": "blue",
          "opacity": 0.5,
          "size": 2.4390243902439024
         },
         "mode": "markers",
         "showlegend": false,
         "type": "scatter",
         "x": [
          62
         ],
         "y": [
          -8
         ]
        },
        {
         "marker": {
          "color": "blue",
          "opacity": 0.5,
          "size": 1.2195121951219512
         },
         "mode": "markers",
         "showlegend": false,
         "type": "scatter",
         "x": [
          62
         ],
         "y": [
          -3
         ]
        },
        {
         "marker": {
          "color": "blue",
          "opacity": 0.5,
          "size": 1.2195121951219512
         },
         "mode": "markers",
         "showlegend": false,
         "type": "scatter",
         "x": [
          62
         ],
         "y": [
          -1
         ]
        },
        {
         "marker": {
          "color": "blue",
          "opacity": 0.5,
          "size": 1.2195121951219512
         },
         "mode": "markers",
         "showlegend": false,
         "type": "scatter",
         "x": [
          62
         ],
         "y": [
          0
         ]
        },
        {
         "marker": {
          "color": "blue",
          "opacity": 0.5,
          "size": 1.2195121951219512
         },
         "mode": "markers",
         "showlegend": false,
         "type": "scatter",
         "x": [
          62
         ],
         "y": [
          1
         ]
        },
        {
         "marker": {
          "color": "blue",
          "opacity": 0.5,
          "size": 2.4390243902439024
         },
         "mode": "markers",
         "showlegend": false,
         "type": "scatter",
         "x": [
          62
         ],
         "y": [
          2
         ]
        },
        {
         "marker": {
          "color": "blue",
          "opacity": 0.5,
          "size": 1.2195121951219512
         },
         "mode": "markers",
         "showlegend": false,
         "type": "scatter",
         "x": [
          62
         ],
         "y": [
          7
         ]
        },
        {
         "marker": {
          "color": "blue",
          "opacity": 0.5,
          "size": 1.2195121951219512
         },
         "mode": "markers",
         "showlegend": false,
         "type": "scatter",
         "x": [
          62
         ],
         "y": [
          8
         ]
        },
        {
         "marker": {
          "color": "blue",
          "opacity": 0.5,
          "size": 1.2195121951219512
         },
         "mode": "markers",
         "showlegend": false,
         "type": "scatter",
         "x": [
          62
         ],
         "y": [
          9
         ]
        },
        {
         "marker": {
          "color": "blue",
          "opacity": 0.5,
          "size": 1.2195121951219512
         },
         "mode": "markers",
         "showlegend": false,
         "type": "scatter",
         "x": [
          62
         ],
         "y": [
          11
         ]
        },
        {
         "marker": {
          "color": "blue",
          "opacity": 0.5,
          "size": 2.4390243902439024
         },
         "mode": "markers",
         "showlegend": false,
         "type": "scatter",
         "x": [
          62
         ],
         "y": [
          12
         ]
        },
        {
         "marker": {
          "color": "blue",
          "opacity": 0.5,
          "size": 2.4390243902439024
         },
         "mode": "markers",
         "showlegend": false,
         "type": "scatter",
         "x": [
          62
         ],
         "y": [
          13
         ]
        },
        {
         "marker": {
          "color": "blue",
          "opacity": 0.5,
          "size": 2.4390243902439024
         },
         "mode": "markers",
         "showlegend": false,
         "type": "scatter",
         "x": [
          62
         ],
         "y": [
          15
         ]
        },
        {
         "marker": {
          "color": "blue",
          "opacity": 0.5,
          "size": 1.2195121951219512
         },
         "mode": "markers",
         "showlegend": false,
         "type": "scatter",
         "x": [
          62
         ],
         "y": [
          17
         ]
        },
        {
         "marker": {
          "color": "blue",
          "opacity": 0.5,
          "size": 1.2195121951219512
         },
         "mode": "markers",
         "showlegend": false,
         "type": "scatter",
         "x": [
          62
         ],
         "y": [
          18
         ]
        },
        {
         "marker": {
          "color": "blue",
          "opacity": 0.5,
          "size": 1.2195121951219512
         },
         "mode": "markers",
         "showlegend": false,
         "type": "scatter",
         "x": [
          62
         ],
         "y": [
          19
         ]
        },
        {
         "marker": {
          "color": "blue",
          "opacity": 0.5,
          "size": 1.2195121951219512
         },
         "mode": "markers",
         "showlegend": false,
         "type": "scatter",
         "x": [
          62
         ],
         "y": [
          28
         ]
        },
        {
         "marker": {
          "color": "blue",
          "opacity": 0.5,
          "size": 1.2195121951219512
         },
         "mode": "markers",
         "showlegend": false,
         "type": "scatter",
         "x": [
          62
         ],
         "y": [
          32
         ]
        },
        {
         "marker": {
          "color": "blue",
          "opacity": 0.5,
          "size": 1.2195121951219512
         },
         "mode": "markers",
         "showlegend": false,
         "type": "scatter",
         "x": [
          63
         ],
         "y": [
          -36
         ]
        },
        {
         "marker": {
          "color": "blue",
          "opacity": 0.5,
          "size": 1.2195121951219512
         },
         "mode": "markers",
         "showlegend": false,
         "type": "scatter",
         "x": [
          63
         ],
         "y": [
          -31
         ]
        },
        {
         "marker": {
          "color": "blue",
          "opacity": 0.5,
          "size": 2.4390243902439024
         },
         "mode": "markers",
         "showlegend": false,
         "type": "scatter",
         "x": [
          63
         ],
         "y": [
          -29
         ]
        },
        {
         "marker": {
          "color": "blue",
          "opacity": 0.5,
          "size": 1.2195121951219512
         },
         "mode": "markers",
         "showlegend": false,
         "type": "scatter",
         "x": [
          63
         ],
         "y": [
          -27
         ]
        },
        {
         "marker": {
          "color": "blue",
          "opacity": 0.5,
          "size": 2.4390243902439024
         },
         "mode": "markers",
         "showlegend": false,
         "type": "scatter",
         "x": [
          63
         ],
         "y": [
          -26
         ]
        },
        {
         "marker": {
          "color": "blue",
          "opacity": 0.5,
          "size": 1.2195121951219512
         },
         "mode": "markers",
         "showlegend": false,
         "type": "scatter",
         "x": [
          63
         ],
         "y": [
          -25
         ]
        },
        {
         "marker": {
          "color": "blue",
          "opacity": 0.5,
          "size": 3.6585365853658534
         },
         "mode": "markers",
         "showlegend": false,
         "type": "scatter",
         "x": [
          63
         ],
         "y": [
          -23
         ]
        },
        {
         "marker": {
          "color": "blue",
          "opacity": 0.5,
          "size": 2.4390243902439024
         },
         "mode": "markers",
         "showlegend": false,
         "type": "scatter",
         "x": [
          63
         ],
         "y": [
          -20
         ]
        },
        {
         "marker": {
          "color": "blue",
          "opacity": 0.5,
          "size": 1.2195121951219512
         },
         "mode": "markers",
         "showlegend": false,
         "type": "scatter",
         "x": [
          63
         ],
         "y": [
          -18
         ]
        },
        {
         "marker": {
          "color": "blue",
          "opacity": 0.5,
          "size": 2.4390243902439024
         },
         "mode": "markers",
         "showlegend": false,
         "type": "scatter",
         "x": [
          63
         ],
         "y": [
          -17
         ]
        },
        {
         "marker": {
          "color": "blue",
          "opacity": 0.5,
          "size": 1.2195121951219512
         },
         "mode": "markers",
         "showlegend": false,
         "type": "scatter",
         "x": [
          63
         ],
         "y": [
          -16
         ]
        },
        {
         "marker": {
          "color": "blue",
          "opacity": 0.5,
          "size": 1.2195121951219512
         },
         "mode": "markers",
         "showlegend": false,
         "type": "scatter",
         "x": [
          63
         ],
         "y": [
          -15
         ]
        },
        {
         "marker": {
          "color": "blue",
          "opacity": 0.5,
          "size": 2.4390243902439024
         },
         "mode": "markers",
         "showlegend": false,
         "type": "scatter",
         "x": [
          63
         ],
         "y": [
          -13
         ]
        },
        {
         "marker": {
          "color": "blue",
          "opacity": 0.5,
          "size": 2.4390243902439024
         },
         "mode": "markers",
         "showlegend": false,
         "type": "scatter",
         "x": [
          63
         ],
         "y": [
          -12
         ]
        },
        {
         "marker": {
          "color": "blue",
          "opacity": 0.5,
          "size": 1.2195121951219512
         },
         "mode": "markers",
         "showlegend": false,
         "type": "scatter",
         "x": [
          63
         ],
         "y": [
          -9
         ]
        },
        {
         "marker": {
          "color": "blue",
          "opacity": 0.5,
          "size": 1.2195121951219512
         },
         "mode": "markers",
         "showlegend": false,
         "type": "scatter",
         "x": [
          63
         ],
         "y": [
          -7
         ]
        },
        {
         "marker": {
          "color": "blue",
          "opacity": 0.5,
          "size": 1.2195121951219512
         },
         "mode": "markers",
         "showlegend": false,
         "type": "scatter",
         "x": [
          63
         ],
         "y": [
          -5
         ]
        },
        {
         "marker": {
          "color": "blue",
          "opacity": 0.5,
          "size": 1.2195121951219512
         },
         "mode": "markers",
         "showlegend": false,
         "type": "scatter",
         "x": [
          63
         ],
         "y": [
          -4
         ]
        },
        {
         "marker": {
          "color": "blue",
          "opacity": 0.5,
          "size": 1.2195121951219512
         },
         "mode": "markers",
         "showlegend": false,
         "type": "scatter",
         "x": [
          63
         ],
         "y": [
          -3
         ]
        },
        {
         "marker": {
          "color": "blue",
          "opacity": 0.5,
          "size": 1.2195121951219512
         },
         "mode": "markers",
         "showlegend": false,
         "type": "scatter",
         "x": [
          63
         ],
         "y": [
          -1
         ]
        },
        {
         "marker": {
          "color": "blue",
          "opacity": 0.5,
          "size": 1.2195121951219512
         },
         "mode": "markers",
         "showlegend": false,
         "type": "scatter",
         "x": [
          63
         ],
         "y": [
          1
         ]
        },
        {
         "marker": {
          "color": "blue",
          "opacity": 0.5,
          "size": 1.2195121951219512
         },
         "mode": "markers",
         "showlegend": false,
         "type": "scatter",
         "x": [
          63
         ],
         "y": [
          2
         ]
        },
        {
         "marker": {
          "color": "blue",
          "opacity": 0.5,
          "size": 2.4390243902439024
         },
         "mode": "markers",
         "showlegend": false,
         "type": "scatter",
         "x": [
          63
         ],
         "y": [
          3
         ]
        },
        {
         "marker": {
          "color": "blue",
          "opacity": 0.5,
          "size": 1.2195121951219512
         },
         "mode": "markers",
         "showlegend": false,
         "type": "scatter",
         "x": [
          63
         ],
         "y": [
          4
         ]
        },
        {
         "marker": {
          "color": "blue",
          "opacity": 0.5,
          "size": 3.6585365853658534
         },
         "mode": "markers",
         "showlegend": false,
         "type": "scatter",
         "x": [
          63
         ],
         "y": [
          7
         ]
        },
        {
         "marker": {
          "color": "blue",
          "opacity": 0.5,
          "size": 2.4390243902439024
         },
         "mode": "markers",
         "showlegend": false,
         "type": "scatter",
         "x": [
          63
         ],
         "y": [
          8
         ]
        },
        {
         "marker": {
          "color": "blue",
          "opacity": 0.5,
          "size": 1.2195121951219512
         },
         "mode": "markers",
         "showlegend": false,
         "type": "scatter",
         "x": [
          63
         ],
         "y": [
          11
         ]
        },
        {
         "marker": {
          "color": "blue",
          "opacity": 0.5,
          "size": 2.4390243902439024
         },
         "mode": "markers",
         "showlegend": false,
         "type": "scatter",
         "x": [
          63
         ],
         "y": [
          13
         ]
        },
        {
         "marker": {
          "color": "blue",
          "opacity": 0.5,
          "size": 3.6585365853658534
         },
         "mode": "markers",
         "showlegend": false,
         "type": "scatter",
         "x": [
          63
         ],
         "y": [
          14
         ]
        },
        {
         "marker": {
          "color": "blue",
          "opacity": 0.5,
          "size": 3.6585365853658534
         },
         "mode": "markers",
         "showlegend": false,
         "type": "scatter",
         "x": [
          63
         ],
         "y": [
          15
         ]
        },
        {
         "marker": {
          "color": "blue",
          "opacity": 0.5,
          "size": 1.2195121951219512
         },
         "mode": "markers",
         "showlegend": false,
         "type": "scatter",
         "x": [
          63
         ],
         "y": [
          20
         ]
        },
        {
         "marker": {
          "color": "blue",
          "opacity": 0.5,
          "size": 1.2195121951219512
         },
         "mode": "markers",
         "showlegend": false,
         "type": "scatter",
         "x": [
          63
         ],
         "y": [
          22
         ]
        },
        {
         "marker": {
          "color": "blue",
          "opacity": 0.5,
          "size": 1.2195121951219512
         },
         "mode": "markers",
         "showlegend": false,
         "type": "scatter",
         "x": [
          63
         ],
         "y": [
          23
         ]
        },
        {
         "marker": {
          "color": "blue",
          "opacity": 0.5,
          "size": 1.2195121951219512
         },
         "mode": "markers",
         "showlegend": false,
         "type": "scatter",
         "x": [
          63
         ],
         "y": [
          26
         ]
        },
        {
         "marker": {
          "color": "blue",
          "opacity": 0.5,
          "size": 1.2195121951219512
         },
         "mode": "markers",
         "showlegend": false,
         "type": "scatter",
         "x": [
          63
         ],
         "y": [
          27
         ]
        },
        {
         "marker": {
          "color": "blue",
          "opacity": 0.5,
          "size": 1.2195121951219512
         },
         "mode": "markers",
         "showlegend": false,
         "type": "scatter",
         "x": [
          63
         ],
         "y": [
          29
         ]
        },
        {
         "marker": {
          "color": "blue",
          "opacity": 0.5,
          "size": 1.2195121951219512
         },
         "mode": "markers",
         "showlegend": false,
         "type": "scatter",
         "x": [
          63
         ],
         "y": [
          33
         ]
        },
        {
         "marker": {
          "color": "blue",
          "opacity": 0.5,
          "size": 1.2195121951219512
         },
         "mode": "markers",
         "showlegend": false,
         "type": "scatter",
         "x": [
          63
         ],
         "y": [
          34
         ]
        },
        {
         "marker": {
          "color": "blue",
          "opacity": 0.5,
          "size": 1.2195121951219512
         },
         "mode": "markers",
         "showlegend": false,
         "type": "scatter",
         "x": [
          64
         ],
         "y": [
          -33
         ]
        },
        {
         "marker": {
          "color": "blue",
          "opacity": 0.5,
          "size": 1.2195121951219512
         },
         "mode": "markers",
         "showlegend": false,
         "type": "scatter",
         "x": [
          64
         ],
         "y": [
          -31
         ]
        },
        {
         "marker": {
          "color": "blue",
          "opacity": 0.5,
          "size": 1.2195121951219512
         },
         "mode": "markers",
         "showlegend": false,
         "type": "scatter",
         "x": [
          64
         ],
         "y": [
          -30
         ]
        },
        {
         "marker": {
          "color": "blue",
          "opacity": 0.5,
          "size": 3.6585365853658534
         },
         "mode": "markers",
         "showlegend": false,
         "type": "scatter",
         "x": [
          64
         ],
         "y": [
          -29
         ]
        },
        {
         "marker": {
          "color": "blue",
          "opacity": 0.5,
          "size": 2.4390243902439024
         },
         "mode": "markers",
         "showlegend": false,
         "type": "scatter",
         "x": [
          64
         ],
         "y": [
          -24
         ]
        },
        {
         "marker": {
          "color": "blue",
          "opacity": 0.5,
          "size": 1.2195121951219512
         },
         "mode": "markers",
         "showlegend": false,
         "type": "scatter",
         "x": [
          64
         ],
         "y": [
          -22
         ]
        },
        {
         "marker": {
          "color": "blue",
          "opacity": 0.5,
          "size": 1.2195121951219512
         },
         "mode": "markers",
         "showlegend": false,
         "type": "scatter",
         "x": [
          64
         ],
         "y": [
          -21
         ]
        },
        {
         "marker": {
          "color": "blue",
          "opacity": 0.5,
          "size": 2.4390243902439024
         },
         "mode": "markers",
         "showlegend": false,
         "type": "scatter",
         "x": [
          64
         ],
         "y": [
          -20
         ]
        },
        {
         "marker": {
          "color": "blue",
          "opacity": 0.5,
          "size": 1.2195121951219512
         },
         "mode": "markers",
         "showlegend": false,
         "type": "scatter",
         "x": [
          64
         ],
         "y": [
          -18
         ]
        },
        {
         "marker": {
          "color": "blue",
          "opacity": 0.5,
          "size": 1.2195121951219512
         },
         "mode": "markers",
         "showlegend": false,
         "type": "scatter",
         "x": [
          64
         ],
         "y": [
          -17
         ]
        },
        {
         "marker": {
          "color": "blue",
          "opacity": 0.5,
          "size": 1.2195121951219512
         },
         "mode": "markers",
         "showlegend": false,
         "type": "scatter",
         "x": [
          64
         ],
         "y": [
          -14
         ]
        },
        {
         "marker": {
          "color": "blue",
          "opacity": 0.5,
          "size": 1.2195121951219512
         },
         "mode": "markers",
         "showlegend": false,
         "type": "scatter",
         "x": [
          64
         ],
         "y": [
          -12
         ]
        },
        {
         "marker": {
          "color": "blue",
          "opacity": 0.5,
          "size": 1.2195121951219512
         },
         "mode": "markers",
         "showlegend": false,
         "type": "scatter",
         "x": [
          64
         ],
         "y": [
          -7
         ]
        },
        {
         "marker": {
          "color": "blue",
          "opacity": 0.5,
          "size": 1.2195121951219512
         },
         "mode": "markers",
         "showlegend": false,
         "type": "scatter",
         "x": [
          64
         ],
         "y": [
          -5
         ]
        },
        {
         "marker": {
          "color": "blue",
          "opacity": 0.5,
          "size": 2.4390243902439024
         },
         "mode": "markers",
         "showlegend": false,
         "type": "scatter",
         "x": [
          64
         ],
         "y": [
          -4
         ]
        },
        {
         "marker": {
          "color": "blue",
          "opacity": 0.5,
          "size": 1.2195121951219512
         },
         "mode": "markers",
         "showlegend": false,
         "type": "scatter",
         "x": [
          64
         ],
         "y": [
          -3
         ]
        },
        {
         "marker": {
          "color": "blue",
          "opacity": 0.5,
          "size": 2.4390243902439024
         },
         "mode": "markers",
         "showlegend": false,
         "type": "scatter",
         "x": [
          64
         ],
         "y": [
          -1
         ]
        },
        {
         "marker": {
          "color": "blue",
          "opacity": 0.5,
          "size": 1.2195121951219512
         },
         "mode": "markers",
         "showlegend": false,
         "type": "scatter",
         "x": [
          64
         ],
         "y": [
          1
         ]
        },
        {
         "marker": {
          "color": "blue",
          "opacity": 0.5,
          "size": 1.2195121951219512
         },
         "mode": "markers",
         "showlegend": false,
         "type": "scatter",
         "x": [
          64
         ],
         "y": [
          4
         ]
        },
        {
         "marker": {
          "color": "blue",
          "opacity": 0.5,
          "size": 1.2195121951219512
         },
         "mode": "markers",
         "showlegend": false,
         "type": "scatter",
         "x": [
          64
         ],
         "y": [
          6
         ]
        },
        {
         "marker": {
          "color": "blue",
          "opacity": 0.5,
          "size": 1.2195121951219512
         },
         "mode": "markers",
         "showlegend": false,
         "type": "scatter",
         "x": [
          64
         ],
         "y": [
          8
         ]
        },
        {
         "marker": {
          "color": "blue",
          "opacity": 0.5,
          "size": 2.4390243902439024
         },
         "mode": "markers",
         "showlegend": false,
         "type": "scatter",
         "x": [
          64
         ],
         "y": [
          9
         ]
        },
        {
         "marker": {
          "color": "blue",
          "opacity": 0.5,
          "size": 1.2195121951219512
         },
         "mode": "markers",
         "showlegend": false,
         "type": "scatter",
         "x": [
          64
         ],
         "y": [
          10
         ]
        },
        {
         "marker": {
          "color": "blue",
          "opacity": 0.5,
          "size": 1.2195121951219512
         },
         "mode": "markers",
         "showlegend": false,
         "type": "scatter",
         "x": [
          64
         ],
         "y": [
          12
         ]
        },
        {
         "marker": {
          "color": "blue",
          "opacity": 0.5,
          "size": 1.2195121951219512
         },
         "mode": "markers",
         "showlegend": false,
         "type": "scatter",
         "x": [
          64
         ],
         "y": [
          13
         ]
        },
        {
         "marker": {
          "color": "blue",
          "opacity": 0.5,
          "size": 1.2195121951219512
         },
         "mode": "markers",
         "showlegend": false,
         "type": "scatter",
         "x": [
          64
         ],
         "y": [
          14
         ]
        },
        {
         "marker": {
          "color": "blue",
          "opacity": 0.5,
          "size": 1.2195121951219512
         },
         "mode": "markers",
         "showlegend": false,
         "type": "scatter",
         "x": [
          64
         ],
         "y": [
          15
         ]
        },
        {
         "marker": {
          "color": "blue",
          "opacity": 0.5,
          "size": 2.4390243902439024
         },
         "mode": "markers",
         "showlegend": false,
         "type": "scatter",
         "x": [
          64
         ],
         "y": [
          18
         ]
        },
        {
         "marker": {
          "color": "blue",
          "opacity": 0.5,
          "size": 1.2195121951219512
         },
         "mode": "markers",
         "showlegend": false,
         "type": "scatter",
         "x": [
          64
         ],
         "y": [
          19
         ]
        },
        {
         "marker": {
          "color": "blue",
          "opacity": 0.5,
          "size": 1.2195121951219512
         },
         "mode": "markers",
         "showlegend": false,
         "type": "scatter",
         "x": [
          64
         ],
         "y": [
          23
         ]
        },
        {
         "marker": {
          "color": "blue",
          "opacity": 0.5,
          "size": 1.2195121951219512
         },
         "mode": "markers",
         "showlegend": false,
         "type": "scatter",
         "x": [
          64
         ],
         "y": [
          25
         ]
        },
        {
         "marker": {
          "color": "blue",
          "opacity": 0.5,
          "size": 1.2195121951219512
         },
         "mode": "markers",
         "showlegend": false,
         "type": "scatter",
         "x": [
          64
         ],
         "y": [
          26
         ]
        },
        {
         "marker": {
          "color": "blue",
          "opacity": 0.5,
          "size": 1.2195121951219512
         },
         "mode": "markers",
         "showlegend": false,
         "type": "scatter",
         "x": [
          64
         ],
         "y": [
          29
         ]
        },
        {
         "marker": {
          "color": "blue",
          "opacity": 0.5,
          "size": 1.2195121951219512
         },
         "mode": "markers",
         "showlegend": false,
         "type": "scatter",
         "x": [
          64
         ],
         "y": [
          36
         ]
        },
        {
         "marker": {
          "color": "blue",
          "opacity": 0.5,
          "size": 2.4390243902439024
         },
         "mode": "markers",
         "showlegend": false,
         "type": "scatter",
         "x": [
          65
         ],
         "y": [
          -38
         ]
        },
        {
         "marker": {
          "color": "blue",
          "opacity": 0.5,
          "size": 2.4390243902439024
         },
         "mode": "markers",
         "showlegend": false,
         "type": "scatter",
         "x": [
          65
         ],
         "y": [
          -36
         ]
        },
        {
         "marker": {
          "color": "blue",
          "opacity": 0.5,
          "size": 1.2195121951219512
         },
         "mode": "markers",
         "showlegend": false,
         "type": "scatter",
         "x": [
          65
         ],
         "y": [
          -31
         ]
        },
        {
         "marker": {
          "color": "blue",
          "opacity": 0.5,
          "size": 1.2195121951219512
         },
         "mode": "markers",
         "showlegend": false,
         "type": "scatter",
         "x": [
          65
         ],
         "y": [
          -30
         ]
        },
        {
         "marker": {
          "color": "blue",
          "opacity": 0.5,
          "size": 1.2195121951219512
         },
         "mode": "markers",
         "showlegend": false,
         "type": "scatter",
         "x": [
          65
         ],
         "y": [
          -27
         ]
        },
        {
         "marker": {
          "color": "blue",
          "opacity": 0.5,
          "size": 1.2195121951219512
         },
         "mode": "markers",
         "showlegend": false,
         "type": "scatter",
         "x": [
          65
         ],
         "y": [
          -23
         ]
        },
        {
         "marker": {
          "color": "blue",
          "opacity": 0.5,
          "size": 1.2195121951219512
         },
         "mode": "markers",
         "showlegend": false,
         "type": "scatter",
         "x": [
          65
         ],
         "y": [
          -20
         ]
        },
        {
         "marker": {
          "color": "blue",
          "opacity": 0.5,
          "size": 1.2195121951219512
         },
         "mode": "markers",
         "showlegend": false,
         "type": "scatter",
         "x": [
          65
         ],
         "y": [
          -19
         ]
        },
        {
         "marker": {
          "color": "blue",
          "opacity": 0.5,
          "size": 1.2195121951219512
         },
         "mode": "markers",
         "showlegend": false,
         "type": "scatter",
         "x": [
          65
         ],
         "y": [
          -18
         ]
        },
        {
         "marker": {
          "color": "blue",
          "opacity": 0.5,
          "size": 1.2195121951219512
         },
         "mode": "markers",
         "showlegend": false,
         "type": "scatter",
         "x": [
          65
         ],
         "y": [
          -17
         ]
        },
        {
         "marker": {
          "color": "blue",
          "opacity": 0.5,
          "size": 2.4390243902439024
         },
         "mode": "markers",
         "showlegend": false,
         "type": "scatter",
         "x": [
          65
         ],
         "y": [
          -10
         ]
        },
        {
         "marker": {
          "color": "blue",
          "opacity": 0.5,
          "size": 2.4390243902439024
         },
         "mode": "markers",
         "showlegend": false,
         "type": "scatter",
         "x": [
          65
         ],
         "y": [
          -8
         ]
        },
        {
         "marker": {
          "color": "blue",
          "opacity": 0.5,
          "size": 2.4390243902439024
         },
         "mode": "markers",
         "showlegend": false,
         "type": "scatter",
         "x": [
          65
         ],
         "y": [
          -5
         ]
        },
        {
         "marker": {
          "color": "blue",
          "opacity": 0.5,
          "size": 1.2195121951219512
         },
         "mode": "markers",
         "showlegend": false,
         "type": "scatter",
         "x": [
          65
         ],
         "y": [
          -4
         ]
        },
        {
         "marker": {
          "color": "blue",
          "opacity": 0.5,
          "size": 1.2195121951219512
         },
         "mode": "markers",
         "showlegend": false,
         "type": "scatter",
         "x": [
          65
         ],
         "y": [
          -3
         ]
        },
        {
         "marker": {
          "color": "blue",
          "opacity": 0.5,
          "size": 1.2195121951219512
         },
         "mode": "markers",
         "showlegend": false,
         "type": "scatter",
         "x": [
          65
         ],
         "y": [
          -1
         ]
        },
        {
         "marker": {
          "color": "blue",
          "opacity": 0.5,
          "size": 2.4390243902439024
         },
         "mode": "markers",
         "showlegend": false,
         "type": "scatter",
         "x": [
          65
         ],
         "y": [
          1
         ]
        },
        {
         "marker": {
          "color": "blue",
          "opacity": 0.5,
          "size": 1.2195121951219512
         },
         "mode": "markers",
         "showlegend": false,
         "type": "scatter",
         "x": [
          65
         ],
         "y": [
          2
         ]
        },
        {
         "marker": {
          "color": "blue",
          "opacity": 0.5,
          "size": 2.4390243902439024
         },
         "mode": "markers",
         "showlegend": false,
         "type": "scatter",
         "x": [
          65
         ],
         "y": [
          3
         ]
        },
        {
         "marker": {
          "color": "blue",
          "opacity": 0.5,
          "size": 1.2195121951219512
         },
         "mode": "markers",
         "showlegend": false,
         "type": "scatter",
         "x": [
          65
         ],
         "y": [
          6
         ]
        },
        {
         "marker": {
          "color": "blue",
          "opacity": 0.5,
          "size": 1.2195121951219512
         },
         "mode": "markers",
         "showlegend": false,
         "type": "scatter",
         "x": [
          65
         ],
         "y": [
          8
         ]
        },
        {
         "marker": {
          "color": "blue",
          "opacity": 0.5,
          "size": 1.2195121951219512
         },
         "mode": "markers",
         "showlegend": false,
         "type": "scatter",
         "x": [
          65
         ],
         "y": [
          9
         ]
        },
        {
         "marker": {
          "color": "blue",
          "opacity": 0.5,
          "size": 2.4390243902439024
         },
         "mode": "markers",
         "showlegend": false,
         "type": "scatter",
         "x": [
          65
         ],
         "y": [
          10
         ]
        },
        {
         "marker": {
          "color": "blue",
          "opacity": 0.5,
          "size": 1.2195121951219512
         },
         "mode": "markers",
         "showlegend": false,
         "type": "scatter",
         "x": [
          65
         ],
         "y": [
          12
         ]
        },
        {
         "marker": {
          "color": "blue",
          "opacity": 0.5,
          "size": 1.2195121951219512
         },
         "mode": "markers",
         "showlegend": false,
         "type": "scatter",
         "x": [
          65
         ],
         "y": [
          14
         ]
        },
        {
         "marker": {
          "color": "blue",
          "opacity": 0.5,
          "size": 1.2195121951219512
         },
         "mode": "markers",
         "showlegend": false,
         "type": "scatter",
         "x": [
          65
         ],
         "y": [
          20
         ]
        },
        {
         "marker": {
          "color": "blue",
          "opacity": 0.5,
          "size": 1.2195121951219512
         },
         "mode": "markers",
         "showlegend": false,
         "type": "scatter",
         "x": [
          65
         ],
         "y": [
          21
         ]
        },
        {
         "marker": {
          "color": "blue",
          "opacity": 0.5,
          "size": 2.4390243902439024
         },
         "mode": "markers",
         "showlegend": false,
         "type": "scatter",
         "x": [
          65
         ],
         "y": [
          24
         ]
        },
        {
         "marker": {
          "color": "blue",
          "opacity": 0.5,
          "size": 1.2195121951219512
         },
         "mode": "markers",
         "showlegend": false,
         "type": "scatter",
         "x": [
          65
         ],
         "y": [
          31
         ]
        },
        {
         "marker": {
          "color": "blue",
          "opacity": 0.5,
          "size": 1.2195121951219512
         },
         "mode": "markers",
         "showlegend": false,
         "type": "scatter",
         "x": [
          65
         ],
         "y": [
          35
         ]
        },
        {
         "marker": {
          "color": "blue",
          "opacity": 0.5,
          "size": 2.4390243902439024
         },
         "mode": "markers",
         "showlegend": false,
         "type": "scatter",
         "x": [
          66
         ],
         "y": [
          -35
         ]
        },
        {
         "marker": {
          "color": "blue",
          "opacity": 0.5,
          "size": 1.2195121951219512
         },
         "mode": "markers",
         "showlegend": false,
         "type": "scatter",
         "x": [
          66
         ],
         "y": [
          -31
         ]
        },
        {
         "marker": {
          "color": "blue",
          "opacity": 0.5,
          "size": 1.2195121951219512
         },
         "mode": "markers",
         "showlegend": false,
         "type": "scatter",
         "x": [
          66
         ],
         "y": [
          -30
         ]
        },
        {
         "marker": {
          "color": "blue",
          "opacity": 0.5,
          "size": 1.2195121951219512
         },
         "mode": "markers",
         "showlegend": false,
         "type": "scatter",
         "x": [
          66
         ],
         "y": [
          -29
         ]
        },
        {
         "marker": {
          "color": "blue",
          "opacity": 0.5,
          "size": 2.4390243902439024
         },
         "mode": "markers",
         "showlegend": false,
         "type": "scatter",
         "x": [
          66
         ],
         "y": [
          -28
         ]
        },
        {
         "marker": {
          "color": "blue",
          "opacity": 0.5,
          "size": 1.2195121951219512
         },
         "mode": "markers",
         "showlegend": false,
         "type": "scatter",
         "x": [
          66
         ],
         "y": [
          -27
         ]
        },
        {
         "marker": {
          "color": "blue",
          "opacity": 0.5,
          "size": 2.4390243902439024
         },
         "mode": "markers",
         "showlegend": false,
         "type": "scatter",
         "x": [
          66
         ],
         "y": [
          -24
         ]
        },
        {
         "marker": {
          "color": "blue",
          "opacity": 0.5,
          "size": 1.2195121951219512
         },
         "mode": "markers",
         "showlegend": false,
         "type": "scatter",
         "x": [
          66
         ],
         "y": [
          -21
         ]
        },
        {
         "marker": {
          "color": "blue",
          "opacity": 0.5,
          "size": 1.2195121951219512
         },
         "mode": "markers",
         "showlegend": false,
         "type": "scatter",
         "x": [
          66
         ],
         "y": [
          -20
         ]
        },
        {
         "marker": {
          "color": "blue",
          "opacity": 0.5,
          "size": 1.2195121951219512
         },
         "mode": "markers",
         "showlegend": false,
         "type": "scatter",
         "x": [
          66
         ],
         "y": [
          -19
         ]
        },
        {
         "marker": {
          "color": "blue",
          "opacity": 0.5,
          "size": 2.4390243902439024
         },
         "mode": "markers",
         "showlegend": false,
         "type": "scatter",
         "x": [
          66
         ],
         "y": [
          -18
         ]
        },
        {
         "marker": {
          "color": "blue",
          "opacity": 0.5,
          "size": 1.2195121951219512
         },
         "mode": "markers",
         "showlegend": false,
         "type": "scatter",
         "x": [
          66
         ],
         "y": [
          -17
         ]
        },
        {
         "marker": {
          "color": "blue",
          "opacity": 0.5,
          "size": 2.4390243902439024
         },
         "mode": "markers",
         "showlegend": false,
         "type": "scatter",
         "x": [
          66
         ],
         "y": [
          -16
         ]
        },
        {
         "marker": {
          "color": "blue",
          "opacity": 0.5,
          "size": 1.2195121951219512
         },
         "mode": "markers",
         "showlegend": false,
         "type": "scatter",
         "x": [
          66
         ],
         "y": [
          -15
         ]
        },
        {
         "marker": {
          "color": "blue",
          "opacity": 0.5,
          "size": 1.2195121951219512
         },
         "mode": "markers",
         "showlegend": false,
         "type": "scatter",
         "x": [
          66
         ],
         "y": [
          -12
         ]
        },
        {
         "marker": {
          "color": "blue",
          "opacity": 0.5,
          "size": 1.2195121951219512
         },
         "mode": "markers",
         "showlegend": false,
         "type": "scatter",
         "x": [
          66
         ],
         "y": [
          -11
         ]
        },
        {
         "marker": {
          "color": "blue",
          "opacity": 0.5,
          "size": 2.4390243902439024
         },
         "mode": "markers",
         "showlegend": false,
         "type": "scatter",
         "x": [
          66
         ],
         "y": [
          -10
         ]
        },
        {
         "marker": {
          "color": "blue",
          "opacity": 0.5,
          "size": 1.2195121951219512
         },
         "mode": "markers",
         "showlegend": false,
         "type": "scatter",
         "x": [
          66
         ],
         "y": [
          -9
         ]
        },
        {
         "marker": {
          "color": "blue",
          "opacity": 0.5,
          "size": 2.4390243902439024
         },
         "mode": "markers",
         "showlegend": false,
         "type": "scatter",
         "x": [
          66
         ],
         "y": [
          -2
         ]
        },
        {
         "marker": {
          "color": "blue",
          "opacity": 0.5,
          "size": 3.6585365853658534
         },
         "mode": "markers",
         "showlegend": false,
         "type": "scatter",
         "x": [
          66
         ],
         "y": [
          -1
         ]
        },
        {
         "marker": {
          "color": "blue",
          "opacity": 0.5,
          "size": 1.2195121951219512
         },
         "mode": "markers",
         "showlegend": false,
         "type": "scatter",
         "x": [
          66
         ],
         "y": [
          0
         ]
        },
        {
         "marker": {
          "color": "blue",
          "opacity": 0.5,
          "size": 2.4390243902439024
         },
         "mode": "markers",
         "showlegend": false,
         "type": "scatter",
         "x": [
          66
         ],
         "y": [
          1
         ]
        },
        {
         "marker": {
          "color": "blue",
          "opacity": 0.5,
          "size": 2.4390243902439024
         },
         "mode": "markers",
         "showlegend": false,
         "type": "scatter",
         "x": [
          66
         ],
         "y": [
          2
         ]
        },
        {
         "marker": {
          "color": "blue",
          "opacity": 0.5,
          "size": 1.2195121951219512
         },
         "mode": "markers",
         "showlegend": false,
         "type": "scatter",
         "x": [
          66
         ],
         "y": [
          5
         ]
        },
        {
         "marker": {
          "color": "blue",
          "opacity": 0.5,
          "size": 1.2195121951219512
         },
         "mode": "markers",
         "showlegend": false,
         "type": "scatter",
         "x": [
          66
         ],
         "y": [
          8
         ]
        },
        {
         "marker": {
          "color": "blue",
          "opacity": 0.5,
          "size": 1.2195121951219512
         },
         "mode": "markers",
         "showlegend": false,
         "type": "scatter",
         "x": [
          66
         ],
         "y": [
          12
         ]
        },
        {
         "marker": {
          "color": "blue",
          "opacity": 0.5,
          "size": 1.2195121951219512
         },
         "mode": "markers",
         "showlegend": false,
         "type": "scatter",
         "x": [
          66
         ],
         "y": [
          13
         ]
        },
        {
         "marker": {
          "color": "blue",
          "opacity": 0.5,
          "size": 1.2195121951219512
         },
         "mode": "markers",
         "showlegend": false,
         "type": "scatter",
         "x": [
          66
         ],
         "y": [
          16
         ]
        },
        {
         "marker": {
          "color": "blue",
          "opacity": 0.5,
          "size": 1.2195121951219512
         },
         "mode": "markers",
         "showlegend": false,
         "type": "scatter",
         "x": [
          66
         ],
         "y": [
          17
         ]
        },
        {
         "marker": {
          "color": "blue",
          "opacity": 0.5,
          "size": 1.2195121951219512
         },
         "mode": "markers",
         "showlegend": false,
         "type": "scatter",
         "x": [
          66
         ],
         "y": [
          18
         ]
        },
        {
         "marker": {
          "color": "blue",
          "opacity": 0.5,
          "size": 3.6585365853658534
         },
         "mode": "markers",
         "showlegend": false,
         "type": "scatter",
         "x": [
          66
         ],
         "y": [
          20
         ]
        },
        {
         "marker": {
          "color": "blue",
          "opacity": 0.5,
          "size": 1.2195121951219512
         },
         "mode": "markers",
         "showlegend": false,
         "type": "scatter",
         "x": [
          66
         ],
         "y": [
          22
         ]
        },
        {
         "marker": {
          "color": "blue",
          "opacity": 0.5,
          "size": 2.4390243902439024
         },
         "mode": "markers",
         "showlegend": false,
         "type": "scatter",
         "x": [
          66
         ],
         "y": [
          23
         ]
        },
        {
         "marker": {
          "color": "blue",
          "opacity": 0.5,
          "size": 1.2195121951219512
         },
         "mode": "markers",
         "showlegend": false,
         "type": "scatter",
         "x": [
          66
         ],
         "y": [
          29
         ]
        },
        {
         "marker": {
          "color": "blue",
          "opacity": 0.5,
          "size": 1.2195121951219512
         },
         "mode": "markers",
         "showlegend": false,
         "type": "scatter",
         "x": [
          66
         ],
         "y": [
          35
         ]
        },
        {
         "marker": {
          "color": "blue",
          "opacity": 0.5,
          "size": 2.4390243902439024
         },
         "mode": "markers",
         "showlegend": false,
         "type": "scatter",
         "x": [
          66
         ],
         "y": [
          36
         ]
        },
        {
         "marker": {
          "color": "blue",
          "opacity": 0.5,
          "size": 1.2195121951219512
         },
         "mode": "markers",
         "showlegend": false,
         "type": "scatter",
         "x": [
          66
         ],
         "y": [
          37
         ]
        },
        {
         "marker": {
          "color": "blue",
          "opacity": 0.5,
          "size": 1.2195121951219512
         },
         "mode": "markers",
         "showlegend": false,
         "type": "scatter",
         "x": [
          67
         ],
         "y": [
          -35
         ]
        },
        {
         "marker": {
          "color": "blue",
          "opacity": 0.5,
          "size": 1.2195121951219512
         },
         "mode": "markers",
         "showlegend": false,
         "type": "scatter",
         "x": [
          67
         ],
         "y": [
          -34
         ]
        },
        {
         "marker": {
          "color": "blue",
          "opacity": 0.5,
          "size": 2.4390243902439024
         },
         "mode": "markers",
         "showlegend": false,
         "type": "scatter",
         "x": [
          67
         ],
         "y": [
          -33
         ]
        },
        {
         "marker": {
          "color": "blue",
          "opacity": 0.5,
          "size": 1.2195121951219512
         },
         "mode": "markers",
         "showlegend": false,
         "type": "scatter",
         "x": [
          67
         ],
         "y": [
          -32
         ]
        },
        {
         "marker": {
          "color": "blue",
          "opacity": 0.5,
          "size": 1.2195121951219512
         },
         "mode": "markers",
         "showlegend": false,
         "type": "scatter",
         "x": [
          67
         ],
         "y": [
          -30
         ]
        },
        {
         "marker": {
          "color": "blue",
          "opacity": 0.5,
          "size": 2.4390243902439024
         },
         "mode": "markers",
         "showlegend": false,
         "type": "scatter",
         "x": [
          67
         ],
         "y": [
          -29
         ]
        },
        {
         "marker": {
          "color": "blue",
          "opacity": 0.5,
          "size": 1.2195121951219512
         },
         "mode": "markers",
         "showlegend": false,
         "type": "scatter",
         "x": [
          67
         ],
         "y": [
          -28
         ]
        },
        {
         "marker": {
          "color": "blue",
          "opacity": 0.5,
          "size": 1.2195121951219512
         },
         "mode": "markers",
         "showlegend": false,
         "type": "scatter",
         "x": [
          67
         ],
         "y": [
          -27
         ]
        },
        {
         "marker": {
          "color": "blue",
          "opacity": 0.5,
          "size": 2.4390243902439024
         },
         "mode": "markers",
         "showlegend": false,
         "type": "scatter",
         "x": [
          67
         ],
         "y": [
          -23
         ]
        },
        {
         "marker": {
          "color": "blue",
          "opacity": 0.5,
          "size": 1.2195121951219512
         },
         "mode": "markers",
         "showlegend": false,
         "type": "scatter",
         "x": [
          67
         ],
         "y": [
          -21
         ]
        },
        {
         "marker": {
          "color": "blue",
          "opacity": 0.5,
          "size": 1.2195121951219512
         },
         "mode": "markers",
         "showlegend": false,
         "type": "scatter",
         "x": [
          67
         ],
         "y": [
          -19
         ]
        },
        {
         "marker": {
          "color": "blue",
          "opacity": 0.5,
          "size": 1.2195121951219512
         },
         "mode": "markers",
         "showlegend": false,
         "type": "scatter",
         "x": [
          67
         ],
         "y": [
          -18
         ]
        },
        {
         "marker": {
          "color": "blue",
          "opacity": 0.5,
          "size": 1.2195121951219512
         },
         "mode": "markers",
         "showlegend": false,
         "type": "scatter",
         "x": [
          67
         ],
         "y": [
          -17
         ]
        },
        {
         "marker": {
          "color": "blue",
          "opacity": 0.5,
          "size": 2.4390243902439024
         },
         "mode": "markers",
         "showlegend": false,
         "type": "scatter",
         "x": [
          67
         ],
         "y": [
          -15
         ]
        },
        {
         "marker": {
          "color": "blue",
          "opacity": 0.5,
          "size": 2.4390243902439024
         },
         "mode": "markers",
         "showlegend": false,
         "type": "scatter",
         "x": [
          67
         ],
         "y": [
          -10
         ]
        },
        {
         "marker": {
          "color": "blue",
          "opacity": 0.5,
          "size": 2.4390243902439024
         },
         "mode": "markers",
         "showlegend": false,
         "type": "scatter",
         "x": [
          67
         ],
         "y": [
          -8
         ]
        },
        {
         "marker": {
          "color": "blue",
          "opacity": 0.5,
          "size": 2.4390243902439024
         },
         "mode": "markers",
         "showlegend": false,
         "type": "scatter",
         "x": [
          67
         ],
         "y": [
          -4
         ]
        },
        {
         "marker": {
          "color": "blue",
          "opacity": 0.5,
          "size": 1.2195121951219512
         },
         "mode": "markers",
         "showlegend": false,
         "type": "scatter",
         "x": [
          67
         ],
         "y": [
          -2
         ]
        },
        {
         "marker": {
          "color": "blue",
          "opacity": 0.5,
          "size": 1.2195121951219512
         },
         "mode": "markers",
         "showlegend": false,
         "type": "scatter",
         "x": [
          67
         ],
         "y": [
          -1
         ]
        },
        {
         "marker": {
          "color": "blue",
          "opacity": 0.5,
          "size": 2.4390243902439024
         },
         "mode": "markers",
         "showlegend": false,
         "type": "scatter",
         "x": [
          67
         ],
         "y": [
          1
         ]
        },
        {
         "marker": {
          "color": "blue",
          "opacity": 0.5,
          "size": 1.2195121951219512
         },
         "mode": "markers",
         "showlegend": false,
         "type": "scatter",
         "x": [
          67
         ],
         "y": [
          2
         ]
        },
        {
         "marker": {
          "color": "blue",
          "opacity": 0.5,
          "size": 1.2195121951219512
         },
         "mode": "markers",
         "showlegend": false,
         "type": "scatter",
         "x": [
          67
         ],
         "y": [
          4
         ]
        },
        {
         "marker": {
          "color": "blue",
          "opacity": 0.5,
          "size": 1.2195121951219512
         },
         "mode": "markers",
         "showlegend": false,
         "type": "scatter",
         "x": [
          67
         ],
         "y": [
          7
         ]
        },
        {
         "marker": {
          "color": "blue",
          "opacity": 0.5,
          "size": 1.2195121951219512
         },
         "mode": "markers",
         "showlegend": false,
         "type": "scatter",
         "x": [
          67
         ],
         "y": [
          8
         ]
        },
        {
         "marker": {
          "color": "blue",
          "opacity": 0.5,
          "size": 1.2195121951219512
         },
         "mode": "markers",
         "showlegend": false,
         "type": "scatter",
         "x": [
          67
         ],
         "y": [
          13
         ]
        },
        {
         "marker": {
          "color": "blue",
          "opacity": 0.5,
          "size": 1.2195121951219512
         },
         "mode": "markers",
         "showlegend": false,
         "type": "scatter",
         "x": [
          67
         ],
         "y": [
          14
         ]
        },
        {
         "marker": {
          "color": "blue",
          "opacity": 0.5,
          "size": 1.2195121951219512
         },
         "mode": "markers",
         "showlegend": false,
         "type": "scatter",
         "x": [
          67
         ],
         "y": [
          15
         ]
        },
        {
         "marker": {
          "color": "blue",
          "opacity": 0.5,
          "size": 1.2195121951219512
         },
         "mode": "markers",
         "showlegend": false,
         "type": "scatter",
         "x": [
          67
         ],
         "y": [
          16
         ]
        },
        {
         "marker": {
          "color": "blue",
          "opacity": 0.5,
          "size": 1.2195121951219512
         },
         "mode": "markers",
         "showlegend": false,
         "type": "scatter",
         "x": [
          67
         ],
         "y": [
          17
         ]
        },
        {
         "marker": {
          "color": "blue",
          "opacity": 0.5,
          "size": 1.2195121951219512
         },
         "mode": "markers",
         "showlegend": false,
         "type": "scatter",
         "x": [
          67
         ],
         "y": [
          19
         ]
        },
        {
         "marker": {
          "color": "blue",
          "opacity": 0.5,
          "size": 1.2195121951219512
         },
         "mode": "markers",
         "showlegend": false,
         "type": "scatter",
         "x": [
          67
         ],
         "y": [
          21
         ]
        },
        {
         "marker": {
          "color": "blue",
          "opacity": 0.5,
          "size": 1.2195121951219512
         },
         "mode": "markers",
         "showlegend": false,
         "type": "scatter",
         "x": [
          67
         ],
         "y": [
          22
         ]
        },
        {
         "marker": {
          "color": "blue",
          "opacity": 0.5,
          "size": 2.4390243902439024
         },
         "mode": "markers",
         "showlegend": false,
         "type": "scatter",
         "x": [
          67
         ],
         "y": [
          23
         ]
        },
        {
         "marker": {
          "color": "blue",
          "opacity": 0.5,
          "size": 1.2195121951219512
         },
         "mode": "markers",
         "showlegend": false,
         "type": "scatter",
         "x": [
          67
         ],
         "y": [
          27
         ]
        },
        {
         "marker": {
          "color": "blue",
          "opacity": 0.5,
          "size": 1.2195121951219512
         },
         "mode": "markers",
         "showlegend": false,
         "type": "scatter",
         "x": [
          67
         ],
         "y": [
          31
         ]
        },
        {
         "marker": {
          "color": "blue",
          "opacity": 0.5,
          "size": 1.2195121951219512
         },
         "mode": "markers",
         "showlegend": false,
         "type": "scatter",
         "x": [
          67
         ],
         "y": [
          33
         ]
        },
        {
         "marker": {
          "color": "blue",
          "opacity": 0.5,
          "size": 1.2195121951219512
         },
         "mode": "markers",
         "showlegend": false,
         "type": "scatter",
         "x": [
          67
         ],
         "y": [
          34
         ]
        },
        {
         "marker": {
          "color": "blue",
          "opacity": 0.5,
          "size": 1.2195121951219512
         },
         "mode": "markers",
         "showlegend": false,
         "type": "scatter",
         "x": [
          67
         ],
         "y": [
          35
         ]
        },
        {
         "marker": {
          "color": "blue",
          "opacity": 0.5,
          "size": 1.2195121951219512
         },
         "mode": "markers",
         "showlegend": false,
         "type": "scatter",
         "x": [
          68
         ],
         "y": [
          -37
         ]
        },
        {
         "marker": {
          "color": "blue",
          "opacity": 0.5,
          "size": 1.2195121951219512
         },
         "mode": "markers",
         "showlegend": false,
         "type": "scatter",
         "x": [
          68
         ],
         "y": [
          -34
         ]
        },
        {
         "marker": {
          "color": "blue",
          "opacity": 0.5,
          "size": 1.2195121951219512
         },
         "mode": "markers",
         "showlegend": false,
         "type": "scatter",
         "x": [
          68
         ],
         "y": [
          -25
         ]
        },
        {
         "marker": {
          "color": "blue",
          "opacity": 0.5,
          "size": 1.2195121951219512
         },
         "mode": "markers",
         "showlegend": false,
         "type": "scatter",
         "x": [
          68
         ],
         "y": [
          -24
         ]
        },
        {
         "marker": {
          "color": "blue",
          "opacity": 0.5,
          "size": 1.2195121951219512
         },
         "mode": "markers",
         "showlegend": false,
         "type": "scatter",
         "x": [
          68
         ],
         "y": [
          -22
         ]
        },
        {
         "marker": {
          "color": "blue",
          "opacity": 0.5,
          "size": 1.2195121951219512
         },
         "mode": "markers",
         "showlegend": false,
         "type": "scatter",
         "x": [
          68
         ],
         "y": [
          -21
         ]
        },
        {
         "marker": {
          "color": "blue",
          "opacity": 0.5,
          "size": 2.4390243902439024
         },
         "mode": "markers",
         "showlegend": false,
         "type": "scatter",
         "x": [
          68
         ],
         "y": [
          -18
         ]
        },
        {
         "marker": {
          "color": "blue",
          "opacity": 0.5,
          "size": 1.2195121951219512
         },
         "mode": "markers",
         "showlegend": false,
         "type": "scatter",
         "x": [
          68
         ],
         "y": [
          -15
         ]
        },
        {
         "marker": {
          "color": "blue",
          "opacity": 0.5,
          "size": 3.6585365853658534
         },
         "mode": "markers",
         "showlegend": false,
         "type": "scatter",
         "x": [
          68
         ],
         "y": [
          -13
         ]
        },
        {
         "marker": {
          "color": "blue",
          "opacity": 0.5,
          "size": 1.2195121951219512
         },
         "mode": "markers",
         "showlegend": false,
         "type": "scatter",
         "x": [
          68
         ],
         "y": [
          -10
         ]
        },
        {
         "marker": {
          "color": "blue",
          "opacity": 0.5,
          "size": 2.4390243902439024
         },
         "mode": "markers",
         "showlegend": false,
         "type": "scatter",
         "x": [
          68
         ],
         "y": [
          -9
         ]
        },
        {
         "marker": {
          "color": "blue",
          "opacity": 0.5,
          "size": 2.4390243902439024
         },
         "mode": "markers",
         "showlegend": false,
         "type": "scatter",
         "x": [
          68
         ],
         "y": [
          -7
         ]
        },
        {
         "marker": {
          "color": "blue",
          "opacity": 0.5,
          "size": 1.2195121951219512
         },
         "mode": "markers",
         "showlegend": false,
         "type": "scatter",
         "x": [
          68
         ],
         "y": [
          -6
         ]
        },
        {
         "marker": {
          "color": "blue",
          "opacity": 0.5,
          "size": 1.2195121951219512
         },
         "mode": "markers",
         "showlegend": false,
         "type": "scatter",
         "x": [
          68
         ],
         "y": [
          -5
         ]
        },
        {
         "marker": {
          "color": "blue",
          "opacity": 0.5,
          "size": 1.2195121951219512
         },
         "mode": "markers",
         "showlegend": false,
         "type": "scatter",
         "x": [
          68
         ],
         "y": [
          -3
         ]
        },
        {
         "marker": {
          "color": "blue",
          "opacity": 0.5,
          "size": 1.2195121951219512
         },
         "mode": "markers",
         "showlegend": false,
         "type": "scatter",
         "x": [
          68
         ],
         "y": [
          -1
         ]
        },
        {
         "marker": {
          "color": "blue",
          "opacity": 0.5,
          "size": 2.4390243902439024
         },
         "mode": "markers",
         "showlegend": false,
         "type": "scatter",
         "x": [
          68
         ],
         "y": [
          1
         ]
        },
        {
         "marker": {
          "color": "blue",
          "opacity": 0.5,
          "size": 2.4390243902439024
         },
         "mode": "markers",
         "showlegend": false,
         "type": "scatter",
         "x": [
          68
         ],
         "y": [
          2
         ]
        },
        {
         "marker": {
          "color": "blue",
          "opacity": 0.5,
          "size": 1.2195121951219512
         },
         "mode": "markers",
         "showlegend": false,
         "type": "scatter",
         "x": [
          68
         ],
         "y": [
          3
         ]
        },
        {
         "marker": {
          "color": "blue",
          "opacity": 0.5,
          "size": 1.2195121951219512
         },
         "mode": "markers",
         "showlegend": false,
         "type": "scatter",
         "x": [
          68
         ],
         "y": [
          4
         ]
        },
        {
         "marker": {
          "color": "blue",
          "opacity": 0.5,
          "size": 3.6585365853658534
         },
         "mode": "markers",
         "showlegend": false,
         "type": "scatter",
         "x": [
          68
         ],
         "y": [
          5
         ]
        },
        {
         "marker": {
          "color": "blue",
          "opacity": 0.5,
          "size": 2.4390243902439024
         },
         "mode": "markers",
         "showlegend": false,
         "type": "scatter",
         "x": [
          68
         ],
         "y": [
          8
         ]
        },
        {
         "marker": {
          "color": "blue",
          "opacity": 0.5,
          "size": 1.2195121951219512
         },
         "mode": "markers",
         "showlegend": false,
         "type": "scatter",
         "x": [
          68
         ],
         "y": [
          10
         ]
        },
        {
         "marker": {
          "color": "blue",
          "opacity": 0.5,
          "size": 1.2195121951219512
         },
         "mode": "markers",
         "showlegend": false,
         "type": "scatter",
         "x": [
          68
         ],
         "y": [
          12
         ]
        },
        {
         "marker": {
          "color": "blue",
          "opacity": 0.5,
          "size": 1.2195121951219512
         },
         "mode": "markers",
         "showlegend": false,
         "type": "scatter",
         "x": [
          68
         ],
         "y": [
          13
         ]
        },
        {
         "marker": {
          "color": "blue",
          "opacity": 0.5,
          "size": 1.2195121951219512
         },
         "mode": "markers",
         "showlegend": false,
         "type": "scatter",
         "x": [
          68
         ],
         "y": [
          14
         ]
        },
        {
         "marker": {
          "color": "blue",
          "opacity": 0.5,
          "size": 1.2195121951219512
         },
         "mode": "markers",
         "showlegend": false,
         "type": "scatter",
         "x": [
          68
         ],
         "y": [
          17
         ]
        },
        {
         "marker": {
          "color": "blue",
          "opacity": 0.5,
          "size": 1.2195121951219512
         },
         "mode": "markers",
         "showlegend": false,
         "type": "scatter",
         "x": [
          68
         ],
         "y": [
          18
         ]
        },
        {
         "marker": {
          "color": "blue",
          "opacity": 0.5,
          "size": 1.2195121951219512
         },
         "mode": "markers",
         "showlegend": false,
         "type": "scatter",
         "x": [
          68
         ],
         "y": [
          19
         ]
        },
        {
         "marker": {
          "color": "blue",
          "opacity": 0.5,
          "size": 1.2195121951219512
         },
         "mode": "markers",
         "showlegend": false,
         "type": "scatter",
         "x": [
          68
         ],
         "y": [
          20
         ]
        },
        {
         "marker": {
          "color": "blue",
          "opacity": 0.5,
          "size": 1.2195121951219512
         },
         "mode": "markers",
         "showlegend": false,
         "type": "scatter",
         "x": [
          68
         ],
         "y": [
          22
         ]
        },
        {
         "marker": {
          "color": "blue",
          "opacity": 0.5,
          "size": 2.4390243902439024
         },
         "mode": "markers",
         "showlegend": false,
         "type": "scatter",
         "x": [
          68
         ],
         "y": [
          25
         ]
        },
        {
         "marker": {
          "color": "blue",
          "opacity": 0.5,
          "size": 1.2195121951219512
         },
         "mode": "markers",
         "showlegend": false,
         "type": "scatter",
         "x": [
          69
         ],
         "y": [
          -40
         ]
        },
        {
         "marker": {
          "color": "blue",
          "opacity": 0.5,
          "size": 1.2195121951219512
         },
         "mode": "markers",
         "showlegend": false,
         "type": "scatter",
         "x": [
          69
         ],
         "y": [
          -31
         ]
        },
        {
         "marker": {
          "color": "blue",
          "opacity": 0.5,
          "size": 1.2195121951219512
         },
         "mode": "markers",
         "showlegend": false,
         "type": "scatter",
         "x": [
          69
         ],
         "y": [
          -30
         ]
        },
        {
         "marker": {
          "color": "blue",
          "opacity": 0.5,
          "size": 1.2195121951219512
         },
         "mode": "markers",
         "showlegend": false,
         "type": "scatter",
         "x": [
          69
         ],
         "y": [
          -27
         ]
        },
        {
         "marker": {
          "color": "blue",
          "opacity": 0.5,
          "size": 1.2195121951219512
         },
         "mode": "markers",
         "showlegend": false,
         "type": "scatter",
         "x": [
          69
         ],
         "y": [
          -25
         ]
        },
        {
         "marker": {
          "color": "blue",
          "opacity": 0.5,
          "size": 1.2195121951219512
         },
         "mode": "markers",
         "showlegend": false,
         "type": "scatter",
         "x": [
          69
         ],
         "y": [
          -23
         ]
        },
        {
         "marker": {
          "color": "blue",
          "opacity": 0.5,
          "size": 2.4390243902439024
         },
         "mode": "markers",
         "showlegend": false,
         "type": "scatter",
         "x": [
          69
         ],
         "y": [
          -21
         ]
        },
        {
         "marker": {
          "color": "blue",
          "opacity": 0.5,
          "size": 1.2195121951219512
         },
         "mode": "markers",
         "showlegend": false,
         "type": "scatter",
         "x": [
          69
         ],
         "y": [
          -20
         ]
        },
        {
         "marker": {
          "color": "blue",
          "opacity": 0.5,
          "size": 1.2195121951219512
         },
         "mode": "markers",
         "showlegend": false,
         "type": "scatter",
         "x": [
          69
         ],
         "y": [
          -15
         ]
        },
        {
         "marker": {
          "color": "blue",
          "opacity": 0.5,
          "size": 1.2195121951219512
         },
         "mode": "markers",
         "showlegend": false,
         "type": "scatter",
         "x": [
          69
         ],
         "y": [
          -14
         ]
        },
        {
         "marker": {
          "color": "blue",
          "opacity": 0.5,
          "size": 1.2195121951219512
         },
         "mode": "markers",
         "showlegend": false,
         "type": "scatter",
         "x": [
          69
         ],
         "y": [
          -13
         ]
        },
        {
         "marker": {
          "color": "blue",
          "opacity": 0.5,
          "size": 2.4390243902439024
         },
         "mode": "markers",
         "showlegend": false,
         "type": "scatter",
         "x": [
          69
         ],
         "y": [
          -9
         ]
        },
        {
         "marker": {
          "color": "blue",
          "opacity": 0.5,
          "size": 3.6585365853658534
         },
         "mode": "markers",
         "showlegend": false,
         "type": "scatter",
         "x": [
          69
         ],
         "y": [
          -6
         ]
        },
        {
         "marker": {
          "color": "blue",
          "opacity": 0.5,
          "size": 2.4390243902439024
         },
         "mode": "markers",
         "showlegend": false,
         "type": "scatter",
         "x": [
          69
         ],
         "y": [
          -5
         ]
        },
        {
         "marker": {
          "color": "blue",
          "opacity": 0.5,
          "size": 1.2195121951219512
         },
         "mode": "markers",
         "showlegend": false,
         "type": "scatter",
         "x": [
          69
         ],
         "y": [
          -4
         ]
        },
        {
         "marker": {
          "color": "blue",
          "opacity": 0.5,
          "size": 1.2195121951219512
         },
         "mode": "markers",
         "showlegend": false,
         "type": "scatter",
         "x": [
          69
         ],
         "y": [
          -3
         ]
        },
        {
         "marker": {
          "color": "blue",
          "opacity": 0.5,
          "size": 3.6585365853658534
         },
         "mode": "markers",
         "showlegend": false,
         "type": "scatter",
         "x": [
          69
         ],
         "y": [
          -1
         ]
        },
        {
         "marker": {
          "color": "blue",
          "opacity": 0.5,
          "size": 3.6585365853658534
         },
         "mode": "markers",
         "showlegend": false,
         "type": "scatter",
         "x": [
          69
         ],
         "y": [
          0
         ]
        },
        {
         "marker": {
          "color": "blue",
          "opacity": 0.5,
          "size": 2.4390243902439024
         },
         "mode": "markers",
         "showlegend": false,
         "type": "scatter",
         "x": [
          69
         ],
         "y": [
          1
         ]
        },
        {
         "marker": {
          "color": "blue",
          "opacity": 0.5,
          "size": 2.4390243902439024
         },
         "mode": "markers",
         "showlegend": false,
         "type": "scatter",
         "x": [
          69
         ],
         "y": [
          5
         ]
        },
        {
         "marker": {
          "color": "blue",
          "opacity": 0.5,
          "size": 1.2195121951219512
         },
         "mode": "markers",
         "showlegend": false,
         "type": "scatter",
         "x": [
          69
         ],
         "y": [
          7
         ]
        },
        {
         "marker": {
          "color": "blue",
          "opacity": 0.5,
          "size": 1.2195121951219512
         },
         "mode": "markers",
         "showlegend": false,
         "type": "scatter",
         "x": [
          69
         ],
         "y": [
          9
         ]
        },
        {
         "marker": {
          "color": "blue",
          "opacity": 0.5,
          "size": 1.2195121951219512
         },
         "mode": "markers",
         "showlegend": false,
         "type": "scatter",
         "x": [
          69
         ],
         "y": [
          11
         ]
        },
        {
         "marker": {
          "color": "blue",
          "opacity": 0.5,
          "size": 1.2195121951219512
         },
         "mode": "markers",
         "showlegend": false,
         "type": "scatter",
         "x": [
          69
         ],
         "y": [
          14
         ]
        },
        {
         "marker": {
          "color": "blue",
          "opacity": 0.5,
          "size": 2.4390243902439024
         },
         "mode": "markers",
         "showlegend": false,
         "type": "scatter",
         "x": [
          69
         ],
         "y": [
          19
         ]
        },
        {
         "marker": {
          "color": "blue",
          "opacity": 0.5,
          "size": 1.2195121951219512
         },
         "mode": "markers",
         "showlegend": false,
         "type": "scatter",
         "x": [
          69
         ],
         "y": [
          20
         ]
        },
        {
         "marker": {
          "color": "blue",
          "opacity": 0.5,
          "size": 1.2195121951219512
         },
         "mode": "markers",
         "showlegend": false,
         "type": "scatter",
         "x": [
          69
         ],
         "y": [
          22
         ]
        },
        {
         "marker": {
          "color": "blue",
          "opacity": 0.5,
          "size": 1.2195121951219512
         },
         "mode": "markers",
         "showlegend": false,
         "type": "scatter",
         "x": [
          69
         ],
         "y": [
          23
         ]
        },
        {
         "marker": {
          "color": "blue",
          "opacity": 0.5,
          "size": 1.2195121951219512
         },
         "mode": "markers",
         "showlegend": false,
         "type": "scatter",
         "x": [
          69
         ],
         "y": [
          24
         ]
        },
        {
         "marker": {
          "color": "blue",
          "opacity": 0.5,
          "size": 1.2195121951219512
         },
         "mode": "markers",
         "showlegend": false,
         "type": "scatter",
         "x": [
          69
         ],
         "y": [
          26
         ]
        },
        {
         "marker": {
          "color": "blue",
          "opacity": 0.5,
          "size": 1.2195121951219512
         },
         "mode": "markers",
         "showlegend": false,
         "type": "scatter",
         "x": [
          69
         ],
         "y": [
          28
         ]
        },
        {
         "marker": {
          "color": "blue",
          "opacity": 0.5,
          "size": 1.2195121951219512
         },
         "mode": "markers",
         "showlegend": false,
         "type": "scatter",
         "x": [
          70
         ],
         "y": [
          -37
         ]
        },
        {
         "marker": {
          "color": "blue",
          "opacity": 0.5,
          "size": 1.2195121951219512
         },
         "mode": "markers",
         "showlegend": false,
         "type": "scatter",
         "x": [
          70
         ],
         "y": [
          -29
         ]
        },
        {
         "marker": {
          "color": "blue",
          "opacity": 0.5,
          "size": 1.2195121951219512
         },
         "mode": "markers",
         "showlegend": false,
         "type": "scatter",
         "x": [
          70
         ],
         "y": [
          -28
         ]
        },
        {
         "marker": {
          "color": "blue",
          "opacity": 0.5,
          "size": 1.2195121951219512
         },
         "mode": "markers",
         "showlegend": false,
         "type": "scatter",
         "x": [
          70
         ],
         "y": [
          -27
         ]
        },
        {
         "marker": {
          "color": "blue",
          "opacity": 0.5,
          "size": 3.6585365853658534
         },
         "mode": "markers",
         "showlegend": false,
         "type": "scatter",
         "x": [
          70
         ],
         "y": [
          -20
         ]
        },
        {
         "marker": {
          "color": "blue",
          "opacity": 0.5,
          "size": 1.2195121951219512
         },
         "mode": "markers",
         "showlegend": false,
         "type": "scatter",
         "x": [
          70
         ],
         "y": [
          -17
         ]
        },
        {
         "marker": {
          "color": "blue",
          "opacity": 0.5,
          "size": 1.2195121951219512
         },
         "mode": "markers",
         "showlegend": false,
         "type": "scatter",
         "x": [
          70
         ],
         "y": [
          -16
         ]
        },
        {
         "marker": {
          "color": "blue",
          "opacity": 0.5,
          "size": 1.2195121951219512
         },
         "mode": "markers",
         "showlegend": false,
         "type": "scatter",
         "x": [
          70
         ],
         "y": [
          -15
         ]
        },
        {
         "marker": {
          "color": "blue",
          "opacity": 0.5,
          "size": 2.4390243902439024
         },
         "mode": "markers",
         "showlegend": false,
         "type": "scatter",
         "x": [
          70
         ],
         "y": [
          -14
         ]
        },
        {
         "marker": {
          "color": "blue",
          "opacity": 0.5,
          "size": 1.2195121951219512
         },
         "mode": "markers",
         "showlegend": false,
         "type": "scatter",
         "x": [
          70
         ],
         "y": [
          -13
         ]
        },
        {
         "marker": {
          "color": "blue",
          "opacity": 0.5,
          "size": 2.4390243902439024
         },
         "mode": "markers",
         "showlegend": false,
         "type": "scatter",
         "x": [
          70
         ],
         "y": [
          -12
         ]
        },
        {
         "marker": {
          "color": "blue",
          "opacity": 0.5,
          "size": 3.6585365853658534
         },
         "mode": "markers",
         "showlegend": false,
         "type": "scatter",
         "x": [
          70
         ],
         "y": [
          -11
         ]
        },
        {
         "marker": {
          "color": "blue",
          "opacity": 0.5,
          "size": 1.2195121951219512
         },
         "mode": "markers",
         "showlegend": false,
         "type": "scatter",
         "x": [
          70
         ],
         "y": [
          -10
         ]
        },
        {
         "marker": {
          "color": "blue",
          "opacity": 0.5,
          "size": 1.2195121951219512
         },
         "mode": "markers",
         "showlegend": false,
         "type": "scatter",
         "x": [
          70
         ],
         "y": [
          -7
         ]
        },
        {
         "marker": {
          "color": "blue",
          "opacity": 0.5,
          "size": 1.2195121951219512
         },
         "mode": "markers",
         "showlegend": false,
         "type": "scatter",
         "x": [
          70
         ],
         "y": [
          -6
         ]
        },
        {
         "marker": {
          "color": "blue",
          "opacity": 0.5,
          "size": 1.2195121951219512
         },
         "mode": "markers",
         "showlegend": false,
         "type": "scatter",
         "x": [
          70
         ],
         "y": [
          -5
         ]
        },
        {
         "marker": {
          "color": "blue",
          "opacity": 0.5,
          "size": 2.4390243902439024
         },
         "mode": "markers",
         "showlegend": false,
         "type": "scatter",
         "x": [
          70
         ],
         "y": [
          -3
         ]
        },
        {
         "marker": {
          "color": "blue",
          "opacity": 0.5,
          "size": 4.878048780487805
         },
         "mode": "markers",
         "showlegend": false,
         "type": "scatter",
         "x": [
          70
         ],
         "y": [
          -1
         ]
        },
        {
         "marker": {
          "color": "blue",
          "opacity": 0.5,
          "size": 2.4390243902439024
         },
         "mode": "markers",
         "showlegend": false,
         "type": "scatter",
         "x": [
          70
         ],
         "y": [
          0
         ]
        },
        {
         "marker": {
          "color": "blue",
          "opacity": 0.5,
          "size": 1.2195121951219512
         },
         "mode": "markers",
         "showlegend": false,
         "type": "scatter",
         "x": [
          70
         ],
         "y": [
          1
         ]
        },
        {
         "marker": {
          "color": "blue",
          "opacity": 0.5,
          "size": 1.2195121951219512
         },
         "mode": "markers",
         "showlegend": false,
         "type": "scatter",
         "x": [
          70
         ],
         "y": [
          3
         ]
        },
        {
         "marker": {
          "color": "blue",
          "opacity": 0.5,
          "size": 1.2195121951219512
         },
         "mode": "markers",
         "showlegend": false,
         "type": "scatter",
         "x": [
          70
         ],
         "y": [
          8
         ]
        },
        {
         "marker": {
          "color": "blue",
          "opacity": 0.5,
          "size": 1.2195121951219512
         },
         "mode": "markers",
         "showlegend": false,
         "type": "scatter",
         "x": [
          70
         ],
         "y": [
          10
         ]
        },
        {
         "marker": {
          "color": "blue",
          "opacity": 0.5,
          "size": 1.2195121951219512
         },
         "mode": "markers",
         "showlegend": false,
         "type": "scatter",
         "x": [
          70
         ],
         "y": [
          12
         ]
        },
        {
         "marker": {
          "color": "blue",
          "opacity": 0.5,
          "size": 2.4390243902439024
         },
         "mode": "markers",
         "showlegend": false,
         "type": "scatter",
         "x": [
          70
         ],
         "y": [
          13
         ]
        },
        {
         "marker": {
          "color": "blue",
          "opacity": 0.5,
          "size": 1.2195121951219512
         },
         "mode": "markers",
         "showlegend": false,
         "type": "scatter",
         "x": [
          70
         ],
         "y": [
          15
         ]
        },
        {
         "marker": {
          "color": "blue",
          "opacity": 0.5,
          "size": 1.2195121951219512
         },
         "mode": "markers",
         "showlegend": false,
         "type": "scatter",
         "x": [
          70
         ],
         "y": [
          20
         ]
        },
        {
         "marker": {
          "color": "blue",
          "opacity": 0.5,
          "size": 1.2195121951219512
         },
         "mode": "markers",
         "showlegend": false,
         "type": "scatter",
         "x": [
          70
         ],
         "y": [
          25
         ]
        },
        {
         "marker": {
          "color": "blue",
          "opacity": 0.5,
          "size": 1.2195121951219512
         },
         "mode": "markers",
         "showlegend": false,
         "type": "scatter",
         "x": [
          70
         ],
         "y": [
          28
         ]
        },
        {
         "marker": {
          "color": "blue",
          "opacity": 0.5,
          "size": 3.6585365853658534
         },
         "mode": "markers",
         "showlegend": false,
         "type": "scatter",
         "x": [
          70
         ],
         "y": [
          29
         ]
        },
        {
         "marker": {
          "color": "blue",
          "opacity": 0.5,
          "size": 1.2195121951219512
         },
         "mode": "markers",
         "showlegend": false,
         "type": "scatter",
         "x": [
          70
         ],
         "y": [
          32
         ]
        },
        {
         "marker": {
          "color": "blue",
          "opacity": 0.5,
          "size": 1.2195121951219512
         },
         "mode": "markers",
         "showlegend": false,
         "type": "scatter",
         "x": [
          70
         ],
         "y": [
          36
         ]
        },
        {
         "marker": {
          "color": "blue",
          "opacity": 0.5,
          "size": 1.2195121951219512
         },
         "mode": "markers",
         "showlegend": false,
         "type": "scatter",
         "x": [
          71
         ],
         "y": [
          -39
         ]
        },
        {
         "marker": {
          "color": "blue",
          "opacity": 0.5,
          "size": 1.2195121951219512
         },
         "mode": "markers",
         "showlegend": false,
         "type": "scatter",
         "x": [
          71
         ],
         "y": [
          -33
         ]
        },
        {
         "marker": {
          "color": "blue",
          "opacity": 0.5,
          "size": 1.2195121951219512
         },
         "mode": "markers",
         "showlegend": false,
         "type": "scatter",
         "x": [
          71
         ],
         "y": [
          -32
         ]
        },
        {
         "marker": {
          "color": "blue",
          "opacity": 0.5,
          "size": 1.2195121951219512
         },
         "mode": "markers",
         "showlegend": false,
         "type": "scatter",
         "x": [
          71
         ],
         "y": [
          -27
         ]
        },
        {
         "marker": {
          "color": "blue",
          "opacity": 0.5,
          "size": 1.2195121951219512
         },
         "mode": "markers",
         "showlegend": false,
         "type": "scatter",
         "x": [
          71
         ],
         "y": [
          -23
         ]
        },
        {
         "marker": {
          "color": "blue",
          "opacity": 0.5,
          "size": 1.2195121951219512
         },
         "mode": "markers",
         "showlegend": false,
         "type": "scatter",
         "x": [
          71
         ],
         "y": [
          -22
         ]
        },
        {
         "marker": {
          "color": "blue",
          "opacity": 0.5,
          "size": 1.2195121951219512
         },
         "mode": "markers",
         "showlegend": false,
         "type": "scatter",
         "x": [
          71
         ],
         "y": [
          -19
         ]
        },
        {
         "marker": {
          "color": "blue",
          "opacity": 0.5,
          "size": 1.2195121951219512
         },
         "mode": "markers",
         "showlegend": false,
         "type": "scatter",
         "x": [
          71
         ],
         "y": [
          -17
         ]
        },
        {
         "marker": {
          "color": "blue",
          "opacity": 0.5,
          "size": 2.4390243902439024
         },
         "mode": "markers",
         "showlegend": false,
         "type": "scatter",
         "x": [
          71
         ],
         "y": [
          -14
         ]
        },
        {
         "marker": {
          "color": "blue",
          "opacity": 0.5,
          "size": 1.2195121951219512
         },
         "mode": "markers",
         "showlegend": false,
         "type": "scatter",
         "x": [
          71
         ],
         "y": [
          -9
         ]
        },
        {
         "marker": {
          "color": "blue",
          "opacity": 0.5,
          "size": 1.2195121951219512
         },
         "mode": "markers",
         "showlegend": false,
         "type": "scatter",
         "x": [
          71
         ],
         "y": [
          -7
         ]
        },
        {
         "marker": {
          "color": "blue",
          "opacity": 0.5,
          "size": 1.2195121951219512
         },
         "mode": "markers",
         "showlegend": false,
         "type": "scatter",
         "x": [
          71
         ],
         "y": [
          -6
         ]
        },
        {
         "marker": {
          "color": "blue",
          "opacity": 0.5,
          "size": 1.2195121951219512
         },
         "mode": "markers",
         "showlegend": false,
         "type": "scatter",
         "x": [
          71
         ],
         "y": [
          -5
         ]
        },
        {
         "marker": {
          "color": "blue",
          "opacity": 0.5,
          "size": 1.2195121951219512
         },
         "mode": "markers",
         "showlegend": false,
         "type": "scatter",
         "x": [
          71
         ],
         "y": [
          -3
         ]
        },
        {
         "marker": {
          "color": "blue",
          "opacity": 0.5,
          "size": 3.6585365853658534
         },
         "mode": "markers",
         "showlegend": false,
         "type": "scatter",
         "x": [
          71
         ],
         "y": [
          1
         ]
        },
        {
         "marker": {
          "color": "blue",
          "opacity": 0.5,
          "size": 1.2195121951219512
         },
         "mode": "markers",
         "showlegend": false,
         "type": "scatter",
         "x": [
          71
         ],
         "y": [
          2
         ]
        },
        {
         "marker": {
          "color": "blue",
          "opacity": 0.5,
          "size": 3.6585365853658534
         },
         "mode": "markers",
         "showlegend": false,
         "type": "scatter",
         "x": [
          71
         ],
         "y": [
          3
         ]
        },
        {
         "marker": {
          "color": "blue",
          "opacity": 0.5,
          "size": 1.2195121951219512
         },
         "mode": "markers",
         "showlegend": false,
         "type": "scatter",
         "x": [
          71
         ],
         "y": [
          5
         ]
        },
        {
         "marker": {
          "color": "blue",
          "opacity": 0.5,
          "size": 1.2195121951219512
         },
         "mode": "markers",
         "showlegend": false,
         "type": "scatter",
         "x": [
          71
         ],
         "y": [
          6
         ]
        },
        {
         "marker": {
          "color": "blue",
          "opacity": 0.5,
          "size": 2.4390243902439024
         },
         "mode": "markers",
         "showlegend": false,
         "type": "scatter",
         "x": [
          71
         ],
         "y": [
          7
         ]
        },
        {
         "marker": {
          "color": "blue",
          "opacity": 0.5,
          "size": 2.4390243902439024
         },
         "mode": "markers",
         "showlegend": false,
         "type": "scatter",
         "x": [
          71
         ],
         "y": [
          10
         ]
        },
        {
         "marker": {
          "color": "blue",
          "opacity": 0.5,
          "size": 2.4390243902439024
         },
         "mode": "markers",
         "showlegend": false,
         "type": "scatter",
         "x": [
          71
         ],
         "y": [
          12
         ]
        },
        {
         "marker": {
          "color": "blue",
          "opacity": 0.5,
          "size": 1.2195121951219512
         },
         "mode": "markers",
         "showlegend": false,
         "type": "scatter",
         "x": [
          71
         ],
         "y": [
          13
         ]
        },
        {
         "marker": {
          "color": "blue",
          "opacity": 0.5,
          "size": 1.2195121951219512
         },
         "mode": "markers",
         "showlegend": false,
         "type": "scatter",
         "x": [
          71
         ],
         "y": [
          14
         ]
        },
        {
         "marker": {
          "color": "blue",
          "opacity": 0.5,
          "size": 2.4390243902439024
         },
         "mode": "markers",
         "showlegend": false,
         "type": "scatter",
         "x": [
          71
         ],
         "y": [
          16
         ]
        },
        {
         "marker": {
          "color": "blue",
          "opacity": 0.5,
          "size": 1.2195121951219512
         },
         "mode": "markers",
         "showlegend": false,
         "type": "scatter",
         "x": [
          71
         ],
         "y": [
          18
         ]
        },
        {
         "marker": {
          "color": "blue",
          "opacity": 0.5,
          "size": 1.2195121951219512
         },
         "mode": "markers",
         "showlegend": false,
         "type": "scatter",
         "x": [
          71
         ],
         "y": [
          20
         ]
        },
        {
         "marker": {
          "color": "blue",
          "opacity": 0.5,
          "size": 1.2195121951219512
         },
         "mode": "markers",
         "showlegend": false,
         "type": "scatter",
         "x": [
          71
         ],
         "y": [
          21
         ]
        },
        {
         "marker": {
          "color": "blue",
          "opacity": 0.5,
          "size": 1.2195121951219512
         },
         "mode": "markers",
         "showlegend": false,
         "type": "scatter",
         "x": [
          71
         ],
         "y": [
          22
         ]
        },
        {
         "marker": {
          "color": "blue",
          "opacity": 0.5,
          "size": 2.4390243902439024
         },
         "mode": "markers",
         "showlegend": false,
         "type": "scatter",
         "x": [
          71
         ],
         "y": [
          23
         ]
        },
        {
         "marker": {
          "color": "blue",
          "opacity": 0.5,
          "size": 1.2195121951219512
         },
         "mode": "markers",
         "showlegend": false,
         "type": "scatter",
         "x": [
          71
         ],
         "y": [
          24
         ]
        },
        {
         "marker": {
          "color": "blue",
          "opacity": 0.5,
          "size": 1.2195121951219512
         },
         "mode": "markers",
         "showlegend": false,
         "type": "scatter",
         "x": [
          71
         ],
         "y": [
          26
         ]
        },
        {
         "marker": {
          "color": "blue",
          "opacity": 0.5,
          "size": 1.2195121951219512
         },
         "mode": "markers",
         "showlegend": false,
         "type": "scatter",
         "x": [
          72
         ],
         "y": [
          -41
         ]
        },
        {
         "marker": {
          "color": "blue",
          "opacity": 0.5,
          "size": 1.2195121951219512
         },
         "mode": "markers",
         "showlegend": false,
         "type": "scatter",
         "x": [
          72
         ],
         "y": [
          -34
         ]
        },
        {
         "marker": {
          "color": "blue",
          "opacity": 0.5,
          "size": 1.2195121951219512
         },
         "mode": "markers",
         "showlegend": false,
         "type": "scatter",
         "x": [
          72
         ],
         "y": [
          -29
         ]
        },
        {
         "marker": {
          "color": "blue",
          "opacity": 0.5,
          "size": 1.2195121951219512
         },
         "mode": "markers",
         "showlegend": false,
         "type": "scatter",
         "x": [
          72
         ],
         "y": [
          -26
         ]
        },
        {
         "marker": {
          "color": "blue",
          "opacity": 0.5,
          "size": 1.2195121951219512
         },
         "mode": "markers",
         "showlegend": false,
         "type": "scatter",
         "x": [
          72
         ],
         "y": [
          -25
         ]
        },
        {
         "marker": {
          "color": "blue",
          "opacity": 0.5,
          "size": 1.2195121951219512
         },
         "mode": "markers",
         "showlegend": false,
         "type": "scatter",
         "x": [
          72
         ],
         "y": [
          -23
         ]
        },
        {
         "marker": {
          "color": "blue",
          "opacity": 0.5,
          "size": 1.2195121951219512
         },
         "mode": "markers",
         "showlegend": false,
         "type": "scatter",
         "x": [
          72
         ],
         "y": [
          -21
         ]
        },
        {
         "marker": {
          "color": "blue",
          "opacity": 0.5,
          "size": 2.4390243902439024
         },
         "mode": "markers",
         "showlegend": false,
         "type": "scatter",
         "x": [
          72
         ],
         "y": [
          -19
         ]
        },
        {
         "marker": {
          "color": "blue",
          "opacity": 0.5,
          "size": 2.4390243902439024
         },
         "mode": "markers",
         "showlegend": false,
         "type": "scatter",
         "x": [
          72
         ],
         "y": [
          -18
         ]
        },
        {
         "marker": {
          "color": "blue",
          "opacity": 0.5,
          "size": 2.4390243902439024
         },
         "mode": "markers",
         "showlegend": false,
         "type": "scatter",
         "x": [
          72
         ],
         "y": [
          -17
         ]
        },
        {
         "marker": {
          "color": "blue",
          "opacity": 0.5,
          "size": 1.2195121951219512
         },
         "mode": "markers",
         "showlegend": false,
         "type": "scatter",
         "x": [
          72
         ],
         "y": [
          -16
         ]
        },
        {
         "marker": {
          "color": "blue",
          "opacity": 0.5,
          "size": 1.2195121951219512
         },
         "mode": "markers",
         "showlegend": false,
         "type": "scatter",
         "x": [
          72
         ],
         "y": [
          -15
         ]
        },
        {
         "marker": {
          "color": "blue",
          "opacity": 0.5,
          "size": 1.2195121951219512
         },
         "mode": "markers",
         "showlegend": false,
         "type": "scatter",
         "x": [
          72
         ],
         "y": [
          -14
         ]
        },
        {
         "marker": {
          "color": "blue",
          "opacity": 0.5,
          "size": 3.6585365853658534
         },
         "mode": "markers",
         "showlegend": false,
         "type": "scatter",
         "x": [
          72
         ],
         "y": [
          -13
         ]
        },
        {
         "marker": {
          "color": "blue",
          "opacity": 0.5,
          "size": 1.2195121951219512
         },
         "mode": "markers",
         "showlegend": false,
         "type": "scatter",
         "x": [
          72
         ],
         "y": [
          -12
         ]
        },
        {
         "marker": {
          "color": "blue",
          "opacity": 0.5,
          "size": 1.2195121951219512
         },
         "mode": "markers",
         "showlegend": false,
         "type": "scatter",
         "x": [
          72
         ],
         "y": [
          -10
         ]
        },
        {
         "marker": {
          "color": "blue",
          "opacity": 0.5,
          "size": 1.2195121951219512
         },
         "mode": "markers",
         "showlegend": false,
         "type": "scatter",
         "x": [
          72
         ],
         "y": [
          -8
         ]
        },
        {
         "marker": {
          "color": "blue",
          "opacity": 0.5,
          "size": 1.2195121951219512
         },
         "mode": "markers",
         "showlegend": false,
         "type": "scatter",
         "x": [
          72
         ],
         "y": [
          -7
         ]
        },
        {
         "marker": {
          "color": "blue",
          "opacity": 0.5,
          "size": 1.2195121951219512
         },
         "mode": "markers",
         "showlegend": false,
         "type": "scatter",
         "x": [
          72
         ],
         "y": [
          -5
         ]
        },
        {
         "marker": {
          "color": "blue",
          "opacity": 0.5,
          "size": 1.2195121951219512
         },
         "mode": "markers",
         "showlegend": false,
         "type": "scatter",
         "x": [
          72
         ],
         "y": [
          -4
         ]
        },
        {
         "marker": {
          "color": "blue",
          "opacity": 0.5,
          "size": 2.4390243902439024
         },
         "mode": "markers",
         "showlegend": false,
         "type": "scatter",
         "x": [
          72
         ],
         "y": [
          -3
         ]
        },
        {
         "marker": {
          "color": "blue",
          "opacity": 0.5,
          "size": 2.4390243902439024
         },
         "mode": "markers",
         "showlegend": false,
         "type": "scatter",
         "x": [
          72
         ],
         "y": [
          -1
         ]
        },
        {
         "marker": {
          "color": "blue",
          "opacity": 0.5,
          "size": 2.4390243902439024
         },
         "mode": "markers",
         "showlegend": false,
         "type": "scatter",
         "x": [
          72
         ],
         "y": [
          1
         ]
        },
        {
         "marker": {
          "color": "blue",
          "opacity": 0.5,
          "size": 1.2195121951219512
         },
         "mode": "markers",
         "showlegend": false,
         "type": "scatter",
         "x": [
          72
         ],
         "y": [
          3
         ]
        },
        {
         "marker": {
          "color": "blue",
          "opacity": 0.5,
          "size": 1.2195121951219512
         },
         "mode": "markers",
         "showlegend": false,
         "type": "scatter",
         "x": [
          72
         ],
         "y": [
          5
         ]
        },
        {
         "marker": {
          "color": "blue",
          "opacity": 0.5,
          "size": 1.2195121951219512
         },
         "mode": "markers",
         "showlegend": false,
         "type": "scatter",
         "x": [
          72
         ],
         "y": [
          7
         ]
        },
        {
         "marker": {
          "color": "blue",
          "opacity": 0.5,
          "size": 2.4390243902439024
         },
         "mode": "markers",
         "showlegend": false,
         "type": "scatter",
         "x": [
          72
         ],
         "y": [
          8
         ]
        },
        {
         "marker": {
          "color": "blue",
          "opacity": 0.5,
          "size": 2.4390243902439024
         },
         "mode": "markers",
         "showlegend": false,
         "type": "scatter",
         "x": [
          72
         ],
         "y": [
          9
         ]
        },
        {
         "marker": {
          "color": "blue",
          "opacity": 0.5,
          "size": 1.2195121951219512
         },
         "mode": "markers",
         "showlegend": false,
         "type": "scatter",
         "x": [
          72
         ],
         "y": [
          11
         ]
        },
        {
         "marker": {
          "color": "blue",
          "opacity": 0.5,
          "size": 2.4390243902439024
         },
         "mode": "markers",
         "showlegend": false,
         "type": "scatter",
         "x": [
          72
         ],
         "y": [
          14
         ]
        },
        {
         "marker": {
          "color": "blue",
          "opacity": 0.5,
          "size": 1.2195121951219512
         },
         "mode": "markers",
         "showlegend": false,
         "type": "scatter",
         "x": [
          72
         ],
         "y": [
          15
         ]
        },
        {
         "marker": {
          "color": "blue",
          "opacity": 0.5,
          "size": 1.2195121951219512
         },
         "mode": "markers",
         "showlegend": false,
         "type": "scatter",
         "x": [
          72
         ],
         "y": [
          16
         ]
        },
        {
         "marker": {
          "color": "blue",
          "opacity": 0.5,
          "size": 1.2195121951219512
         },
         "mode": "markers",
         "showlegend": false,
         "type": "scatter",
         "x": [
          72
         ],
         "y": [
          17
         ]
        },
        {
         "marker": {
          "color": "blue",
          "opacity": 0.5,
          "size": 1.2195121951219512
         },
         "mode": "markers",
         "showlegend": false,
         "type": "scatter",
         "x": [
          72
         ],
         "y": [
          20
         ]
        },
        {
         "marker": {
          "color": "blue",
          "opacity": 0.5,
          "size": 2.4390243902439024
         },
         "mode": "markers",
         "showlegend": false,
         "type": "scatter",
         "x": [
          72
         ],
         "y": [
          23
         ]
        },
        {
         "marker": {
          "color": "blue",
          "opacity": 0.5,
          "size": 1.2195121951219512
         },
         "mode": "markers",
         "showlegend": false,
         "type": "scatter",
         "x": [
          72
         ],
         "y": [
          24
         ]
        },
        {
         "marker": {
          "color": "blue",
          "opacity": 0.5,
          "size": 1.2195121951219512
         },
         "mode": "markers",
         "showlegend": false,
         "type": "scatter",
         "x": [
          72
         ],
         "y": [
          26
         ]
        },
        {
         "marker": {
          "color": "blue",
          "opacity": 0.5,
          "size": 1.2195121951219512
         },
         "mode": "markers",
         "showlegend": false,
         "type": "scatter",
         "x": [
          72
         ],
         "y": [
          29
         ]
        },
        {
         "marker": {
          "color": "blue",
          "opacity": 0.5,
          "size": 1.2195121951219512
         },
         "mode": "markers",
         "showlegend": false,
         "type": "scatter",
         "x": [
          72
         ],
         "y": [
          32
         ]
        },
        {
         "marker": {
          "color": "blue",
          "opacity": 0.5,
          "size": 1.2195121951219512
         },
         "mode": "markers",
         "showlegend": false,
         "type": "scatter",
         "x": [
          73
         ],
         "y": [
          -30
         ]
        },
        {
         "marker": {
          "color": "blue",
          "opacity": 0.5,
          "size": 1.2195121951219512
         },
         "mode": "markers",
         "showlegend": false,
         "type": "scatter",
         "x": [
          73
         ],
         "y": [
          -29
         ]
        },
        {
         "marker": {
          "color": "blue",
          "opacity": 0.5,
          "size": 1.2195121951219512
         },
         "mode": "markers",
         "showlegend": false,
         "type": "scatter",
         "x": [
          73
         ],
         "y": [
          -22
         ]
        },
        {
         "marker": {
          "color": "blue",
          "opacity": 0.5,
          "size": 1.2195121951219512
         },
         "mode": "markers",
         "showlegend": false,
         "type": "scatter",
         "x": [
          73
         ],
         "y": [
          -19
         ]
        },
        {
         "marker": {
          "color": "blue",
          "opacity": 0.5,
          "size": 1.2195121951219512
         },
         "mode": "markers",
         "showlegend": false,
         "type": "scatter",
         "x": [
          73
         ],
         "y": [
          -15
         ]
        },
        {
         "marker": {
          "color": "blue",
          "opacity": 0.5,
          "size": 2.4390243902439024
         },
         "mode": "markers",
         "showlegend": false,
         "type": "scatter",
         "x": [
          73
         ],
         "y": [
          -14
         ]
        },
        {
         "marker": {
          "color": "blue",
          "opacity": 0.5,
          "size": 1.2195121951219512
         },
         "mode": "markers",
         "showlegend": false,
         "type": "scatter",
         "x": [
          73
         ],
         "y": [
          -13
         ]
        },
        {
         "marker": {
          "color": "blue",
          "opacity": 0.5,
          "size": 1.2195121951219512
         },
         "mode": "markers",
         "showlegend": false,
         "type": "scatter",
         "x": [
          73
         ],
         "y": [
          -12
         ]
        },
        {
         "marker": {
          "color": "blue",
          "opacity": 0.5,
          "size": 1.2195121951219512
         },
         "mode": "markers",
         "showlegend": false,
         "type": "scatter",
         "x": [
          73
         ],
         "y": [
          -11
         ]
        },
        {
         "marker": {
          "color": "blue",
          "opacity": 0.5,
          "size": 4.878048780487805
         },
         "mode": "markers",
         "showlegend": false,
         "type": "scatter",
         "x": [
          73
         ],
         "y": [
          -10
         ]
        },
        {
         "marker": {
          "color": "blue",
          "opacity": 0.5,
          "size": 1.2195121951219512
         },
         "mode": "markers",
         "showlegend": false,
         "type": "scatter",
         "x": [
          73
         ],
         "y": [
          -9
         ]
        },
        {
         "marker": {
          "color": "blue",
          "opacity": 0.5,
          "size": 1.2195121951219512
         },
         "mode": "markers",
         "showlegend": false,
         "type": "scatter",
         "x": [
          73
         ],
         "y": [
          -8
         ]
        },
        {
         "marker": {
          "color": "blue",
          "opacity": 0.5,
          "size": 2.4390243902439024
         },
         "mode": "markers",
         "showlegend": false,
         "type": "scatter",
         "x": [
          73
         ],
         "y": [
          -6
         ]
        },
        {
         "marker": {
          "color": "blue",
          "opacity": 0.5,
          "size": 1.2195121951219512
         },
         "mode": "markers",
         "showlegend": false,
         "type": "scatter",
         "x": [
          73
         ],
         "y": [
          -4
         ]
        },
        {
         "marker": {
          "color": "blue",
          "opacity": 0.5,
          "size": 1.2195121951219512
         },
         "mode": "markers",
         "showlegend": false,
         "type": "scatter",
         "x": [
          73
         ],
         "y": [
          -3
         ]
        },
        {
         "marker": {
          "color": "blue",
          "opacity": 0.5,
          "size": 2.4390243902439024
         },
         "mode": "markers",
         "showlegend": false,
         "type": "scatter",
         "x": [
          73
         ],
         "y": [
          -2
         ]
        },
        {
         "marker": {
          "color": "blue",
          "opacity": 0.5,
          "size": 4.878048780487805
         },
         "mode": "markers",
         "showlegend": false,
         "type": "scatter",
         "x": [
          73
         ],
         "y": [
          -1
         ]
        },
        {
         "marker": {
          "color": "blue",
          "opacity": 0.5,
          "size": 1.2195121951219512
         },
         "mode": "markers",
         "showlegend": false,
         "type": "scatter",
         "x": [
          73
         ],
         "y": [
          0
         ]
        },
        {
         "marker": {
          "color": "blue",
          "opacity": 0.5,
          "size": 1.2195121951219512
         },
         "mode": "markers",
         "showlegend": false,
         "type": "scatter",
         "x": [
          73
         ],
         "y": [
          1
         ]
        },
        {
         "marker": {
          "color": "blue",
          "opacity": 0.5,
          "size": 1.2195121951219512
         },
         "mode": "markers",
         "showlegend": false,
         "type": "scatter",
         "x": [
          73
         ],
         "y": [
          2
         ]
        },
        {
         "marker": {
          "color": "blue",
          "opacity": 0.5,
          "size": 3.6585365853658534
         },
         "mode": "markers",
         "showlegend": false,
         "type": "scatter",
         "x": [
          73
         ],
         "y": [
          3
         ]
        },
        {
         "marker": {
          "color": "blue",
          "opacity": 0.5,
          "size": 1.2195121951219512
         },
         "mode": "markers",
         "showlegend": false,
         "type": "scatter",
         "x": [
          73
         ],
         "y": [
          5
         ]
        },
        {
         "marker": {
          "color": "blue",
          "opacity": 0.5,
          "size": 3.6585365853658534
         },
         "mode": "markers",
         "showlegend": false,
         "type": "scatter",
         "x": [
          73
         ],
         "y": [
          6
         ]
        },
        {
         "marker": {
          "color": "blue",
          "opacity": 0.5,
          "size": 2.4390243902439024
         },
         "mode": "markers",
         "showlegend": false,
         "type": "scatter",
         "x": [
          73
         ],
         "y": [
          8
         ]
        },
        {
         "marker": {
          "color": "blue",
          "opacity": 0.5,
          "size": 1.2195121951219512
         },
         "mode": "markers",
         "showlegend": false,
         "type": "scatter",
         "x": [
          73
         ],
         "y": [
          9
         ]
        },
        {
         "marker": {
          "color": "blue",
          "opacity": 0.5,
          "size": 1.2195121951219512
         },
         "mode": "markers",
         "showlegend": false,
         "type": "scatter",
         "x": [
          73
         ],
         "y": [
          11
         ]
        },
        {
         "marker": {
          "color": "blue",
          "opacity": 0.5,
          "size": 2.4390243902439024
         },
         "mode": "markers",
         "showlegend": false,
         "type": "scatter",
         "x": [
          73
         ],
         "y": [
          12
         ]
        },
        {
         "marker": {
          "color": "blue",
          "opacity": 0.5,
          "size": 2.4390243902439024
         },
         "mode": "markers",
         "showlegend": false,
         "type": "scatter",
         "x": [
          73
         ],
         "y": [
          14
         ]
        },
        {
         "marker": {
          "color": "blue",
          "opacity": 0.5,
          "size": 1.2195121951219512
         },
         "mode": "markers",
         "showlegend": false,
         "type": "scatter",
         "x": [
          73
         ],
         "y": [
          16
         ]
        },
        {
         "marker": {
          "color": "blue",
          "opacity": 0.5,
          "size": 1.2195121951219512
         },
         "mode": "markers",
         "showlegend": false,
         "type": "scatter",
         "x": [
          73
         ],
         "y": [
          17
         ]
        },
        {
         "marker": {
          "color": "blue",
          "opacity": 0.5,
          "size": 1.2195121951219512
         },
         "mode": "markers",
         "showlegend": false,
         "type": "scatter",
         "x": [
          73
         ],
         "y": [
          18
         ]
        },
        {
         "marker": {
          "color": "blue",
          "opacity": 0.5,
          "size": 3.6585365853658534
         },
         "mode": "markers",
         "showlegend": false,
         "type": "scatter",
         "x": [
          73
         ],
         "y": [
          19
         ]
        },
        {
         "marker": {
          "color": "blue",
          "opacity": 0.5,
          "size": 1.2195121951219512
         },
         "mode": "markers",
         "showlegend": false,
         "type": "scatter",
         "x": [
          73
         ],
         "y": [
          21
         ]
        },
        {
         "marker": {
          "color": "blue",
          "opacity": 0.5,
          "size": 1.2195121951219512
         },
         "mode": "markers",
         "showlegend": false,
         "type": "scatter",
         "x": [
          73
         ],
         "y": [
          22
         ]
        },
        {
         "marker": {
          "color": "blue",
          "opacity": 0.5,
          "size": 1.2195121951219512
         },
         "mode": "markers",
         "showlegend": false,
         "type": "scatter",
         "x": [
          73
         ],
         "y": [
          25
         ]
        },
        {
         "marker": {
          "color": "blue",
          "opacity": 0.5,
          "size": 1.2195121951219512
         },
         "mode": "markers",
         "showlegend": false,
         "type": "scatter",
         "x": [
          73
         ],
         "y": [
          26
         ]
        },
        {
         "marker": {
          "color": "blue",
          "opacity": 0.5,
          "size": 1.2195121951219512
         },
         "mode": "markers",
         "showlegend": false,
         "type": "scatter",
         "x": [
          73
         ],
         "y": [
          29
         ]
        },
        {
         "marker": {
          "color": "blue",
          "opacity": 0.5,
          "size": 1.2195121951219512
         },
         "mode": "markers",
         "showlegend": false,
         "type": "scatter",
         "x": [
          73
         ],
         "y": [
          31
         ]
        },
        {
         "marker": {
          "color": "blue",
          "opacity": 0.5,
          "size": 1.2195121951219512
         },
         "mode": "markers",
         "showlegend": false,
         "type": "scatter",
         "x": [
          73
         ],
         "y": [
          35
         ]
        },
        {
         "marker": {
          "color": "blue",
          "opacity": 0.5,
          "size": 1.2195121951219512
         },
         "mode": "markers",
         "showlegend": false,
         "type": "scatter",
         "x": [
          73
         ],
         "y": [
          36
         ]
        },
        {
         "marker": {
          "color": "blue",
          "opacity": 0.5,
          "size": 1.2195121951219512
         },
         "mode": "markers",
         "showlegend": false,
         "type": "scatter",
         "x": [
          73
         ],
         "y": [
          40
         ]
        },
        {
         "marker": {
          "color": "blue",
          "opacity": 0.5,
          "size": 1.2195121951219512
         },
         "mode": "markers",
         "showlegend": false,
         "type": "scatter",
         "x": [
          74
         ],
         "y": [
          -35
         ]
        },
        {
         "marker": {
          "color": "blue",
          "opacity": 0.5,
          "size": 1.2195121951219512
         },
         "mode": "markers",
         "showlegend": false,
         "type": "scatter",
         "x": [
          74
         ],
         "y": [
          -34
         ]
        },
        {
         "marker": {
          "color": "blue",
          "opacity": 0.5,
          "size": 1.2195121951219512
         },
         "mode": "markers",
         "showlegend": false,
         "type": "scatter",
         "x": [
          74
         ],
         "y": [
          -31
         ]
        },
        {
         "marker": {
          "color": "blue",
          "opacity": 0.5,
          "size": 1.2195121951219512
         },
         "mode": "markers",
         "showlegend": false,
         "type": "scatter",
         "x": [
          74
         ],
         "y": [
          -27
         ]
        },
        {
         "marker": {
          "color": "blue",
          "opacity": 0.5,
          "size": 2.4390243902439024
         },
         "mode": "markers",
         "showlegend": false,
         "type": "scatter",
         "x": [
          74
         ],
         "y": [
          -21
         ]
        },
        {
         "marker": {
          "color": "blue",
          "opacity": 0.5,
          "size": 1.2195121951219512
         },
         "mode": "markers",
         "showlegend": false,
         "type": "scatter",
         "x": [
          74
         ],
         "y": [
          -17
         ]
        },
        {
         "marker": {
          "color": "blue",
          "opacity": 0.5,
          "size": 1.2195121951219512
         },
         "mode": "markers",
         "showlegend": false,
         "type": "scatter",
         "x": [
          74
         ],
         "y": [
          -15
         ]
        },
        {
         "marker": {
          "color": "blue",
          "opacity": 0.5,
          "size": 2.4390243902439024
         },
         "mode": "markers",
         "showlegend": false,
         "type": "scatter",
         "x": [
          74
         ],
         "y": [
          -13
         ]
        },
        {
         "marker": {
          "color": "blue",
          "opacity": 0.5,
          "size": 3.6585365853658534
         },
         "mode": "markers",
         "showlegend": false,
         "type": "scatter",
         "x": [
          74
         ],
         "y": [
          -12
         ]
        },
        {
         "marker": {
          "color": "blue",
          "opacity": 0.5,
          "size": 1.2195121951219512
         },
         "mode": "markers",
         "showlegend": false,
         "type": "scatter",
         "x": [
          74
         ],
         "y": [
          -9
         ]
        },
        {
         "marker": {
          "color": "blue",
          "opacity": 0.5,
          "size": 3.6585365853658534
         },
         "mode": "markers",
         "showlegend": false,
         "type": "scatter",
         "x": [
          74
         ],
         "y": [
          -8
         ]
        },
        {
         "marker": {
          "color": "blue",
          "opacity": 0.5,
          "size": 1.2195121951219512
         },
         "mode": "markers",
         "showlegend": false,
         "type": "scatter",
         "x": [
          74
         ],
         "y": [
          -7
         ]
        },
        {
         "marker": {
          "color": "blue",
          "opacity": 0.5,
          "size": 1.2195121951219512
         },
         "mode": "markers",
         "showlegend": false,
         "type": "scatter",
         "x": [
          74
         ],
         "y": [
          -6
         ]
        },
        {
         "marker": {
          "color": "blue",
          "opacity": 0.5,
          "size": 1.2195121951219512
         },
         "mode": "markers",
         "showlegend": false,
         "type": "scatter",
         "x": [
          74
         ],
         "y": [
          -5
         ]
        },
        {
         "marker": {
          "color": "blue",
          "opacity": 0.5,
          "size": 3.6585365853658534
         },
         "mode": "markers",
         "showlegend": false,
         "type": "scatter",
         "x": [
          74
         ],
         "y": [
          -3
         ]
        },
        {
         "marker": {
          "color": "blue",
          "opacity": 0.5,
          "size": 2.4390243902439024
         },
         "mode": "markers",
         "showlegend": false,
         "type": "scatter",
         "x": [
          74
         ],
         "y": [
          -2
         ]
        },
        {
         "marker": {
          "color": "blue",
          "opacity": 0.5,
          "size": 6.097560975609756
         },
         "mode": "markers",
         "showlegend": false,
         "type": "scatter",
         "x": [
          74
         ],
         "y": [
          0
         ]
        },
        {
         "marker": {
          "color": "blue",
          "opacity": 0.5,
          "size": 2.4390243902439024
         },
         "mode": "markers",
         "showlegend": false,
         "type": "scatter",
         "x": [
          74
         ],
         "y": [
          1
         ]
        },
        {
         "marker": {
          "color": "blue",
          "opacity": 0.5,
          "size": 1.2195121951219512
         },
         "mode": "markers",
         "showlegend": false,
         "type": "scatter",
         "x": [
          74
         ],
         "y": [
          3
         ]
        },
        {
         "marker": {
          "color": "blue",
          "opacity": 0.5,
          "size": 1.2195121951219512
         },
         "mode": "markers",
         "showlegend": false,
         "type": "scatter",
         "x": [
          74
         ],
         "y": [
          5
         ]
        },
        {
         "marker": {
          "color": "blue",
          "opacity": 0.5,
          "size": 2.4390243902439024
         },
         "mode": "markers",
         "showlegend": false,
         "type": "scatter",
         "x": [
          74
         ],
         "y": [
          6
         ]
        },
        {
         "marker": {
          "color": "blue",
          "opacity": 0.5,
          "size": 1.2195121951219512
         },
         "mode": "markers",
         "showlegend": false,
         "type": "scatter",
         "x": [
          74
         ],
         "y": [
          7
         ]
        },
        {
         "marker": {
          "color": "blue",
          "opacity": 0.5,
          "size": 1.2195121951219512
         },
         "mode": "markers",
         "showlegend": false,
         "type": "scatter",
         "x": [
          74
         ],
         "y": [
          9
         ]
        },
        {
         "marker": {
          "color": "blue",
          "opacity": 0.5,
          "size": 4.878048780487805
         },
         "mode": "markers",
         "showlegend": false,
         "type": "scatter",
         "x": [
          74
         ],
         "y": [
          10
         ]
        },
        {
         "marker": {
          "color": "blue",
          "opacity": 0.5,
          "size": 1.2195121951219512
         },
         "mode": "markers",
         "showlegend": false,
         "type": "scatter",
         "x": [
          74
         ],
         "y": [
          11
         ]
        },
        {
         "marker": {
          "color": "blue",
          "opacity": 0.5,
          "size": 1.2195121951219512
         },
         "mode": "markers",
         "showlegend": false,
         "type": "scatter",
         "x": [
          74
         ],
         "y": [
          13
         ]
        },
        {
         "marker": {
          "color": "blue",
          "opacity": 0.5,
          "size": 2.4390243902439024
         },
         "mode": "markers",
         "showlegend": false,
         "type": "scatter",
         "x": [
          74
         ],
         "y": [
          14
         ]
        },
        {
         "marker": {
          "color": "blue",
          "opacity": 0.5,
          "size": 3.6585365853658534
         },
         "mode": "markers",
         "showlegend": false,
         "type": "scatter",
         "x": [
          74
         ],
         "y": [
          15
         ]
        },
        {
         "marker": {
          "color": "blue",
          "opacity": 0.5,
          "size": 1.2195121951219512
         },
         "mode": "markers",
         "showlegend": false,
         "type": "scatter",
         "x": [
          74
         ],
         "y": [
          16
         ]
        },
        {
         "marker": {
          "color": "blue",
          "opacity": 0.5,
          "size": 2.4390243902439024
         },
         "mode": "markers",
         "showlegend": false,
         "type": "scatter",
         "x": [
          74
         ],
         "y": [
          17
         ]
        },
        {
         "marker": {
          "color": "blue",
          "opacity": 0.5,
          "size": 1.2195121951219512
         },
         "mode": "markers",
         "showlegend": false,
         "type": "scatter",
         "x": [
          74
         ],
         "y": [
          18
         ]
        },
        {
         "marker": {
          "color": "blue",
          "opacity": 0.5,
          "size": 2.4390243902439024
         },
         "mode": "markers",
         "showlegend": false,
         "type": "scatter",
         "x": [
          74
         ],
         "y": [
          20
         ]
        },
        {
         "marker": {
          "color": "blue",
          "opacity": 0.5,
          "size": 1.2195121951219512
         },
         "mode": "markers",
         "showlegend": false,
         "type": "scatter",
         "x": [
          74
         ],
         "y": [
          21
         ]
        },
        {
         "marker": {
          "color": "blue",
          "opacity": 0.5,
          "size": 2.4390243902439024
         },
         "mode": "markers",
         "showlegend": false,
         "type": "scatter",
         "x": [
          74
         ],
         "y": [
          22
         ]
        },
        {
         "marker": {
          "color": "blue",
          "opacity": 0.5,
          "size": 1.2195121951219512
         },
         "mode": "markers",
         "showlegend": false,
         "type": "scatter",
         "x": [
          74
         ],
         "y": [
          24
         ]
        },
        {
         "marker": {
          "color": "blue",
          "opacity": 0.5,
          "size": 1.2195121951219512
         },
         "mode": "markers",
         "showlegend": false,
         "type": "scatter",
         "x": [
          74
         ],
         "y": [
          31
         ]
        },
        {
         "marker": {
          "color": "blue",
          "opacity": 0.5,
          "size": 1.2195121951219512
         },
         "mode": "markers",
         "showlegend": false,
         "type": "scatter",
         "x": [
          74
         ],
         "y": [
          34
         ]
        },
        {
         "marker": {
          "color": "blue",
          "opacity": 0.5,
          "size": 1.2195121951219512
         },
         "mode": "markers",
         "showlegend": false,
         "type": "scatter",
         "x": [
          74
         ],
         "y": [
          36
         ]
        },
        {
         "marker": {
          "color": "blue",
          "opacity": 0.5,
          "size": 1.2195121951219512
         },
         "mode": "markers",
         "showlegend": false,
         "type": "scatter",
         "x": [
          74
         ],
         "y": [
          37
         ]
        },
        {
         "marker": {
          "color": "blue",
          "opacity": 0.5,
          "size": 1.2195121951219512
         },
         "mode": "markers",
         "showlegend": false,
         "type": "scatter",
         "x": [
          75
         ],
         "y": [
          -38
         ]
        },
        {
         "marker": {
          "color": "blue",
          "opacity": 0.5,
          "size": 1.2195121951219512
         },
         "mode": "markers",
         "showlegend": false,
         "type": "scatter",
         "x": [
          75
         ],
         "y": [
          -36
         ]
        },
        {
         "marker": {
          "color": "blue",
          "opacity": 0.5,
          "size": 1.2195121951219512
         },
         "mode": "markers",
         "showlegend": false,
         "type": "scatter",
         "x": [
          75
         ],
         "y": [
          -35
         ]
        },
        {
         "marker": {
          "color": "blue",
          "opacity": 0.5,
          "size": 1.2195121951219512
         },
         "mode": "markers",
         "showlegend": false,
         "type": "scatter",
         "x": [
          75
         ],
         "y": [
          -31
         ]
        },
        {
         "marker": {
          "color": "blue",
          "opacity": 0.5,
          "size": 1.2195121951219512
         },
         "mode": "markers",
         "showlegend": false,
         "type": "scatter",
         "x": [
          75
         ],
         "y": [
          -30
         ]
        },
        {
         "marker": {
          "color": "blue",
          "opacity": 0.5,
          "size": 1.2195121951219512
         },
         "mode": "markers",
         "showlegend": false,
         "type": "scatter",
         "x": [
          75
         ],
         "y": [
          -26
         ]
        },
        {
         "marker": {
          "color": "blue",
          "opacity": 0.5,
          "size": 1.2195121951219512
         },
         "mode": "markers",
         "showlegend": false,
         "type": "scatter",
         "x": [
          75
         ],
         "y": [
          -23
         ]
        },
        {
         "marker": {
          "color": "blue",
          "opacity": 0.5,
          "size": 1.2195121951219512
         },
         "mode": "markers",
         "showlegend": false,
         "type": "scatter",
         "x": [
          75
         ],
         "y": [
          -21
         ]
        },
        {
         "marker": {
          "color": "blue",
          "opacity": 0.5,
          "size": 2.4390243902439024
         },
         "mode": "markers",
         "showlegend": false,
         "type": "scatter",
         "x": [
          75
         ],
         "y": [
          -20
         ]
        },
        {
         "marker": {
          "color": "blue",
          "opacity": 0.5,
          "size": 1.2195121951219512
         },
         "mode": "markers",
         "showlegend": false,
         "type": "scatter",
         "x": [
          75
         ],
         "y": [
          -17
         ]
        },
        {
         "marker": {
          "color": "blue",
          "opacity": 0.5,
          "size": 2.4390243902439024
         },
         "mode": "markers",
         "showlegend": false,
         "type": "scatter",
         "x": [
          75
         ],
         "y": [
          -16
         ]
        },
        {
         "marker": {
          "color": "blue",
          "opacity": 0.5,
          "size": 1.2195121951219512
         },
         "mode": "markers",
         "showlegend": false,
         "type": "scatter",
         "x": [
          75
         ],
         "y": [
          -12
         ]
        },
        {
         "marker": {
          "color": "blue",
          "opacity": 0.5,
          "size": 2.4390243902439024
         },
         "mode": "markers",
         "showlegend": false,
         "type": "scatter",
         "x": [
          75
         ],
         "y": [
          -10
         ]
        },
        {
         "marker": {
          "color": "blue",
          "opacity": 0.5,
          "size": 1.2195121951219512
         },
         "mode": "markers",
         "showlegend": false,
         "type": "scatter",
         "x": [
          75
         ],
         "y": [
          -9
         ]
        },
        {
         "marker": {
          "color": "blue",
          "opacity": 0.5,
          "size": 4.878048780487805
         },
         "mode": "markers",
         "showlegend": false,
         "type": "scatter",
         "x": [
          75
         ],
         "y": [
          -7
         ]
        },
        {
         "marker": {
          "color": "blue",
          "opacity": 0.5,
          "size": 2.4390243902439024
         },
         "mode": "markers",
         "showlegend": false,
         "type": "scatter",
         "x": [
          75
         ],
         "y": [
          -5
         ]
        },
        {
         "marker": {
          "color": "blue",
          "opacity": 0.5,
          "size": 1.2195121951219512
         },
         "mode": "markers",
         "showlegend": false,
         "type": "scatter",
         "x": [
          75
         ],
         "y": [
          -3
         ]
        },
        {
         "marker": {
          "color": "blue",
          "opacity": 0.5,
          "size": 1.2195121951219512
         },
         "mode": "markers",
         "showlegend": false,
         "type": "scatter",
         "x": [
          75
         ],
         "y": [
          -2
         ]
        },
        {
         "marker": {
          "color": "blue",
          "opacity": 0.5,
          "size": 2.4390243902439024
         },
         "mode": "markers",
         "showlegend": false,
         "type": "scatter",
         "x": [
          75
         ],
         "y": [
          -1
         ]
        },
        {
         "marker": {
          "color": "blue",
          "opacity": 0.5,
          "size": 4.878048780487805
         },
         "mode": "markers",
         "showlegend": false,
         "type": "scatter",
         "x": [
          75
         ],
         "y": [
          1
         ]
        },
        {
         "marker": {
          "color": "blue",
          "opacity": 0.5,
          "size": 1.2195121951219512
         },
         "mode": "markers",
         "showlegend": false,
         "type": "scatter",
         "x": [
          75
         ],
         "y": [
          2
         ]
        },
        {
         "marker": {
          "color": "blue",
          "opacity": 0.5,
          "size": 3.6585365853658534
         },
         "mode": "markers",
         "showlegend": false,
         "type": "scatter",
         "x": [
          75
         ],
         "y": [
          3
         ]
        },
        {
         "marker": {
          "color": "blue",
          "opacity": 0.5,
          "size": 1.2195121951219512
         },
         "mode": "markers",
         "showlegend": false,
         "type": "scatter",
         "x": [
          75
         ],
         "y": [
          5
         ]
        },
        {
         "marker": {
          "color": "blue",
          "opacity": 0.5,
          "size": 2.4390243902439024
         },
         "mode": "markers",
         "showlegend": false,
         "type": "scatter",
         "x": [
          75
         ],
         "y": [
          7
         ]
        },
        {
         "marker": {
          "color": "blue",
          "opacity": 0.5,
          "size": 1.2195121951219512
         },
         "mode": "markers",
         "showlegend": false,
         "type": "scatter",
         "x": [
          75
         ],
         "y": [
          10
         ]
        },
        {
         "marker": {
          "color": "blue",
          "opacity": 0.5,
          "size": 1.2195121951219512
         },
         "mode": "markers",
         "showlegend": false,
         "type": "scatter",
         "x": [
          75
         ],
         "y": [
          11
         ]
        },
        {
         "marker": {
          "color": "blue",
          "opacity": 0.5,
          "size": 1.2195121951219512
         },
         "mode": "markers",
         "showlegend": false,
         "type": "scatter",
         "x": [
          75
         ],
         "y": [
          12
         ]
        },
        {
         "marker": {
          "color": "blue",
          "opacity": 0.5,
          "size": 1.2195121951219512
         },
         "mode": "markers",
         "showlegend": false,
         "type": "scatter",
         "x": [
          75
         ],
         "y": [
          14
         ]
        },
        {
         "marker": {
          "color": "blue",
          "opacity": 0.5,
          "size": 1.2195121951219512
         },
         "mode": "markers",
         "showlegend": false,
         "type": "scatter",
         "x": [
          75
         ],
         "y": [
          15
         ]
        },
        {
         "marker": {
          "color": "blue",
          "opacity": 0.5,
          "size": 1.2195121951219512
         },
         "mode": "markers",
         "showlegend": false,
         "type": "scatter",
         "x": [
          75
         ],
         "y": [
          16
         ]
        },
        {
         "marker": {
          "color": "blue",
          "opacity": 0.5,
          "size": 1.2195121951219512
         },
         "mode": "markers",
         "showlegend": false,
         "type": "scatter",
         "x": [
          75
         ],
         "y": [
          17
         ]
        },
        {
         "marker": {
          "color": "blue",
          "opacity": 0.5,
          "size": 2.4390243902439024
         },
         "mode": "markers",
         "showlegend": false,
         "type": "scatter",
         "x": [
          75
         ],
         "y": [
          21
         ]
        },
        {
         "marker": {
          "color": "blue",
          "opacity": 0.5,
          "size": 1.2195121951219512
         },
         "mode": "markers",
         "showlegend": false,
         "type": "scatter",
         "x": [
          75
         ],
         "y": [
          25
         ]
        },
        {
         "marker": {
          "color": "blue",
          "opacity": 0.5,
          "size": 1.2195121951219512
         },
         "mode": "markers",
         "showlegend": false,
         "type": "scatter",
         "x": [
          75
         ],
         "y": [
          26
         ]
        },
        {
         "marker": {
          "color": "blue",
          "opacity": 0.5,
          "size": 1.2195121951219512
         },
         "mode": "markers",
         "showlegend": false,
         "type": "scatter",
         "x": [
          75
         ],
         "y": [
          27
         ]
        },
        {
         "marker": {
          "color": "blue",
          "opacity": 0.5,
          "size": 1.2195121951219512
         },
         "mode": "markers",
         "showlegend": false,
         "type": "scatter",
         "x": [
          75
         ],
         "y": [
          31
         ]
        },
        {
         "marker": {
          "color": "blue",
          "opacity": 0.5,
          "size": 1.2195121951219512
         },
         "mode": "markers",
         "showlegend": false,
         "type": "scatter",
         "x": [
          75
         ],
         "y": [
          32
         ]
        },
        {
         "marker": {
          "color": "blue",
          "opacity": 0.5,
          "size": 1.2195121951219512
         },
         "mode": "markers",
         "showlegend": false,
         "type": "scatter",
         "x": [
          75
         ],
         "y": [
          33
         ]
        },
        {
         "marker": {
          "color": "blue",
          "opacity": 0.5,
          "size": 1.2195121951219512
         },
         "mode": "markers",
         "showlegend": false,
         "type": "scatter",
         "x": [
          75
         ],
         "y": [
          34
         ]
        },
        {
         "marker": {
          "color": "blue",
          "opacity": 0.5,
          "size": 1.2195121951219512
         },
         "mode": "markers",
         "showlegend": false,
         "type": "scatter",
         "x": [
          75
         ],
         "y": [
          35
         ]
        },
        {
         "marker": {
          "color": "blue",
          "opacity": 0.5,
          "size": 1.2195121951219512
         },
         "mode": "markers",
         "showlegend": false,
         "type": "scatter",
         "x": [
          76
         ],
         "y": [
          -32
         ]
        },
        {
         "marker": {
          "color": "blue",
          "opacity": 0.5,
          "size": 1.2195121951219512
         },
         "mode": "markers",
         "showlegend": false,
         "type": "scatter",
         "x": [
          76
         ],
         "y": [
          -31
         ]
        },
        {
         "marker": {
          "color": "blue",
          "opacity": 0.5,
          "size": 1.2195121951219512
         },
         "mode": "markers",
         "showlegend": false,
         "type": "scatter",
         "x": [
          76
         ],
         "y": [
          -30
         ]
        },
        {
         "marker": {
          "color": "blue",
          "opacity": 0.5,
          "size": 1.2195121951219512
         },
         "mode": "markers",
         "showlegend": false,
         "type": "scatter",
         "x": [
          76
         ],
         "y": [
          -29
         ]
        },
        {
         "marker": {
          "color": "blue",
          "opacity": 0.5,
          "size": 3.6585365853658534
         },
         "mode": "markers",
         "showlegend": false,
         "type": "scatter",
         "x": [
          76
         ],
         "y": [
          -27
         ]
        },
        {
         "marker": {
          "color": "blue",
          "opacity": 0.5,
          "size": 2.4390243902439024
         },
         "mode": "markers",
         "showlegend": false,
         "type": "scatter",
         "x": [
          76
         ],
         "y": [
          -25
         ]
        },
        {
         "marker": {
          "color": "blue",
          "opacity": 0.5,
          "size": 1.2195121951219512
         },
         "mode": "markers",
         "showlegend": false,
         "type": "scatter",
         "x": [
          76
         ],
         "y": [
          -24
         ]
        },
        {
         "marker": {
          "color": "blue",
          "opacity": 0.5,
          "size": 1.2195121951219512
         },
         "mode": "markers",
         "showlegend": false,
         "type": "scatter",
         "x": [
          76
         ],
         "y": [
          -21
         ]
        },
        {
         "marker": {
          "color": "blue",
          "opacity": 0.5,
          "size": 3.6585365853658534
         },
         "mode": "markers",
         "showlegend": false,
         "type": "scatter",
         "x": [
          76
         ],
         "y": [
          -18
         ]
        },
        {
         "marker": {
          "color": "blue",
          "opacity": 0.5,
          "size": 1.2195121951219512
         },
         "mode": "markers",
         "showlegend": false,
         "type": "scatter",
         "x": [
          76
         ],
         "y": [
          -17
         ]
        },
        {
         "marker": {
          "color": "blue",
          "opacity": 0.5,
          "size": 4.878048780487805
         },
         "mode": "markers",
         "showlegend": false,
         "type": "scatter",
         "x": [
          76
         ],
         "y": [
          -16
         ]
        },
        {
         "marker": {
          "color": "blue",
          "opacity": 0.5,
          "size": 2.4390243902439024
         },
         "mode": "markers",
         "showlegend": false,
         "type": "scatter",
         "x": [
          76
         ],
         "y": [
          -15
         ]
        },
        {
         "marker": {
          "color": "blue",
          "opacity": 0.5,
          "size": 2.4390243902439024
         },
         "mode": "markers",
         "showlegend": false,
         "type": "scatter",
         "x": [
          76
         ],
         "y": [
          -14
         ]
        },
        {
         "marker": {
          "color": "blue",
          "opacity": 0.5,
          "size": 2.4390243902439024
         },
         "mode": "markers",
         "showlegend": false,
         "type": "scatter",
         "x": [
          76
         ],
         "y": [
          -12
         ]
        },
        {
         "marker": {
          "color": "blue",
          "opacity": 0.5,
          "size": 1.2195121951219512
         },
         "mode": "markers",
         "showlegend": false,
         "type": "scatter",
         "x": [
          76
         ],
         "y": [
          -11
         ]
        },
        {
         "marker": {
          "color": "blue",
          "opacity": 0.5,
          "size": 3.6585365853658534
         },
         "mode": "markers",
         "showlegend": false,
         "type": "scatter",
         "x": [
          76
         ],
         "y": [
          -10
         ]
        },
        {
         "marker": {
          "color": "blue",
          "opacity": 0.5,
          "size": 3.6585365853658534
         },
         "mode": "markers",
         "showlegend": false,
         "type": "scatter",
         "x": [
          76
         ],
         "y": [
          -9
         ]
        },
        {
         "marker": {
          "color": "blue",
          "opacity": 0.5,
          "size": 2.4390243902439024
         },
         "mode": "markers",
         "showlegend": false,
         "type": "scatter",
         "x": [
          76
         ],
         "y": [
          -8
         ]
        },
        {
         "marker": {
          "color": "blue",
          "opacity": 0.5,
          "size": 1.2195121951219512
         },
         "mode": "markers",
         "showlegend": false,
         "type": "scatter",
         "x": [
          76
         ],
         "y": [
          -7
         ]
        },
        {
         "marker": {
          "color": "blue",
          "opacity": 0.5,
          "size": 2.4390243902439024
         },
         "mode": "markers",
         "showlegend": false,
         "type": "scatter",
         "x": [
          76
         ],
         "y": [
          -6
         ]
        },
        {
         "marker": {
          "color": "blue",
          "opacity": 0.5,
          "size": 3.6585365853658534
         },
         "mode": "markers",
         "showlegend": false,
         "type": "scatter",
         "x": [
          76
         ],
         "y": [
          -5
         ]
        },
        {
         "marker": {
          "color": "blue",
          "opacity": 0.5,
          "size": 1.2195121951219512
         },
         "mode": "markers",
         "showlegend": false,
         "type": "scatter",
         "x": [
          76
         ],
         "y": [
          -4
         ]
        },
        {
         "marker": {
          "color": "blue",
          "opacity": 0.5,
          "size": 2.4390243902439024
         },
         "mode": "markers",
         "showlegend": false,
         "type": "scatter",
         "x": [
          76
         ],
         "y": [
          -3
         ]
        },
        {
         "marker": {
          "color": "blue",
          "opacity": 0.5,
          "size": 2.4390243902439024
         },
         "mode": "markers",
         "showlegend": false,
         "type": "scatter",
         "x": [
          76
         ],
         "y": [
          -2
         ]
        },
        {
         "marker": {
          "color": "blue",
          "opacity": 0.5,
          "size": 7.317073170731707
         },
         "mode": "markers",
         "showlegend": false,
         "type": "scatter",
         "x": [
          76
         ],
         "y": [
          -1
         ]
        },
        {
         "marker": {
          "color": "blue",
          "opacity": 0.5,
          "size": 8.536585365853659
         },
         "mode": "markers",
         "showlegend": false,
         "type": "scatter",
         "x": [
          76
         ],
         "y": [
          0
         ]
        },
        {
         "marker": {
          "color": "blue",
          "opacity": 0.5,
          "size": 3.6585365853658534
         },
         "mode": "markers",
         "showlegend": false,
         "type": "scatter",
         "x": [
          76
         ],
         "y": [
          1
         ]
        },
        {
         "marker": {
          "color": "blue",
          "opacity": 0.5,
          "size": 2.4390243902439024
         },
         "mode": "markers",
         "showlegend": false,
         "type": "scatter",
         "x": [
          76
         ],
         "y": [
          2
         ]
        },
        {
         "marker": {
          "color": "blue",
          "opacity": 0.5,
          "size": 1.2195121951219512
         },
         "mode": "markers",
         "showlegend": false,
         "type": "scatter",
         "x": [
          76
         ],
         "y": [
          6
         ]
        },
        {
         "marker": {
          "color": "blue",
          "opacity": 0.5,
          "size": 4.878048780487805
         },
         "mode": "markers",
         "showlegend": false,
         "type": "scatter",
         "x": [
          76
         ],
         "y": [
          8
         ]
        },
        {
         "marker": {
          "color": "blue",
          "opacity": 0.5,
          "size": 1.2195121951219512
         },
         "mode": "markers",
         "showlegend": false,
         "type": "scatter",
         "x": [
          76
         ],
         "y": [
          10
         ]
        },
        {
         "marker": {
          "color": "blue",
          "opacity": 0.5,
          "size": 2.4390243902439024
         },
         "mode": "markers",
         "showlegend": false,
         "type": "scatter",
         "x": [
          76
         ],
         "y": [
          12
         ]
        },
        {
         "marker": {
          "color": "blue",
          "opacity": 0.5,
          "size": 1.2195121951219512
         },
         "mode": "markers",
         "showlegend": false,
         "type": "scatter",
         "x": [
          76
         ],
         "y": [
          13
         ]
        },
        {
         "marker": {
          "color": "blue",
          "opacity": 0.5,
          "size": 2.4390243902439024
         },
         "mode": "markers",
         "showlegend": false,
         "type": "scatter",
         "x": [
          76
         ],
         "y": [
          14
         ]
        },
        {
         "marker": {
          "color": "blue",
          "opacity": 0.5,
          "size": 2.4390243902439024
         },
         "mode": "markers",
         "showlegend": false,
         "type": "scatter",
         "x": [
          76
         ],
         "y": [
          16
         ]
        },
        {
         "marker": {
          "color": "blue",
          "opacity": 0.5,
          "size": 1.2195121951219512
         },
         "mode": "markers",
         "showlegend": false,
         "type": "scatter",
         "x": [
          76
         ],
         "y": [
          18
         ]
        },
        {
         "marker": {
          "color": "blue",
          "opacity": 0.5,
          "size": 3.6585365853658534
         },
         "mode": "markers",
         "showlegend": false,
         "type": "scatter",
         "x": [
          76
         ],
         "y": [
          19
         ]
        },
        {
         "marker": {
          "color": "blue",
          "opacity": 0.5,
          "size": 2.4390243902439024
         },
         "mode": "markers",
         "showlegend": false,
         "type": "scatter",
         "x": [
          76
         ],
         "y": [
          20
         ]
        },
        {
         "marker": {
          "color": "blue",
          "opacity": 0.5,
          "size": 2.4390243902439024
         },
         "mode": "markers",
         "showlegend": false,
         "type": "scatter",
         "x": [
          76
         ],
         "y": [
          23
         ]
        },
        {
         "marker": {
          "color": "blue",
          "opacity": 0.5,
          "size": 1.2195121951219512
         },
         "mode": "markers",
         "showlegend": false,
         "type": "scatter",
         "x": [
          76
         ],
         "y": [
          25
         ]
        },
        {
         "marker": {
          "color": "blue",
          "opacity": 0.5,
          "size": 3.6585365853658534
         },
         "mode": "markers",
         "showlegend": false,
         "type": "scatter",
         "x": [
          76
         ],
         "y": [
          27
         ]
        },
        {
         "marker": {
          "color": "blue",
          "opacity": 0.5,
          "size": 1.2195121951219512
         },
         "mode": "markers",
         "showlegend": false,
         "type": "scatter",
         "x": [
          76
         ],
         "y": [
          29
         ]
        },
        {
         "marker": {
          "color": "blue",
          "opacity": 0.5,
          "size": 1.2195121951219512
         },
         "mode": "markers",
         "showlegend": false,
         "type": "scatter",
         "x": [
          76
         ],
         "y": [
          34
         ]
        },
        {
         "marker": {
          "color": "blue",
          "opacity": 0.5,
          "size": 1.2195121951219512
         },
         "mode": "markers",
         "showlegend": false,
         "type": "scatter",
         "x": [
          76
         ],
         "y": [
          36
         ]
        },
        {
         "marker": {
          "color": "blue",
          "opacity": 0.5,
          "size": 1.2195121951219512
         },
         "mode": "markers",
         "showlegend": false,
         "type": "scatter",
         "x": [
          77
         ],
         "y": [
          -34
         ]
        },
        {
         "marker": {
          "color": "blue",
          "opacity": 0.5,
          "size": 1.2195121951219512
         },
         "mode": "markers",
         "showlegend": false,
         "type": "scatter",
         "x": [
          77
         ],
         "y": [
          -32
         ]
        },
        {
         "marker": {
          "color": "blue",
          "opacity": 0.5,
          "size": 3.6585365853658534
         },
         "mode": "markers",
         "showlegend": false,
         "type": "scatter",
         "x": [
          77
         ],
         "y": [
          -29
         ]
        },
        {
         "marker": {
          "color": "blue",
          "opacity": 0.5,
          "size": 1.2195121951219512
         },
         "mode": "markers",
         "showlegend": false,
         "type": "scatter",
         "x": [
          77
         ],
         "y": [
          -26
         ]
        },
        {
         "marker": {
          "color": "blue",
          "opacity": 0.5,
          "size": 1.2195121951219512
         },
         "mode": "markers",
         "showlegend": false,
         "type": "scatter",
         "x": [
          77
         ],
         "y": [
          -23
         ]
        },
        {
         "marker": {
          "color": "blue",
          "opacity": 0.5,
          "size": 1.2195121951219512
         },
         "mode": "markers",
         "showlegend": false,
         "type": "scatter",
         "x": [
          77
         ],
         "y": [
          -22
         ]
        },
        {
         "marker": {
          "color": "blue",
          "opacity": 0.5,
          "size": 1.2195121951219512
         },
         "mode": "markers",
         "showlegend": false,
         "type": "scatter",
         "x": [
          77
         ],
         "y": [
          -19
         ]
        },
        {
         "marker": {
          "color": "blue",
          "opacity": 0.5,
          "size": 1.2195121951219512
         },
         "mode": "markers",
         "showlegend": false,
         "type": "scatter",
         "x": [
          77
         ],
         "y": [
          -18
         ]
        },
        {
         "marker": {
          "color": "blue",
          "opacity": 0.5,
          "size": 2.4390243902439024
         },
         "mode": "markers",
         "showlegend": false,
         "type": "scatter",
         "x": [
          77
         ],
         "y": [
          -17
         ]
        },
        {
         "marker": {
          "color": "blue",
          "opacity": 0.5,
          "size": 1.2195121951219512
         },
         "mode": "markers",
         "showlegend": false,
         "type": "scatter",
         "x": [
          77
         ],
         "y": [
          -14
         ]
        },
        {
         "marker": {
          "color": "blue",
          "opacity": 0.5,
          "size": 3.6585365853658534
         },
         "mode": "markers",
         "showlegend": false,
         "type": "scatter",
         "x": [
          77
         ],
         "y": [
          -11
         ]
        },
        {
         "marker": {
          "color": "blue",
          "opacity": 0.5,
          "size": 2.4390243902439024
         },
         "mode": "markers",
         "showlegend": false,
         "type": "scatter",
         "x": [
          77
         ],
         "y": [
          -10
         ]
        },
        {
         "marker": {
          "color": "blue",
          "opacity": 0.5,
          "size": 1.2195121951219512
         },
         "mode": "markers",
         "showlegend": false,
         "type": "scatter",
         "x": [
          77
         ],
         "y": [
          -9
         ]
        },
        {
         "marker": {
          "color": "blue",
          "opacity": 0.5,
          "size": 2.4390243902439024
         },
         "mode": "markers",
         "showlegend": false,
         "type": "scatter",
         "x": [
          77
         ],
         "y": [
          -6
         ]
        },
        {
         "marker": {
          "color": "blue",
          "opacity": 0.5,
          "size": 2.4390243902439024
         },
         "mode": "markers",
         "showlegend": false,
         "type": "scatter",
         "x": [
          77
         ],
         "y": [
          -5
         ]
        },
        {
         "marker": {
          "color": "blue",
          "opacity": 0.5,
          "size": 2.4390243902439024
         },
         "mode": "markers",
         "showlegend": false,
         "type": "scatter",
         "x": [
          77
         ],
         "y": [
          -4
         ]
        },
        {
         "marker": {
          "color": "blue",
          "opacity": 0.5,
          "size": 3.6585365853658534
         },
         "mode": "markers",
         "showlegend": false,
         "type": "scatter",
         "x": [
          77
         ],
         "y": [
          -3
         ]
        },
        {
         "marker": {
          "color": "blue",
          "opacity": 0.5,
          "size": 2.4390243902439024
         },
         "mode": "markers",
         "showlegend": false,
         "type": "scatter",
         "x": [
          77
         ],
         "y": [
          -2
         ]
        },
        {
         "marker": {
          "color": "blue",
          "opacity": 0.5,
          "size": 3.6585365853658534
         },
         "mode": "markers",
         "showlegend": false,
         "type": "scatter",
         "x": [
          77
         ],
         "y": [
          -1
         ]
        },
        {
         "marker": {
          "color": "blue",
          "opacity": 0.5,
          "size": 2.4390243902439024
         },
         "mode": "markers",
         "showlegend": false,
         "type": "scatter",
         "x": [
          77
         ],
         "y": [
          0
         ]
        },
        {
         "marker": {
          "color": "blue",
          "opacity": 0.5,
          "size": 3.6585365853658534
         },
         "mode": "markers",
         "showlegend": false,
         "type": "scatter",
         "x": [
          77
         ],
         "y": [
          1
         ]
        },
        {
         "marker": {
          "color": "blue",
          "opacity": 0.5,
          "size": 6.097560975609756
         },
         "mode": "markers",
         "showlegend": false,
         "type": "scatter",
         "x": [
          77
         ],
         "y": [
          2
         ]
        },
        {
         "marker": {
          "color": "blue",
          "opacity": 0.5,
          "size": 7.317073170731707
         },
         "mode": "markers",
         "showlegend": false,
         "type": "scatter",
         "x": [
          77
         ],
         "y": [
          3
         ]
        },
        {
         "marker": {
          "color": "blue",
          "opacity": 0.5,
          "size": 3.6585365853658534
         },
         "mode": "markers",
         "showlegend": false,
         "type": "scatter",
         "x": [
          77
         ],
         "y": [
          4
         ]
        },
        {
         "marker": {
          "color": "blue",
          "opacity": 0.5,
          "size": 4.878048780487805
         },
         "mode": "markers",
         "showlegend": false,
         "type": "scatter",
         "x": [
          77
         ],
         "y": [
          5
         ]
        },
        {
         "marker": {
          "color": "blue",
          "opacity": 0.5,
          "size": 2.4390243902439024
         },
         "mode": "markers",
         "showlegend": false,
         "type": "scatter",
         "x": [
          77
         ],
         "y": [
          7
         ]
        },
        {
         "marker": {
          "color": "blue",
          "opacity": 0.5,
          "size": 4.878048780487805
         },
         "mode": "markers",
         "showlegend": false,
         "type": "scatter",
         "x": [
          77
         ],
         "y": [
          8
         ]
        },
        {
         "marker": {
          "color": "blue",
          "opacity": 0.5,
          "size": 2.4390243902439024
         },
         "mode": "markers",
         "showlegend": false,
         "type": "scatter",
         "x": [
          77
         ],
         "y": [
          10
         ]
        },
        {
         "marker": {
          "color": "blue",
          "opacity": 0.5,
          "size": 2.4390243902439024
         },
         "mode": "markers",
         "showlegend": false,
         "type": "scatter",
         "x": [
          77
         ],
         "y": [
          12
         ]
        },
        {
         "marker": {
          "color": "blue",
          "opacity": 0.5,
          "size": 1.2195121951219512
         },
         "mode": "markers",
         "showlegend": false,
         "type": "scatter",
         "x": [
          77
         ],
         "y": [
          14
         ]
        },
        {
         "marker": {
          "color": "blue",
          "opacity": 0.5,
          "size": 1.2195121951219512
         },
         "mode": "markers",
         "showlegend": false,
         "type": "scatter",
         "x": [
          77
         ],
         "y": [
          18
         ]
        },
        {
         "marker": {
          "color": "blue",
          "opacity": 0.5,
          "size": 1.2195121951219512
         },
         "mode": "markers",
         "showlegend": false,
         "type": "scatter",
         "x": [
          77
         ],
         "y": [
          20
         ]
        },
        {
         "marker": {
          "color": "blue",
          "opacity": 0.5,
          "size": 2.4390243902439024
         },
         "mode": "markers",
         "showlegend": false,
         "type": "scatter",
         "x": [
          77
         ],
         "y": [
          21
         ]
        },
        {
         "marker": {
          "color": "blue",
          "opacity": 0.5,
          "size": 1.2195121951219512
         },
         "mode": "markers",
         "showlegend": false,
         "type": "scatter",
         "x": [
          77
         ],
         "y": [
          23
         ]
        },
        {
         "marker": {
          "color": "blue",
          "opacity": 0.5,
          "size": 1.2195121951219512
         },
         "mode": "markers",
         "showlegend": false,
         "type": "scatter",
         "x": [
          77
         ],
         "y": [
          28
         ]
        },
        {
         "marker": {
          "color": "blue",
          "opacity": 0.5,
          "size": 1.2195121951219512
         },
         "mode": "markers",
         "showlegend": false,
         "type": "scatter",
         "x": [
          77
         ],
         "y": [
          30
         ]
        },
        {
         "marker": {
          "color": "blue",
          "opacity": 0.5,
          "size": 1.2195121951219512
         },
         "mode": "markers",
         "showlegend": false,
         "type": "scatter",
         "x": [
          78
         ],
         "y": [
          -30
         ]
        },
        {
         "marker": {
          "color": "blue",
          "opacity": 0.5,
          "size": 1.2195121951219512
         },
         "mode": "markers",
         "showlegend": false,
         "type": "scatter",
         "x": [
          78
         ],
         "y": [
          -29
         ]
        },
        {
         "marker": {
          "color": "blue",
          "opacity": 0.5,
          "size": 2.4390243902439024
         },
         "mode": "markers",
         "showlegend": false,
         "type": "scatter",
         "x": [
          78
         ],
         "y": [
          -22
         ]
        },
        {
         "marker": {
          "color": "blue",
          "opacity": 0.5,
          "size": 2.4390243902439024
         },
         "mode": "markers",
         "showlegend": false,
         "type": "scatter",
         "x": [
          78
         ],
         "y": [
          -21
         ]
        },
        {
         "marker": {
          "color": "blue",
          "opacity": 0.5,
          "size": 1.2195121951219512
         },
         "mode": "markers",
         "showlegend": false,
         "type": "scatter",
         "x": [
          78
         ],
         "y": [
          -20
         ]
        },
        {
         "marker": {
          "color": "blue",
          "opacity": 0.5,
          "size": 1.2195121951219512
         },
         "mode": "markers",
         "showlegend": false,
         "type": "scatter",
         "x": [
          78
         ],
         "y": [
          -19
         ]
        },
        {
         "marker": {
          "color": "blue",
          "opacity": 0.5,
          "size": 1.2195121951219512
         },
         "mode": "markers",
         "showlegend": false,
         "type": "scatter",
         "x": [
          78
         ],
         "y": [
          -18
         ]
        },
        {
         "marker": {
          "color": "blue",
          "opacity": 0.5,
          "size": 1.2195121951219512
         },
         "mode": "markers",
         "showlegend": false,
         "type": "scatter",
         "x": [
          78
         ],
         "y": [
          -16
         ]
        },
        {
         "marker": {
          "color": "blue",
          "opacity": 0.5,
          "size": 1.2195121951219512
         },
         "mode": "markers",
         "showlegend": false,
         "type": "scatter",
         "x": [
          78
         ],
         "y": [
          -13
         ]
        },
        {
         "marker": {
          "color": "blue",
          "opacity": 0.5,
          "size": 2.4390243902439024
         },
         "mode": "markers",
         "showlegend": false,
         "type": "scatter",
         "x": [
          78
         ],
         "y": [
          -12
         ]
        },
        {
         "marker": {
          "color": "blue",
          "opacity": 0.5,
          "size": 1.2195121951219512
         },
         "mode": "markers",
         "showlegend": false,
         "type": "scatter",
         "x": [
          78
         ],
         "y": [
          -11
         ]
        },
        {
         "marker": {
          "color": "blue",
          "opacity": 0.5,
          "size": 2.4390243902439024
         },
         "mode": "markers",
         "showlegend": false,
         "type": "scatter",
         "x": [
          78
         ],
         "y": [
          -10
         ]
        },
        {
         "marker": {
          "color": "blue",
          "opacity": 0.5,
          "size": 2.4390243902439024
         },
         "mode": "markers",
         "showlegend": false,
         "type": "scatter",
         "x": [
          78
         ],
         "y": [
          -9
         ]
        },
        {
         "marker": {
          "color": "blue",
          "opacity": 0.5,
          "size": 2.4390243902439024
         },
         "mode": "markers",
         "showlegend": false,
         "type": "scatter",
         "x": [
          78
         ],
         "y": [
          -8
         ]
        },
        {
         "marker": {
          "color": "blue",
          "opacity": 0.5,
          "size": 6.097560975609756
         },
         "mode": "markers",
         "showlegend": false,
         "type": "scatter",
         "x": [
          78
         ],
         "y": [
          -7
         ]
        },
        {
         "marker": {
          "color": "blue",
          "opacity": 0.5,
          "size": 2.4390243902439024
         },
         "mode": "markers",
         "showlegend": false,
         "type": "scatter",
         "x": [
          78
         ],
         "y": [
          -6
         ]
        },
        {
         "marker": {
          "color": "blue",
          "opacity": 0.5,
          "size": 2.4390243902439024
         },
         "mode": "markers",
         "showlegend": false,
         "type": "scatter",
         "x": [
          78
         ],
         "y": [
          -5
         ]
        },
        {
         "marker": {
          "color": "blue",
          "opacity": 0.5,
          "size": 1.2195121951219512
         },
         "mode": "markers",
         "showlegend": false,
         "type": "scatter",
         "x": [
          78
         ],
         "y": [
          -4
         ]
        },
        {
         "marker": {
          "color": "blue",
          "opacity": 0.5,
          "size": 3.6585365853658534
         },
         "mode": "markers",
         "showlegend": false,
         "type": "scatter",
         "x": [
          78
         ],
         "y": [
          -3
         ]
        },
        {
         "marker": {
          "color": "blue",
          "opacity": 0.5,
          "size": 3.6585365853658534
         },
         "mode": "markers",
         "showlegend": false,
         "type": "scatter",
         "x": [
          78
         ],
         "y": [
          -2
         ]
        },
        {
         "marker": {
          "color": "blue",
          "opacity": 0.5,
          "size": 8.536585365853659
         },
         "mode": "markers",
         "showlegend": false,
         "type": "scatter",
         "x": [
          78
         ],
         "y": [
          -1
         ]
        },
        {
         "marker": {
          "color": "blue",
          "opacity": 0.5,
          "size": 1.2195121951219512
         },
         "mode": "markers",
         "showlegend": false,
         "type": "scatter",
         "x": [
          78
         ],
         "y": [
          0
         ]
        },
        {
         "marker": {
          "color": "blue",
          "opacity": 0.5,
          "size": 6.097560975609756
         },
         "mode": "markers",
         "showlegend": false,
         "type": "scatter",
         "x": [
          78
         ],
         "y": [
          1
         ]
        },
        {
         "marker": {
          "color": "blue",
          "opacity": 0.5,
          "size": 6.097560975609756
         },
         "mode": "markers",
         "showlegend": false,
         "type": "scatter",
         "x": [
          78
         ],
         "y": [
          2
         ]
        },
        {
         "marker": {
          "color": "blue",
          "opacity": 0.5,
          "size": 6.097560975609756
         },
         "mode": "markers",
         "showlegend": false,
         "type": "scatter",
         "x": [
          78
         ],
         "y": [
          3
         ]
        },
        {
         "marker": {
          "color": "blue",
          "opacity": 0.5,
          "size": 2.4390243902439024
         },
         "mode": "markers",
         "showlegend": false,
         "type": "scatter",
         "x": [
          78
         ],
         "y": [
          4
         ]
        },
        {
         "marker": {
          "color": "blue",
          "opacity": 0.5,
          "size": 3.6585365853658534
         },
         "mode": "markers",
         "showlegend": false,
         "type": "scatter",
         "x": [
          78
         ],
         "y": [
          5
         ]
        },
        {
         "marker": {
          "color": "blue",
          "opacity": 0.5,
          "size": 4.878048780487805
         },
         "mode": "markers",
         "showlegend": false,
         "type": "scatter",
         "x": [
          78
         ],
         "y": [
          6
         ]
        },
        {
         "marker": {
          "color": "blue",
          "opacity": 0.5,
          "size": 4.878048780487805
         },
         "mode": "markers",
         "showlegend": false,
         "type": "scatter",
         "x": [
          78
         ],
         "y": [
          7
         ]
        },
        {
         "marker": {
          "color": "blue",
          "opacity": 0.5,
          "size": 2.4390243902439024
         },
         "mode": "markers",
         "showlegend": false,
         "type": "scatter",
         "x": [
          78
         ],
         "y": [
          8
         ]
        },
        {
         "marker": {
          "color": "blue",
          "opacity": 0.5,
          "size": 3.6585365853658534
         },
         "mode": "markers",
         "showlegend": false,
         "type": "scatter",
         "x": [
          78
         ],
         "y": [
          10
         ]
        },
        {
         "marker": {
          "color": "blue",
          "opacity": 0.5,
          "size": 1.2195121951219512
         },
         "mode": "markers",
         "showlegend": false,
         "type": "scatter",
         "x": [
          78
         ],
         "y": [
          12
         ]
        },
        {
         "marker": {
          "color": "blue",
          "opacity": 0.5,
          "size": 1.2195121951219512
         },
         "mode": "markers",
         "showlegend": false,
         "type": "scatter",
         "x": [
          78
         ],
         "y": [
          13
         ]
        },
        {
         "marker": {
          "color": "blue",
          "opacity": 0.5,
          "size": 1.2195121951219512
         },
         "mode": "markers",
         "showlegend": false,
         "type": "scatter",
         "x": [
          78
         ],
         "y": [
          16
         ]
        },
        {
         "marker": {
          "color": "blue",
          "opacity": 0.5,
          "size": 1.2195121951219512
         },
         "mode": "markers",
         "showlegend": false,
         "type": "scatter",
         "x": [
          78
         ],
         "y": [
          17
         ]
        },
        {
         "marker": {
          "color": "blue",
          "opacity": 0.5,
          "size": 1.2195121951219512
         },
         "mode": "markers",
         "showlegend": false,
         "type": "scatter",
         "x": [
          78
         ],
         "y": [
          18
         ]
        },
        {
         "marker": {
          "color": "blue",
          "opacity": 0.5,
          "size": 2.4390243902439024
         },
         "mode": "markers",
         "showlegend": false,
         "type": "scatter",
         "x": [
          78
         ],
         "y": [
          19
         ]
        },
        {
         "marker": {
          "color": "blue",
          "opacity": 0.5,
          "size": 1.2195121951219512
         },
         "mode": "markers",
         "showlegend": false,
         "type": "scatter",
         "x": [
          78
         ],
         "y": [
          20
         ]
        },
        {
         "marker": {
          "color": "blue",
          "opacity": 0.5,
          "size": 1.2195121951219512
         },
         "mode": "markers",
         "showlegend": false,
         "type": "scatter",
         "x": [
          78
         ],
         "y": [
          22
         ]
        },
        {
         "marker": {
          "color": "blue",
          "opacity": 0.5,
          "size": 1.2195121951219512
         },
         "mode": "markers",
         "showlegend": false,
         "type": "scatter",
         "x": [
          78
         ],
         "y": [
          24
         ]
        },
        {
         "marker": {
          "color": "blue",
          "opacity": 0.5,
          "size": 2.4390243902439024
         },
         "mode": "markers",
         "showlegend": false,
         "type": "scatter",
         "x": [
          78
         ],
         "y": [
          25
         ]
        },
        {
         "marker": {
          "color": "blue",
          "opacity": 0.5,
          "size": 2.4390243902439024
         },
         "mode": "markers",
         "showlegend": false,
         "type": "scatter",
         "x": [
          78
         ],
         "y": [
          27
         ]
        },
        {
         "marker": {
          "color": "blue",
          "opacity": 0.5,
          "size": 2.4390243902439024
         },
         "mode": "markers",
         "showlegend": false,
         "type": "scatter",
         "x": [
          78
         ],
         "y": [
          28
         ]
        },
        {
         "marker": {
          "color": "blue",
          "opacity": 0.5,
          "size": 1.2195121951219512
         },
         "mode": "markers",
         "showlegend": false,
         "type": "scatter",
         "x": [
          78
         ],
         "y": [
          33
         ]
        },
        {
         "marker": {
          "color": "blue",
          "opacity": 0.5,
          "size": 1.2195121951219512
         },
         "mode": "markers",
         "showlegend": false,
         "type": "scatter",
         "x": [
          79
         ],
         "y": [
          -38
         ]
        },
        {
         "marker": {
          "color": "blue",
          "opacity": 0.5,
          "size": 1.2195121951219512
         },
         "mode": "markers",
         "showlegend": false,
         "type": "scatter",
         "x": [
          79
         ],
         "y": [
          -27
         ]
        },
        {
         "marker": {
          "color": "blue",
          "opacity": 0.5,
          "size": 1.2195121951219512
         },
         "mode": "markers",
         "showlegend": false,
         "type": "scatter",
         "x": [
          79
         ],
         "y": [
          -22
         ]
        },
        {
         "marker": {
          "color": "blue",
          "opacity": 0.5,
          "size": 1.2195121951219512
         },
         "mode": "markers",
         "showlegend": false,
         "type": "scatter",
         "x": [
          79
         ],
         "y": [
          -19
         ]
        },
        {
         "marker": {
          "color": "blue",
          "opacity": 0.5,
          "size": 1.2195121951219512
         },
         "mode": "markers",
         "showlegend": false,
         "type": "scatter",
         "x": [
          79
         ],
         "y": [
          -18
         ]
        },
        {
         "marker": {
          "color": "blue",
          "opacity": 0.5,
          "size": 1.2195121951219512
         },
         "mode": "markers",
         "showlegend": false,
         "type": "scatter",
         "x": [
          79
         ],
         "y": [
          -12
         ]
        },
        {
         "marker": {
          "color": "blue",
          "opacity": 0.5,
          "size": 1.2195121951219512
         },
         "mode": "markers",
         "showlegend": false,
         "type": "scatter",
         "x": [
          79
         ],
         "y": [
          -11
         ]
        },
        {
         "marker": {
          "color": "blue",
          "opacity": 0.5,
          "size": 2.4390243902439024
         },
         "mode": "markers",
         "showlegend": false,
         "type": "scatter",
         "x": [
          79
         ],
         "y": [
          -10
         ]
        },
        {
         "marker": {
          "color": "blue",
          "opacity": 0.5,
          "size": 4.878048780487805
         },
         "mode": "markers",
         "showlegend": false,
         "type": "scatter",
         "x": [
          79
         ],
         "y": [
          -9
         ]
        },
        {
         "marker": {
          "color": "blue",
          "opacity": 0.5,
          "size": 1.2195121951219512
         },
         "mode": "markers",
         "showlegend": false,
         "type": "scatter",
         "x": [
          79
         ],
         "y": [
          -8
         ]
        },
        {
         "marker": {
          "color": "blue",
          "opacity": 0.5,
          "size": 1.2195121951219512
         },
         "mode": "markers",
         "showlegend": false,
         "type": "scatter",
         "x": [
          79
         ],
         "y": [
          -6
         ]
        },
        {
         "marker": {
          "color": "blue",
          "opacity": 0.5,
          "size": 4.878048780487805
         },
         "mode": "markers",
         "showlegend": false,
         "type": "scatter",
         "x": [
          79
         ],
         "y": [
          -5
         ]
        },
        {
         "marker": {
          "color": "blue",
          "opacity": 0.5,
          "size": 4.878048780487805
         },
         "mode": "markers",
         "showlegend": false,
         "type": "scatter",
         "x": [
          79
         ],
         "y": [
          -4
         ]
        },
        {
         "marker": {
          "color": "blue",
          "opacity": 0.5,
          "size": 4.878048780487805
         },
         "mode": "markers",
         "showlegend": false,
         "type": "scatter",
         "x": [
          79
         ],
         "y": [
          -3
         ]
        },
        {
         "marker": {
          "color": "blue",
          "opacity": 0.5,
          "size": 6.097560975609756
         },
         "mode": "markers",
         "showlegend": false,
         "type": "scatter",
         "x": [
          79
         ],
         "y": [
          -2
         ]
        },
        {
         "marker": {
          "color": "blue",
          "opacity": 0.5,
          "size": 13.414634146341465
         },
         "mode": "markers",
         "showlegend": false,
         "type": "scatter",
         "x": [
          79
         ],
         "y": [
          -1
         ]
        },
        {
         "marker": {
          "color": "blue",
          "opacity": 0.5,
          "size": 6.097560975609756
         },
         "mode": "markers",
         "showlegend": false,
         "type": "scatter",
         "x": [
          79
         ],
         "y": [
          0
         ]
        },
        {
         "marker": {
          "color": "blue",
          "opacity": 0.5,
          "size": 9.75609756097561
         },
         "mode": "markers",
         "showlegend": false,
         "type": "scatter",
         "x": [
          79
         ],
         "y": [
          1
         ]
        },
        {
         "marker": {
          "color": "blue",
          "opacity": 0.5,
          "size": 3.6585365853658534
         },
         "mode": "markers",
         "showlegend": false,
         "type": "scatter",
         "x": [
          79
         ],
         "y": [
          2
         ]
        },
        {
         "marker": {
          "color": "blue",
          "opacity": 0.5,
          "size": 4.878048780487805
         },
         "mode": "markers",
         "showlegend": false,
         "type": "scatter",
         "x": [
          79
         ],
         "y": [
          3
         ]
        },
        {
         "marker": {
          "color": "blue",
          "opacity": 0.5,
          "size": 6.097560975609756
         },
         "mode": "markers",
         "showlegend": false,
         "type": "scatter",
         "x": [
          79
         ],
         "y": [
          4
         ]
        },
        {
         "marker": {
          "color": "blue",
          "opacity": 0.5,
          "size": 6.097560975609756
         },
         "mode": "markers",
         "showlegend": false,
         "type": "scatter",
         "x": [
          79
         ],
         "y": [
          5
         ]
        },
        {
         "marker": {
          "color": "blue",
          "opacity": 0.5,
          "size": 1.2195121951219512
         },
         "mode": "markers",
         "showlegend": false,
         "type": "scatter",
         "x": [
          79
         ],
         "y": [
          6
         ]
        },
        {
         "marker": {
          "color": "blue",
          "opacity": 0.5,
          "size": 1.2195121951219512
         },
         "mode": "markers",
         "showlegend": false,
         "type": "scatter",
         "x": [
          79
         ],
         "y": [
          7
         ]
        },
        {
         "marker": {
          "color": "blue",
          "opacity": 0.5,
          "size": 4.878048780487805
         },
         "mode": "markers",
         "showlegend": false,
         "type": "scatter",
         "x": [
          79
         ],
         "y": [
          8
         ]
        },
        {
         "marker": {
          "color": "blue",
          "opacity": 0.5,
          "size": 2.4390243902439024
         },
         "mode": "markers",
         "showlegend": false,
         "type": "scatter",
         "x": [
          79
         ],
         "y": [
          9
         ]
        },
        {
         "marker": {
          "color": "blue",
          "opacity": 0.5,
          "size": 1.2195121951219512
         },
         "mode": "markers",
         "showlegend": false,
         "type": "scatter",
         "x": [
          79
         ],
         "y": [
          10
         ]
        },
        {
         "marker": {
          "color": "blue",
          "opacity": 0.5,
          "size": 2.4390243902439024
         },
         "mode": "markers",
         "showlegend": false,
         "type": "scatter",
         "x": [
          79
         ],
         "y": [
          11
         ]
        },
        {
         "marker": {
          "color": "blue",
          "opacity": 0.5,
          "size": 2.4390243902439024
         },
         "mode": "markers",
         "showlegend": false,
         "type": "scatter",
         "x": [
          79
         ],
         "y": [
          12
         ]
        },
        {
         "marker": {
          "color": "blue",
          "opacity": 0.5,
          "size": 1.2195121951219512
         },
         "mode": "markers",
         "showlegend": false,
         "type": "scatter",
         "x": [
          79
         ],
         "y": [
          14
         ]
        },
        {
         "marker": {
          "color": "blue",
          "opacity": 0.5,
          "size": 1.2195121951219512
         },
         "mode": "markers",
         "showlegend": false,
         "type": "scatter",
         "x": [
          79
         ],
         "y": [
          15
         ]
        },
        {
         "marker": {
          "color": "blue",
          "opacity": 0.5,
          "size": 2.4390243902439024
         },
         "mode": "markers",
         "showlegend": false,
         "type": "scatter",
         "x": [
          79
         ],
         "y": [
          16
         ]
        },
        {
         "marker": {
          "color": "blue",
          "opacity": 0.5,
          "size": 2.4390243902439024
         },
         "mode": "markers",
         "showlegend": false,
         "type": "scatter",
         "x": [
          79
         ],
         "y": [
          17
         ]
        },
        {
         "marker": {
          "color": "blue",
          "opacity": 0.5,
          "size": 2.4390243902439024
         },
         "mode": "markers",
         "showlegend": false,
         "type": "scatter",
         "x": [
          79
         ],
         "y": [
          18
         ]
        },
        {
         "marker": {
          "color": "blue",
          "opacity": 0.5,
          "size": 1.2195121951219512
         },
         "mode": "markers",
         "showlegend": false,
         "type": "scatter",
         "x": [
          79
         ],
         "y": [
          20
         ]
        },
        {
         "marker": {
          "color": "blue",
          "opacity": 0.5,
          "size": 1.2195121951219512
         },
         "mode": "markers",
         "showlegend": false,
         "type": "scatter",
         "x": [
          79
         ],
         "y": [
          21
         ]
        },
        {
         "marker": {
          "color": "blue",
          "opacity": 0.5,
          "size": 1.2195121951219512
         },
         "mode": "markers",
         "showlegend": false,
         "type": "scatter",
         "x": [
          79
         ],
         "y": [
          22
         ]
        },
        {
         "marker": {
          "color": "blue",
          "opacity": 0.5,
          "size": 2.4390243902439024
         },
         "mode": "markers",
         "showlegend": false,
         "type": "scatter",
         "x": [
          79
         ],
         "y": [
          23
         ]
        },
        {
         "marker": {
          "color": "blue",
          "opacity": 0.5,
          "size": 1.2195121951219512
         },
         "mode": "markers",
         "showlegend": false,
         "type": "scatter",
         "x": [
          79
         ],
         "y": [
          27
         ]
        },
        {
         "marker": {
          "color": "blue",
          "opacity": 0.5,
          "size": 1.2195121951219512
         },
         "mode": "markers",
         "showlegend": false,
         "type": "scatter",
         "x": [
          79
         ],
         "y": [
          36
         ]
        },
        {
         "marker": {
          "color": "blue",
          "opacity": 0.5,
          "size": 1.2195121951219512
         },
         "mode": "markers",
         "showlegend": false,
         "type": "scatter",
         "x": [
          80
         ],
         "y": [
          -32
         ]
        },
        {
         "marker": {
          "color": "blue",
          "opacity": 0.5,
          "size": 2.4390243902439024
         },
         "mode": "markers",
         "showlegend": false,
         "type": "scatter",
         "x": [
          80
         ],
         "y": [
          -28
         ]
        },
        {
         "marker": {
          "color": "blue",
          "opacity": 0.5,
          "size": 2.4390243902439024
         },
         "mode": "markers",
         "showlegend": false,
         "type": "scatter",
         "x": [
          80
         ],
         "y": [
          -25
         ]
        },
        {
         "marker": {
          "color": "blue",
          "opacity": 0.5,
          "size": 1.2195121951219512
         },
         "mode": "markers",
         "showlegend": false,
         "type": "scatter",
         "x": [
          80
         ],
         "y": [
          -24
         ]
        },
        {
         "marker": {
          "color": "blue",
          "opacity": 0.5,
          "size": 1.2195121951219512
         },
         "mode": "markers",
         "showlegend": false,
         "type": "scatter",
         "x": [
          80
         ],
         "y": [
          -23
         ]
        },
        {
         "marker": {
          "color": "blue",
          "opacity": 0.5,
          "size": 1.2195121951219512
         },
         "mode": "markers",
         "showlegend": false,
         "type": "scatter",
         "x": [
          80
         ],
         "y": [
          -22
         ]
        },
        {
         "marker": {
          "color": "blue",
          "opacity": 0.5,
          "size": 1.2195121951219512
         },
         "mode": "markers",
         "showlegend": false,
         "type": "scatter",
         "x": [
          80
         ],
         "y": [
          -21
         ]
        },
        {
         "marker": {
          "color": "blue",
          "opacity": 0.5,
          "size": 1.2195121951219512
         },
         "mode": "markers",
         "showlegend": false,
         "type": "scatter",
         "x": [
          80
         ],
         "y": [
          -17
         ]
        },
        {
         "marker": {
          "color": "blue",
          "opacity": 0.5,
          "size": 2.4390243902439024
         },
         "mode": "markers",
         "showlegend": false,
         "type": "scatter",
         "x": [
          80
         ],
         "y": [
          -14
         ]
        },
        {
         "marker": {
          "color": "blue",
          "opacity": 0.5,
          "size": 2.4390243902439024
         },
         "mode": "markers",
         "showlegend": false,
         "type": "scatter",
         "x": [
          80
         ],
         "y": [
          -11
         ]
        },
        {
         "marker": {
          "color": "blue",
          "opacity": 0.5,
          "size": 2.4390243902439024
         },
         "mode": "markers",
         "showlegend": false,
         "type": "scatter",
         "x": [
          80
         ],
         "y": [
          -10
         ]
        },
        {
         "marker": {
          "color": "blue",
          "opacity": 0.5,
          "size": 1.2195121951219512
         },
         "mode": "markers",
         "showlegend": false,
         "type": "scatter",
         "x": [
          80
         ],
         "y": [
          -9
         ]
        },
        {
         "marker": {
          "color": "blue",
          "opacity": 0.5,
          "size": 7.317073170731707
         },
         "mode": "markers",
         "showlegend": false,
         "type": "scatter",
         "x": [
          80
         ],
         "y": [
          -8
         ]
        },
        {
         "marker": {
          "color": "blue",
          "opacity": 0.5,
          "size": 1.2195121951219512
         },
         "mode": "markers",
         "showlegend": false,
         "type": "scatter",
         "x": [
          80
         ],
         "y": [
          -7
         ]
        },
        {
         "marker": {
          "color": "blue",
          "opacity": 0.5,
          "size": 6.097560975609756
         },
         "mode": "markers",
         "showlegend": false,
         "type": "scatter",
         "x": [
          80
         ],
         "y": [
          -6
         ]
        },
        {
         "marker": {
          "color": "blue",
          "opacity": 0.5,
          "size": 6.097560975609756
         },
         "mode": "markers",
         "showlegend": false,
         "type": "scatter",
         "x": [
          80
         ],
         "y": [
          -5
         ]
        },
        {
         "marker": {
          "color": "blue",
          "opacity": 0.5,
          "size": 7.317073170731707
         },
         "mode": "markers",
         "showlegend": false,
         "type": "scatter",
         "x": [
          80
         ],
         "y": [
          -4
         ]
        },
        {
         "marker": {
          "color": "blue",
          "opacity": 0.5,
          "size": 7.317073170731707
         },
         "mode": "markers",
         "showlegend": false,
         "type": "scatter",
         "x": [
          80
         ],
         "y": [
          -3
         ]
        },
        {
         "marker": {
          "color": "blue",
          "opacity": 0.5,
          "size": 2.4390243902439024
         },
         "mode": "markers",
         "showlegend": false,
         "type": "scatter",
         "x": [
          80
         ],
         "y": [
          -2
         ]
        },
        {
         "marker": {
          "color": "blue",
          "opacity": 0.5,
          "size": 4.878048780487805
         },
         "mode": "markers",
         "showlegend": false,
         "type": "scatter",
         "x": [
          80
         ],
         "y": [
          -1
         ]
        },
        {
         "marker": {
          "color": "blue",
          "opacity": 0.5,
          "size": 2.4390243902439024
         },
         "mode": "markers",
         "showlegend": false,
         "type": "scatter",
         "x": [
          80
         ],
         "y": [
          0
         ]
        },
        {
         "marker": {
          "color": "blue",
          "opacity": 0.5,
          "size": 7.317073170731707
         },
         "mode": "markers",
         "showlegend": false,
         "type": "scatter",
         "x": [
          80
         ],
         "y": [
          1
         ]
        },
        {
         "marker": {
          "color": "blue",
          "opacity": 0.5,
          "size": 3.6585365853658534
         },
         "mode": "markers",
         "showlegend": false,
         "type": "scatter",
         "x": [
          80
         ],
         "y": [
          2
         ]
        },
        {
         "marker": {
          "color": "blue",
          "opacity": 0.5,
          "size": 1.2195121951219512
         },
         "mode": "markers",
         "showlegend": false,
         "type": "scatter",
         "x": [
          80
         ],
         "y": [
          3
         ]
        },
        {
         "marker": {
          "color": "blue",
          "opacity": 0.5,
          "size": 6.097560975609756
         },
         "mode": "markers",
         "showlegend": false,
         "type": "scatter",
         "x": [
          80
         ],
         "y": [
          4
         ]
        },
        {
         "marker": {
          "color": "blue",
          "opacity": 0.5,
          "size": 2.4390243902439024
         },
         "mode": "markers",
         "showlegend": false,
         "type": "scatter",
         "x": [
          80
         ],
         "y": [
          5
         ]
        },
        {
         "marker": {
          "color": "blue",
          "opacity": 0.5,
          "size": 1.2195121951219512
         },
         "mode": "markers",
         "showlegend": false,
         "type": "scatter",
         "x": [
          80
         ],
         "y": [
          6
         ]
        },
        {
         "marker": {
          "color": "blue",
          "opacity": 0.5,
          "size": 1.2195121951219512
         },
         "mode": "markers",
         "showlegend": false,
         "type": "scatter",
         "x": [
          80
         ],
         "y": [
          7
         ]
        },
        {
         "marker": {
          "color": "blue",
          "opacity": 0.5,
          "size": 1.2195121951219512
         },
         "mode": "markers",
         "showlegend": false,
         "type": "scatter",
         "x": [
          80
         ],
         "y": [
          8
         ]
        },
        {
         "marker": {
          "color": "blue",
          "opacity": 0.5,
          "size": 4.878048780487805
         },
         "mode": "markers",
         "showlegend": false,
         "type": "scatter",
         "x": [
          80
         ],
         "y": [
          9
         ]
        },
        {
         "marker": {
          "color": "blue",
          "opacity": 0.5,
          "size": 2.4390243902439024
         },
         "mode": "markers",
         "showlegend": false,
         "type": "scatter",
         "x": [
          80
         ],
         "y": [
          12
         ]
        },
        {
         "marker": {
          "color": "blue",
          "opacity": 0.5,
          "size": 2.4390243902439024
         },
         "mode": "markers",
         "showlegend": false,
         "type": "scatter",
         "x": [
          80
         ],
         "y": [
          13
         ]
        },
        {
         "marker": {
          "color": "blue",
          "opacity": 0.5,
          "size": 2.4390243902439024
         },
         "mode": "markers",
         "showlegend": false,
         "type": "scatter",
         "x": [
          80
         ],
         "y": [
          14
         ]
        },
        {
         "marker": {
          "color": "blue",
          "opacity": 0.5,
          "size": 1.2195121951219512
         },
         "mode": "markers",
         "showlegend": false,
         "type": "scatter",
         "x": [
          80
         ],
         "y": [
          16
         ]
        },
        {
         "marker": {
          "color": "blue",
          "opacity": 0.5,
          "size": 1.2195121951219512
         },
         "mode": "markers",
         "showlegend": false,
         "type": "scatter",
         "x": [
          80
         ],
         "y": [
          18
         ]
        },
        {
         "marker": {
          "color": "blue",
          "opacity": 0.5,
          "size": 1.2195121951219512
         },
         "mode": "markers",
         "showlegend": false,
         "type": "scatter",
         "x": [
          80
         ],
         "y": [
          20
         ]
        },
        {
         "marker": {
          "color": "blue",
          "opacity": 0.5,
          "size": 1.2195121951219512
         },
         "mode": "markers",
         "showlegend": false,
         "type": "scatter",
         "x": [
          80
         ],
         "y": [
          29
         ]
        },
        {
         "marker": {
          "color": "blue",
          "opacity": 0.5,
          "size": 1.2195121951219512
         },
         "mode": "markers",
         "showlegend": false,
         "type": "scatter",
         "x": [
          81
         ],
         "y": [
          -26
         ]
        },
        {
         "marker": {
          "color": "blue",
          "opacity": 0.5,
          "size": 1.2195121951219512
         },
         "mode": "markers",
         "showlegend": false,
         "type": "scatter",
         "x": [
          81
         ],
         "y": [
          -23
         ]
        },
        {
         "marker": {
          "color": "blue",
          "opacity": 0.5,
          "size": 1.2195121951219512
         },
         "mode": "markers",
         "showlegend": false,
         "type": "scatter",
         "x": [
          81
         ],
         "y": [
          -22
         ]
        },
        {
         "marker": {
          "color": "blue",
          "opacity": 0.5,
          "size": 1.2195121951219512
         },
         "mode": "markers",
         "showlegend": false,
         "type": "scatter",
         "x": [
          81
         ],
         "y": [
          -18
         ]
        },
        {
         "marker": {
          "color": "blue",
          "opacity": 0.5,
          "size": 1.2195121951219512
         },
         "mode": "markers",
         "showlegend": false,
         "type": "scatter",
         "x": [
          81
         ],
         "y": [
          -12
         ]
        },
        {
         "marker": {
          "color": "blue",
          "opacity": 0.5,
          "size": 1.2195121951219512
         },
         "mode": "markers",
         "showlegend": false,
         "type": "scatter",
         "x": [
          81
         ],
         "y": [
          -11
         ]
        },
        {
         "marker": {
          "color": "blue",
          "opacity": 0.5,
          "size": 2.4390243902439024
         },
         "mode": "markers",
         "showlegend": false,
         "type": "scatter",
         "x": [
          81
         ],
         "y": [
          -10
         ]
        },
        {
         "marker": {
          "color": "blue",
          "opacity": 0.5,
          "size": 1.2195121951219512
         },
         "mode": "markers",
         "showlegend": false,
         "type": "scatter",
         "x": [
          81
         ],
         "y": [
          -9
         ]
        },
        {
         "marker": {
          "color": "blue",
          "opacity": 0.5,
          "size": 1.2195121951219512
         },
         "mode": "markers",
         "showlegend": false,
         "type": "scatter",
         "x": [
          81
         ],
         "y": [
          -8
         ]
        },
        {
         "marker": {
          "color": "blue",
          "opacity": 0.5,
          "size": 4.878048780487805
         },
         "mode": "markers",
         "showlegend": false,
         "type": "scatter",
         "x": [
          81
         ],
         "y": [
          -7
         ]
        },
        {
         "marker": {
          "color": "blue",
          "opacity": 0.5,
          "size": 8.536585365853659
         },
         "mode": "markers",
         "showlegend": false,
         "type": "scatter",
         "x": [
          81
         ],
         "y": [
          -6
         ]
        },
        {
         "marker": {
          "color": "blue",
          "opacity": 0.5,
          "size": 7.317073170731707
         },
         "mode": "markers",
         "showlegend": false,
         "type": "scatter",
         "x": [
          81
         ],
         "y": [
          -5
         ]
        },
        {
         "marker": {
          "color": "blue",
          "opacity": 0.5,
          "size": 4.878048780487805
         },
         "mode": "markers",
         "showlegend": false,
         "type": "scatter",
         "x": [
          81
         ],
         "y": [
          -4
         ]
        },
        {
         "marker": {
          "color": "blue",
          "opacity": 0.5,
          "size": 4.878048780487805
         },
         "mode": "markers",
         "showlegend": false,
         "type": "scatter",
         "x": [
          81
         ],
         "y": [
          -3
         ]
        },
        {
         "marker": {
          "color": "blue",
          "opacity": 0.5,
          "size": 2.4390243902439024
         },
         "mode": "markers",
         "showlegend": false,
         "type": "scatter",
         "x": [
          81
         ],
         "y": [
          -1
         ]
        },
        {
         "marker": {
          "color": "blue",
          "opacity": 0.5,
          "size": 3.6585365853658534
         },
         "mode": "markers",
         "showlegend": false,
         "type": "scatter",
         "x": [
          81
         ],
         "y": [
          0
         ]
        },
        {
         "marker": {
          "color": "blue",
          "opacity": 0.5,
          "size": 4.878048780487805
         },
         "mode": "markers",
         "showlegend": false,
         "type": "scatter",
         "x": [
          81
         ],
         "y": [
          1
         ]
        },
        {
         "marker": {
          "color": "blue",
          "opacity": 0.5,
          "size": 3.6585365853658534
         },
         "mode": "markers",
         "showlegend": false,
         "type": "scatter",
         "x": [
          81
         ],
         "y": [
          2
         ]
        },
        {
         "marker": {
          "color": "blue",
          "opacity": 0.5,
          "size": 6.097560975609756
         },
         "mode": "markers",
         "showlegend": false,
         "type": "scatter",
         "x": [
          81
         ],
         "y": [
          3
         ]
        },
        {
         "marker": {
          "color": "blue",
          "opacity": 0.5,
          "size": 6.097560975609756
         },
         "mode": "markers",
         "showlegend": false,
         "type": "scatter",
         "x": [
          81
         ],
         "y": [
          4
         ]
        },
        {
         "marker": {
          "color": "blue",
          "opacity": 0.5,
          "size": 6.097560975609756
         },
         "mode": "markers",
         "showlegend": false,
         "type": "scatter",
         "x": [
          81
         ],
         "y": [
          5
         ]
        },
        {
         "marker": {
          "color": "blue",
          "opacity": 0.5,
          "size": 3.6585365853658534
         },
         "mode": "markers",
         "showlegend": false,
         "type": "scatter",
         "x": [
          81
         ],
         "y": [
          7
         ]
        },
        {
         "marker": {
          "color": "blue",
          "opacity": 0.5,
          "size": 4.878048780487805
         },
         "mode": "markers",
         "showlegend": false,
         "type": "scatter",
         "x": [
          81
         ],
         "y": [
          8
         ]
        },
        {
         "marker": {
          "color": "blue",
          "opacity": 0.5,
          "size": 1.2195121951219512
         },
         "mode": "markers",
         "showlegend": false,
         "type": "scatter",
         "x": [
          81
         ],
         "y": [
          11
         ]
        },
        {
         "marker": {
          "color": "blue",
          "opacity": 0.5,
          "size": 2.4390243902439024
         },
         "mode": "markers",
         "showlegend": false,
         "type": "scatter",
         "x": [
          81
         ],
         "y": [
          12
         ]
        },
        {
         "marker": {
          "color": "blue",
          "opacity": 0.5,
          "size": 1.2195121951219512
         },
         "mode": "markers",
         "showlegend": false,
         "type": "scatter",
         "x": [
          81
         ],
         "y": [
          14
         ]
        },
        {
         "marker": {
          "color": "blue",
          "opacity": 0.5,
          "size": 1.2195121951219512
         },
         "mode": "markers",
         "showlegend": false,
         "type": "scatter",
         "x": [
          81
         ],
         "y": [
          15
         ]
        },
        {
         "marker": {
          "color": "blue",
          "opacity": 0.5,
          "size": 1.2195121951219512
         },
         "mode": "markers",
         "showlegend": false,
         "type": "scatter",
         "x": [
          81
         ],
         "y": [
          17
         ]
        },
        {
         "marker": {
          "color": "blue",
          "opacity": 0.5,
          "size": 1.2195121951219512
         },
         "mode": "markers",
         "showlegend": false,
         "type": "scatter",
         "x": [
          81
         ],
         "y": [
          18
         ]
        },
        {
         "marker": {
          "color": "blue",
          "opacity": 0.5,
          "size": 2.4390243902439024
         },
         "mode": "markers",
         "showlegend": false,
         "type": "scatter",
         "x": [
          81
         ],
         "y": [
          20
         ]
        },
        {
         "marker": {
          "color": "blue",
          "opacity": 0.5,
          "size": 1.2195121951219512
         },
         "mode": "markers",
         "showlegend": false,
         "type": "scatter",
         "x": [
          81
         ],
         "y": [
          22
         ]
        },
        {
         "marker": {
          "color": "blue",
          "opacity": 0.5,
          "size": 1.2195121951219512
         },
         "mode": "markers",
         "showlegend": false,
         "type": "scatter",
         "x": [
          81
         ],
         "y": [
          29
         ]
        },
        {
         "marker": {
          "color": "blue",
          "opacity": 0.5,
          "size": 1.2195121951219512
         },
         "mode": "markers",
         "showlegend": false,
         "type": "scatter",
         "x": [
          82
         ],
         "y": [
          -39
         ]
        },
        {
         "marker": {
          "color": "blue",
          "opacity": 0.5,
          "size": 1.2195121951219512
         },
         "mode": "markers",
         "showlegend": false,
         "type": "scatter",
         "x": [
          82
         ],
         "y": [
          -31
         ]
        },
        {
         "marker": {
          "color": "blue",
          "opacity": 0.5,
          "size": 1.2195121951219512
         },
         "mode": "markers",
         "showlegend": false,
         "type": "scatter",
         "x": [
          82
         ],
         "y": [
          -18
         ]
        },
        {
         "marker": {
          "color": "blue",
          "opacity": 0.5,
          "size": 1.2195121951219512
         },
         "mode": "markers",
         "showlegend": false,
         "type": "scatter",
         "x": [
          82
         ],
         "y": [
          -16
         ]
        },
        {
         "marker": {
          "color": "blue",
          "opacity": 0.5,
          "size": 1.2195121951219512
         },
         "mode": "markers",
         "showlegend": false,
         "type": "scatter",
         "x": [
          82
         ],
         "y": [
          -13
         ]
        },
        {
         "marker": {
          "color": "blue",
          "opacity": 0.5,
          "size": 2.4390243902439024
         },
         "mode": "markers",
         "showlegend": false,
         "type": "scatter",
         "x": [
          82
         ],
         "y": [
          -12
         ]
        },
        {
         "marker": {
          "color": "blue",
          "opacity": 0.5,
          "size": 2.4390243902439024
         },
         "mode": "markers",
         "showlegend": false,
         "type": "scatter",
         "x": [
          82
         ],
         "y": [
          -10
         ]
        },
        {
         "marker": {
          "color": "blue",
          "opacity": 0.5,
          "size": 1.2195121951219512
         },
         "mode": "markers",
         "showlegend": false,
         "type": "scatter",
         "x": [
          82
         ],
         "y": [
          -9
         ]
        },
        {
         "marker": {
          "color": "blue",
          "opacity": 0.5,
          "size": 6.097560975609756
         },
         "mode": "markers",
         "showlegend": false,
         "type": "scatter",
         "x": [
          82
         ],
         "y": [
          -8
         ]
        },
        {
         "marker": {
          "color": "blue",
          "opacity": 0.5,
          "size": 4.878048780487805
         },
         "mode": "markers",
         "showlegend": false,
         "type": "scatter",
         "x": [
          82
         ],
         "y": [
          -7
         ]
        },
        {
         "marker": {
          "color": "blue",
          "opacity": 0.5,
          "size": 4.878048780487805
         },
         "mode": "markers",
         "showlegend": false,
         "type": "scatter",
         "x": [
          82
         ],
         "y": [
          -6
         ]
        },
        {
         "marker": {
          "color": "blue",
          "opacity": 0.5,
          "size": 3.6585365853658534
         },
         "mode": "markers",
         "showlegend": false,
         "type": "scatter",
         "x": [
          82
         ],
         "y": [
          -5
         ]
        },
        {
         "marker": {
          "color": "blue",
          "opacity": 0.5,
          "size": 2.4390243902439024
         },
         "mode": "markers",
         "showlegend": false,
         "type": "scatter",
         "x": [
          82
         ],
         "y": [
          -4
         ]
        },
        {
         "marker": {
          "color": "blue",
          "opacity": 0.5,
          "size": 2.4390243902439024
         },
         "mode": "markers",
         "showlegend": false,
         "type": "scatter",
         "x": [
          82
         ],
         "y": [
          -3
         ]
        },
        {
         "marker": {
          "color": "blue",
          "opacity": 0.5,
          "size": 1.2195121951219512
         },
         "mode": "markers",
         "showlegend": false,
         "type": "scatter",
         "x": [
          82
         ],
         "y": [
          -2
         ]
        },
        {
         "marker": {
          "color": "blue",
          "opacity": 0.5,
          "size": 2.4390243902439024
         },
         "mode": "markers",
         "showlegend": false,
         "type": "scatter",
         "x": [
          82
         ],
         "y": [
          -1
         ]
        },
        {
         "marker": {
          "color": "blue",
          "opacity": 0.5,
          "size": 7.317073170731707
         },
         "mode": "markers",
         "showlegend": false,
         "type": "scatter",
         "x": [
          82
         ],
         "y": [
          3
         ]
        },
        {
         "marker": {
          "color": "blue",
          "opacity": 0.5,
          "size": 1.2195121951219512
         },
         "mode": "markers",
         "showlegend": false,
         "type": "scatter",
         "x": [
          82
         ],
         "y": [
          4
         ]
        },
        {
         "marker": {
          "color": "blue",
          "opacity": 0.5,
          "size": 2.4390243902439024
         },
         "mode": "markers",
         "showlegend": false,
         "type": "scatter",
         "x": [
          82
         ],
         "y": [
          5
         ]
        },
        {
         "marker": {
          "color": "blue",
          "opacity": 0.5,
          "size": 1.2195121951219512
         },
         "mode": "markers",
         "showlegend": false,
         "type": "scatter",
         "x": [
          82
         ],
         "y": [
          6
         ]
        },
        {
         "marker": {
          "color": "blue",
          "opacity": 0.5,
          "size": 2.4390243902439024
         },
         "mode": "markers",
         "showlegend": false,
         "type": "scatter",
         "x": [
          82
         ],
         "y": [
          7
         ]
        },
        {
         "marker": {
          "color": "blue",
          "opacity": 0.5,
          "size": 4.878048780487805
         },
         "mode": "markers",
         "showlegend": false,
         "type": "scatter",
         "x": [
          82
         ],
         "y": [
          8
         ]
        },
        {
         "marker": {
          "color": "blue",
          "opacity": 0.5,
          "size": 2.4390243902439024
         },
         "mode": "markers",
         "showlegend": false,
         "type": "scatter",
         "x": [
          82
         ],
         "y": [
          9
         ]
        },
        {
         "marker": {
          "color": "blue",
          "opacity": 0.5,
          "size": 3.6585365853658534
         },
         "mode": "markers",
         "showlegend": false,
         "type": "scatter",
         "x": [
          82
         ],
         "y": [
          10
         ]
        },
        {
         "marker": {
          "color": "blue",
          "opacity": 0.5,
          "size": 2.4390243902439024
         },
         "mode": "markers",
         "showlegend": false,
         "type": "scatter",
         "x": [
          82
         ],
         "y": [
          11
         ]
        },
        {
         "marker": {
          "color": "blue",
          "opacity": 0.5,
          "size": 2.4390243902439024
         },
         "mode": "markers",
         "showlegend": false,
         "type": "scatter",
         "x": [
          82
         ],
         "y": [
          12
         ]
        },
        {
         "marker": {
          "color": "blue",
          "opacity": 0.5,
          "size": 2.4390243902439024
         },
         "mode": "markers",
         "showlegend": false,
         "type": "scatter",
         "x": [
          82
         ],
         "y": [
          13
         ]
        },
        {
         "marker": {
          "color": "blue",
          "opacity": 0.5,
          "size": 1.2195121951219512
         },
         "mode": "markers",
         "showlegend": false,
         "type": "scatter",
         "x": [
          82
         ],
         "y": [
          14
         ]
        },
        {
         "marker": {
          "color": "blue",
          "opacity": 0.5,
          "size": 3.6585365853658534
         },
         "mode": "markers",
         "showlegend": false,
         "type": "scatter",
         "x": [
          82
         ],
         "y": [
          15
         ]
        },
        {
         "marker": {
          "color": "blue",
          "opacity": 0.5,
          "size": 1.2195121951219512
         },
         "mode": "markers",
         "showlegend": false,
         "type": "scatter",
         "x": [
          82
         ],
         "y": [
          16
         ]
        },
        {
         "marker": {
          "color": "blue",
          "opacity": 0.5,
          "size": 2.4390243902439024
         },
         "mode": "markers",
         "showlegend": false,
         "type": "scatter",
         "x": [
          82
         ],
         "y": [
          19
         ]
        },
        {
         "marker": {
          "color": "blue",
          "opacity": 0.5,
          "size": 1.2195121951219512
         },
         "mode": "markers",
         "showlegend": false,
         "type": "scatter",
         "x": [
          82
         ],
         "y": [
          21
         ]
        },
        {
         "marker": {
          "color": "blue",
          "opacity": 0.5,
          "size": 1.2195121951219512
         },
         "mode": "markers",
         "showlegend": false,
         "type": "scatter",
         "x": [
          82
         ],
         "y": [
          22
         ]
        },
        {
         "marker": {
          "color": "blue",
          "opacity": 0.5,
          "size": 1.2195121951219512
         },
         "mode": "markers",
         "showlegend": false,
         "type": "scatter",
         "x": [
          82
         ],
         "y": [
          23
         ]
        },
        {
         "marker": {
          "color": "blue",
          "opacity": 0.5,
          "size": 1.2195121951219512
         },
         "mode": "markers",
         "showlegend": false,
         "type": "scatter",
         "x": [
          82
         ],
         "y": [
          25
         ]
        },
        {
         "marker": {
          "color": "blue",
          "opacity": 0.5,
          "size": 2.4390243902439024
         },
         "mode": "markers",
         "showlegend": false,
         "type": "scatter",
         "x": [
          82
         ],
         "y": [
          27
         ]
        },
        {
         "marker": {
          "color": "blue",
          "opacity": 0.5,
          "size": 1.2195121951219512
         },
         "mode": "markers",
         "showlegend": false,
         "type": "scatter",
         "x": [
          82
         ],
         "y": [
          28
         ]
        },
        {
         "marker": {
          "color": "blue",
          "opacity": 0.5,
          "size": 1.2195121951219512
         },
         "mode": "markers",
         "showlegend": false,
         "type": "scatter",
         "x": [
          82
         ],
         "y": [
          33
         ]
        },
        {
         "marker": {
          "color": "blue",
          "opacity": 0.5,
          "size": 1.2195121951219512
         },
         "mode": "markers",
         "showlegend": false,
         "type": "scatter",
         "x": [
          82
         ],
         "y": [
          34
         ]
        },
        {
         "marker": {
          "color": "blue",
          "opacity": 0.5,
          "size": 1.2195121951219512
         },
         "mode": "markers",
         "showlegend": false,
         "type": "scatter",
         "x": [
          83
         ],
         "y": [
          -30
         ]
        },
        {
         "marker": {
          "color": "blue",
          "opacity": 0.5,
          "size": 1.2195121951219512
         },
         "mode": "markers",
         "showlegend": false,
         "type": "scatter",
         "x": [
          83
         ],
         "y": [
          -25
         ]
        },
        {
         "marker": {
          "color": "blue",
          "opacity": 0.5,
          "size": 1.2195121951219512
         },
         "mode": "markers",
         "showlegend": false,
         "type": "scatter",
         "x": [
          83
         ],
         "y": [
          -21
         ]
        },
        {
         "marker": {
          "color": "blue",
          "opacity": 0.5,
          "size": 1.2195121951219512
         },
         "mode": "markers",
         "showlegend": false,
         "type": "scatter",
         "x": [
          83
         ],
         "y": [
          -20
         ]
        },
        {
         "marker": {
          "color": "blue",
          "opacity": 0.5,
          "size": 1.2195121951219512
         },
         "mode": "markers",
         "showlegend": false,
         "type": "scatter",
         "x": [
          83
         ],
         "y": [
          -18
         ]
        },
        {
         "marker": {
          "color": "blue",
          "opacity": 0.5,
          "size": 2.4390243902439024
         },
         "mode": "markers",
         "showlegend": false,
         "type": "scatter",
         "x": [
          83
         ],
         "y": [
          -14
         ]
        },
        {
         "marker": {
          "color": "blue",
          "opacity": 0.5,
          "size": 1.2195121951219512
         },
         "mode": "markers",
         "showlegend": false,
         "type": "scatter",
         "x": [
          83
         ],
         "y": [
          -12
         ]
        },
        {
         "marker": {
          "color": "blue",
          "opacity": 0.5,
          "size": 1.2195121951219512
         },
         "mode": "markers",
         "showlegend": false,
         "type": "scatter",
         "x": [
          83
         ],
         "y": [
          -11
         ]
        },
        {
         "marker": {
          "color": "blue",
          "opacity": 0.5,
          "size": 1.2195121951219512
         },
         "mode": "markers",
         "showlegend": false,
         "type": "scatter",
         "x": [
          83
         ],
         "y": [
          -10
         ]
        },
        {
         "marker": {
          "color": "blue",
          "opacity": 0.5,
          "size": 7.317073170731707
         },
         "mode": "markers",
         "showlegend": false,
         "type": "scatter",
         "x": [
          83
         ],
         "y": [
          -9
         ]
        },
        {
         "marker": {
          "color": "blue",
          "opacity": 0.5,
          "size": 4.878048780487805
         },
         "mode": "markers",
         "showlegend": false,
         "type": "scatter",
         "x": [
          83
         ],
         "y": [
          -8
         ]
        },
        {
         "marker": {
          "color": "blue",
          "opacity": 0.5,
          "size": 4.878048780487805
         },
         "mode": "markers",
         "showlegend": false,
         "type": "scatter",
         "x": [
          83
         ],
         "y": [
          -7
         ]
        },
        {
         "marker": {
          "color": "blue",
          "opacity": 0.5,
          "size": 3.6585365853658534
         },
         "mode": "markers",
         "showlegend": false,
         "type": "scatter",
         "x": [
          83
         ],
         "y": [
          -5
         ]
        },
        {
         "marker": {
          "color": "blue",
          "opacity": 0.5,
          "size": 1.2195121951219512
         },
         "mode": "markers",
         "showlegend": false,
         "type": "scatter",
         "x": [
          83
         ],
         "y": [
          -3
         ]
        },
        {
         "marker": {
          "color": "blue",
          "opacity": 0.5,
          "size": 1.2195121951219512
         },
         "mode": "markers",
         "showlegend": false,
         "type": "scatter",
         "x": [
          83
         ],
         "y": [
          -2
         ]
        },
        {
         "marker": {
          "color": "blue",
          "opacity": 0.5,
          "size": 1.2195121951219512
         },
         "mode": "markers",
         "showlegend": false,
         "type": "scatter",
         "x": [
          83
         ],
         "y": [
          -1
         ]
        },
        {
         "marker": {
          "color": "blue",
          "opacity": 0.5,
          "size": 1.2195121951219512
         },
         "mode": "markers",
         "showlegend": false,
         "type": "scatter",
         "x": [
          83
         ],
         "y": [
          1
         ]
        },
        {
         "marker": {
          "color": "blue",
          "opacity": 0.5,
          "size": 2.4390243902439024
         },
         "mode": "markers",
         "showlegend": false,
         "type": "scatter",
         "x": [
          83
         ],
         "y": [
          4
         ]
        },
        {
         "marker": {
          "color": "blue",
          "opacity": 0.5,
          "size": 2.4390243902439024
         },
         "mode": "markers",
         "showlegend": false,
         "type": "scatter",
         "x": [
          83
         ],
         "y": [
          7
         ]
        },
        {
         "marker": {
          "color": "blue",
          "opacity": 0.5,
          "size": 3.6585365853658534
         },
         "mode": "markers",
         "showlegend": false,
         "type": "scatter",
         "x": [
          83
         ],
         "y": [
          8
         ]
        },
        {
         "marker": {
          "color": "blue",
          "opacity": 0.5,
          "size": 1.2195121951219512
         },
         "mode": "markers",
         "showlegend": false,
         "type": "scatter",
         "x": [
          83
         ],
         "y": [
          10
         ]
        },
        {
         "marker": {
          "color": "blue",
          "opacity": 0.5,
          "size": 2.4390243902439024
         },
         "mode": "markers",
         "showlegend": false,
         "type": "scatter",
         "x": [
          83
         ],
         "y": [
          11
         ]
        },
        {
         "marker": {
          "color": "blue",
          "opacity": 0.5,
          "size": 1.2195121951219512
         },
         "mode": "markers",
         "showlegend": false,
         "type": "scatter",
         "x": [
          83
         ],
         "y": [
          13
         ]
        },
        {
         "marker": {
          "color": "blue",
          "opacity": 0.5,
          "size": 1.2195121951219512
         },
         "mode": "markers",
         "showlegend": false,
         "type": "scatter",
         "x": [
          83
         ],
         "y": [
          14
         ]
        },
        {
         "marker": {
          "color": "blue",
          "opacity": 0.5,
          "size": 1.2195121951219512
         },
         "mode": "markers",
         "showlegend": false,
         "type": "scatter",
         "x": [
          83
         ],
         "y": [
          15
         ]
        },
        {
         "marker": {
          "color": "blue",
          "opacity": 0.5,
          "size": 1.2195121951219512
         },
         "mode": "markers",
         "showlegend": false,
         "type": "scatter",
         "x": [
          83
         ],
         "y": [
          18
         ]
        },
        {
         "marker": {
          "color": "blue",
          "opacity": 0.5,
          "size": 1.2195121951219512
         },
         "mode": "markers",
         "showlegend": false,
         "type": "scatter",
         "x": [
          83
         ],
         "y": [
          25
         ]
        },
        {
         "marker": {
          "color": "blue",
          "opacity": 0.5,
          "size": 1.2195121951219512
         },
         "mode": "markers",
         "showlegend": false,
         "type": "scatter",
         "x": [
          84
         ],
         "y": [
          -32
         ]
        },
        {
         "marker": {
          "color": "blue",
          "opacity": 0.5,
          "size": 3.6585365853658534
         },
         "mode": "markers",
         "showlegend": false,
         "type": "scatter",
         "x": [
          84
         ],
         "y": [
          -18
         ]
        },
        {
         "marker": {
          "color": "blue",
          "opacity": 0.5,
          "size": 2.4390243902439024
         },
         "mode": "markers",
         "showlegend": false,
         "type": "scatter",
         "x": [
          84
         ],
         "y": [
          -16
         ]
        },
        {
         "marker": {
          "color": "blue",
          "opacity": 0.5,
          "size": 1.2195121951219512
         },
         "mode": "markers",
         "showlegend": false,
         "type": "scatter",
         "x": [
          84
         ],
         "y": [
          -13
         ]
        },
        {
         "marker": {
          "color": "blue",
          "opacity": 0.5,
          "size": 2.4390243902439024
         },
         "mode": "markers",
         "showlegend": false,
         "type": "scatter",
         "x": [
          84
         ],
         "y": [
          -12
         ]
        },
        {
         "marker": {
          "color": "blue",
          "opacity": 0.5,
          "size": 2.4390243902439024
         },
         "mode": "markers",
         "showlegend": false,
         "type": "scatter",
         "x": [
          84
         ],
         "y": [
          -11
         ]
        },
        {
         "marker": {
          "color": "blue",
          "opacity": 0.5,
          "size": 6.097560975609756
         },
         "mode": "markers",
         "showlegend": false,
         "type": "scatter",
         "x": [
          84
         ],
         "y": [
          -8
         ]
        },
        {
         "marker": {
          "color": "blue",
          "opacity": 0.5,
          "size": 3.6585365853658534
         },
         "mode": "markers",
         "showlegend": false,
         "type": "scatter",
         "x": [
          84
         ],
         "y": [
          -7
         ]
        },
        {
         "marker": {
          "color": "blue",
          "opacity": 0.5,
          "size": 1.2195121951219512
         },
         "mode": "markers",
         "showlegend": false,
         "type": "scatter",
         "x": [
          84
         ],
         "y": [
          -6
         ]
        },
        {
         "marker": {
          "color": "blue",
          "opacity": 0.5,
          "size": 4.878048780487805
         },
         "mode": "markers",
         "showlegend": false,
         "type": "scatter",
         "x": [
          84
         ],
         "y": [
          -5
         ]
        },
        {
         "marker": {
          "color": "blue",
          "opacity": 0.5,
          "size": 3.6585365853658534
         },
         "mode": "markers",
         "showlegend": false,
         "type": "scatter",
         "x": [
          84
         ],
         "y": [
          -4
         ]
        },
        {
         "marker": {
          "color": "blue",
          "opacity": 0.5,
          "size": 3.6585365853658534
         },
         "mode": "markers",
         "showlegend": false,
         "type": "scatter",
         "x": [
          84
         ],
         "y": [
          -3
         ]
        },
        {
         "marker": {
          "color": "blue",
          "opacity": 0.5,
          "size": 1.2195121951219512
         },
         "mode": "markers",
         "showlegend": false,
         "type": "scatter",
         "x": [
          84
         ],
         "y": [
          3
         ]
        },
        {
         "marker": {
          "color": "blue",
          "opacity": 0.5,
          "size": 1.2195121951219512
         },
         "mode": "markers",
         "showlegend": false,
         "type": "scatter",
         "x": [
          84
         ],
         "y": [
          4
         ]
        },
        {
         "marker": {
          "color": "blue",
          "opacity": 0.5,
          "size": 4.878048780487805
         },
         "mode": "markers",
         "showlegend": false,
         "type": "scatter",
         "x": [
          84
         ],
         "y": [
          5
         ]
        },
        {
         "marker": {
          "color": "blue",
          "opacity": 0.5,
          "size": 2.4390243902439024
         },
         "mode": "markers",
         "showlegend": false,
         "type": "scatter",
         "x": [
          84
         ],
         "y": [
          6
         ]
        },
        {
         "marker": {
          "color": "blue",
          "opacity": 0.5,
          "size": 3.6585365853658534
         },
         "mode": "markers",
         "showlegend": false,
         "type": "scatter",
         "x": [
          84
         ],
         "y": [
          7
         ]
        },
        {
         "marker": {
          "color": "blue",
          "opacity": 0.5,
          "size": 1.2195121951219512
         },
         "mode": "markers",
         "showlegend": false,
         "type": "scatter",
         "x": [
          84
         ],
         "y": [
          8
         ]
        },
        {
         "marker": {
          "color": "blue",
          "opacity": 0.5,
          "size": 1.2195121951219512
         },
         "mode": "markers",
         "showlegend": false,
         "type": "scatter",
         "x": [
          84
         ],
         "y": [
          9
         ]
        },
        {
         "marker": {
          "color": "blue",
          "opacity": 0.5,
          "size": 2.4390243902439024
         },
         "mode": "markers",
         "showlegend": false,
         "type": "scatter",
         "x": [
          84
         ],
         "y": [
          10
         ]
        },
        {
         "marker": {
          "color": "blue",
          "opacity": 0.5,
          "size": 1.2195121951219512
         },
         "mode": "markers",
         "showlegend": false,
         "type": "scatter",
         "x": [
          84
         ],
         "y": [
          11
         ]
        },
        {
         "marker": {
          "color": "blue",
          "opacity": 0.5,
          "size": 2.4390243902439024
         },
         "mode": "markers",
         "showlegend": false,
         "type": "scatter",
         "x": [
          84
         ],
         "y": [
          12
         ]
        },
        {
         "marker": {
          "color": "blue",
          "opacity": 0.5,
          "size": 1.2195121951219512
         },
         "mode": "markers",
         "showlegend": false,
         "type": "scatter",
         "x": [
          84
         ],
         "y": [
          14
         ]
        },
        {
         "marker": {
          "color": "blue",
          "opacity": 0.5,
          "size": 2.4390243902439024
         },
         "mode": "markers",
         "showlegend": false,
         "type": "scatter",
         "x": [
          84
         ],
         "y": [
          17
         ]
        },
        {
         "marker": {
          "color": "blue",
          "opacity": 0.5,
          "size": 1.2195121951219512
         },
         "mode": "markers",
         "showlegend": false,
         "type": "scatter",
         "x": [
          84
         ],
         "y": [
          18
         ]
        },
        {
         "marker": {
          "color": "blue",
          "opacity": 0.5,
          "size": 1.2195121951219512
         },
         "mode": "markers",
         "showlegend": false,
         "type": "scatter",
         "x": [
          84
         ],
         "y": [
          24
         ]
        },
        {
         "marker": {
          "color": "blue",
          "opacity": 0.5,
          "size": 2.4390243902439024
         },
         "mode": "markers",
         "showlegend": false,
         "type": "scatter",
         "x": [
          84
         ],
         "y": [
          26
         ]
        },
        {
         "marker": {
          "color": "blue",
          "opacity": 0.5,
          "size": 1.2195121951219512
         },
         "mode": "markers",
         "showlegend": false,
         "type": "scatter",
         "x": [
          84
         ],
         "y": [
          29
         ]
        },
        {
         "marker": {
          "color": "blue",
          "opacity": 0.5,
          "size": 1.2195121951219512
         },
         "mode": "markers",
         "showlegend": false,
         "type": "scatter",
         "x": [
          84
         ],
         "y": [
          30
         ]
        },
        {
         "marker": {
          "color": "blue",
          "opacity": 0.5,
          "size": 1.2195121951219512
         },
         "mode": "markers",
         "showlegend": false,
         "type": "scatter",
         "x": [
          84
         ],
         "y": [
          31
         ]
        },
        {
         "marker": {
          "color": "blue",
          "opacity": 0.5,
          "size": 1.2195121951219512
         },
         "mode": "markers",
         "showlegend": false,
         "type": "scatter",
         "x": [
          84
         ],
         "y": [
          40
         ]
        },
        {
         "marker": {
          "color": "blue",
          "opacity": 0.5,
          "size": 1.2195121951219512
         },
         "mode": "markers",
         "showlegend": false,
         "type": "scatter",
         "x": [
          85
         ],
         "y": [
          -34
         ]
        },
        {
         "marker": {
          "color": "blue",
          "opacity": 0.5,
          "size": 1.2195121951219512
         },
         "mode": "markers",
         "showlegend": false,
         "type": "scatter",
         "x": [
          85
         ],
         "y": [
          -29
         ]
        },
        {
         "marker": {
          "color": "blue",
          "opacity": 0.5,
          "size": 1.2195121951219512
         },
         "mode": "markers",
         "showlegend": false,
         "type": "scatter",
         "x": [
          85
         ],
         "y": [
          -22
         ]
        },
        {
         "marker": {
          "color": "blue",
          "opacity": 0.5,
          "size": 2.4390243902439024
         },
         "mode": "markers",
         "showlegend": false,
         "type": "scatter",
         "x": [
          85
         ],
         "y": [
          -21
         ]
        },
        {
         "marker": {
          "color": "blue",
          "opacity": 0.5,
          "size": 2.4390243902439024
         },
         "mode": "markers",
         "showlegend": false,
         "type": "scatter",
         "x": [
          85
         ],
         "y": [
          -16
         ]
        },
        {
         "marker": {
          "color": "blue",
          "opacity": 0.5,
          "size": 1.2195121951219512
         },
         "mode": "markers",
         "showlegend": false,
         "type": "scatter",
         "x": [
          85
         ],
         "y": [
          -12
         ]
        },
        {
         "marker": {
          "color": "blue",
          "opacity": 0.5,
          "size": 1.2195121951219512
         },
         "mode": "markers",
         "showlegend": false,
         "type": "scatter",
         "x": [
          85
         ],
         "y": [
          -11
         ]
        },
        {
         "marker": {
          "color": "blue",
          "opacity": 0.5,
          "size": 1.2195121951219512
         },
         "mode": "markers",
         "showlegend": false,
         "type": "scatter",
         "x": [
          85
         ],
         "y": [
          -9
         ]
        },
        {
         "marker": {
          "color": "blue",
          "opacity": 0.5,
          "size": 4.878048780487805
         },
         "mode": "markers",
         "showlegend": false,
         "type": "scatter",
         "x": [
          85
         ],
         "y": [
          -8
         ]
        },
        {
         "marker": {
          "color": "blue",
          "opacity": 0.5,
          "size": 4.878048780487805
         },
         "mode": "markers",
         "showlegend": false,
         "type": "scatter",
         "x": [
          85
         ],
         "y": [
          -7
         ]
        },
        {
         "marker": {
          "color": "blue",
          "opacity": 0.5,
          "size": 2.4390243902439024
         },
         "mode": "markers",
         "showlegend": false,
         "type": "scatter",
         "x": [
          85
         ],
         "y": [
          -6
         ]
        },
        {
         "marker": {
          "color": "blue",
          "opacity": 0.5,
          "size": 2.4390243902439024
         },
         "mode": "markers",
         "showlegend": false,
         "type": "scatter",
         "x": [
          85
         ],
         "y": [
          -5
         ]
        },
        {
         "marker": {
          "color": "blue",
          "opacity": 0.5,
          "size": 1.2195121951219512
         },
         "mode": "markers",
         "showlegend": false,
         "type": "scatter",
         "x": [
          85
         ],
         "y": [
          -3
         ]
        },
        {
         "marker": {
          "color": "blue",
          "opacity": 0.5,
          "size": 1.2195121951219512
         },
         "mode": "markers",
         "showlegend": false,
         "type": "scatter",
         "x": [
          85
         ],
         "y": [
          5
         ]
        },
        {
         "marker": {
          "color": "blue",
          "opacity": 0.5,
          "size": 2.4390243902439024
         },
         "mode": "markers",
         "showlegend": false,
         "type": "scatter",
         "x": [
          85
         ],
         "y": [
          7
         ]
        },
        {
         "marker": {
          "color": "blue",
          "opacity": 0.5,
          "size": 3.6585365853658534
         },
         "mode": "markers",
         "showlegend": false,
         "type": "scatter",
         "x": [
          85
         ],
         "y": [
          8
         ]
        },
        {
         "marker": {
          "color": "blue",
          "opacity": 0.5,
          "size": 1.2195121951219512
         },
         "mode": "markers",
         "showlegend": false,
         "type": "scatter",
         "x": [
          85
         ],
         "y": [
          10
         ]
        },
        {
         "marker": {
          "color": "blue",
          "opacity": 0.5,
          "size": 1.2195121951219512
         },
         "mode": "markers",
         "showlegend": false,
         "type": "scatter",
         "x": [
          85
         ],
         "y": [
          12
         ]
        },
        {
         "marker": {
          "color": "blue",
          "opacity": 0.5,
          "size": 1.2195121951219512
         },
         "mode": "markers",
         "showlegend": false,
         "type": "scatter",
         "x": [
          85
         ],
         "y": [
          19
         ]
        },
        {
         "marker": {
          "color": "blue",
          "opacity": 0.5,
          "size": 3.6585365853658534
         },
         "mode": "markers",
         "showlegend": false,
         "type": "scatter",
         "x": [
          85
         ],
         "y": [
          21
         ]
        },
        {
         "marker": {
          "color": "blue",
          "opacity": 0.5,
          "size": 1.2195121951219512
         },
         "mode": "markers",
         "showlegend": false,
         "type": "scatter",
         "x": [
          85
         ],
         "y": [
          22
         ]
        },
        {
         "marker": {
          "color": "blue",
          "opacity": 0.5,
          "size": 1.2195121951219512
         },
         "mode": "markers",
         "showlegend": false,
         "type": "scatter",
         "x": [
          85
         ],
         "y": [
          37
         ]
        },
        {
         "marker": {
          "color": "blue",
          "opacity": 0.5,
          "size": 1.2195121951219512
         },
         "mode": "markers",
         "showlegend": false,
         "type": "scatter",
         "x": [
          86
         ],
         "y": [
          -25
         ]
        },
        {
         "marker": {
          "color": "blue",
          "opacity": 0.5,
          "size": 1.2195121951219512
         },
         "mode": "markers",
         "showlegend": false,
         "type": "scatter",
         "x": [
          86
         ],
         "y": [
          -16
         ]
        },
        {
         "marker": {
          "color": "blue",
          "opacity": 0.5,
          "size": 1.2195121951219512
         },
         "mode": "markers",
         "showlegend": false,
         "type": "scatter",
         "x": [
          86
         ],
         "y": [
          -12
         ]
        },
        {
         "marker": {
          "color": "blue",
          "opacity": 0.5,
          "size": 3.6585365853658534
         },
         "mode": "markers",
         "showlegend": false,
         "type": "scatter",
         "x": [
          86
         ],
         "y": [
          -10
         ]
        },
        {
         "marker": {
          "color": "blue",
          "opacity": 0.5,
          "size": 6.097560975609756
         },
         "mode": "markers",
         "showlegend": false,
         "type": "scatter",
         "x": [
          86
         ],
         "y": [
          -7
         ]
        },
        {
         "marker": {
          "color": "blue",
          "opacity": 0.5,
          "size": 7.317073170731707
         },
         "mode": "markers",
         "showlegend": false,
         "type": "scatter",
         "x": [
          86
         ],
         "y": [
          -6
         ]
        },
        {
         "marker": {
          "color": "blue",
          "opacity": 0.5,
          "size": 1.2195121951219512
         },
         "mode": "markers",
         "showlegend": false,
         "type": "scatter",
         "x": [
          86
         ],
         "y": [
          -2
         ]
        },
        {
         "marker": {
          "color": "blue",
          "opacity": 0.5,
          "size": 2.4390243902439024
         },
         "mode": "markers",
         "showlegend": false,
         "type": "scatter",
         "x": [
          86
         ],
         "y": [
          5
         ]
        },
        {
         "marker": {
          "color": "blue",
          "opacity": 0.5,
          "size": 1.2195121951219512
         },
         "mode": "markers",
         "showlegend": false,
         "type": "scatter",
         "x": [
          86
         ],
         "y": [
          6
         ]
        },
        {
         "marker": {
          "color": "blue",
          "opacity": 0.5,
          "size": 4.878048780487805
         },
         "mode": "markers",
         "showlegend": false,
         "type": "scatter",
         "x": [
          86
         ],
         "y": [
          7
         ]
        },
        {
         "marker": {
          "color": "blue",
          "opacity": 0.5,
          "size": 1.2195121951219512
         },
         "mode": "markers",
         "showlegend": false,
         "type": "scatter",
         "x": [
          86
         ],
         "y": [
          10
         ]
        },
        {
         "marker": {
          "color": "blue",
          "opacity": 0.5,
          "size": 1.2195121951219512
         },
         "mode": "markers",
         "showlegend": false,
         "type": "scatter",
         "x": [
          86
         ],
         "y": [
          11
         ]
        },
        {
         "marker": {
          "color": "blue",
          "opacity": 0.5,
          "size": 1.2195121951219512
         },
         "mode": "markers",
         "showlegend": false,
         "type": "scatter",
         "x": [
          86
         ],
         "y": [
          13
         ]
        },
        {
         "marker": {
          "color": "blue",
          "opacity": 0.5,
          "size": 2.4390243902439024
         },
         "mode": "markers",
         "showlegend": false,
         "type": "scatter",
         "x": [
          86
         ],
         "y": [
          29
         ]
        },
        {
         "marker": {
          "color": "blue",
          "opacity": 0.5,
          "size": 1.2195121951219512
         },
         "mode": "markers",
         "showlegend": false,
         "type": "scatter",
         "x": [
          86
         ],
         "y": [
          32
         ]
        },
        {
         "marker": {
          "color": "blue",
          "opacity": 0.5,
          "size": 1.2195121951219512
         },
         "mode": "markers",
         "showlegend": false,
         "type": "scatter",
         "x": [
          87
         ],
         "y": [
          -38
         ]
        },
        {
         "marker": {
          "color": "blue",
          "opacity": 0.5,
          "size": 1.2195121951219512
         },
         "mode": "markers",
         "showlegend": false,
         "type": "scatter",
         "x": [
          87
         ],
         "y": [
          -32
         ]
        },
        {
         "marker": {
          "color": "blue",
          "opacity": 0.5,
          "size": 2.4390243902439024
         },
         "mode": "markers",
         "showlegend": false,
         "type": "scatter",
         "x": [
          87
         ],
         "y": [
          -28
         ]
        },
        {
         "marker": {
          "color": "blue",
          "opacity": 0.5,
          "size": 1.2195121951219512
         },
         "mode": "markers",
         "showlegend": false,
         "type": "scatter",
         "x": [
          87
         ],
         "y": [
          -12
         ]
        },
        {
         "marker": {
          "color": "blue",
          "opacity": 0.5,
          "size": 2.4390243902439024
         },
         "mode": "markers",
         "showlegend": false,
         "type": "scatter",
         "x": [
          87
         ],
         "y": [
          -11
         ]
        },
        {
         "marker": {
          "color": "blue",
          "opacity": 0.5,
          "size": 1.2195121951219512
         },
         "mode": "markers",
         "showlegend": false,
         "type": "scatter",
         "x": [
          87
         ],
         "y": [
          -10
         ]
        },
        {
         "marker": {
          "color": "blue",
          "opacity": 0.5,
          "size": 3.6585365853658534
         },
         "mode": "markers",
         "showlegend": false,
         "type": "scatter",
         "x": [
          87
         ],
         "y": [
          -9
         ]
        },
        {
         "marker": {
          "color": "blue",
          "opacity": 0.5,
          "size": 2.4390243902439024
         },
         "mode": "markers",
         "showlegend": false,
         "type": "scatter",
         "x": [
          87
         ],
         "y": [
          -7
         ]
        },
        {
         "marker": {
          "color": "blue",
          "opacity": 0.5,
          "size": 3.6585365853658534
         },
         "mode": "markers",
         "showlegend": false,
         "type": "scatter",
         "x": [
          87
         ],
         "y": [
          -6
         ]
        },
        {
         "marker": {
          "color": "blue",
          "opacity": 0.5,
          "size": 1.2195121951219512
         },
         "mode": "markers",
         "showlegend": false,
         "type": "scatter",
         "x": [
          87
         ],
         "y": [
          3
         ]
        },
        {
         "marker": {
          "color": "blue",
          "opacity": 0.5,
          "size": 2.4390243902439024
         },
         "mode": "markers",
         "showlegend": false,
         "type": "scatter",
         "x": [
          87
         ],
         "y": [
          12
         ]
        },
        {
         "marker": {
          "color": "blue",
          "opacity": 0.5,
          "size": 1.2195121951219512
         },
         "mode": "markers",
         "showlegend": false,
         "type": "scatter",
         "x": [
          87
         ],
         "y": [
          14
         ]
        },
        {
         "marker": {
          "color": "blue",
          "opacity": 0.5,
          "size": 1.2195121951219512
         },
         "mode": "markers",
         "showlegend": false,
         "type": "scatter",
         "x": [
          87
         ],
         "y": [
          17
         ]
        },
        {
         "marker": {
          "color": "blue",
          "opacity": 0.5,
          "size": 1.2195121951219512
         },
         "mode": "markers",
         "showlegend": false,
         "type": "scatter",
         "x": [
          87
         ],
         "y": [
          18
         ]
        },
        {
         "marker": {
          "color": "blue",
          "opacity": 0.5,
          "size": 1.2195121951219512
         },
         "mode": "markers",
         "showlegend": false,
         "type": "scatter",
         "x": [
          87
         ],
         "y": [
          21
         ]
        },
        {
         "marker": {
          "color": "blue",
          "opacity": 0.5,
          "size": 2.4390243902439024
         },
         "mode": "markers",
         "showlegend": false,
         "type": "scatter",
         "x": [
          87
         ],
         "y": [
          22
         ]
        },
        {
         "marker": {
          "color": "blue",
          "opacity": 0.5,
          "size": 1.2195121951219512
         },
         "mode": "markers",
         "showlegend": false,
         "type": "scatter",
         "x": [
          87
         ],
         "y": [
          31
         ]
        },
        {
         "marker": {
          "color": "blue",
          "opacity": 0.5,
          "size": 1.2195121951219512
         },
         "mode": "markers",
         "showlegend": false,
         "type": "scatter",
         "x": [
          88
         ],
         "y": [
          -33
         ]
        },
        {
         "marker": {
          "color": "blue",
          "opacity": 0.5,
          "size": 1.2195121951219512
         },
         "mode": "markers",
         "showlegend": false,
         "type": "scatter",
         "x": [
          88
         ],
         "y": [
          -23
         ]
        },
        {
         "marker": {
          "color": "blue",
          "opacity": 0.5,
          "size": 1.2195121951219512
         },
         "mode": "markers",
         "showlegend": false,
         "type": "scatter",
         "x": [
          88
         ],
         "y": [
          -18
         ]
        },
        {
         "marker": {
          "color": "blue",
          "opacity": 0.5,
          "size": 1.2195121951219512
         },
         "mode": "markers",
         "showlegend": false,
         "type": "scatter",
         "x": [
          88
         ],
         "y": [
          -14
         ]
        },
        {
         "marker": {
          "color": "blue",
          "opacity": 0.5,
          "size": 1.2195121951219512
         },
         "mode": "markers",
         "showlegend": false,
         "type": "scatter",
         "x": [
          88
         ],
         "y": [
          -13
         ]
        },
        {
         "marker": {
          "color": "blue",
          "opacity": 0.5,
          "size": 1.2195121951219512
         },
         "mode": "markers",
         "showlegend": false,
         "type": "scatter",
         "x": [
          88
         ],
         "y": [
          -12
         ]
        },
        {
         "marker": {
          "color": "blue",
          "opacity": 0.5,
          "size": 1.2195121951219512
         },
         "mode": "markers",
         "showlegend": false,
         "type": "scatter",
         "x": [
          88
         ],
         "y": [
          -10
         ]
        },
        {
         "marker": {
          "color": "blue",
          "opacity": 0.5,
          "size": 1.2195121951219512
         },
         "mode": "markers",
         "showlegend": false,
         "type": "scatter",
         "x": [
          88
         ],
         "y": [
          -9
         ]
        },
        {
         "marker": {
          "color": "blue",
          "opacity": 0.5,
          "size": 1.2195121951219512
         },
         "mode": "markers",
         "showlegend": false,
         "type": "scatter",
         "x": [
          88
         ],
         "y": [
          -7
         ]
        },
        {
         "marker": {
          "color": "blue",
          "opacity": 0.5,
          "size": 1.2195121951219512
         },
         "mode": "markers",
         "showlegend": false,
         "type": "scatter",
         "x": [
          88
         ],
         "y": [
          -6
         ]
        },
        {
         "marker": {
          "color": "blue",
          "opacity": 0.5,
          "size": 1.2195121951219512
         },
         "mode": "markers",
         "showlegend": false,
         "type": "scatter",
         "x": [
          88
         ],
         "y": [
          8
         ]
        },
        {
         "marker": {
          "color": "blue",
          "opacity": 0.5,
          "size": 1.2195121951219512
         },
         "mode": "markers",
         "showlegend": false,
         "type": "scatter",
         "x": [
          88
         ],
         "y": [
          10
         ]
        },
        {
         "marker": {
          "color": "blue",
          "opacity": 0.5,
          "size": 1.2195121951219512
         },
         "mode": "markers",
         "showlegend": false,
         "type": "scatter",
         "x": [
          88
         ],
         "y": [
          17
         ]
        },
        {
         "marker": {
          "color": "blue",
          "opacity": 0.5,
          "size": 1.2195121951219512
         },
         "mode": "markers",
         "showlegend": false,
         "type": "scatter",
         "x": [
          88
         ],
         "y": [
          27
         ]
        },
        {
         "marker": {
          "color": "blue",
          "opacity": 0.5,
          "size": 1.2195121951219512
         },
         "mode": "markers",
         "showlegend": false,
         "type": "scatter",
         "x": [
          88
         ],
         "y": [
          33
         ]
        },
        {
         "marker": {
          "color": "blue",
          "opacity": 0.5,
          "size": 1.2195121951219512
         },
         "mode": "markers",
         "showlegend": false,
         "type": "scatter",
         "x": [
          89
         ],
         "y": [
          -18
         ]
        },
        {
         "marker": {
          "color": "blue",
          "opacity": 0.5,
          "size": 2.4390243902439024
         },
         "mode": "markers",
         "showlegend": false,
         "type": "scatter",
         "x": [
          89
         ],
         "y": [
          -6
         ]
        },
        {
         "marker": {
          "color": "blue",
          "opacity": 0.5,
          "size": 1.2195121951219512
         },
         "mode": "markers",
         "showlegend": false,
         "type": "scatter",
         "x": [
          89
         ],
         "y": [
          12
         ]
        },
        {
         "marker": {
          "color": "blue",
          "opacity": 0.5,
          "size": 1.2195121951219512
         },
         "mode": "markers",
         "showlegend": false,
         "type": "scatter",
         "x": [
          89
         ],
         "y": [
          25
         ]
        },
        {
         "marker": {
          "color": "blue",
          "opacity": 0.5,
          "size": 1.2195121951219512
         },
         "mode": "markers",
         "showlegend": false,
         "type": "scatter",
         "x": [
          90
         ],
         "y": [
          -29
         ]
        },
        {
         "marker": {
          "color": "blue",
          "opacity": 0.5,
          "size": 1.2195121951219512
         },
         "mode": "markers",
         "showlegend": false,
         "type": "scatter",
         "x": [
          90
         ],
         "y": [
          -17
         ]
        },
        {
         "marker": {
          "color": "blue",
          "opacity": 0.5,
          "size": 1.2195121951219512
         },
         "mode": "markers",
         "showlegend": false,
         "type": "scatter",
         "x": [
          90
         ],
         "y": [
          6
         ]
        },
        {
         "marker": {
          "color": "blue",
          "opacity": 0.5,
          "size": 1.2195121951219512
         },
         "mode": "markers",
         "showlegend": false,
         "type": "scatter",
         "x": [
          91
         ],
         "y": [
          7
         ]
        },
        {
         "marker": {
          "color": "blue",
          "opacity": 0.5,
          "size": 1.2195121951219512
         },
         "mode": "markers",
         "showlegend": false,
         "type": "scatter",
         "x": [
          91
         ],
         "y": [
          8
         ]
        },
        {
         "marker": {
          "color": "blue",
          "opacity": 0.5,
          "size": 1.2195121951219512
         },
         "mode": "markers",
         "showlegend": false,
         "type": "scatter",
         "x": [
          91
         ],
         "y": [
          26
         ]
        },
        {
         "marker": {
          "color": "blue",
          "opacity": 0.5,
          "size": 1.2195121951219512
         },
         "mode": "markers",
         "showlegend": false,
         "type": "scatter",
         "x": [
          92
         ],
         "y": [
          -4
         ]
        },
        {
         "marker": {
          "color": "blue",
          "opacity": 0.5,
          "size": 1.2195121951219512
         },
         "mode": "markers",
         "showlegend": false,
         "type": "scatter",
         "x": [
          93
         ],
         "y": [
          -26
         ]
        },
        {
         "marker": {
          "color": "blue",
          "opacity": 0.5,
          "size": 1.2195121951219512
         },
         "mode": "markers",
         "showlegend": false,
         "type": "scatter",
         "x": [
          93
         ],
         "y": [
          10
         ]
        },
        {
         "marker": {
          "color": "blue",
          "opacity": 0.5,
          "size": 1.2195121951219512
         },
         "mode": "markers",
         "showlegend": false,
         "type": "scatter",
         "x": [
          93
         ],
         "y": [
          18
         ]
        },
        {
         "marker": {
          "color": "blue",
          "opacity": 0.5,
          "size": 1.2195121951219512
         },
         "mode": "markers",
         "showlegend": false,
         "type": "scatter",
         "x": [
          95
         ],
         "y": [
          10
         ]
        },
        {
         "marker": {
          "color": "blue",
          "opacity": 0.5,
          "size": 1.2195121951219512
         },
         "mode": "markers",
         "showlegend": false,
         "type": "scatter",
         "x": [
          95
         ],
         "y": [
          11
         ]
        },
        {
         "marker": {
          "color": "blue",
          "opacity": 0.5,
          "size": 1.2195121951219512
         },
         "mode": "markers",
         "showlegend": false,
         "type": "scatter",
         "x": [
          99
         ],
         "y": [
          -4
         ]
        },
        {
         "marker": {
          "color": "blue",
          "opacity": 0.5,
          "size": 1.2195121951219512
         },
         "mode": "markers",
         "showlegend": false,
         "type": "scatter",
         "x": [
          99
         ],
         "y": [
          10
         ]
        }
       ],
       "layout": {
        "height": 425,
        "images": [
         {
          "layer": "below",
          "opacity": 1,
          "sizex": 200,
          "sizey": 85,
          "sizing": "stretch",
          "source": "data:image/png;base64,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",
          "x": -100,
          "xanchor": "left",
          "xref": "x",
          "y": 42.5,
          "yanchor": "top",
          "yref": "y"
         }
        ],
        "paper_bgcolor": "white",
        "plot_bgcolor": "white",
        "showlegend": false,
        "template": {
         "data": {
          "bar": [
           {
            "error_x": {
             "color": "#2a3f5f"
            },
            "error_y": {
             "color": "#2a3f5f"
            },
            "marker": {
             "line": {
              "color": "#E5ECF6",
              "width": 0.5
             },
             "pattern": {
              "fillmode": "overlay",
              "size": 10,
              "solidity": 0.2
             }
            },
            "type": "bar"
           }
          ],
          "barpolar": [
           {
            "marker": {
             "line": {
              "color": "#E5ECF6",
              "width": 0.5
             },
             "pattern": {
              "fillmode": "overlay",
              "size": 10,
              "solidity": 0.2
             }
            },
            "type": "barpolar"
           }
          ],
          "carpet": [
           {
            "aaxis": {
             "endlinecolor": "#2a3f5f",
             "gridcolor": "white",
             "linecolor": "white",
             "minorgridcolor": "white",
             "startlinecolor": "#2a3f5f"
            },
            "baxis": {
             "endlinecolor": "#2a3f5f",
             "gridcolor": "white",
             "linecolor": "white",
             "minorgridcolor": "white",
             "startlinecolor": "#2a3f5f"
            },
            "type": "carpet"
           }
          ],
          "choropleth": [
           {
            "colorbar": {
             "outlinewidth": 0,
             "ticks": ""
            },
            "type": "choropleth"
           }
          ],
          "contour": [
           {
            "colorbar": {
             "outlinewidth": 0,
             "ticks": ""
            },
            "colorscale": [
             [
              0,
              "#0d0887"
             ],
             [
              0.1111111111111111,
              "#46039f"
             ],
             [
              0.2222222222222222,
              "#7201a8"
             ],
             [
              0.3333333333333333,
              "#9c179e"
             ],
             [
              0.4444444444444444,
              "#bd3786"
             ],
             [
              0.5555555555555556,
              "#d8576b"
             ],
             [
              0.6666666666666666,
              "#ed7953"
             ],
             [
              0.7777777777777778,
              "#fb9f3a"
             ],
             [
              0.8888888888888888,
              "#fdca26"
             ],
             [
              1,
              "#f0f921"
             ]
            ],
            "type": "contour"
           }
          ],
          "contourcarpet": [
           {
            "colorbar": {
             "outlinewidth": 0,
             "ticks": ""
            },
            "type": "contourcarpet"
           }
          ],
          "heatmap": [
           {
            "colorbar": {
             "outlinewidth": 0,
             "ticks": ""
            },
            "colorscale": [
             [
              0,
              "#0d0887"
             ],
             [
              0.1111111111111111,
              "#46039f"
             ],
             [
              0.2222222222222222,
              "#7201a8"
             ],
             [
              0.3333333333333333,
              "#9c179e"
             ],
             [
              0.4444444444444444,
              "#bd3786"
             ],
             [
              0.5555555555555556,
              "#d8576b"
             ],
             [
              0.6666666666666666,
              "#ed7953"
             ],
             [
              0.7777777777777778,
              "#fb9f3a"
             ],
             [
              0.8888888888888888,
              "#fdca26"
             ],
             [
              1,
              "#f0f921"
             ]
            ],
            "type": "heatmap"
           }
          ],
          "heatmapgl": [
           {
            "colorbar": {
             "outlinewidth": 0,
             "ticks": ""
            },
            "colorscale": [
             [
              0,
              "#0d0887"
             ],
             [
              0.1111111111111111,
              "#46039f"
             ],
             [
              0.2222222222222222,
              "#7201a8"
             ],
             [
              0.3333333333333333,
              "#9c179e"
             ],
             [
              0.4444444444444444,
              "#bd3786"
             ],
             [
              0.5555555555555556,
              "#d8576b"
             ],
             [
              0.6666666666666666,
              "#ed7953"
             ],
             [
              0.7777777777777778,
              "#fb9f3a"
             ],
             [
              0.8888888888888888,
              "#fdca26"
             ],
             [
              1,
              "#f0f921"
             ]
            ],
            "type": "heatmapgl"
           }
          ],
          "histogram": [
           {
            "marker": {
             "pattern": {
              "fillmode": "overlay",
              "size": 10,
              "solidity": 0.2
             }
            },
            "type": "histogram"
           }
          ],
          "histogram2d": [
           {
            "colorbar": {
             "outlinewidth": 0,
             "ticks": ""
            },
            "colorscale": [
             [
              0,
              "#0d0887"
             ],
             [
              0.1111111111111111,
              "#46039f"
             ],
             [
              0.2222222222222222,
              "#7201a8"
             ],
             [
              0.3333333333333333,
              "#9c179e"
             ],
             [
              0.4444444444444444,
              "#bd3786"
             ],
             [
              0.5555555555555556,
              "#d8576b"
             ],
             [
              0.6666666666666666,
              "#ed7953"
             ],
             [
              0.7777777777777778,
              "#fb9f3a"
             ],
             [
              0.8888888888888888,
              "#fdca26"
             ],
             [
              1,
              "#f0f921"
             ]
            ],
            "type": "histogram2d"
           }
          ],
          "histogram2dcontour": [
           {
            "colorbar": {
             "outlinewidth": 0,
             "ticks": ""
            },
            "colorscale": [
             [
              0,
              "#0d0887"
             ],
             [
              0.1111111111111111,
              "#46039f"
             ],
             [
              0.2222222222222222,
              "#7201a8"
             ],
             [
              0.3333333333333333,
              "#9c179e"
             ],
             [
              0.4444444444444444,
              "#bd3786"
             ],
             [
              0.5555555555555556,
              "#d8576b"
             ],
             [
              0.6666666666666666,
              "#ed7953"
             ],
             [
              0.7777777777777778,
              "#fb9f3a"
             ],
             [
              0.8888888888888888,
              "#fdca26"
             ],
             [
              1,
              "#f0f921"
             ]
            ],
            "type": "histogram2dcontour"
           }
          ],
          "mesh3d": [
           {
            "colorbar": {
             "outlinewidth": 0,
             "ticks": ""
            },
            "type": "mesh3d"
           }
          ],
          "parcoords": [
           {
            "line": {
             "colorbar": {
              "outlinewidth": 0,
              "ticks": ""
             }
            },
            "type": "parcoords"
           }
          ],
          "pie": [
           {
            "automargin": true,
            "type": "pie"
           }
          ],
          "scatter": [
           {
            "fillpattern": {
             "fillmode": "overlay",
             "size": 10,
             "solidity": 0.2
            },
            "type": "scatter"
           }
          ],
          "scatter3d": [
           {
            "line": {
             "colorbar": {
              "outlinewidth": 0,
              "ticks": ""
             }
            },
            "marker": {
             "colorbar": {
              "outlinewidth": 0,
              "ticks": ""
             }
            },
            "type": "scatter3d"
           }
          ],
          "scattercarpet": [
           {
            "marker": {
             "colorbar": {
              "outlinewidth": 0,
              "ticks": ""
             }
            },
            "type": "scattercarpet"
           }
          ],
          "scattergeo": [
           {
            "marker": {
             "colorbar": {
              "outlinewidth": 0,
              "ticks": ""
             }
            },
            "type": "scattergeo"
           }
          ],
          "scattergl": [
           {
            "marker": {
             "colorbar": {
              "outlinewidth": 0,
              "ticks": ""
             }
            },
            "type": "scattergl"
           }
          ],
          "scattermapbox": [
           {
            "marker": {
             "colorbar": {
              "outlinewidth": 0,
              "ticks": ""
             }
            },
            "type": "scattermapbox"
           }
          ],
          "scatterpolar": [
           {
            "marker": {
             "colorbar": {
              "outlinewidth": 0,
              "ticks": ""
             }
            },
            "type": "scatterpolar"
           }
          ],
          "scatterpolargl": [
           {
            "marker": {
             "colorbar": {
              "outlinewidth": 0,
              "ticks": ""
             }
            },
            "type": "scatterpolargl"
           }
          ],
          "scatterternary": [
           {
            "marker": {
             "colorbar": {
              "outlinewidth": 0,
              "ticks": ""
             }
            },
            "type": "scatterternary"
           }
          ],
          "surface": [
           {
            "colorbar": {
             "outlinewidth": 0,
             "ticks": ""
            },
            "colorscale": [
             [
              0,
              "#0d0887"
             ],
             [
              0.1111111111111111,
              "#46039f"
             ],
             [
              0.2222222222222222,
              "#7201a8"
             ],
             [
              0.3333333333333333,
              "#9c179e"
             ],
             [
              0.4444444444444444,
              "#bd3786"
             ],
             [
              0.5555555555555556,
              "#d8576b"
             ],
             [
              0.6666666666666666,
              "#ed7953"
             ],
             [
              0.7777777777777778,
              "#fb9f3a"
             ],
             [
              0.8888888888888888,
              "#fdca26"
             ],
             [
              1,
              "#f0f921"
             ]
            ],
            "type": "surface"
           }
          ],
          "table": [
           {
            "cells": {
             "fill": {
              "color": "#EBF0F8"
             },
             "line": {
              "color": "white"
             }
            },
            "header": {
             "fill": {
              "color": "#C8D4E3"
             },
             "line": {
              "color": "white"
             }
            },
            "type": "table"
           }
          ]
         },
         "layout": {
          "annotationdefaults": {
           "arrowcolor": "#2a3f5f",
           "arrowhead": 0,
           "arrowwidth": 1
          },
          "autotypenumbers": "strict",
          "coloraxis": {
           "colorbar": {
            "outlinewidth": 0,
            "ticks": ""
           }
          },
          "colorscale": {
           "diverging": [
            [
             0,
             "#8e0152"
            ],
            [
             0.1,
             "#c51b7d"
            ],
            [
             0.2,
             "#de77ae"
            ],
            [
             0.3,
             "#f1b6da"
            ],
            [
             0.4,
             "#fde0ef"
            ],
            [
             0.5,
             "#f7f7f7"
            ],
            [
             0.6,
             "#e6f5d0"
            ],
            [
             0.7,
             "#b8e186"
            ],
            [
             0.8,
             "#7fbc41"
            ],
            [
             0.9,
             "#4d9221"
            ],
            [
             1,
             "#276419"
            ]
           ],
           "sequential": [
            [
             0,
             "#0d0887"
            ],
            [
             0.1111111111111111,
             "#46039f"
            ],
            [
             0.2222222222222222,
             "#7201a8"
            ],
            [
             0.3333333333333333,
             "#9c179e"
            ],
            [
             0.4444444444444444,
             "#bd3786"
            ],
            [
             0.5555555555555556,
             "#d8576b"
            ],
            [
             0.6666666666666666,
             "#ed7953"
            ],
            [
             0.7777777777777778,
             "#fb9f3a"
            ],
            [
             0.8888888888888888,
             "#fdca26"
            ],
            [
             1,
             "#f0f921"
            ]
           ],
           "sequentialminus": [
            [
             0,
             "#0d0887"
            ],
            [
             0.1111111111111111,
             "#46039f"
            ],
            [
             0.2222222222222222,
             "#7201a8"
            ],
            [
             0.3333333333333333,
             "#9c179e"
            ],
            [
             0.4444444444444444,
             "#bd3786"
            ],
            [
             0.5555555555555556,
             "#d8576b"
            ],
            [
             0.6666666666666666,
             "#ed7953"
            ],
            [
             0.7777777777777778,
             "#fb9f3a"
            ],
            [
             0.8888888888888888,
             "#fdca26"
            ],
            [
             1,
             "#f0f921"
            ]
           ]
          },
          "colorway": [
           "#636efa",
           "#EF553B",
           "#00cc96",
           "#ab63fa",
           "#FFA15A",
           "#19d3f3",
           "#FF6692",
           "#B6E880",
           "#FF97FF",
           "#FECB52"
          ],
          "font": {
           "color": "#2a3f5f"
          },
          "geo": {
           "bgcolor": "white",
           "lakecolor": "white",
           "landcolor": "#E5ECF6",
           "showlakes": true,
           "showland": true,
           "subunitcolor": "white"
          },
          "hoverlabel": {
           "align": "left"
          },
          "hovermode": "closest",
          "mapbox": {
           "style": "light"
          },
          "paper_bgcolor": "white",
          "plot_bgcolor": "#E5ECF6",
          "polar": {
           "angularaxis": {
            "gridcolor": "white",
            "linecolor": "white",
            "ticks": ""
           },
           "bgcolor": "#E5ECF6",
           "radialaxis": {
            "gridcolor": "white",
            "linecolor": "white",
            "ticks": ""
           }
          },
          "scene": {
           "xaxis": {
            "backgroundcolor": "#E5ECF6",
            "gridcolor": "white",
            "gridwidth": 2,
            "linecolor": "white",
            "showbackground": true,
            "ticks": "",
            "zerolinecolor": "white"
           },
           "yaxis": {
            "backgroundcolor": "#E5ECF6",
            "gridcolor": "white",
            "gridwidth": 2,
            "linecolor": "white",
            "showbackground": true,
            "ticks": "",
            "zerolinecolor": "white"
           },
           "zaxis": {
            "backgroundcolor": "#E5ECF6",
            "gridcolor": "white",
            "gridwidth": 2,
            "linecolor": "white",
            "showbackground": true,
            "ticks": "",
            "zerolinecolor": "white"
           }
          },
          "shapedefaults": {
           "line": {
            "color": "#2a3f5f"
           }
          },
          "ternary": {
           "aaxis": {
            "gridcolor": "white",
            "linecolor": "white",
            "ticks": ""
           },
           "baxis": {
            "gridcolor": "white",
            "linecolor": "white",
            "ticks": ""
           },
           "bgcolor": "#E5ECF6",
           "caxis": {
            "gridcolor": "white",
            "linecolor": "white",
            "ticks": ""
           }
          },
          "title": {
           "x": 0.05
          },
          "xaxis": {
           "automargin": true,
           "gridcolor": "white",
           "linecolor": "white",
           "ticks": "",
           "title": {
            "standoff": 15
           },
           "zerolinecolor": "white",
           "zerolinewidth": 2
          },
          "yaxis": {
           "automargin": true,
           "gridcolor": "white",
           "linecolor": "white",
           "ticks": "",
           "title": {
            "standoff": 15
           },
           "zerolinecolor": "white",
           "zerolinewidth": 2
          }
         }
        },
        "title": {
         "text": "Shot Distribution on NHL Rink"
        },
        "width": 500,
        "xaxis": {
         "range": [
          0,
          100
         ],
         "title": {
          "text": "X Coordinate (feet)"
         }
        },
        "yaxis": {
         "range": [
          -42.5,
          42.5
         ],
         "title": {
          "text": "Y Coordinate (feet)"
         }
        }
       }
      }
     },
     "metadata": {},
     "output_type": "display_data"
    }
   ],
   "source": [
    "def plot_shot_map_plotly(shot_rate_map: pd.DataFrame):\n",
    "    fig = go.Figure()\n",
    "\n",
    "    fig.add_layout_image(\n",
    "        dict(\n",
    "            source=Image.open(\"../../figures/nhl_rink.png\"),\n",
    "            x=-100,\n",
    "            y=42.5,\n",
    "            xref=\"x\",\n",
    "            yref=\"y\",\n",
    "            sizex=200,\n",
    "            sizey=85,\n",
    "            opacity=1,\n",
    "            sizing=\"stretch\",\n",
    "            xanchor=\"left\",\n",
    "            yanchor=\"top\",\n",
    "            layer=\"below\"\n",
    "        )\n",
    "    )\n",
    "\n",
    "    for _, row in tqdm(shot_rate_map.iterrows(), desc=\"Processing DataFrame\"):\n",
    "        fig.add_trace(go.Scatter(\n",
    "            x = [row['x_coord']],\n",
    "            y = [row['y_coord']],\n",
    "            mode='markers',\n",
    "            marker=dict(\n",
    "                size = row['team_shot_rate'] * 100, \n",
    "                opacity=0.5, \n",
    "                color='blue'),\n",
    "            showlegend=False\n",
    "        )) \n",
    "\n",
    "    fig.update_layout(\n",
    "        xaxis=dict(title='X Coordinate (feet)', range=[0, 100]),\n",
    "        yaxis=dict(title='Y Coordinate (feet)', range=[-42.5, 42.5]),\n",
    "        title='Shot Distribution on NHL Rink',\n",
    "        showlegend=False,\n",
    "        height=425,\n",
    "        width=500,    \n",
    "        plot_bgcolor='white',\n",
    "        paper_bgcolor='white'\n",
    "        )\n",
    "    fig.show()\n",
    "\n",
    "plot_shot_map_plotly(df)"
   ]
  },
  {
   "cell_type": "code",
   "execution_count": 49,
   "metadata": {},
   "outputs": [
    {
     "data": {
      "application/vnd.plotly.v1+json": {
       "config": {
        "plotlyServerURL": "https://plot.ly"
       },
       "data": [
        {
         "colorbar": {
          "title": {
           "text": "Shot Density"
          }
         },
         "colorscale": [
          [
           0,
           "rgba(0,0,255,0)"
          ],
          [
           0.01,
           "rgba(0,0,255,0.05)"
          ],
          [
           1,
           "rgba(255,0,0,1)"
          ]
         ],
         "hovertemplate": "X: %{x:.2f}<br>Y: %{y:.2f}<br>Shot Density: %{z:.2f}<extra></extra>",
         "type": "heatmap",
         "x": [
          0,
          2.0408163265306123,
          4.081632653061225,
          6.122448979591837,
          8.16326530612245,
          10.204081632653061,
          12.244897959183675,
          14.285714285714286,
          16.3265306122449,
          18.367346938775512,
          20.408163265306122,
          22.448979591836736,
          24.48979591836735,
          26.53061224489796,
          28.571428571428573,
          30.612244897959183,
          32.6530612244898,
          34.69387755102041,
          36.734693877551024,
          38.775510204081634,
          40.816326530612244,
          42.85714285714286,
          44.89795918367347,
          46.93877551020408,
          48.9795918367347,
          51.02040816326531,
          53.06122448979592,
          55.10204081632653,
          57.142857142857146,
          59.183673469387756,
          61.224489795918366,
          63.26530612244898,
          65.3061224489796,
          67.34693877551021,
          69.38775510204081,
          71.42857142857143,
          73.46938775510205,
          75.51020408163265,
          77.55102040816327,
          79.59183673469389,
          81.63265306122449,
          83.6734693877551,
          85.71428571428572,
          87.75510204081633,
          89.79591836734694,
          91.83673469387756,
          93.87755102040816,
          95.91836734693878,
          97.9591836734694
         ],
         "y": [
          -42.5,
          -40.765306122448976,
          -39.03061224489796,
          -37.29591836734694,
          -35.56122448979592,
          -33.826530612244895,
          -32.09183673469388,
          -30.357142857142858,
          -28.622448979591837,
          -26.887755102040817,
          -25.153061224489797,
          -23.418367346938776,
          -21.683673469387756,
          -19.948979591836736,
          -18.214285714285715,
          -16.479591836734695,
          -14.744897959183675,
          -13.010204081632654,
          -11.275510204081634,
          -9.540816326530617,
          -7.806122448979593,
          -6.071428571428569,
          -4.336734693877553,
          -2.602040816326536,
          -0.8673469387755119,
          0.8673469387755119,
          2.6020408163265287,
          4.3367346938775455,
          6.071428571428569,
          7.806122448979593,
          9.54081632653061,
          11.275510204081627,
          13.01020408163265,
          14.744897959183675,
          16.47959183673469,
          18.214285714285708,
          19.948979591836732,
          21.683673469387756,
          23.418367346938766,
          25.15306122448979,
          26.887755102040813,
          28.622448979591837,
          30.35714285714286,
          32.09183673469387,
          33.826530612244895,
          35.56122448979592,
          37.29591836734693,
          39.03061224489795,
          40.765306122448976
         ],
         "z": [
          [
           0.0005678645095557722,
           0.0005582254518833992,
           0.000539675040024529,
           0.0005138427931500897,
           0.0004832994986501331,
           0.0004514282825547536,
           0.00042160753574592517,
           0.0003983325865392084,
           0.00038934131586078715,
           0.00040775173437751624,
           0.0004726068493581842,
           0.0006048872442173347,
           0.0008190289955640605,
           0.001113634081397433,
           0.001466316310532517,
           0.0018378679824022255,
           0.0021865103066775874,
           0.0024877034108672542,
           0.0027480816431125145,
           0.0030048138608024517,
           0.0033063557969591206,
           0.0036860389997585806,
           0.004142280813598578,
           0.004637608660588214,
           0.00511649372667454,
           0.005529588765941933,
           0.005851761909111913,
           0.006084157780446579,
           0.006243089480666573,
           0.006342877967124966,
           0.006383827092325018,
           0.006350713604941922,
           0.006220808334545698,
           0.005975712806628063,
           0.005610064835070713,
           0.0051347338955578135,
           0.00457640849892827,
           0.003974258970858616,
           0.0033721121212241184,
           0.0028073554920384595,
           0.0023009456886570797,
           0.0018553256704255071,
           0.0014617079795007082,
           0.0011119560270501992,
           0.0008057078488057928,
           0.0005504869523374723,
           0.0003550603160547863,
           0.00022471720898946355,
           0.00016006946973504572
          ],
          [
           0.0007206392856531562,
           0.0007049640394817146,
           0.0006754351446898847,
           0.0006356671752951559,
           0.0005906464914392385,
           0.0005459670189089112,
           0.0005064001414559652,
           0.0004769519833012573,
           0.0004655697911191748,
           0.0004863506980920513,
           0.000561052791168146,
           0.0007151300260984824,
           0.0009679384278909797,
           0.0013209317073421833,
           0.0017501353160405374,
           0.0022093336842002984,
           0.0026458635655123228,
           0.0030242962380080136,
           0.003344703541719039,
           0.0036444577713762726,
           0.003978051025642536,
           0.004386761002445148,
           0.004874585688730189,
           0.005404702509030237,
           0.005918039646177343,
           0.006360289824972009,
           0.006702819466738055,
           0.006945903416736177,
           0.007106538109493454,
           0.007199335495282288,
           0.007223377808046664,
           0.007161562071732593,
           0.0069906903158043245,
           0.006694765757801995,
           0.006272917005159166,
           0.005740064364934956,
           0.00512440962059515,
           0.004464232753217995,
           0.003802131266479435,
           0.0031757946523879635,
           0.002608328203055135,
           0.0021049435381237983,
           0.0016589024645565116,
           0.00126302924825143,
           0.0009173221021806987,
           0.0006296120602665968,
           0.00040920711251137053,
           0.00026188217946272735,
           0.000188670991558188
          ],
          [
           0.0009927049542705147,
           0.0009657285582163098,
           0.0009158010873819763,
           0.0008504803708173198,
           0.0007794549085033607,
           0.0007124954982966838,
           0.0006568713856458768,
           0.0006183202866889716,
           0.0006049299252176958,
           0.0006324817302266239,
           0.0007278814713251394,
           0.0009253049220122686,
           0.0012539379052932,
           0.0017212949376957396,
           0.0023009526834300168,
           0.0029335408262326167,
           0.0035451547229622764,
           0.004078299181265036,
           0.004518717838785913,
           0.004902543760788679,
           0.005295143510756932,
           0.00575365744650329,
           0.006294400073393198,
           0.00688351867654587,
           0.0074560950613998134,
           0.007948260891216766,
           0.008324042321233308,
           0.008581594250094516,
           0.008739396218558406,
           0.00881338374305201,
           0.00880128045318188,
           0.008683167123568623,
           0.008435322957918373,
           0.008046254713725878,
           0.00752317296344298,
           0.0068878985779690875,
           0.006170423358081427,
           0.005406096763910809,
           0.004634096000557278,
           0.0038921214235103736,
           0.003207551466989065,
           0.002591708702323428,
           0.0020428607946794933,
           0.0015565568800307587,
           0.0011338955053888065,
           0.000783261230938665,
           0.0005147474931680954,
           0.0003348193635630317,
           0.00024518888912928265
          ],
          [
           0.001318815243213961,
           0.0012774588411443846,
           0.001201911246528322,
           0.0011052386584577845,
           0.0010035040505084305,
           0.000911879770567655,
           0.0008405828250175223,
           0.0007958470021210385,
           0.0007855601015968095,
           0.0008276884095209781,
           0.0009564210859511402,
           0.0012185174723485634,
           0.0016576599133125915,
           0.002290886378600377,
           0.0030893973253452063,
           0.0039759201987096295,
           0.004846103703070056,
           0.005609211787867684,
           0.006227360294854399,
           0.006731494135793167,
           0.007200608447281621,
           0.00771527397582945,
           0.008312502952882175,
           0.008966481266711982,
           0.00960647136436451,
           0.010155421653144389,
           0.01056582844607211,
           0.010831665572832975,
           0.010973376596045435,
           0.01100991395791125,
           0.010938983659583089,
           0.010738525592471428,
           0.010385225175346704,
           0.00987402254217823,
           0.00922252973236225,
           0.008460455236951672,
           0.007617917103222795,
           0.006723494228320473,
           0.005809190319343528,
           0.004911341906667428,
           0.004063473006525116,
           0.0032870935530139437,
           0.0025898084883899533,
           0.0019729696969079183,
           0.0014401847276224332,
           0.0010005610066187297,
           0.0006646993570416536,
           0.0004394243057603323,
           0.0003270265431233161
          ],
          [
           0.0016135826149731099,
           0.00155874257615988,
           0.0014597233202019416,
           0.0013355648487591836,
           0.0012089567782643806,
           0.0011002887454754887,
           0.0010221829786393921,
           0.0009807425982825636,
           0.0009834218538372608,
           0.0010511319465919173,
           0.0012274535291422412,
           0.0015750878910483137,
           0.002156116294275102,
           0.00300013021935568,
           0.00407648139863978,
           0.005286724626514583,
           0.0064887182195938545,
           0.007548399856808879,
           0.008394391559095736,
           0.00904640249651886,
           0.009597441560338395,
           0.010158040751753437,
           0.010795353354519314,
           0.011499406606509175,
           0.012196625188530862,
           0.012794986895670959,
           0.013231390367561553,
           0.013492394887554332,
           0.013599495601034413,
           0.013575826917663493,
           0.013421258061982539,
           0.013114041574180748,
           0.012633862530197562,
           0.011984536759159,
           0.011195506355626654,
           0.010303624687019694,
           0.00933561596685887,
           0.008307755033291172,
           0.007239545090756055,
           0.006163249697156544,
           0.005119718181658555,
           0.0041450496874529405,
           0.0032616909544072765,
           0.002481210661456595,
           0.0018119133491639218,
           0.0012637787981853936,
           0.0008470499273747185,
           0.0005679107588946938,
           0.0004286217110688557
          ],
          [
           0.0017963137211995167,
           0.001733985039493573,
           0.0016228301512897613,
           0.0014865296238812898,
           0.0013525209863341921,
           0.0012443542883079726,
           0.0011754516833897299,
           0.0011511087771240627,
           0.0011788311704072013,
           0.0012841143084105868,
           0.001522345930224348,
           0.0019748740008283163,
           0.002724625844934489,
           0.0038153295184426227,
           0.005214553198481176,
           0.006800576380215504,
           0.00838862436550182,
           0.009793872582638039,
           0.010902961071830855,
           0.011717704688752134,
           0.012343445088018526,
           0.01292519185195173,
           0.01356913765650387,
           0.014290501723780413,
           0.015018783979875053,
           0.015648018201496857,
           0.016096679063694427,
           0.016339747575999,
           0.016396504069455392,
           0.01629322817463688,
           0.01603346471290336,
           0.015599281277515739,
           0.014977671659421777,
           0.014184773065619511,
           0.013263027999180754,
           0.012254702937352606,
           0.011178677702506332,
           0.010032754887394904,
           0.008817887973803505,
           0.007558497218079144,
           0.006302807038639696,
           0.005105341658048203,
           0.004009170220729251,
           0.0030412944768501062,
           0.002217592134372346,
           0.0015492141667006042,
           0.0010447705204126702,
           0.0007081879862801462,
           0.0005405006926292358
          ],
          [
           0.001821916616652788,
           0.001762333337160949,
           0.0016577303245477336,
           0.0015331745201287116,
           0.0014168540676448651,
           0.0013317880941713979,
           0.0012899564508630965,
           0.001295635368293252,
           0.0013580431794514769,
           0.0015100316772381928,
           0.0018214780847278628,
           0.0023940846450053272,
           0.003331997484838152,
           0.004692442567902533,
           0.00644010203468793,
           0.008428754736855466,
           0.01042916149792268,
           0.01220244669725185,
           0.013588304660423637,
           0.014565300395976257,
           0.015248004077868664,
           0.015817333602649378,
           0.016424661045607292,
           0.017119224322416707,
           0.01784169963808397,
           0.018476808850559804,
           0.01892458752089021,
           0.019144475737933264,
           0.019147854110516265,
           0.0189596747357254,
           0.01858621280509378,
           0.018016280774037594,
           0.017249153845074427,
           0.0163173829371727,
           0.015277604634529714,
           0.014175626471286926,
           0.01301844154436296,
           0.011780244253286831,
           0.010438243318502453,
           0.009005142267919337,
           0.007535451005503612,
           0.006104513561699587,
           0.0047808603713456336,
           0.003611995972540533,
           0.002624595831257017,
           0.0018316078603915487,
           0.0012386972140444117,
           0.0008455804953497193,
           0.0006503787404045353
          ],
          [
           0.0017002889251399324,
           0.0016548337355842635,
           0.0015770708604275884,
           0.0014890842652760497,
           0.0014147280311078481,
           0.0013722001326770402,
           0.0013699330068702989,
           0.0014117829465215685,
           0.0015114071844343786,
           0.001712464023045103,
           0.002101710796743229,
           0.002801491548442063,
           0.0039352966637000875,
           0.005570993134246161,
           0.0076681327826225,
           0.01005563519486707,
           0.012461165828314386,
           0.014593410918932188,
           0.01624508472314558,
           0.017369000820275555,
           0.018085181194236702,
           0.018608066846997312,
           0.019135589523839536,
           0.01975703149281085,
           0.020433187518491942,
           0.021047859212366925,
           0.02148681774176553,
           0.021691929328128447,
           0.02165973476137023,
           0.021405974410507803,
           0.020935077740752005,
           0.02024302651174029,
           0.019344989788080094,
           0.018293226626579135,
           0.01715926168662754,
           0.01599082274409823,
           0.01478051657533804,
           0.013476494519473078,
           0.012029731624208648,
           0.010438725079409145,
           0.00876263381721792,
           0.0070981142505208055,
           0.005541962417112999,
           0.0041660900724020036,
           0.0030111431251344098,
           0.002093078436780363,
           0.001413861529418403,
           0.0009672441384263319,
           0.0007465675918492344
          ],
          [
           0.0014895073241154313,
           0.0014665775570800134,
           0.0014301382285631355,
           0.0013953111500775682,
           0.001377174091312094,
           0.0013856824869921977,
           0.001424536448513491,
           0.0014985150756224946,
           0.0016287081312931016,
           0.0018725479194527269,
           0.002334761885980302,
           0.0031567503498953643,
           0.004477509503947084,
           0.006371280656635485,
           0.00878999511829057,
           0.011538767360094331,
           0.014306891590464471,
           0.01675720232447753,
           0.018640692665828903,
           0.019885438418673577,
           0.0206129312648694,
           0.02106460276914405,
           0.021480272412939837,
           0.021990597503571928,
           0.022584555001134654,
           0.023156368404935054,
           0.02358637439185301,
           0.023800404820501893,
           0.02377411444817527,
           0.0235043826873714,
           0.022985862843947335,
           0.022218354438833746,
           0.021232964802277134,
           0.020102012417953247,
           0.018910722560356225,
           0.01770689374501336,
           0.01646809092732724,
           0.015117655204548351,
           0.013582070877236996,
           0.011846210573589163,
           0.00997292711821935,
           0.00807904931997409,
           0.006289823161999897,
           0.004703452014190684,
           0.003377201967534789,
           0.0023320120903203463,
           0.0015665875383861182,
           0.0010678659963297085,
           0.0008229058701134458
          ],
          [
           0.0012664844545117707,
           0.001268325366245096,
           0.0012764890946377456,
           0.0012971051535085236,
           0.0013343261513463166,
           0.0013884929076412769,
           0.0014586239688632418,
           0.0015518972400660265,
           0.0016988383710538919,
           0.0019717263318113493,
           0.0024920617561301293,
           0.003416635468788764,
           0.0048948335156961485,
           0.007002886269107289,
           0.009683745310643067,
           0.012722061290052827,
           0.015776946112888664,
           0.018476435949674734,
           0.020539737315520036,
           0.021874477148498998,
           0.022599676729891233,
           0.02297344230378856,
           0.023266673611157352,
           0.02364703244396144,
           0.024136991080914008,
           0.024653443928045964,
           0.025083557006712588,
           0.02534271515968776,
           0.025382687570345,
           0.025172943191762828,
           0.024689275759449517,
           0.0239288117642729,
           0.022934231695084885,
           0.021793763961491353,
           0.020601724633874528,
           0.01940264212903002,
           0.01815928618734077,
           0.016774537889930295,
           0.015156438566647171,
           0.013280588608925104,
           0.011214253364363339,
           0.009092426319882642,
           0.007066685603476077,
           0.0052614202598653724,
           0.0037527316922738984,
           0.0025696541622928686,
           0.0017098913305894042,
           0.0011542726176916197,
           0.0008829673658453407
          ],
          [
           0.0010925477581386705,
           0.0011146416039763993,
           0.0011587651331880335,
           0.0012227725139403313,
           0.0013007896834764641,
           0.0013845724981523151,
           0.0014694960751344265,
           0.0015659357566452212,
           0.001713793086755378,
           0.0019984356371205,
           0.002554243308687605,
           0.0035478833695023124,
           0.0051335539210819545,
           0.007386080107576156,
           0.010240232604281134,
           0.013466332736135503,
           0.016704661643158217,
           0.019562885781565807,
           0.02174166538172522,
           0.023134916350087412,
           0.023855662190460848,
           0.024166038971260153,
           0.02435266534802703,
           0.024610517668575162,
           0.02499655651435606,
           0.025460466537626767,
           0.02590891025685161,
           0.026255156965526712,
           0.02642832275003857,
           0.026366150075349128,
           0.02601898899484484,
           0.025374425933677905,
           0.024479230547963627,
           0.023428861987737918,
           0.02231782034842543,
           0.02118110852290823,
           0.019966054367582718,
           0.018560566024852905,
           0.016862876400879252,
           0.014846430258537211,
           0.012585223801486512,
           0.010230203215005304,
           0.007955877829852798,
           0.005911741595287491,
           0.004195333771011064,
           0.002848673092737115,
           0.0018730473361849775,
           0.0012458365527792106,
           0.0009409361326537248
          ],
          [
           0.0009934889664095863,
           0.001026813058326577,
           0.0010906348925883275,
           0.0011775983647808357,
           0.0012752177980089713,
           0.001369468940999193,
           0.0014534735307405369,
           0.0015403768912691275,
           0.0016770519355342175,
           0.0019574933107356016,
           0.0025229469407545614,
           0.0035434465540314032,
           0.005172812286367286,
           0.007482607364026498,
           0.010402416457859756,
           0.013696531414524593,
           0.01699951948338719,
           0.019914439002768056,
           0.02213787259981094,
           0.02355813434621911,
           0.02427998902447269,
           0.024557350631744433,
           0.024675877966857867,
           0.024844667042653087,
           0.02515096083997201,
           0.02558199077075144,
           0.0260731114694005,
           0.026544078089299837,
           0.026906885923121487,
           0.027069937980318384,
           0.02695784787718258,
           0.026545208104792016,
           0.02587522610294201,
           0.025039124732709896,
           0.02411891258954066,
           0.023130191944200684,
           0.02200128893910858,
           0.020608478805850296,
           0.018847458285591877,
           0.01669589853983268,
           0.014236572426329336,
           0.01163424052743789,
           0.009083665619462236,
           0.006760068186424154,
           0.004787692504991392,
           0.003229556622890534,
           0.002097906151435853,
           0.001371210389862643,
           0.0010187065845544657
          ],
          [
           0.0009618898406355148,
           0.0009968023541009079,
           0.0010633921838787907,
           0.0011531192773205116,
           0.001251304248780167,
           0.0013414933199975426,
           0.0014156679572139247,
           0.0014881509185900917,
           0.0016087699369168084,
           0.0018742475898552364,
           0.0024260842464319788,
           0.0034315790111159625,
           0.005040218938459806,
           0.007319932954548558,
           0.010199217049387444,
           0.013444745299527175,
           0.01669742324905488,
           0.01956962104336699,
           0.02176683099683952,
           0.023180106753493253,
           0.023906294364011385,
           0.02418287486832377,
           0.0242809729612333,
           0.024410214502928664,
           0.024679098520047456,
           0.025109585282263803,
           0.025668132425449106,
           0.026287130685850042,
           0.026870191509796425,
           0.027306168565556947,
           0.02750205954204554,
           0.027422392826144275,
           0.02710233803402255,
           0.026617782809735268,
           0.026024190585991543,
           0.025305202467840016,
           0.02436242017598888,
           0.02305794808745812,
           0.021285322961805336,
           0.019026523152435516,
           0.01637138456642434,
           0.013496273403270023,
           0.010617059536194663,
           0.007941116882053128,
           0.00563085137005768,
           0.0037833073448382327,
           0.0024320966356200947,
           0.0015624773829019225,
           0.0011407153648321522
          ],
          [
           0.0009741661202730478,
           0.0010040082203435388,
           0.0010619667162048312,
           0.0011416434130790097,
           0.0012298518112238705,
           0.0013103777191558659,
           0.0013745719635781114,
           0.0014358123013422826,
           0.0015426582601942775,
           0.001789092775364841,
           0.00231155790899014,
           0.0032704661746060675,
           0.0048089920209244035,
           0.006992150717721334,
           0.009750881538401264,
           0.012860009528685566,
           0.015974304233164857,
           0.018724010945299827,
           0.02083229745554702,
           0.022200430324399573,
           0.022921387186439046,
           0.02321515907726296,
           0.023331829265496366,
           0.023470930982506962,
           0.02375011623145963,
           0.024215701401095226,
           0.024859822850316467,
           0.025629671280536892,
           0.02643076474536793,
           0.027148102776987502,
           0.027686751823406287,
           0.028010941629418244,
           0.02814866557496806,
           0.02815327867489705,
           0.028042077985589345,
           0.027754063194575025,
           0.02715206804353862,
           0.026072168365838415,
           0.02439337364553154,
           0.022089759112968007,
           0.019249151522407554,
           0.016057463181564167,
           0.012759510573356697,
           0.009611737044666422,
           0.006836117138528787,
           0.0045834519949034805,
           0.0029218995229323332,
           0.0018490458426886432,
           0.0013284870395496836
          ],
          [
           0.0010080295410514837,
           0.0010308932064869445,
           0.0010772127380274132,
           0.001144243177186641,
           0.001222108972189327,
           0.0012961251819555224,
           0.0013569561439057,
           0.0014151943416026,
           0.0015150229427956289,
           0.0017441624167037365,
           0.0022313025231284886,
           0.0031286875044872512,
           0.004573491204469669,
           0.00662921930708526,
           0.009231029647856529,
           0.012163232620874279,
           0.015095332563728105,
           0.017676576458416297,
           0.01965064437603633,
           0.020934554215812015,
           0.02162494914448604,
           0.0219311631599969,
           0.022084419175139505,
           0.022268803194677063,
           0.022598550235299702,
           0.023128794222364458,
           0.023865656310157586,
           0.024769308123343742,
           0.02575712146093856,
           0.026728485389554815,
           0.027606251446548106,
           0.0283689191075781,
           0.02904405345151982,
           0.029662215045888438,
           0.03019750499998071,
           0.030534867773491292,
           0.03048295837112619,
           0.02982871840419557,
           0.02840767658314608,
           0.026157748345123723,
           0.023146513164802148,
           0.019568414339959064,
           0.01571480543490879,
           0.011921591757012998,
           0.00850345048829771,
           0.005691449827924558,
           0.0036030625075328987,
           0.002251975467735963,
           0.001596652509213326
          ],
          [
           0.0010493748002411406,
           0.0010676033257879572,
           0.00110661584982377,
           0.001166912790886663,
           0.0012417692013860769,
           0.0013179724063192967,
           0.0013851495716886168,
           0.0014500835605483777,
           0.0015511700591254592,
           0.0017687218033418193,
           0.0022236986320437343,
           0.003061582823147245,
           0.004415836714974837,
           0.006350323653884738,
           0.00880445380807496,
           0.011569285450676738,
           0.014323881462610776,
           0.016730744691497764,
           0.01855096843154889,
           0.01971988974551724,
           0.02034673494613755,
           0.020642446384327075,
           0.020828689701847293,
           0.021074472772575778,
           0.02148031448830659,
           0.022093522196704893,
           0.02291982905822302,
           0.023927918026065958,
           0.025054900251011748,
           0.026231208125491234,
           0.027416363620615218,
           0.02861895888595294,
           0.029877707832727113,
           0.031208465111708363,
           0.03254636922830698,
           0.033718614925282914,
           0.0344622079839605,
           0.03448098034227918,
           0.033521865128759716,
           0.03144372758421886,
           0.028268906949963736,
           0.0242028872017443,
           0.019612095217318715,
           0.014954915425663436,
           0.010680966673134696,
           0.007131534943219671,
           0.004486884292446449,
           0.002776999518260274,
           0.0019491821313285434
          ],
          [
           0.0010887290894239239,
           0.001106944749392175,
           0.0011468504131350618,
           0.0012106114990473715,
           0.001293251642086803,
           0.0013821894366519807,
           0.001465667230457024,
           0.0015465011201195038,
           0.0016573028565094769,
           0.0018715456956394443,
           0.0023041721380913935,
           0.003096846230587976,
           0.0043827278819194605,
           0.006228319670877907,
           0.00857668155655641,
           0.01122109768631217,
           0.013841972530465629,
           0.016105248230501655,
           0.017781806159566826,
           0.018824025384721495,
           0.019360806014270624,
           0.01961798696425279,
           0.01982051305960276,
           0.02012743156066685,
           0.020619678118938972,
           0.02132312397609617,
           0.022229915649971566,
           0.02331172164549007,
           0.024529849530436472,
           0.02585731503412005,
           0.0273042053733098,
           0.028922932315484835,
           0.030777697824862546,
           0.03288507852987793,
           0.03515420653973866,
           0.037356382206234565,
           0.0391383655821827,
           0.04007930234801215,
           0.03978248796994492,
           0.0379784761624406,
           0.03462030076002383,
           0.029934602466691308,
           0.02440108612860491,
           0.018650197879806454,
           0.013309527222509047,
           0.008856369855450116,
           0.005541095450322106,
           0.003404725294863108,
           0.0023738779753911263
          ],
          [
           0.001113976111800607,
           0.0011369018071724826,
           0.001186052729328487,
           0.0012635336229503435,
           0.001364491821923947,
           0.0014760446140486565,
           0.0015848987044616192,
           0.0016903151892747287,
           0.0018198049788962453,
           0.0020411662892548723,
           0.002465353456496286,
           0.0032332994487228074,
           0.004481413513485506,
           0.006281519031721968,
           0.008580441624467531,
           0.011170082189551744,
           0.01372443098981092,
           0.01590224266195307,
           0.017473848785151326,
           0.018403063009404176,
           0.018840929484371854,
           0.01903841789277158,
           0.01923657879307609,
           0.019592938674117318,
           0.02016859980285835,
           0.02096032630438347,
           0.02193747320362059,
           0.023069468760674273,
           0.024342386546242496,
           0.025776592840501013,
           0.027439507491900703,
           0.02943661236790026,
           0.031871620510707424,
           0.03478050258712528,
           0.038063455879430066,
           0.04143990558008487,
           0.044447043424360795,
           0.046496338847889826,
           0.04699429821407741,
           0.04550190628488863,
           0.04189165810992541,
           0.0364339058113679,
           0.029765582662118234,
           0.022734680235619097,
           0.01617765247941074,
           0.010718674791594223,
           0.006673254035524916,
           0.004081077310286675,
           0.0028360118257893412
          ],
          [
           0.0011089405266264962,
           0.00113996143660672,
           0.001204433402943953,
           0.0013032642485722727,
           0.0014306165389051829,
           0.0015727426745212767,
           0.0017149031363908036,
           0.0018534216889769632,
           0.0020114669781998986,
           0.002252153902084807,
           0.0026839437557244824,
           0.0034493758804832126,
           0.004691067745200821,
           0.00648899221234006,
           0.008795144348907963,
           0.011398784669863608,
           0.013962303671041506,
           0.016128049832964227,
           0.0176544034364738,
           0.01850714063685614,
           0.018856363972429055,
           0.018983336528394745,
           0.0191558716252067,
           0.019540413143215866,
           0.020183603944407644,
           0.021052449924894138,
           0.022089625813574473,
           0.023258378659847513,
           0.024566806568319405,
           0.026080940094090045,
           0.027925070675605602,
           0.03026117370556461,
           0.03324255459150379,
           0.03694039676845847,
           0.04126007494949597,
           0.04587031680873958,
           0.05017928827096209,
           0.05339447789577146,
           0.05468865730021661,
           0.053435915098239806,
           0.049441420108210496,
           0.043057134754076444,
           0.03512058074942765,
           0.026726331046658173,
           0.01892518659354101,
           0.012474177441495404,
           0.007731838655848125,
           0.004716547447229179,
           0.0032764871133349584
          ],
          [
           0.0010607596339752257,
           0.00110132233498338,
           0.001183825836834922,
           0.001307649428942169,
           0.0014656334478632784,
           0.0016431206224055907,
           0.0018242441636735045,
           0.0020030522664933824,
           0.0021990823225482062,
           0.002471531954797523,
           0.0029273100943782047,
           0.0037119702221698266,
           0.004976268515183979,
           0.006810651107962646,
           0.009174339120420724,
           0.011854652884610982,
           0.014499942159587427,
           0.01672925434956804,
           0.01827815729910614,
           0.019102866837004594,
           0.01938523695673731,
           0.019437181171357218,
           0.019560956936038237,
           0.01994297705355356,
           0.020625121243401993,
           0.021550236962634462,
           0.022635612116742136,
           0.023836175003605645,
           0.025177190903672667,
           0.0267637736717207,
           0.028770621449741476,
           0.03141342984108485,
           0.03489829654264408,
           0.039339183573841516,
           0.044651849918529204,
           0.05044925435395533,
           0.05599293185811814,
           0.060264741928699864,
           0.062194411013435494,
           0.0609859019788483,
           0.056419315847507964,
           0.048978859229445816,
           0.0397374574898146,
           0.030039391378074026,
           0.021122520072714222,
           0.013834268095951813,
           0.008536885466448041,
           0.005201797531590194,
           0.003619977746514869
          ],
          [
           0.0009693871406434116,
           0.0010189689683879454,
           0.0011186607171061102,
           0.0012666132854965931,
           0.0014546492743439945,
           0.0016675768798150143,
           0.0018888983833807728,
           0.0021111041739364147,
           0.0023509778103499588,
           0.00266473437381552,
           0.0031585582679919746,
           0.003981691696105682,
           0.005293635658918,
           0.007196228502813658,
           0.009657296850679033,
           0.012463512993704674,
           0.015248774902828943,
           0.01760483910406644,
           0.019236240396519836,
           0.020079102521599845,
           0.020318294480726744,
           0.020293268044622195,
           0.020344806857325412,
           0.020688789236854233,
           0.021373613493078737,
           0.02232747559855986,
           0.02344745622589523,
           0.024679815231036795,
           0.026061232508330555,
           0.027726353092009506,
           0.029889713371673197,
           0.03281260581811843,
           0.03674953482119658,
           0.041854705586481036,
           0.048049207579239424,
           0.05487997477164755,
           0.061450439708699844,
           0.06651571131030623,
           0.0687846215399602,
           0.06734018169429715,
           0.06200092029204114,
           0.0534358085771339,
           0.04297063303837678,
           0.03217365311397591,
           0.022413103059669204,
           0.014563052575903741,
           0.008940305513441089,
           0.005443322425168489,
           0.003798483845452872
          ],
          [
           0.0008516346280220929,
           0.0009080620466876777,
           0.0010209512488099984,
           0.0011878105898233036,
           0.001400086975177614,
           0.001642659713714536,
           0.0018990274598331726,
           0.0021609728710687832,
           0.0024437650691073905,
           0.0028020134634557745,
           0.0033421404149730372,
           0.0042170853189616685,
           0.005594103021365869,
           0.00758522605805703,
           0.010166529431502638,
           0.013124881173208366,
           0.016080947533040194,
           0.018599016192124194,
           0.020349422809358496,
           0.021242005875296885,
           0.0214575023458441,
           0.02135774352692989,
           0.021321674817088528,
           0.021599790556674013,
           0.02225615402296506,
           0.023214211991578543,
           0.024357545605843554,
           0.025624374702889037,
           0.027056824328463236,
           0.0288082269595549,
           0.03112044435912186,
           0.03428901720508067,
           0.038607052051393066,
           0.04425918955893372,
           0.05116095892900819,
           0.05878403905730532,
           0.06607466399890202,
           0.07158303211089491,
           0.07384519549984017,
           0.07189008198966484,
           0.06563921312723314,
           0.05598284873224402,
           0.04449168955068278,
           0.032908158782565824,
           0.022659230798896306,
           0.01457797695867364,
           0.00889077384170129,
           0.0054046942248147335,
           0.003781067034976849
          ],
          [
           0.0007344034344312498,
           0.0007944486915988903,
           0.0009144095389746604,
           0.0010917335003236234,
           0.0013181861446798302,
           0.0015793660918512452,
           0.0018594417495284075,
           0.0021504315011055086,
           0.002467564959045429,
           0.002865455389069421,
           0.0034516051065876844,
           0.0043818088467768,
           0.005828403994113119,
           0.00791025318921643,
           0.01060947377954399,
           0.013713446587981848,
           0.016832649026579966,
           0.019508394880947594,
           0.021380409186077386,
           0.022332700489828577,
           0.022538475347481553,
           0.022375880889182,
           0.0222566046752034,
           0.022464160767660724,
           0.023081715828007512,
           0.024034534461573498,
           0.02519814451200412,
           0.026503108102666387,
           0.027991139358945233,
           0.029823616971906768,
           0.03225749255232009,
           0.03561080121023007,
           0.040203891681528825,
           0.04624037673874367,
           0.05362110299227049,
           0.06174272679620853,
           0.06941347403484766,
           0.07502216424310859,
           0.07699426936231107,
           0.07436764631355422,
           0.06720763070262357,
           0.056627727928169794,
           0.044405333688742464,
           0.03239328568219786,
           0.022010522352916662,
           0.013998696620000226,
           0.00846856682451807,
           0.005132830170899563,
           0.0035961735955198715
          ],
          [
           0.000641697117820542,
           0.0007018685588915574,
           0.0008221146980553464,
           0.001000218180431353,
           0.0012288146852243438,
           0.0014947950681503395,
           0.0017836528499913934,
           0.0020885715342267336,
           0.0024260841006869295,
           0.002852086603461694,
           0.003475323365727362,
           0.00445254072433003,
           0.0059571198015937,
           0.008109960341418788,
           0.010895981897210657,
           0.014103475232598285,
           0.017337761311530194,
           0.020126144401031616,
           0.02208778327973489,
           0.023087991261025023,
           0.02329336295904124,
           0.02309235265159561,
           0.022919557252966672,
           0.02308279647038597,
           0.02368045612893847,
           0.024640493125506,
           0.025832476578264835,
           0.02717845962653977,
           0.02871424216699589,
           0.03059998453695541,
           0.033097423350056485,
           0.03653710957663613,
           0.041256973080844986,
           0.047471418079968096,
           0.05506555440949763,
           0.06337665716225299,
           0.07111478467134903,
           0.07656812131397844,
           0.07811533475194,
           0.07484443147850892,
           0.06696422486492433,
           0.05576871966765744,
           0.04317449597459712,
           0.031078217326543558,
           0.020844987133076098,
           0.013106880839484058,
           0.00786347321317029,
           0.004749452673032709,
           0.0033301816232787283
          ],
          [
           0.0005838646678681686,
           0.0006411332691415744,
           0.0007556378270116053,
           0.0009256436087193012,
           0.0011449955931270414,
           0.0014023640295703712,
           0.001685215515207685,
           0.0019887403300219374,
           0.0023316423380777087,
           0.0027715485259474067,
           0.0034175618547373303,
           0.00442455911600378,
           0.005962358112415789,
           0.008148892893487447,
           0.01096870785672471,
           0.014211919855936644,
           0.017485041606610883,
           0.02031292781682708,
           0.022308059010733045,
           0.023328489981833133,
           0.023538363439028764,
           0.023331245206243342,
           0.023152489939363658,
           0.02332067519838798,
           0.02393965725153611,
           0.024935698296396712,
           0.026171102191755016,
           0.027557496094069007,
           0.02912013574356084,
           0.031010706358613117,
           0.03348768628219486,
           0.0368861385480095,
           0.04155420892425794,
           0.04771354390143569,
           0.05524190446361499,
           0.06344802726376314,
           0.07100085951758378,
           0.07615911463734723,
           0.07731196479273195,
           0.07361121378126823,
           0.06536695796762292,
           0.053971078593437784,
           0.04139066826175819,
           0.029504790776850108,
           0.01960512710594457,
           0.012229888364822316,
           0.007300329780611736,
           0.004406320754975181,
           0.0030977082722564594
          ],
          [
           0.0005567892792367438,
           0.0006088816562664233,
           0.0007129886488798898,
           0.000867800004287521,
           0.001068558812261131,
           0.001306219561767234,
           0.0015709729930652601,
           0.0018608106175162825,
           0.0021969101115955516,
           0.0026381294818805376,
           0.0032921158364608983,
           0.004308702369093585,
           0.005849999179066686,
           0.00802694980182055,
           0.010821437531391184,
           0.014026774626128419,
           0.01725694262994985,
           0.02004562913343146,
           0.022012470054105088,
           0.02302014295640438,
           0.023235369313735564,
           0.023052569196173812,
           0.022916018338068663,
           0.02314076617505714,
           0.023824700553681584,
           0.02488606143821773,
           0.026177380706197368,
           0.027598153494675218,
           0.029159824285057628,
           0.03100008119572951,
           0.03336728441030921,
           0.03659340337687971,
           0.0410299418468712,
           0.046904628653628155,
           0.05410183367388,
           0.061941043221078476,
           0.06911515241224374,
           0.07392664488696979,
           0.07482383718424229,
           0.07101618303520077,
           0.0628477754920737,
           0.05170539341156008,
           0.03951097726399517,
           0.02807325106718895,
           0.018610344436470992,
           0.011603855141051191,
           0.006945799109485772,
           0.0042225940740256915,
           0.0029943757741379413
          ],
          [
           0.0005501165013274301,
           0.0005953498473330924,
           0.0006855016803208839,
           0.00081951960158382,
           0.0009942015240071548,
           0.0012034251248629804,
           0.001441069146676499,
           0.0017087730143057656,
           0.002030128378465057,
           0.002464130418154997,
           0.0031148562075722377,
           0.004124441107399096,
           0.005644574446946757,
           0.0077769240184011315,
           0.01049955693661529,
           0.013610198825912504,
           0.016734872711539894,
           0.019424340468734265,
           0.0213155961260163,
           0.0222846051722993,
           0.022503999676852453,
           0.022365268983619405,
           0.0223021745922733,
           0.022615292819041084,
           0.023388294794657177,
           0.024527559207969438,
           0.025875255513948165,
           0.027318799355177954,
           0.028854097591804427,
           0.030600239540203387,
           0.03278834198649512,
           0.035738294478873785,
           0.039796374876295476,
           0.04519401956910844,
           0.05183525514697006,
           0.05908773458835635,
           0.06572899853480979,
           0.07017152730765443,
           0.07096382590281207,
           0.06736206750795354,
           0.05967772756192911,
           0.049195872197017404,
           0.03770732067518083,
           0.026907093659399202,
           0.01794592555452299,
           0.011288179712713472,
           0.006844386113154542,
           0.004235675954010114,
           0.0030550336805158056
          ],
          [
           0.0005578225036854659,
           0.0005947592468958883,
           0.0006678849457337143,
           0.0007762423862524746,
           0.0009183906021125894,
           0.0010918867393842884,
           0.0012953945381508093,
           0.0015350629633808525,
           0.0018367470486083646,
           0.0022584747950099293,
           0.0028991862043663535,
           0.0038920474457320394,
           0.005377697050936255,
           0.007448257308094947,
           0.010077821721666722,
           0.013068976070431261,
           0.016061566562394197,
           0.01862704390864626,
           0.0204243644810665,
           0.021346157873577378,
           0.021570961090093953,
           0.021483383324460353,
           0.021500481939015534,
           0.021902998382513132,
           0.02275835923401466,
           0.023962633092538772,
           0.02535093146779117,
           0.026801150267064453,
           0.028293315604569977,
           0.029923764774890036,
           0.03189866812935701,
           0.034515369892806194,
           0.038104127078710893,
           0.042894271108754406,
           0.048816185593480554,
           0.055311866746487755,
           0.06128845345898912,
           0.06531918865153183,
           0.06608684467875878,
           0.06289153976461548,
           0.05596854835213957,
           0.0464340872570121,
           0.035885837990101976,
           0.02587147932492154,
           0.017475210279770313,
           0.01116891174362273,
           0.006913147401129456,
           0.004389279295880212,
           0.0032382864664960175
          ],
          [
           0.0005832197626075348,
           0.000610508309750525,
           0.0006637756007555097,
           0.0007420706247001374,
           0.0008459365547298875,
           0.000977272435525636,
           0.0011404507402694478,
           0.001346803667725162,
           0.0016244164598641128,
           0.002029815541812288,
           0.0026565311818827556,
           0.0036294469647704004,
           0.005079797860593938,
           0.007091747792005216,
           0.009635937726911716,
           0.012519104525829706,
           0.015393576688984582,
           0.01785024319182456,
           0.01956889142079143,
           0.020456854829846428,
           0.020695195615726896,
           0.020657447987560706,
           0.020740970006334934,
           0.021206920984946705,
           0.02211070817665413,
           0.023344863987488463,
           0.024744134409931114,
           0.02618122986310738,
           0.027620898094957665,
           0.029133442464378358,
           0.030893307906304245,
           0.03316556956447569,
           0.03625347082691797,
           0.04037550336514283,
           0.04548678408307784,
           0.05111371325476158,
           0.0563155324166754,
           0.05985567979313691,
           0.060576619938177395,
           0.057832341496156736,
           0.051771201012046644,
           0.04331398126461684,
           0.033834692324256406,
           0.024710994775288094,
           0.016951645340750943,
           0.011039069188808398,
           0.006992725160629914,
           0.0045630514128624945,
           0.003445045879842579
          ],
          [
           0.0006354140519907414,
           0.0006520535102285522,
           0.0006834151326039741,
           0.0007285099197183541,
           0.0007899429404261752,
           0.0008741886787282595,
           0.0009916725806331803,
           0.0011591320663014311,
           0.001407042313513369,
           0.0017908063912791031,
           0.0023998841369160303,
           0.0033535264405335093,
           0.0047771064195847234,
           0.006749763151556301,
           0.00923959977027892,
           0.012055773072935769,
           0.014859244452790384,
           0.017255286175644174,
           0.01893901853505717,
           0.01982667667365535,
           0.0200962626667537,
           0.020106152379224543,
           0.020233411168297633,
           0.020723593574843976,
           0.021627933465353515,
           0.022844632946006728,
           0.0242158202315621,
           0.025613759011014765,
           0.02698946088097702,
           0.02838624769048428,
           0.029943627106078136,
           0.03188862782038196,
           0.03448930628092328,
           0.03794392762613534,
           0.04222383379198286,
           0.04693444709011114,
           0.05128699923883852,
           0.054241885656563266,
           0.05481521278993022,
           0.05243339740561634,
           0.04717570122085543,
           0.03977818389513788,
           0.031390998151042564,
           0.023211340889430523,
           0.016156794841038772,
           0.010705147221863422,
           0.006924020780484051,
           0.004627202626202195,
           0.0035617147640853034
          ],
          [
           0.0007209495753524207,
           0.0007269857762947328,
           0.000736483294490652,
           0.0007482319173468491,
           0.0007665502057564985,
           0.00080195554305838,
           0.0008703988807405098,
           0.0009936831582345405,
           0.0012050896236774577,
           0.0015603244930746678,
           0.002147649549008749,
           0.003084843113901327,
           0.004496080146034489,
           0.006459036843934977,
           0.008940294212397483,
           0.011749039465747112,
           0.014549518127856407,
           0.01695406863236585,
           0.018665132866331435,
           0.019600145606547426,
           0.019927790730068357,
           0.019987880404705914,
           0.020138091626456404,
           0.020613708344752735,
           0.02146992837005755,
           0.02261888873569305,
           0.02391638215983034,
           0.0252382312002826,
           0.0265245118913845,
           0.027794371054182393,
           0.02915474937130518,
           0.03079497091946481,
           0.03294472344586641,
           0.03577451843302307,
           0.03926005838658428,
           0.04306992077910712,
           0.046550057987395733,
           0.048845326088458874,
           0.049146135354163026,
           0.046969989670955406,
           0.04236001451905715,
           0.03590217524169938,
           0.028544865869436047,
           0.021306623374347054,
           0.014998184876352932,
           0.010069285468878217,
           0.006614487305290147,
           0.00449674127948663,
           0.003508094301855048
          ],
          [
           0.0008373141529582104,
           0.0008346675464492183,
           0.0008259147216933789,
           0.0008090166700465819,
           0.0007889301179579448,
           0.000778714929222249,
           0.0007984117609798784,
           0.0008741242463347367,
           0.001042718873286112,
           0.0013626457599348776,
           0.001925013521373469,
           0.0028511070526857827,
           0.004268819159505371,
           0.00625786087318294,
           0.008784172549285154,
           0.011654359597580329,
           0.014530136691662598,
           0.017022753368400444,
           0.018832957418003813,
           0.019871120673634297,
           0.020290539603081473,
           0.02040986379108856,
           0.02056894068569228,
           0.02099777374231481,
           0.021761846455828283,
           0.022792721520880212,
           0.023963629783622806,
           0.025157078830406396,
           0.026306670509822556,
           0.02741431678753579,
           0.028562383337248403,
           0.029908720090854293,
           0.03164648264941182,
           0.03391405872457153,
           0.03667993046932934,
           0.03965607791505258,
           0.04229716076005026,
           0.043907624727064845,
           0.043840471533558883,
           0.04171532825790956,
           0.03757235925823951,
           0.03188957483454069,
           0.025446840731812748,
           0.019096155859779626,
           0.01353227002808501,
           0.009155828596410988,
           0.00606663180046447,
           0.004160978872991544,
           0.003267333534603168
          ],
          [
           0.0009734393656071973,
           0.0009664411261098949,
           0.0009474928399183177,
           0.0009124086736000176,
           0.0008647851951347683,
           0.0008178026370187484,
           0.0007935257304795972,
           0.0008215342103324286,
           0.000943550016651947,
           0.0012240219003332835,
           0.0017615870756990256,
           0.0026861292496909613,
           0.004133753581756244,
           0.006189200740603034,
           0.00881840058017912,
           0.011822848500433912,
           0.014856086234459985,
           0.017520073774051334,
           0.019504553205269483,
           0.020704441031253296,
           0.02125186623512398,
           0.021442360005632356,
           0.02159981193588698,
           0.02195325851034613,
           0.022582909031989166,
           0.023442806408595286,
           0.02442549173703927,
           0.025422872566954486,
           0.026367971275397223,
           0.02725525544303002,
           0.02815399959492021,
           0.02920033968193223,
           0.030556044061972445,
           0.032326146943483555,
           0.034463176179718724,
           0.03670459679300003,
           0.03858711843421328,
           0.03954530953478683,
           0.03907418238623315,
           0.03689524486178403,
           0.03306864696706762,
           0.0280010611552027,
           0.022338116232662533,
           0.016784274164697226,
           0.011918861869209112,
           0.00808158297809684,
           0.0053621579161225634,
           0.0036776292043934535,
           0.0028851542107870966
          ],
          [
           0.0011157320724900148,
           0.00111076036748379,
           0.0010933515415091693,
           0.0010551630525716146,
           0.0009956803520128415,
           0.0009252454811075707,
           0.0008657290226678505,
           0.0008496422439200018,
           0.0009252542318102751,
           0.0011666076681652465,
           0.001684505722235579,
           0.002622035248630981,
           0.004127245975693755,
           0.006292298540765723,
           0.009083497838016293,
           0.012294854716698727,
           0.015566360552475556,
           0.018482560031768836,
           0.020712723725507528,
           0.022127871644590614,
           0.02283355721070463,
           0.023101081920629228,
           0.023241060681829333,
           0.023486133683702753,
           0.023935204541215754,
           0.024566972036591028,
           0.025294362900862268,
           0.026020998045164907,
           0.026685173112737617,
           0.027283763742509428,
           0.02788459632863926,
           0.028612398534520057,
           0.02960406053086221,
           0.030932712063791196,
           0.03253033210577565,
           0.03414720259710988,
           0.03538021878125053,
           0.03576623568702418,
           0.03491747134117919,
           0.03264653939987988,
           0.029042460335413058,
           0.024464984796047223,
           0.019454346884541736,
           0.014589456470392935,
           0.010343912289890067,
           0.006995504527202335,
           0.004617296036180342,
           0.0031396048599172197,
           0.0024425905239787073
          ],
          [
           0.0012551735001932406,
           0.0012591122513556053,
           0.0012558089520579288,
           0.0012305344711227026,
           0.0011758248273439778,
           0.0010964573035623535,
           0.0010123654753705744,
           0.0009589554526221889,
           0.0009928346091852224,
           0.0012008057014132021,
           0.0017095355825345296,
           0.0026787422636157074,
           0.004271037932590902,
           0.006587607992299905,
           0.009595066118253275,
           0.0130774306536394,
           0.01665580520267341,
           0.019889392426457222,
           0.022418042617377038,
           0.024081481096214746,
           0.02495496387018617,
           0.02528655967867304,
           0.0253782512299966,
           0.02547217692599672,
           0.025690479340228528,
           0.026038579915767017,
           0.026450108698508727,
           0.026841196415949658,
           0.027158880203380316,
           0.02740929214273278,
           0.027667690361047596,
           0.02805618534427836,
           0.02869365877293438,
           0.029625232243080248,
           0.03076208369861114,
           0.03186068252949097,
           0.032562966330804355,
           0.032485250116419,
           0.03133220771378978,
           0.02899004711467669,
           0.025573407692220933,
           0.02140679503907018,
           0.0169458641296881,
           0.012665389799712198,
           0.008948724402167263,
           0.006019216647083033,
           0.003934123339679741,
           0.002634307612184765,
           0.0020193986932855097
          ],
          [
           0.0013903662055460798,
           0.0014083200202943166,
           0.0014284151802521133,
           0.001427927358880204,
           0.0013905374560452468,
           0.0013139169074994246,
           0.0012153742553014369,
           0.0011336755067839909,
           0.0011350797936739532,
           0.0013209274528649343,
           0.0018355017962746493,
           0.002856611013729195,
           0.004562377978536645,
           0.007063293543947302,
           0.01032513495881858,
           0.014118690368523507,
           0.01804073940004808,
           0.021618283731292046,
           0.024455437070279643,
           0.026357246128449252,
           0.027369686937160992,
           0.027722924795295298,
           0.027717860302543404,
           0.027613069944249658,
           0.027557977289208932,
           0.027585182825843636,
           0.02764686567393907,
           0.027669050723241155,
           0.027606592313856572,
           0.027476908599968874,
           0.027367577911797045,
           0.02740496896135105,
           0.027697403502185268,
           0.028268541757185798,
           0.029012424246223103,
           0.029690005420206937,
           0.029978833320548223,
           0.02955720283817501,
           0.028200076243903274,
           0.025847394411719495,
           0.02262887424858735,
           0.018836134136408084,
           0.0148537026188624,
           0.01107088027291574,
           0.007798117700336332,
           0.005216132700012574,
           0.0033716330550867166,
           0.0022164436175872676,
           0.0016678313046859278
          ],
          [
           0.0015234996561942114,
           0.0015568676031242421,
           0.0016029943844099663,
           0.0016309699120088128,
           0.0016155323010545062,
           0.0015475839580919343,
           0.0014424444390093716,
           0.0013429741252897068,
           0.001325334880529679,
           0.0015050409017400004,
           0.0020430626050922584,
           0.0031341130509227938,
           0.004970392455553693,
           0.0076697677341006874,
           0.011194042967883271,
           0.015296268830794685,
           0.01954380902467145,
           0.023427609607636683,
           0.026515745140736045,
           0.02858326960372454,
           0.02965615527911135,
           0.029958136540886415,
           0.029799119561323965,
           0.029459853620880386,
           0.02911731973045199,
           0.028826880734038142,
           0.028552162955565626,
           0.028221678330294864,
           0.02779239461313494,
           0.0272905322276421,
           0.02681752159700711,
           0.026509657951587294,
           0.02647326148316629,
           0.026719708382665536,
           0.027132549333037333,
           0.027478519023641113,
           0.02746476040560742,
           0.026818094746665758,
           0.025365204076351584,
           0.02308123113444182,
           0.020098418484095527,
           0.016673266893753425,
           0.013127500581400758,
           0.009779933401067845,
           0.006884086806599009,
           0.004590282386333942,
           0.0029412210241079486,
           0.0019014542121867193,
           0.0014050917363795541
          ],
          [
           0.001651997348471815,
           0.0016981051229906707,
           0.0017657025654086809,
           0.001817205703063993,
           0.0018203414790432721,
           0.0017614071653653932,
           0.0016553809756880782,
           0.0015497659759613276,
           0.001529448880735365,
           0.0017214257172770524,
           0.0022996748969720793,
           0.00347183609310249,
           0.005439983876971601,
           0.008324634262488358,
           0.012078087062575849,
           0.016430157397608818,
           0.02091541285447012,
           0.024990370434362797,
           0.02819581559059378,
           0.0302922522656789,
           0.03130452852287566,
           0.031466952108042234,
           0.031108571366821228,
           0.0305331705579061,
           0.02993800774333128,
           0.029389135032062908,
           0.028848580047887117,
           0.028236035217694622,
           0.027502281714244903,
           0.026677792640827966,
           0.025877741786752666,
           0.02525332135684013,
           0.024917967248445274,
           0.024881379654718375,
           0.025024718497370844,
           0.02512295070020904,
           0.02490822312077201,
           0.024144994421061987,
           0.02269682166915228,
           0.020559149587819632,
           0.0178561834518952,
           0.014806616604575717,
           0.011675147471383939,
           0.008721686665225633,
           0.006155742570946961,
           0.004107398046867246,
           0.0026209504254319786,
           0.0016753175399621416,
           0.0012209700248532627
          ],
          [
           0.0017612360271813384,
           0.001814885897483698,
           0.0018951198532911272,
           0.0019604738104391996,
           0.0019749302739943578,
           0.0019232477035858071,
           0.0018218092370615654,
           0.0017225174483212575,
           0.001716331494959534,
           0.0019371712815741582,
           0.0025662942132649957,
           0.003818090469686301,
           0.005897939662616381,
           0.008921955220236342,
           0.0128260098008468,
           0.017311954418598775,
           0.02188213002879115,
           0.02596760095174727,
           0.02910015373698891,
           0.031050506943689528,
           0.03186764794287554,
           0.031814835826136215,
           0.031246445007303933,
           0.030482359842744507,
           0.02972394315714327,
           0.02902869286986529,
           0.028340264159720224,
           0.027557789124452635,
           0.026618792197823597,
           0.025554422334566312,
           0.024493145809412125,
           0.023604598080822308,
           0.023016874909743246,
           0.022747595441748224,
           0.022683255709384984,
           0.022609638602865086,
           0.02228017780243694,
           0.021488320935442833,
           0.020123542188227508,
           0.01819140552475487,
           0.015801568466914176,
           0.013134174552498275,
           0.0104019880462105,
           0.007814916077738121,
           0.005547872893693287,
           0.003717672170303671,
           0.002373633788463701,
           0.001509522573215359,
           0.0010913082832176727
          ],
          [
           0.001824209495046814,
           0.0018802518373216325,
           0.001964703585680178,
           0.0020354018898406214,
           0.002055975643714757,
           0.0020122699419315953,
           0.001922835192479881,
           0.0018424465103471408,
           0.0018642880466459078,
           0.002123661529201094,
           0.0028024763871046477,
           0.0041146343703052585,
           0.006261091941982341,
           0.0093458693512938,
           0.01328256382188778,
           0.017744044796150254,
           0.022207264261801345,
           0.026094266779082713,
           0.028952459719446128,
           0.03059058190222459,
           0.03110568324234051,
           0.030802987541058185,
           0.030060654245932794,
           0.029199900286595415,
           0.02840425823449729,
           0.027701275776051325,
           0.027001254639334258,
           0.026175528321653638,
           0.02514615948354188,
           0.02394418308852639,
           0.022710328679834045,
           0.02163268751179644,
           0.020856845349519884,
           0.020413971818218024,
           0.020201560716927393,
           0.02001868864111867,
           0.019637843046520657,
           0.018875648807184918,
           0.0176406562924431,
           0.015943223573948433,
           0.013876494421374098,
           0.011584220370353254,
           0.009232770361772894,
           0.006989125414398905,
           0.004999832689470328,
           0.003372009252350611,
           0.002160704487817993,
           0.001373232500129704,
           0.000989293147092061
          ],
          [
           0.0018105125131685628,
           0.0018658500738939526,
           0.0019500447163093085,
           0.0020229375756862073,
           0.002050283560241499,
           0.0020202265178229308,
           0.0019526688392326793,
           0.0019023916071817873,
           0.0019602605241627984,
           0.0022572779249161977,
           0.0029694637604269223,
           0.00430300739887055,
           0.00644701047773996,
           0.00948729895696618,
           0.013313403908946534,
           0.017574848722918812,
           0.02173765860384873,
           0.0252368058047436,
           0.027660322484401638,
           0.0288769205656402,
           0.02904506487516026,
           0.0285131818223461,
           0.02767242986202602,
           0.0268262908256939,
           0.026119644449791007,
           0.0255342274798969,
           0.024940082798594346,
           0.024181800972043612,
           0.023170030089099514,
           0.02193732726230292,
           0.02063367388347733,
           0.019460072625270112,
           0.018575483636958528,
           0.018024397852900057,
           0.017717973083235677,
           0.01747117122999703,
           0.01707569484500897,
           0.01636909529006057,
           0.015276212003612791,
           0.013810979845167787,
           0.01205174304944261,
           0.01011050987630844,
           0.008113473489480933,
           0.006190555495108236,
           0.004463601429307034,
           0.003030621786076674,
           0.001950509550602756,
           0.0012410243760774089,
           0.0008928135554323995
          ],
          [
           0.0017002844780295385,
           0.0017541477836240306,
           0.0018378224549972615,
           0.0019149609358187177,
           0.001954694451509408,
           0.0019472165415247511,
           0.0019116987031756265,
           0.0018992820478926295,
           0.0019939186508953484,
           0.0023170634914916888,
           0.003032895524847575,
           0.004333319950059382,
           0.006389528289690988,
           0.009266311728444974,
           0.012833277340328623,
           0.016730050452675355,
           0.0204330731502943,
           0.023414169818167588,
           0.025321216271986975,
           0.026091632591205276,
           0.025941844208976272,
           0.02525014001510658,
           0.024402358365948285,
           0.02366649997767882,
           0.023136499556031344,
           0.02274456345196746,
           0.022325483422055824,
           0.02170710332566763,
           0.020797448663363513,
           0.019632632029014767,
           0.01836558771108582,
           0.01719881363879605,
           0.01629382125665728,
           0.015702579274614742,
           0.015349697191048665,
           0.015068821328641104,
           0.01467346699722909,
           0.01402308894271908,
           0.013059066405717228,
           0.011800243473514833,
           0.010313982141702817,
           0.008686697234318242,
           0.007011179455627832,
           0.005385493164547359,
           0.003908757654978453,
           0.002668352834839437,
           0.0017232183371624988,
           0.0010971646311325688,
           0.0007883076644104047
          ],
          [
           0.0014960264486336226,
           0.0015486738166201213,
           0.001633150315154714,
           0.001717929136926115,
           0.0017759355513752198,
           0.0017984738862285071,
           0.0018016502618490619,
           0.0018295216699262097,
           0.001955165390261343,
           0.002286024896584478,
           0.0029692571088538082,
           0.004176848281916559,
           0.006057876499655642,
           0.008656891829745916,
           0.01183323408591229,
           0.01523605661262346,
           0.018377089721434807,
           0.020786684695870673,
           0.022182144060873675,
           0.022562915430877344,
           0.022183386089150162,
           0.02142656610293648,
           0.02065166330346402,
           0.020079796130544857,
           0.019754178007867093,
           0.0195675779774898,
           0.019335314657482568,
           0.01888420175617381,
           0.018129581013315223,
           0.01711145063691693,
           0.015976525747820436,
           0.014914099646289408,
           0.014074072968870852,
           0.013507050686450493,
           0.013149059621173267,
           0.012855060935400458,
           0.012464152726543274,
           0.011860184435188593,
           0.011002358370359944,
           0.009916183710582904,
           0.008662028725117382,
           0.007307076684145247,
           0.005917688796046494,
           0.004565147028001117,
           0.003327279927174338,
           0.0022785624027902318,
           0.0014735119711236644,
           0.0009372664561694548,
           0.0006718419981706048
          ],
          [
           0.0012247546722423677,
           0.0012758463290672344,
           0.0013608738359060703,
           0.0014536417622496222,
           0.0015310516571024634,
           0.0015848230606181984,
           0.0016264957940602949,
           0.0016907966194578327,
           0.0018372780308033745,
           0.0021560956375756574,
           0.0027732683087921036,
           0.0038364739008408724,
           0.005470371086144331,
           0.007702774066425211,
           0.010395245431698844,
           0.013227337230281556,
           0.015769197278013375,
           0.017625241767879007,
           0.018581694960721245,
           0.018681655123483167,
           0.01818771732686629,
           0.01745810021608498,
           0.01680664573103782,
           0.01640470308251133,
           0.01625607502336928,
           0.016233774265900495,
           0.016154547172407323,
           0.015860209763106398,
           0.015280911881953053,
           0.014458513479614339,
           0.01352390319883519,
           0.012639767482868675,
           0.011931856392070884,
           0.01144117323935,
           0.0111125824524792,
           0.010823991751141406,
           0.010442999171425769,
           0.009879579728692958,
           0.00911100565661346,
           0.008169832140316562,
           0.007112027320869039,
           0.005990934157275618,
           0.004853133412197093,
           0.0037483994218280433,
           0.0027352529920017846,
           0.0018737302939378854,
           0.0012102373666085984,
           0.0007672827028607159,
           0.0005477767338329006
          ],
          [
           0.0009291033192954081,
           0.0009769971463120342,
           0.0010594339432961715,
           0.001155770214533256,
           0.001247153404653048,
           0.0013257342550414566,
           0.001398326620448888,
           0.0014897875999238287,
           0.0016452455592153516,
           0.0019359624880702336,
           0.0024643677759485947,
           0.003351269181549061,
           0.0046964630616653305,
           0.006515682262824568,
           0.008684284997448758,
           0.010929005547212168,
           0.012894348773642362,
           0.014265609343009864,
           0.014889752508068392,
           0.014830912980268578,
           0.014330464634302051,
           0.01369682010455777,
           0.013186743600984263,
           0.012926273755080323,
           0.012896535999645523,
           0.012972328862667302,
           0.012990623856381724,
           0.012819653337352606,
           0.012407496078061487,
           0.011794475991765018,
           0.01108875685971309,
           0.010418567761112654,
           0.009878686186943111,
           0.009495726318565828,
           0.00922121397441718,
           0.008955888829953233,
           0.008596287361260283,
           0.00807791242835571,
           0.007394253320476194,
           0.0065832282598911,
           0.005696916860608965,
           0.004778419193958378,
           0.00386014791813528,
           0.0029756639052862014,
           0.002167230666780401,
           0.0014806896270498368,
           0.0009525680734797081,
           0.0006004180797308214,
           0.00042609471997686926
          ],
          [
           0.0006531169242454157,
           0.0006955787174475734,
           0.0007707901279816774,
           0.0008635200639279951,
           0.0009593564913445755,
           0.0010514085595005876,
           0.0011427209961360442,
           0.0012493422851123893,
           0.0014029206322550838,
           0.0016563027126692423,
           0.0020882636175064613,
           0.0027927402221872635,
           0.0038461540711725063,
           0.005256556274838306,
           0.006920513871115233,
           0.008620194282510457,
           0.010079358837061944,
           0.0110613493999579,
           0.011461527828090262,
           0.011345721183455995,
           0.010913960248666593,
           0.01041126256970169,
           0.010034861153170207,
           0.009874256317564471,
           0.009903450398914009,
           0.010015071479755323,
           0.010077467145948885,
           0.009989551963026885,
           0.009716257885572885,
           0.009293320138089664,
           0.00880406309722579,
           0.00834176967794226,
           0.007970496620355878,
           0.007702045772636863,
           0.007493165376217456,
           0.007265301929791732,
           0.006941323057013852,
           0.006478990070484521,
           0.005884263723970588,
           0.005197277800404394,
           0.004465173946874421,
           0.0037226849744563823,
           0.0029922838914852048,
           0.002296227293789429,
           0.0016644731928861576,
           0.0011308300754510104,
           0.0007223974050489104,
           0.00045129301321803297,
           0.00031753130889314947
          ],
          [
           0.0004299992851990543,
           0.0004655762951229353,
           0.0005301513018378853,
           0.000613267316050644,
           0.0007047294603133952,
           0.0007991089302972073,
           0.0008970862479426905,
           0.0010079703989399114,
           0.0011523797679964202,
           0.0013673460706215479,
           0.0017107055668793923,
           0.0022525494274761235,
           0.0030493946184468722,
           0.004104957332428135,
           0.005338626711721364,
           0.006585841959175207,
           0.007642443602415316,
           0.008338219826773591,
           0.008603559957643024,
           0.00849458830196967,
           0.008163773167239053,
           0.007793241364567105,
           0.007527184078276825,
           0.007428538889952921,
           0.007474102733406469,
           0.007580979222972901,
           0.007650536843480328,
           0.007609880046066182,
           0.007437166940686458,
           0.0071622256055467095,
           0.006846309824902051,
           0.006553477948643971,
           0.006322797429323651,
           0.006154085310011594,
           0.00600828806680186,
           0.0058236593268405105,
           0.005544278736612691,
           0.005145060533004566,
           0.004640057764543253,
           0.004068560866991945,
           0.0034716036006471338,
           0.0028765729408521978,
           0.0022989567140338984,
           0.0017537558323414764,
           0.0012627252000544714,
           0.0008509697659653944,
           0.0005382371349764334,
           0.000332148212619052,
           0.00023099921339201287
          ],
          [
           0.00027752689206239867,
           0.0003066725005288476,
           0.0003606821832302304,
           0.00043267200901982313,
           0.0005157855678187892,
           0.0006060828871493419,
           0.000703096889731854,
           0.000811790123713864,
           0.0009451405968824077,
           0.001128723352572588,
           0.0014047900993172035,
           0.001825592522198211,
           0.002433114136329891,
           0.0032289139542703506,
           0.0041511419489111984,
           0.005076647264213453,
           0.00585552655816686,
           0.006365515525948423,
           0.006559325503535585,
           0.006480809378380632,
           0.006242335698234746,
           0.005976552699486083,
           0.005788369493734193,
           0.005723745243425484,
           0.0057655998679698615,
           0.005852851031900205,
           0.005913261603211199,
           0.005894762938402966,
           0.005784153143671289,
           0.005606037427699685,
           0.005405763768789677,
           0.005227357450755318,
           0.005093260226592512,
           0.00499553767649776,
           0.004898279349511698,
           0.004751441057863608,
           0.004513675563454289,
           0.004171190240955739,
           0.0037423260623882567,
           0.0032639654629193094,
           0.002771236951349738,
           0.0022855907885264547,
           0.001817854970063555,
           0.0013788688850440082,
           0.0009857242011538766,
           0.0006582778318746196,
           0.00041160107964275804,
           0.0002503758523927624,
           0.0001717363190834615
          ],
          [
           0.000201154656540079,
           0.00022642283019413538,
           0.00027389051882305233,
           0.00033858475332980095,
           0.0004154949885962678,
           0.0005016116120955647,
           0.0005960674014184475,
           0.000701745939862209,
           0.0008277604419197687,
           0.0009937038955775913,
           0.0012335363212103074,
           0.001589974111848645,
           0.0020973269240302265,
           0.0027562987956467407,
           0.0035155183648351612,
           0.004274346598698849,
           0.00491187556257076,
           0.005330868408166448,
           0.005494816656852204,
           0.005439629243770785,
           0.005255071436247685,
           0.005046788362585589,
           0.004898894926140283,
           0.004849106124933413,
           0.004884688896140402,
           0.004957088325676856,
           0.005008500884560558,
           0.004997774470177024,
           0.0049158898478186,
           0.004784464171444163,
           0.004640672726079454,
           0.004518592729529448,
           0.004432606283255547,
           0.004371138761081082,
           0.004300007834771236,
           0.004175144234585278,
           0.003962554192857968,
           0.003653964328358774,
           0.0032694061236912316,
           0.002843842052692722,
           0.0024087187030266037,
           0.0019820584455153465,
           0.0015722842393765348,
           0.0011883692367745603,
           0.0008453939035072866,
           0.0005608678732595293,
           0.000347696912320731,
           0.00020919016462981425,
           0.00014194155239378789
          ]
         ],
         "zmax": 0.07811533475194,
         "zmin": 0
        }
       ],
       "layout": {
        "height": 425,
        "images": [
         {
          "layer": "below",
          "opacity": 1,
          "sizex": 200,
          "sizey": 85,
          "sizing": "stretch",
          "source": "data:image/png;base64,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",
          "x": -100,
          "xanchor": "left",
          "xref": "x",
          "y": 42.5,
          "yanchor": "top",
          "yref": "y"
         }
        ],
        "paper_bgcolor": "white",
        "plot_bgcolor": "white",
        "showlegend": false,
        "template": {
         "data": {
          "bar": [
           {
            "error_x": {
             "color": "#2a3f5f"
            },
            "error_y": {
             "color": "#2a3f5f"
            },
            "marker": {
             "line": {
              "color": "#E5ECF6",
              "width": 0.5
             },
             "pattern": {
              "fillmode": "overlay",
              "size": 10,
              "solidity": 0.2
             }
            },
            "type": "bar"
           }
          ],
          "barpolar": [
           {
            "marker": {
             "line": {
              "color": "#E5ECF6",
              "width": 0.5
             },
             "pattern": {
              "fillmode": "overlay",
              "size": 10,
              "solidity": 0.2
             }
            },
            "type": "barpolar"
           }
          ],
          "carpet": [
           {
            "aaxis": {
             "endlinecolor": "#2a3f5f",
             "gridcolor": "white",
             "linecolor": "white",
             "minorgridcolor": "white",
             "startlinecolor": "#2a3f5f"
            },
            "baxis": {
             "endlinecolor": "#2a3f5f",
             "gridcolor": "white",
             "linecolor": "white",
             "minorgridcolor": "white",
             "startlinecolor": "#2a3f5f"
            },
            "type": "carpet"
           }
          ],
          "choropleth": [
           {
            "colorbar": {
             "outlinewidth": 0,
             "ticks": ""
            },
            "type": "choropleth"
           }
          ],
          "contour": [
           {
            "colorbar": {
             "outlinewidth": 0,
             "ticks": ""
            },
            "colorscale": [
             [
              0,
              "#0d0887"
             ],
             [
              0.1111111111111111,
              "#46039f"
             ],
             [
              0.2222222222222222,
              "#7201a8"
             ],
             [
              0.3333333333333333,
              "#9c179e"
             ],
             [
              0.4444444444444444,
              "#bd3786"
             ],
             [
              0.5555555555555556,
              "#d8576b"
             ],
             [
              0.6666666666666666,
              "#ed7953"
             ],
             [
              0.7777777777777778,
              "#fb9f3a"
             ],
             [
              0.8888888888888888,
              "#fdca26"
             ],
             [
              1,
              "#f0f921"
             ]
            ],
            "type": "contour"
           }
          ],
          "contourcarpet": [
           {
            "colorbar": {
             "outlinewidth": 0,
             "ticks": ""
            },
            "type": "contourcarpet"
           }
          ],
          "heatmap": [
           {
            "colorbar": {
             "outlinewidth": 0,
             "ticks": ""
            },
            "colorscale": [
             [
              0,
              "#0d0887"
             ],
             [
              0.1111111111111111,
              "#46039f"
             ],
             [
              0.2222222222222222,
              "#7201a8"
             ],
             [
              0.3333333333333333,
              "#9c179e"
             ],
             [
              0.4444444444444444,
              "#bd3786"
             ],
             [
              0.5555555555555556,
              "#d8576b"
             ],
             [
              0.6666666666666666,
              "#ed7953"
             ],
             [
              0.7777777777777778,
              "#fb9f3a"
             ],
             [
              0.8888888888888888,
              "#fdca26"
             ],
             [
              1,
              "#f0f921"
             ]
            ],
            "type": "heatmap"
           }
          ],
          "heatmapgl": [
           {
            "colorbar": {
             "outlinewidth": 0,
             "ticks": ""
            },
            "colorscale": [
             [
              0,
              "#0d0887"
             ],
             [
              0.1111111111111111,
              "#46039f"
             ],
             [
              0.2222222222222222,
              "#7201a8"
             ],
             [
              0.3333333333333333,
              "#9c179e"
             ],
             [
              0.4444444444444444,
              "#bd3786"
             ],
             [
              0.5555555555555556,
              "#d8576b"
             ],
             [
              0.6666666666666666,
              "#ed7953"
             ],
             [
              0.7777777777777778,
              "#fb9f3a"
             ],
             [
              0.8888888888888888,
              "#fdca26"
             ],
             [
              1,
              "#f0f921"
             ]
            ],
            "type": "heatmapgl"
           }
          ],
          "histogram": [
           {
            "marker": {
             "pattern": {
              "fillmode": "overlay",
              "size": 10,
              "solidity": 0.2
             }
            },
            "type": "histogram"
           }
          ],
          "histogram2d": [
           {
            "colorbar": {
             "outlinewidth": 0,
             "ticks": ""
            },
            "colorscale": [
             [
              0,
              "#0d0887"
             ],
             [
              0.1111111111111111,
              "#46039f"
             ],
             [
              0.2222222222222222,
              "#7201a8"
             ],
             [
              0.3333333333333333,
              "#9c179e"
             ],
             [
              0.4444444444444444,
              "#bd3786"
             ],
             [
              0.5555555555555556,
              "#d8576b"
             ],
             [
              0.6666666666666666,
              "#ed7953"
             ],
             [
              0.7777777777777778,
              "#fb9f3a"
             ],
             [
              0.8888888888888888,
              "#fdca26"
             ],
             [
              1,
              "#f0f921"
             ]
            ],
            "type": "histogram2d"
           }
          ],
          "histogram2dcontour": [
           {
            "colorbar": {
             "outlinewidth": 0,
             "ticks": ""
            },
            "colorscale": [
             [
              0,
              "#0d0887"
             ],
             [
              0.1111111111111111,
              "#46039f"
             ],
             [
              0.2222222222222222,
              "#7201a8"
             ],
             [
              0.3333333333333333,
              "#9c179e"
             ],
             [
              0.4444444444444444,
              "#bd3786"
             ],
             [
              0.5555555555555556,
              "#d8576b"
             ],
             [
              0.6666666666666666,
              "#ed7953"
             ],
             [
              0.7777777777777778,
              "#fb9f3a"
             ],
             [
              0.8888888888888888,
              "#fdca26"
             ],
             [
              1,
              "#f0f921"
             ]
            ],
            "type": "histogram2dcontour"
           }
          ],
          "mesh3d": [
           {
            "colorbar": {
             "outlinewidth": 0,
             "ticks": ""
            },
            "type": "mesh3d"
           }
          ],
          "parcoords": [
           {
            "line": {
             "colorbar": {
              "outlinewidth": 0,
              "ticks": ""
             }
            },
            "type": "parcoords"
           }
          ],
          "pie": [
           {
            "automargin": true,
            "type": "pie"
           }
          ],
          "scatter": [
           {
            "fillpattern": {
             "fillmode": "overlay",
             "size": 10,
             "solidity": 0.2
            },
            "type": "scatter"
           }
          ],
          "scatter3d": [
           {
            "line": {
             "colorbar": {
              "outlinewidth": 0,
              "ticks": ""
             }
            },
            "marker": {
             "colorbar": {
              "outlinewidth": 0,
              "ticks": ""
             }
            },
            "type": "scatter3d"
           }
          ],
          "scattercarpet": [
           {
            "marker": {
             "colorbar": {
              "outlinewidth": 0,
              "ticks": ""
             }
            },
            "type": "scattercarpet"
           }
          ],
          "scattergeo": [
           {
            "marker": {
             "colorbar": {
              "outlinewidth": 0,
              "ticks": ""
             }
            },
            "type": "scattergeo"
           }
          ],
          "scattergl": [
           {
            "marker": {
             "colorbar": {
              "outlinewidth": 0,
              "ticks": ""
             }
            },
            "type": "scattergl"
           }
          ],
          "scattermapbox": [
           {
            "marker": {
             "colorbar": {
              "outlinewidth": 0,
              "ticks": ""
             }
            },
            "type": "scattermapbox"
           }
          ],
          "scatterpolar": [
           {
            "marker": {
             "colorbar": {
              "outlinewidth": 0,
              "ticks": ""
             }
            },
            "type": "scatterpolar"
           }
          ],
          "scatterpolargl": [
           {
            "marker": {
             "colorbar": {
              "outlinewidth": 0,
              "ticks": ""
             }
            },
            "type": "scatterpolargl"
           }
          ],
          "scatterternary": [
           {
            "marker": {
             "colorbar": {
              "outlinewidth": 0,
              "ticks": ""
             }
            },
            "type": "scatterternary"
           }
          ],
          "surface": [
           {
            "colorbar": {
             "outlinewidth": 0,
             "ticks": ""
            },
            "colorscale": [
             [
              0,
              "#0d0887"
             ],
             [
              0.1111111111111111,
              "#46039f"
             ],
             [
              0.2222222222222222,
              "#7201a8"
             ],
             [
              0.3333333333333333,
              "#9c179e"
             ],
             [
              0.4444444444444444,
              "#bd3786"
             ],
             [
              0.5555555555555556,
              "#d8576b"
             ],
             [
              0.6666666666666666,
              "#ed7953"
             ],
             [
              0.7777777777777778,
              "#fb9f3a"
             ],
             [
              0.8888888888888888,
              "#fdca26"
             ],
             [
              1,
              "#f0f921"
             ]
            ],
            "type": "surface"
           }
          ],
          "table": [
           {
            "cells": {
             "fill": {
              "color": "#EBF0F8"
             },
             "line": {
              "color": "white"
             }
            },
            "header": {
             "fill": {
              "color": "#C8D4E3"
             },
             "line": {
              "color": "white"
             }
            },
            "type": "table"
           }
          ]
         },
         "layout": {
          "annotationdefaults": {
           "arrowcolor": "#2a3f5f",
           "arrowhead": 0,
           "arrowwidth": 1
          },
          "autotypenumbers": "strict",
          "coloraxis": {
           "colorbar": {
            "outlinewidth": 0,
            "ticks": ""
           }
          },
          "colorscale": {
           "diverging": [
            [
             0,
             "#8e0152"
            ],
            [
             0.1,
             "#c51b7d"
            ],
            [
             0.2,
             "#de77ae"
            ],
            [
             0.3,
             "#f1b6da"
            ],
            [
             0.4,
             "#fde0ef"
            ],
            [
             0.5,
             "#f7f7f7"
            ],
            [
             0.6,
             "#e6f5d0"
            ],
            [
             0.7,
             "#b8e186"
            ],
            [
             0.8,
             "#7fbc41"
            ],
            [
             0.9,
             "#4d9221"
            ],
            [
             1,
             "#276419"
            ]
           ],
           "sequential": [
            [
             0,
             "#0d0887"
            ],
            [
             0.1111111111111111,
             "#46039f"
            ],
            [
             0.2222222222222222,
             "#7201a8"
            ],
            [
             0.3333333333333333,
             "#9c179e"
            ],
            [
             0.4444444444444444,
             "#bd3786"
            ],
            [
             0.5555555555555556,
             "#d8576b"
            ],
            [
             0.6666666666666666,
             "#ed7953"
            ],
            [
             0.7777777777777778,
             "#fb9f3a"
            ],
            [
             0.8888888888888888,
             "#fdca26"
            ],
            [
             1,
             "#f0f921"
            ]
           ],
           "sequentialminus": [
            [
             0,
             "#0d0887"
            ],
            [
             0.1111111111111111,
             "#46039f"
            ],
            [
             0.2222222222222222,
             "#7201a8"
            ],
            [
             0.3333333333333333,
             "#9c179e"
            ],
            [
             0.4444444444444444,
             "#bd3786"
            ],
            [
             0.5555555555555556,
             "#d8576b"
            ],
            [
             0.6666666666666666,
             "#ed7953"
            ],
            [
             0.7777777777777778,
             "#fb9f3a"
            ],
            [
             0.8888888888888888,
             "#fdca26"
            ],
            [
             1,
             "#f0f921"
            ]
           ]
          },
          "colorway": [
           "#636efa",
           "#EF553B",
           "#00cc96",
           "#ab63fa",
           "#FFA15A",
           "#19d3f3",
           "#FF6692",
           "#B6E880",
           "#FF97FF",
           "#FECB52"
          ],
          "font": {
           "color": "#2a3f5f"
          },
          "geo": {
           "bgcolor": "white",
           "lakecolor": "white",
           "landcolor": "#E5ECF6",
           "showlakes": true,
           "showland": true,
           "subunitcolor": "white"
          },
          "hoverlabel": {
           "align": "left"
          },
          "hovermode": "closest",
          "mapbox": {
           "style": "light"
          },
          "paper_bgcolor": "white",
          "plot_bgcolor": "#E5ECF6",
          "polar": {
           "angularaxis": {
            "gridcolor": "white",
            "linecolor": "white",
            "ticks": ""
           },
           "bgcolor": "#E5ECF6",
           "radialaxis": {
            "gridcolor": "white",
            "linecolor": "white",
            "ticks": ""
           }
          },
          "scene": {
           "xaxis": {
            "backgroundcolor": "#E5ECF6",
            "gridcolor": "white",
            "gridwidth": 2,
            "linecolor": "white",
            "showbackground": true,
            "ticks": "",
            "zerolinecolor": "white"
           },
           "yaxis": {
            "backgroundcolor": "#E5ECF6",
            "gridcolor": "white",
            "gridwidth": 2,
            "linecolor": "white",
            "showbackground": true,
            "ticks": "",
            "zerolinecolor": "white"
           },
           "zaxis": {
            "backgroundcolor": "#E5ECF6",
            "gridcolor": "white",
            "gridwidth": 2,
            "linecolor": "white",
            "showbackground": true,
            "ticks": "",
            "zerolinecolor": "white"
           }
          },
          "shapedefaults": {
           "line": {
            "color": "#2a3f5f"
           }
          },
          "ternary": {
           "aaxis": {
            "gridcolor": "white",
            "linecolor": "white",
            "ticks": ""
           },
           "baxis": {
            "gridcolor": "white",
            "linecolor": "white",
            "ticks": ""
           },
           "bgcolor": "#E5ECF6",
           "caxis": {
            "gridcolor": "white",
            "linecolor": "white",
            "ticks": ""
           }
          },
          "title": {
           "x": 0.05
          },
          "xaxis": {
           "automargin": true,
           "gridcolor": "white",
           "linecolor": "white",
           "ticks": "",
           "title": {
            "standoff": 15
           },
           "zerolinecolor": "white",
           "zerolinewidth": 2
          },
          "yaxis": {
           "automargin": true,
           "gridcolor": "white",
           "linecolor": "white",
           "ticks": "",
           "title": {
            "standoff": 15
           },
           "zerolinecolor": "white",
           "zerolinewidth": 2
          }
         }
        },
        "title": {
         "text": "Shot Distribution on NHL Rink"
        },
        "width": 500,
        "xaxis": {
         "range": [
          0,
          100
         ],
         "title": {
          "text": "X Coordinate (feet)"
         }
        },
        "yaxis": {
         "range": [
          -42.5,
          42.5
         ],
         "title": {
          "text": "Y Coordinate (feet)"
         }
        }
       }
      }
     },
     "metadata": {},
     "output_type": "display_data"
    }
   ],
   "source": [
    "import numpy as np\n",
    "import pandas as pd\n",
    "import plotly.graph_objects as go\n",
    "from PIL import Image\n",
    "from scipy.ndimage import gaussian_filter\n",
    "\n",
    "def plot_shot_heatmap_plotly(shot_rate_map: pd.DataFrame):\n",
    "    x = shot_rate_map['x_coord']\n",
    "    y = shot_rate_map['y_coord']\n",
    "    shot_rate = shot_rate_map['team_shot_rate']\n",
    "\n",
    "    # Create a 2D histogram (heatmap) of the shot rates - obtained using ChatGPT\n",
    "    heatmap, xedges, yedges = np.histogram2d(x, y, bins=[np.linspace(0, 100, 50), np.linspace(-42.5, 42.5, 50)], weights=shot_rate)\n",
    "\n",
    "    heatmap = gaussian_filter(heatmap, sigma=3)\n",
    "\n",
    "    fig = go.Figure()\n",
    "\n",
    "    fig.add_layout_image(\n",
    "        dict(\n",
    "            source=Image.open(\"../../figures/nhl_rink.png\"),\n",
    "            x=-100,\n",
    "            y=42.5,\n",
    "            xref=\"x\",\n",
    "            yref=\"y\",\n",
    "            sizex=200,\n",
    "            sizey=85,\n",
    "            opacity=1,\n",
    "            sizing=\"stretch\",\n",
    "            xanchor=\"left\",\n",
    "            yanchor=\"top\",\n",
    "            layer=\"below\"\n",
    "        )\n",
    "    )\n",
    "\n",
    "    custom_colorscale = [[0, 'rgba(0,0,255,0)'], [0.01, 'rgba(0,0,255,0.05)'], [1, 'rgba(255,0,0,1)']]\n",
    "\n",
    "    fig.add_trace(go.Heatmap(\n",
    "        z=heatmap.T,\n",
    "        x=xedges[:-1],\n",
    "        y=yedges[:-1],\n",
    "        colorscale=custom_colorscale,\n",
    "        colorbar=dict(title='Shot Rate'),\n",
    "        zmin=0,\n",
    "        zmax=np.max(heatmap),\n",
    "        hovertemplate='X: %{x:.2f}<br>Y: %{y:.2f}<br>Shot Density: %{z:.2f}<extra></extra>',\n",
    "    ))\n",
    "\n",
    "    fig.update_layout(\n",
    "        xaxis=dict(title='X Coordinate (feet)', range=[0, 100]),\n",
    "        yaxis=dict(title='Y Coordinate (feet)', range=[-42.5, 42.5]),\n",
    "        title='Shot Distribution on NHL Rink',\n",
    "        showlegend=False,\n",
    "        height=425,\n",
    "        width=500,\n",
    "        plot_bgcolor='white',\n",
    "        paper_bgcolor='white'\n",
    "    )\n",
    "    \n",
    "    fig.show()\n",
    "\n",
    "plot_shot_heatmap_plotly(df)"
   ]
  }
 ],
 "metadata": {
  "kernelspec": {
   "display_name": "ift6758-projet",
   "language": "python",
   "name": "python3"
  },
  "language_info": {
   "codemirror_mode": {
    "name": "ipython",
    "version": 3
   },
   "file_extension": ".py",
   "mimetype": "text/x-python",
   "name": "python",
   "nbconvert_exporter": "python",
   "pygments_lexer": "ipython3",
   "version": "3.9.19"
  }
 },
 "nbformat": 4,
 "nbformat_minor": 2
}
