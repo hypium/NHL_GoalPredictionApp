{
 "cells": [
  {
   "cell_type": "code",
   "execution_count": 9,
   "metadata": {},
   "outputs": [
    {
     "name": "stderr",
     "output_type": "stream",
     "text": [
      "Retrieving shots data: 100%|██████████| 40/40 [02:29<00:00,  3.74s/it]"
     ]
    },
    {
     "name": "stdout",
     "output_type": "stream",
     "text": [
      "Index(['game_id', 'period', 'time_in', 'time_remaining', 'team_id', 'is_goal',\n",
      "       'x_coord', 'y_coord', 'shooter_name', 'goalie_name', 'shot_type',\n",
      "       'is_empty_net', 'situation_type'],\n",
      "      dtype='object')\n"
     ]
    },
    {
     "name": "stderr",
     "output_type": "stream",
     "text": [
      "\n"
     ]
    }
   ],
   "source": [
    "import shots_data_retriever\n",
    "import importlib\n",
    "import warnings\n",
    "import pandas as pd\n",
    "\n",
    "# Filter dtype warnings. Column 10 can contain str, int, and float types \n",
    "# which spams a warning in the output\n",
    "warnings.filterwarnings(\"ignore\", category=pd.errors.DtypeWarning)\n",
    "importlib.reload(shots_data_retriever)\n",
    "\n",
    "shotsDataRetriever = shots_data_retriever.ShotsDataRetriever()\n",
    "all_shots = shotsDataRetriever.get_all_shots()"
   ]
  },
  {
   "cell_type": "code",
   "execution_count": 21,
   "metadata": {},
   "outputs": [
    {
     "name": "stdout",
     "output_type": "stream",
     "text": [
      "Index(['game_id', 'period', 'time_in', 'time_remaining', 'team_id', 'is_goal',\n",
      "       'x_coord', 'y_coord', 'shooter_name', 'goalie_name', 'shot_type',\n",
      "       'is_empty_net', 'situation_type'],\n",
      "      dtype='object')\n"
     ]
    }
   ],
   "source": [
    "print(all_shots.columns)"
   ]
  },
  {
   "cell_type": "code",
   "execution_count": 26,
   "metadata": {},
   "outputs": [
    {
     "name": "stdout",
     "output_type": "stream",
     "text": [
      "56.70828858732793\n"
     ]
    }
   ],
   "source": [
    "# Average shot rate\n",
    "total_shots = len(all_shots)\n",
    "single_game_time = 1 # in hours, assumption from google doc\n",
    "total_games = all_shots['game_id'].nunique()\n",
    "total_game_time = single_game_time * total_games\n",
    "average_shot_rate = total_shots / total_game_time # in shots per hour\n",
    "print(average_shot_rate)"
   ]
  },
  {
   "cell_type": "code",
   "execution_count": 42,
   "metadata": {},
   "outputs": [
    {
     "name": "stdout",
     "output_type": "stream",
     "text": [
      "    team_id  total shots  time played (hours)  shot rate per hour\n",
      "0         1        19669                  634           31.023659\n",
      "1         2        20211                  672           30.075893\n",
      "2         3        20498                  673           30.457652\n",
      "3         4        20003                  636           31.451258\n",
      "4         5        22420                  671           33.412817\n",
      "5         6        23289                  708           32.894068\n",
      "6         7        19143                  617           31.025932\n",
      "7         8        20227                  653           30.975498\n",
      "8         9        19753                  638           30.960815\n",
      "9        10        21978                  670           32.802985\n",
      "10       12        23036                  687           33.531295\n",
      "11       13        23354                  678           34.445428\n",
      "12       14        22444                  718           31.259053\n",
      "13       15        20650                  681           30.323054\n",
      "14       16        18915                  627           30.167464\n",
      "15       17        17919                  619           28.948304\n",
      "16       18        21309                  674           31.615727\n",
      "17       19        20492                  678           30.224189\n",
      "18       20        21224                  645           32.905426\n",
      "19       21        22673                  696           32.576149\n",
      "20       22        22078                  689           32.043541\n",
      "21       23        19120                  643           29.735614\n",
      "22       24        18579                  640           29.029688\n",
      "23       25        21663                  699           30.991416\n",
      "24       26        20389                  640           31.857813\n",
      "25       28        19792                  654           30.262997\n",
      "26       29        20120                  644           31.242236\n",
      "27       30        19915                  646           30.828173\n"
     ]
    }
   ],
   "source": [
    "# Shot rate by team\n",
    "total_shots_per_team = all_shots.groupby('team_id').size().reset_index(name='total shots')\n",
    "total_game_time_per_team = all_shots.groupby('team_id')['game_id'].nunique().reset_index(name='time played (hours)')\n",
    "merged_df = pd.merge(total_shots_per_team, total_game_time_per_team, on='team_id')\n",
    "merged_df['shot rate per hour'] = merged_df['total shots'] / merged_df['time played (hours)']\n",
    "\n",
    "print(merged_df)"
   ]
  },
  {
   "cell_type": "code",
   "execution_count": 3,
   "metadata": {},
   "outputs": [
    {
     "ename": "NameError",
     "evalue": "name 'team_df' is not defined",
     "output_type": "error",
     "traceback": [
      "\u001b[1;31m---------------------------------------------------------------------------\u001b[0m",
      "\u001b[1;31mNameError\u001b[0m                                 Traceback (most recent call last)",
      "Cell \u001b[1;32mIn[3], line 6\u001b[0m\n\u001b[0;32m      3\u001b[0m \u001b[38;5;28;01mimport\u001b[39;00m \u001b[38;5;21;01mplotly\u001b[39;00m\u001b[38;5;21;01m.\u001b[39;00m\u001b[38;5;21;01mexpress\u001b[39;00m \u001b[38;5;28;01mas\u001b[39;00m \u001b[38;5;21;01mpx\u001b[39;00m\n\u001b[0;32m      5\u001b[0m \u001b[38;5;66;03m# Create the shot map\u001b[39;00m\n\u001b[1;32m----> 6\u001b[0m fig \u001b[38;5;241m=\u001b[39m px\u001b[38;5;241m.\u001b[39mdensity_heatmap(\u001b[43mteam_df\u001b[49m, x\u001b[38;5;241m=\u001b[39m\u001b[38;5;124m'\u001b[39m\u001b[38;5;124mx_coord\u001b[39m\u001b[38;5;124m'\u001b[39m, y\u001b[38;5;241m=\u001b[39m\u001b[38;5;124m'\u001b[39m\u001b[38;5;124my_coord\u001b[39m\u001b[38;5;124m'\u001b[39m, z\u001b[38;5;241m=\u001b[39m\u001b[38;5;124m'\u001b[39m\u001b[38;5;124mis_goal\u001b[39m\u001b[38;5;124m'\u001b[39m, \n\u001b[0;32m      7\u001b[0m                           title\u001b[38;5;241m=\u001b[39m\u001b[38;5;124mf\u001b[39m\u001b[38;5;124m'\u001b[39m\u001b[38;5;124mShot Map for team 15\u001b[39m\u001b[38;5;124m'\u001b[39m, \n\u001b[0;32m      8\u001b[0m                           labels\u001b[38;5;241m=\u001b[39m{\u001b[38;5;124m'\u001b[39m\u001b[38;5;124mx_coord\u001b[39m\u001b[38;5;124m'\u001b[39m: \u001b[38;5;124m'\u001b[39m\u001b[38;5;124mX Coordinate\u001b[39m\u001b[38;5;124m'\u001b[39m, \u001b[38;5;124m'\u001b[39m\u001b[38;5;124my_coord\u001b[39m\u001b[38;5;124m'\u001b[39m: \u001b[38;5;124m'\u001b[39m\u001b[38;5;124mY Coordinate\u001b[39m\u001b[38;5;124m'\u001b[39m},\n\u001b[0;32m      9\u001b[0m                           color_continuous_scale\u001b[38;5;241m=\u001b[39m\u001b[38;5;124m'\u001b[39m\u001b[38;5;124mViridis\u001b[39m\u001b[38;5;124m'\u001b[39m)\n\u001b[0;32m     11\u001b[0m \u001b[38;5;66;03m# Save as HTML\u001b[39;00m\n\u001b[0;32m     12\u001b[0m fig\u001b[38;5;241m.\u001b[39mwrite_html(\u001b[38;5;124m'\u001b[39m\u001b[38;5;124mteam_shot_map.html\u001b[39m\u001b[38;5;124m'\u001b[39m)\n",
      "\u001b[1;31mNameError\u001b[0m: name 'team_df' is not defined"
     ]
    }
   ],
   "source": [
    "# Temporary test\n",
    "\n",
    "import plotly.express as px\n",
    "\n",
    "# Create the shot map\n",
    "fig = px.density_heatmap(team_df, x='x_coord', y='y_coord', z='is_goal', \n",
    "                          title=f'Shot Map for team 15', \n",
    "                          labels={'x_coord': 'X Coordinate', 'y_coord': 'Y Coordinate'},\n",
    "                          color_continuous_scale='Viridis')\n",
    "\n",
    "# Save as HTML\n",
    "fig.write_html('team_shot_map.html')"
   ]
  },
  {
   "cell_type": "code",
   "execution_count": 30,
   "metadata": {},
   "outputs": [
    {
     "data": {
      "image/png": "[encoded data removed]",
      "text/plain": [
       "<Figure size 1000x500 with 1 Axes>"
      ]
     },
     "metadata": {},
     "output_type": "display_data"
    }
   ],
   "source": [
    "# Temporary test\n",
    "\n",
    "import matplotlib.pyplot as plt\n",
    "\n",
    "def plot_shot_map(df, team_name):\n",
    "    # Create a figure and axis\n",
    "    fig, ax = plt.subplots(figsize=(10, 5))\n",
    "\n",
    "    # Create the rink layout (you may need to customize this)\n",
    "    rink_width = 100\n",
    "    rink_height = 85\n",
    "    ax.set_xlim(-rink_width/2, rink_width/2)\n",
    "    ax.set_ylim(-rink_height/2, rink_height/2)\n",
    "\n",
    "    # Plot shot coordinates\n",
    "    shot_x = df['x_coord']\n",
    "    shot_y = df['y_coord']\n",
    "    ax.scatter(shot_x, shot_y, color='red', alpha=0.5, label='Shots')\n",
    "\n",
    "    # Labels and title\n",
    "    ax.set_title(f'Shot Map for {team_name}')\n",
    "    ax.set_xlabel('Width of Rink (ft)')\n",
    "    ax.set_ylabel('Height of Rink (ft)')\n",
    "    ax.legend()\n",
    "    plt.show()\n",
    "\n",
    "# Call the function with your filtered DataFrame and team name\n",
    "plot_shot_map(team_df, \"Team 15\")  # Re"
   ]
  },
  {
   "cell_type": "code",
   "execution_count": null,
   "metadata": {},
   "outputs": [],
   "source": []
  }
 ],
 "metadata": {
  "kernelspec": {
   "display_name": "ift6758-projet",
   "language": "python",
   "name": "python3"
  },
  "language_info": {
   "codemirror_mode": {
    "name": "ipython",
    "version": 3
   },
   "file_extension": ".py",
   "mimetype": "text/x-python",
   "name": "python",
   "nbconvert_exporter": "python",
   "pygments_lexer": "ipython3",
   "version": "3.9.19"
  }
 },
 "nbformat": 4,
 "nbformat_minor": 2
}
