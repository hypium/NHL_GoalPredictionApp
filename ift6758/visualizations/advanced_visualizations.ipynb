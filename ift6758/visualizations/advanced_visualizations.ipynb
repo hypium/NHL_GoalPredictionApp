{
 "cells": [
  {
   "cell_type": "code",
   "execution_count": 1,
   "metadata": {},
   "outputs": [],
   "source": [
    "import shots_data_retriever\n",
    "from shots_data_retriever import ShotsDataRetriever\n",
    "import importlib\n",
    "import warnings\n",
    "import pandas as pd\n",
    "\n",
    "# Filter dtype warnings. Column 10 can contain str, int, and float types \n",
    "# which spams a warning in the output\n",
    "warnings.filterwarnings(\"ignore\", category=pd.errors.DtypeWarning)\n",
    "importlib.reload(shots_data_retriever)\n",
    "\n",
    "shotsDataRetriever = ShotsDataRetriever()"
   ]
  },
  {
   "cell_type": "code",
   "execution_count": 10,
   "metadata": {},
   "outputs": [],
   "source": [
    "# Average shot rate\n",
    "def get_league_avg_shot_rate_by_coordinate(year: str):\n",
    "    df = shotsDataRetriever.get_season_shots(year)\n",
    "\n",
    "    single_game_time = 1 # in hours, assumption from google doc\n",
    "    total_games = df['game_id'].nunique()\n",
    "    total_game_time = single_game_time * total_games\n",
    "\n",
    "    shot_location = df.groupby(['x_coord', 'y_coord']).size().reset_index(name='shot_count')\n",
    "    shot_location['shot_rate'] = shot_location['shot_count'] / total_game_time\n",
    "\n",
    "    return shot_location"
   ]
  },
  {
   "cell_type": "code",
   "execution_count": 11,
   "metadata": {},
   "outputs": [],
   "source": [
    "# Shot rate by team\n",
    "def get_team_avg_shot_rate_by_coordinate(year: str, team_id: int):\n",
    "    df = shotsDataRetriever.get_season_shots_for_team(year, team_id)\n",
    "\n",
    "    single_game_time = 1 # in hours, assumption from google doc\n",
    "    total_games = df['game_id'].nunique()\n",
    "    total_game_time = single_game_time * total_games\n",
    "\n",
    "    shot_location = df.groupby(['x_coord', 'y_coord']).size().reset_index(name='shot_count')\n",
    "    shot_location['shot_rate'] = shot_location['shot_count'] / total_game_time\n",
    "\n",
    "    return shot_location"
   ]
  },
  {
   "cell_type": "code",
   "execution_count": 39,
   "metadata": {},
   "outputs": [
    {
     "name": "stdout",
     "output_type": "stream",
     "text": [
      "positive: 1895\n",
      "negative: 0\n",
      "      x_coord  y_coord  shot_count  team_shot_rate  league_shot_rate  \\\n",
      "0         0.0    -32.0           1        0.012195          0.000738   \n",
      "1         1.0    -18.0           1        0.012195          0.001476   \n",
      "2         2.0     29.0           1        0.012195          0.001476   \n",
      "3         3.0     -9.0           1        0.012195          0.000738   \n",
      "4         3.0     16.0           1        0.012195          0.000738   \n",
      "...       ...      ...         ...             ...               ...   \n",
      "1890     93.0     18.0           1        0.012195          0.006642   \n",
      "1891     95.0     10.0           1        0.012195          0.003690   \n",
      "1892     95.0     11.0           1        0.012195          0.005904   \n",
      "1893     99.0     -4.0           1        0.012195          0.005166   \n",
      "1894     99.0     10.0           1        0.012195          0.005904   \n",
      "\n",
      "      excess_shot_rate  \n",
      "0             0.011457  \n",
      "1             0.010719  \n",
      "2             0.010719  \n",
      "3             0.011457  \n",
      "4             0.011457  \n",
      "...                ...  \n",
      "1890          0.005553  \n",
      "1891          0.008505  \n",
      "1892          0.006291  \n",
      "1893          0.007029  \n",
      "1894          0.006291  \n",
      "\n",
      "[1895 rows x 6 columns]\n"
     ]
    }
   ],
   "source": [
    "def get_team_excess_shot_rate(year: str, team_id: int):\n",
    "    team_df = get_team_avg_shot_rate_by_coordinate(year, team_id)\n",
    "    league_df = get_league_avg_shot_rate_by_coordinate(year)\n",
    "\n",
    "    result_df = team_df\n",
    "    result_df['team_shot_rate'] = result_df['shot_rate'].copy()\n",
    "    result_df = result_df.drop(columns=['shot_rate'])\n",
    "    result_df['league_shot_rate'] = league_df['shot_rate']\n",
    "    result_df['excess_shot_rate'] = team_df['shot_rate'] - league_df['shot_rate']\n",
    "    \n",
    "    return result_df\n",
    "\n",
    "df = get_team_excess_shot_rate('2017', 16)\n",
    "\n",
    "# Validate the values - about half of the values should be negative\n",
    "print(f\"positive: {df[df['excess_shot_rate'] >= 0]['excess_shot_rate'].count()}\")\n",
    "print(f\"negative: {df[df['excess_shot_rate'] < 0]['excess_shot_rate'].count()}\")\n",
    "\n",
    "print(df)"
   ]
  },
  {
   "cell_type": "code",
   "execution_count": 5,
   "metadata": {},
   "outputs": [],
   "source": [
    "# Difference from league average\n",
    "full_df = pd.DataFrame()\n",
    "temp_df = pd.DataFrame()\n",
    "temp_df['team_id'] = shot_location_group['team_id']\n",
    "temp_df['x_coord'] = shot_location_group['x_coord']\n",
    "temp_df['y_coord'] = shot_location_group['y_coord']\n",
    "\n",
    "temp_df = temp_df.groupby('team_id')\n",
    "for team_group in temp_df:\n",
    "    team_id = team_group[1]['team_id'].iloc[0]\n",
    "    x_coord = team_group[1]['x_coord'].iloc[0]\n",
    "    y_coord = team_group[1]['y_coord'].iloc[0]\n",
    "    merge_df = pd.merge(\n",
    "        shot_location_group,\n",
    "        shot_location_league[['x_coord', 'y_coord', 'shot_rate']].rename(columns={'shot_rate': 'shot_rate_league'}),\n",
    "        on=['x_coord', 'y_coord'],\n",
    "        how='left'\n",
    "    )\n",
    "    full_df = pd.concat([full_df, shot_location_group[shot_location_group['team_id'] == team_id]])\n",
    "    full_df = pd.merge(full_df, merge_df, how='left')\n",
    "    full_df = full_df.drop('shot_count', axis=1)\n",
    "    full_df = full_df.drop('time_played', axis=1)\n",
    "full_df.to_csv('full_df.csv', index=False)"
   ]
  },
  {
   "cell_type": "code",
   "execution_count": 32,
   "metadata": {},
   "outputs": [],
   "source": [
    "import numpy as np\n",
    "import matplotlib.image as mpimg\n",
    "import matplotlib.pyplot as plt\n",
    "from tqdm import tqdm\n",
    "import plotly.graph_objects as go\n",
    "import os\n",
    "from PIL import Image\n",
    "from scipy.ndimage import gaussian_filter"
   ]
  },
  {
   "cell_type": "code",
   "execution_count": 41,
   "metadata": {},
   "outputs": [
    {
     "name": "stderr",
     "output_type": "stream",
     "text": [
      "Drawing plot: 1895it [00:16, 115.30it/s]\n"
     ]
    },
    {
     "data": {
      "image/png": "[encoded data removed]",
      "text/plain": [
       "<Figure size 1000x800 with 1 Axes>"
      ]
     },
     "metadata": {},
     "output_type": "display_data"
    }
   ],
   "source": [
    "# Now that we have a shot map, we want to plot it\n",
    "\n",
    "def plot_shot_map_matplotlib(shot_rate_map: pd.DataFrame):\n",
    "    rink_image = mpimg.imread(\"../../figures/nhl_rink.png\")\n",
    "\n",
    "    plt.figure(figsize=(10, 8))\n",
    "    plt.imshow(rink_image, extent=[-100, 100, -42.5, 42.5], aspect='auto')\n",
    "\n",
    "    for _, row in tqdm(shot_rate_map.iterrows(), desc=\"Drawing plot\"):\n",
    "        x = row['x_coord']\n",
    "        y = row['y_coord']\n",
    "        shot_rate = row['team_shot_rate']\n",
    "        plt.scatter(x, y, s=shot_rate * 500, color='blue', alpha=0.5)  # Adjust y-coordinates\n",
    "\n",
    "    plt.xlim(0, 100)\n",
    "    plt.ylim(-42.5, 42.5)\n",
    "\n",
    "    plt.xlabel('X Coordinate')\n",
    "    plt.ylabel('Y Coordinate')\n",
    "    plt.title('Shot Distribution on NHL Rink')\n",
    "\n",
    "    plt.show()\n",
    "\n",
    "plot_shot_map_matplotlib(df)"
   ]
  },
  {
   "cell_type": "code",
   "execution_count": 46,
   "metadata": {},
   "outputs": [
    {
     "name": "stderr",
     "output_type": "stream",
     "text": [
      "Processing DataFrame: 0it [00:00, ?it/s]"
     ]
    },
    {
     "name": "stderr",
     "output_type": "stream",
     "text": [
      "Processing DataFrame: 1895it [00:03, 528.98it/s]\n"
     ]
    },
    {
     "data": {
      "application/vnd.plotly.v1+json": {
       "config": {
        "plotlyServerURL": "https://plot.ly"
       },
       "data": [
        {
         "marker": {
          "color": "blue",
          "opacity": 0.5,
          "size": 1.2195121951219512
         },
         "mode": "markers",
         "showlegend": false,
         "type": "scatter",
         "x": [
          0
         ],
         "y": [
          -32
         ]
        },
        {
         "marker": {
          "color": "blue",
          "opacity": 0.5,
          "size": 1.2195121951219512
         },
         "mode": "markers",
         "showlegend": false,
         "type": "scatter",
         "x": [
          1
         ],
         "y": [
          -18
         ]
        },
        {
         "marker": {
          "color": "blue",
          "opacity": 0.5,
          "size": 1.2195121951219512
         },
         "mode": "markers",
         "showlegend": false,
         "type": "scatter",
         "x": [
          2
         ],
         "y": [
          29
         ]
        },
        {
         "marker": {
          "color": "blue",
          "opacity": 0.5,
          "size": 1.2195121951219512
         },
         "mode": "markers",
         "showlegend": false,
         "type": "scatter",
         "x": [
          3
         ],
         "y": [
          -9
         ]
        },
        {
         "marker": {
          "color": "blue",
          "opacity": 0.5,
          "size": 1.2195121951219512
         },
         "mode": "markers",
         "showlegend": false,
         "type": "scatter",
         "x": [
          3
         ],
         "y": [
          16
         ]
        },
        {
         "marker": {
          "color": "blue",
          "opacity": 0.5,
          "size": 1.2195121951219512
         },
         "mode": "markers",
         "showlegend": false,
         "type": "scatter",
         "x": [
          4
         ],
         "y": [
          -33
         ]
        },
        {
         "marker": {
          "color": "blue",
          "opacity": 0.5,
          "size": 1.2195121951219512
         },
         "mode": "markers",
         "showlegend": false,
         "type": "scatter",
         "x": [
          4
         ],
         "y": [
          -32
         ]
        },
        {
         "marker": {
          "color": "blue",
          "opacity": 0.5,
          "size": 1.2195121951219512
         },
         "mode": "markers",
         "showlegend": false,
         "type": "scatter",
         "x": [
          5
         ],
         "y": [
          -10
         ]
        },
        {
         "marker": {
          "color": "blue",
          "opacity": 0.5,
          "size": 1.2195121951219512
         },
         "mode": "markers",
         "showlegend": false,
         "type": "scatter",
         "x": [
          5
         ],
         "y": [
          3
         ]
        },
        {
         "marker": {
          "color": "blue",
          "opacity": 0.5,
          "size": 1.2195121951219512
         },
         "mode": "markers",
         "showlegend": false,
         "type": "scatter",
         "x": [
          5
         ],
         "y": [
          26
         ]
        },
        {
         "marker": {
          "color": "blue",
          "opacity": 0.5,
          "size": 1.2195121951219512
         },
         "mode": "markers",
         "showlegend": false,
         "type": "scatter",
         "x": [
          6
         ],
         "y": [
          -33
         ]
        },
        {
         "marker": {
          "color": "blue",
          "opacity": 0.5,
          "size": 1.2195121951219512
         },
         "mode": "markers",
         "showlegend": false,
         "type": "scatter",
         "x": [
          6
         ],
         "y": [
          19
         ]
        },
        {
         "marker": {
          "color": "blue",
          "opacity": 0.5,
          "size": 1.2195121951219512
         },
         "mode": "markers",
         "showlegend": false,
         "type": "scatter",
         "x": [
          7
         ],
         "y": [
          12
         ]
        },
        {
         "marker": {
          "color": "blue",
          "opacity": 0.5,
          "size": 1.2195121951219512
         },
         "mode": "markers",
         "showlegend": false,
         "type": "scatter",
         "x": [
          7
         ],
         "y": [
          21
         ]
        },
        {
         "marker": {
          "color": "blue",
          "opacity": 0.5,
          "size": 1.2195121951219512
         },
         "mode": "markers",
         "showlegend": false,
         "type": "scatter",
         "x": [
          7
         ],
         "y": [
          26
         ]
        },
        {
         "marker": {
          "color": "blue",
          "opacity": 0.5,
          "size": 1.2195121951219512
         },
         "mode": "markers",
         "showlegend": false,
         "type": "scatter",
         "x": [
          7
         ],
         "y": [
          27
         ]
        },
        {
         "marker": {
          "color": "blue",
          "opacity": 0.5,
          "size": 1.2195121951219512
         },
         "mode": "markers",
         "showlegend": false,
         "type": "scatter",
         "x": [
          8
         ],
         "y": [
          -33
         ]
        },
        {
         "marker": {
          "color": "blue",
          "opacity": 0.5,
          "size": 1.2195121951219512
         },
         "mode": "markers",
         "showlegend": false,
         "type": "scatter",
         "x": [
          8
         ],
         "y": [
          32
         ]
        },
        {
         "marker": {
          "color": "blue",
          "opacity": 0.5,
          "size": 1.2195121951219512
         },
         "mode": "markers",
         "showlegend": false,
         "type": "scatter",
         "x": [
          9
         ],
         "y": [
          -21
         ]
        },
        {
         "marker": {
          "color": "blue",
          "opacity": 0.5,
          "size": 1.2195121951219512
         },
         "mode": "markers",
         "showlegend": false,
         "type": "scatter",
         "x": [
          10
         ],
         "y": [
          -23
         ]
        },
        {
         "marker": {
          "color": "blue",
          "opacity": 0.5,
          "size": 1.2195121951219512
         },
         "mode": "markers",
         "showlegend": false,
         "type": "scatter",
         "x": [
          10
         ],
         "y": [
          31
         ]
        },
        {
         "marker": {
          "color": "blue",
          "opacity": 0.5,
          "size": 1.2195121951219512
         },
         "mode": "markers",
         "showlegend": false,
         "type": "scatter",
         "x": [
          11
         ],
         "y": [
          -35
         ]
        },
        {
         "marker": {
          "color": "blue",
          "opacity": 0.5,
          "size": 1.2195121951219512
         },
         "mode": "markers",
         "showlegend": false,
         "type": "scatter",
         "x": [
          11
         ],
         "y": [
          24
         ]
        },
        {
         "marker": {
          "color": "blue",
          "opacity": 0.5,
          "size": 1.2195121951219512
         },
         "mode": "markers",
         "showlegend": false,
         "type": "scatter",
         "x": [
          11
         ],
         "y": [
          34
         ]
        },
        {
         "marker": {
          "color": "blue",
          "opacity": 0.5,
          "size": 1.2195121951219512
         },
         "mode": "markers",
         "showlegend": false,
         "type": "scatter",
         "x": [
          12
         ],
         "y": [
          -9
         ]
        },
        {
         "marker": {
          "color": "blue",
          "opacity": 0.5,
          "size": 1.2195121951219512
         },
         "mode": "markers",
         "showlegend": false,
         "type": "scatter",
         "x": [
          12
         ],
         "y": [
          -5
         ]
        },
        {
         "marker": {
          "color": "blue",
          "opacity": 0.5,
          "size": 1.2195121951219512
         },
         "mode": "markers",
         "showlegend": false,
         "type": "scatter",
         "x": [
          13
         ],
         "y": [
          -24
         ]
        },
        {
         "marker": {
          "color": "blue",
          "opacity": 0.5,
          "size": 1.2195121951219512
         },
         "mode": "markers",
         "showlegend": false,
         "type": "scatter",
         "x": [
          13
         ],
         "y": [
          -19
         ]
        },
        {
         "marker": {
          "color": "blue",
          "opacity": 0.5,
          "size": 1.2195121951219512
         },
         "mode": "markers",
         "showlegend": false,
         "type": "scatter",
         "x": [
          13
         ],
         "y": [
          4
         ]
        },
        {
         "marker": {
          "color": "blue",
          "opacity": 0.5,
          "size": 1.2195121951219512
         },
         "mode": "markers",
         "showlegend": false,
         "type": "scatter",
         "x": [
          13
         ],
         "y": [
          24
         ]
        },
        {
         "marker": {
          "color": "blue",
          "opacity": 0.5,
          "size": 1.2195121951219512
         },
         "mode": "markers",
         "showlegend": false,
         "type": "scatter",
         "x": [
          13
         ],
         "y": [
          31
         ]
        },
        {
         "marker": {
          "color": "blue",
          "opacity": 0.5,
          "size": 1.2195121951219512
         },
         "mode": "markers",
         "showlegend": false,
         "type": "scatter",
         "x": [
          14
         ],
         "y": [
          -12
         ]
        },
        {
         "marker": {
          "color": "blue",
          "opacity": 0.5,
          "size": 1.2195121951219512
         },
         "mode": "markers",
         "showlegend": false,
         "type": "scatter",
         "x": [
          14
         ],
         "y": [
          -3
         ]
        },
        {
         "marker": {
          "color": "blue",
          "opacity": 0.5,
          "size": 1.2195121951219512
         },
         "mode": "markers",
         "showlegend": false,
         "type": "scatter",
         "x": [
          14
         ],
         "y": [
          23
         ]
        },
        {
         "marker": {
          "color": "blue",
          "opacity": 0.5,
          "size": 1.2195121951219512
         },
         "mode": "markers",
         "showlegend": false,
         "type": "scatter",
         "x": [
          16
         ],
         "y": [
          -13
         ]
        },
        {
         "marker": {
          "color": "blue",
          "opacity": 0.5,
          "size": 1.2195121951219512
         },
         "mode": "markers",
         "showlegend": false,
         "type": "scatter",
         "x": [
          16
         ],
         "y": [
          3
         ]
        },
        {
         "marker": {
          "color": "blue",
          "opacity": 0.5,
          "size": 1.2195121951219512
         },
         "mode": "markers",
         "showlegend": false,
         "type": "scatter",
         "x": [
          16
         ],
         "y": [
          23
         ]
        },
        {
         "marker": {
          "color": "blue",
          "opacity": 0.5,
          "size": 1.2195121951219512
         },
         "mode": "markers",
         "showlegend": false,
         "type": "scatter",
         "x": [
          17
         ],
         "y": [
          -35
         ]
        },
        {
         "marker": {
          "color": "blue",
          "opacity": 0.5,
          "size": 1.2195121951219512
         },
         "mode": "markers",
         "showlegend": false,
         "type": "scatter",
         "x": [
          17
         ],
         "y": [
          -23
         ]
        },
        {
         "marker": {
          "color": "blue",
          "opacity": 0.5,
          "size": 1.2195121951219512
         },
         "mode": "markers",
         "showlegend": false,
         "type": "scatter",
         "x": [
          17
         ],
         "y": [
          -8
         ]
        },
        {
         "marker": {
          "color": "blue",
          "opacity": 0.5,
          "size": 1.2195121951219512
         },
         "mode": "markers",
         "showlegend": false,
         "type": "scatter",
         "x": [
          17
         ],
         "y": [
          -5
         ]
        },
        {
         "marker": {
          "color": "blue",
          "opacity": 0.5,
          "size": 1.2195121951219512
         },
         "mode": "markers",
         "showlegend": false,
         "type": "scatter",
         "x": [
          17
         ],
         "y": [
          1
         ]
        },
        {
         "marker": {
          "color": "blue",
          "opacity": 0.5,
          "size": 1.2195121951219512
         },
         "mode": "markers",
         "showlegend": false,
         "type": "scatter",
         "x": [
          18
         ],
         "y": [
          -27
         ]
        },
        {
         "marker": {
          "color": "blue",
          "opacity": 0.5,
          "size": 1.2195121951219512
         },
         "mode": "markers",
         "showlegend": false,
         "type": "scatter",
         "x": [
          18
         ],
         "y": [
          7
         ]
        },
        {
         "marker": {
          "color": "blue",
          "opacity": 0.5,
          "size": 1.2195121951219512
         },
         "mode": "markers",
         "showlegend": false,
         "type": "scatter",
         "x": [
          18
         ],
         "y": [
          33
         ]
        },
        {
         "marker": {
          "color": "blue",
          "opacity": 0.5,
          "size": 1.2195121951219512
         },
         "mode": "markers",
         "showlegend": false,
         "type": "scatter",
         "x": [
          19
         ],
         "y": [
          37
         ]
        },
        {
         "marker": {
          "color": "blue",
          "opacity": 0.5,
          "size": 1.2195121951219512
         },
         "mode": "markers",
         "showlegend": false,
         "type": "scatter",
         "x": [
          20
         ],
         "y": [
          -28
         ]
        },
        {
         "marker": {
          "color": "blue",
          "opacity": 0.5,
          "size": 1.2195121951219512
         },
         "mode": "markers",
         "showlegend": false,
         "type": "scatter",
         "x": [
          20
         ],
         "y": [
          -3
         ]
        },
        {
         "marker": {
          "color": "blue",
          "opacity": 0.5,
          "size": 1.2195121951219512
         },
         "mode": "markers",
         "showlegend": false,
         "type": "scatter",
         "x": [
          21
         ],
         "y": [
          -31
         ]
        },
        {
         "marker": {
          "color": "blue",
          "opacity": 0.5,
          "size": 1.2195121951219512
         },
         "mode": "markers",
         "showlegend": false,
         "type": "scatter",
         "x": [
          21
         ],
         "y": [
          -25
         ]
        },
        {
         "marker": {
          "color": "blue",
          "opacity": 0.5,
          "size": 1.2195121951219512
         },
         "mode": "markers",
         "showlegend": false,
         "type": "scatter",
         "x": [
          21
         ],
         "y": [
          -14
         ]
        },
        {
         "marker": {
          "color": "blue",
          "opacity": 0.5,
          "size": 1.2195121951219512
         },
         "mode": "markers",
         "showlegend": false,
         "type": "scatter",
         "x": [
          21
         ],
         "y": [
          -4
         ]
        },
        {
         "marker": {
          "color": "blue",
          "opacity": 0.5,
          "size": 1.2195121951219512
         },
         "mode": "markers",
         "showlegend": false,
         "type": "scatter",
         "x": [
          22
         ],
         "y": [
          -6
         ]
        },
        {
         "marker": {
          "color": "blue",
          "opacity": 0.5,
          "size": 1.2195121951219512
         },
         "mode": "markers",
         "showlegend": false,
         "type": "scatter",
         "x": [
          22
         ],
         "y": [
          13
         ]
        },
        {
         "marker": {
          "color": "blue",
          "opacity": 0.5,
          "size": 1.2195121951219512
         },
         "mode": "markers",
         "showlegend": false,
         "type": "scatter",
         "x": [
          22
         ],
         "y": [
          31
         ]
        },
        {
         "marker": {
          "color": "blue",
          "opacity": 0.5,
          "size": 1.2195121951219512
         },
         "mode": "markers",
         "showlegend": false,
         "type": "scatter",
         "x": [
          22
         ],
         "y": [
          36
         ]
        },
        {
         "marker": {
          "color": "blue",
          "opacity": 0.5,
          "size": 1.2195121951219512
         },
         "mode": "markers",
         "showlegend": false,
         "type": "scatter",
         "x": [
          23
         ],
         "y": [
          4
         ]
        },
        {
         "marker": {
          "color": "blue",
          "opacity": 0.5,
          "size": 1.2195121951219512
         },
         "mode": "markers",
         "showlegend": false,
         "type": "scatter",
         "x": [
          23
         ],
         "y": [
          26
         ]
        },
        {
         "marker": {
          "color": "blue",
          "opacity": 0.5,
          "size": 1.2195121951219512
         },
         "mode": "markers",
         "showlegend": false,
         "type": "scatter",
         "x": [
          23
         ],
         "y": [
          29
         ]
        },
        {
         "marker": {
          "color": "blue",
          "opacity": 0.5,
          "size": 1.2195121951219512
         },
         "mode": "markers",
         "showlegend": false,
         "type": "scatter",
         "x": [
          24
         ],
         "y": [
          -5
         ]
        },
        {
         "marker": {
          "color": "blue",
          "opacity": 0.5,
          "size": 1.2195121951219512
         },
         "mode": "markers",
         "showlegend": false,
         "type": "scatter",
         "x": [
          24
         ],
         "y": [
          0
         ]
        },
        {
         "marker": {
          "color": "blue",
          "opacity": 0.5,
          "size": 1.2195121951219512
         },
         "mode": "markers",
         "showlegend": false,
         "type": "scatter",
         "x": [
          25
         ],
         "y": [
          1
         ]
        },
        {
         "marker": {
          "color": "blue",
          "opacity": 0.5,
          "size": 1.2195121951219512
         },
         "mode": "markers",
         "showlegend": false,
         "type": "scatter",
         "x": [
          25
         ],
         "y": [
          8
         ]
        },
        {
         "marker": {
          "color": "blue",
          "opacity": 0.5,
          "size": 1.2195121951219512
         },
         "mode": "markers",
         "showlegend": false,
         "type": "scatter",
         "x": [
          26
         ],
         "y": [
          -11
         ]
        },
        {
         "marker": {
          "color": "blue",
          "opacity": 0.5,
          "size": 1.2195121951219512
         },
         "mode": "markers",
         "showlegend": false,
         "type": "scatter",
         "x": [
          26
         ],
         "y": [
          -5
         ]
        },
        {
         "marker": {
          "color": "blue",
          "opacity": 0.5,
          "size": 1.2195121951219512
         },
         "mode": "markers",
         "showlegend": false,
         "type": "scatter",
         "x": [
          26
         ],
         "y": [
          7
         ]
        },
        {
         "marker": {
          "color": "blue",
          "opacity": 0.5,
          "size": 1.2195121951219512
         },
         "mode": "markers",
         "showlegend": false,
         "type": "scatter",
         "x": [
          28
         ],
         "y": [
          -16
         ]
        },
        {
         "marker": {
          "color": "blue",
          "opacity": 0.5,
          "size": 1.2195121951219512
         },
         "mode": "markers",
         "showlegend": false,
         "type": "scatter",
         "x": [
          28
         ],
         "y": [
          7
         ]
        },
        {
         "marker": {
          "color": "blue",
          "opacity": 0.5,
          "size": 1.2195121951219512
         },
         "mode": "markers",
         "showlegend": false,
         "type": "scatter",
         "x": [
          28
         ],
         "y": [
          31
         ]
        },
        {
         "marker": {
          "color": "blue",
          "opacity": 0.5,
          "size": 1.2195121951219512
         },
         "mode": "markers",
         "showlegend": false,
         "type": "scatter",
         "x": [
          29
         ],
         "y": [
          -25
         ]
        },
        {
         "marker": {
          "color": "blue",
          "opacity": 0.5,
          "size": 1.2195121951219512
         },
         "mode": "markers",
         "showlegend": false,
         "type": "scatter",
         "x": [
          29
         ],
         "y": [
          -23
         ]
        },
        {
         "marker": {
          "color": "blue",
          "opacity": 0.5,
          "size": 1.2195121951219512
         },
         "mode": "markers",
         "showlegend": false,
         "type": "scatter",
         "x": [
          29
         ],
         "y": [
          10
         ]
        },
        {
         "marker": {
          "color": "blue",
          "opacity": 0.5,
          "size": 1.2195121951219512
         },
         "mode": "markers",
         "showlegend": false,
         "type": "scatter",
         "x": [
          29
         ],
         "y": [
          34
         ]
        },
        {
         "marker": {
          "color": "blue",
          "opacity": 0.5,
          "size": 1.2195121951219512
         },
         "mode": "markers",
         "showlegend": false,
         "type": "scatter",
         "x": [
          30
         ],
         "y": [
          -36
         ]
        },
        {
         "marker": {
          "color": "blue",
          "opacity": 0.5,
          "size": 1.2195121951219512
         },
         "mode": "markers",
         "showlegend": false,
         "type": "scatter",
         "x": [
          30
         ],
         "y": [
          -28
         ]
        },
        {
         "marker": {
          "color": "blue",
          "opacity": 0.5,
          "size": 1.2195121951219512
         },
         "mode": "markers",
         "showlegend": false,
         "type": "scatter",
         "x": [
          30
         ],
         "y": [
          -24
         ]
        },
        {
         "marker": {
          "color": "blue",
          "opacity": 0.5,
          "size": 1.2195121951219512
         },
         "mode": "markers",
         "showlegend": false,
         "type": "scatter",
         "x": [
          30
         ],
         "y": [
          0
         ]
        },
        {
         "marker": {
          "color": "blue",
          "opacity": 0.5,
          "size": 1.2195121951219512
         },
         "mode": "markers",
         "showlegend": false,
         "type": "scatter",
         "x": [
          30
         ],
         "y": [
          19
         ]
        },
        {
         "marker": {
          "color": "blue",
          "opacity": 0.5,
          "size": 1.2195121951219512
         },
         "mode": "markers",
         "showlegend": false,
         "type": "scatter",
         "x": [
          30
         ],
         "y": [
          24
         ]
        },
        {
         "marker": {
          "color": "blue",
          "opacity": 0.5,
          "size": 1.2195121951219512
         },
         "mode": "markers",
         "showlegend": false,
         "type": "scatter",
         "x": [
          30
         ],
         "y": [
          38
         ]
        },
        {
         "marker": {
          "color": "blue",
          "opacity": 0.5,
          "size": 1.2195121951219512
         },
         "mode": "markers",
         "showlegend": false,
         "type": "scatter",
         "x": [
          31
         ],
         "y": [
          -24
         ]
        },
        {
         "marker": {
          "color": "blue",
          "opacity": 0.5,
          "size": 1.2195121951219512
         },
         "mode": "markers",
         "showlegend": false,
         "type": "scatter",
         "x": [
          31
         ],
         "y": [
          -23
         ]
        },
        {
         "marker": {
          "color": "blue",
          "opacity": 0.5,
          "size": 1.2195121951219512
         },
         "mode": "markers",
         "showlegend": false,
         "type": "scatter",
         "x": [
          31
         ],
         "y": [
          -20
         ]
        },
        {
         "marker": {
          "color": "blue",
          "opacity": 0.5,
          "size": 1.2195121951219512
         },
         "mode": "markers",
         "showlegend": false,
         "type": "scatter",
         "x": [
          31
         ],
         "y": [
          -19
         ]
        },
        {
         "marker": {
          "color": "blue",
          "opacity": 0.5,
          "size": 1.2195121951219512
         },
         "mode": "markers",
         "showlegend": false,
         "type": "scatter",
         "x": [
          31
         ],
         "y": [
          -14
         ]
        },
        {
         "marker": {
          "color": "blue",
          "opacity": 0.5,
          "size": 1.2195121951219512
         },
         "mode": "markers",
         "showlegend": false,
         "type": "scatter",
         "x": [
          31
         ],
         "y": [
          -2
         ]
        },
        {
         "marker": {
          "color": "blue",
          "opacity": 0.5,
          "size": 1.2195121951219512
         },
         "mode": "markers",
         "showlegend": false,
         "type": "scatter",
         "x": [
          31
         ],
         "y": [
          -1
         ]
        },
        {
         "marker": {
          "color": "blue",
          "opacity": 0.5,
          "size": 1.2195121951219512
         },
         "mode": "markers",
         "showlegend": false,
         "type": "scatter",
         "x": [
          31
         ],
         "y": [
          13
         ]
        },
        {
         "marker": {
          "color": "blue",
          "opacity": 0.5,
          "size": 1.2195121951219512
         },
         "mode": "markers",
         "showlegend": false,
         "type": "scatter",
         "x": [
          31
         ],
         "y": [
          29
         ]
        },
        {
         "marker": {
          "color": "blue",
          "opacity": 0.5,
          "size": 1.2195121951219512
         },
         "mode": "markers",
         "showlegend": false,
         "type": "scatter",
         "x": [
          32
         ],
         "y": [
          -36
         ]
        },
        {
         "marker": {
          "color": "blue",
          "opacity": 0.5,
          "size": 1.2195121951219512
         },
         "mode": "markers",
         "showlegend": false,
         "type": "scatter",
         "x": [
          32
         ],
         "y": [
          -29
         ]
        },
        {
         "marker": {
          "color": "blue",
          "opacity": 0.5,
          "size": 1.2195121951219512
         },
         "mode": "markers",
         "showlegend": false,
         "type": "scatter",
         "x": [
          32
         ],
         "y": [
          -28
         ]
        },
        {
         "marker": {
          "color": "blue",
          "opacity": 0.5,
          "size": 1.2195121951219512
         },
         "mode": "markers",
         "showlegend": false,
         "type": "scatter",
         "x": [
          32
         ],
         "y": [
          -25
         ]
        },
        {
         "marker": {
          "color": "blue",
          "opacity": 0.5,
          "size": 1.2195121951219512
         },
         "mode": "markers",
         "showlegend": false,
         "type": "scatter",
         "x": [
          32
         ],
         "y": [
          -21
         ]
        },
        {
         "marker": {
          "color": "blue",
          "opacity": 0.5,
          "size": 1.2195121951219512
         },
         "mode": "markers",
         "showlegend": false,
         "type": "scatter",
         "x": [
          32
         ],
         "y": [
          -10
         ]
        },
        {
         "marker": {
          "color": "blue",
          "opacity": 0.5,
          "size": 1.2195121951219512
         },
         "mode": "markers",
         "showlegend": false,
         "type": "scatter",
         "x": [
          32
         ],
         "y": [
          -5
         ]
        },
        {
         "marker": {
          "color": "blue",
          "opacity": 0.5,
          "size": 1.2195121951219512
         },
         "mode": "markers",
         "showlegend": false,
         "type": "scatter",
         "x": [
          32
         ],
         "y": [
          -4
         ]
        },
        {
         "marker": {
          "color": "blue",
          "opacity": 0.5,
          "size": 1.2195121951219512
         },
         "mode": "markers",
         "showlegend": false,
         "type": "scatter",
         "x": [
          32
         ],
         "y": [
          -1
         ]
        },
        {
         "marker": {
          "color": "blue",
          "opacity": 0.5,
          "size": 3.6585365853658534
         },
         "mode": "markers",
         "showlegend": false,
         "type": "scatter",
         "x": [
          32
         ],
         "y": [
          3
         ]
        },
        {
         "marker": {
          "color": "blue",
          "opacity": 0.5,
          "size": 1.2195121951219512
         },
         "mode": "markers",
         "showlegend": false,
         "type": "scatter",
         "x": [
          32
         ],
         "y": [
          10
         ]
        },
        {
         "marker": {
          "color": "blue",
          "opacity": 0.5,
          "size": 2.4390243902439024
         },
         "mode": "markers",
         "showlegend": false,
         "type": "scatter",
         "x": [
          32
         ],
         "y": [
          27
         ]
        },
        {
         "marker": {
          "color": "blue",
          "opacity": 0.5,
          "size": 2.4390243902439024
         },
         "mode": "markers",
         "showlegend": false,
         "type": "scatter",
         "x": [
          32
         ],
         "y": [
          29
         ]
        },
        {
         "marker": {
          "color": "blue",
          "opacity": 0.5,
          "size": 1.2195121951219512
         },
         "mode": "markers",
         "showlegend": false,
         "type": "scatter",
         "x": [
          32
         ],
         "y": [
          31
         ]
        },
        {
         "marker": {
          "color": "blue",
          "opacity": 0.5,
          "size": 1.2195121951219512
         },
         "mode": "markers",
         "showlegend": false,
         "type": "scatter",
         "x": [
          32
         ],
         "y": [
          34
         ]
        },
        {
         "marker": {
          "color": "blue",
          "opacity": 0.5,
          "size": 1.2195121951219512
         },
         "mode": "markers",
         "showlegend": false,
         "type": "scatter",
         "x": [
          32
         ],
         "y": [
          35
         ]
        },
        {
         "marker": {
          "color": "blue",
          "opacity": 0.5,
          "size": 1.2195121951219512
         },
         "mode": "markers",
         "showlegend": false,
         "type": "scatter",
         "x": [
          32
         ],
         "y": [
          37
         ]
        },
        {
         "marker": {
          "color": "blue",
          "opacity": 0.5,
          "size": 1.2195121951219512
         },
         "mode": "markers",
         "showlegend": false,
         "type": "scatter",
         "x": [
          33
         ],
         "y": [
          -31
         ]
        },
        {
         "marker": {
          "color": "blue",
          "opacity": 0.5,
          "size": 2.4390243902439024
         },
         "mode": "markers",
         "showlegend": false,
         "type": "scatter",
         "x": [
          33
         ],
         "y": [
          -25
         ]
        },
        {
         "marker": {
          "color": "blue",
          "opacity": 0.5,
          "size": 1.2195121951219512
         },
         "mode": "markers",
         "showlegend": false,
         "type": "scatter",
         "x": [
          33
         ],
         "y": [
          -23
         ]
        },
        {
         "marker": {
          "color": "blue",
          "opacity": 0.5,
          "size": 1.2195121951219512
         },
         "mode": "markers",
         "showlegend": false,
         "type": "scatter",
         "x": [
          33
         ],
         "y": [
          -21
         ]
        },
        {
         "marker": {
          "color": "blue",
          "opacity": 0.5,
          "size": 1.2195121951219512
         },
         "mode": "markers",
         "showlegend": false,
         "type": "scatter",
         "x": [
          33
         ],
         "y": [
          -20
         ]
        },
        {
         "marker": {
          "color": "blue",
          "opacity": 0.5,
          "size": 1.2195121951219512
         },
         "mode": "markers",
         "showlegend": false,
         "type": "scatter",
         "x": [
          33
         ],
         "y": [
          -18
         ]
        },
        {
         "marker": {
          "color": "blue",
          "opacity": 0.5,
          "size": 2.4390243902439024
         },
         "mode": "markers",
         "showlegend": false,
         "type": "scatter",
         "x": [
          33
         ],
         "y": [
          -11
         ]
        },
        {
         "marker": {
          "color": "blue",
          "opacity": 0.5,
          "size": 1.2195121951219512
         },
         "mode": "markers",
         "showlegend": false,
         "type": "scatter",
         "x": [
          33
         ],
         "y": [
          -8
         ]
        },
        {
         "marker": {
          "color": "blue",
          "opacity": 0.5,
          "size": 2.4390243902439024
         },
         "mode": "markers",
         "showlegend": false,
         "type": "scatter",
         "x": [
          33
         ],
         "y": [
          -1
         ]
        },
        {
         "marker": {
          "color": "blue",
          "opacity": 0.5,
          "size": 1.2195121951219512
         },
         "mode": "markers",
         "showlegend": false,
         "type": "scatter",
         "x": [
          33
         ],
         "y": [
          1
         ]
        },
        {
         "marker": {
          "color": "blue",
          "opacity": 0.5,
          "size": 1.2195121951219512
         },
         "mode": "markers",
         "showlegend": false,
         "type": "scatter",
         "x": [
          33
         ],
         "y": [
          2
         ]
        },
        {
         "marker": {
          "color": "blue",
          "opacity": 0.5,
          "size": 1.2195121951219512
         },
         "mode": "markers",
         "showlegend": false,
         "type": "scatter",
         "x": [
          33
         ],
         "y": [
          5
         ]
        },
        {
         "marker": {
          "color": "blue",
          "opacity": 0.5,
          "size": 1.2195121951219512
         },
         "mode": "markers",
         "showlegend": false,
         "type": "scatter",
         "x": [
          33
         ],
         "y": [
          8
         ]
        },
        {
         "marker": {
          "color": "blue",
          "opacity": 0.5,
          "size": 2.4390243902439024
         },
         "mode": "markers",
         "showlegend": false,
         "type": "scatter",
         "x": [
          33
         ],
         "y": [
          9
         ]
        },
        {
         "marker": {
          "color": "blue",
          "opacity": 0.5,
          "size": 1.2195121951219512
         },
         "mode": "markers",
         "showlegend": false,
         "type": "scatter",
         "x": [
          33
         ],
         "y": [
          15
         ]
        },
        {
         "marker": {
          "color": "blue",
          "opacity": 0.5,
          "size": 1.2195121951219512
         },
         "mode": "markers",
         "showlegend": false,
         "type": "scatter",
         "x": [
          33
         ],
         "y": [
          16
         ]
        },
        {
         "marker": {
          "color": "blue",
          "opacity": 0.5,
          "size": 1.2195121951219512
         },
         "mode": "markers",
         "showlegend": false,
         "type": "scatter",
         "x": [
          33
         ],
         "y": [
          22
         ]
        },
        {
         "marker": {
          "color": "blue",
          "opacity": 0.5,
          "size": 1.2195121951219512
         },
         "mode": "markers",
         "showlegend": false,
         "type": "scatter",
         "x": [
          33
         ],
         "y": [
          26
         ]
        },
        {
         "marker": {
          "color": "blue",
          "opacity": 0.5,
          "size": 1.2195121951219512
         },
         "mode": "markers",
         "showlegend": false,
         "type": "scatter",
         "x": [
          33
         ],
         "y": [
          27
         ]
        },
        {
         "marker": {
          "color": "blue",
          "opacity": 0.5,
          "size": 2.4390243902439024
         },
         "mode": "markers",
         "showlegend": false,
         "type": "scatter",
         "x": [
          33
         ],
         "y": [
          28
         ]
        },
        {
         "marker": {
          "color": "blue",
          "opacity": 0.5,
          "size": 1.2195121951219512
         },
         "mode": "markers",
         "showlegend": false,
         "type": "scatter",
         "x": [
          33
         ],
         "y": [
          29
         ]
        },
        {
         "marker": {
          "color": "blue",
          "opacity": 0.5,
          "size": 2.4390243902439024
         },
         "mode": "markers",
         "showlegend": false,
         "type": "scatter",
         "x": [
          33
         ],
         "y": [
          33
         ]
        },
        {
         "marker": {
          "color": "blue",
          "opacity": 0.5,
          "size": 1.2195121951219512
         },
         "mode": "markers",
         "showlegend": false,
         "type": "scatter",
         "x": [
          33
         ],
         "y": [
          36
         ]
        },
        {
         "marker": {
          "color": "blue",
          "opacity": 0.5,
          "size": 1.2195121951219512
         },
         "mode": "markers",
         "showlegend": false,
         "type": "scatter",
         "x": [
          34
         ],
         "y": [
          -33
         ]
        },
        {
         "marker": {
          "color": "blue",
          "opacity": 0.5,
          "size": 1.2195121951219512
         },
         "mode": "markers",
         "showlegend": false,
         "type": "scatter",
         "x": [
          34
         ],
         "y": [
          -32
         ]
        },
        {
         "marker": {
          "color": "blue",
          "opacity": 0.5,
          "size": 2.4390243902439024
         },
         "mode": "markers",
         "showlegend": false,
         "type": "scatter",
         "x": [
          34
         ],
         "y": [
          -28
         ]
        },
        {
         "marker": {
          "color": "blue",
          "opacity": 0.5,
          "size": 1.2195121951219512
         },
         "mode": "markers",
         "showlegend": false,
         "type": "scatter",
         "x": [
          34
         ],
         "y": [
          -25
         ]
        },
        {
         "marker": {
          "color": "blue",
          "opacity": 0.5,
          "size": 1.2195121951219512
         },
         "mode": "markers",
         "showlegend": false,
         "type": "scatter",
         "x": [
          34
         ],
         "y": [
          -23
         ]
        },
        {
         "marker": {
          "color": "blue",
          "opacity": 0.5,
          "size": 1.2195121951219512
         },
         "mode": "markers",
         "showlegend": false,
         "type": "scatter",
         "x": [
          34
         ],
         "y": [
          -22
         ]
        },
        {
         "marker": {
          "color": "blue",
          "opacity": 0.5,
          "size": 1.2195121951219512
         },
         "mode": "markers",
         "showlegend": false,
         "type": "scatter",
         "x": [
          34
         ],
         "y": [
          -20
         ]
        },
        {
         "marker": {
          "color": "blue",
          "opacity": 0.5,
          "size": 1.2195121951219512
         },
         "mode": "markers",
         "showlegend": false,
         "type": "scatter",
         "x": [
          34
         ],
         "y": [
          -17
         ]
        },
        {
         "marker": {
          "color": "blue",
          "opacity": 0.5,
          "size": 1.2195121951219512
         },
         "mode": "markers",
         "showlegend": false,
         "type": "scatter",
         "x": [
          34
         ],
         "y": [
          -16
         ]
        },
        {
         "marker": {
          "color": "blue",
          "opacity": 0.5,
          "size": 2.4390243902439024
         },
         "mode": "markers",
         "showlegend": false,
         "type": "scatter",
         "x": [
          34
         ],
         "y": [
          -13
         ]
        },
        {
         "marker": {
          "color": "blue",
          "opacity": 0.5,
          "size": 1.2195121951219512
         },
         "mode": "markers",
         "showlegend": false,
         "type": "scatter",
         "x": [
          34
         ],
         "y": [
          -12
         ]
        },
        {
         "marker": {
          "color": "blue",
          "opacity": 0.5,
          "size": 2.4390243902439024
         },
         "mode": "markers",
         "showlegend": false,
         "type": "scatter",
         "x": [
          34
         ],
         "y": [
          -10
         ]
        },
        {
         "marker": {
          "color": "blue",
          "opacity": 0.5,
          "size": 1.2195121951219512
         },
         "mode": "markers",
         "showlegend": false,
         "type": "scatter",
         "x": [
          34
         ],
         "y": [
          -7
         ]
        },
        {
         "marker": {
          "color": "blue",
          "opacity": 0.5,
          "size": 1.2195121951219512
         },
         "mode": "markers",
         "showlegend": false,
         "type": "scatter",
         "x": [
          34
         ],
         "y": [
          -6
         ]
        },
        {
         "marker": {
          "color": "blue",
          "opacity": 0.5,
          "size": 1.2195121951219512
         },
         "mode": "markers",
         "showlegend": false,
         "type": "scatter",
         "x": [
          34
         ],
         "y": [
          -5
         ]
        },
        {
         "marker": {
          "color": "blue",
          "opacity": 0.5,
          "size": 2.4390243902439024
         },
         "mode": "markers",
         "showlegend": false,
         "type": "scatter",
         "x": [
          34
         ],
         "y": [
          -3
         ]
        },
        {
         "marker": {
          "color": "blue",
          "opacity": 0.5,
          "size": 2.4390243902439024
         },
         "mode": "markers",
         "showlegend": false,
         "type": "scatter",
         "x": [
          34
         ],
         "y": [
          2
         ]
        },
        {
         "marker": {
          "color": "blue",
          "opacity": 0.5,
          "size": 1.2195121951219512
         },
         "mode": "markers",
         "showlegend": false,
         "type": "scatter",
         "x": [
          34
         ],
         "y": [
          3
         ]
        },
        {
         "marker": {
          "color": "blue",
          "opacity": 0.5,
          "size": 2.4390243902439024
         },
         "mode": "markers",
         "showlegend": false,
         "type": "scatter",
         "x": [
          34
         ],
         "y": [
          10
         ]
        },
        {
         "marker": {
          "color": "blue",
          "opacity": 0.5,
          "size": 2.4390243902439024
         },
         "mode": "markers",
         "showlegend": false,
         "type": "scatter",
         "x": [
          34
         ],
         "y": [
          13
         ]
        },
        {
         "marker": {
          "color": "blue",
          "opacity": 0.5,
          "size": 1.2195121951219512
         },
         "mode": "markers",
         "showlegend": false,
         "type": "scatter",
         "x": [
          34
         ],
         "y": [
          17
         ]
        },
        {
         "marker": {
          "color": "blue",
          "opacity": 0.5,
          "size": 1.2195121951219512
         },
         "mode": "markers",
         "showlegend": false,
         "type": "scatter",
         "x": [
          34
         ],
         "y": [
          18
         ]
        },
        {
         "marker": {
          "color": "blue",
          "opacity": 0.5,
          "size": 1.2195121951219512
         },
         "mode": "markers",
         "showlegend": false,
         "type": "scatter",
         "x": [
          34
         ],
         "y": [
          19
         ]
        },
        {
         "marker": {
          "color": "blue",
          "opacity": 0.5,
          "size": 4.878048780487805
         },
         "mode": "markers",
         "showlegend": false,
         "type": "scatter",
         "x": [
          34
         ],
         "y": [
          20
         ]
        },
        {
         "marker": {
          "color": "blue",
          "opacity": 0.5,
          "size": 2.4390243902439024
         },
         "mode": "markers",
         "showlegend": false,
         "type": "scatter",
         "x": [
          34
         ],
         "y": [
          21
         ]
        },
        {
         "marker": {
          "color": "blue",
          "opacity": 0.5,
          "size": 1.2195121951219512
         },
         "mode": "markers",
         "showlegend": false,
         "type": "scatter",
         "x": [
          34
         ],
         "y": [
          22
         ]
        },
        {
         "marker": {
          "color": "blue",
          "opacity": 0.5,
          "size": 2.4390243902439024
         },
         "mode": "markers",
         "showlegend": false,
         "type": "scatter",
         "x": [
          34
         ],
         "y": [
          24
         ]
        },
        {
         "marker": {
          "color": "blue",
          "opacity": 0.5,
          "size": 1.2195121951219512
         },
         "mode": "markers",
         "showlegend": false,
         "type": "scatter",
         "x": [
          34
         ],
         "y": [
          25
         ]
        },
        {
         "marker": {
          "color": "blue",
          "opacity": 0.5,
          "size": 1.2195121951219512
         },
         "mode": "markers",
         "showlegend": false,
         "type": "scatter",
         "x": [
          34
         ],
         "y": [
          27
         ]
        },
        {
         "marker": {
          "color": "blue",
          "opacity": 0.5,
          "size": 2.4390243902439024
         },
         "mode": "markers",
         "showlegend": false,
         "type": "scatter",
         "x": [
          34
         ],
         "y": [
          28
         ]
        },
        {
         "marker": {
          "color": "blue",
          "opacity": 0.5,
          "size": 1.2195121951219512
         },
         "mode": "markers",
         "showlegend": false,
         "type": "scatter",
         "x": [
          34
         ],
         "y": [
          29
         ]
        },
        {
         "marker": {
          "color": "blue",
          "opacity": 0.5,
          "size": 3.6585365853658534
         },
         "mode": "markers",
         "showlegend": false,
         "type": "scatter",
         "x": [
          34
         ],
         "y": [
          32
         ]
        },
        {
         "marker": {
          "color": "blue",
          "opacity": 0.5,
          "size": 1.2195121951219512
         },
         "mode": "markers",
         "showlegend": false,
         "type": "scatter",
         "x": [
          34
         ],
         "y": [
          33
         ]
        },
        {
         "marker": {
          "color": "blue",
          "opacity": 0.5,
          "size": 2.4390243902439024
         },
         "mode": "markers",
         "showlegend": false,
         "type": "scatter",
         "x": [
          35
         ],
         "y": [
          -36
         ]
        },
        {
         "marker": {
          "color": "blue",
          "opacity": 0.5,
          "size": 1.2195121951219512
         },
         "mode": "markers",
         "showlegend": false,
         "type": "scatter",
         "x": [
          35
         ],
         "y": [
          -35
         ]
        },
        {
         "marker": {
          "color": "blue",
          "opacity": 0.5,
          "size": 1.2195121951219512
         },
         "mode": "markers",
         "showlegend": false,
         "type": "scatter",
         "x": [
          35
         ],
         "y": [
          -33
         ]
        },
        {
         "marker": {
          "color": "blue",
          "opacity": 0.5,
          "size": 1.2195121951219512
         },
         "mode": "markers",
         "showlegend": false,
         "type": "scatter",
         "x": [
          35
         ],
         "y": [
          -30
         ]
        },
        {
         "marker": {
          "color": "blue",
          "opacity": 0.5,
          "size": 1.2195121951219512
         },
         "mode": "markers",
         "showlegend": false,
         "type": "scatter",
         "x": [
          35
         ],
         "y": [
          -29
         ]
        },
        {
         "marker": {
          "color": "blue",
          "opacity": 0.5,
          "size": 1.2195121951219512
         },
         "mode": "markers",
         "showlegend": false,
         "type": "scatter",
         "x": [
          35
         ],
         "y": [
          -28
         ]
        },
        {
         "marker": {
          "color": "blue",
          "opacity": 0.5,
          "size": 1.2195121951219512
         },
         "mode": "markers",
         "showlegend": false,
         "type": "scatter",
         "x": [
          35
         ],
         "y": [
          -27
         ]
        },
        {
         "marker": {
          "color": "blue",
          "opacity": 0.5,
          "size": 1.2195121951219512
         },
         "mode": "markers",
         "showlegend": false,
         "type": "scatter",
         "x": [
          35
         ],
         "y": [
          -22
         ]
        },
        {
         "marker": {
          "color": "blue",
          "opacity": 0.5,
          "size": 2.4390243902439024
         },
         "mode": "markers",
         "showlegend": false,
         "type": "scatter",
         "x": [
          35
         ],
         "y": [
          -21
         ]
        },
        {
         "marker": {
          "color": "blue",
          "opacity": 0.5,
          "size": 1.2195121951219512
         },
         "mode": "markers",
         "showlegend": false,
         "type": "scatter",
         "x": [
          35
         ],
         "y": [
          -19
         ]
        },
        {
         "marker": {
          "color": "blue",
          "opacity": 0.5,
          "size": 1.2195121951219512
         },
         "mode": "markers",
         "showlegend": false,
         "type": "scatter",
         "x": [
          35
         ],
         "y": [
          -16
         ]
        },
        {
         "marker": {
          "color": "blue",
          "opacity": 0.5,
          "size": 1.2195121951219512
         },
         "mode": "markers",
         "showlegend": false,
         "type": "scatter",
         "x": [
          35
         ],
         "y": [
          -14
         ]
        },
        {
         "marker": {
          "color": "blue",
          "opacity": 0.5,
          "size": 1.2195121951219512
         },
         "mode": "markers",
         "showlegend": false,
         "type": "scatter",
         "x": [
          35
         ],
         "y": [
          -12
         ]
        },
        {
         "marker": {
          "color": "blue",
          "opacity": 0.5,
          "size": 1.2195121951219512
         },
         "mode": "markers",
         "showlegend": false,
         "type": "scatter",
         "x": [
          35
         ],
         "y": [
          -10
         ]
        },
        {
         "marker": {
          "color": "blue",
          "opacity": 0.5,
          "size": 1.2195121951219512
         },
         "mode": "markers",
         "showlegend": false,
         "type": "scatter",
         "x": [
          35
         ],
         "y": [
          -9
         ]
        },
        {
         "marker": {
          "color": "blue",
          "opacity": 0.5,
          "size": 1.2195121951219512
         },
         "mode": "markers",
         "showlegend": false,
         "type": "scatter",
         "x": [
          35
         ],
         "y": [
          -8
         ]
        },
        {
         "marker": {
          "color": "blue",
          "opacity": 0.5,
          "size": 1.2195121951219512
         },
         "mode": "markers",
         "showlegend": false,
         "type": "scatter",
         "x": [
          35
         ],
         "y": [
          -7
         ]
        },
        {
         "marker": {
          "color": "blue",
          "opacity": 0.5,
          "size": 1.2195121951219512
         },
         "mode": "markers",
         "showlegend": false,
         "type": "scatter",
         "x": [
          35
         ],
         "y": [
          -4
         ]
        },
        {
         "marker": {
          "color": "blue",
          "opacity": 0.5,
          "size": 1.2195121951219512
         },
         "mode": "markers",
         "showlegend": false,
         "type": "scatter",
         "x": [
          35
         ],
         "y": [
          -3
         ]
        },
        {
         "marker": {
          "color": "blue",
          "opacity": 0.5,
          "size": 3.6585365853658534
         },
         "mode": "markers",
         "showlegend": false,
         "type": "scatter",
         "x": [
          35
         ],
         "y": [
          -2
         ]
        },
        {
         "marker": {
          "color": "blue",
          "opacity": 0.5,
          "size": 1.2195121951219512
         },
         "mode": "markers",
         "showlegend": false,
         "type": "scatter",
         "x": [
          35
         ],
         "y": [
          -1
         ]
        },
        {
         "marker": {
          "color": "blue",
          "opacity": 0.5,
          "size": 1.2195121951219512
         },
         "mode": "markers",
         "showlegend": false,
         "type": "scatter",
         "x": [
          35
         ],
         "y": [
          1
         ]
        },
        {
         "marker": {
          "color": "blue",
          "opacity": 0.5,
          "size": 4.878048780487805
         },
         "mode": "markers",
         "showlegend": false,
         "type": "scatter",
         "x": [
          35
         ],
         "y": [
          3
         ]
        },
        {
         "marker": {
          "color": "blue",
          "opacity": 0.5,
          "size": 1.2195121951219512
         },
         "mode": "markers",
         "showlegend": false,
         "type": "scatter",
         "x": [
          35
         ],
         "y": [
          7
         ]
        },
        {
         "marker": {
          "color": "blue",
          "opacity": 0.5,
          "size": 1.2195121951219512
         },
         "mode": "markers",
         "showlegend": false,
         "type": "scatter",
         "x": [
          35
         ],
         "y": [
          9
         ]
        },
        {
         "marker": {
          "color": "blue",
          "opacity": 0.5,
          "size": 1.2195121951219512
         },
         "mode": "markers",
         "showlegend": false,
         "type": "scatter",
         "x": [
          35
         ],
         "y": [
          10
         ]
        },
        {
         "marker": {
          "color": "blue",
          "opacity": 0.5,
          "size": 1.2195121951219512
         },
         "mode": "markers",
         "showlegend": false,
         "type": "scatter",
         "x": [
          35
         ],
         "y": [
          11
         ]
        },
        {
         "marker": {
          "color": "blue",
          "opacity": 0.5,
          "size": 1.2195121951219512
         },
         "mode": "markers",
         "showlegend": false,
         "type": "scatter",
         "x": [
          35
         ],
         "y": [
          14
         ]
        },
        {
         "marker": {
          "color": "blue",
          "opacity": 0.5,
          "size": 2.4390243902439024
         },
         "mode": "markers",
         "showlegend": false,
         "type": "scatter",
         "x": [
          35
         ],
         "y": [
          16
         ]
        },
        {
         "marker": {
          "color": "blue",
          "opacity": 0.5,
          "size": 1.2195121951219512
         },
         "mode": "markers",
         "showlegend": false,
         "type": "scatter",
         "x": [
          35
         ],
         "y": [
          18
         ]
        },
        {
         "marker": {
          "color": "blue",
          "opacity": 0.5,
          "size": 1.2195121951219512
         },
         "mode": "markers",
         "showlegend": false,
         "type": "scatter",
         "x": [
          35
         ],
         "y": [
          20
         ]
        },
        {
         "marker": {
          "color": "blue",
          "opacity": 0.5,
          "size": 1.2195121951219512
         },
         "mode": "markers",
         "showlegend": false,
         "type": "scatter",
         "x": [
          35
         ],
         "y": [
          22
         ]
        },
        {
         "marker": {
          "color": "blue",
          "opacity": 0.5,
          "size": 2.4390243902439024
         },
         "mode": "markers",
         "showlegend": false,
         "type": "scatter",
         "x": [
          35
         ],
         "y": [
          23
         ]
        },
        {
         "marker": {
          "color": "blue",
          "opacity": 0.5,
          "size": 2.4390243902439024
         },
         "mode": "markers",
         "showlegend": false,
         "type": "scatter",
         "x": [
          35
         ],
         "y": [
          25
         ]
        },
        {
         "marker": {
          "color": "blue",
          "opacity": 0.5,
          "size": 1.2195121951219512
         },
         "mode": "markers",
         "showlegend": false,
         "type": "scatter",
         "x": [
          35
         ],
         "y": [
          27
         ]
        },
        {
         "marker": {
          "color": "blue",
          "opacity": 0.5,
          "size": 1.2195121951219512
         },
         "mode": "markers",
         "showlegend": false,
         "type": "scatter",
         "x": [
          35
         ],
         "y": [
          28
         ]
        },
        {
         "marker": {
          "color": "blue",
          "opacity": 0.5,
          "size": 2.4390243902439024
         },
         "mode": "markers",
         "showlegend": false,
         "type": "scatter",
         "x": [
          35
         ],
         "y": [
          29
         ]
        },
        {
         "marker": {
          "color": "blue",
          "opacity": 0.5,
          "size": 1.2195121951219512
         },
         "mode": "markers",
         "showlegend": false,
         "type": "scatter",
         "x": [
          35
         ],
         "y": [
          30
         ]
        },
        {
         "marker": {
          "color": "blue",
          "opacity": 0.5,
          "size": 1.2195121951219512
         },
         "mode": "markers",
         "showlegend": false,
         "type": "scatter",
         "x": [
          35
         ],
         "y": [
          31
         ]
        },
        {
         "marker": {
          "color": "blue",
          "opacity": 0.5,
          "size": 3.6585365853658534
         },
         "mode": "markers",
         "showlegend": false,
         "type": "scatter",
         "x": [
          35
         ],
         "y": [
          32
         ]
        },
        {
         "marker": {
          "color": "blue",
          "opacity": 0.5,
          "size": 3.6585365853658534
         },
         "mode": "markers",
         "showlegend": false,
         "type": "scatter",
         "x": [
          35
         ],
         "y": [
          33
         ]
        },
        {
         "marker": {
          "color": "blue",
          "opacity": 0.5,
          "size": 1.2195121951219512
         },
         "mode": "markers",
         "showlegend": false,
         "type": "scatter",
         "x": [
          35
         ],
         "y": [
          34
         ]
        },
        {
         "marker": {
          "color": "blue",
          "opacity": 0.5,
          "size": 2.4390243902439024
         },
         "mode": "markers",
         "showlegend": false,
         "type": "scatter",
         "x": [
          35
         ],
         "y": [
          35
         ]
        },
        {
         "marker": {
          "color": "blue",
          "opacity": 0.5,
          "size": 1.2195121951219512
         },
         "mode": "markers",
         "showlegend": false,
         "type": "scatter",
         "x": [
          35
         ],
         "y": [
          37
         ]
        },
        {
         "marker": {
          "color": "blue",
          "opacity": 0.5,
          "size": 2.4390243902439024
         },
         "mode": "markers",
         "showlegend": false,
         "type": "scatter",
         "x": [
          36
         ],
         "y": [
          -31
         ]
        },
        {
         "marker": {
          "color": "blue",
          "opacity": 0.5,
          "size": 1.2195121951219512
         },
         "mode": "markers",
         "showlegend": false,
         "type": "scatter",
         "x": [
          36
         ],
         "y": [
          -28
         ]
        },
        {
         "marker": {
          "color": "blue",
          "opacity": 0.5,
          "size": 1.2195121951219512
         },
         "mode": "markers",
         "showlegend": false,
         "type": "scatter",
         "x": [
          36
         ],
         "y": [
          -27
         ]
        },
        {
         "marker": {
          "color": "blue",
          "opacity": 0.5,
          "size": 1.2195121951219512
         },
         "mode": "markers",
         "showlegend": false,
         "type": "scatter",
         "x": [
          36
         ],
         "y": [
          -26
         ]
        },
        {
         "marker": {
          "color": "blue",
          "opacity": 0.5,
          "size": 1.2195121951219512
         },
         "mode": "markers",
         "showlegend": false,
         "type": "scatter",
         "x": [
          36
         ],
         "y": [
          -23
         ]
        },
        {
         "marker": {
          "color": "blue",
          "opacity": 0.5,
          "size": 2.4390243902439024
         },
         "mode": "markers",
         "showlegend": false,
         "type": "scatter",
         "x": [
          36
         ],
         "y": [
          -21
         ]
        },
        {
         "marker": {
          "color": "blue",
          "opacity": 0.5,
          "size": 1.2195121951219512
         },
         "mode": "markers",
         "showlegend": false,
         "type": "scatter",
         "x": [
          36
         ],
         "y": [
          -20
         ]
        },
        {
         "marker": {
          "color": "blue",
          "opacity": 0.5,
          "size": 2.4390243902439024
         },
         "mode": "markers",
         "showlegend": false,
         "type": "scatter",
         "x": [
          36
         ],
         "y": [
          -19
         ]
        },
        {
         "marker": {
          "color": "blue",
          "opacity": 0.5,
          "size": 1.2195121951219512
         },
         "mode": "markers",
         "showlegend": false,
         "type": "scatter",
         "x": [
          36
         ],
         "y": [
          -15
         ]
        },
        {
         "marker": {
          "color": "blue",
          "opacity": 0.5,
          "size": 1.2195121951219512
         },
         "mode": "markers",
         "showlegend": false,
         "type": "scatter",
         "x": [
          36
         ],
         "y": [
          -14
         ]
        },
        {
         "marker": {
          "color": "blue",
          "opacity": 0.5,
          "size": 1.2195121951219512
         },
         "mode": "markers",
         "showlegend": false,
         "type": "scatter",
         "x": [
          36
         ],
         "y": [
          -11
         ]
        },
        {
         "marker": {
          "color": "blue",
          "opacity": 0.5,
          "size": 1.2195121951219512
         },
         "mode": "markers",
         "showlegend": false,
         "type": "scatter",
         "x": [
          36
         ],
         "y": [
          -8
         ]
        },
        {
         "marker": {
          "color": "blue",
          "opacity": 0.5,
          "size": 1.2195121951219512
         },
         "mode": "markers",
         "showlegend": false,
         "type": "scatter",
         "x": [
          36
         ],
         "y": [
          -5
         ]
        },
        {
         "marker": {
          "color": "blue",
          "opacity": 0.5,
          "size": 1.2195121951219512
         },
         "mode": "markers",
         "showlegend": false,
         "type": "scatter",
         "x": [
          36
         ],
         "y": [
          -2
         ]
        },
        {
         "marker": {
          "color": "blue",
          "opacity": 0.5,
          "size": 1.2195121951219512
         },
         "mode": "markers",
         "showlegend": false,
         "type": "scatter",
         "x": [
          36
         ],
         "y": [
          3
         ]
        },
        {
         "marker": {
          "color": "blue",
          "opacity": 0.5,
          "size": 1.2195121951219512
         },
         "mode": "markers",
         "showlegend": false,
         "type": "scatter",
         "x": [
          36
         ],
         "y": [
          7
         ]
        },
        {
         "marker": {
          "color": "blue",
          "opacity": 0.5,
          "size": 1.2195121951219512
         },
         "mode": "markers",
         "showlegend": false,
         "type": "scatter",
         "x": [
          36
         ],
         "y": [
          9
         ]
        },
        {
         "marker": {
          "color": "blue",
          "opacity": 0.5,
          "size": 1.2195121951219512
         },
         "mode": "markers",
         "showlegend": false,
         "type": "scatter",
         "x": [
          36
         ],
         "y": [
          11
         ]
        },
        {
         "marker": {
          "color": "blue",
          "opacity": 0.5,
          "size": 2.4390243902439024
         },
         "mode": "markers",
         "showlegend": false,
         "type": "scatter",
         "x": [
          36
         ],
         "y": [
          16
         ]
        },
        {
         "marker": {
          "color": "blue",
          "opacity": 0.5,
          "size": 1.2195121951219512
         },
         "mode": "markers",
         "showlegend": false,
         "type": "scatter",
         "x": [
          36
         ],
         "y": [
          17
         ]
        },
        {
         "marker": {
          "color": "blue",
          "opacity": 0.5,
          "size": 1.2195121951219512
         },
         "mode": "markers",
         "showlegend": false,
         "type": "scatter",
         "x": [
          36
         ],
         "y": [
          18
         ]
        },
        {
         "marker": {
          "color": "blue",
          "opacity": 0.5,
          "size": 1.2195121951219512
         },
         "mode": "markers",
         "showlegend": false,
         "type": "scatter",
         "x": [
          36
         ],
         "y": [
          20
         ]
        },
        {
         "marker": {
          "color": "blue",
          "opacity": 0.5,
          "size": 2.4390243902439024
         },
         "mode": "markers",
         "showlegend": false,
         "type": "scatter",
         "x": [
          36
         ],
         "y": [
          24
         ]
        },
        {
         "marker": {
          "color": "blue",
          "opacity": 0.5,
          "size": 1.2195121951219512
         },
         "mode": "markers",
         "showlegend": false,
         "type": "scatter",
         "x": [
          36
         ],
         "y": [
          25
         ]
        },
        {
         "marker": {
          "color": "blue",
          "opacity": 0.5,
          "size": 1.2195121951219512
         },
         "mode": "markers",
         "showlegend": false,
         "type": "scatter",
         "x": [
          36
         ],
         "y": [
          26
         ]
        },
        {
         "marker": {
          "color": "blue",
          "opacity": 0.5,
          "size": 1.2195121951219512
         },
         "mode": "markers",
         "showlegend": false,
         "type": "scatter",
         "x": [
          36
         ],
         "y": [
          27
         ]
        },
        {
         "marker": {
          "color": "blue",
          "opacity": 0.5,
          "size": 1.2195121951219512
         },
         "mode": "markers",
         "showlegend": false,
         "type": "scatter",
         "x": [
          36
         ],
         "y": [
          29
         ]
        },
        {
         "marker": {
          "color": "blue",
          "opacity": 0.5,
          "size": 2.4390243902439024
         },
         "mode": "markers",
         "showlegend": false,
         "type": "scatter",
         "x": [
          36
         ],
         "y": [
          30
         ]
        },
        {
         "marker": {
          "color": "blue",
          "opacity": 0.5,
          "size": 1.2195121951219512
         },
         "mode": "markers",
         "showlegend": false,
         "type": "scatter",
         "x": [
          36
         ],
         "y": [
          31
         ]
        },
        {
         "marker": {
          "color": "blue",
          "opacity": 0.5,
          "size": 1.2195121951219512
         },
         "mode": "markers",
         "showlegend": false,
         "type": "scatter",
         "x": [
          36
         ],
         "y": [
          32
         ]
        },
        {
         "marker": {
          "color": "blue",
          "opacity": 0.5,
          "size": 1.2195121951219512
         },
         "mode": "markers",
         "showlegend": false,
         "type": "scatter",
         "x": [
          36
         ],
         "y": [
          33
         ]
        },
        {
         "marker": {
          "color": "blue",
          "opacity": 0.5,
          "size": 1.2195121951219512
         },
         "mode": "markers",
         "showlegend": false,
         "type": "scatter",
         "x": [
          36
         ],
         "y": [
          34
         ]
        },
        {
         "marker": {
          "color": "blue",
          "opacity": 0.5,
          "size": 1.2195121951219512
         },
         "mode": "markers",
         "showlegend": false,
         "type": "scatter",
         "x": [
          36
         ],
         "y": [
          38
         ]
        },
        {
         "marker": {
          "color": "blue",
          "opacity": 0.5,
          "size": 1.2195121951219512
         },
         "mode": "markers",
         "showlegend": false,
         "type": "scatter",
         "x": [
          37
         ],
         "y": [
          -31
         ]
        },
        {
         "marker": {
          "color": "blue",
          "opacity": 0.5,
          "size": 1.2195121951219512
         },
         "mode": "markers",
         "showlegend": false,
         "type": "scatter",
         "x": [
          37
         ],
         "y": [
          -29
         ]
        },
        {
         "marker": {
          "color": "blue",
          "opacity": 0.5,
          "size": 3.6585365853658534
         },
         "mode": "markers",
         "showlegend": false,
         "type": "scatter",
         "x": [
          37
         ],
         "y": [
          -27
         ]
        },
        {
         "marker": {
          "color": "blue",
          "opacity": 0.5,
          "size": 1.2195121951219512
         },
         "mode": "markers",
         "showlegend": false,
         "type": "scatter",
         "x": [
          37
         ],
         "y": [
          -25
         ]
        },
        {
         "marker": {
          "color": "blue",
          "opacity": 0.5,
          "size": 1.2195121951219512
         },
         "mode": "markers",
         "showlegend": false,
         "type": "scatter",
         "x": [
          37
         ],
         "y": [
          -24
         ]
        },
        {
         "marker": {
          "color": "blue",
          "opacity": 0.5,
          "size": 4.878048780487805
         },
         "mode": "markers",
         "showlegend": false,
         "type": "scatter",
         "x": [
          37
         ],
         "y": [
          -23
         ]
        },
        {
         "marker": {
          "color": "blue",
          "opacity": 0.5,
          "size": 2.4390243902439024
         },
         "mode": "markers",
         "showlegend": false,
         "type": "scatter",
         "x": [
          37
         ],
         "y": [
          -22
         ]
        },
        {
         "marker": {
          "color": "blue",
          "opacity": 0.5,
          "size": 1.2195121951219512
         },
         "mode": "markers",
         "showlegend": false,
         "type": "scatter",
         "x": [
          37
         ],
         "y": [
          -21
         ]
        },
        {
         "marker": {
          "color": "blue",
          "opacity": 0.5,
          "size": 1.2195121951219512
         },
         "mode": "markers",
         "showlegend": false,
         "type": "scatter",
         "x": [
          37
         ],
         "y": [
          -18
         ]
        },
        {
         "marker": {
          "color": "blue",
          "opacity": 0.5,
          "size": 1.2195121951219512
         },
         "mode": "markers",
         "showlegend": false,
         "type": "scatter",
         "x": [
          37
         ],
         "y": [
          -14
         ]
        },
        {
         "marker": {
          "color": "blue",
          "opacity": 0.5,
          "size": 6.097560975609756
         },
         "mode": "markers",
         "showlegend": false,
         "type": "scatter",
         "x": [
          37
         ],
         "y": [
          -12
         ]
        },
        {
         "marker": {
          "color": "blue",
          "opacity": 0.5,
          "size": 1.2195121951219512
         },
         "mode": "markers",
         "showlegend": false,
         "type": "scatter",
         "x": [
          37
         ],
         "y": [
          -9
         ]
        },
        {
         "marker": {
          "color": "blue",
          "opacity": 0.5,
          "size": 1.2195121951219512
         },
         "mode": "markers",
         "showlegend": false,
         "type": "scatter",
         "x": [
          37
         ],
         "y": [
          -8
         ]
        },
        {
         "marker": {
          "color": "blue",
          "opacity": 0.5,
          "size": 1.2195121951219512
         },
         "mode": "markers",
         "showlegend": false,
         "type": "scatter",
         "x": [
          37
         ],
         "y": [
          -6
         ]
        },
        {
         "marker": {
          "color": "blue",
          "opacity": 0.5,
          "size": 1.2195121951219512
         },
         "mode": "markers",
         "showlegend": false,
         "type": "scatter",
         "x": [
          37
         ],
         "y": [
          -5
         ]
        },
        {
         "marker": {
          "color": "blue",
          "opacity": 0.5,
          "size": 1.2195121951219512
         },
         "mode": "markers",
         "showlegend": false,
         "type": "scatter",
         "x": [
          37
         ],
         "y": [
          -3
         ]
        },
        {
         "marker": {
          "color": "blue",
          "opacity": 0.5,
          "size": 1.2195121951219512
         },
         "mode": "markers",
         "showlegend": false,
         "type": "scatter",
         "x": [
          37
         ],
         "y": [
          -2
         ]
        },
        {
         "marker": {
          "color": "blue",
          "opacity": 0.5,
          "size": 1.2195121951219512
         },
         "mode": "markers",
         "showlegend": false,
         "type": "scatter",
         "x": [
          37
         ],
         "y": [
          -1
         ]
        },
        {
         "marker": {
          "color": "blue",
          "opacity": 0.5,
          "size": 1.2195121951219512
         },
         "mode": "markers",
         "showlegend": false,
         "type": "scatter",
         "x": [
          37
         ],
         "y": [
          0
         ]
        },
        {
         "marker": {
          "color": "blue",
          "opacity": 0.5,
          "size": 1.2195121951219512
         },
         "mode": "markers",
         "showlegend": false,
         "type": "scatter",
         "x": [
          37
         ],
         "y": [
          1
         ]
        },
        {
         "marker": {
          "color": "blue",
          "opacity": 0.5,
          "size": 1.2195121951219512
         },
         "mode": "markers",
         "showlegend": false,
         "type": "scatter",
         "x": [
          37
         ],
         "y": [
          2
         ]
        },
        {
         "marker": {
          "color": "blue",
          "opacity": 0.5,
          "size": 2.4390243902439024
         },
         "mode": "markers",
         "showlegend": false,
         "type": "scatter",
         "x": [
          37
         ],
         "y": [
          4
         ]
        },
        {
         "marker": {
          "color": "blue",
          "opacity": 0.5,
          "size": 1.2195121951219512
         },
         "mode": "markers",
         "showlegend": false,
         "type": "scatter",
         "x": [
          37
         ],
         "y": [
          5
         ]
        },
        {
         "marker": {
          "color": "blue",
          "opacity": 0.5,
          "size": 2.4390243902439024
         },
         "mode": "markers",
         "showlegend": false,
         "type": "scatter",
         "x": [
          37
         ],
         "y": [
          6
         ]
        },
        {
         "marker": {
          "color": "blue",
          "opacity": 0.5,
          "size": 1.2195121951219512
         },
         "mode": "markers",
         "showlegend": false,
         "type": "scatter",
         "x": [
          37
         ],
         "y": [
          8
         ]
        },
        {
         "marker": {
          "color": "blue",
          "opacity": 0.5,
          "size": 1.2195121951219512
         },
         "mode": "markers",
         "showlegend": false,
         "type": "scatter",
         "x": [
          37
         ],
         "y": [
          9
         ]
        },
        {
         "marker": {
          "color": "blue",
          "opacity": 0.5,
          "size": 2.4390243902439024
         },
         "mode": "markers",
         "showlegend": false,
         "type": "scatter",
         "x": [
          37
         ],
         "y": [
          12
         ]
        },
        {
         "marker": {
          "color": "blue",
          "opacity": 0.5,
          "size": 1.2195121951219512
         },
         "mode": "markers",
         "showlegend": false,
         "type": "scatter",
         "x": [
          37
         ],
         "y": [
          14
         ]
        },
        {
         "marker": {
          "color": "blue",
          "opacity": 0.5,
          "size": 3.6585365853658534
         },
         "mode": "markers",
         "showlegend": false,
         "type": "scatter",
         "x": [
          37
         ],
         "y": [
          15
         ]
        },
        {
         "marker": {
          "color": "blue",
          "opacity": 0.5,
          "size": 1.2195121951219512
         },
         "mode": "markers",
         "showlegend": false,
         "type": "scatter",
         "x": [
          37
         ],
         "y": [
          17
         ]
        },
        {
         "marker": {
          "color": "blue",
          "opacity": 0.5,
          "size": 1.2195121951219512
         },
         "mode": "markers",
         "showlegend": false,
         "type": "scatter",
         "x": [
          37
         ],
         "y": [
          18
         ]
        },
        {
         "marker": {
          "color": "blue",
          "opacity": 0.5,
          "size": 1.2195121951219512
         },
         "mode": "markers",
         "showlegend": false,
         "type": "scatter",
         "x": [
          37
         ],
         "y": [
          19
         ]
        },
        {
         "marker": {
          "color": "blue",
          "opacity": 0.5,
          "size": 2.4390243902439024
         },
         "mode": "markers",
         "showlegend": false,
         "type": "scatter",
         "x": [
          37
         ],
         "y": [
          20
         ]
        },
        {
         "marker": {
          "color": "blue",
          "opacity": 0.5,
          "size": 2.4390243902439024
         },
         "mode": "markers",
         "showlegend": false,
         "type": "scatter",
         "x": [
          37
         ],
         "y": [
          23
         ]
        },
        {
         "marker": {
          "color": "blue",
          "opacity": 0.5,
          "size": 2.4390243902439024
         },
         "mode": "markers",
         "showlegend": false,
         "type": "scatter",
         "x": [
          37
         ],
         "y": [
          24
         ]
        },
        {
         "marker": {
          "color": "blue",
          "opacity": 0.5,
          "size": 2.4390243902439024
         },
         "mode": "markers",
         "showlegend": false,
         "type": "scatter",
         "x": [
          37
         ],
         "y": [
          25
         ]
        },
        {
         "marker": {
          "color": "blue",
          "opacity": 0.5,
          "size": 1.2195121951219512
         },
         "mode": "markers",
         "showlegend": false,
         "type": "scatter",
         "x": [
          37
         ],
         "y": [
          26
         ]
        },
        {
         "marker": {
          "color": "blue",
          "opacity": 0.5,
          "size": 1.2195121951219512
         },
         "mode": "markers",
         "showlegend": false,
         "type": "scatter",
         "x": [
          37
         ],
         "y": [
          27
         ]
        },
        {
         "marker": {
          "color": "blue",
          "opacity": 0.5,
          "size": 7.317073170731707
         },
         "mode": "markers",
         "showlegend": false,
         "type": "scatter",
         "x": [
          37
         ],
         "y": [
          28
         ]
        },
        {
         "marker": {
          "color": "blue",
          "opacity": 0.5,
          "size": 1.2195121951219512
         },
         "mode": "markers",
         "showlegend": false,
         "type": "scatter",
         "x": [
          37
         ],
         "y": [
          29
         ]
        },
        {
         "marker": {
          "color": "blue",
          "opacity": 0.5,
          "size": 1.2195121951219512
         },
         "mode": "markers",
         "showlegend": false,
         "type": "scatter",
         "x": [
          37
         ],
         "y": [
          30
         ]
        },
        {
         "marker": {
          "color": "blue",
          "opacity": 0.5,
          "size": 1.2195121951219512
         },
         "mode": "markers",
         "showlegend": false,
         "type": "scatter",
         "x": [
          37
         ],
         "y": [
          32
         ]
        },
        {
         "marker": {
          "color": "blue",
          "opacity": 0.5,
          "size": 1.2195121951219512
         },
         "mode": "markers",
         "showlegend": false,
         "type": "scatter",
         "x": [
          37
         ],
         "y": [
          33
         ]
        },
        {
         "marker": {
          "color": "blue",
          "opacity": 0.5,
          "size": 1.2195121951219512
         },
         "mode": "markers",
         "showlegend": false,
         "type": "scatter",
         "x": [
          38
         ],
         "y": [
          -37
         ]
        },
        {
         "marker": {
          "color": "blue",
          "opacity": 0.5,
          "size": 2.4390243902439024
         },
         "mode": "markers",
         "showlegend": false,
         "type": "scatter",
         "x": [
          38
         ],
         "y": [
          -31
         ]
        },
        {
         "marker": {
          "color": "blue",
          "opacity": 0.5,
          "size": 1.2195121951219512
         },
         "mode": "markers",
         "showlegend": false,
         "type": "scatter",
         "x": [
          38
         ],
         "y": [
          -29
         ]
        },
        {
         "marker": {
          "color": "blue",
          "opacity": 0.5,
          "size": 1.2195121951219512
         },
         "mode": "markers",
         "showlegend": false,
         "type": "scatter",
         "x": [
          38
         ],
         "y": [
          -26
         ]
        },
        {
         "marker": {
          "color": "blue",
          "opacity": 0.5,
          "size": 1.2195121951219512
         },
         "mode": "markers",
         "showlegend": false,
         "type": "scatter",
         "x": [
          38
         ],
         "y": [
          -25
         ]
        },
        {
         "marker": {
          "color": "blue",
          "opacity": 0.5,
          "size": 1.2195121951219512
         },
         "mode": "markers",
         "showlegend": false,
         "type": "scatter",
         "x": [
          38
         ],
         "y": [
          -22
         ]
        },
        {
         "marker": {
          "color": "blue",
          "opacity": 0.5,
          "size": 2.4390243902439024
         },
         "mode": "markers",
         "showlegend": false,
         "type": "scatter",
         "x": [
          38
         ],
         "y": [
          -21
         ]
        },
        {
         "marker": {
          "color": "blue",
          "opacity": 0.5,
          "size": 1.2195121951219512
         },
         "mode": "markers",
         "showlegend": false,
         "type": "scatter",
         "x": [
          38
         ],
         "y": [
          -19
         ]
        },
        {
         "marker": {
          "color": "blue",
          "opacity": 0.5,
          "size": 1.2195121951219512
         },
         "mode": "markers",
         "showlegend": false,
         "type": "scatter",
         "x": [
          38
         ],
         "y": [
          -14
         ]
        },
        {
         "marker": {
          "color": "blue",
          "opacity": 0.5,
          "size": 1.2195121951219512
         },
         "mode": "markers",
         "showlegend": false,
         "type": "scatter",
         "x": [
          38
         ],
         "y": [
          -13
         ]
        },
        {
         "marker": {
          "color": "blue",
          "opacity": 0.5,
          "size": 1.2195121951219512
         },
         "mode": "markers",
         "showlegend": false,
         "type": "scatter",
         "x": [
          38
         ],
         "y": [
          -12
         ]
        },
        {
         "marker": {
          "color": "blue",
          "opacity": 0.5,
          "size": 1.2195121951219512
         },
         "mode": "markers",
         "showlegend": false,
         "type": "scatter",
         "x": [
          38
         ],
         "y": [
          -9
         ]
        },
        {
         "marker": {
          "color": "blue",
          "opacity": 0.5,
          "size": 2.4390243902439024
         },
         "mode": "markers",
         "showlegend": false,
         "type": "scatter",
         "x": [
          38
         ],
         "y": [
          -7
         ]
        },
        {
         "marker": {
          "color": "blue",
          "opacity": 0.5,
          "size": 2.4390243902439024
         },
         "mode": "markers",
         "showlegend": false,
         "type": "scatter",
         "x": [
          38
         ],
         "y": [
          -4
         ]
        },
        {
         "marker": {
          "color": "blue",
          "opacity": 0.5,
          "size": 1.2195121951219512
         },
         "mode": "markers",
         "showlegend": false,
         "type": "scatter",
         "x": [
          38
         ],
         "y": [
          -3
         ]
        },
        {
         "marker": {
          "color": "blue",
          "opacity": 0.5,
          "size": 3.6585365853658534
         },
         "mode": "markers",
         "showlegend": false,
         "type": "scatter",
         "x": [
          38
         ],
         "y": [
          -1
         ]
        },
        {
         "marker": {
          "color": "blue",
          "opacity": 0.5,
          "size": 1.2195121951219512
         },
         "mode": "markers",
         "showlegend": false,
         "type": "scatter",
         "x": [
          38
         ],
         "y": [
          0
         ]
        },
        {
         "marker": {
          "color": "blue",
          "opacity": 0.5,
          "size": 3.6585365853658534
         },
         "mode": "markers",
         "showlegend": false,
         "type": "scatter",
         "x": [
          38
         ],
         "y": [
          1
         ]
        },
        {
         "marker": {
          "color": "blue",
          "opacity": 0.5,
          "size": 1.2195121951219512
         },
         "mode": "markers",
         "showlegend": false,
         "type": "scatter",
         "x": [
          38
         ],
         "y": [
          3
         ]
        },
        {
         "marker": {
          "color": "blue",
          "opacity": 0.5,
          "size": 2.4390243902439024
         },
         "mode": "markers",
         "showlegend": false,
         "type": "scatter",
         "x": [
          38
         ],
         "y": [
          4
         ]
        },
        {
         "marker": {
          "color": "blue",
          "opacity": 0.5,
          "size": 1.2195121951219512
         },
         "mode": "markers",
         "showlegend": false,
         "type": "scatter",
         "x": [
          38
         ],
         "y": [
          5
         ]
        },
        {
         "marker": {
          "color": "blue",
          "opacity": 0.5,
          "size": 2.4390243902439024
         },
         "mode": "markers",
         "showlegend": false,
         "type": "scatter",
         "x": [
          38
         ],
         "y": [
          10
         ]
        },
        {
         "marker": {
          "color": "blue",
          "opacity": 0.5,
          "size": 1.2195121951219512
         },
         "mode": "markers",
         "showlegend": false,
         "type": "scatter",
         "x": [
          38
         ],
         "y": [
          14
         ]
        },
        {
         "marker": {
          "color": "blue",
          "opacity": 0.5,
          "size": 2.4390243902439024
         },
         "mode": "markers",
         "showlegend": false,
         "type": "scatter",
         "x": [
          38
         ],
         "y": [
          17
         ]
        },
        {
         "marker": {
          "color": "blue",
          "opacity": 0.5,
          "size": 1.2195121951219512
         },
         "mode": "markers",
         "showlegend": false,
         "type": "scatter",
         "x": [
          38
         ],
         "y": [
          20
         ]
        },
        {
         "marker": {
          "color": "blue",
          "opacity": 0.5,
          "size": 1.2195121951219512
         },
         "mode": "markers",
         "showlegend": false,
         "type": "scatter",
         "x": [
          38
         ],
         "y": [
          23
         ]
        },
        {
         "marker": {
          "color": "blue",
          "opacity": 0.5,
          "size": 3.6585365853658534
         },
         "mode": "markers",
         "showlegend": false,
         "type": "scatter",
         "x": [
          38
         ],
         "y": [
          24
         ]
        },
        {
         "marker": {
          "color": "blue",
          "opacity": 0.5,
          "size": 2.4390243902439024
         },
         "mode": "markers",
         "showlegend": false,
         "type": "scatter",
         "x": [
          38
         ],
         "y": [
          31
         ]
        },
        {
         "marker": {
          "color": "blue",
          "opacity": 0.5,
          "size": 1.2195121951219512
         },
         "mode": "markers",
         "showlegend": false,
         "type": "scatter",
         "x": [
          38
         ],
         "y": [
          35
         ]
        },
        {
         "marker": {
          "color": "blue",
          "opacity": 0.5,
          "size": 1.2195121951219512
         },
         "mode": "markers",
         "showlegend": false,
         "type": "scatter",
         "x": [
          38
         ],
         "y": [
          36
         ]
        },
        {
         "marker": {
          "color": "blue",
          "opacity": 0.5,
          "size": 1.2195121951219512
         },
         "mode": "markers",
         "showlegend": false,
         "type": "scatter",
         "x": [
          39
         ],
         "y": [
          -29
         ]
        },
        {
         "marker": {
          "color": "blue",
          "opacity": 0.5,
          "size": 2.4390243902439024
         },
         "mode": "markers",
         "showlegend": false,
         "type": "scatter",
         "x": [
          39
         ],
         "y": [
          -28
         ]
        },
        {
         "marker": {
          "color": "blue",
          "opacity": 0.5,
          "size": 2.4390243902439024
         },
         "mode": "markers",
         "showlegend": false,
         "type": "scatter",
         "x": [
          39
         ],
         "y": [
          -27
         ]
        },
        {
         "marker": {
          "color": "blue",
          "opacity": 0.5,
          "size": 3.6585365853658534
         },
         "mode": "markers",
         "showlegend": false,
         "type": "scatter",
         "x": [
          39
         ],
         "y": [
          -25
         ]
        },
        {
         "marker": {
          "color": "blue",
          "opacity": 0.5,
          "size": 1.2195121951219512
         },
         "mode": "markers",
         "showlegend": false,
         "type": "scatter",
         "x": [
          39
         ],
         "y": [
          -23
         ]
        },
        {
         "marker": {
          "color": "blue",
          "opacity": 0.5,
          "size": 2.4390243902439024
         },
         "mode": "markers",
         "showlegend": false,
         "type": "scatter",
         "x": [
          39
         ],
         "y": [
          -22
         ]
        },
        {
         "marker": {
          "color": "blue",
          "opacity": 0.5,
          "size": 1.2195121951219512
         },
         "mode": "markers",
         "showlegend": false,
         "type": "scatter",
         "x": [
          39
         ],
         "y": [
          -20
         ]
        },
        {
         "marker": {
          "color": "blue",
          "opacity": 0.5,
          "size": 2.4390243902439024
         },
         "mode": "markers",
         "showlegend": false,
         "type": "scatter",
         "x": [
          39
         ],
         "y": [
          -19
         ]
        },
        {
         "marker": {
          "color": "blue",
          "opacity": 0.5,
          "size": 2.4390243902439024
         },
         "mode": "markers",
         "showlegend": false,
         "type": "scatter",
         "x": [
          39
         ],
         "y": [
          -16
         ]
        },
        {
         "marker": {
          "color": "blue",
          "opacity": 0.5,
          "size": 1.2195121951219512
         },
         "mode": "markers",
         "showlegend": false,
         "type": "scatter",
         "x": [
          39
         ],
         "y": [
          -15
         ]
        },
        {
         "marker": {
          "color": "blue",
          "opacity": 0.5,
          "size": 1.2195121951219512
         },
         "mode": "markers",
         "showlegend": false,
         "type": "scatter",
         "x": [
          39
         ],
         "y": [
          -14
         ]
        },
        {
         "marker": {
          "color": "blue",
          "opacity": 0.5,
          "size": 1.2195121951219512
         },
         "mode": "markers",
         "showlegend": false,
         "type": "scatter",
         "x": [
          39
         ],
         "y": [
          -13
         ]
        },
        {
         "marker": {
          "color": "blue",
          "opacity": 0.5,
          "size": 1.2195121951219512
         },
         "mode": "markers",
         "showlegend": false,
         "type": "scatter",
         "x": [
          39
         ],
         "y": [
          -7
         ]
        },
        {
         "marker": {
          "color": "blue",
          "opacity": 0.5,
          "size": 1.2195121951219512
         },
         "mode": "markers",
         "showlegend": false,
         "type": "scatter",
         "x": [
          39
         ],
         "y": [
          -6
         ]
        },
        {
         "marker": {
          "color": "blue",
          "opacity": 0.5,
          "size": 2.4390243902439024
         },
         "mode": "markers",
         "showlegend": false,
         "type": "scatter",
         "x": [
          39
         ],
         "y": [
          -5
         ]
        },
        {
         "marker": {
          "color": "blue",
          "opacity": 0.5,
          "size": 2.4390243902439024
         },
         "mode": "markers",
         "showlegend": false,
         "type": "scatter",
         "x": [
          39
         ],
         "y": [
          -4
         ]
        },
        {
         "marker": {
          "color": "blue",
          "opacity": 0.5,
          "size": 1.2195121951219512
         },
         "mode": "markers",
         "showlegend": false,
         "type": "scatter",
         "x": [
          39
         ],
         "y": [
          -2
         ]
        },
        {
         "marker": {
          "color": "blue",
          "opacity": 0.5,
          "size": 3.6585365853658534
         },
         "mode": "markers",
         "showlegend": false,
         "type": "scatter",
         "x": [
          39
         ],
         "y": [
          -1
         ]
        },
        {
         "marker": {
          "color": "blue",
          "opacity": 0.5,
          "size": 1.2195121951219512
         },
         "mode": "markers",
         "showlegend": false,
         "type": "scatter",
         "x": [
          39
         ],
         "y": [
          0
         ]
        },
        {
         "marker": {
          "color": "blue",
          "opacity": 0.5,
          "size": 1.2195121951219512
         },
         "mode": "markers",
         "showlegend": false,
         "type": "scatter",
         "x": [
          39
         ],
         "y": [
          5
         ]
        },
        {
         "marker": {
          "color": "blue",
          "opacity": 0.5,
          "size": 2.4390243902439024
         },
         "mode": "markers",
         "showlegend": false,
         "type": "scatter",
         "x": [
          39
         ],
         "y": [
          6
         ]
        },
        {
         "marker": {
          "color": "blue",
          "opacity": 0.5,
          "size": 2.4390243902439024
         },
         "mode": "markers",
         "showlegend": false,
         "type": "scatter",
         "x": [
          39
         ],
         "y": [
          7
         ]
        },
        {
         "marker": {
          "color": "blue",
          "opacity": 0.5,
          "size": 1.2195121951219512
         },
         "mode": "markers",
         "showlegend": false,
         "type": "scatter",
         "x": [
          39
         ],
         "y": [
          8
         ]
        },
        {
         "marker": {
          "color": "blue",
          "opacity": 0.5,
          "size": 1.2195121951219512
         },
         "mode": "markers",
         "showlegend": false,
         "type": "scatter",
         "x": [
          39
         ],
         "y": [
          9
         ]
        },
        {
         "marker": {
          "color": "blue",
          "opacity": 0.5,
          "size": 1.2195121951219512
         },
         "mode": "markers",
         "showlegend": false,
         "type": "scatter",
         "x": [
          39
         ],
         "y": [
          10
         ]
        },
        {
         "marker": {
          "color": "blue",
          "opacity": 0.5,
          "size": 1.2195121951219512
         },
         "mode": "markers",
         "showlegend": false,
         "type": "scatter",
         "x": [
          39
         ],
         "y": [
          11
         ]
        },
        {
         "marker": {
          "color": "blue",
          "opacity": 0.5,
          "size": 1.2195121951219512
         },
         "mode": "markers",
         "showlegend": false,
         "type": "scatter",
         "x": [
          39
         ],
         "y": [
          12
         ]
        },
        {
         "marker": {
          "color": "blue",
          "opacity": 0.5,
          "size": 1.2195121951219512
         },
         "mode": "markers",
         "showlegend": false,
         "type": "scatter",
         "x": [
          39
         ],
         "y": [
          13
         ]
        },
        {
         "marker": {
          "color": "blue",
          "opacity": 0.5,
          "size": 1.2195121951219512
         },
         "mode": "markers",
         "showlegend": false,
         "type": "scatter",
         "x": [
          39
         ],
         "y": [
          16
         ]
        },
        {
         "marker": {
          "color": "blue",
          "opacity": 0.5,
          "size": 1.2195121951219512
         },
         "mode": "markers",
         "showlegend": false,
         "type": "scatter",
         "x": [
          39
         ],
         "y": [
          20
         ]
        },
        {
         "marker": {
          "color": "blue",
          "opacity": 0.5,
          "size": 1.2195121951219512
         },
         "mode": "markers",
         "showlegend": false,
         "type": "scatter",
         "x": [
          39
         ],
         "y": [
          21
         ]
        },
        {
         "marker": {
          "color": "blue",
          "opacity": 0.5,
          "size": 3.6585365853658534
         },
         "mode": "markers",
         "showlegend": false,
         "type": "scatter",
         "x": [
          39
         ],
         "y": [
          22
         ]
        },
        {
         "marker": {
          "color": "blue",
          "opacity": 0.5,
          "size": 1.2195121951219512
         },
         "mode": "markers",
         "showlegend": false,
         "type": "scatter",
         "x": [
          39
         ],
         "y": [
          25
         ]
        },
        {
         "marker": {
          "color": "blue",
          "opacity": 0.5,
          "size": 2.4390243902439024
         },
         "mode": "markers",
         "showlegend": false,
         "type": "scatter",
         "x": [
          39
         ],
         "y": [
          27
         ]
        },
        {
         "marker": {
          "color": "blue",
          "opacity": 0.5,
          "size": 1.2195121951219512
         },
         "mode": "markers",
         "showlegend": false,
         "type": "scatter",
         "x": [
          39
         ],
         "y": [
          28
         ]
        },
        {
         "marker": {
          "color": "blue",
          "opacity": 0.5,
          "size": 2.4390243902439024
         },
         "mode": "markers",
         "showlegend": false,
         "type": "scatter",
         "x": [
          39
         ],
         "y": [
          30
         ]
        },
        {
         "marker": {
          "color": "blue",
          "opacity": 0.5,
          "size": 2.4390243902439024
         },
         "mode": "markers",
         "showlegend": false,
         "type": "scatter",
         "x": [
          39
         ],
         "y": [
          32
         ]
        },
        {
         "marker": {
          "color": "blue",
          "opacity": 0.5,
          "size": 1.2195121951219512
         },
         "mode": "markers",
         "showlegend": false,
         "type": "scatter",
         "x": [
          39
         ],
         "y": [
          35
         ]
        },
        {
         "marker": {
          "color": "blue",
          "opacity": 0.5,
          "size": 1.2195121951219512
         },
         "mode": "markers",
         "showlegend": false,
         "type": "scatter",
         "x": [
          40
         ],
         "y": [
          -32
         ]
        },
        {
         "marker": {
          "color": "blue",
          "opacity": 0.5,
          "size": 1.2195121951219512
         },
         "mode": "markers",
         "showlegend": false,
         "type": "scatter",
         "x": [
          40
         ],
         "y": [
          -30
         ]
        },
        {
         "marker": {
          "color": "blue",
          "opacity": 0.5,
          "size": 1.2195121951219512
         },
         "mode": "markers",
         "showlegend": false,
         "type": "scatter",
         "x": [
          40
         ],
         "y": [
          -29
         ]
        },
        {
         "marker": {
          "color": "blue",
          "opacity": 0.5,
          "size": 1.2195121951219512
         },
         "mode": "markers",
         "showlegend": false,
         "type": "scatter",
         "x": [
          40
         ],
         "y": [
          -26
         ]
        },
        {
         "marker": {
          "color": "blue",
          "opacity": 0.5,
          "size": 1.2195121951219512
         },
         "mode": "markers",
         "showlegend": false,
         "type": "scatter",
         "x": [
          40
         ],
         "y": [
          -25
         ]
        },
        {
         "marker": {
          "color": "blue",
          "opacity": 0.5,
          "size": 2.4390243902439024
         },
         "mode": "markers",
         "showlegend": false,
         "type": "scatter",
         "x": [
          40
         ],
         "y": [
          -22
         ]
        },
        {
         "marker": {
          "color": "blue",
          "opacity": 0.5,
          "size": 4.878048780487805
         },
         "mode": "markers",
         "showlegend": false,
         "type": "scatter",
         "x": [
          40
         ],
         "y": [
          -20
         ]
        },
        {
         "marker": {
          "color": "blue",
          "opacity": 0.5,
          "size": 1.2195121951219512
         },
         "mode": "markers",
         "showlegend": false,
         "type": "scatter",
         "x": [
          40
         ],
         "y": [
          -11
         ]
        },
        {
         "marker": {
          "color": "blue",
          "opacity": 0.5,
          "size": 1.2195121951219512
         },
         "mode": "markers",
         "showlegend": false,
         "type": "scatter",
         "x": [
          40
         ],
         "y": [
          -10
         ]
        },
        {
         "marker": {
          "color": "blue",
          "opacity": 0.5,
          "size": 1.2195121951219512
         },
         "mode": "markers",
         "showlegend": false,
         "type": "scatter",
         "x": [
          40
         ],
         "y": [
          -5
         ]
        },
        {
         "marker": {
          "color": "blue",
          "opacity": 0.5,
          "size": 1.2195121951219512
         },
         "mode": "markers",
         "showlegend": false,
         "type": "scatter",
         "x": [
          40
         ],
         "y": [
          -4
         ]
        },
        {
         "marker": {
          "color": "blue",
          "opacity": 0.5,
          "size": 1.2195121951219512
         },
         "mode": "markers",
         "showlegend": false,
         "type": "scatter",
         "x": [
          40
         ],
         "y": [
          -3
         ]
        },
        {
         "marker": {
          "color": "blue",
          "opacity": 0.5,
          "size": 1.2195121951219512
         },
         "mode": "markers",
         "showlegend": false,
         "type": "scatter",
         "x": [
          40
         ],
         "y": [
          -2
         ]
        },
        {
         "marker": {
          "color": "blue",
          "opacity": 0.5,
          "size": 1.2195121951219512
         },
         "mode": "markers",
         "showlegend": false,
         "type": "scatter",
         "x": [
          40
         ],
         "y": [
          -1
         ]
        },
        {
         "marker": {
          "color": "blue",
          "opacity": 0.5,
          "size": 1.2195121951219512
         },
         "mode": "markers",
         "showlegend": false,
         "type": "scatter",
         "x": [
          40
         ],
         "y": [
          0
         ]
        },
        {
         "marker": {
          "color": "blue",
          "opacity": 0.5,
          "size": 1.2195121951219512
         },
         "mode": "markers",
         "showlegend": false,
         "type": "scatter",
         "x": [
          40
         ],
         "y": [
          4
         ]
        },
        {
         "marker": {
          "color": "blue",
          "opacity": 0.5,
          "size": 1.2195121951219512
         },
         "mode": "markers",
         "showlegend": false,
         "type": "scatter",
         "x": [
          40
         ],
         "y": [
          6
         ]
        },
        {
         "marker": {
          "color": "blue",
          "opacity": 0.5,
          "size": 2.4390243902439024
         },
         "mode": "markers",
         "showlegend": false,
         "type": "scatter",
         "x": [
          40
         ],
         "y": [
          8
         ]
        },
        {
         "marker": {
          "color": "blue",
          "opacity": 0.5,
          "size": 1.2195121951219512
         },
         "mode": "markers",
         "showlegend": false,
         "type": "scatter",
         "x": [
          40
         ],
         "y": [
          11
         ]
        },
        {
         "marker": {
          "color": "blue",
          "opacity": 0.5,
          "size": 1.2195121951219512
         },
         "mode": "markers",
         "showlegend": false,
         "type": "scatter",
         "x": [
          40
         ],
         "y": [
          12
         ]
        },
        {
         "marker": {
          "color": "blue",
          "opacity": 0.5,
          "size": 2.4390243902439024
         },
         "mode": "markers",
         "showlegend": false,
         "type": "scatter",
         "x": [
          40
         ],
         "y": [
          13
         ]
        },
        {
         "marker": {
          "color": "blue",
          "opacity": 0.5,
          "size": 1.2195121951219512
         },
         "mode": "markers",
         "showlegend": false,
         "type": "scatter",
         "x": [
          40
         ],
         "y": [
          15
         ]
        },
        {
         "marker": {
          "color": "blue",
          "opacity": 0.5,
          "size": 1.2195121951219512
         },
         "mode": "markers",
         "showlegend": false,
         "type": "scatter",
         "x": [
          40
         ],
         "y": [
          16
         ]
        },
        {
         "marker": {
          "color": "blue",
          "opacity": 0.5,
          "size": 1.2195121951219512
         },
         "mode": "markers",
         "showlegend": false,
         "type": "scatter",
         "x": [
          40
         ],
         "y": [
          20
         ]
        },
        {
         "marker": {
          "color": "blue",
          "opacity": 0.5,
          "size": 1.2195121951219512
         },
         "mode": "markers",
         "showlegend": false,
         "type": "scatter",
         "x": [
          40
         ],
         "y": [
          21
         ]
        },
        {
         "marker": {
          "color": "blue",
          "opacity": 0.5,
          "size": 1.2195121951219512
         },
         "mode": "markers",
         "showlegend": false,
         "type": "scatter",
         "x": [
          40
         ],
         "y": [
          22
         ]
        },
        {
         "marker": {
          "color": "blue",
          "opacity": 0.5,
          "size": 1.2195121951219512
         },
         "mode": "markers",
         "showlegend": false,
         "type": "scatter",
         "x": [
          40
         ],
         "y": [
          23
         ]
        },
        {
         "marker": {
          "color": "blue",
          "opacity": 0.5,
          "size": 2.4390243902439024
         },
         "mode": "markers",
         "showlegend": false,
         "type": "scatter",
         "x": [
          40
         ],
         "y": [
          24
         ]
        },
        {
         "marker": {
          "color": "blue",
          "opacity": 0.5,
          "size": 1.2195121951219512
         },
         "mode": "markers",
         "showlegend": false,
         "type": "scatter",
         "x": [
          40
         ],
         "y": [
          25
         ]
        },
        {
         "marker": {
          "color": "blue",
          "opacity": 0.5,
          "size": 2.4390243902439024
         },
         "mode": "markers",
         "showlegend": false,
         "type": "scatter",
         "x": [
          40
         ],
         "y": [
          26
         ]
        },
        {
         "marker": {
          "color": "blue",
          "opacity": 0.5,
          "size": 3.6585365853658534
         },
         "mode": "markers",
         "showlegend": false,
         "type": "scatter",
         "x": [
          40
         ],
         "y": [
          27
         ]
        },
        {
         "marker": {
          "color": "blue",
          "opacity": 0.5,
          "size": 1.2195121951219512
         },
         "mode": "markers",
         "showlegend": false,
         "type": "scatter",
         "x": [
          40
         ],
         "y": [
          31
         ]
        },
        {
         "marker": {
          "color": "blue",
          "opacity": 0.5,
          "size": 1.2195121951219512
         },
         "mode": "markers",
         "showlegend": false,
         "type": "scatter",
         "x": [
          41
         ],
         "y": [
          -36
         ]
        },
        {
         "marker": {
          "color": "blue",
          "opacity": 0.5,
          "size": 1.2195121951219512
         },
         "mode": "markers",
         "showlegend": false,
         "type": "scatter",
         "x": [
          41
         ],
         "y": [
          -31
         ]
        },
        {
         "marker": {
          "color": "blue",
          "opacity": 0.5,
          "size": 1.2195121951219512
         },
         "mode": "markers",
         "showlegend": false,
         "type": "scatter",
         "x": [
          41
         ],
         "y": [
          -29
         ]
        },
        {
         "marker": {
          "color": "blue",
          "opacity": 0.5,
          "size": 2.4390243902439024
         },
         "mode": "markers",
         "showlegend": false,
         "type": "scatter",
         "x": [
          41
         ],
         "y": [
          -26
         ]
        },
        {
         "marker": {
          "color": "blue",
          "opacity": 0.5,
          "size": 1.2195121951219512
         },
         "mode": "markers",
         "showlegend": false,
         "type": "scatter",
         "x": [
          41
         ],
         "y": [
          -22
         ]
        },
        {
         "marker": {
          "color": "blue",
          "opacity": 0.5,
          "size": 1.2195121951219512
         },
         "mode": "markers",
         "showlegend": false,
         "type": "scatter",
         "x": [
          41
         ],
         "y": [
          -21
         ]
        },
        {
         "marker": {
          "color": "blue",
          "opacity": 0.5,
          "size": 1.2195121951219512
         },
         "mode": "markers",
         "showlegend": false,
         "type": "scatter",
         "x": [
          41
         ],
         "y": [
          -18
         ]
        },
        {
         "marker": {
          "color": "blue",
          "opacity": 0.5,
          "size": 1.2195121951219512
         },
         "mode": "markers",
         "showlegend": false,
         "type": "scatter",
         "x": [
          41
         ],
         "y": [
          -15
         ]
        },
        {
         "marker": {
          "color": "blue",
          "opacity": 0.5,
          "size": 1.2195121951219512
         },
         "mode": "markers",
         "showlegend": false,
         "type": "scatter",
         "x": [
          41
         ],
         "y": [
          -11
         ]
        },
        {
         "marker": {
          "color": "blue",
          "opacity": 0.5,
          "size": 1.2195121951219512
         },
         "mode": "markers",
         "showlegend": false,
         "type": "scatter",
         "x": [
          41
         ],
         "y": [
          -3
         ]
        },
        {
         "marker": {
          "color": "blue",
          "opacity": 0.5,
          "size": 1.2195121951219512
         },
         "mode": "markers",
         "showlegend": false,
         "type": "scatter",
         "x": [
          41
         ],
         "y": [
          -1
         ]
        },
        {
         "marker": {
          "color": "blue",
          "opacity": 0.5,
          "size": 3.6585365853658534
         },
         "mode": "markers",
         "showlegend": false,
         "type": "scatter",
         "x": [
          41
         ],
         "y": [
          0
         ]
        },
        {
         "marker": {
          "color": "blue",
          "opacity": 0.5,
          "size": 2.4390243902439024
         },
         "mode": "markers",
         "showlegend": false,
         "type": "scatter",
         "x": [
          41
         ],
         "y": [
          1
         ]
        },
        {
         "marker": {
          "color": "blue",
          "opacity": 0.5,
          "size": 1.2195121951219512
         },
         "mode": "markers",
         "showlegend": false,
         "type": "scatter",
         "x": [
          41
         ],
         "y": [
          2
         ]
        },
        {
         "marker": {
          "color": "blue",
          "opacity": 0.5,
          "size": 2.4390243902439024
         },
         "mode": "markers",
         "showlegend": false,
         "type": "scatter",
         "x": [
          41
         ],
         "y": [
          4
         ]
        },
        {
         "marker": {
          "color": "blue",
          "opacity": 0.5,
          "size": 1.2195121951219512
         },
         "mode": "markers",
         "showlegend": false,
         "type": "scatter",
         "x": [
          41
         ],
         "y": [
          5
         ]
        },
        {
         "marker": {
          "color": "blue",
          "opacity": 0.5,
          "size": 1.2195121951219512
         },
         "mode": "markers",
         "showlegend": false,
         "type": "scatter",
         "x": [
          41
         ],
         "y": [
          9
         ]
        },
        {
         "marker": {
          "color": "blue",
          "opacity": 0.5,
          "size": 1.2195121951219512
         },
         "mode": "markers",
         "showlegend": false,
         "type": "scatter",
         "x": [
          41
         ],
         "y": [
          11
         ]
        },
        {
         "marker": {
          "color": "blue",
          "opacity": 0.5,
          "size": 1.2195121951219512
         },
         "mode": "markers",
         "showlegend": false,
         "type": "scatter",
         "x": [
          41
         ],
         "y": [
          13
         ]
        },
        {
         "marker": {
          "color": "blue",
          "opacity": 0.5,
          "size": 1.2195121951219512
         },
         "mode": "markers",
         "showlegend": false,
         "type": "scatter",
         "x": [
          41
         ],
         "y": [
          14
         ]
        },
        {
         "marker": {
          "color": "blue",
          "opacity": 0.5,
          "size": 1.2195121951219512
         },
         "mode": "markers",
         "showlegend": false,
         "type": "scatter",
         "x": [
          41
         ],
         "y": [
          16
         ]
        },
        {
         "marker": {
          "color": "blue",
          "opacity": 0.5,
          "size": 1.2195121951219512
         },
         "mode": "markers",
         "showlegend": false,
         "type": "scatter",
         "x": [
          41
         ],
         "y": [
          18
         ]
        },
        {
         "marker": {
          "color": "blue",
          "opacity": 0.5,
          "size": 1.2195121951219512
         },
         "mode": "markers",
         "showlegend": false,
         "type": "scatter",
         "x": [
          41
         ],
         "y": [
          20
         ]
        },
        {
         "marker": {
          "color": "blue",
          "opacity": 0.5,
          "size": 2.4390243902439024
         },
         "mode": "markers",
         "showlegend": false,
         "type": "scatter",
         "x": [
          41
         ],
         "y": [
          22
         ]
        },
        {
         "marker": {
          "color": "blue",
          "opacity": 0.5,
          "size": 2.4390243902439024
         },
         "mode": "markers",
         "showlegend": false,
         "type": "scatter",
         "x": [
          41
         ],
         "y": [
          24
         ]
        },
        {
         "marker": {
          "color": "blue",
          "opacity": 0.5,
          "size": 3.6585365853658534
         },
         "mode": "markers",
         "showlegend": false,
         "type": "scatter",
         "x": [
          41
         ],
         "y": [
          27
         ]
        },
        {
         "marker": {
          "color": "blue",
          "opacity": 0.5,
          "size": 1.2195121951219512
         },
         "mode": "markers",
         "showlegend": false,
         "type": "scatter",
         "x": [
          41
         ],
         "y": [
          28
         ]
        },
        {
         "marker": {
          "color": "blue",
          "opacity": 0.5,
          "size": 1.2195121951219512
         },
         "mode": "markers",
         "showlegend": false,
         "type": "scatter",
         "x": [
          41
         ],
         "y": [
          29
         ]
        },
        {
         "marker": {
          "color": "blue",
          "opacity": 0.5,
          "size": 1.2195121951219512
         },
         "mode": "markers",
         "showlegend": false,
         "type": "scatter",
         "x": [
          41
         ],
         "y": [
          33
         ]
        },
        {
         "marker": {
          "color": "blue",
          "opacity": 0.5,
          "size": 1.2195121951219512
         },
         "mode": "markers",
         "showlegend": false,
         "type": "scatter",
         "x": [
          41
         ],
         "y": [
          36
         ]
        },
        {
         "marker": {
          "color": "blue",
          "opacity": 0.5,
          "size": 1.2195121951219512
         },
         "mode": "markers",
         "showlegend": false,
         "type": "scatter",
         "x": [
          42
         ],
         "y": [
          -30
         ]
        },
        {
         "marker": {
          "color": "blue",
          "opacity": 0.5,
          "size": 1.2195121951219512
         },
         "mode": "markers",
         "showlegend": false,
         "type": "scatter",
         "x": [
          42
         ],
         "y": [
          -29
         ]
        },
        {
         "marker": {
          "color": "blue",
          "opacity": 0.5,
          "size": 1.2195121951219512
         },
         "mode": "markers",
         "showlegend": false,
         "type": "scatter",
         "x": [
          42
         ],
         "y": [
          -27
         ]
        },
        {
         "marker": {
          "color": "blue",
          "opacity": 0.5,
          "size": 3.6585365853658534
         },
         "mode": "markers",
         "showlegend": false,
         "type": "scatter",
         "x": [
          42
         ],
         "y": [
          -25
         ]
        },
        {
         "marker": {
          "color": "blue",
          "opacity": 0.5,
          "size": 1.2195121951219512
         },
         "mode": "markers",
         "showlegend": false,
         "type": "scatter",
         "x": [
          42
         ],
         "y": [
          -24
         ]
        },
        {
         "marker": {
          "color": "blue",
          "opacity": 0.5,
          "size": 1.2195121951219512
         },
         "mode": "markers",
         "showlegend": false,
         "type": "scatter",
         "x": [
          42
         ],
         "y": [
          -23
         ]
        },
        {
         "marker": {
          "color": "blue",
          "opacity": 0.5,
          "size": 1.2195121951219512
         },
         "mode": "markers",
         "showlegend": false,
         "type": "scatter",
         "x": [
          42
         ],
         "y": [
          -19
         ]
        },
        {
         "marker": {
          "color": "blue",
          "opacity": 0.5,
          "size": 1.2195121951219512
         },
         "mode": "markers",
         "showlegend": false,
         "type": "scatter",
         "x": [
          42
         ],
         "y": [
          -15
         ]
        },
        {
         "marker": {
          "color": "blue",
          "opacity": 0.5,
          "size": 1.2195121951219512
         },
         "mode": "markers",
         "showlegend": false,
         "type": "scatter",
         "x": [
          42
         ],
         "y": [
          -12
         ]
        },
        {
         "marker": {
          "color": "blue",
          "opacity": 0.5,
          "size": 1.2195121951219512
         },
         "mode": "markers",
         "showlegend": false,
         "type": "scatter",
         "x": [
          42
         ],
         "y": [
          -11
         ]
        },
        {
         "marker": {
          "color": "blue",
          "opacity": 0.5,
          "size": 1.2195121951219512
         },
         "mode": "markers",
         "showlegend": false,
         "type": "scatter",
         "x": [
          42
         ],
         "y": [
          -6
         ]
        },
        {
         "marker": {
          "color": "blue",
          "opacity": 0.5,
          "size": 1.2195121951219512
         },
         "mode": "markers",
         "showlegend": false,
         "type": "scatter",
         "x": [
          42
         ],
         "y": [
          -3
         ]
        },
        {
         "marker": {
          "color": "blue",
          "opacity": 0.5,
          "size": 2.4390243902439024
         },
         "mode": "markers",
         "showlegend": false,
         "type": "scatter",
         "x": [
          42
         ],
         "y": [
          -1
         ]
        },
        {
         "marker": {
          "color": "blue",
          "opacity": 0.5,
          "size": 2.4390243902439024
         },
         "mode": "markers",
         "showlegend": false,
         "type": "scatter",
         "x": [
          42
         ],
         "y": [
          0
         ]
        },
        {
         "marker": {
          "color": "blue",
          "opacity": 0.5,
          "size": 1.2195121951219512
         },
         "mode": "markers",
         "showlegend": false,
         "type": "scatter",
         "x": [
          42
         ],
         "y": [
          2
         ]
        },
        {
         "marker": {
          "color": "blue",
          "opacity": 0.5,
          "size": 1.2195121951219512
         },
         "mode": "markers",
         "showlegend": false,
         "type": "scatter",
         "x": [
          42
         ],
         "y": [
          3
         ]
        },
        {
         "marker": {
          "color": "blue",
          "opacity": 0.5,
          "size": 1.2195121951219512
         },
         "mode": "markers",
         "showlegend": false,
         "type": "scatter",
         "x": [
          42
         ],
         "y": [
          6
         ]
        },
        {
         "marker": {
          "color": "blue",
          "opacity": 0.5,
          "size": 1.2195121951219512
         },
         "mode": "markers",
         "showlegend": false,
         "type": "scatter",
         "x": [
          42
         ],
         "y": [
          14
         ]
        },
        {
         "marker": {
          "color": "blue",
          "opacity": 0.5,
          "size": 1.2195121951219512
         },
         "mode": "markers",
         "showlegend": false,
         "type": "scatter",
         "x": [
          42
         ],
         "y": [
          15
         ]
        },
        {
         "marker": {
          "color": "blue",
          "opacity": 0.5,
          "size": 1.2195121951219512
         },
         "mode": "markers",
         "showlegend": false,
         "type": "scatter",
         "x": [
          42
         ],
         "y": [
          16
         ]
        },
        {
         "marker": {
          "color": "blue",
          "opacity": 0.5,
          "size": 1.2195121951219512
         },
         "mode": "markers",
         "showlegend": false,
         "type": "scatter",
         "x": [
          42
         ],
         "y": [
          19
         ]
        },
        {
         "marker": {
          "color": "blue",
          "opacity": 0.5,
          "size": 3.6585365853658534
         },
         "mode": "markers",
         "showlegend": false,
         "type": "scatter",
         "x": [
          42
         ],
         "y": [
          20
         ]
        },
        {
         "marker": {
          "color": "blue",
          "opacity": 0.5,
          "size": 4.878048780487805
         },
         "mode": "markers",
         "showlegend": false,
         "type": "scatter",
         "x": [
          42
         ],
         "y": [
          23
         ]
        },
        {
         "marker": {
          "color": "blue",
          "opacity": 0.5,
          "size": 2.4390243902439024
         },
         "mode": "markers",
         "showlegend": false,
         "type": "scatter",
         "x": [
          42
         ],
         "y": [
          24
         ]
        },
        {
         "marker": {
          "color": "blue",
          "opacity": 0.5,
          "size": 3.6585365853658534
         },
         "mode": "markers",
         "showlegend": false,
         "type": "scatter",
         "x": [
          42
         ],
         "y": [
          25
         ]
        },
        {
         "marker": {
          "color": "blue",
          "opacity": 0.5,
          "size": 2.4390243902439024
         },
         "mode": "markers",
         "showlegend": false,
         "type": "scatter",
         "x": [
          42
         ],
         "y": [
          26
         ]
        },
        {
         "marker": {
          "color": "blue",
          "opacity": 0.5,
          "size": 1.2195121951219512
         },
         "mode": "markers",
         "showlegend": false,
         "type": "scatter",
         "x": [
          42
         ],
         "y": [
          29
         ]
        },
        {
         "marker": {
          "color": "blue",
          "opacity": 0.5,
          "size": 1.2195121951219512
         },
         "mode": "markers",
         "showlegend": false,
         "type": "scatter",
         "x": [
          42
         ],
         "y": [
          35
         ]
        },
        {
         "marker": {
          "color": "blue",
          "opacity": 0.5,
          "size": 1.2195121951219512
         },
         "mode": "markers",
         "showlegend": false,
         "type": "scatter",
         "x": [
          42
         ],
         "y": [
          36
         ]
        },
        {
         "marker": {
          "color": "blue",
          "opacity": 0.5,
          "size": 1.2195121951219512
         },
         "mode": "markers",
         "showlegend": false,
         "type": "scatter",
         "x": [
          42
         ],
         "y": [
          38
         ]
        },
        {
         "marker": {
          "color": "blue",
          "opacity": 0.5,
          "size": 1.2195121951219512
         },
         "mode": "markers",
         "showlegend": false,
         "type": "scatter",
         "x": [
          43
         ],
         "y": [
          -34
         ]
        },
        {
         "marker": {
          "color": "blue",
          "opacity": 0.5,
          "size": 1.2195121951219512
         },
         "mode": "markers",
         "showlegend": false,
         "type": "scatter",
         "x": [
          43
         ],
         "y": [
          -31
         ]
        },
        {
         "marker": {
          "color": "blue",
          "opacity": 0.5,
          "size": 1.2195121951219512
         },
         "mode": "markers",
         "showlegend": false,
         "type": "scatter",
         "x": [
          43
         ],
         "y": [
          -29
         ]
        },
        {
         "marker": {
          "color": "blue",
          "opacity": 0.5,
          "size": 2.4390243902439024
         },
         "mode": "markers",
         "showlegend": false,
         "type": "scatter",
         "x": [
          43
         ],
         "y": [
          -25
         ]
        },
        {
         "marker": {
          "color": "blue",
          "opacity": 0.5,
          "size": 1.2195121951219512
         },
         "mode": "markers",
         "showlegend": false,
         "type": "scatter",
         "x": [
          43
         ],
         "y": [
          -22
         ]
        },
        {
         "marker": {
          "color": "blue",
          "opacity": 0.5,
          "size": 2.4390243902439024
         },
         "mode": "markers",
         "showlegend": false,
         "type": "scatter",
         "x": [
          43
         ],
         "y": [
          -21
         ]
        },
        {
         "marker": {
          "color": "blue",
          "opacity": 0.5,
          "size": 1.2195121951219512
         },
         "mode": "markers",
         "showlegend": false,
         "type": "scatter",
         "x": [
          43
         ],
         "y": [
          -18
         ]
        },
        {
         "marker": {
          "color": "blue",
          "opacity": 0.5,
          "size": 2.4390243902439024
         },
         "mode": "markers",
         "showlegend": false,
         "type": "scatter",
         "x": [
          43
         ],
         "y": [
          -17
         ]
        },
        {
         "marker": {
          "color": "blue",
          "opacity": 0.5,
          "size": 2.4390243902439024
         },
         "mode": "markers",
         "showlegend": false,
         "type": "scatter",
         "x": [
          43
         ],
         "y": [
          -16
         ]
        },
        {
         "marker": {
          "color": "blue",
          "opacity": 0.5,
          "size": 1.2195121951219512
         },
         "mode": "markers",
         "showlegend": false,
         "type": "scatter",
         "x": [
          43
         ],
         "y": [
          -12
         ]
        },
        {
         "marker": {
          "color": "blue",
          "opacity": 0.5,
          "size": 1.2195121951219512
         },
         "mode": "markers",
         "showlegend": false,
         "type": "scatter",
         "x": [
          43
         ],
         "y": [
          -9
         ]
        },
        {
         "marker": {
          "color": "blue",
          "opacity": 0.5,
          "size": 1.2195121951219512
         },
         "mode": "markers",
         "showlegend": false,
         "type": "scatter",
         "x": [
          43
         ],
         "y": [
          -7
         ]
        },
        {
         "marker": {
          "color": "blue",
          "opacity": 0.5,
          "size": 1.2195121951219512
         },
         "mode": "markers",
         "showlegend": false,
         "type": "scatter",
         "x": [
          43
         ],
         "y": [
          -3
         ]
        },
        {
         "marker": {
          "color": "blue",
          "opacity": 0.5,
          "size": 1.2195121951219512
         },
         "mode": "markers",
         "showlegend": false,
         "type": "scatter",
         "x": [
          43
         ],
         "y": [
          0
         ]
        },
        {
         "marker": {
          "color": "blue",
          "opacity": 0.5,
          "size": 1.2195121951219512
         },
         "mode": "markers",
         "showlegend": false,
         "type": "scatter",
         "x": [
          43
         ],
         "y": [
          1
         ]
        },
        {
         "marker": {
          "color": "blue",
          "opacity": 0.5,
          "size": 1.2195121951219512
         },
         "mode": "markers",
         "showlegend": false,
         "type": "scatter",
         "x": [
          43
         ],
         "y": [
          4
         ]
        },
        {
         "marker": {
          "color": "blue",
          "opacity": 0.5,
          "size": 1.2195121951219512
         },
         "mode": "markers",
         "showlegend": false,
         "type": "scatter",
         "x": [
          43
         ],
         "y": [
          6
         ]
        },
        {
         "marker": {
          "color": "blue",
          "opacity": 0.5,
          "size": 1.2195121951219512
         },
         "mode": "markers",
         "showlegend": false,
         "type": "scatter",
         "x": [
          43
         ],
         "y": [
          14
         ]
        },
        {
         "marker": {
          "color": "blue",
          "opacity": 0.5,
          "size": 2.4390243902439024
         },
         "mode": "markers",
         "showlegend": false,
         "type": "scatter",
         "x": [
          43
         ],
         "y": [
          17
         ]
        },
        {
         "marker": {
          "color": "blue",
          "opacity": 0.5,
          "size": 3.6585365853658534
         },
         "mode": "markers",
         "showlegend": false,
         "type": "scatter",
         "x": [
          43
         ],
         "y": [
          24
         ]
        },
        {
         "marker": {
          "color": "blue",
          "opacity": 0.5,
          "size": 3.6585365853658534
         },
         "mode": "markers",
         "showlegend": false,
         "type": "scatter",
         "x": [
          43
         ],
         "y": [
          26
         ]
        },
        {
         "marker": {
          "color": "blue",
          "opacity": 0.5,
          "size": 1.2195121951219512
         },
         "mode": "markers",
         "showlegend": false,
         "type": "scatter",
         "x": [
          44
         ],
         "y": [
          -31
         ]
        },
        {
         "marker": {
          "color": "blue",
          "opacity": 0.5,
          "size": 1.2195121951219512
         },
         "mode": "markers",
         "showlegend": false,
         "type": "scatter",
         "x": [
          44
         ],
         "y": [
          -26
         ]
        },
        {
         "marker": {
          "color": "blue",
          "opacity": 0.5,
          "size": 1.2195121951219512
         },
         "mode": "markers",
         "showlegend": false,
         "type": "scatter",
         "x": [
          44
         ],
         "y": [
          -25
         ]
        },
        {
         "marker": {
          "color": "blue",
          "opacity": 0.5,
          "size": 1.2195121951219512
         },
         "mode": "markers",
         "showlegend": false,
         "type": "scatter",
         "x": [
          44
         ],
         "y": [
          -22
         ]
        },
        {
         "marker": {
          "color": "blue",
          "opacity": 0.5,
          "size": 4.878048780487805
         },
         "mode": "markers",
         "showlegend": false,
         "type": "scatter",
         "x": [
          44
         ],
         "y": [
          -20
         ]
        },
        {
         "marker": {
          "color": "blue",
          "opacity": 0.5,
          "size": 1.2195121951219512
         },
         "mode": "markers",
         "showlegend": false,
         "type": "scatter",
         "x": [
          44
         ],
         "y": [
          -8
         ]
        },
        {
         "marker": {
          "color": "blue",
          "opacity": 0.5,
          "size": 1.2195121951219512
         },
         "mode": "markers",
         "showlegend": false,
         "type": "scatter",
         "x": [
          44
         ],
         "y": [
          -2
         ]
        },
        {
         "marker": {
          "color": "blue",
          "opacity": 0.5,
          "size": 1.2195121951219512
         },
         "mode": "markers",
         "showlegend": false,
         "type": "scatter",
         "x": [
          44
         ],
         "y": [
          -1
         ]
        },
        {
         "marker": {
          "color": "blue",
          "opacity": 0.5,
          "size": 1.2195121951219512
         },
         "mode": "markers",
         "showlegend": false,
         "type": "scatter",
         "x": [
          44
         ],
         "y": [
          14
         ]
        },
        {
         "marker": {
          "color": "blue",
          "opacity": 0.5,
          "size": 1.2195121951219512
         },
         "mode": "markers",
         "showlegend": false,
         "type": "scatter",
         "x": [
          44
         ],
         "y": [
          19
         ]
        },
        {
         "marker": {
          "color": "blue",
          "opacity": 0.5,
          "size": 2.4390243902439024
         },
         "mode": "markers",
         "showlegend": false,
         "type": "scatter",
         "x": [
          44
         ],
         "y": [
          21
         ]
        },
        {
         "marker": {
          "color": "blue",
          "opacity": 0.5,
          "size": 2.4390243902439024
         },
         "mode": "markers",
         "showlegend": false,
         "type": "scatter",
         "x": [
          44
         ],
         "y": [
          22
         ]
        },
        {
         "marker": {
          "color": "blue",
          "opacity": 0.5,
          "size": 1.2195121951219512
         },
         "mode": "markers",
         "showlegend": false,
         "type": "scatter",
         "x": [
          44
         ],
         "y": [
          23
         ]
        },
        {
         "marker": {
          "color": "blue",
          "opacity": 0.5,
          "size": 1.2195121951219512
         },
         "mode": "markers",
         "showlegend": false,
         "type": "scatter",
         "x": [
          44
         ],
         "y": [
          25
         ]
        },
        {
         "marker": {
          "color": "blue",
          "opacity": 0.5,
          "size": 2.4390243902439024
         },
         "mode": "markers",
         "showlegend": false,
         "type": "scatter",
         "x": [
          44
         ],
         "y": [
          27
         ]
        },
        {
         "marker": {
          "color": "blue",
          "opacity": 0.5,
          "size": 1.2195121951219512
         },
         "mode": "markers",
         "showlegend": false,
         "type": "scatter",
         "x": [
          44
         ],
         "y": [
          29
         ]
        },
        {
         "marker": {
          "color": "blue",
          "opacity": 0.5,
          "size": 1.2195121951219512
         },
         "mode": "markers",
         "showlegend": false,
         "type": "scatter",
         "x": [
          44
         ],
         "y": [
          39
         ]
        },
        {
         "marker": {
          "color": "blue",
          "opacity": 0.5,
          "size": 1.2195121951219512
         },
         "mode": "markers",
         "showlegend": false,
         "type": "scatter",
         "x": [
          45
         ],
         "y": [
          -30
         ]
        },
        {
         "marker": {
          "color": "blue",
          "opacity": 0.5,
          "size": 2.4390243902439024
         },
         "mode": "markers",
         "showlegend": false,
         "type": "scatter",
         "x": [
          45
         ],
         "y": [
          -29
         ]
        },
        {
         "marker": {
          "color": "blue",
          "opacity": 0.5,
          "size": 1.2195121951219512
         },
         "mode": "markers",
         "showlegend": false,
         "type": "scatter",
         "x": [
          45
         ],
         "y": [
          -28
         ]
        },
        {
         "marker": {
          "color": "blue",
          "opacity": 0.5,
          "size": 1.2195121951219512
         },
         "mode": "markers",
         "showlegend": false,
         "type": "scatter",
         "x": [
          45
         ],
         "y": [
          -27
         ]
        },
        {
         "marker": {
          "color": "blue",
          "opacity": 0.5,
          "size": 1.2195121951219512
         },
         "mode": "markers",
         "showlegend": false,
         "type": "scatter",
         "x": [
          45
         ],
         "y": [
          -21
         ]
        },
        {
         "marker": {
          "color": "blue",
          "opacity": 0.5,
          "size": 2.4390243902439024
         },
         "mode": "markers",
         "showlegend": false,
         "type": "scatter",
         "x": [
          45
         ],
         "y": [
          -19
         ]
        },
        {
         "marker": {
          "color": "blue",
          "opacity": 0.5,
          "size": 2.4390243902439024
         },
         "mode": "markers",
         "showlegend": false,
         "type": "scatter",
         "x": [
          45
         ],
         "y": [
          -17
         ]
        },
        {
         "marker": {
          "color": "blue",
          "opacity": 0.5,
          "size": 2.4390243902439024
         },
         "mode": "markers",
         "showlegend": false,
         "type": "scatter",
         "x": [
          45
         ],
         "y": [
          -16
         ]
        },
        {
         "marker": {
          "color": "blue",
          "opacity": 0.5,
          "size": 1.2195121951219512
         },
         "mode": "markers",
         "showlegend": false,
         "type": "scatter",
         "x": [
          45
         ],
         "y": [
          -13
         ]
        },
        {
         "marker": {
          "color": "blue",
          "opacity": 0.5,
          "size": 1.2195121951219512
         },
         "mode": "markers",
         "showlegend": false,
         "type": "scatter",
         "x": [
          45
         ],
         "y": [
          -12
         ]
        },
        {
         "marker": {
          "color": "blue",
          "opacity": 0.5,
          "size": 1.2195121951219512
         },
         "mode": "markers",
         "showlegend": false,
         "type": "scatter",
         "x": [
          45
         ],
         "y": [
          -9
         ]
        },
        {
         "marker": {
          "color": "blue",
          "opacity": 0.5,
          "size": 1.2195121951219512
         },
         "mode": "markers",
         "showlegend": false,
         "type": "scatter",
         "x": [
          45
         ],
         "y": [
          -8
         ]
        },
        {
         "marker": {
          "color": "blue",
          "opacity": 0.5,
          "size": 1.2195121951219512
         },
         "mode": "markers",
         "showlegend": false,
         "type": "scatter",
         "x": [
          45
         ],
         "y": [
          -6
         ]
        },
        {
         "marker": {
          "color": "blue",
          "opacity": 0.5,
          "size": 1.2195121951219512
         },
         "mode": "markers",
         "showlegend": false,
         "type": "scatter",
         "x": [
          45
         ],
         "y": [
          -5
         ]
        },
        {
         "marker": {
          "color": "blue",
          "opacity": 0.5,
          "size": 2.4390243902439024
         },
         "mode": "markers",
         "showlegend": false,
         "type": "scatter",
         "x": [
          45
         ],
         "y": [
          -1
         ]
        },
        {
         "marker": {
          "color": "blue",
          "opacity": 0.5,
          "size": 1.2195121951219512
         },
         "mode": "markers",
         "showlegend": false,
         "type": "scatter",
         "x": [
          45
         ],
         "y": [
          2
         ]
        },
        {
         "marker": {
          "color": "blue",
          "opacity": 0.5,
          "size": 1.2195121951219512
         },
         "mode": "markers",
         "showlegend": false,
         "type": "scatter",
         "x": [
          45
         ],
         "y": [
          10
         ]
        },
        {
         "marker": {
          "color": "blue",
          "opacity": 0.5,
          "size": 1.2195121951219512
         },
         "mode": "markers",
         "showlegend": false,
         "type": "scatter",
         "x": [
          45
         ],
         "y": [
          11
         ]
        },
        {
         "marker": {
          "color": "blue",
          "opacity": 0.5,
          "size": 1.2195121951219512
         },
         "mode": "markers",
         "showlegend": false,
         "type": "scatter",
         "x": [
          45
         ],
         "y": [
          12
         ]
        },
        {
         "marker": {
          "color": "blue",
          "opacity": 0.5,
          "size": 1.2195121951219512
         },
         "mode": "markers",
         "showlegend": false,
         "type": "scatter",
         "x": [
          45
         ],
         "y": [
          14
         ]
        },
        {
         "marker": {
          "color": "blue",
          "opacity": 0.5,
          "size": 1.2195121951219512
         },
         "mode": "markers",
         "showlegend": false,
         "type": "scatter",
         "x": [
          45
         ],
         "y": [
          16
         ]
        },
        {
         "marker": {
          "color": "blue",
          "opacity": 0.5,
          "size": 1.2195121951219512
         },
         "mode": "markers",
         "showlegend": false,
         "type": "scatter",
         "x": [
          45
         ],
         "y": [
          19
         ]
        },
        {
         "marker": {
          "color": "blue",
          "opacity": 0.5,
          "size": 2.4390243902439024
         },
         "mode": "markers",
         "showlegend": false,
         "type": "scatter",
         "x": [
          45
         ],
         "y": [
          20
         ]
        },
        {
         "marker": {
          "color": "blue",
          "opacity": 0.5,
          "size": 2.4390243902439024
         },
         "mode": "markers",
         "showlegend": false,
         "type": "scatter",
         "x": [
          45
         ],
         "y": [
          21
         ]
        },
        {
         "marker": {
          "color": "blue",
          "opacity": 0.5,
          "size": 1.2195121951219512
         },
         "mode": "markers",
         "showlegend": false,
         "type": "scatter",
         "x": [
          45
         ],
         "y": [
          23
         ]
        },
        {
         "marker": {
          "color": "blue",
          "opacity": 0.5,
          "size": 2.4390243902439024
         },
         "mode": "markers",
         "showlegend": false,
         "type": "scatter",
         "x": [
          45
         ],
         "y": [
          25
         ]
        },
        {
         "marker": {
          "color": "blue",
          "opacity": 0.5,
          "size": 1.2195121951219512
         },
         "mode": "markers",
         "showlegend": false,
         "type": "scatter",
         "x": [
          45
         ],
         "y": [
          26
         ]
        },
        {
         "marker": {
          "color": "blue",
          "opacity": 0.5,
          "size": 1.2195121951219512
         },
         "mode": "markers",
         "showlegend": false,
         "type": "scatter",
         "x": [
          45
         ],
         "y": [
          27
         ]
        },
        {
         "marker": {
          "color": "blue",
          "opacity": 0.5,
          "size": 1.2195121951219512
         },
         "mode": "markers",
         "showlegend": false,
         "type": "scatter",
         "x": [
          45
         ],
         "y": [
          28
         ]
        },
        {
         "marker": {
          "color": "blue",
          "opacity": 0.5,
          "size": 1.2195121951219512
         },
         "mode": "markers",
         "showlegend": false,
         "type": "scatter",
         "x": [
          45
         ],
         "y": [
          29
         ]
        },
        {
         "marker": {
          "color": "blue",
          "opacity": 0.5,
          "size": 2.4390243902439024
         },
         "mode": "markers",
         "showlegend": false,
         "type": "scatter",
         "x": [
          45
         ],
         "y": [
          30
         ]
        },
        {
         "marker": {
          "color": "blue",
          "opacity": 0.5,
          "size": 1.2195121951219512
         },
         "mode": "markers",
         "showlegend": false,
         "type": "scatter",
         "x": [
          45
         ],
         "y": [
          35
         ]
        },
        {
         "marker": {
          "color": "blue",
          "opacity": 0.5,
          "size": 1.2195121951219512
         },
         "mode": "markers",
         "showlegend": false,
         "type": "scatter",
         "x": [
          45
         ],
         "y": [
          38
         ]
        },
        {
         "marker": {
          "color": "blue",
          "opacity": 0.5,
          "size": 1.2195121951219512
         },
         "mode": "markers",
         "showlegend": false,
         "type": "scatter",
         "x": [
          46
         ],
         "y": [
          -37
         ]
        },
        {
         "marker": {
          "color": "blue",
          "opacity": 0.5,
          "size": 1.2195121951219512
         },
         "mode": "markers",
         "showlegend": false,
         "type": "scatter",
         "x": [
          46
         ],
         "y": [
          -30
         ]
        },
        {
         "marker": {
          "color": "blue",
          "opacity": 0.5,
          "size": 1.2195121951219512
         },
         "mode": "markers",
         "showlegend": false,
         "type": "scatter",
         "x": [
          46
         ],
         "y": [
          -25
         ]
        },
        {
         "marker": {
          "color": "blue",
          "opacity": 0.5,
          "size": 1.2195121951219512
         },
         "mode": "markers",
         "showlegend": false,
         "type": "scatter",
         "x": [
          46
         ],
         "y": [
          -22
         ]
        },
        {
         "marker": {
          "color": "blue",
          "opacity": 0.5,
          "size": 1.2195121951219512
         },
         "mode": "markers",
         "showlegend": false,
         "type": "scatter",
         "x": [
          46
         ],
         "y": [
          -20
         ]
        },
        {
         "marker": {
          "color": "blue",
          "opacity": 0.5,
          "size": 1.2195121951219512
         },
         "mode": "markers",
         "showlegend": false,
         "type": "scatter",
         "x": [
          46
         ],
         "y": [
          -19
         ]
        },
        {
         "marker": {
          "color": "blue",
          "opacity": 0.5,
          "size": 1.2195121951219512
         },
         "mode": "markers",
         "showlegend": false,
         "type": "scatter",
         "x": [
          46
         ],
         "y": [
          -11
         ]
        },
        {
         "marker": {
          "color": "blue",
          "opacity": 0.5,
          "size": 2.4390243902439024
         },
         "mode": "markers",
         "showlegend": false,
         "type": "scatter",
         "x": [
          46
         ],
         "y": [
          -10
         ]
        },
        {
         "marker": {
          "color": "blue",
          "opacity": 0.5,
          "size": 1.2195121951219512
         },
         "mode": "markers",
         "showlegend": false,
         "type": "scatter",
         "x": [
          46
         ],
         "y": [
          -3
         ]
        },
        {
         "marker": {
          "color": "blue",
          "opacity": 0.5,
          "size": 1.2195121951219512
         },
         "mode": "markers",
         "showlegend": false,
         "type": "scatter",
         "x": [
          46
         ],
         "y": [
          -1
         ]
        },
        {
         "marker": {
          "color": "blue",
          "opacity": 0.5,
          "size": 1.2195121951219512
         },
         "mode": "markers",
         "showlegend": false,
         "type": "scatter",
         "x": [
          46
         ],
         "y": [
          1
         ]
        },
        {
         "marker": {
          "color": "blue",
          "opacity": 0.5,
          "size": 2.4390243902439024
         },
         "mode": "markers",
         "showlegend": false,
         "type": "scatter",
         "x": [
          46
         ],
         "y": [
          2
         ]
        },
        {
         "marker": {
          "color": "blue",
          "opacity": 0.5,
          "size": 1.2195121951219512
         },
         "mode": "markers",
         "showlegend": false,
         "type": "scatter",
         "x": [
          46
         ],
         "y": [
          7
         ]
        },
        {
         "marker": {
          "color": "blue",
          "opacity": 0.5,
          "size": 1.2195121951219512
         },
         "mode": "markers",
         "showlegend": false,
         "type": "scatter",
         "x": [
          46
         ],
         "y": [
          9
         ]
        },
        {
         "marker": {
          "color": "blue",
          "opacity": 0.5,
          "size": 1.2195121951219512
         },
         "mode": "markers",
         "showlegend": false,
         "type": "scatter",
         "x": [
          46
         ],
         "y": [
          14
         ]
        },
        {
         "marker": {
          "color": "blue",
          "opacity": 0.5,
          "size": 1.2195121951219512
         },
         "mode": "markers",
         "showlegend": false,
         "type": "scatter",
         "x": [
          46
         ],
         "y": [
          16
         ]
        },
        {
         "marker": {
          "color": "blue",
          "opacity": 0.5,
          "size": 1.2195121951219512
         },
         "mode": "markers",
         "showlegend": false,
         "type": "scatter",
         "x": [
          46
         ],
         "y": [
          20
         ]
        },
        {
         "marker": {
          "color": "blue",
          "opacity": 0.5,
          "size": 1.2195121951219512
         },
         "mode": "markers",
         "showlegend": false,
         "type": "scatter",
         "x": [
          46
         ],
         "y": [
          22
         ]
        },
        {
         "marker": {
          "color": "blue",
          "opacity": 0.5,
          "size": 2.4390243902439024
         },
         "mode": "markers",
         "showlegend": false,
         "type": "scatter",
         "x": [
          46
         ],
         "y": [
          23
         ]
        },
        {
         "marker": {
          "color": "blue",
          "opacity": 0.5,
          "size": 2.4390243902439024
         },
         "mode": "markers",
         "showlegend": false,
         "type": "scatter",
         "x": [
          46
         ],
         "y": [
          24
         ]
        },
        {
         "marker": {
          "color": "blue",
          "opacity": 0.5,
          "size": 2.4390243902439024
         },
         "mode": "markers",
         "showlegend": false,
         "type": "scatter",
         "x": [
          46
         ],
         "y": [
          25
         ]
        },
        {
         "marker": {
          "color": "blue",
          "opacity": 0.5,
          "size": 1.2195121951219512
         },
         "mode": "markers",
         "showlegend": false,
         "type": "scatter",
         "x": [
          46
         ],
         "y": [
          26
         ]
        },
        {
         "marker": {
          "color": "blue",
          "opacity": 0.5,
          "size": 1.2195121951219512
         },
         "mode": "markers",
         "showlegend": false,
         "type": "scatter",
         "x": [
          46
         ],
         "y": [
          29
         ]
        },
        {
         "marker": {
          "color": "blue",
          "opacity": 0.5,
          "size": 1.2195121951219512
         },
         "mode": "markers",
         "showlegend": false,
         "type": "scatter",
         "x": [
          46
         ],
         "y": [
          30
         ]
        },
        {
         "marker": {
          "color": "blue",
          "opacity": 0.5,
          "size": 1.2195121951219512
         },
         "mode": "markers",
         "showlegend": false,
         "type": "scatter",
         "x": [
          47
         ],
         "y": [
          -36
         ]
        },
        {
         "marker": {
          "color": "blue",
          "opacity": 0.5,
          "size": 2.4390243902439024
         },
         "mode": "markers",
         "showlegend": false,
         "type": "scatter",
         "x": [
          47
         ],
         "y": [
          -31
         ]
        },
        {
         "marker": {
          "color": "blue",
          "opacity": 0.5,
          "size": 1.2195121951219512
         },
         "mode": "markers",
         "showlegend": false,
         "type": "scatter",
         "x": [
          47
         ],
         "y": [
          -25
         ]
        },
        {
         "marker": {
          "color": "blue",
          "opacity": 0.5,
          "size": 1.2195121951219512
         },
         "mode": "markers",
         "showlegend": false,
         "type": "scatter",
         "x": [
          47
         ],
         "y": [
          -22
         ]
        },
        {
         "marker": {
          "color": "blue",
          "opacity": 0.5,
          "size": 1.2195121951219512
         },
         "mode": "markers",
         "showlegend": false,
         "type": "scatter",
         "x": [
          47
         ],
         "y": [
          -19
         ]
        },
        {
         "marker": {
          "color": "blue",
          "opacity": 0.5,
          "size": 2.4390243902439024
         },
         "mode": "markers",
         "showlegend": false,
         "type": "scatter",
         "x": [
          47
         ],
         "y": [
          -18
         ]
        },
        {
         "marker": {
          "color": "blue",
          "opacity": 0.5,
          "size": 1.2195121951219512
         },
         "mode": "markers",
         "showlegend": false,
         "type": "scatter",
         "x": [
          47
         ],
         "y": [
          -12
         ]
        },
        {
         "marker": {
          "color": "blue",
          "opacity": 0.5,
          "size": 1.2195121951219512
         },
         "mode": "markers",
         "showlegend": false,
         "type": "scatter",
         "x": [
          47
         ],
         "y": [
          -1
         ]
        },
        {
         "marker": {
          "color": "blue",
          "opacity": 0.5,
          "size": 1.2195121951219512
         },
         "mode": "markers",
         "showlegend": false,
         "type": "scatter",
         "x": [
          47
         ],
         "y": [
          5
         ]
        },
        {
         "marker": {
          "color": "blue",
          "opacity": 0.5,
          "size": 1.2195121951219512
         },
         "mode": "markers",
         "showlegend": false,
         "type": "scatter",
         "x": [
          47
         ],
         "y": [
          10
         ]
        },
        {
         "marker": {
          "color": "blue",
          "opacity": 0.5,
          "size": 1.2195121951219512
         },
         "mode": "markers",
         "showlegend": false,
         "type": "scatter",
         "x": [
          47
         ],
         "y": [
          13
         ]
        },
        {
         "marker": {
          "color": "blue",
          "opacity": 0.5,
          "size": 1.2195121951219512
         },
         "mode": "markers",
         "showlegend": false,
         "type": "scatter",
         "x": [
          47
         ],
         "y": [
          14
         ]
        },
        {
         "marker": {
          "color": "blue",
          "opacity": 0.5,
          "size": 1.2195121951219512
         },
         "mode": "markers",
         "showlegend": false,
         "type": "scatter",
         "x": [
          47
         ],
         "y": [
          19
         ]
        },
        {
         "marker": {
          "color": "blue",
          "opacity": 0.5,
          "size": 1.2195121951219512
         },
         "mode": "markers",
         "showlegend": false,
         "type": "scatter",
         "x": [
          47
         ],
         "y": [
          23
         ]
        },
        {
         "marker": {
          "color": "blue",
          "opacity": 0.5,
          "size": 2.4390243902439024
         },
         "mode": "markers",
         "showlegend": false,
         "type": "scatter",
         "x": [
          47
         ],
         "y": [
          26
         ]
        },
        {
         "marker": {
          "color": "blue",
          "opacity": 0.5,
          "size": 2.4390243902439024
         },
         "mode": "markers",
         "showlegend": false,
         "type": "scatter",
         "x": [
          47
         ],
         "y": [
          31
         ]
        },
        {
         "marker": {
          "color": "blue",
          "opacity": 0.5,
          "size": 1.2195121951219512
         },
         "mode": "markers",
         "showlegend": false,
         "type": "scatter",
         "x": [
          47
         ],
         "y": [
          33
         ]
        },
        {
         "marker": {
          "color": "blue",
          "opacity": 0.5,
          "size": 1.2195121951219512
         },
         "mode": "markers",
         "showlegend": false,
         "type": "scatter",
         "x": [
          48
         ],
         "y": [
          -38
         ]
        },
        {
         "marker": {
          "color": "blue",
          "opacity": 0.5,
          "size": 2.4390243902439024
         },
         "mode": "markers",
         "showlegend": false,
         "type": "scatter",
         "x": [
          48
         ],
         "y": [
          -35
         ]
        },
        {
         "marker": {
          "color": "blue",
          "opacity": 0.5,
          "size": 2.4390243902439024
         },
         "mode": "markers",
         "showlegend": false,
         "type": "scatter",
         "x": [
          48
         ],
         "y": [
          -28
         ]
        },
        {
         "marker": {
          "color": "blue",
          "opacity": 0.5,
          "size": 1.2195121951219512
         },
         "mode": "markers",
         "showlegend": false,
         "type": "scatter",
         "x": [
          48
         ],
         "y": [
          -26
         ]
        },
        {
         "marker": {
          "color": "blue",
          "opacity": 0.5,
          "size": 1.2195121951219512
         },
         "mode": "markers",
         "showlegend": false,
         "type": "scatter",
         "x": [
          48
         ],
         "y": [
          -20
         ]
        },
        {
         "marker": {
          "color": "blue",
          "opacity": 0.5,
          "size": 1.2195121951219512
         },
         "mode": "markers",
         "showlegend": false,
         "type": "scatter",
         "x": [
          48
         ],
         "y": [
          -18
         ]
        },
        {
         "marker": {
          "color": "blue",
          "opacity": 0.5,
          "size": 1.2195121951219512
         },
         "mode": "markers",
         "showlegend": false,
         "type": "scatter",
         "x": [
          48
         ],
         "y": [
          -15
         ]
        },
        {
         "marker": {
          "color": "blue",
          "opacity": 0.5,
          "size": 1.2195121951219512
         },
         "mode": "markers",
         "showlegend": false,
         "type": "scatter",
         "x": [
          48
         ],
         "y": [
          -14
         ]
        },
        {
         "marker": {
          "color": "blue",
          "opacity": 0.5,
          "size": 1.2195121951219512
         },
         "mode": "markers",
         "showlegend": false,
         "type": "scatter",
         "x": [
          48
         ],
         "y": [
          -9
         ]
        },
        {
         "marker": {
          "color": "blue",
          "opacity": 0.5,
          "size": 1.2195121951219512
         },
         "mode": "markers",
         "showlegend": false,
         "type": "scatter",
         "x": [
          48
         ],
         "y": [
          -5
         ]
        },
        {
         "marker": {
          "color": "blue",
          "opacity": 0.5,
          "size": 1.2195121951219512
         },
         "mode": "markers",
         "showlegend": false,
         "type": "scatter",
         "x": [
          48
         ],
         "y": [
          1
         ]
        },
        {
         "marker": {
          "color": "blue",
          "opacity": 0.5,
          "size": 1.2195121951219512
         },
         "mode": "markers",
         "showlegend": false,
         "type": "scatter",
         "x": [
          48
         ],
         "y": [
          2
         ]
        },
        {
         "marker": {
          "color": "blue",
          "opacity": 0.5,
          "size": 1.2195121951219512
         },
         "mode": "markers",
         "showlegend": false,
         "type": "scatter",
         "x": [
          48
         ],
         "y": [
          5
         ]
        },
        {
         "marker": {
          "color": "blue",
          "opacity": 0.5,
          "size": 1.2195121951219512
         },
         "mode": "markers",
         "showlegend": false,
         "type": "scatter",
         "x": [
          48
         ],
         "y": [
          9
         ]
        },
        {
         "marker": {
          "color": "blue",
          "opacity": 0.5,
          "size": 1.2195121951219512
         },
         "mode": "markers",
         "showlegend": false,
         "type": "scatter",
         "x": [
          48
         ],
         "y": [
          10
         ]
        },
        {
         "marker": {
          "color": "blue",
          "opacity": 0.5,
          "size": 1.2195121951219512
         },
         "mode": "markers",
         "showlegend": false,
         "type": "scatter",
         "x": [
          48
         ],
         "y": [
          21
         ]
        },
        {
         "marker": {
          "color": "blue",
          "opacity": 0.5,
          "size": 2.4390243902439024
         },
         "mode": "markers",
         "showlegend": false,
         "type": "scatter",
         "x": [
          48
         ],
         "y": [
          22
         ]
        },
        {
         "marker": {
          "color": "blue",
          "opacity": 0.5,
          "size": 3.6585365853658534
         },
         "mode": "markers",
         "showlegend": false,
         "type": "scatter",
         "x": [
          48
         ],
         "y": [
          23
         ]
        },
        {
         "marker": {
          "color": "blue",
          "opacity": 0.5,
          "size": 2.4390243902439024
         },
         "mode": "markers",
         "showlegend": false,
         "type": "scatter",
         "x": [
          48
         ],
         "y": [
          24
         ]
        },
        {
         "marker": {
          "color": "blue",
          "opacity": 0.5,
          "size": 2.4390243902439024
         },
         "mode": "markers",
         "showlegend": false,
         "type": "scatter",
         "x": [
          48
         ],
         "y": [
          26
         ]
        },
        {
         "marker": {
          "color": "blue",
          "opacity": 0.5,
          "size": 1.2195121951219512
         },
         "mode": "markers",
         "showlegend": false,
         "type": "scatter",
         "x": [
          48
         ],
         "y": [
          28
         ]
        },
        {
         "marker": {
          "color": "blue",
          "opacity": 0.5,
          "size": 1.2195121951219512
         },
         "mode": "markers",
         "showlegend": false,
         "type": "scatter",
         "x": [
          48
         ],
         "y": [
          29
         ]
        },
        {
         "marker": {
          "color": "blue",
          "opacity": 0.5,
          "size": 1.2195121951219512
         },
         "mode": "markers",
         "showlegend": false,
         "type": "scatter",
         "x": [
          48
         ],
         "y": [
          31
         ]
        },
        {
         "marker": {
          "color": "blue",
          "opacity": 0.5,
          "size": 1.2195121951219512
         },
         "mode": "markers",
         "showlegend": false,
         "type": "scatter",
         "x": [
          48
         ],
         "y": [
          33
         ]
        },
        {
         "marker": {
          "color": "blue",
          "opacity": 0.5,
          "size": 2.4390243902439024
         },
         "mode": "markers",
         "showlegend": false,
         "type": "scatter",
         "x": [
          49
         ],
         "y": [
          -35
         ]
        },
        {
         "marker": {
          "color": "blue",
          "opacity": 0.5,
          "size": 2.4390243902439024
         },
         "mode": "markers",
         "showlegend": false,
         "type": "scatter",
         "x": [
          49
         ],
         "y": [
          -31
         ]
        },
        {
         "marker": {
          "color": "blue",
          "opacity": 0.5,
          "size": 3.6585365853658534
         },
         "mode": "markers",
         "showlegend": false,
         "type": "scatter",
         "x": [
          49
         ],
         "y": [
          -29
         ]
        },
        {
         "marker": {
          "color": "blue",
          "opacity": 0.5,
          "size": 2.4390243902439024
         },
         "mode": "markers",
         "showlegend": false,
         "type": "scatter",
         "x": [
          49
         ],
         "y": [
          -23
         ]
        },
        {
         "marker": {
          "color": "blue",
          "opacity": 0.5,
          "size": 1.2195121951219512
         },
         "mode": "markers",
         "showlegend": false,
         "type": "scatter",
         "x": [
          49
         ],
         "y": [
          -21
         ]
        },
        {
         "marker": {
          "color": "blue",
          "opacity": 0.5,
          "size": 1.2195121951219512
         },
         "mode": "markers",
         "showlegend": false,
         "type": "scatter",
         "x": [
          49
         ],
         "y": [
          -18
         ]
        },
        {
         "marker": {
          "color": "blue",
          "opacity": 0.5,
          "size": 1.2195121951219512
         },
         "mode": "markers",
         "showlegend": false,
         "type": "scatter",
         "x": [
          49
         ],
         "y": [
          -17
         ]
        },
        {
         "marker": {
          "color": "blue",
          "opacity": 0.5,
          "size": 1.2195121951219512
         },
         "mode": "markers",
         "showlegend": false,
         "type": "scatter",
         "x": [
          49
         ],
         "y": [
          -16
         ]
        },
        {
         "marker": {
          "color": "blue",
          "opacity": 0.5,
          "size": 1.2195121951219512
         },
         "mode": "markers",
         "showlegend": false,
         "type": "scatter",
         "x": [
          49
         ],
         "y": [
          -12
         ]
        },
        {
         "marker": {
          "color": "blue",
          "opacity": 0.5,
          "size": 1.2195121951219512
         },
         "mode": "markers",
         "showlegend": false,
         "type": "scatter",
         "x": [
          49
         ],
         "y": [
          -11
         ]
        },
        {
         "marker": {
          "color": "blue",
          "opacity": 0.5,
          "size": 1.2195121951219512
         },
         "mode": "markers",
         "showlegend": false,
         "type": "scatter",
         "x": [
          49
         ],
         "y": [
          -10
         ]
        },
        {
         "marker": {
          "color": "blue",
          "opacity": 0.5,
          "size": 2.4390243902439024
         },
         "mode": "markers",
         "showlegend": false,
         "type": "scatter",
         "x": [
          49
         ],
         "y": [
          -5
         ]
        },
        {
         "marker": {
          "color": "blue",
          "opacity": 0.5,
          "size": 1.2195121951219512
         },
         "mode": "markers",
         "showlegend": false,
         "type": "scatter",
         "x": [
          49
         ],
         "y": [
          -2
         ]
        },
        {
         "marker": {
          "color": "blue",
          "opacity": 0.5,
          "size": 2.4390243902439024
         },
         "mode": "markers",
         "showlegend": false,
         "type": "scatter",
         "x": [
          49
         ],
         "y": [
          0
         ]
        },
        {
         "marker": {
          "color": "blue",
          "opacity": 0.5,
          "size": 1.2195121951219512
         },
         "mode": "markers",
         "showlegend": false,
         "type": "scatter",
         "x": [
          49
         ],
         "y": [
          3
         ]
        },
        {
         "marker": {
          "color": "blue",
          "opacity": 0.5,
          "size": 1.2195121951219512
         },
         "mode": "markers",
         "showlegend": false,
         "type": "scatter",
         "x": [
          49
         ],
         "y": [
          7
         ]
        },
        {
         "marker": {
          "color": "blue",
          "opacity": 0.5,
          "size": 1.2195121951219512
         },
         "mode": "markers",
         "showlegend": false,
         "type": "scatter",
         "x": [
          49
         ],
         "y": [
          8
         ]
        },
        {
         "marker": {
          "color": "blue",
          "opacity": 0.5,
          "size": 2.4390243902439024
         },
         "mode": "markers",
         "showlegend": false,
         "type": "scatter",
         "x": [
          49
         ],
         "y": [
          14
         ]
        },
        {
         "marker": {
          "color": "blue",
          "opacity": 0.5,
          "size": 1.2195121951219512
         },
         "mode": "markers",
         "showlegend": false,
         "type": "scatter",
         "x": [
          49
         ],
         "y": [
          17
         ]
        },
        {
         "marker": {
          "color": "blue",
          "opacity": 0.5,
          "size": 1.2195121951219512
         },
         "mode": "markers",
         "showlegend": false,
         "type": "scatter",
         "x": [
          49
         ],
         "y": [
          18
         ]
        },
        {
         "marker": {
          "color": "blue",
          "opacity": 0.5,
          "size": 1.2195121951219512
         },
         "mode": "markers",
         "showlegend": false,
         "type": "scatter",
         "x": [
          49
         ],
         "y": [
          19
         ]
        },
        {
         "marker": {
          "color": "blue",
          "opacity": 0.5,
          "size": 1.2195121951219512
         },
         "mode": "markers",
         "showlegend": false,
         "type": "scatter",
         "x": [
          49
         ],
         "y": [
          22
         ]
        },
        {
         "marker": {
          "color": "blue",
          "opacity": 0.5,
          "size": 1.2195121951219512
         },
         "mode": "markers",
         "showlegend": false,
         "type": "scatter",
         "x": [
          49
         ],
         "y": [
          28
         ]
        },
        {
         "marker": {
          "color": "blue",
          "opacity": 0.5,
          "size": 1.2195121951219512
         },
         "mode": "markers",
         "showlegend": false,
         "type": "scatter",
         "x": [
          49
         ],
         "y": [
          37
         ]
        },
        {
         "marker": {
          "color": "blue",
          "opacity": 0.5,
          "size": 1.2195121951219512
         },
         "mode": "markers",
         "showlegend": false,
         "type": "scatter",
         "x": [
          50
         ],
         "y": [
          -37
         ]
        },
        {
         "marker": {
          "color": "blue",
          "opacity": 0.5,
          "size": 2.4390243902439024
         },
         "mode": "markers",
         "showlegend": false,
         "type": "scatter",
         "x": [
          50
         ],
         "y": [
          -33
         ]
        },
        {
         "marker": {
          "color": "blue",
          "opacity": 0.5,
          "size": 1.2195121951219512
         },
         "mode": "markers",
         "showlegend": false,
         "type": "scatter",
         "x": [
          50
         ],
         "y": [
          -28
         ]
        },
        {
         "marker": {
          "color": "blue",
          "opacity": 0.5,
          "size": 1.2195121951219512
         },
         "mode": "markers",
         "showlegend": false,
         "type": "scatter",
         "x": [
          50
         ],
         "y": [
          -27
         ]
        },
        {
         "marker": {
          "color": "blue",
          "opacity": 0.5,
          "size": 1.2195121951219512
         },
         "mode": "markers",
         "showlegend": false,
         "type": "scatter",
         "x": [
          50
         ],
         "y": [
          -26
         ]
        },
        {
         "marker": {
          "color": "blue",
          "opacity": 0.5,
          "size": 1.2195121951219512
         },
         "mode": "markers",
         "showlegend": false,
         "type": "scatter",
         "x": [
          50
         ],
         "y": [
          -25
         ]
        },
        {
         "marker": {
          "color": "blue",
          "opacity": 0.5,
          "size": 2.4390243902439024
         },
         "mode": "markers",
         "showlegend": false,
         "type": "scatter",
         "x": [
          50
         ],
         "y": [
          -20
         ]
        },
        {
         "marker": {
          "color": "blue",
          "opacity": 0.5,
          "size": 1.2195121951219512
         },
         "mode": "markers",
         "showlegend": false,
         "type": "scatter",
         "x": [
          50
         ],
         "y": [
          -13
         ]
        },
        {
         "marker": {
          "color": "blue",
          "opacity": 0.5,
          "size": 2.4390243902439024
         },
         "mode": "markers",
         "showlegend": false,
         "type": "scatter",
         "x": [
          50
         ],
         "y": [
          -5
         ]
        },
        {
         "marker": {
          "color": "blue",
          "opacity": 0.5,
          "size": 1.2195121951219512
         },
         "mode": "markers",
         "showlegend": false,
         "type": "scatter",
         "x": [
          50
         ],
         "y": [
          -2
         ]
        },
        {
         "marker": {
          "color": "blue",
          "opacity": 0.5,
          "size": 1.2195121951219512
         },
         "mode": "markers",
         "showlegend": false,
         "type": "scatter",
         "x": [
          50
         ],
         "y": [
          -1
         ]
        },
        {
         "marker": {
          "color": "blue",
          "opacity": 0.5,
          "size": 1.2195121951219512
         },
         "mode": "markers",
         "showlegend": false,
         "type": "scatter",
         "x": [
          50
         ],
         "y": [
          3
         ]
        },
        {
         "marker": {
          "color": "blue",
          "opacity": 0.5,
          "size": 1.2195121951219512
         },
         "mode": "markers",
         "showlegend": false,
         "type": "scatter",
         "x": [
          50
         ],
         "y": [
          4
         ]
        },
        {
         "marker": {
          "color": "blue",
          "opacity": 0.5,
          "size": 1.2195121951219512
         },
         "mode": "markers",
         "showlegend": false,
         "type": "scatter",
         "x": [
          50
         ],
         "y": [
          11
         ]
        },
        {
         "marker": {
          "color": "blue",
          "opacity": 0.5,
          "size": 1.2195121951219512
         },
         "mode": "markers",
         "showlegend": false,
         "type": "scatter",
         "x": [
          50
         ],
         "y": [
          13
         ]
        },
        {
         "marker": {
          "color": "blue",
          "opacity": 0.5,
          "size": 2.4390243902439024
         },
         "mode": "markers",
         "showlegend": false,
         "type": "scatter",
         "x": [
          50
         ],
         "y": [
          14
         ]
        },
        {
         "marker": {
          "color": "blue",
          "opacity": 0.5,
          "size": 2.4390243902439024
         },
         "mode": "markers",
         "showlegend": false,
         "type": "scatter",
         "x": [
          50
         ],
         "y": [
          16
         ]
        },
        {
         "marker": {
          "color": "blue",
          "opacity": 0.5,
          "size": 1.2195121951219512
         },
         "mode": "markers",
         "showlegend": false,
         "type": "scatter",
         "x": [
          50
         ],
         "y": [
          24
         ]
        },
        {
         "marker": {
          "color": "blue",
          "opacity": 0.5,
          "size": 2.4390243902439024
         },
         "mode": "markers",
         "showlegend": false,
         "type": "scatter",
         "x": [
          50
         ],
         "y": [
          26
         ]
        },
        {
         "marker": {
          "color": "blue",
          "opacity": 0.5,
          "size": 1.2195121951219512
         },
         "mode": "markers",
         "showlegend": false,
         "type": "scatter",
         "x": [
          50
         ],
         "y": [
          31
         ]
        },
        {
         "marker": {
          "color": "blue",
          "opacity": 0.5,
          "size": 2.4390243902439024
         },
         "mode": "markers",
         "showlegend": false,
         "type": "scatter",
         "x": [
          50
         ],
         "y": [
          32
         ]
        },
        {
         "marker": {
          "color": "blue",
          "opacity": 0.5,
          "size": 1.2195121951219512
         },
         "mode": "markers",
         "showlegend": false,
         "type": "scatter",
         "x": [
          50
         ],
         "y": [
          35
         ]
        },
        {
         "marker": {
          "color": "blue",
          "opacity": 0.5,
          "size": 1.2195121951219512
         },
         "mode": "markers",
         "showlegend": false,
         "type": "scatter",
         "x": [
          51
         ],
         "y": [
          -27
         ]
        },
        {
         "marker": {
          "color": "blue",
          "opacity": 0.5,
          "size": 1.2195121951219512
         },
         "mode": "markers",
         "showlegend": false,
         "type": "scatter",
         "x": [
          51
         ],
         "y": [
          -26
         ]
        },
        {
         "marker": {
          "color": "blue",
          "opacity": 0.5,
          "size": 1.2195121951219512
         },
         "mode": "markers",
         "showlegend": false,
         "type": "scatter",
         "x": [
          51
         ],
         "y": [
          -25
         ]
        },
        {
         "marker": {
          "color": "blue",
          "opacity": 0.5,
          "size": 2.4390243902439024
         },
         "mode": "markers",
         "showlegend": false,
         "type": "scatter",
         "x": [
          51
         ],
         "y": [
          -24
         ]
        },
        {
         "marker": {
          "color": "blue",
          "opacity": 0.5,
          "size": 3.6585365853658534
         },
         "mode": "markers",
         "showlegend": false,
         "type": "scatter",
         "x": [
          51
         ],
         "y": [
          -23
         ]
        },
        {
         "marker": {
          "color": "blue",
          "opacity": 0.5,
          "size": 1.2195121951219512
         },
         "mode": "markers",
         "showlegend": false,
         "type": "scatter",
         "x": [
          51
         ],
         "y": [
          -18
         ]
        },
        {
         "marker": {
          "color": "blue",
          "opacity": 0.5,
          "size": 1.2195121951219512
         },
         "mode": "markers",
         "showlegend": false,
         "type": "scatter",
         "x": [
          51
         ],
         "y": [
          -17
         ]
        },
        {
         "marker": {
          "color": "blue",
          "opacity": 0.5,
          "size": 2.4390243902439024
         },
         "mode": "markers",
         "showlegend": false,
         "type": "scatter",
         "x": [
          51
         ],
         "y": [
          -15
         ]
        },
        {
         "marker": {
          "color": "blue",
          "opacity": 0.5,
          "size": 1.2195121951219512
         },
         "mode": "markers",
         "showlegend": false,
         "type": "scatter",
         "x": [
          51
         ],
         "y": [
          -14
         ]
        },
        {
         "marker": {
          "color": "blue",
          "opacity": 0.5,
          "size": 1.2195121951219512
         },
         "mode": "markers",
         "showlegend": false,
         "type": "scatter",
         "x": [
          51
         ],
         "y": [
          -12
         ]
        },
        {
         "marker": {
          "color": "blue",
          "opacity": 0.5,
          "size": 1.2195121951219512
         },
         "mode": "markers",
         "showlegend": false,
         "type": "scatter",
         "x": [
          51
         ],
         "y": [
          -11
         ]
        },
        {
         "marker": {
          "color": "blue",
          "opacity": 0.5,
          "size": 2.4390243902439024
         },
         "mode": "markers",
         "showlegend": false,
         "type": "scatter",
         "x": [
          51
         ],
         "y": [
          -8
         ]
        },
        {
         "marker": {
          "color": "blue",
          "opacity": 0.5,
          "size": 2.4390243902439024
         },
         "mode": "markers",
         "showlegend": false,
         "type": "scatter",
         "x": [
          51
         ],
         "y": [
          -6
         ]
        },
        {
         "marker": {
          "color": "blue",
          "opacity": 0.5,
          "size": 1.2195121951219512
         },
         "mode": "markers",
         "showlegend": false,
         "type": "scatter",
         "x": [
          51
         ],
         "y": [
          0
         ]
        },
        {
         "marker": {
          "color": "blue",
          "opacity": 0.5,
          "size": 2.4390243902439024
         },
         "mode": "markers",
         "showlegend": false,
         "type": "scatter",
         "x": [
          51
         ],
         "y": [
          1
         ]
        },
        {
         "marker": {
          "color": "blue",
          "opacity": 0.5,
          "size": 1.2195121951219512
         },
         "mode": "markers",
         "showlegend": false,
         "type": "scatter",
         "x": [
          51
         ],
         "y": [
          4
         ]
        },
        {
         "marker": {
          "color": "blue",
          "opacity": 0.5,
          "size": 1.2195121951219512
         },
         "mode": "markers",
         "showlegend": false,
         "type": "scatter",
         "x": [
          51
         ],
         "y": [
          5
         ]
        },
        {
         "marker": {
          "color": "blue",
          "opacity": 0.5,
          "size": 2.4390243902439024
         },
         "mode": "markers",
         "showlegend": false,
         "type": "scatter",
         "x": [
          51
         ],
         "y": [
          6
         ]
        },
        {
         "marker": {
          "color": "blue",
          "opacity": 0.5,
          "size": 1.2195121951219512
         },
         "mode": "markers",
         "showlegend": false,
         "type": "scatter",
         "x": [
          51
         ],
         "y": [
          10
         ]
        },
        {
         "marker": {
          "color": "blue",
          "opacity": 0.5,
          "size": 2.4390243902439024
         },
         "mode": "markers",
         "showlegend": false,
         "type": "scatter",
         "x": [
          51
         ],
         "y": [
          16
         ]
        },
        {
         "marker": {
          "color": "blue",
          "opacity": 0.5,
          "size": 4.878048780487805
         },
         "mode": "markers",
         "showlegend": false,
         "type": "scatter",
         "x": [
          51
         ],
         "y": [
          20
         ]
        },
        {
         "marker": {
          "color": "blue",
          "opacity": 0.5,
          "size": 2.4390243902439024
         },
         "mode": "markers",
         "showlegend": false,
         "type": "scatter",
         "x": [
          51
         ],
         "y": [
          21
         ]
        },
        {
         "marker": {
          "color": "blue",
          "opacity": 0.5,
          "size": 2.4390243902439024
         },
         "mode": "markers",
         "showlegend": false,
         "type": "scatter",
         "x": [
          51
         ],
         "y": [
          22
         ]
        },
        {
         "marker": {
          "color": "blue",
          "opacity": 0.5,
          "size": 2.4390243902439024
         },
         "mode": "markers",
         "showlegend": false,
         "type": "scatter",
         "x": [
          51
         ],
         "y": [
          23
         ]
        },
        {
         "marker": {
          "color": "blue",
          "opacity": 0.5,
          "size": 1.2195121951219512
         },
         "mode": "markers",
         "showlegend": false,
         "type": "scatter",
         "x": [
          51
         ],
         "y": [
          34
         ]
        },
        {
         "marker": {
          "color": "blue",
          "opacity": 0.5,
          "size": 1.2195121951219512
         },
         "mode": "markers",
         "showlegend": false,
         "type": "scatter",
         "x": [
          52
         ],
         "y": [
          -33
         ]
        },
        {
         "marker": {
          "color": "blue",
          "opacity": 0.5,
          "size": 1.2195121951219512
         },
         "mode": "markers",
         "showlegend": false,
         "type": "scatter",
         "x": [
          52
         ],
         "y": [
          -32
         ]
        },
        {
         "marker": {
          "color": "blue",
          "opacity": 0.5,
          "size": 2.4390243902439024
         },
         "mode": "markers",
         "showlegend": false,
         "type": "scatter",
         "x": [
          52
         ],
         "y": [
          -28
         ]
        },
        {
         "marker": {
          "color": "blue",
          "opacity": 0.5,
          "size": 2.4390243902439024
         },
         "mode": "markers",
         "showlegend": false,
         "type": "scatter",
         "x": [
          52
         ],
         "y": [
          -27
         ]
        },
        {
         "marker": {
          "color": "blue",
          "opacity": 0.5,
          "size": 1.2195121951219512
         },
         "mode": "markers",
         "showlegend": false,
         "type": "scatter",
         "x": [
          52
         ],
         "y": [
          -25
         ]
        },
        {
         "marker": {
          "color": "blue",
          "opacity": 0.5,
          "size": 2.4390243902439024
         },
         "mode": "markers",
         "showlegend": false,
         "type": "scatter",
         "x": [
          52
         ],
         "y": [
          -24
         ]
        },
        {
         "marker": {
          "color": "blue",
          "opacity": 0.5,
          "size": 1.2195121951219512
         },
         "mode": "markers",
         "showlegend": false,
         "type": "scatter",
         "x": [
          52
         ],
         "y": [
          -23
         ]
        },
        {
         "marker": {
          "color": "blue",
          "opacity": 0.5,
          "size": 1.2195121951219512
         },
         "mode": "markers",
         "showlegend": false,
         "type": "scatter",
         "x": [
          52
         ],
         "y": [
          -22
         ]
        },
        {
         "marker": {
          "color": "blue",
          "opacity": 0.5,
          "size": 1.2195121951219512
         },
         "mode": "markers",
         "showlegend": false,
         "type": "scatter",
         "x": [
          52
         ],
         "y": [
          -21
         ]
        },
        {
         "marker": {
          "color": "blue",
          "opacity": 0.5,
          "size": 1.2195121951219512
         },
         "mode": "markers",
         "showlegend": false,
         "type": "scatter",
         "x": [
          52
         ],
         "y": [
          -20
         ]
        },
        {
         "marker": {
          "color": "blue",
          "opacity": 0.5,
          "size": 1.2195121951219512
         },
         "mode": "markers",
         "showlegend": false,
         "type": "scatter",
         "x": [
          52
         ],
         "y": [
          -19
         ]
        },
        {
         "marker": {
          "color": "blue",
          "opacity": 0.5,
          "size": 1.2195121951219512
         },
         "mode": "markers",
         "showlegend": false,
         "type": "scatter",
         "x": [
          52
         ],
         "y": [
          -17
         ]
        },
        {
         "marker": {
          "color": "blue",
          "opacity": 0.5,
          "size": 1.2195121951219512
         },
         "mode": "markers",
         "showlegend": false,
         "type": "scatter",
         "x": [
          52
         ],
         "y": [
          -13
         ]
        },
        {
         "marker": {
          "color": "blue",
          "opacity": 0.5,
          "size": 1.2195121951219512
         },
         "mode": "markers",
         "showlegend": false,
         "type": "scatter",
         "x": [
          52
         ],
         "y": [
          -10
         ]
        },
        {
         "marker": {
          "color": "blue",
          "opacity": 0.5,
          "size": 1.2195121951219512
         },
         "mode": "markers",
         "showlegend": false,
         "type": "scatter",
         "x": [
          52
         ],
         "y": [
          -9
         ]
        },
        {
         "marker": {
          "color": "blue",
          "opacity": 0.5,
          "size": 1.2195121951219512
         },
         "mode": "markers",
         "showlegend": false,
         "type": "scatter",
         "x": [
          52
         ],
         "y": [
          -8
         ]
        },
        {
         "marker": {
          "color": "blue",
          "opacity": 0.5,
          "size": 2.4390243902439024
         },
         "mode": "markers",
         "showlegend": false,
         "type": "scatter",
         "x": [
          52
         ],
         "y": [
          -5
         ]
        },
        {
         "marker": {
          "color": "blue",
          "opacity": 0.5,
          "size": 1.2195121951219512
         },
         "mode": "markers",
         "showlegend": false,
         "type": "scatter",
         "x": [
          52
         ],
         "y": [
          -4
         ]
        },
        {
         "marker": {
          "color": "blue",
          "opacity": 0.5,
          "size": 2.4390243902439024
         },
         "mode": "markers",
         "showlegend": false,
         "type": "scatter",
         "x": [
          52
         ],
         "y": [
          -3
         ]
        },
        {
         "marker": {
          "color": "blue",
          "opacity": 0.5,
          "size": 1.2195121951219512
         },
         "mode": "markers",
         "showlegend": false,
         "type": "scatter",
         "x": [
          52
         ],
         "y": [
          -1
         ]
        },
        {
         "marker": {
          "color": "blue",
          "opacity": 0.5,
          "size": 1.2195121951219512
         },
         "mode": "markers",
         "showlegend": false,
         "type": "scatter",
         "x": [
          52
         ],
         "y": [
          0
         ]
        },
        {
         "marker": {
          "color": "blue",
          "opacity": 0.5,
          "size": 3.6585365853658534
         },
         "mode": "markers",
         "showlegend": false,
         "type": "scatter",
         "x": [
          52
         ],
         "y": [
          1
         ]
        },
        {
         "marker": {
          "color": "blue",
          "opacity": 0.5,
          "size": 1.2195121951219512
         },
         "mode": "markers",
         "showlegend": false,
         "type": "scatter",
         "x": [
          52
         ],
         "y": [
          2
         ]
        },
        {
         "marker": {
          "color": "blue",
          "opacity": 0.5,
          "size": 1.2195121951219512
         },
         "mode": "markers",
         "showlegend": false,
         "type": "scatter",
         "x": [
          52
         ],
         "y": [
          6
         ]
        },
        {
         "marker": {
          "color": "blue",
          "opacity": 0.5,
          "size": 2.4390243902439024
         },
         "mode": "markers",
         "showlegend": false,
         "type": "scatter",
         "x": [
          52
         ],
         "y": [
          7
         ]
        },
        {
         "marker": {
          "color": "blue",
          "opacity": 0.5,
          "size": 1.2195121951219512
         },
         "mode": "markers",
         "showlegend": false,
         "type": "scatter",
         "x": [
          52
         ],
         "y": [
          8
         ]
        },
        {
         "marker": {
          "color": "blue",
          "opacity": 0.5,
          "size": 2.4390243902439024
         },
         "mode": "markers",
         "showlegend": false,
         "type": "scatter",
         "x": [
          52
         ],
         "y": [
          9
         ]
        },
        {
         "marker": {
          "color": "blue",
          "opacity": 0.5,
          "size": 1.2195121951219512
         },
         "mode": "markers",
         "showlegend": false,
         "type": "scatter",
         "x": [
          52
         ],
         "y": [
          10
         ]
        },
        {
         "marker": {
          "color": "blue",
          "opacity": 0.5,
          "size": 1.2195121951219512
         },
         "mode": "markers",
         "showlegend": false,
         "type": "scatter",
         "x": [
          52
         ],
         "y": [
          13
         ]
        },
        {
         "marker": {
          "color": "blue",
          "opacity": 0.5,
          "size": 1.2195121951219512
         },
         "mode": "markers",
         "showlegend": false,
         "type": "scatter",
         "x": [
          52
         ],
         "y": [
          18
         ]
        },
        {
         "marker": {
          "color": "blue",
          "opacity": 0.5,
          "size": 1.2195121951219512
         },
         "mode": "markers",
         "showlegend": false,
         "type": "scatter",
         "x": [
          52
         ],
         "y": [
          19
         ]
        },
        {
         "marker": {
          "color": "blue",
          "opacity": 0.5,
          "size": 1.2195121951219512
         },
         "mode": "markers",
         "showlegend": false,
         "type": "scatter",
         "x": [
          52
         ],
         "y": [
          20
         ]
        },
        {
         "marker": {
          "color": "blue",
          "opacity": 0.5,
          "size": 2.4390243902439024
         },
         "mode": "markers",
         "showlegend": false,
         "type": "scatter",
         "x": [
          52
         ],
         "y": [
          21
         ]
        },
        {
         "marker": {
          "color": "blue",
          "opacity": 0.5,
          "size": 2.4390243902439024
         },
         "mode": "markers",
         "showlegend": false,
         "type": "scatter",
         "x": [
          52
         ],
         "y": [
          22
         ]
        },
        {
         "marker": {
          "color": "blue",
          "opacity": 0.5,
          "size": 2.4390243902439024
         },
         "mode": "markers",
         "showlegend": false,
         "type": "scatter",
         "x": [
          52
         ],
         "y": [
          24
         ]
        },
        {
         "marker": {
          "color": "blue",
          "opacity": 0.5,
          "size": 1.2195121951219512
         },
         "mode": "markers",
         "showlegend": false,
         "type": "scatter",
         "x": [
          52
         ],
         "y": [
          25
         ]
        },
        {
         "marker": {
          "color": "blue",
          "opacity": 0.5,
          "size": 1.2195121951219512
         },
         "mode": "markers",
         "showlegend": false,
         "type": "scatter",
         "x": [
          52
         ],
         "y": [
          26
         ]
        },
        {
         "marker": {
          "color": "blue",
          "opacity": 0.5,
          "size": 1.2195121951219512
         },
         "mode": "markers",
         "showlegend": false,
         "type": "scatter",
         "x": [
          52
         ],
         "y": [
          29
         ]
        },
        {
         "marker": {
          "color": "blue",
          "opacity": 0.5,
          "size": 1.2195121951219512
         },
         "mode": "markers",
         "showlegend": false,
         "type": "scatter",
         "x": [
          52
         ],
         "y": [
          32
         ]
        },
        {
         "marker": {
          "color": "blue",
          "opacity": 0.5,
          "size": 1.2195121951219512
         },
         "mode": "markers",
         "showlegend": false,
         "type": "scatter",
         "x": [
          52
         ],
         "y": [
          33
         ]
        },
        {
         "marker": {
          "color": "blue",
          "opacity": 0.5,
          "size": 1.2195121951219512
         },
         "mode": "markers",
         "showlegend": false,
         "type": "scatter",
         "x": [
          52
         ],
         "y": [
          40
         ]
        },
        {
         "marker": {
          "color": "blue",
          "opacity": 0.5,
          "size": 1.2195121951219512
         },
         "mode": "markers",
         "showlegend": false,
         "type": "scatter",
         "x": [
          53
         ],
         "y": [
          -40
         ]
        },
        {
         "marker": {
          "color": "blue",
          "opacity": 0.5,
          "size": 1.2195121951219512
         },
         "mode": "markers",
         "showlegend": false,
         "type": "scatter",
         "x": [
          53
         ],
         "y": [
          -35
         ]
        },
        {
         "marker": {
          "color": "blue",
          "opacity": 0.5,
          "size": 1.2195121951219512
         },
         "mode": "markers",
         "showlegend": false,
         "type": "scatter",
         "x": [
          53
         ],
         "y": [
          -31
         ]
        },
        {
         "marker": {
          "color": "blue",
          "opacity": 0.5,
          "size": 1.2195121951219512
         },
         "mode": "markers",
         "showlegend": false,
         "type": "scatter",
         "x": [
          53
         ],
         "y": [
          -30
         ]
        },
        {
         "marker": {
          "color": "blue",
          "opacity": 0.5,
          "size": 1.2195121951219512
         },
         "mode": "markers",
         "showlegend": false,
         "type": "scatter",
         "x": [
          53
         ],
         "y": [
          -29
         ]
        },
        {
         "marker": {
          "color": "blue",
          "opacity": 0.5,
          "size": 1.2195121951219512
         },
         "mode": "markers",
         "showlegend": false,
         "type": "scatter",
         "x": [
          53
         ],
         "y": [
          -26
         ]
        },
        {
         "marker": {
          "color": "blue",
          "opacity": 0.5,
          "size": 1.2195121951219512
         },
         "mode": "markers",
         "showlegend": false,
         "type": "scatter",
         "x": [
          53
         ],
         "y": [
          -24
         ]
        },
        {
         "marker": {
          "color": "blue",
          "opacity": 0.5,
          "size": 1.2195121951219512
         },
         "mode": "markers",
         "showlegend": false,
         "type": "scatter",
         "x": [
          53
         ],
         "y": [
          -23
         ]
        },
        {
         "marker": {
          "color": "blue",
          "opacity": 0.5,
          "size": 1.2195121951219512
         },
         "mode": "markers",
         "showlegend": false,
         "type": "scatter",
         "x": [
          53
         ],
         "y": [
          -22
         ]
        },
        {
         "marker": {
          "color": "blue",
          "opacity": 0.5,
          "size": 1.2195121951219512
         },
         "mode": "markers",
         "showlegend": false,
         "type": "scatter",
         "x": [
          53
         ],
         "y": [
          -21
         ]
        },
        {
         "marker": {
          "color": "blue",
          "opacity": 0.5,
          "size": 1.2195121951219512
         },
         "mode": "markers",
         "showlegend": false,
         "type": "scatter",
         "x": [
          53
         ],
         "y": [
          -20
         ]
        },
        {
         "marker": {
          "color": "blue",
          "opacity": 0.5,
          "size": 1.2195121951219512
         },
         "mode": "markers",
         "showlegend": false,
         "type": "scatter",
         "x": [
          53
         ],
         "y": [
          -19
         ]
        },
        {
         "marker": {
          "color": "blue",
          "opacity": 0.5,
          "size": 1.2195121951219512
         },
         "mode": "markers",
         "showlegend": false,
         "type": "scatter",
         "x": [
          53
         ],
         "y": [
          -15
         ]
        },
        {
         "marker": {
          "color": "blue",
          "opacity": 0.5,
          "size": 2.4390243902439024
         },
         "mode": "markers",
         "showlegend": false,
         "type": "scatter",
         "x": [
          53
         ],
         "y": [
          -6
         ]
        },
        {
         "marker": {
          "color": "blue",
          "opacity": 0.5,
          "size": 2.4390243902439024
         },
         "mode": "markers",
         "showlegend": false,
         "type": "scatter",
         "x": [
          53
         ],
         "y": [
          -5
         ]
        },
        {
         "marker": {
          "color": "blue",
          "opacity": 0.5,
          "size": 1.2195121951219512
         },
         "mode": "markers",
         "showlegend": false,
         "type": "scatter",
         "x": [
          53
         ],
         "y": [
          -4
         ]
        },
        {
         "marker": {
          "color": "blue",
          "opacity": 0.5,
          "size": 1.2195121951219512
         },
         "mode": "markers",
         "showlegend": false,
         "type": "scatter",
         "x": [
          53
         ],
         "y": [
          1
         ]
        },
        {
         "marker": {
          "color": "blue",
          "opacity": 0.5,
          "size": 1.2195121951219512
         },
         "mode": "markers",
         "showlegend": false,
         "type": "scatter",
         "x": [
          53
         ],
         "y": [
          3
         ]
        },
        {
         "marker": {
          "color": "blue",
          "opacity": 0.5,
          "size": 1.2195121951219512
         },
         "mode": "markers",
         "showlegend": false,
         "type": "scatter",
         "x": [
          53
         ],
         "y": [
          8
         ]
        },
        {
         "marker": {
          "color": "blue",
          "opacity": 0.5,
          "size": 1.2195121951219512
         },
         "mode": "markers",
         "showlegend": false,
         "type": "scatter",
         "x": [
          53
         ],
         "y": [
          11
         ]
        },
        {
         "marker": {
          "color": "blue",
          "opacity": 0.5,
          "size": 1.2195121951219512
         },
         "mode": "markers",
         "showlegend": false,
         "type": "scatter",
         "x": [
          53
         ],
         "y": [
          13
         ]
        },
        {
         "marker": {
          "color": "blue",
          "opacity": 0.5,
          "size": 1.2195121951219512
         },
         "mode": "markers",
         "showlegend": false,
         "type": "scatter",
         "x": [
          53
         ],
         "y": [
          15
         ]
        },
        {
         "marker": {
          "color": "blue",
          "opacity": 0.5,
          "size": 1.2195121951219512
         },
         "mode": "markers",
         "showlegend": false,
         "type": "scatter",
         "x": [
          53
         ],
         "y": [
          18
         ]
        },
        {
         "marker": {
          "color": "blue",
          "opacity": 0.5,
          "size": 1.2195121951219512
         },
         "mode": "markers",
         "showlegend": false,
         "type": "scatter",
         "x": [
          53
         ],
         "y": [
          22
         ]
        },
        {
         "marker": {
          "color": "blue",
          "opacity": 0.5,
          "size": 1.2195121951219512
         },
         "mode": "markers",
         "showlegend": false,
         "type": "scatter",
         "x": [
          53
         ],
         "y": [
          23
         ]
        },
        {
         "marker": {
          "color": "blue",
          "opacity": 0.5,
          "size": 2.4390243902439024
         },
         "mode": "markers",
         "showlegend": false,
         "type": "scatter",
         "x": [
          53
         ],
         "y": [
          29
         ]
        },
        {
         "marker": {
          "color": "blue",
          "opacity": 0.5,
          "size": 1.2195121951219512
         },
         "mode": "markers",
         "showlegend": false,
         "type": "scatter",
         "x": [
          53
         ],
         "y": [
          32
         ]
        },
        {
         "marker": {
          "color": "blue",
          "opacity": 0.5,
          "size": 1.2195121951219512
         },
         "mode": "markers",
         "showlegend": false,
         "type": "scatter",
         "x": [
          53
         ],
         "y": [
          35
         ]
        },
        {
         "marker": {
          "color": "blue",
          "opacity": 0.5,
          "size": 1.2195121951219512
         },
         "mode": "markers",
         "showlegend": false,
         "type": "scatter",
         "x": [
          54
         ],
         "y": [
          -34
         ]
        },
        {
         "marker": {
          "color": "blue",
          "opacity": 0.5,
          "size": 1.2195121951219512
         },
         "mode": "markers",
         "showlegend": false,
         "type": "scatter",
         "x": [
          54
         ],
         "y": [
          -33
         ]
        },
        {
         "marker": {
          "color": "blue",
          "opacity": 0.5,
          "size": 2.4390243902439024
         },
         "mode": "markers",
         "showlegend": false,
         "type": "scatter",
         "x": [
          54
         ],
         "y": [
          -30
         ]
        },
        {
         "marker": {
          "color": "blue",
          "opacity": 0.5,
          "size": 2.4390243902439024
         },
         "mode": "markers",
         "showlegend": false,
         "type": "scatter",
         "x": [
          54
         ],
         "y": [
          -29
         ]
        },
        {
         "marker": {
          "color": "blue",
          "opacity": 0.5,
          "size": 1.2195121951219512
         },
         "mode": "markers",
         "showlegend": false,
         "type": "scatter",
         "x": [
          54
         ],
         "y": [
          -27
         ]
        },
        {
         "marker": {
          "color": "blue",
          "opacity": 0.5,
          "size": 1.2195121951219512
         },
         "mode": "markers",
         "showlegend": false,
         "type": "scatter",
         "x": [
          54
         ],
         "y": [
          -22
         ]
        },
        {
         "marker": {
          "color": "blue",
          "opacity": 0.5,
          "size": 1.2195121951219512
         },
         "mode": "markers",
         "showlegend": false,
         "type": "scatter",
         "x": [
          54
         ],
         "y": [
          -21
         ]
        },
        {
         "marker": {
          "color": "blue",
          "opacity": 0.5,
          "size": 2.4390243902439024
         },
         "mode": "markers",
         "showlegend": false,
         "type": "scatter",
         "x": [
          54
         ],
         "y": [
          -12
         ]
        },
        {
         "marker": {
          "color": "blue",
          "opacity": 0.5,
          "size": 2.4390243902439024
         },
         "mode": "markers",
         "showlegend": false,
         "type": "scatter",
         "x": [
          54
         ],
         "y": [
          -11
         ]
        },
        {
         "marker": {
          "color": "blue",
          "opacity": 0.5,
          "size": 1.2195121951219512
         },
         "mode": "markers",
         "showlegend": false,
         "type": "scatter",
         "x": [
          54
         ],
         "y": [
          -10
         ]
        },
        {
         "marker": {
          "color": "blue",
          "opacity": 0.5,
          "size": 1.2195121951219512
         },
         "mode": "markers",
         "showlegend": false,
         "type": "scatter",
         "x": [
          54
         ],
         "y": [
          -9
         ]
        },
        {
         "marker": {
          "color": "blue",
          "opacity": 0.5,
          "size": 1.2195121951219512
         },
         "mode": "markers",
         "showlegend": false,
         "type": "scatter",
         "x": [
          54
         ],
         "y": [
          -5
         ]
        },
        {
         "marker": {
          "color": "blue",
          "opacity": 0.5,
          "size": 1.2195121951219512
         },
         "mode": "markers",
         "showlegend": false,
         "type": "scatter",
         "x": [
          54
         ],
         "y": [
          -4
         ]
        },
        {
         "marker": {
          "color": "blue",
          "opacity": 0.5,
          "size": 1.2195121951219512
         },
         "mode": "markers",
         "showlegend": false,
         "type": "scatter",
         "x": [
          54
         ],
         "y": [
          -2
         ]
        },
        {
         "marker": {
          "color": "blue",
          "opacity": 0.5,
          "size": 1.2195121951219512
         },
         "mode": "markers",
         "showlegend": false,
         "type": "scatter",
         "x": [
          54
         ],
         "y": [
          2
         ]
        },
        {
         "marker": {
          "color": "blue",
          "opacity": 0.5,
          "size": 2.4390243902439024
         },
         "mode": "markers",
         "showlegend": false,
         "type": "scatter",
         "x": [
          54
         ],
         "y": [
          3
         ]
        },
        {
         "marker": {
          "color": "blue",
          "opacity": 0.5,
          "size": 1.2195121951219512
         },
         "mode": "markers",
         "showlegend": false,
         "type": "scatter",
         "x": [
          54
         ],
         "y": [
          5
         ]
        },
        {
         "marker": {
          "color": "blue",
          "opacity": 0.5,
          "size": 2.4390243902439024
         },
         "mode": "markers",
         "showlegend": false,
         "type": "scatter",
         "x": [
          54
         ],
         "y": [
          6
         ]
        },
        {
         "marker": {
          "color": "blue",
          "opacity": 0.5,
          "size": 1.2195121951219512
         },
         "mode": "markers",
         "showlegend": false,
         "type": "scatter",
         "x": [
          54
         ],
         "y": [
          14
         ]
        },
        {
         "marker": {
          "color": "blue",
          "opacity": 0.5,
          "size": 1.2195121951219512
         },
         "mode": "markers",
         "showlegend": false,
         "type": "scatter",
         "x": [
          54
         ],
         "y": [
          19
         ]
        },
        {
         "marker": {
          "color": "blue",
          "opacity": 0.5,
          "size": 3.6585365853658534
         },
         "mode": "markers",
         "showlegend": false,
         "type": "scatter",
         "x": [
          54
         ],
         "y": [
          20
         ]
        },
        {
         "marker": {
          "color": "blue",
          "opacity": 0.5,
          "size": 1.2195121951219512
         },
         "mode": "markers",
         "showlegend": false,
         "type": "scatter",
         "x": [
          54
         ],
         "y": [
          22
         ]
        },
        {
         "marker": {
          "color": "blue",
          "opacity": 0.5,
          "size": 1.2195121951219512
         },
         "mode": "markers",
         "showlegend": false,
         "type": "scatter",
         "x": [
          54
         ],
         "y": [
          24
         ]
        },
        {
         "marker": {
          "color": "blue",
          "opacity": 0.5,
          "size": 1.2195121951219512
         },
         "mode": "markers",
         "showlegend": false,
         "type": "scatter",
         "x": [
          54
         ],
         "y": [
          25
         ]
        },
        {
         "marker": {
          "color": "blue",
          "opacity": 0.5,
          "size": 2.4390243902439024
         },
         "mode": "markers",
         "showlegend": false,
         "type": "scatter",
         "x": [
          54
         ],
         "y": [
          29
         ]
        },
        {
         "marker": {
          "color": "blue",
          "opacity": 0.5,
          "size": 3.6585365853658534
         },
         "mode": "markers",
         "showlegend": false,
         "type": "scatter",
         "x": [
          54
         ],
         "y": [
          31
         ]
        },
        {
         "marker": {
          "color": "blue",
          "opacity": 0.5,
          "size": 1.2195121951219512
         },
         "mode": "markers",
         "showlegend": false,
         "type": "scatter",
         "x": [
          54
         ],
         "y": [
          32
         ]
        },
        {
         "marker": {
          "color": "blue",
          "opacity": 0.5,
          "size": 1.2195121951219512
         },
         "mode": "markers",
         "showlegend": false,
         "type": "scatter",
         "x": [
          54
         ],
         "y": [
          33
         ]
        },
        {
         "marker": {
          "color": "blue",
          "opacity": 0.5,
          "size": 1.2195121951219512
         },
         "mode": "markers",
         "showlegend": false,
         "type": "scatter",
         "x": [
          54
         ],
         "y": [
          37
         ]
        },
        {
         "marker": {
          "color": "blue",
          "opacity": 0.5,
          "size": 1.2195121951219512
         },
         "mode": "markers",
         "showlegend": false,
         "type": "scatter",
         "x": [
          55
         ],
         "y": [
          -40
         ]
        },
        {
         "marker": {
          "color": "blue",
          "opacity": 0.5,
          "size": 1.2195121951219512
         },
         "mode": "markers",
         "showlegend": false,
         "type": "scatter",
         "x": [
          55
         ],
         "y": [
          -31
         ]
        },
        {
         "marker": {
          "color": "blue",
          "opacity": 0.5,
          "size": 1.2195121951219512
         },
         "mode": "markers",
         "showlegend": false,
         "type": "scatter",
         "x": [
          55
         ],
         "y": [
          -30
         ]
        },
        {
         "marker": {
          "color": "blue",
          "opacity": 0.5,
          "size": 1.2195121951219512
         },
         "mode": "markers",
         "showlegend": false,
         "type": "scatter",
         "x": [
          55
         ],
         "y": [
          -28
         ]
        },
        {
         "marker": {
          "color": "blue",
          "opacity": 0.5,
          "size": 2.4390243902439024
         },
         "mode": "markers",
         "showlegend": false,
         "type": "scatter",
         "x": [
          55
         ],
         "y": [
          -26
         ]
        },
        {
         "marker": {
          "color": "blue",
          "opacity": 0.5,
          "size": 1.2195121951219512
         },
         "mode": "markers",
         "showlegend": false,
         "type": "scatter",
         "x": [
          55
         ],
         "y": [
          -25
         ]
        },
        {
         "marker": {
          "color": "blue",
          "opacity": 0.5,
          "size": 1.2195121951219512
         },
         "mode": "markers",
         "showlegend": false,
         "type": "scatter",
         "x": [
          55
         ],
         "y": [
          -23
         ]
        },
        {
         "marker": {
          "color": "blue",
          "opacity": 0.5,
          "size": 1.2195121951219512
         },
         "mode": "markers",
         "showlegend": false,
         "type": "scatter",
         "x": [
          55
         ],
         "y": [
          -18
         ]
        },
        {
         "marker": {
          "color": "blue",
          "opacity": 0.5,
          "size": 1.2195121951219512
         },
         "mode": "markers",
         "showlegend": false,
         "type": "scatter",
         "x": [
          55
         ],
         "y": [
          -15
         ]
        },
        {
         "marker": {
          "color": "blue",
          "opacity": 0.5,
          "size": 1.2195121951219512
         },
         "mode": "markers",
         "showlegend": false,
         "type": "scatter",
         "x": [
          55
         ],
         "y": [
          -10
         ]
        },
        {
         "marker": {
          "color": "blue",
          "opacity": 0.5,
          "size": 1.2195121951219512
         },
         "mode": "markers",
         "showlegend": false,
         "type": "scatter",
         "x": [
          55
         ],
         "y": [
          -5
         ]
        },
        {
         "marker": {
          "color": "blue",
          "opacity": 0.5,
          "size": 3.6585365853658534
         },
         "mode": "markers",
         "showlegend": false,
         "type": "scatter",
         "x": [
          55
         ],
         "y": [
          -3
         ]
        },
        {
         "marker": {
          "color": "blue",
          "opacity": 0.5,
          "size": 1.2195121951219512
         },
         "mode": "markers",
         "showlegend": false,
         "type": "scatter",
         "x": [
          55
         ],
         "y": [
          -2
         ]
        },
        {
         "marker": {
          "color": "blue",
          "opacity": 0.5,
          "size": 1.2195121951219512
         },
         "mode": "markers",
         "showlegend": false,
         "type": "scatter",
         "x": [
          55
         ],
         "y": [
          -1
         ]
        },
        {
         "marker": {
          "color": "blue",
          "opacity": 0.5,
          "size": 1.2195121951219512
         },
         "mode": "markers",
         "showlegend": false,
         "type": "scatter",
         "x": [
          55
         ],
         "y": [
          0
         ]
        },
        {
         "marker": {
          "color": "blue",
          "opacity": 0.5,
          "size": 1.2195121951219512
         },
         "mode": "markers",
         "showlegend": false,
         "type": "scatter",
         "x": [
          55
         ],
         "y": [
          1
         ]
        },
        {
         "marker": {
          "color": "blue",
          "opacity": 0.5,
          "size": 3.6585365853658534
         },
         "mode": "markers",
         "showlegend": false,
         "type": "scatter",
         "x": [
          55
         ],
         "y": [
          3
         ]
        },
        {
         "marker": {
          "color": "blue",
          "opacity": 0.5,
          "size": 1.2195121951219512
         },
         "mode": "markers",
         "showlegend": false,
         "type": "scatter",
         "x": [
          55
         ],
         "y": [
          6
         ]
        },
        {
         "marker": {
          "color": "blue",
          "opacity": 0.5,
          "size": 1.2195121951219512
         },
         "mode": "markers",
         "showlegend": false,
         "type": "scatter",
         "x": [
          55
         ],
         "y": [
          7
         ]
        },
        {
         "marker": {
          "color": "blue",
          "opacity": 0.5,
          "size": 2.4390243902439024
         },
         "mode": "markers",
         "showlegend": false,
         "type": "scatter",
         "x": [
          55
         ],
         "y": [
          8
         ]
        },
        {
         "marker": {
          "color": "blue",
          "opacity": 0.5,
          "size": 2.4390243902439024
         },
         "mode": "markers",
         "showlegend": false,
         "type": "scatter",
         "x": [
          55
         ],
         "y": [
          10
         ]
        },
        {
         "marker": {
          "color": "blue",
          "opacity": 0.5,
          "size": 1.2195121951219512
         },
         "mode": "markers",
         "showlegend": false,
         "type": "scatter",
         "x": [
          55
         ],
         "y": [
          14
         ]
        },
        {
         "marker": {
          "color": "blue",
          "opacity": 0.5,
          "size": 1.2195121951219512
         },
         "mode": "markers",
         "showlegend": false,
         "type": "scatter",
         "x": [
          55
         ],
         "y": [
          15
         ]
        },
        {
         "marker": {
          "color": "blue",
          "opacity": 0.5,
          "size": 1.2195121951219512
         },
         "mode": "markers",
         "showlegend": false,
         "type": "scatter",
         "x": [
          55
         ],
         "y": [
          17
         ]
        },
        {
         "marker": {
          "color": "blue",
          "opacity": 0.5,
          "size": 1.2195121951219512
         },
         "mode": "markers",
         "showlegend": false,
         "type": "scatter",
         "x": [
          55
         ],
         "y": [
          21
         ]
        },
        {
         "marker": {
          "color": "blue",
          "opacity": 0.5,
          "size": 1.2195121951219512
         },
         "mode": "markers",
         "showlegend": false,
         "type": "scatter",
         "x": [
          55
         ],
         "y": [
          22
         ]
        },
        {
         "marker": {
          "color": "blue",
          "opacity": 0.5,
          "size": 2.4390243902439024
         },
         "mode": "markers",
         "showlegend": false,
         "type": "scatter",
         "x": [
          55
         ],
         "y": [
          23
         ]
        },
        {
         "marker": {
          "color": "blue",
          "opacity": 0.5,
          "size": 2.4390243902439024
         },
         "mode": "markers",
         "showlegend": false,
         "type": "scatter",
         "x": [
          55
         ],
         "y": [
          25
         ]
        },
        {
         "marker": {
          "color": "blue",
          "opacity": 0.5,
          "size": 1.2195121951219512
         },
         "mode": "markers",
         "showlegend": false,
         "type": "scatter",
         "x": [
          55
         ],
         "y": [
          26
         ]
        },
        {
         "marker": {
          "color": "blue",
          "opacity": 0.5,
          "size": 1.2195121951219512
         },
         "mode": "markers",
         "showlegend": false,
         "type": "scatter",
         "x": [
          55
         ],
         "y": [
          28
         ]
        },
        {
         "marker": {
          "color": "blue",
          "opacity": 0.5,
          "size": 2.4390243902439024
         },
         "mode": "markers",
         "showlegend": false,
         "type": "scatter",
         "x": [
          55
         ],
         "y": [
          29
         ]
        },
        {
         "marker": {
          "color": "blue",
          "opacity": 0.5,
          "size": 1.2195121951219512
         },
         "mode": "markers",
         "showlegend": false,
         "type": "scatter",
         "x": [
          55
         ],
         "y": [
          32
         ]
        },
        {
         "marker": {
          "color": "blue",
          "opacity": 0.5,
          "size": 1.2195121951219512
         },
         "mode": "markers",
         "showlegend": false,
         "type": "scatter",
         "x": [
          55
         ],
         "y": [
          36
         ]
        },
        {
         "marker": {
          "color": "blue",
          "opacity": 0.5,
          "size": 1.2195121951219512
         },
         "mode": "markers",
         "showlegend": false,
         "type": "scatter",
         "x": [
          56
         ],
         "y": [
          -37
         ]
        },
        {
         "marker": {
          "color": "blue",
          "opacity": 0.5,
          "size": 1.2195121951219512
         },
         "mode": "markers",
         "showlegend": false,
         "type": "scatter",
         "x": [
          56
         ],
         "y": [
          -31
         ]
        },
        {
         "marker": {
          "color": "blue",
          "opacity": 0.5,
          "size": 1.2195121951219512
         },
         "mode": "markers",
         "showlegend": false,
         "type": "scatter",
         "x": [
          56
         ],
         "y": [
          -30
         ]
        },
        {
         "marker": {
          "color": "blue",
          "opacity": 0.5,
          "size": 2.4390243902439024
         },
         "mode": "markers",
         "showlegend": false,
         "type": "scatter",
         "x": [
          56
         ],
         "y": [
          -26
         ]
        },
        {
         "marker": {
          "color": "blue",
          "opacity": 0.5,
          "size": 2.4390243902439024
         },
         "mode": "markers",
         "showlegend": false,
         "type": "scatter",
         "x": [
          56
         ],
         "y": [
          -25
         ]
        },
        {
         "marker": {
          "color": "blue",
          "opacity": 0.5,
          "size": 2.4390243902439024
         },
         "mode": "markers",
         "showlegend": false,
         "type": "scatter",
         "x": [
          56
         ],
         "y": [
          -22
         ]
        },
        {
         "marker": {
          "color": "blue",
          "opacity": 0.5,
          "size": 1.2195121951219512
         },
         "mode": "markers",
         "showlegend": false,
         "type": "scatter",
         "x": [
          56
         ],
         "y": [
          -20
         ]
        },
        {
         "marker": {
          "color": "blue",
          "opacity": 0.5,
          "size": 2.4390243902439024
         },
         "mode": "markers",
         "showlegend": false,
         "type": "scatter",
         "x": [
          56
         ],
         "y": [
          -17
         ]
        },
        {
         "marker": {
          "color": "blue",
          "opacity": 0.5,
          "size": 2.4390243902439024
         },
         "mode": "markers",
         "showlegend": false,
         "type": "scatter",
         "x": [
          56
         ],
         "y": [
          -16
         ]
        },
        {
         "marker": {
          "color": "blue",
          "opacity": 0.5,
          "size": 1.2195121951219512
         },
         "mode": "markers",
         "showlegend": false,
         "type": "scatter",
         "x": [
          56
         ],
         "y": [
          -8
         ]
        },
        {
         "marker": {
          "color": "blue",
          "opacity": 0.5,
          "size": 1.2195121951219512
         },
         "mode": "markers",
         "showlegend": false,
         "type": "scatter",
         "x": [
          56
         ],
         "y": [
          -7
         ]
        },
        {
         "marker": {
          "color": "blue",
          "opacity": 0.5,
          "size": 1.2195121951219512
         },
         "mode": "markers",
         "showlegend": false,
         "type": "scatter",
         "x": [
          56
         ],
         "y": [
          -6
         ]
        },
        {
         "marker": {
          "color": "blue",
          "opacity": 0.5,
          "size": 1.2195121951219512
         },
         "mode": "markers",
         "showlegend": false,
         "type": "scatter",
         "x": [
          56
         ],
         "y": [
          -3
         ]
        },
        {
         "marker": {
          "color": "blue",
          "opacity": 0.5,
          "size": 1.2195121951219512
         },
         "mode": "markers",
         "showlegend": false,
         "type": "scatter",
         "x": [
          56
         ],
         "y": [
          0
         ]
        },
        {
         "marker": {
          "color": "blue",
          "opacity": 0.5,
          "size": 2.4390243902439024
         },
         "mode": "markers",
         "showlegend": false,
         "type": "scatter",
         "x": [
          56
         ],
         "y": [
          3
         ]
        },
        {
         "marker": {
          "color": "blue",
          "opacity": 0.5,
          "size": 1.2195121951219512
         },
         "mode": "markers",
         "showlegend": false,
         "type": "scatter",
         "x": [
          56
         ],
         "y": [
          4
         ]
        },
        {
         "marker": {
          "color": "blue",
          "opacity": 0.5,
          "size": 1.2195121951219512
         },
         "mode": "markers",
         "showlegend": false,
         "type": "scatter",
         "x": [
          56
         ],
         "y": [
          5
         ]
        },
        {
         "marker": {
          "color": "blue",
          "opacity": 0.5,
          "size": 1.2195121951219512
         },
         "mode": "markers",
         "showlegend": false,
         "type": "scatter",
         "x": [
          56
         ],
         "y": [
          8
         ]
        },
        {
         "marker": {
          "color": "blue",
          "opacity": 0.5,
          "size": 1.2195121951219512
         },
         "mode": "markers",
         "showlegend": false,
         "type": "scatter",
         "x": [
          56
         ],
         "y": [
          10
         ]
        },
        {
         "marker": {
          "color": "blue",
          "opacity": 0.5,
          "size": 1.2195121951219512
         },
         "mode": "markers",
         "showlegend": false,
         "type": "scatter",
         "x": [
          56
         ],
         "y": [
          15
         ]
        },
        {
         "marker": {
          "color": "blue",
          "opacity": 0.5,
          "size": 2.4390243902439024
         },
         "mode": "markers",
         "showlegend": false,
         "type": "scatter",
         "x": [
          56
         ],
         "y": [
          16
         ]
        },
        {
         "marker": {
          "color": "blue",
          "opacity": 0.5,
          "size": 1.2195121951219512
         },
         "mode": "markers",
         "showlegend": false,
         "type": "scatter",
         "x": [
          56
         ],
         "y": [
          19
         ]
        },
        {
         "marker": {
          "color": "blue",
          "opacity": 0.5,
          "size": 1.2195121951219512
         },
         "mode": "markers",
         "showlegend": false,
         "type": "scatter",
         "x": [
          56
         ],
         "y": [
          26
         ]
        },
        {
         "marker": {
          "color": "blue",
          "opacity": 0.5,
          "size": 1.2195121951219512
         },
         "mode": "markers",
         "showlegend": false,
         "type": "scatter",
         "x": [
          56
         ],
         "y": [
          27
         ]
        },
        {
         "marker": {
          "color": "blue",
          "opacity": 0.5,
          "size": 1.2195121951219512
         },
         "mode": "markers",
         "showlegend": false,
         "type": "scatter",
         "x": [
          56
         ],
         "y": [
          28
         ]
        },
        {
         "marker": {
          "color": "blue",
          "opacity": 0.5,
          "size": 1.2195121951219512
         },
         "mode": "markers",
         "showlegend": false,
         "type": "scatter",
         "x": [
          56
         ],
         "y": [
          35
         ]
        },
        {
         "marker": {
          "color": "blue",
          "opacity": 0.5,
          "size": 1.2195121951219512
         },
         "mode": "markers",
         "showlegend": false,
         "type": "scatter",
         "x": [
          56
         ],
         "y": [
          36
         ]
        },
        {
         "marker": {
          "color": "blue",
          "opacity": 0.5,
          "size": 2.4390243902439024
         },
         "mode": "markers",
         "showlegend": false,
         "type": "scatter",
         "x": [
          57
         ],
         "y": [
          -37
         ]
        },
        {
         "marker": {
          "color": "blue",
          "opacity": 0.5,
          "size": 1.2195121951219512
         },
         "mode": "markers",
         "showlegend": false,
         "type": "scatter",
         "x": [
          57
         ],
         "y": [
          -35
         ]
        },
        {
         "marker": {
          "color": "blue",
          "opacity": 0.5,
          "size": 2.4390243902439024
         },
         "mode": "markers",
         "showlegend": false,
         "type": "scatter",
         "x": [
          57
         ],
         "y": [
          -31
         ]
        },
        {
         "marker": {
          "color": "blue",
          "opacity": 0.5,
          "size": 1.2195121951219512
         },
         "mode": "markers",
         "showlegend": false,
         "type": "scatter",
         "x": [
          57
         ],
         "y": [
          -29
         ]
        },
        {
         "marker": {
          "color": "blue",
          "opacity": 0.5,
          "size": 3.6585365853658534
         },
         "mode": "markers",
         "showlegend": false,
         "type": "scatter",
         "x": [
          57
         ],
         "y": [
          -27
         ]
        },
        {
         "marker": {
          "color": "blue",
          "opacity": 0.5,
          "size": 1.2195121951219512
         },
         "mode": "markers",
         "showlegend": false,
         "type": "scatter",
         "x": [
          57
         ],
         "y": [
          -26
         ]
        },
        {
         "marker": {
          "color": "blue",
          "opacity": 0.5,
          "size": 1.2195121951219512
         },
         "mode": "markers",
         "showlegend": false,
         "type": "scatter",
         "x": [
          57
         ],
         "y": [
          -25
         ]
        },
        {
         "marker": {
          "color": "blue",
          "opacity": 0.5,
          "size": 1.2195121951219512
         },
         "mode": "markers",
         "showlegend": false,
         "type": "scatter",
         "x": [
          57
         ],
         "y": [
          -22
         ]
        },
        {
         "marker": {
          "color": "blue",
          "opacity": 0.5,
          "size": 1.2195121951219512
         },
         "mode": "markers",
         "showlegend": false,
         "type": "scatter",
         "x": [
          57
         ],
         "y": [
          -20
         ]
        },
        {
         "marker": {
          "color": "blue",
          "opacity": 0.5,
          "size": 2.4390243902439024
         },
         "mode": "markers",
         "showlegend": false,
         "type": "scatter",
         "x": [
          57
         ],
         "y": [
          -17
         ]
        },
        {
         "marker": {
          "color": "blue",
          "opacity": 0.5,
          "size": 2.4390243902439024
         },
         "mode": "markers",
         "showlegend": false,
         "type": "scatter",
         "x": [
          57
         ],
         "y": [
          -12
         ]
        },
        {
         "marker": {
          "color": "blue",
          "opacity": 0.5,
          "size": 1.2195121951219512
         },
         "mode": "markers",
         "showlegend": false,
         "type": "scatter",
         "x": [
          57
         ],
         "y": [
          -8
         ]
        },
        {
         "marker": {
          "color": "blue",
          "opacity": 0.5,
          "size": 2.4390243902439024
         },
         "mode": "markers",
         "showlegend": false,
         "type": "scatter",
         "x": [
          57
         ],
         "y": [
          -5
         ]
        },
        {
         "marker": {
          "color": "blue",
          "opacity": 0.5,
          "size": 1.2195121951219512
         },
         "mode": "markers",
         "showlegend": false,
         "type": "scatter",
         "x": [
          57
         ],
         "y": [
          -3
         ]
        },
        {
         "marker": {
          "color": "blue",
          "opacity": 0.5,
          "size": 1.2195121951219512
         },
         "mode": "markers",
         "showlegend": false,
         "type": "scatter",
         "x": [
          57
         ],
         "y": [
          3
         ]
        },
        {
         "marker": {
          "color": "blue",
          "opacity": 0.5,
          "size": 1.2195121951219512
         },
         "mode": "markers",
         "showlegend": false,
         "type": "scatter",
         "x": [
          57
         ],
         "y": [
          5
         ]
        },
        {
         "marker": {
          "color": "blue",
          "opacity": 0.5,
          "size": 1.2195121951219512
         },
         "mode": "markers",
         "showlegend": false,
         "type": "scatter",
         "x": [
          57
         ],
         "y": [
          6
         ]
        },
        {
         "marker": {
          "color": "blue",
          "opacity": 0.5,
          "size": 1.2195121951219512
         },
         "mode": "markers",
         "showlegend": false,
         "type": "scatter",
         "x": [
          57
         ],
         "y": [
          8
         ]
        },
        {
         "marker": {
          "color": "blue",
          "opacity": 0.5,
          "size": 1.2195121951219512
         },
         "mode": "markers",
         "showlegend": false,
         "type": "scatter",
         "x": [
          57
         ],
         "y": [
          9
         ]
        },
        {
         "marker": {
          "color": "blue",
          "opacity": 0.5,
          "size": 1.2195121951219512
         },
         "mode": "markers",
         "showlegend": false,
         "type": "scatter",
         "x": [
          57
         ],
         "y": [
          10
         ]
        },
        {
         "marker": {
          "color": "blue",
          "opacity": 0.5,
          "size": 1.2195121951219512
         },
         "mode": "markers",
         "showlegend": false,
         "type": "scatter",
         "x": [
          57
         ],
         "y": [
          11
         ]
        },
        {
         "marker": {
          "color": "blue",
          "opacity": 0.5,
          "size": 3.6585365853658534
         },
         "mode": "markers",
         "showlegend": false,
         "type": "scatter",
         "x": [
          57
         ],
         "y": [
          12
         ]
        },
        {
         "marker": {
          "color": "blue",
          "opacity": 0.5,
          "size": 1.2195121951219512
         },
         "mode": "markers",
         "showlegend": false,
         "type": "scatter",
         "x": [
          57
         ],
         "y": [
          13
         ]
        },
        {
         "marker": {
          "color": "blue",
          "opacity": 0.5,
          "size": 1.2195121951219512
         },
         "mode": "markers",
         "showlegend": false,
         "type": "scatter",
         "x": [
          57
         ],
         "y": [
          15
         ]
        },
        {
         "marker": {
          "color": "blue",
          "opacity": 0.5,
          "size": 2.4390243902439024
         },
         "mode": "markers",
         "showlegend": false,
         "type": "scatter",
         "x": [
          57
         ],
         "y": [
          16
         ]
        },
        {
         "marker": {
          "color": "blue",
          "opacity": 0.5,
          "size": 1.2195121951219512
         },
         "mode": "markers",
         "showlegend": false,
         "type": "scatter",
         "x": [
          57
         ],
         "y": [
          17
         ]
        },
        {
         "marker": {
          "color": "blue",
          "opacity": 0.5,
          "size": 1.2195121951219512
         },
         "mode": "markers",
         "showlegend": false,
         "type": "scatter",
         "x": [
          57
         ],
         "y": [
          18
         ]
        },
        {
         "marker": {
          "color": "blue",
          "opacity": 0.5,
          "size": 4.878048780487805
         },
         "mode": "markers",
         "showlegend": false,
         "type": "scatter",
         "x": [
          57
         ],
         "y": [
          20
         ]
        },
        {
         "marker": {
          "color": "blue",
          "opacity": 0.5,
          "size": 1.2195121951219512
         },
         "mode": "markers",
         "showlegend": false,
         "type": "scatter",
         "x": [
          57
         ],
         "y": [
          21
         ]
        },
        {
         "marker": {
          "color": "blue",
          "opacity": 0.5,
          "size": 2.4390243902439024
         },
         "mode": "markers",
         "showlegend": false,
         "type": "scatter",
         "x": [
          57
         ],
         "y": [
          23
         ]
        },
        {
         "marker": {
          "color": "blue",
          "opacity": 0.5,
          "size": 1.2195121951219512
         },
         "mode": "markers",
         "showlegend": false,
         "type": "scatter",
         "x": [
          57
         ],
         "y": [
          24
         ]
        },
        {
         "marker": {
          "color": "blue",
          "opacity": 0.5,
          "size": 1.2195121951219512
         },
         "mode": "markers",
         "showlegend": false,
         "type": "scatter",
         "x": [
          57
         ],
         "y": [
          25
         ]
        },
        {
         "marker": {
          "color": "blue",
          "opacity": 0.5,
          "size": 1.2195121951219512
         },
         "mode": "markers",
         "showlegend": false,
         "type": "scatter",
         "x": [
          57
         ],
         "y": [
          27
         ]
        },
        {
         "marker": {
          "color": "blue",
          "opacity": 0.5,
          "size": 2.4390243902439024
         },
         "mode": "markers",
         "showlegend": false,
         "type": "scatter",
         "x": [
          57
         ],
         "y": [
          29
         ]
        },
        {
         "marker": {
          "color": "blue",
          "opacity": 0.5,
          "size": 1.2195121951219512
         },
         "mode": "markers",
         "showlegend": false,
         "type": "scatter",
         "x": [
          57
         ],
         "y": [
          30
         ]
        },
        {
         "marker": {
          "color": "blue",
          "opacity": 0.5,
          "size": 2.4390243902439024
         },
         "mode": "markers",
         "showlegend": false,
         "type": "scatter",
         "x": [
          57
         ],
         "y": [
          31
         ]
        },
        {
         "marker": {
          "color": "blue",
          "opacity": 0.5,
          "size": 1.2195121951219512
         },
         "mode": "markers",
         "showlegend": false,
         "type": "scatter",
         "x": [
          57
         ],
         "y": [
          32
         ]
        },
        {
         "marker": {
          "color": "blue",
          "opacity": 0.5,
          "size": 1.2195121951219512
         },
         "mode": "markers",
         "showlegend": false,
         "type": "scatter",
         "x": [
          57
         ],
         "y": [
          33
         ]
        },
        {
         "marker": {
          "color": "blue",
          "opacity": 0.5,
          "size": 1.2195121951219512
         },
         "mode": "markers",
         "showlegend": false,
         "type": "scatter",
         "x": [
          57
         ],
         "y": [
          35
         ]
        },
        {
         "marker": {
          "color": "blue",
          "opacity": 0.5,
          "size": 2.4390243902439024
         },
         "mode": "markers",
         "showlegend": false,
         "type": "scatter",
         "x": [
          58
         ],
         "y": [
          -36
         ]
        },
        {
         "marker": {
          "color": "blue",
          "opacity": 0.5,
          "size": 1.2195121951219512
         },
         "mode": "markers",
         "showlegend": false,
         "type": "scatter",
         "x": [
          58
         ],
         "y": [
          -35
         ]
        },
        {
         "marker": {
          "color": "blue",
          "opacity": 0.5,
          "size": 3.6585365853658534
         },
         "mode": "markers",
         "showlegend": false,
         "type": "scatter",
         "x": [
          58
         ],
         "y": [
          -31
         ]
        },
        {
         "marker": {
          "color": "blue",
          "opacity": 0.5,
          "size": 1.2195121951219512
         },
         "mode": "markers",
         "showlegend": false,
         "type": "scatter",
         "x": [
          58
         ],
         "y": [
          -29
         ]
        },
        {
         "marker": {
          "color": "blue",
          "opacity": 0.5,
          "size": 1.2195121951219512
         },
         "mode": "markers",
         "showlegend": false,
         "type": "scatter",
         "x": [
          58
         ],
         "y": [
          -28
         ]
        },
        {
         "marker": {
          "color": "blue",
          "opacity": 0.5,
          "size": 2.4390243902439024
         },
         "mode": "markers",
         "showlegend": false,
         "type": "scatter",
         "x": [
          58
         ],
         "y": [
          -26
         ]
        },
        {
         "marker": {
          "color": "blue",
          "opacity": 0.5,
          "size": 2.4390243902439024
         },
         "mode": "markers",
         "showlegend": false,
         "type": "scatter",
         "x": [
          58
         ],
         "y": [
          -22
         ]
        },
        {
         "marker": {
          "color": "blue",
          "opacity": 0.5,
          "size": 1.2195121951219512
         },
         "mode": "markers",
         "showlegend": false,
         "type": "scatter",
         "x": [
          58
         ],
         "y": [
          -21
         ]
        },
        {
         "marker": {
          "color": "blue",
          "opacity": 0.5,
          "size": 1.2195121951219512
         },
         "mode": "markers",
         "showlegend": false,
         "type": "scatter",
         "x": [
          58
         ],
         "y": [
          -17
         ]
        },
        {
         "marker": {
          "color": "blue",
          "opacity": 0.5,
          "size": 2.4390243902439024
         },
         "mode": "markers",
         "showlegend": false,
         "type": "scatter",
         "x": [
          58
         ],
         "y": [
          -16
         ]
        },
        {
         "marker": {
          "color": "blue",
          "opacity": 0.5,
          "size": 1.2195121951219512
         },
         "mode": "markers",
         "showlegend": false,
         "type": "scatter",
         "x": [
          58
         ],
         "y": [
          -10
         ]
        },
        {
         "marker": {
          "color": "blue",
          "opacity": 0.5,
          "size": 3.6585365853658534
         },
         "mode": "markers",
         "showlegend": false,
         "type": "scatter",
         "x": [
          58
         ],
         "y": [
          -7
         ]
        },
        {
         "marker": {
          "color": "blue",
          "opacity": 0.5,
          "size": 1.2195121951219512
         },
         "mode": "markers",
         "showlegend": false,
         "type": "scatter",
         "x": [
          58
         ],
         "y": [
          -6
         ]
        },
        {
         "marker": {
          "color": "blue",
          "opacity": 0.5,
          "size": 1.2195121951219512
         },
         "mode": "markers",
         "showlegend": false,
         "type": "scatter",
         "x": [
          58
         ],
         "y": [
          -4
         ]
        },
        {
         "marker": {
          "color": "blue",
          "opacity": 0.5,
          "size": 1.2195121951219512
         },
         "mode": "markers",
         "showlegend": false,
         "type": "scatter",
         "x": [
          58
         ],
         "y": [
          -3
         ]
        },
        {
         "marker": {
          "color": "blue",
          "opacity": 0.5,
          "size": 2.4390243902439024
         },
         "mode": "markers",
         "showlegend": false,
         "type": "scatter",
         "x": [
          58
         ],
         "y": [
          -1
         ]
        },
        {
         "marker": {
          "color": "blue",
          "opacity": 0.5,
          "size": 2.4390243902439024
         },
         "mode": "markers",
         "showlegend": false,
         "type": "scatter",
         "x": [
          58
         ],
         "y": [
          0
         ]
        },
        {
         "marker": {
          "color": "blue",
          "opacity": 0.5,
          "size": 1.2195121951219512
         },
         "mode": "markers",
         "showlegend": false,
         "type": "scatter",
         "x": [
          58
         ],
         "y": [
          1
         ]
        },
        {
         "marker": {
          "color": "blue",
          "opacity": 0.5,
          "size": 1.2195121951219512
         },
         "mode": "markers",
         "showlegend": false,
         "type": "scatter",
         "x": [
          58
         ],
         "y": [
          3
         ]
        },
        {
         "marker": {
          "color": "blue",
          "opacity": 0.5,
          "size": 1.2195121951219512
         },
         "mode": "markers",
         "showlegend": false,
         "type": "scatter",
         "x": [
          58
         ],
         "y": [
          4
         ]
        },
        {
         "marker": {
          "color": "blue",
          "opacity": 0.5,
          "size": 1.2195121951219512
         },
         "mode": "markers",
         "showlegend": false,
         "type": "scatter",
         "x": [
          58
         ],
         "y": [
          7
         ]
        },
        {
         "marker": {
          "color": "blue",
          "opacity": 0.5,
          "size": 1.2195121951219512
         },
         "mode": "markers",
         "showlegend": false,
         "type": "scatter",
         "x": [
          58
         ],
         "y": [
          8
         ]
        },
        {
         "marker": {
          "color": "blue",
          "opacity": 0.5,
          "size": 1.2195121951219512
         },
         "mode": "markers",
         "showlegend": false,
         "type": "scatter",
         "x": [
          58
         ],
         "y": [
          12
         ]
        },
        {
         "marker": {
          "color": "blue",
          "opacity": 0.5,
          "size": 1.2195121951219512
         },
         "mode": "markers",
         "showlegend": false,
         "type": "scatter",
         "x": [
          58
         ],
         "y": [
          14
         ]
        },
        {
         "marker": {
          "color": "blue",
          "opacity": 0.5,
          "size": 3.6585365853658534
         },
         "mode": "markers",
         "showlegend": false,
         "type": "scatter",
         "x": [
          58
         ],
         "y": [
          16
         ]
        },
        {
         "marker": {
          "color": "blue",
          "opacity": 0.5,
          "size": 1.2195121951219512
         },
         "mode": "markers",
         "showlegend": false,
         "type": "scatter",
         "x": [
          58
         ],
         "y": [
          18
         ]
        },
        {
         "marker": {
          "color": "blue",
          "opacity": 0.5,
          "size": 1.2195121951219512
         },
         "mode": "markers",
         "showlegend": false,
         "type": "scatter",
         "x": [
          58
         ],
         "y": [
          19
         ]
        },
        {
         "marker": {
          "color": "blue",
          "opacity": 0.5,
          "size": 1.2195121951219512
         },
         "mode": "markers",
         "showlegend": false,
         "type": "scatter",
         "x": [
          58
         ],
         "y": [
          20
         ]
        },
        {
         "marker": {
          "color": "blue",
          "opacity": 0.5,
          "size": 1.2195121951219512
         },
         "mode": "markers",
         "showlegend": false,
         "type": "scatter",
         "x": [
          58
         ],
         "y": [
          22
         ]
        },
        {
         "marker": {
          "color": "blue",
          "opacity": 0.5,
          "size": 3.6585365853658534
         },
         "mode": "markers",
         "showlegend": false,
         "type": "scatter",
         "x": [
          58
         ],
         "y": [
          23
         ]
        },
        {
         "marker": {
          "color": "blue",
          "opacity": 0.5,
          "size": 1.2195121951219512
         },
         "mode": "markers",
         "showlegend": false,
         "type": "scatter",
         "x": [
          58
         ],
         "y": [
          25
         ]
        },
        {
         "marker": {
          "color": "blue",
          "opacity": 0.5,
          "size": 1.2195121951219512
         },
         "mode": "markers",
         "showlegend": false,
         "type": "scatter",
         "x": [
          58
         ],
         "y": [
          27
         ]
        },
        {
         "marker": {
          "color": "blue",
          "opacity": 0.5,
          "size": 1.2195121951219512
         },
         "mode": "markers",
         "showlegend": false,
         "type": "scatter",
         "x": [
          58
         ],
         "y": [
          28
         ]
        },
        {
         "marker": {
          "color": "blue",
          "opacity": 0.5,
          "size": 1.2195121951219512
         },
         "mode": "markers",
         "showlegend": false,
         "type": "scatter",
         "x": [
          58
         ],
         "y": [
          30
         ]
        },
        {
         "marker": {
          "color": "blue",
          "opacity": 0.5,
          "size": 1.2195121951219512
         },
         "mode": "markers",
         "showlegend": false,
         "type": "scatter",
         "x": [
          58
         ],
         "y": [
          31
         ]
        },
        {
         "marker": {
          "color": "blue",
          "opacity": 0.5,
          "size": 1.2195121951219512
         },
         "mode": "markers",
         "showlegend": false,
         "type": "scatter",
         "x": [
          58
         ],
         "y": [
          37
         ]
        },
        {
         "marker": {
          "color": "blue",
          "opacity": 0.5,
          "size": 1.2195121951219512
         },
         "mode": "markers",
         "showlegend": false,
         "type": "scatter",
         "x": [
          58
         ],
         "y": [
          39
         ]
        },
        {
         "marker": {
          "color": "blue",
          "opacity": 0.5,
          "size": 1.2195121951219512
         },
         "mode": "markers",
         "showlegend": false,
         "type": "scatter",
         "x": [
          59
         ],
         "y": [
          -28
         ]
        },
        {
         "marker": {
          "color": "blue",
          "opacity": 0.5,
          "size": 2.4390243902439024
         },
         "mode": "markers",
         "showlegend": false,
         "type": "scatter",
         "x": [
          59
         ],
         "y": [
          -24
         ]
        },
        {
         "marker": {
          "color": "blue",
          "opacity": 0.5,
          "size": 2.4390243902439024
         },
         "mode": "markers",
         "showlegend": false,
         "type": "scatter",
         "x": [
          59
         ],
         "y": [
          -20
         ]
        },
        {
         "marker": {
          "color": "blue",
          "opacity": 0.5,
          "size": 1.2195121951219512
         },
         "mode": "markers",
         "showlegend": false,
         "type": "scatter",
         "x": [
          59
         ],
         "y": [
          -18
         ]
        },
        {
         "marker": {
          "color": "blue",
          "opacity": 0.5,
          "size": 1.2195121951219512
         },
         "mode": "markers",
         "showlegend": false,
         "type": "scatter",
         "x": [
          59
         ],
         "y": [
          -17
         ]
        },
        {
         "marker": {
          "color": "blue",
          "opacity": 0.5,
          "size": 2.4390243902439024
         },
         "mode": "markers",
         "showlegend": false,
         "type": "scatter",
         "x": [
          59
         ],
         "y": [
          -16
         ]
        },
        {
         "marker": {
          "color": "blue",
          "opacity": 0.5,
          "size": 1.2195121951219512
         },
         "mode": "markers",
         "showlegend": false,
         "type": "scatter",
         "x": [
          59
         ],
         "y": [
          -14
         ]
        },
        {
         "marker": {
          "color": "blue",
          "opacity": 0.5,
          "size": 2.4390243902439024
         },
         "mode": "markers",
         "showlegend": false,
         "type": "scatter",
         "x": [
          59
         ],
         "y": [
          -13
         ]
        },
        {
         "marker": {
          "color": "blue",
          "opacity": 0.5,
          "size": 1.2195121951219512
         },
         "mode": "markers",
         "showlegend": false,
         "type": "scatter",
         "x": [
          59
         ],
         "y": [
          -12
         ]
        },
        {
         "marker": {
          "color": "blue",
          "opacity": 0.5,
          "size": 1.2195121951219512
         },
         "mode": "markers",
         "showlegend": false,
         "type": "scatter",
         "x": [
          59
         ],
         "y": [
          -9
         ]
        },
        {
         "marker": {
          "color": "blue",
          "opacity": 0.5,
          "size": 2.4390243902439024
         },
         "mode": "markers",
         "showlegend": false,
         "type": "scatter",
         "x": [
          59
         ],
         "y": [
          -8
         ]
        },
        {
         "marker": {
          "color": "blue",
          "opacity": 0.5,
          "size": 1.2195121951219512
         },
         "mode": "markers",
         "showlegend": false,
         "type": "scatter",
         "x": [
          59
         ],
         "y": [
          -7
         ]
        },
        {
         "marker": {
          "color": "blue",
          "opacity": 0.5,
          "size": 1.2195121951219512
         },
         "mode": "markers",
         "showlegend": false,
         "type": "scatter",
         "x": [
          59
         ],
         "y": [
          -4
         ]
        },
        {
         "marker": {
          "color": "blue",
          "opacity": 0.5,
          "size": 1.2195121951219512
         },
         "mode": "markers",
         "showlegend": false,
         "type": "scatter",
         "x": [
          59
         ],
         "y": [
          -2
         ]
        },
        {
         "marker": {
          "color": "blue",
          "opacity": 0.5,
          "size": 1.2195121951219512
         },
         "mode": "markers",
         "showlegend": false,
         "type": "scatter",
         "x": [
          59
         ],
         "y": [
          -1
         ]
        },
        {
         "marker": {
          "color": "blue",
          "opacity": 0.5,
          "size": 1.2195121951219512
         },
         "mode": "markers",
         "showlegend": false,
         "type": "scatter",
         "x": [
          59
         ],
         "y": [
          0
         ]
        },
        {
         "marker": {
          "color": "blue",
          "opacity": 0.5,
          "size": 2.4390243902439024
         },
         "mode": "markers",
         "showlegend": false,
         "type": "scatter",
         "x": [
          59
         ],
         "y": [
          1
         ]
        },
        {
         "marker": {
          "color": "blue",
          "opacity": 0.5,
          "size": 1.2195121951219512
         },
         "mode": "markers",
         "showlegend": false,
         "type": "scatter",
         "x": [
          59
         ],
         "y": [
          4
         ]
        },
        {
         "marker": {
          "color": "blue",
          "opacity": 0.5,
          "size": 1.2195121951219512
         },
         "mode": "markers",
         "showlegend": false,
         "type": "scatter",
         "x": [
          59
         ],
         "y": [
          10
         ]
        },
        {
         "marker": {
          "color": "blue",
          "opacity": 0.5,
          "size": 1.2195121951219512
         },
         "mode": "markers",
         "showlegend": false,
         "type": "scatter",
         "x": [
          59
         ],
         "y": [
          12
         ]
        },
        {
         "marker": {
          "color": "blue",
          "opacity": 0.5,
          "size": 1.2195121951219512
         },
         "mode": "markers",
         "showlegend": false,
         "type": "scatter",
         "x": [
          59
         ],
         "y": [
          21
         ]
        },
        {
         "marker": {
          "color": "blue",
          "opacity": 0.5,
          "size": 1.2195121951219512
         },
         "mode": "markers",
         "showlegend": false,
         "type": "scatter",
         "x": [
          59
         ],
         "y": [
          22
         ]
        },
        {
         "marker": {
          "color": "blue",
          "opacity": 0.5,
          "size": 2.4390243902439024
         },
         "mode": "markers",
         "showlegend": false,
         "type": "scatter",
         "x": [
          59
         ],
         "y": [
          24
         ]
        },
        {
         "marker": {
          "color": "blue",
          "opacity": 0.5,
          "size": 2.4390243902439024
         },
         "mode": "markers",
         "showlegend": false,
         "type": "scatter",
         "x": [
          59
         ],
         "y": [
          25
         ]
        },
        {
         "marker": {
          "color": "blue",
          "opacity": 0.5,
          "size": 1.2195121951219512
         },
         "mode": "markers",
         "showlegend": false,
         "type": "scatter",
         "x": [
          59
         ],
         "y": [
          28
         ]
        },
        {
         "marker": {
          "color": "blue",
          "opacity": 0.5,
          "size": 1.2195121951219512
         },
         "mode": "markers",
         "showlegend": false,
         "type": "scatter",
         "x": [
          59
         ],
         "y": [
          29
         ]
        },
        {
         "marker": {
          "color": "blue",
          "opacity": 0.5,
          "size": 1.2195121951219512
         },
         "mode": "markers",
         "showlegend": false,
         "type": "scatter",
         "x": [
          59
         ],
         "y": [
          30
         ]
        },
        {
         "marker": {
          "color": "blue",
          "opacity": 0.5,
          "size": 2.4390243902439024
         },
         "mode": "markers",
         "showlegend": false,
         "type": "scatter",
         "x": [
          59
         ],
         "y": [
          32
         ]
        },
        {
         "marker": {
          "color": "blue",
          "opacity": 0.5,
          "size": 1.2195121951219512
         },
         "mode": "markers",
         "showlegend": false,
         "type": "scatter",
         "x": [
          60
         ],
         "y": [
          -36
         ]
        },
        {
         "marker": {
          "color": "blue",
          "opacity": 0.5,
          "size": 1.2195121951219512
         },
         "mode": "markers",
         "showlegend": false,
         "type": "scatter",
         "x": [
          60
         ],
         "y": [
          -35
         ]
        },
        {
         "marker": {
          "color": "blue",
          "opacity": 0.5,
          "size": 1.2195121951219512
         },
         "mode": "markers",
         "showlegend": false,
         "type": "scatter",
         "x": [
          60
         ],
         "y": [
          -28
         ]
        },
        {
         "marker": {
          "color": "blue",
          "opacity": 0.5,
          "size": 1.2195121951219512
         },
         "mode": "markers",
         "showlegend": false,
         "type": "scatter",
         "x": [
          60
         ],
         "y": [
          -26
         ]
        },
        {
         "marker": {
          "color": "blue",
          "opacity": 0.5,
          "size": 1.2195121951219512
         },
         "mode": "markers",
         "showlegend": false,
         "type": "scatter",
         "x": [
          60
         ],
         "y": [
          -25
         ]
        },
        {
         "marker": {
          "color": "blue",
          "opacity": 0.5,
          "size": 1.2195121951219512
         },
         "mode": "markers",
         "showlegend": false,
         "type": "scatter",
         "x": [
          60
         ],
         "y": [
          -23
         ]
        },
        {
         "marker": {
          "color": "blue",
          "opacity": 0.5,
          "size": 3.6585365853658534
         },
         "mode": "markers",
         "showlegend": false,
         "type": "scatter",
         "x": [
          60
         ],
         "y": [
          -18
         ]
        },
        {
         "marker": {
          "color": "blue",
          "opacity": 0.5,
          "size": 1.2195121951219512
         },
         "mode": "markers",
         "showlegend": false,
         "type": "scatter",
         "x": [
          60
         ],
         "y": [
          -15
         ]
        },
        {
         "marker": {
          "color": "blue",
          "opacity": 0.5,
          "size": 1.2195121951219512
         },
         "mode": "markers",
         "showlegend": false,
         "type": "scatter",
         "x": [
          60
         ],
         "y": [
          -14
         ]
        },
        {
         "marker": {
          "color": "blue",
          "opacity": 0.5,
          "size": 1.2195121951219512
         },
         "mode": "markers",
         "showlegend": false,
         "type": "scatter",
         "x": [
          60
         ],
         "y": [
          -12
         ]
        },
        {
         "marker": {
          "color": "blue",
          "opacity": 0.5,
          "size": 1.2195121951219512
         },
         "mode": "markers",
         "showlegend": false,
         "type": "scatter",
         "x": [
          60
         ],
         "y": [
          -9
         ]
        },
        {
         "marker": {
          "color": "blue",
          "opacity": 0.5,
          "size": 2.4390243902439024
         },
         "mode": "markers",
         "showlegend": false,
         "type": "scatter",
         "x": [
          60
         ],
         "y": [
          -8
         ]
        },
        {
         "marker": {
          "color": "blue",
          "opacity": 0.5,
          "size": 1.2195121951219512
         },
         "mode": "markers",
         "showlegend": false,
         "type": "scatter",
         "x": [
          60
         ],
         "y": [
          -7
         ]
        },
        {
         "marker": {
          "color": "blue",
          "opacity": 0.5,
          "size": 2.4390243902439024
         },
         "mode": "markers",
         "showlegend": false,
         "type": "scatter",
         "x": [
          60
         ],
         "y": [
          -6
         ]
        },
        {
         "marker": {
          "color": "blue",
          "opacity": 0.5,
          "size": 1.2195121951219512
         },
         "mode": "markers",
         "showlegend": false,
         "type": "scatter",
         "x": [
          60
         ],
         "y": [
          -3
         ]
        },
        {
         "marker": {
          "color": "blue",
          "opacity": 0.5,
          "size": 1.2195121951219512
         },
         "mode": "markers",
         "showlegend": false,
         "type": "scatter",
         "x": [
          60
         ],
         "y": [
          1
         ]
        },
        {
         "marker": {
          "color": "blue",
          "opacity": 0.5,
          "size": 1.2195121951219512
         },
         "mode": "markers",
         "showlegend": false,
         "type": "scatter",
         "x": [
          60
         ],
         "y": [
          3
         ]
        },
        {
         "marker": {
          "color": "blue",
          "opacity": 0.5,
          "size": 2.4390243902439024
         },
         "mode": "markers",
         "showlegend": false,
         "type": "scatter",
         "x": [
          60
         ],
         "y": [
          4
         ]
        },
        {
         "marker": {
          "color": "blue",
          "opacity": 0.5,
          "size": 1.2195121951219512
         },
         "mode": "markers",
         "showlegend": false,
         "type": "scatter",
         "x": [
          60
         ],
         "y": [
          5
         ]
        },
        {
         "marker": {
          "color": "blue",
          "opacity": 0.5,
          "size": 1.2195121951219512
         },
         "mode": "markers",
         "showlegend": false,
         "type": "scatter",
         "x": [
          60
         ],
         "y": [
          7
         ]
        },
        {
         "marker": {
          "color": "blue",
          "opacity": 0.5,
          "size": 1.2195121951219512
         },
         "mode": "markers",
         "showlegend": false,
         "type": "scatter",
         "x": [
          60
         ],
         "y": [
          9
         ]
        },
        {
         "marker": {
          "color": "blue",
          "opacity": 0.5,
          "size": 1.2195121951219512
         },
         "mode": "markers",
         "showlegend": false,
         "type": "scatter",
         "x": [
          60
         ],
         "y": [
          10
         ]
        },
        {
         "marker": {
          "color": "blue",
          "opacity": 0.5,
          "size": 1.2195121951219512
         },
         "mode": "markers",
         "showlegend": false,
         "type": "scatter",
         "x": [
          60
         ],
         "y": [
          14
         ]
        },
        {
         "marker": {
          "color": "blue",
          "opacity": 0.5,
          "size": 1.2195121951219512
         },
         "mode": "markers",
         "showlegend": false,
         "type": "scatter",
         "x": [
          60
         ],
         "y": [
          15
         ]
        },
        {
         "marker": {
          "color": "blue",
          "opacity": 0.5,
          "size": 1.2195121951219512
         },
         "mode": "markers",
         "showlegend": false,
         "type": "scatter",
         "x": [
          60
         ],
         "y": [
          16
         ]
        },
        {
         "marker": {
          "color": "blue",
          "opacity": 0.5,
          "size": 1.2195121951219512
         },
         "mode": "markers",
         "showlegend": false,
         "type": "scatter",
         "x": [
          60
         ],
         "y": [
          19
         ]
        },
        {
         "marker": {
          "color": "blue",
          "opacity": 0.5,
          "size": 1.2195121951219512
         },
         "mode": "markers",
         "showlegend": false,
         "type": "scatter",
         "x": [
          60
         ],
         "y": [
          20
         ]
        },
        {
         "marker": {
          "color": "blue",
          "opacity": 0.5,
          "size": 2.4390243902439024
         },
         "mode": "markers",
         "showlegend": false,
         "type": "scatter",
         "x": [
          60
         ],
         "y": [
          23
         ]
        },
        {
         "marker": {
          "color": "blue",
          "opacity": 0.5,
          "size": 2.4390243902439024
         },
         "mode": "markers",
         "showlegend": false,
         "type": "scatter",
         "x": [
          60
         ],
         "y": [
          25
         ]
        },
        {
         "marker": {
          "color": "blue",
          "opacity": 0.5,
          "size": 1.2195121951219512
         },
         "mode": "markers",
         "showlegend": false,
         "type": "scatter",
         "x": [
          60
         ],
         "y": [
          27
         ]
        },
        {
         "marker": {
          "color": "blue",
          "opacity": 0.5,
          "size": 1.2195121951219512
         },
         "mode": "markers",
         "showlegend": false,
         "type": "scatter",
         "x": [
          60
         ],
         "y": [
          28
         ]
        },
        {
         "marker": {
          "color": "blue",
          "opacity": 0.5,
          "size": 1.2195121951219512
         },
         "mode": "markers",
         "showlegend": false,
         "type": "scatter",
         "x": [
          60
         ],
         "y": [
          29
         ]
        },
        {
         "marker": {
          "color": "blue",
          "opacity": 0.5,
          "size": 2.4390243902439024
         },
         "mode": "markers",
         "showlegend": false,
         "type": "scatter",
         "x": [
          60
         ],
         "y": [
          30
         ]
        },
        {
         "marker": {
          "color": "blue",
          "opacity": 0.5,
          "size": 2.4390243902439024
         },
         "mode": "markers",
         "showlegend": false,
         "type": "scatter",
         "x": [
          60
         ],
         "y": [
          32
         ]
        },
        {
         "marker": {
          "color": "blue",
          "opacity": 0.5,
          "size": 1.2195121951219512
         },
         "mode": "markers",
         "showlegend": false,
         "type": "scatter",
         "x": [
          60
         ],
         "y": [
          33
         ]
        },
        {
         "marker": {
          "color": "blue",
          "opacity": 0.5,
          "size": 1.2195121951219512
         },
         "mode": "markers",
         "showlegend": false,
         "type": "scatter",
         "x": [
          61
         ],
         "y": [
          -38
         ]
        },
        {
         "marker": {
          "color": "blue",
          "opacity": 0.5,
          "size": 1.2195121951219512
         },
         "mode": "markers",
         "showlegend": false,
         "type": "scatter",
         "x": [
          61
         ],
         "y": [
          -33
         ]
        },
        {
         "marker": {
          "color": "blue",
          "opacity": 0.5,
          "size": 1.2195121951219512
         },
         "mode": "markers",
         "showlegend": false,
         "type": "scatter",
         "x": [
          61
         ],
         "y": [
          -31
         ]
        },
        {
         "marker": {
          "color": "blue",
          "opacity": 0.5,
          "size": 1.2195121951219512
         },
         "mode": "markers",
         "showlegend": false,
         "type": "scatter",
         "x": [
          61
         ],
         "y": [
          -30
         ]
        },
        {
         "marker": {
          "color": "blue",
          "opacity": 0.5,
          "size": 1.2195121951219512
         },
         "mode": "markers",
         "showlegend": false,
         "type": "scatter",
         "x": [
          61
         ],
         "y": [
          -27
         ]
        },
        {
         "marker": {
          "color": "blue",
          "opacity": 0.5,
          "size": 1.2195121951219512
         },
         "mode": "markers",
         "showlegend": false,
         "type": "scatter",
         "x": [
          61
         ],
         "y": [
          -26
         ]
        },
        {
         "marker": {
          "color": "blue",
          "opacity": 0.5,
          "size": 1.2195121951219512
         },
         "mode": "markers",
         "showlegend": false,
         "type": "scatter",
         "x": [
          61
         ],
         "y": [
          -24
         ]
        },
        {
         "marker": {
          "color": "blue",
          "opacity": 0.5,
          "size": 2.4390243902439024
         },
         "mode": "markers",
         "showlegend": false,
         "type": "scatter",
         "x": [
          61
         ],
         "y": [
          -23
         ]
        },
        {
         "marker": {
          "color": "blue",
          "opacity": 0.5,
          "size": 1.2195121951219512
         },
         "mode": "markers",
         "showlegend": false,
         "type": "scatter",
         "x": [
          61
         ],
         "y": [
          -22
         ]
        },
        {
         "marker": {
          "color": "blue",
          "opacity": 0.5,
          "size": 1.2195121951219512
         },
         "mode": "markers",
         "showlegend": false,
         "type": "scatter",
         "x": [
          61
         ],
         "y": [
          -21
         ]
        },
        {
         "marker": {
          "color": "blue",
          "opacity": 0.5,
          "size": 2.4390243902439024
         },
         "mode": "markers",
         "showlegend": false,
         "type": "scatter",
         "x": [
          61
         ],
         "y": [
          -20
         ]
        },
        {
         "marker": {
          "color": "blue",
          "opacity": 0.5,
          "size": 1.2195121951219512
         },
         "mode": "markers",
         "showlegend": false,
         "type": "scatter",
         "x": [
          61
         ],
         "y": [
          -19
         ]
        },
        {
         "marker": {
          "color": "blue",
          "opacity": 0.5,
          "size": 2.4390243902439024
         },
         "mode": "markers",
         "showlegend": false,
         "type": "scatter",
         "x": [
          61
         ],
         "y": [
          -18
         ]
        },
        {
         "marker": {
          "color": "blue",
          "opacity": 0.5,
          "size": 1.2195121951219512
         },
         "mode": "markers",
         "showlegend": false,
         "type": "scatter",
         "x": [
          61
         ],
         "y": [
          -17
         ]
        },
        {
         "marker": {
          "color": "blue",
          "opacity": 0.5,
          "size": 1.2195121951219512
         },
         "mode": "markers",
         "showlegend": false,
         "type": "scatter",
         "x": [
          61
         ],
         "y": [
          -15
         ]
        },
        {
         "marker": {
          "color": "blue",
          "opacity": 0.5,
          "size": 1.2195121951219512
         },
         "mode": "markers",
         "showlegend": false,
         "type": "scatter",
         "x": [
          61
         ],
         "y": [
          -14
         ]
        },
        {
         "marker": {
          "color": "blue",
          "opacity": 0.5,
          "size": 1.2195121951219512
         },
         "mode": "markers",
         "showlegend": false,
         "type": "scatter",
         "x": [
          61
         ],
         "y": [
          -12
         ]
        },
        {
         "marker": {
          "color": "blue",
          "opacity": 0.5,
          "size": 1.2195121951219512
         },
         "mode": "markers",
         "showlegend": false,
         "type": "scatter",
         "x": [
          61
         ],
         "y": [
          -8
         ]
        },
        {
         "marker": {
          "color": "blue",
          "opacity": 0.5,
          "size": 2.4390243902439024
         },
         "mode": "markers",
         "showlegend": false,
         "type": "scatter",
         "x": [
          61
         ],
         "y": [
          -5
         ]
        },
        {
         "marker": {
          "color": "blue",
          "opacity": 0.5,
          "size": 1.2195121951219512
         },
         "mode": "markers",
         "showlegend": false,
         "type": "scatter",
         "x": [
          61
         ],
         "y": [
          -3
         ]
        },
        {
         "marker": {
          "color": "blue",
          "opacity": 0.5,
          "size": 1.2195121951219512
         },
         "mode": "markers",
         "showlegend": false,
         "type": "scatter",
         "x": [
          61
         ],
         "y": [
          -2
         ]
        },
        {
         "marker": {
          "color": "blue",
          "opacity": 0.5,
          "size": 2.4390243902439024
         },
         "mode": "markers",
         "showlegend": false,
         "type": "scatter",
         "x": [
          61
         ],
         "y": [
          0
         ]
        },
        {
         "marker": {
          "color": "blue",
          "opacity": 0.5,
          "size": 1.2195121951219512
         },
         "mode": "markers",
         "showlegend": false,
         "type": "scatter",
         "x": [
          61
         ],
         "y": [
          2
         ]
        },
        {
         "marker": {
          "color": "blue",
          "opacity": 0.5,
          "size": 2.4390243902439024
         },
         "mode": "markers",
         "showlegend": false,
         "type": "scatter",
         "x": [
          61
         ],
         "y": [
          3
         ]
        },
        {
         "marker": {
          "color": "blue",
          "opacity": 0.5,
          "size": 1.2195121951219512
         },
         "mode": "markers",
         "showlegend": false,
         "type": "scatter",
         "x": [
          61
         ],
         "y": [
          4
         ]
        },
        {
         "marker": {
          "color": "blue",
          "opacity": 0.5,
          "size": 3.6585365853658534
         },
         "mode": "markers",
         "showlegend": false,
         "type": "scatter",
         "x": [
          61
         ],
         "y": [
          6
         ]
        },
        {
         "marker": {
          "color": "blue",
          "opacity": 0.5,
          "size": 1.2195121951219512
         },
         "mode": "markers",
         "showlegend": false,
         "type": "scatter",
         "x": [
          61
         ],
         "y": [
          7
         ]
        },
        {
         "marker": {
          "color": "blue",
          "opacity": 0.5,
          "size": 1.2195121951219512
         },
         "mode": "markers",
         "showlegend": false,
         "type": "scatter",
         "x": [
          61
         ],
         "y": [
          9
         ]
        },
        {
         "marker": {
          "color": "blue",
          "opacity": 0.5,
          "size": 1.2195121951219512
         },
         "mode": "markers",
         "showlegend": false,
         "type": "scatter",
         "x": [
          61
         ],
         "y": [
          11
         ]
        },
        {
         "marker": {
          "color": "blue",
          "opacity": 0.5,
          "size": 1.2195121951219512
         },
         "mode": "markers",
         "showlegend": false,
         "type": "scatter",
         "x": [
          61
         ],
         "y": [
          12
         ]
        },
        {
         "marker": {
          "color": "blue",
          "opacity": 0.5,
          "size": 1.2195121951219512
         },
         "mode": "markers",
         "showlegend": false,
         "type": "scatter",
         "x": [
          61
         ],
         "y": [
          15
         ]
        },
        {
         "marker": {
          "color": "blue",
          "opacity": 0.5,
          "size": 1.2195121951219512
         },
         "mode": "markers",
         "showlegend": false,
         "type": "scatter",
         "x": [
          61
         ],
         "y": [
          18
         ]
        },
        {
         "marker": {
          "color": "blue",
          "opacity": 0.5,
          "size": 2.4390243902439024
         },
         "mode": "markers",
         "showlegend": false,
         "type": "scatter",
         "x": [
          61
         ],
         "y": [
          19
         ]
        },
        {
         "marker": {
          "color": "blue",
          "opacity": 0.5,
          "size": 2.4390243902439024
         },
         "mode": "markers",
         "showlegend": false,
         "type": "scatter",
         "x": [
          61
         ],
         "y": [
          20
         ]
        },
        {
         "marker": {
          "color": "blue",
          "opacity": 0.5,
          "size": 1.2195121951219512
         },
         "mode": "markers",
         "showlegend": false,
         "type": "scatter",
         "x": [
          61
         ],
         "y": [
          21
         ]
        },
        {
         "marker": {
          "color": "blue",
          "opacity": 0.5,
          "size": 3.6585365853658534
         },
         "mode": "markers",
         "showlegend": false,
         "type": "scatter",
         "x": [
          61
         ],
         "y": [
          23
         ]
        },
        {
         "marker": {
          "color": "blue",
          "opacity": 0.5,
          "size": 1.2195121951219512
         },
         "mode": "markers",
         "showlegend": false,
         "type": "scatter",
         "x": [
          61
         ],
         "y": [
          24
         ]
        },
        {
         "marker": {
          "color": "blue",
          "opacity": 0.5,
          "size": 1.2195121951219512
         },
         "mode": "markers",
         "showlegend": false,
         "type": "scatter",
         "x": [
          61
         ],
         "y": [
          25
         ]
        },
        {
         "marker": {
          "color": "blue",
          "opacity": 0.5,
          "size": 2.4390243902439024
         },
         "mode": "markers",
         "showlegend": false,
         "type": "scatter",
         "x": [
          61
         ],
         "y": [
          32
         ]
        },
        {
         "marker": {
          "color": "blue",
          "opacity": 0.5,
          "size": 1.2195121951219512
         },
         "mode": "markers",
         "showlegend": false,
         "type": "scatter",
         "x": [
          61
         ],
         "y": [
          39
         ]
        },
        {
         "marker": {
          "color": "blue",
          "opacity": 0.5,
          "size": 1.2195121951219512
         },
         "mode": "markers",
         "showlegend": false,
         "type": "scatter",
         "x": [
          62
         ],
         "y": [
          -35
         ]
        },
        {
         "marker": {
          "color": "blue",
          "opacity": 0.5,
          "size": 1.2195121951219512
         },
         "mode": "markers",
         "showlegend": false,
         "type": "scatter",
         "x": [
          62
         ],
         "y": [
          -32
         ]
        },
        {
         "marker": {
          "color": "blue",
          "opacity": 0.5,
          "size": 1.2195121951219512
         },
         "mode": "markers",
         "showlegend": false,
         "type": "scatter",
         "x": [
          62
         ],
         "y": [
          -26
         ]
        },
        {
         "marker": {
          "color": "blue",
          "opacity": 0.5,
          "size": 2.4390243902439024
         },
         "mode": "markers",
         "showlegend": false,
         "type": "scatter",
         "x": [
          62
         ],
         "y": [
          -25
         ]
        },
        {
         "marker": {
          "color": "blue",
          "opacity": 0.5,
          "size": 1.2195121951219512
         },
         "mode": "markers",
         "showlegend": false,
         "type": "scatter",
         "x": [
          62
         ],
         "y": [
          -24
         ]
        },
        {
         "marker": {
          "color": "blue",
          "opacity": 0.5,
          "size": 1.2195121951219512
         },
         "mode": "markers",
         "showlegend": false,
         "type": "scatter",
         "x": [
          62
         ],
         "y": [
          -22
         ]
        },
        {
         "marker": {
          "color": "blue",
          "opacity": 0.5,
          "size": 2.4390243902439024
         },
         "mode": "markers",
         "showlegend": false,
         "type": "scatter",
         "x": [
          62
         ],
         "y": [
          -21
         ]
        },
        {
         "marker": {
          "color": "blue",
          "opacity": 0.5,
          "size": 1.2195121951219512
         },
         "mode": "markers",
         "showlegend": false,
         "type": "scatter",
         "x": [
          62
         ],
         "y": [
          -19
         ]
        },
        {
         "marker": {
          "color": "blue",
          "opacity": 0.5,
          "size": 1.2195121951219512
         },
         "mode": "markers",
         "showlegend": false,
         "type": "scatter",
         "x": [
          62
         ],
         "y": [
          -18
         ]
        },
        {
         "marker": {
          "color": "blue",
          "opacity": 0.5,
          "size": 1.2195121951219512
         },
         "mode": "markers",
         "showlegend": false,
         "type": "scatter",
         "x": [
          62
         ],
         "y": [
          -17
         ]
        },
        {
         "marker": {
          "color": "blue",
          "opacity": 0.5,
          "size": 1.2195121951219512
         },
         "mode": "markers",
         "showlegend": false,
         "type": "scatter",
         "x": [
          62
         ],
         "y": [
          -10
         ]
        },
        {
         "marker": {
          "color": "blue",
          "opacity": 0.5,
          "size": 2.4390243902439024
         },
         "mode": "markers",
         "showlegend": false,
         "type": "scatter",
         "x": [
          62
         ],
         "y": [
          -8
         ]
        },
        {
         "marker": {
          "color": "blue",
          "opacity": 0.5,
          "size": 1.2195121951219512
         },
         "mode": "markers",
         "showlegend": false,
         "type": "scatter",
         "x": [
          62
         ],
         "y": [
          -3
         ]
        },
        {
         "marker": {
          "color": "blue",
          "opacity": 0.5,
          "size": 1.2195121951219512
         },
         "mode": "markers",
         "showlegend": false,
         "type": "scatter",
         "x": [
          62
         ],
         "y": [
          -1
         ]
        },
        {
         "marker": {
          "color": "blue",
          "opacity": 0.5,
          "size": 1.2195121951219512
         },
         "mode": "markers",
         "showlegend": false,
         "type": "scatter",
         "x": [
          62
         ],
         "y": [
          0
         ]
        },
        {
         "marker": {
          "color": "blue",
          "opacity": 0.5,
          "size": 1.2195121951219512
         },
         "mode": "markers",
         "showlegend": false,
         "type": "scatter",
         "x": [
          62
         ],
         "y": [
          1
         ]
        },
        {
         "marker": {
          "color": "blue",
          "opacity": 0.5,
          "size": 2.4390243902439024
         },
         "mode": "markers",
         "showlegend": false,
         "type": "scatter",
         "x": [
          62
         ],
         "y": [
          2
         ]
        },
        {
         "marker": {
          "color": "blue",
          "opacity": 0.5,
          "size": 1.2195121951219512
         },
         "mode": "markers",
         "showlegend": false,
         "type": "scatter",
         "x": [
          62
         ],
         "y": [
          7
         ]
        },
        {
         "marker": {
          "color": "blue",
          "opacity": 0.5,
          "size": 1.2195121951219512
         },
         "mode": "markers",
         "showlegend": false,
         "type": "scatter",
         "x": [
          62
         ],
         "y": [
          8
         ]
        },
        {
         "marker": {
          "color": "blue",
          "opacity": 0.5,
          "size": 1.2195121951219512
         },
         "mode": "markers",
         "showlegend": false,
         "type": "scatter",
         "x": [
          62
         ],
         "y": [
          9
         ]
        },
        {
         "marker": {
          "color": "blue",
          "opacity": 0.5,
          "size": 1.2195121951219512
         },
         "mode": "markers",
         "showlegend": false,
         "type": "scatter",
         "x": [
          62
         ],
         "y": [
          11
         ]
        },
        {
         "marker": {
          "color": "blue",
          "opacity": 0.5,
          "size": 2.4390243902439024
         },
         "mode": "markers",
         "showlegend": false,
         "type": "scatter",
         "x": [
          62
         ],
         "y": [
          12
         ]
        },
        {
         "marker": {
          "color": "blue",
          "opacity": 0.5,
          "size": 2.4390243902439024
         },
         "mode": "markers",
         "showlegend": false,
         "type": "scatter",
         "x": [
          62
         ],
         "y": [
          13
         ]
        },
        {
         "marker": {
          "color": "blue",
          "opacity": 0.5,
          "size": 2.4390243902439024
         },
         "mode": "markers",
         "showlegend": false,
         "type": "scatter",
         "x": [
          62
         ],
         "y": [
          15
         ]
        },
        {
         "marker": {
          "color": "blue",
          "opacity": 0.5,
          "size": 1.2195121951219512
         },
         "mode": "markers",
         "showlegend": false,
         "type": "scatter",
         "x": [
          62
         ],
         "y": [
          17
         ]
        },
        {
         "marker": {
          "color": "blue",
          "opacity": 0.5,
          "size": 1.2195121951219512
         },
         "mode": "markers",
         "showlegend": false,
         "type": "scatter",
         "x": [
          62
         ],
         "y": [
          18
         ]
        },
        {
         "marker": {
          "color": "blue",
          "opacity": 0.5,
          "size": 1.2195121951219512
         },
         "mode": "markers",
         "showlegend": false,
         "type": "scatter",
         "x": [
          62
         ],
         "y": [
          19
         ]
        },
        {
         "marker": {
          "color": "blue",
          "opacity": 0.5,
          "size": 1.2195121951219512
         },
         "mode": "markers",
         "showlegend": false,
         "type": "scatter",
         "x": [
          62
         ],
         "y": [
          28
         ]
        },
        {
         "marker": {
          "color": "blue",
          "opacity": 0.5,
          "size": 1.2195121951219512
         },
         "mode": "markers",
         "showlegend": false,
         "type": "scatter",
         "x": [
          62
         ],
         "y": [
          32
         ]
        },
        {
         "marker": {
          "color": "blue",
          "opacity": 0.5,
          "size": 1.2195121951219512
         },
         "mode": "markers",
         "showlegend": false,
         "type": "scatter",
         "x": [
          63
         ],
         "y": [
          -36
         ]
        },
        {
         "marker": {
          "color": "blue",
          "opacity": 0.5,
          "size": 1.2195121951219512
         },
         "mode": "markers",
         "showlegend": false,
         "type": "scatter",
         "x": [
          63
         ],
         "y": [
          -31
         ]
        },
        {
         "marker": {
          "color": "blue",
          "opacity": 0.5,
          "size": 2.4390243902439024
         },
         "mode": "markers",
         "showlegend": false,
         "type": "scatter",
         "x": [
          63
         ],
         "y": [
          -29
         ]
        },
        {
         "marker": {
          "color": "blue",
          "opacity": 0.5,
          "size": 1.2195121951219512
         },
         "mode": "markers",
         "showlegend": false,
         "type": "scatter",
         "x": [
          63
         ],
         "y": [
          -27
         ]
        },
        {
         "marker": {
          "color": "blue",
          "opacity": 0.5,
          "size": 2.4390243902439024
         },
         "mode": "markers",
         "showlegend": false,
         "type": "scatter",
         "x": [
          63
         ],
         "y": [
          -26
         ]
        },
        {
         "marker": {
          "color": "blue",
          "opacity": 0.5,
          "size": 1.2195121951219512
         },
         "mode": "markers",
         "showlegend": false,
         "type": "scatter",
         "x": [
          63
         ],
         "y": [
          -25
         ]
        },
        {
         "marker": {
          "color": "blue",
          "opacity": 0.5,
          "size": 3.6585365853658534
         },
         "mode": "markers",
         "showlegend": false,
         "type": "scatter",
         "x": [
          63
         ],
         "y": [
          -23
         ]
        },
        {
         "marker": {
          "color": "blue",
          "opacity": 0.5,
          "size": 2.4390243902439024
         },
         "mode": "markers",
         "showlegend": false,
         "type": "scatter",
         "x": [
          63
         ],
         "y": [
          -20
         ]
        },
        {
         "marker": {
          "color": "blue",
          "opacity": 0.5,
          "size": 1.2195121951219512
         },
         "mode": "markers",
         "showlegend": false,
         "type": "scatter",
         "x": [
          63
         ],
         "y": [
          -18
         ]
        },
        {
         "marker": {
          "color": "blue",
          "opacity": 0.5,
          "size": 2.4390243902439024
         },
         "mode": "markers",
         "showlegend": false,
         "type": "scatter",
         "x": [
          63
         ],
         "y": [
          -17
         ]
        },
        {
         "marker": {
          "color": "blue",
          "opacity": 0.5,
          "size": 1.2195121951219512
         },
         "mode": "markers",
         "showlegend": false,
         "type": "scatter",
         "x": [
          63
         ],
         "y": [
          -16
         ]
        },
        {
         "marker": {
          "color": "blue",
          "opacity": 0.5,
          "size": 1.2195121951219512
         },
         "mode": "markers",
         "showlegend": false,
         "type": "scatter",
         "x": [
          63
         ],
         "y": [
          -15
         ]
        },
        {
         "marker": {
          "color": "blue",
          "opacity": 0.5,
          "size": 2.4390243902439024
         },
         "mode": "markers",
         "showlegend": false,
         "type": "scatter",
         "x": [
          63
         ],
         "y": [
          -13
         ]
        },
        {
         "marker": {
          "color": "blue",
          "opacity": 0.5,
          "size": 2.4390243902439024
         },
         "mode": "markers",
         "showlegend": false,
         "type": "scatter",
         "x": [
          63
         ],
         "y": [
          -12
         ]
        },
        {
         "marker": {
          "color": "blue",
          "opacity": 0.5,
          "size": 1.2195121951219512
         },
         "mode": "markers",
         "showlegend": false,
         "type": "scatter",
         "x": [
          63
         ],
         "y": [
          -9
         ]
        },
        {
         "marker": {
          "color": "blue",
          "opacity": 0.5,
          "size": 1.2195121951219512
         },
         "mode": "markers",
         "showlegend": false,
         "type": "scatter",
         "x": [
          63
         ],
         "y": [
          -7
         ]
        },
        {
         "marker": {
          "color": "blue",
          "opacity": 0.5,
          "size": 1.2195121951219512
         },
         "mode": "markers",
         "showlegend": false,
         "type": "scatter",
         "x": [
          63
         ],
         "y": [
          -5
         ]
        },
        {
         "marker": {
          "color": "blue",
          "opacity": 0.5,
          "size": 1.2195121951219512
         },
         "mode": "markers",
         "showlegend": false,
         "type": "scatter",
         "x": [
          63
         ],
         "y": [
          -4
         ]
        },
        {
         "marker": {
          "color": "blue",
          "opacity": 0.5,
          "size": 1.2195121951219512
         },
         "mode": "markers",
         "showlegend": false,
         "type": "scatter",
         "x": [
          63
         ],
         "y": [
          -3
         ]
        },
        {
         "marker": {
          "color": "blue",
          "opacity": 0.5,
          "size": 1.2195121951219512
         },
         "mode": "markers",
         "showlegend": false,
         "type": "scatter",
         "x": [
          63
         ],
         "y": [
          -1
         ]
        },
        {
         "marker": {
          "color": "blue",
          "opacity": 0.5,
          "size": 1.2195121951219512
         },
         "mode": "markers",
         "showlegend": false,
         "type": "scatter",
         "x": [
          63
         ],
         "y": [
          1
         ]
        },
        {
         "marker": {
          "color": "blue",
          "opacity": 0.5,
          "size": 1.2195121951219512
         },
         "mode": "markers",
         "showlegend": false,
         "type": "scatter",
         "x": [
          63
         ],
         "y": [
          2
         ]
        },
        {
         "marker": {
          "color": "blue",
          "opacity": 0.5,
          "size": 2.4390243902439024
         },
         "mode": "markers",
         "showlegend": false,
         "type": "scatter",
         "x": [
          63
         ],
         "y": [
          3
         ]
        },
        {
         "marker": {
          "color": "blue",
          "opacity": 0.5,
          "size": 1.2195121951219512
         },
         "mode": "markers",
         "showlegend": false,
         "type": "scatter",
         "x": [
          63
         ],
         "y": [
          4
         ]
        },
        {
         "marker": {
          "color": "blue",
          "opacity": 0.5,
          "size": 3.6585365853658534
         },
         "mode": "markers",
         "showlegend": false,
         "type": "scatter",
         "x": [
          63
         ],
         "y": [
          7
         ]
        },
        {
         "marker": {
          "color": "blue",
          "opacity": 0.5,
          "size": 2.4390243902439024
         },
         "mode": "markers",
         "showlegend": false,
         "type": "scatter",
         "x": [
          63
         ],
         "y": [
          8
         ]
        },
        {
         "marker": {
          "color": "blue",
          "opacity": 0.5,
          "size": 1.2195121951219512
         },
         "mode": "markers",
         "showlegend": false,
         "type": "scatter",
         "x": [
          63
         ],
         "y": [
          11
         ]
        },
        {
         "marker": {
          "color": "blue",
          "opacity": 0.5,
          "size": 2.4390243902439024
         },
         "mode": "markers",
         "showlegend": false,
         "type": "scatter",
         "x": [
          63
         ],
         "y": [
          13
         ]
        },
        {
         "marker": {
          "color": "blue",
          "opacity": 0.5,
          "size": 3.6585365853658534
         },
         "mode": "markers",
         "showlegend": false,
         "type": "scatter",
         "x": [
          63
         ],
         "y": [
          14
         ]
        },
        {
         "marker": {
          "color": "blue",
          "opacity": 0.5,
          "size": 3.6585365853658534
         },
         "mode": "markers",
         "showlegend": false,
         "type": "scatter",
         "x": [
          63
         ],
         "y": [
          15
         ]
        },
        {
         "marker": {
          "color": "blue",
          "opacity": 0.5,
          "size": 1.2195121951219512
         },
         "mode": "markers",
         "showlegend": false,
         "type": "scatter",
         "x": [
          63
         ],
         "y": [
          20
         ]
        },
        {
         "marker": {
          "color": "blue",
          "opacity": 0.5,
          "size": 1.2195121951219512
         },
         "mode": "markers",
         "showlegend": false,
         "type": "scatter",
         "x": [
          63
         ],
         "y": [
          22
         ]
        },
        {
         "marker": {
          "color": "blue",
          "opacity": 0.5,
          "size": 1.2195121951219512
         },
         "mode": "markers",
         "showlegend": false,
         "type": "scatter",
         "x": [
          63
         ],
         "y": [
          23
         ]
        },
        {
         "marker": {
          "color": "blue",
          "opacity": 0.5,
          "size": 1.2195121951219512
         },
         "mode": "markers",
         "showlegend": false,
         "type": "scatter",
         "x": [
          63
         ],
         "y": [
          26
         ]
        },
        {
         "marker": {
          "color": "blue",
          "opacity": 0.5,
          "size": 1.2195121951219512
         },
         "mode": "markers",
         "showlegend": false,
         "type": "scatter",
         "x": [
          63
         ],
         "y": [
          27
         ]
        },
        {
         "marker": {
          "color": "blue",
          "opacity": 0.5,
          "size": 1.2195121951219512
         },
         "mode": "markers",
         "showlegend": false,
         "type": "scatter",
         "x": [
          63
         ],
         "y": [
          29
         ]
        },
        {
         "marker": {
          "color": "blue",
          "opacity": 0.5,
          "size": 1.2195121951219512
         },
         "mode": "markers",
         "showlegend": false,
         "type": "scatter",
         "x": [
          63
         ],
         "y": [
          33
         ]
        },
        {
         "marker": {
          "color": "blue",
          "opacity": 0.5,
          "size": 1.2195121951219512
         },
         "mode": "markers",
         "showlegend": false,
         "type": "scatter",
         "x": [
          63
         ],
         "y": [
          34
         ]
        },
        {
         "marker": {
          "color": "blue",
          "opacity": 0.5,
          "size": 1.2195121951219512
         },
         "mode": "markers",
         "showlegend": false,
         "type": "scatter",
         "x": [
          64
         ],
         "y": [
          -33
         ]
        },
        {
         "marker": {
          "color": "blue",
          "opacity": 0.5,
          "size": 1.2195121951219512
         },
         "mode": "markers",
         "showlegend": false,
         "type": "scatter",
         "x": [
          64
         ],
         "y": [
          -31
         ]
        },
        {
         "marker": {
          "color": "blue",
          "opacity": 0.5,
          "size": 1.2195121951219512
         },
         "mode": "markers",
         "showlegend": false,
         "type": "scatter",
         "x": [
          64
         ],
         "y": [
          -30
         ]
        },
        {
         "marker": {
          "color": "blue",
          "opacity": 0.5,
          "size": 3.6585365853658534
         },
         "mode": "markers",
         "showlegend": false,
         "type": "scatter",
         "x": [
          64
         ],
         "y": [
          -29
         ]
        },
        {
         "marker": {
          "color": "blue",
          "opacity": 0.5,
          "size": 2.4390243902439024
         },
         "mode": "markers",
         "showlegend": false,
         "type": "scatter",
         "x": [
          64
         ],
         "y": [
          -24
         ]
        },
        {
         "marker": {
          "color": "blue",
          "opacity": 0.5,
          "size": 1.2195121951219512
         },
         "mode": "markers",
         "showlegend": false,
         "type": "scatter",
         "x": [
          64
         ],
         "y": [
          -22
         ]
        },
        {
         "marker": {
          "color": "blue",
          "opacity": 0.5,
          "size": 1.2195121951219512
         },
         "mode": "markers",
         "showlegend": false,
         "type": "scatter",
         "x": [
          64
         ],
         "y": [
          -21
         ]
        },
        {
         "marker": {
          "color": "blue",
          "opacity": 0.5,
          "size": 2.4390243902439024
         },
         "mode": "markers",
         "showlegend": false,
         "type": "scatter",
         "x": [
          64
         ],
         "y": [
          -20
         ]
        },
        {
         "marker": {
          "color": "blue",
          "opacity": 0.5,
          "size": 1.2195121951219512
         },
         "mode": "markers",
         "showlegend": false,
         "type": "scatter",
         "x": [
          64
         ],
         "y": [
          -18
         ]
        },
        {
         "marker": {
          "color": "blue",
          "opacity": 0.5,
          "size": 1.2195121951219512
         },
         "mode": "markers",
         "showlegend": false,
         "type": "scatter",
         "x": [
          64
         ],
         "y": [
          -17
         ]
        },
        {
         "marker": {
          "color": "blue",
          "opacity": 0.5,
          "size": 1.2195121951219512
         },
         "mode": "markers",
         "showlegend": false,
         "type": "scatter",
         "x": [
          64
         ],
         "y": [
          -14
         ]
        },
        {
         "marker": {
          "color": "blue",
          "opacity": 0.5,
          "size": 1.2195121951219512
         },
         "mode": "markers",
         "showlegend": false,
         "type": "scatter",
         "x": [
          64
         ],
         "y": [
          -12
         ]
        },
        {
         "marker": {
          "color": "blue",
          "opacity": 0.5,
          "size": 1.2195121951219512
         },
         "mode": "markers",
         "showlegend": false,
         "type": "scatter",
         "x": [
          64
         ],
         "y": [
          -7
         ]
        },
        {
         "marker": {
          "color": "blue",
          "opacity": 0.5,
          "size": 1.2195121951219512
         },
         "mode": "markers",
         "showlegend": false,
         "type": "scatter",
         "x": [
          64
         ],
         "y": [
          -5
         ]
        },
        {
         "marker": {
          "color": "blue",
          "opacity": 0.5,
          "size": 2.4390243902439024
         },
         "mode": "markers",
         "showlegend": false,
         "type": "scatter",
         "x": [
          64
         ],
         "y": [
          -4
         ]
        },
        {
         "marker": {
          "color": "blue",
          "opacity": 0.5,
          "size": 1.2195121951219512
         },
         "mode": "markers",
         "showlegend": false,
         "type": "scatter",
         "x": [
          64
         ],
         "y": [
          -3
         ]
        },
        {
         "marker": {
          "color": "blue",
          "opacity": 0.5,
          "size": 2.4390243902439024
         },
         "mode": "markers",
         "showlegend": false,
         "type": "scatter",
         "x": [
          64
         ],
         "y": [
          -1
         ]
        },
        {
         "marker": {
          "color": "blue",
          "opacity": 0.5,
          "size": 1.2195121951219512
         },
         "mode": "markers",
         "showlegend": false,
         "type": "scatter",
         "x": [
          64
         ],
         "y": [
          1
         ]
        },
        {
         "marker": {
          "color": "blue",
          "opacity": 0.5,
          "size": 1.2195121951219512
         },
         "mode": "markers",
         "showlegend": false,
         "type": "scatter",
         "x": [
          64
         ],
         "y": [
          4
         ]
        },
        {
         "marker": {
          "color": "blue",
          "opacity": 0.5,
          "size": 1.2195121951219512
         },
         "mode": "markers",
         "showlegend": false,
         "type": "scatter",
         "x": [
          64
         ],
         "y": [
          6
         ]
        },
        {
         "marker": {
          "color": "blue",
          "opacity": 0.5,
          "size": 1.2195121951219512
         },
         "mode": "markers",
         "showlegend": false,
         "type": "scatter",
         "x": [
          64
         ],
         "y": [
          8
         ]
        },
        {
         "marker": {
          "color": "blue",
          "opacity": 0.5,
          "size": 2.4390243902439024
         },
         "mode": "markers",
         "showlegend": false,
         "type": "scatter",
         "x": [
          64
         ],
         "y": [
          9
         ]
        },
        {
         "marker": {
          "color": "blue",
          "opacity": 0.5,
          "size": 1.2195121951219512
         },
         "mode": "markers",
         "showlegend": false,
         "type": "scatter",
         "x": [
          64
         ],
         "y": [
          10
         ]
        },
        {
         "marker": {
          "color": "blue",
          "opacity": 0.5,
          "size": 1.2195121951219512
         },
         "mode": "markers",
         "showlegend": false,
         "type": "scatter",
         "x": [
          64
         ],
         "y": [
          12
         ]
        },
        {
         "marker": {
          "color": "blue",
          "opacity": 0.5,
          "size": 1.2195121951219512
         },
         "mode": "markers",
         "showlegend": false,
         "type": "scatter",
         "x": [
          64
         ],
         "y": [
          13
         ]
        },
        {
         "marker": {
          "color": "blue",
          "opacity": 0.5,
          "size": 1.2195121951219512
         },
         "mode": "markers",
         "showlegend": false,
         "type": "scatter",
         "x": [
          64
         ],
         "y": [
          14
         ]
        },
        {
         "marker": {
          "color": "blue",
          "opacity": 0.5,
          "size": 1.2195121951219512
         },
         "mode": "markers",
         "showlegend": false,
         "type": "scatter",
         "x": [
          64
         ],
         "y": [
          15
         ]
        },
        {
         "marker": {
          "color": "blue",
          "opacity": 0.5,
          "size": 2.4390243902439024
         },
         "mode": "markers",
         "showlegend": false,
         "type": "scatter",
         "x": [
          64
         ],
         "y": [
          18
         ]
        },
        {
         "marker": {
          "color": "blue",
          "opacity": 0.5,
          "size": 1.2195121951219512
         },
         "mode": "markers",
         "showlegend": false,
         "type": "scatter",
         "x": [
          64
         ],
         "y": [
          19
         ]
        },
        {
         "marker": {
          "color": "blue",
          "opacity": 0.5,
          "size": 1.2195121951219512
         },
         "mode": "markers",
         "showlegend": false,
         "type": "scatter",
         "x": [
          64
         ],
         "y": [
          23
         ]
        },
        {
         "marker": {
          "color": "blue",
          "opacity": 0.5,
          "size": 1.2195121951219512
         },
         "mode": "markers",
         "showlegend": false,
         "type": "scatter",
         "x": [
          64
         ],
         "y": [
          25
         ]
        },
        {
         "marker": {
          "color": "blue",
          "opacity": 0.5,
          "size": 1.2195121951219512
         },
         "mode": "markers",
         "showlegend": false,
         "type": "scatter",
         "x": [
          64
         ],
         "y": [
          26
         ]
        },
        {
         "marker": {
          "color": "blue",
          "opacity": 0.5,
          "size": 1.2195121951219512
         },
         "mode": "markers",
         "showlegend": false,
         "type": "scatter",
         "x": [
          64
         ],
         "y": [
          29
         ]
        },
        {
         "marker": {
          "color": "blue",
          "opacity": 0.5,
          "size": 1.2195121951219512
         },
         "mode": "markers",
         "showlegend": false,
         "type": "scatter",
         "x": [
          64
         ],
         "y": [
          36
         ]
        },
        {
         "marker": {
          "color": "blue",
          "opacity": 0.5,
          "size": 2.4390243902439024
         },
         "mode": "markers",
         "showlegend": false,
         "type": "scatter",
         "x": [
          65
         ],
         "y": [
          -38
         ]
        },
        {
         "marker": {
          "color": "blue",
          "opacity": 0.5,
          "size": 2.4390243902439024
         },
         "mode": "markers",
         "showlegend": false,
         "type": "scatter",
         "x": [
          65
         ],
         "y": [
          -36
         ]
        },
        {
         "marker": {
          "color": "blue",
          "opacity": 0.5,
          "size": 1.2195121951219512
         },
         "mode": "markers",
         "showlegend": false,
         "type": "scatter",
         "x": [
          65
         ],
         "y": [
          -31
         ]
        },
        {
         "marker": {
          "color": "blue",
          "opacity": 0.5,
          "size": 1.2195121951219512
         },
         "mode": "markers",
         "showlegend": false,
         "type": "scatter",
         "x": [
          65
         ],
         "y": [
          -30
         ]
        },
        {
         "marker": {
          "color": "blue",
          "opacity": 0.5,
          "size": 1.2195121951219512
         },
         "mode": "markers",
         "showlegend": false,
         "type": "scatter",
         "x": [
          65
         ],
         "y": [
          -27
         ]
        },
        {
         "marker": {
          "color": "blue",
          "opacity": 0.5,
          "size": 1.2195121951219512
         },
         "mode": "markers",
         "showlegend": false,
         "type": "scatter",
         "x": [
          65
         ],
         "y": [
          -23
         ]
        },
        {
         "marker": {
          "color": "blue",
          "opacity": 0.5,
          "size": 1.2195121951219512
         },
         "mode": "markers",
         "showlegend": false,
         "type": "scatter",
         "x": [
          65
         ],
         "y": [
          -20
         ]
        },
        {
         "marker": {
          "color": "blue",
          "opacity": 0.5,
          "size": 1.2195121951219512
         },
         "mode": "markers",
         "showlegend": false,
         "type": "scatter",
         "x": [
          65
         ],
         "y": [
          -19
         ]
        },
        {
         "marker": {
          "color": "blue",
          "opacity": 0.5,
          "size": 1.2195121951219512
         },
         "mode": "markers",
         "showlegend": false,
         "type": "scatter",
         "x": [
          65
         ],
         "y": [
          -18
         ]
        },
        {
         "marker": {
          "color": "blue",
          "opacity": 0.5,
          "size": 1.2195121951219512
         },
         "mode": "markers",
         "showlegend": false,
         "type": "scatter",
         "x": [
          65
         ],
         "y": [
          -17
         ]
        },
        {
         "marker": {
          "color": "blue",
          "opacity": 0.5,
          "size": 2.4390243902439024
         },
         "mode": "markers",
         "showlegend": false,
         "type": "scatter",
         "x": [
          65
         ],
         "y": [
          -10
         ]
        },
        {
         "marker": {
          "color": "blue",
          "opacity": 0.5,
          "size": 2.4390243902439024
         },
         "mode": "markers",
         "showlegend": false,
         "type": "scatter",
         "x": [
          65
         ],
         "y": [
          -8
         ]
        },
        {
         "marker": {
          "color": "blue",
          "opacity": 0.5,
          "size": 2.4390243902439024
         },
         "mode": "markers",
         "showlegend": false,
         "type": "scatter",
         "x": [
          65
         ],
         "y": [
          -5
         ]
        },
        {
         "marker": {
          "color": "blue",
          "opacity": 0.5,
          "size": 1.2195121951219512
         },
         "mode": "markers",
         "showlegend": false,
         "type": "scatter",
         "x": [
          65
         ],
         "y": [
          -4
         ]
        },
        {
         "marker": {
          "color": "blue",
          "opacity": 0.5,
          "size": 1.2195121951219512
         },
         "mode": "markers",
         "showlegend": false,
         "type": "scatter",
         "x": [
          65
         ],
         "y": [
          -3
         ]
        },
        {
         "marker": {
          "color": "blue",
          "opacity": 0.5,
          "size": 1.2195121951219512
         },
         "mode": "markers",
         "showlegend": false,
         "type": "scatter",
         "x": [
          65
         ],
         "y": [
          -1
         ]
        },
        {
         "marker": {
          "color": "blue",
          "opacity": 0.5,
          "size": 2.4390243902439024
         },
         "mode": "markers",
         "showlegend": false,
         "type": "scatter",
         "x": [
          65
         ],
         "y": [
          1
         ]
        },
        {
         "marker": {
          "color": "blue",
          "opacity": 0.5,
          "size": 1.2195121951219512
         },
         "mode": "markers",
         "showlegend": false,
         "type": "scatter",
         "x": [
          65
         ],
         "y": [
          2
         ]
        },
        {
         "marker": {
          "color": "blue",
          "opacity": 0.5,
          "size": 2.4390243902439024
         },
         "mode": "markers",
         "showlegend": false,
         "type": "scatter",
         "x": [
          65
         ],
         "y": [
          3
         ]
        },
        {
         "marker": {
          "color": "blue",
          "opacity": 0.5,
          "size": 1.2195121951219512
         },
         "mode": "markers",
         "showlegend": false,
         "type": "scatter",
         "x": [
          65
         ],
         "y": [
          6
         ]
        },
        {
         "marker": {
          "color": "blue",
          "opacity": 0.5,
          "size": 1.2195121951219512
         },
         "mode": "markers",
         "showlegend": false,
         "type": "scatter",
         "x": [
          65
         ],
         "y": [
          8
         ]
        },
        {
         "marker": {
          "color": "blue",
          "opacity": 0.5,
          "size": 1.2195121951219512
         },
         "mode": "markers",
         "showlegend": false,
         "type": "scatter",
         "x": [
          65
         ],
         "y": [
          9
         ]
        },
        {
         "marker": {
          "color": "blue",
          "opacity": 0.5,
          "size": 2.4390243902439024
         },
         "mode": "markers",
         "showlegend": false,
         "type": "scatter",
         "x": [
          65
         ],
         "y": [
          10
         ]
        },
        {
         "marker": {
          "color": "blue",
          "opacity": 0.5,
          "size": 1.2195121951219512
         },
         "mode": "markers",
         "showlegend": false,
         "type": "scatter",
         "x": [
          65
         ],
         "y": [
          12
         ]
        },
        {
         "marker": {
          "color": "blue",
          "opacity": 0.5,
          "size": 1.2195121951219512
         },
         "mode": "markers",
         "showlegend": false,
         "type": "scatter",
         "x": [
          65
         ],
         "y": [
          14
         ]
        },
        {
         "marker": {
          "color": "blue",
          "opacity": 0.5,
          "size": 1.2195121951219512
         },
         "mode": "markers",
         "showlegend": false,
         "type": "scatter",
         "x": [
          65
         ],
         "y": [
          20
         ]
        },
        {
         "marker": {
          "color": "blue",
          "opacity": 0.5,
          "size": 1.2195121951219512
         },
         "mode": "markers",
         "showlegend": false,
         "type": "scatter",
         "x": [
          65
         ],
         "y": [
          21
         ]
        },
        {
         "marker": {
          "color": "blue",
          "opacity": 0.5,
          "size": 2.4390243902439024
         },
         "mode": "markers",
         "showlegend": false,
         "type": "scatter",
         "x": [
          65
         ],
         "y": [
          24
         ]
        },
        {
         "marker": {
          "color": "blue",
          "opacity": 0.5,
          "size": 1.2195121951219512
         },
         "mode": "markers",
         "showlegend": false,
         "type": "scatter",
         "x": [
          65
         ],
         "y": [
          31
         ]
        },
        {
         "marker": {
          "color": "blue",
          "opacity": 0.5,
          "size": 1.2195121951219512
         },
         "mode": "markers",
         "showlegend": false,
         "type": "scatter",
         "x": [
          65
         ],
         "y": [
          35
         ]
        },
        {
         "marker": {
          "color": "blue",
          "opacity": 0.5,
          "size": 2.4390243902439024
         },
         "mode": "markers",
         "showlegend": false,
         "type": "scatter",
         "x": [
          66
         ],
         "y": [
          -35
         ]
        },
        {
         "marker": {
          "color": "blue",
          "opacity": 0.5,
          "size": 1.2195121951219512
         },
         "mode": "markers",
         "showlegend": false,
         "type": "scatter",
         "x": [
          66
         ],
         "y": [
          -31
         ]
        },
        {
         "marker": {
          "color": "blue",
          "opacity": 0.5,
          "size": 1.2195121951219512
         },
         "mode": "markers",
         "showlegend": false,
         "type": "scatter",
         "x": [
          66
         ],
         "y": [
          -30
         ]
        },
        {
         "marker": {
          "color": "blue",
          "opacity": 0.5,
          "size": 1.2195121951219512
         },
         "mode": "markers",
         "showlegend": false,
         "type": "scatter",
         "x": [
          66
         ],
         "y": [
          -29
         ]
        },
        {
         "marker": {
          "color": "blue",
          "opacity": 0.5,
          "size": 2.4390243902439024
         },
         "mode": "markers",
         "showlegend": false,
         "type": "scatter",
         "x": [
          66
         ],
         "y": [
          -28
         ]
        },
        {
         "marker": {
          "color": "blue",
          "opacity": 0.5,
          "size": 1.2195121951219512
         },
         "mode": "markers",
         "showlegend": false,
         "type": "scatter",
         "x": [
          66
         ],
         "y": [
          -27
         ]
        },
        {
         "marker": {
          "color": "blue",
          "opacity": 0.5,
          "size": 2.4390243902439024
         },
         "mode": "markers",
         "showlegend": false,
         "type": "scatter",
         "x": [
          66
         ],
         "y": [
          -24
         ]
        },
        {
         "marker": {
          "color": "blue",
          "opacity": 0.5,
          "size": 1.2195121951219512
         },
         "mode": "markers",
         "showlegend": false,
         "type": "scatter",
         "x": [
          66
         ],
         "y": [
          -21
         ]
        },
        {
         "marker": {
          "color": "blue",
          "opacity": 0.5,
          "size": 1.2195121951219512
         },
         "mode": "markers",
         "showlegend": false,
         "type": "scatter",
         "x": [
          66
         ],
         "y": [
          -20
         ]
        },
        {
         "marker": {
          "color": "blue",
          "opacity": 0.5,
          "size": 1.2195121951219512
         },
         "mode": "markers",
         "showlegend": false,
         "type": "scatter",
         "x": [
          66
         ],
         "y": [
          -19
         ]
        },
        {
         "marker": {
          "color": "blue",
          "opacity": 0.5,
          "size": 2.4390243902439024
         },
         "mode": "markers",
         "showlegend": false,
         "type": "scatter",
         "x": [
          66
         ],
         "y": [
          -18
         ]
        },
        {
         "marker": {
          "color": "blue",
          "opacity": 0.5,
          "size": 1.2195121951219512
         },
         "mode": "markers",
         "showlegend": false,
         "type": "scatter",
         "x": [
          66
         ],
         "y": [
          -17
         ]
        },
        {
         "marker": {
          "color": "blue",
          "opacity": 0.5,
          "size": 2.4390243902439024
         },
         "mode": "markers",
         "showlegend": false,
         "type": "scatter",
         "x": [
          66
         ],
         "y": [
          -16
         ]
        },
        {
         "marker": {
          "color": "blue",
          "opacity": 0.5,
          "size": 1.2195121951219512
         },
         "mode": "markers",
         "showlegend": false,
         "type": "scatter",
         "x": [
          66
         ],
         "y": [
          -15
         ]
        },
        {
         "marker": {
          "color": "blue",
          "opacity": 0.5,
          "size": 1.2195121951219512
         },
         "mode": "markers",
         "showlegend": false,
         "type": "scatter",
         "x": [
          66
         ],
         "y": [
          -12
         ]
        },
        {
         "marker": {
          "color": "blue",
          "opacity": 0.5,
          "size": 1.2195121951219512
         },
         "mode": "markers",
         "showlegend": false,
         "type": "scatter",
         "x": [
          66
         ],
         "y": [
          -11
         ]
        },
        {
         "marker": {
          "color": "blue",
          "opacity": 0.5,
          "size": 2.4390243902439024
         },
         "mode": "markers",
         "showlegend": false,
         "type": "scatter",
         "x": [
          66
         ],
         "y": [
          -10
         ]
        },
        {
         "marker": {
          "color": "blue",
          "opacity": 0.5,
          "size": 1.2195121951219512
         },
         "mode": "markers",
         "showlegend": false,
         "type": "scatter",
         "x": [
          66
         ],
         "y": [
          -9
         ]
        },
        {
         "marker": {
          "color": "blue",
          "opacity": 0.5,
          "size": 2.4390243902439024
         },
         "mode": "markers",
         "showlegend": false,
         "type": "scatter",
         "x": [
          66
         ],
         "y": [
          -2
         ]
        },
        {
         "marker": {
          "color": "blue",
          "opacity": 0.5,
          "size": 3.6585365853658534
         },
         "mode": "markers",
         "showlegend": false,
         "type": "scatter",
         "x": [
          66
         ],
         "y": [
          -1
         ]
        },
        {
         "marker": {
          "color": "blue",
          "opacity": 0.5,
          "size": 1.2195121951219512
         },
         "mode": "markers",
         "showlegend": false,
         "type": "scatter",
         "x": [
          66
         ],
         "y": [
          0
         ]
        },
        {
         "marker": {
          "color": "blue",
          "opacity": 0.5,
          "size": 2.4390243902439024
         },
         "mode": "markers",
         "showlegend": false,
         "type": "scatter",
         "x": [
          66
         ],
         "y": [
          1
         ]
        },
        {
         "marker": {
          "color": "blue",
          "opacity": 0.5,
          "size": 2.4390243902439024
         },
         "mode": "markers",
         "showlegend": false,
         "type": "scatter",
         "x": [
          66
         ],
         "y": [
          2
         ]
        },
        {
         "marker": {
          "color": "blue",
          "opacity": 0.5,
          "size": 1.2195121951219512
         },
         "mode": "markers",
         "showlegend": false,
         "type": "scatter",
         "x": [
          66
         ],
         "y": [
          5
         ]
        },
        {
         "marker": {
          "color": "blue",
          "opacity": 0.5,
          "size": 1.2195121951219512
         },
         "mode": "markers",
         "showlegend": false,
         "type": "scatter",
         "x": [
          66
         ],
         "y": [
          8
         ]
        },
        {
         "marker": {
          "color": "blue",
          "opacity": 0.5,
          "size": 1.2195121951219512
         },
         "mode": "markers",
         "showlegend": false,
         "type": "scatter",
         "x": [
          66
         ],
         "y": [
          12
         ]
        },
        {
         "marker": {
          "color": "blue",
          "opacity": 0.5,
          "size": 1.2195121951219512
         },
         "mode": "markers",
         "showlegend": false,
         "type": "scatter",
         "x": [
          66
         ],
         "y": [
          13
         ]
        },
        {
         "marker": {
          "color": "blue",
          "opacity": 0.5,
          "size": 1.2195121951219512
         },
         "mode": "markers",
         "showlegend": false,
         "type": "scatter",
         "x": [
          66
         ],
         "y": [
          16
         ]
        },
        {
         "marker": {
          "color": "blue",
          "opacity": 0.5,
          "size": 1.2195121951219512
         },
         "mode": "markers",
         "showlegend": false,
         "type": "scatter",
         "x": [
          66
         ],
         "y": [
          17
         ]
        },
        {
         "marker": {
          "color": "blue",
          "opacity": 0.5,
          "size": 1.2195121951219512
         },
         "mode": "markers",
         "showlegend": false,
         "type": "scatter",
         "x": [
          66
         ],
         "y": [
          18
         ]
        },
        {
         "marker": {
          "color": "blue",
          "opacity": 0.5,
          "size": 3.6585365853658534
         },
         "mode": "markers",
         "showlegend": false,
         "type": "scatter",
         "x": [
          66
         ],
         "y": [
          20
         ]
        },
        {
         "marker": {
          "color": "blue",
          "opacity": 0.5,
          "size": 1.2195121951219512
         },
         "mode": "markers",
         "showlegend": false,
         "type": "scatter",
         "x": [
          66
         ],
         "y": [
          22
         ]
        },
        {
         "marker": {
          "color": "blue",
          "opacity": 0.5,
          "size": 2.4390243902439024
         },
         "mode": "markers",
         "showlegend": false,
         "type": "scatter",
         "x": [
          66
         ],
         "y": [
          23
         ]
        },
        {
         "marker": {
          "color": "blue",
          "opacity": 0.5,
          "size": 1.2195121951219512
         },
         "mode": "markers",
         "showlegend": false,
         "type": "scatter",
         "x": [
          66
         ],
         "y": [
          29
         ]
        },
        {
         "marker": {
          "color": "blue",
          "opacity": 0.5,
          "size": 1.2195121951219512
         },
         "mode": "markers",
         "showlegend": false,
         "type": "scatter",
         "x": [
          66
         ],
         "y": [
          35
         ]
        },
        {
         "marker": {
          "color": "blue",
          "opacity": 0.5,
          "size": 2.4390243902439024
         },
         "mode": "markers",
         "showlegend": false,
         "type": "scatter",
         "x": [
          66
         ],
         "y": [
          36
         ]
        },
        {
         "marker": {
          "color": "blue",
          "opacity": 0.5,
          "size": 1.2195121951219512
         },
         "mode": "markers",
         "showlegend": false,
         "type": "scatter",
         "x": [
          66
         ],
         "y": [
          37
         ]
        },
        {
         "marker": {
          "color": "blue",
          "opacity": 0.5,
          "size": 1.2195121951219512
         },
         "mode": "markers",
         "showlegend": false,
         "type": "scatter",
         "x": [
          67
         ],
         "y": [
          -35
         ]
        },
        {
         "marker": {
          "color": "blue",
          "opacity": 0.5,
          "size": 1.2195121951219512
         },
         "mode": "markers",
         "showlegend": false,
         "type": "scatter",
         "x": [
          67
         ],
         "y": [
          -34
         ]
        },
        {
         "marker": {
          "color": "blue",
          "opacity": 0.5,
          "size": 2.4390243902439024
         },
         "mode": "markers",
         "showlegend": false,
         "type": "scatter",
         "x": [
          67
         ],
         "y": [
          -33
         ]
        },
        {
         "marker": {
          "color": "blue",
          "opacity": 0.5,
          "size": 1.2195121951219512
         },
         "mode": "markers",
         "showlegend": false,
         "type": "scatter",
         "x": [
          67
         ],
         "y": [
          -32
         ]
        },
        {
         "marker": {
          "color": "blue",
          "opacity": 0.5,
          "size": 1.2195121951219512
         },
         "mode": "markers",
         "showlegend": false,
         "type": "scatter",
         "x": [
          67
         ],
         "y": [
          -30
         ]
        },
        {
         "marker": {
          "color": "blue",
          "opacity": 0.5,
          "size": 2.4390243902439024
         },
         "mode": "markers",
         "showlegend": false,
         "type": "scatter",
         "x": [
          67
         ],
         "y": [
          -29
         ]
        },
        {
         "marker": {
          "color": "blue",
          "opacity": 0.5,
          "size": 1.2195121951219512
         },
         "mode": "markers",
         "showlegend": false,
         "type": "scatter",
         "x": [
          67
         ],
         "y": [
          -28
         ]
        },
        {
         "marker": {
          "color": "blue",
          "opacity": 0.5,
          "size": 1.2195121951219512
         },
         "mode": "markers",
         "showlegend": false,
         "type": "scatter",
         "x": [
          67
         ],
         "y": [
          -27
         ]
        },
        {
         "marker": {
          "color": "blue",
          "opacity": 0.5,
          "size": 2.4390243902439024
         },
         "mode": "markers",
         "showlegend": false,
         "type": "scatter",
         "x": [
          67
         ],
         "y": [
          -23
         ]
        },
        {
         "marker": {
          "color": "blue",
          "opacity": 0.5,
          "size": 1.2195121951219512
         },
         "mode": "markers",
         "showlegend": false,
         "type": "scatter",
         "x": [
          67
         ],
         "y": [
          -21
         ]
        },
        {
         "marker": {
          "color": "blue",
          "opacity": 0.5,
          "size": 1.2195121951219512
         },
         "mode": "markers",
         "showlegend": false,
         "type": "scatter",
         "x": [
          67
         ],
         "y": [
          -19
         ]
        },
        {
         "marker": {
          "color": "blue",
          "opacity": 0.5,
          "size": 1.2195121951219512
         },
         "mode": "markers",
         "showlegend": false,
         "type": "scatter",
         "x": [
          67
         ],
         "y": [
          -18
         ]
        },
        {
         "marker": {
          "color": "blue",
          "opacity": 0.5,
          "size": 1.2195121951219512
         },
         "mode": "markers",
         "showlegend": false,
         "type": "scatter",
         "x": [
          67
         ],
         "y": [
          -17
         ]
        },
        {
         "marker": {
          "color": "blue",
          "opacity": 0.5,
          "size": 2.4390243902439024
         },
         "mode": "markers",
         "showlegend": false,
         "type": "scatter",
         "x": [
          67
         ],
         "y": [
          -15
         ]
        },
        {
         "marker": {
          "color": "blue",
          "opacity": 0.5,
          "size": 2.4390243902439024
         },
         "mode": "markers",
         "showlegend": false,
         "type": "scatter",
         "x": [
          67
         ],
         "y": [
          -10
         ]
        },
        {
         "marker": {
          "color": "blue",
          "opacity": 0.5,
          "size": 2.4390243902439024
         },
         "mode": "markers",
         "showlegend": false,
         "type": "scatter",
         "x": [
          67
         ],
         "y": [
          -8
         ]
        },
        {
         "marker": {
          "color": "blue",
          "opacity": 0.5,
          "size": 2.4390243902439024
         },
         "mode": "markers",
         "showlegend": false,
         "type": "scatter",
         "x": [
          67
         ],
         "y": [
          -4
         ]
        },
        {
         "marker": {
          "color": "blue",
          "opacity": 0.5,
          "size": 1.2195121951219512
         },
         "mode": "markers",
         "showlegend": false,
         "type": "scatter",
         "x": [
          67
         ],
         "y": [
          -2
         ]
        },
        {
         "marker": {
          "color": "blue",
          "opacity": 0.5,
          "size": 1.2195121951219512
         },
         "mode": "markers",
         "showlegend": false,
         "type": "scatter",
         "x": [
          67
         ],
         "y": [
          -1
         ]
        },
        {
         "marker": {
          "color": "blue",
          "opacity": 0.5,
          "size": 2.4390243902439024
         },
         "mode": "markers",
         "showlegend": false,
         "type": "scatter",
         "x": [
          67
         ],
         "y": [
          1
         ]
        },
        {
         "marker": {
          "color": "blue",
          "opacity": 0.5,
          "size": 1.2195121951219512
         },
         "mode": "markers",
         "showlegend": false,
         "type": "scatter",
         "x": [
          67
         ],
         "y": [
          2
         ]
        },
        {
         "marker": {
          "color": "blue",
          "opacity": 0.5,
          "size": 1.2195121951219512
         },
         "mode": "markers",
         "showlegend": false,
         "type": "scatter",
         "x": [
          67
         ],
         "y": [
          4
         ]
        },
        {
         "marker": {
          "color": "blue",
          "opacity": 0.5,
          "size": 1.2195121951219512
         },
         "mode": "markers",
         "showlegend": false,
         "type": "scatter",
         "x": [
          67
         ],
         "y": [
          7
         ]
        },
        {
         "marker": {
          "color": "blue",
          "opacity": 0.5,
          "size": 1.2195121951219512
         },
         "mode": "markers",
         "showlegend": false,
         "type": "scatter",
         "x": [
          67
         ],
         "y": [
          8
         ]
        },
        {
         "marker": {
          "color": "blue",
          "opacity": 0.5,
          "size": 1.2195121951219512
         },
         "mode": "markers",
         "showlegend": false,
         "type": "scatter",
         "x": [
          67
         ],
         "y": [
          13
         ]
        },
        {
         "marker": {
          "color": "blue",
          "opacity": 0.5,
          "size": 1.2195121951219512
         },
         "mode": "markers",
         "showlegend": false,
         "type": "scatter",
         "x": [
          67
         ],
         "y": [
          14
         ]
        },
        {
         "marker": {
          "color": "blue",
          "opacity": 0.5,
          "size": 1.2195121951219512
         },
         "mode": "markers",
         "showlegend": false,
         "type": "scatter",
         "x": [
          67
         ],
         "y": [
          15
         ]
        },
        {
         "marker": {
          "color": "blue",
          "opacity": 0.5,
          "size": 1.2195121951219512
         },
         "mode": "markers",
         "showlegend": false,
         "type": "scatter",
         "x": [
          67
         ],
         "y": [
          16
         ]
        },
        {
         "marker": {
          "color": "blue",
          "opacity": 0.5,
          "size": 1.2195121951219512
         },
         "mode": "markers",
         "showlegend": false,
         "type": "scatter",
         "x": [
          67
         ],
         "y": [
          17
         ]
        },
        {
         "marker": {
          "color": "blue",
          "opacity": 0.5,
          "size": 1.2195121951219512
         },
         "mode": "markers",
         "showlegend": false,
         "type": "scatter",
         "x": [
          67
         ],
         "y": [
          19
         ]
        },
        {
         "marker": {
          "color": "blue",
          "opacity": 0.5,
          "size": 1.2195121951219512
         },
         "mode": "markers",
         "showlegend": false,
         "type": "scatter",
         "x": [
          67
         ],
         "y": [
          21
         ]
        },
        {
         "marker": {
          "color": "blue",
          "opacity": 0.5,
          "size": 1.2195121951219512
         },
         "mode": "markers",
         "showlegend": false,
         "type": "scatter",
         "x": [
          67
         ],
         "y": [
          22
         ]
        },
        {
         "marker": {
          "color": "blue",
          "opacity": 0.5,
          "size": 2.4390243902439024
         },
         "mode": "markers",
         "showlegend": false,
         "type": "scatter",
         "x": [
          67
         ],
         "y": [
          23
         ]
        },
        {
         "marker": {
          "color": "blue",
          "opacity": 0.5,
          "size": 1.2195121951219512
         },
         "mode": "markers",
         "showlegend": false,
         "type": "scatter",
         "x": [
          67
         ],
         "y": [
          27
         ]
        },
        {
         "marker": {
          "color": "blue",
          "opacity": 0.5,
          "size": 1.2195121951219512
         },
         "mode": "markers",
         "showlegend": false,
         "type": "scatter",
         "x": [
          67
         ],
         "y": [
          31
         ]
        },
        {
         "marker": {
          "color": "blue",
          "opacity": 0.5,
          "size": 1.2195121951219512
         },
         "mode": "markers",
         "showlegend": false,
         "type": "scatter",
         "x": [
          67
         ],
         "y": [
          33
         ]
        },
        {
         "marker": {
          "color": "blue",
          "opacity": 0.5,
          "size": 1.2195121951219512
         },
         "mode": "markers",
         "showlegend": false,
         "type": "scatter",
         "x": [
          67
         ],
         "y": [
          34
         ]
        },
        {
         "marker": {
          "color": "blue",
          "opacity": 0.5,
          "size": 1.2195121951219512
         },
         "mode": "markers",
         "showlegend": false,
         "type": "scatter",
         "x": [
          67
         ],
         "y": [
          35
         ]
        },
        {
         "marker": {
          "color": "blue",
          "opacity": 0.5,
          "size": 1.2195121951219512
         },
         "mode": "markers",
         "showlegend": false,
         "type": "scatter",
         "x": [
          68
         ],
         "y": [
          -37
         ]
        },
        {
         "marker": {
          "color": "blue",
          "opacity": 0.5,
          "size": 1.2195121951219512
         },
         "mode": "markers",
         "showlegend": false,
         "type": "scatter",
         "x": [
          68
         ],
         "y": [
          -34
         ]
        },
        {
         "marker": {
          "color": "blue",
          "opacity": 0.5,
          "size": 1.2195121951219512
         },
         "mode": "markers",
         "showlegend": false,
         "type": "scatter",
         "x": [
          68
         ],
         "y": [
          -25
         ]
        },
        {
         "marker": {
          "color": "blue",
          "opacity": 0.5,
          "size": 1.2195121951219512
         },
         "mode": "markers",
         "showlegend": false,
         "type": "scatter",
         "x": [
          68
         ],
         "y": [
          -24
         ]
        },
        {
         "marker": {
          "color": "blue",
          "opacity": 0.5,
          "size": 1.2195121951219512
         },
         "mode": "markers",
         "showlegend": false,
         "type": "scatter",
         "x": [
          68
         ],
         "y": [
          -22
         ]
        },
        {
         "marker": {
          "color": "blue",
          "opacity": 0.5,
          "size": 1.2195121951219512
         },
         "mode": "markers",
         "showlegend": false,
         "type": "scatter",
         "x": [
          68
         ],
         "y": [
          -21
         ]
        },
        {
         "marker": {
          "color": "blue",
          "opacity": 0.5,
          "size": 2.4390243902439024
         },
         "mode": "markers",
         "showlegend": false,
         "type": "scatter",
         "x": [
          68
         ],
         "y": [
          -18
         ]
        },
        {
         "marker": {
          "color": "blue",
          "opacity": 0.5,
          "size": 1.2195121951219512
         },
         "mode": "markers",
         "showlegend": false,
         "type": "scatter",
         "x": [
          68
         ],
         "y": [
          -15
         ]
        },
        {
         "marker": {
          "color": "blue",
          "opacity": 0.5,
          "size": 3.6585365853658534
         },
         "mode": "markers",
         "showlegend": false,
         "type": "scatter",
         "x": [
          68
         ],
         "y": [
          -13
         ]
        },
        {
         "marker": {
          "color": "blue",
          "opacity": 0.5,
          "size": 1.2195121951219512
         },
         "mode": "markers",
         "showlegend": false,
         "type": "scatter",
         "x": [
          68
         ],
         "y": [
          -10
         ]
        },
        {
         "marker": {
          "color": "blue",
          "opacity": 0.5,
          "size": 2.4390243902439024
         },
         "mode": "markers",
         "showlegend": false,
         "type": "scatter",
         "x": [
          68
         ],
         "y": [
          -9
         ]
        },
        {
         "marker": {
          "color": "blue",
          "opacity": 0.5,
          "size": 2.4390243902439024
         },
         "mode": "markers",
         "showlegend": false,
         "type": "scatter",
         "x": [
          68
         ],
         "y": [
          -7
         ]
        },
        {
         "marker": {
          "color": "blue",
          "opacity": 0.5,
          "size": 1.2195121951219512
         },
         "mode": "markers",
         "showlegend": false,
         "type": "scatter",
         "x": [
          68
         ],
         "y": [
          -6
         ]
        },
        {
         "marker": {
          "color": "blue",
          "opacity": 0.5,
          "size": 1.2195121951219512
         },
         "mode": "markers",
         "showlegend": false,
         "type": "scatter",
         "x": [
          68
         ],
         "y": [
          -5
         ]
        },
        {
         "marker": {
          "color": "blue",
          "opacity": 0.5,
          "size": 1.2195121951219512
         },
         "mode": "markers",
         "showlegend": false,
         "type": "scatter",
         "x": [
          68
         ],
         "y": [
          -3
         ]
        },
        {
         "marker": {
          "color": "blue",
          "opacity": 0.5,
          "size": 1.2195121951219512
         },
         "mode": "markers",
         "showlegend": false,
         "type": "scatter",
         "x": [
          68
         ],
         "y": [
          -1
         ]
        },
        {
         "marker": {
          "color": "blue",
          "opacity": 0.5,
          "size": 2.4390243902439024
         },
         "mode": "markers",
         "showlegend": false,
         "type": "scatter",
         "x": [
          68
         ],
         "y": [
          1
         ]
        },
        {
         "marker": {
          "color": "blue",
          "opacity": 0.5,
          "size": 2.4390243902439024
         },
         "mode": "markers",
         "showlegend": false,
         "type": "scatter",
         "x": [
          68
         ],
         "y": [
          2
         ]
        },
        {
         "marker": {
          "color": "blue",
          "opacity": 0.5,
          "size": 1.2195121951219512
         },
         "mode": "markers",
         "showlegend": false,
         "type": "scatter",
         "x": [
          68
         ],
         "y": [
          3
         ]
        },
        {
         "marker": {
          "color": "blue",
          "opacity": 0.5,
          "size": 1.2195121951219512
         },
         "mode": "markers",
         "showlegend": false,
         "type": "scatter",
         "x": [
          68
         ],
         "y": [
          4
         ]
        },
        {
         "marker": {
          "color": "blue",
          "opacity": 0.5,
          "size": 3.6585365853658534
         },
         "mode": "markers",
         "showlegend": false,
         "type": "scatter",
         "x": [
          68
         ],
         "y": [
          5
         ]
        },
        {
         "marker": {
          "color": "blue",
          "opacity": 0.5,
          "size": 2.4390243902439024
         },
         "mode": "markers",
         "showlegend": false,
         "type": "scatter",
         "x": [
          68
         ],
         "y": [
          8
         ]
        },
        {
         "marker": {
          "color": "blue",
          "opacity": 0.5,
          "size": 1.2195121951219512
         },
         "mode": "markers",
         "showlegend": false,
         "type": "scatter",
         "x": [
          68
         ],
         "y": [
          10
         ]
        },
        {
         "marker": {
          "color": "blue",
          "opacity": 0.5,
          "size": 1.2195121951219512
         },
         "mode": "markers",
         "showlegend": false,
         "type": "scatter",
         "x": [
          68
         ],
         "y": [
          12
         ]
        },
        {
         "marker": {
          "color": "blue",
          "opacity": 0.5,
          "size": 1.2195121951219512
         },
         "mode": "markers",
         "showlegend": false,
         "type": "scatter",
         "x": [
          68
         ],
         "y": [
          13
         ]
        },
        {
         "marker": {
          "color": "blue",
          "opacity": 0.5,
          "size": 1.2195121951219512
         },
         "mode": "markers",
         "showlegend": false,
         "type": "scatter",
         "x": [
          68
         ],
         "y": [
          14
         ]
        },
        {
         "marker": {
          "color": "blue",
          "opacity": 0.5,
          "size": 1.2195121951219512
         },
         "mode": "markers",
         "showlegend": false,
         "type": "scatter",
         "x": [
          68
         ],
         "y": [
          17
         ]
        },
        {
         "marker": {
          "color": "blue",
          "opacity": 0.5,
          "size": 1.2195121951219512
         },
         "mode": "markers",
         "showlegend": false,
         "type": "scatter",
         "x": [
          68
         ],
         "y": [
          18
         ]
        },
        {
         "marker": {
          "color": "blue",
          "opacity": 0.5,
          "size": 1.2195121951219512
         },
         "mode": "markers",
         "showlegend": false,
         "type": "scatter",
         "x": [
          68
         ],
         "y": [
          19
         ]
        },
        {
         "marker": {
          "color": "blue",
          "opacity": 0.5,
          "size": 1.2195121951219512
         },
         "mode": "markers",
         "showlegend": false,
         "type": "scatter",
         "x": [
          68
         ],
         "y": [
          20
         ]
        },
        {
         "marker": {
          "color": "blue",
          "opacity": 0.5,
          "size": 1.2195121951219512
         },
         "mode": "markers",
         "showlegend": false,
         "type": "scatter",
         "x": [
          68
         ],
         "y": [
          22
         ]
        },
        {
         "marker": {
          "color": "blue",
          "opacity": 0.5,
          "size": 2.4390243902439024
         },
         "mode": "markers",
         "showlegend": false,
         "type": "scatter",
         "x": [
          68
         ],
         "y": [
          25
         ]
        },
        {
         "marker": {
          "color": "blue",
          "opacity": 0.5,
          "size": 1.2195121951219512
         },
         "mode": "markers",
         "showlegend": false,
         "type": "scatter",
         "x": [
          69
         ],
         "y": [
          -40
         ]
        },
        {
         "marker": {
          "color": "blue",
          "opacity": 0.5,
          "size": 1.2195121951219512
         },
         "mode": "markers",
         "showlegend": false,
         "type": "scatter",
         "x": [
          69
         ],
         "y": [
          -31
         ]
        },
        {
         "marker": {
          "color": "blue",
          "opacity": 0.5,
          "size": 1.2195121951219512
         },
         "mode": "markers",
         "showlegend": false,
         "type": "scatter",
         "x": [
          69
         ],
         "y": [
          -30
         ]
        },
        {
         "marker": {
          "color": "blue",
          "opacity": 0.5,
          "size": 1.2195121951219512
         },
         "mode": "markers",
         "showlegend": false,
         "type": "scatter",
         "x": [
          69
         ],
         "y": [
          -27
         ]
        },
        {
         "marker": {
          "color": "blue",
          "opacity": 0.5,
          "size": 1.2195121951219512
         },
         "mode": "markers",
         "showlegend": false,
         "type": "scatter",
         "x": [
          69
         ],
         "y": [
          -25
         ]
        },
        {
         "marker": {
          "color": "blue",
          "opacity": 0.5,
          "size": 1.2195121951219512
         },
         "mode": "markers",
         "showlegend": false,
         "type": "scatter",
         "x": [
          69
         ],
         "y": [
          -23
         ]
        },
        {
         "marker": {
          "color": "blue",
          "opacity": 0.5,
          "size": 2.4390243902439024
         },
         "mode": "markers",
         "showlegend": false,
         "type": "scatter",
         "x": [
          69
         ],
         "y": [
          -21
         ]
        },
        {
         "marker": {
          "color": "blue",
          "opacity": 0.5,
          "size": 1.2195121951219512
         },
         "mode": "markers",
         "showlegend": false,
         "type": "scatter",
         "x": [
          69
         ],
         "y": [
          -20
         ]
        },
        {
         "marker": {
          "color": "blue",
          "opacity": 0.5,
          "size": 1.2195121951219512
         },
         "mode": "markers",
         "showlegend": false,
         "type": "scatter",
         "x": [
          69
         ],
         "y": [
          -15
         ]
        },
        {
         "marker": {
          "color": "blue",
          "opacity": 0.5,
          "size": 1.2195121951219512
         },
         "mode": "markers",
         "showlegend": false,
         "type": "scatter",
         "x": [
          69
         ],
         "y": [
          -14
         ]
        },
        {
         "marker": {
          "color": "blue",
          "opacity": 0.5,
          "size": 1.2195121951219512
         },
         "mode": "markers",
         "showlegend": false,
         "type": "scatter",
         "x": [
          69
         ],
         "y": [
          -13
         ]
        },
        {
         "marker": {
          "color": "blue",
          "opacity": 0.5,
          "size": 2.4390243902439024
         },
         "mode": "markers",
         "showlegend": false,
         "type": "scatter",
         "x": [
          69
         ],
         "y": [
          -9
         ]
        },
        {
         "marker": {
          "color": "blue",
          "opacity": 0.5,
          "size": 3.6585365853658534
         },
         "mode": "markers",
         "showlegend": false,
         "type": "scatter",
         "x": [
          69
         ],
         "y": [
          -6
         ]
        },
        {
         "marker": {
          "color": "blue",
          "opacity": 0.5,
          "size": 2.4390243902439024
         },
         "mode": "markers",
         "showlegend": false,
         "type": "scatter",
         "x": [
          69
         ],
         "y": [
          -5
         ]
        },
        {
         "marker": {
          "color": "blue",
          "opacity": 0.5,
          "size": 1.2195121951219512
         },
         "mode": "markers",
         "showlegend": false,
         "type": "scatter",
         "x": [
          69
         ],
         "y": [
          -4
         ]
        },
        {
         "marker": {
          "color": "blue",
          "opacity": 0.5,
          "size": 1.2195121951219512
         },
         "mode": "markers",
         "showlegend": false,
         "type": "scatter",
         "x": [
          69
         ],
         "y": [
          -3
         ]
        },
        {
         "marker": {
          "color": "blue",
          "opacity": 0.5,
          "size": 3.6585365853658534
         },
         "mode": "markers",
         "showlegend": false,
         "type": "scatter",
         "x": [
          69
         ],
         "y": [
          -1
         ]
        },
        {
         "marker": {
          "color": "blue",
          "opacity": 0.5,
          "size": 3.6585365853658534
         },
         "mode": "markers",
         "showlegend": false,
         "type": "scatter",
         "x": [
          69
         ],
         "y": [
          0
         ]
        },
        {
         "marker": {
          "color": "blue",
          "opacity": 0.5,
          "size": 2.4390243902439024
         },
         "mode": "markers",
         "showlegend": false,
         "type": "scatter",
         "x": [
          69
         ],
         "y": [
          1
         ]
        },
        {
         "marker": {
          "color": "blue",
          "opacity": 0.5,
          "size": 2.4390243902439024
         },
         "mode": "markers",
         "showlegend": false,
         "type": "scatter",
         "x": [
          69
         ],
         "y": [
          5
         ]
        },
        {
         "marker": {
          "color": "blue",
          "opacity": 0.5,
          "size": 1.2195121951219512
         },
         "mode": "markers",
         "showlegend": false,
         "type": "scatter",
         "x": [
          69
         ],
         "y": [
          7
         ]
        },
        {
         "marker": {
          "color": "blue",
          "opacity": 0.5,
          "size": 1.2195121951219512
         },
         "mode": "markers",
         "showlegend": false,
         "type": "scatter",
         "x": [
          69
         ],
         "y": [
          9
         ]
        },
        {
         "marker": {
          "color": "blue",
          "opacity": 0.5,
          "size": 1.2195121951219512
         },
         "mode": "markers",
         "showlegend": false,
         "type": "scatter",
         "x": [
          69
         ],
         "y": [
          11
         ]
        },
        {
         "marker": {
          "color": "blue",
          "opacity": 0.5,
          "size": 1.2195121951219512
         },
         "mode": "markers",
         "showlegend": false,
         "type": "scatter",
         "x": [
          69
         ],
         "y": [
          14
         ]
        },
        {
         "marker": {
          "color": "blue",
          "opacity": 0.5,
          "size": 2.4390243902439024
         },
         "mode": "markers",
         "showlegend": false,
         "type": "scatter",
         "x": [
          69
         ],
         "y": [
          19
         ]
        },
        {
         "marker": {
          "color": "blue",
          "opacity": 0.5,
          "size": 1.2195121951219512
         },
         "mode": "markers",
         "showlegend": false,
         "type": "scatter",
         "x": [
          69
         ],
         "y": [
          20
         ]
        },
        {
         "marker": {
          "color": "blue",
          "opacity": 0.5,
          "size": 1.2195121951219512
         },
         "mode": "markers",
         "showlegend": false,
         "type": "scatter",
         "x": [
          69
         ],
         "y": [
          22
         ]
        },
        {
         "marker": {
          "color": "blue",
          "opacity": 0.5,
          "size": 1.2195121951219512
         },
         "mode": "markers",
         "showlegend": false,
         "type": "scatter",
         "x": [
          69
         ],
         "y": [
          23
         ]
        },
        {
         "marker": {
          "color": "blue",
          "opacity": 0.5,
          "size": 1.2195121951219512
         },
         "mode": "markers",
         "showlegend": false,
         "type": "scatter",
         "x": [
          69
         ],
         "y": [
          24
         ]
        },
        {
         "marker": {
          "color": "blue",
          "opacity": 0.5,
          "size": 1.2195121951219512
         },
         "mode": "markers",
         "showlegend": false,
         "type": "scatter",
         "x": [
          69
         ],
         "y": [
          26
         ]
        },
        {
         "marker": {
          "color": "blue",
          "opacity": 0.5,
          "size": 1.2195121951219512
         },
         "mode": "markers",
         "showlegend": false,
         "type": "scatter",
         "x": [
          69
         ],
         "y": [
          28
         ]
        },
        {
         "marker": {
          "color": "blue",
          "opacity": 0.5,
          "size": 1.2195121951219512
         },
         "mode": "markers",
         "showlegend": false,
         "type": "scatter",
         "x": [
          70
         ],
         "y": [
          -37
         ]
        },
        {
         "marker": {
          "color": "blue",
          "opacity": 0.5,
          "size": 1.2195121951219512
         },
         "mode": "markers",
         "showlegend": false,
         "type": "scatter",
         "x": [
          70
         ],
         "y": [
          -29
         ]
        },
        {
         "marker": {
          "color": "blue",
          "opacity": 0.5,
          "size": 1.2195121951219512
         },
         "mode": "markers",
         "showlegend": false,
         "type": "scatter",
         "x": [
          70
         ],
         "y": [
          -28
         ]
        },
        {
         "marker": {
          "color": "blue",
          "opacity": 0.5,
          "size": 1.2195121951219512
         },
         "mode": "markers",
         "showlegend": false,
         "type": "scatter",
         "x": [
          70
         ],
         "y": [
          -27
         ]
        },
        {
         "marker": {
          "color": "blue",
          "opacity": 0.5,
          "size": 3.6585365853658534
         },
         "mode": "markers",
         "showlegend": false,
         "type": "scatter",
         "x": [
          70
         ],
         "y": [
          -20
         ]
        },
        {
         "marker": {
          "color": "blue",
          "opacity": 0.5,
          "size": 1.2195121951219512
         },
         "mode": "markers",
         "showlegend": false,
         "type": "scatter",
         "x": [
          70
         ],
         "y": [
          -17
         ]
        },
        {
         "marker": {
          "color": "blue",
          "opacity": 0.5,
          "size": 1.2195121951219512
         },
         "mode": "markers",
         "showlegend": false,
         "type": "scatter",
         "x": [
          70
         ],
         "y": [
          -16
         ]
        },
        {
         "marker": {
          "color": "blue",
          "opacity": 0.5,
          "size": 1.2195121951219512
         },
         "mode": "markers",
         "showlegend": false,
         "type": "scatter",
         "x": [
          70
         ],
         "y": [
          -15
         ]
        },
        {
         "marker": {
          "color": "blue",
          "opacity": 0.5,
          "size": 2.4390243902439024
         },
         "mode": "markers",
         "showlegend": false,
         "type": "scatter",
         "x": [
          70
         ],
         "y": [
          -14
         ]
        },
        {
         "marker": {
          "color": "blue",
          "opacity": 0.5,
          "size": 1.2195121951219512
         },
         "mode": "markers",
         "showlegend": false,
         "type": "scatter",
         "x": [
          70
         ],
         "y": [
          -13
         ]
        },
        {
         "marker": {
          "color": "blue",
          "opacity": 0.5,
          "size": 2.4390243902439024
         },
         "mode": "markers",
         "showlegend": false,
         "type": "scatter",
         "x": [
          70
         ],
         "y": [
          -12
         ]
        },
        {
         "marker": {
          "color": "blue",
          "opacity": 0.5,
          "size": 3.6585365853658534
         },
         "mode": "markers",
         "showlegend": false,
         "type": "scatter",
         "x": [
          70
         ],
         "y": [
          -11
         ]
        },
        {
         "marker": {
          "color": "blue",
          "opacity": 0.5,
          "size": 1.2195121951219512
         },
         "mode": "markers",
         "showlegend": false,
         "type": "scatter",
         "x": [
          70
         ],
         "y": [
          -10
         ]
        },
        {
         "marker": {
          "color": "blue",
          "opacity": 0.5,
          "size": 1.2195121951219512
         },
         "mode": "markers",
         "showlegend": false,
         "type": "scatter",
         "x": [
          70
         ],
         "y": [
          -7
         ]
        },
        {
         "marker": {
          "color": "blue",
          "opacity": 0.5,
          "size": 1.2195121951219512
         },
         "mode": "markers",
         "showlegend": false,
         "type": "scatter",
         "x": [
          70
         ],
         "y": [
          -6
         ]
        },
        {
         "marker": {
          "color": "blue",
          "opacity": 0.5,
          "size": 1.2195121951219512
         },
         "mode": "markers",
         "showlegend": false,
         "type": "scatter",
         "x": [
          70
         ],
         "y": [
          -5
         ]
        },
        {
         "marker": {
          "color": "blue",
          "opacity": 0.5,
          "size": 2.4390243902439024
         },
         "mode": "markers",
         "showlegend": false,
         "type": "scatter",
         "x": [
          70
         ],
         "y": [
          -3
         ]
        },
        {
         "marker": {
          "color": "blue",
          "opacity": 0.5,
          "size": 4.878048780487805
         },
         "mode": "markers",
         "showlegend": false,
         "type": "scatter",
         "x": [
          70
         ],
         "y": [
          -1
         ]
        },
        {
         "marker": {
          "color": "blue",
          "opacity": 0.5,
          "size": 2.4390243902439024
         },
         "mode": "markers",
         "showlegend": false,
         "type": "scatter",
         "x": [
          70
         ],
         "y": [
          0
         ]
        },
        {
         "marker": {
          "color": "blue",
          "opacity": 0.5,
          "size": 1.2195121951219512
         },
         "mode": "markers",
         "showlegend": false,
         "type": "scatter",
         "x": [
          70
         ],
         "y": [
          1
         ]
        },
        {
         "marker": {
          "color": "blue",
          "opacity": 0.5,
          "size": 1.2195121951219512
         },
         "mode": "markers",
         "showlegend": false,
         "type": "scatter",
         "x": [
          70
         ],
         "y": [
          3
         ]
        },
        {
         "marker": {
          "color": "blue",
          "opacity": 0.5,
          "size": 1.2195121951219512
         },
         "mode": "markers",
         "showlegend": false,
         "type": "scatter",
         "x": [
          70
         ],
         "y": [
          8
         ]
        },
        {
         "marker": {
          "color": "blue",
          "opacity": 0.5,
          "size": 1.2195121951219512
         },
         "mode": "markers",
         "showlegend": false,
         "type": "scatter",
         "x": [
          70
         ],
         "y": [
          10
         ]
        },
        {
         "marker": {
          "color": "blue",
          "opacity": 0.5,
          "size": 1.2195121951219512
         },
         "mode": "markers",
         "showlegend": false,
         "type": "scatter",
         "x": [
          70
         ],
         "y": [
          12
         ]
        },
        {
         "marker": {
          "color": "blue",
          "opacity": 0.5,
          "size": 2.4390243902439024
         },
         "mode": "markers",
         "showlegend": false,
         "type": "scatter",
         "x": [
          70
         ],
         "y": [
          13
         ]
        },
        {
         "marker": {
          "color": "blue",
          "opacity": 0.5,
          "size": 1.2195121951219512
         },
         "mode": "markers",
         "showlegend": false,
         "type": "scatter",
         "x": [
          70
         ],
         "y": [
          15
         ]
        },
        {
         "marker": {
          "color": "blue",
          "opacity": 0.5,
          "size": 1.2195121951219512
         },
         "mode": "markers",
         "showlegend": false,
         "type": "scatter",
         "x": [
          70
         ],
         "y": [
          20
         ]
        },
        {
         "marker": {
          "color": "blue",
          "opacity": 0.5,
          "size": 1.2195121951219512
         },
         "mode": "markers",
         "showlegend": false,
         "type": "scatter",
         "x": [
          70
         ],
         "y": [
          25
         ]
        },
        {
         "marker": {
          "color": "blue",
          "opacity": 0.5,
          "size": 1.2195121951219512
         },
         "mode": "markers",
         "showlegend": false,
         "type": "scatter",
         "x": [
          70
         ],
         "y": [
          28
         ]
        },
        {
         "marker": {
          "color": "blue",
          "opacity": 0.5,
          "size": 3.6585365853658534
         },
         "mode": "markers",
         "showlegend": false,
         "type": "scatter",
         "x": [
          70
         ],
         "y": [
          29
         ]
        },
        {
         "marker": {
          "color": "blue",
          "opacity": 0.5,
          "size": 1.2195121951219512
         },
         "mode": "markers",
         "showlegend": false,
         "type": "scatter",
         "x": [
          70
         ],
         "y": [
          32
         ]
        },
        {
         "marker": {
          "color": "blue",
          "opacity": 0.5,
          "size": 1.2195121951219512
         },
         "mode": "markers",
         "showlegend": false,
         "type": "scatter",
         "x": [
          70
         ],
         "y": [
          36
         ]
        },
        {
         "marker": {
          "color": "blue",
          "opacity": 0.5,
          "size": 1.2195121951219512
         },
         "mode": "markers",
         "showlegend": false,
         "type": "scatter",
         "x": [
          71
         ],
         "y": [
          -39
         ]
        },
        {
         "marker": {
          "color": "blue",
          "opacity": 0.5,
          "size": 1.2195121951219512
         },
         "mode": "markers",
         "showlegend": false,
         "type": "scatter",
         "x": [
          71
         ],
         "y": [
          -33
         ]
        },
        {
         "marker": {
          "color": "blue",
          "opacity": 0.5,
          "size": 1.2195121951219512
         },
         "mode": "markers",
         "showlegend": false,
         "type": "scatter",
         "x": [
          71
         ],
         "y": [
          -32
         ]
        },
        {
         "marker": {
          "color": "blue",
          "opacity": 0.5,
          "size": 1.2195121951219512
         },
         "mode": "markers",
         "showlegend": false,
         "type": "scatter",
         "x": [
          71
         ],
         "y": [
          -27
         ]
        },
        {
         "marker": {
          "color": "blue",
          "opacity": 0.5,
          "size": 1.2195121951219512
         },
         "mode": "markers",
         "showlegend": false,
         "type": "scatter",
         "x": [
          71
         ],
         "y": [
          -23
         ]
        },
        {
         "marker": {
          "color": "blue",
          "opacity": 0.5,
          "size": 1.2195121951219512
         },
         "mode": "markers",
         "showlegend": false,
         "type": "scatter",
         "x": [
          71
         ],
         "y": [
          -22
         ]
        },
        {
         "marker": {
          "color": "blue",
          "opacity": 0.5,
          "size": 1.2195121951219512
         },
         "mode": "markers",
         "showlegend": false,
         "type": "scatter",
         "x": [
          71
         ],
         "y": [
          -19
         ]
        },
        {
         "marker": {
          "color": "blue",
          "opacity": 0.5,
          "size": 1.2195121951219512
         },
         "mode": "markers",
         "showlegend": false,
         "type": "scatter",
         "x": [
          71
         ],
         "y": [
          -17
         ]
        },
        {
         "marker": {
          "color": "blue",
          "opacity": 0.5,
          "size": 2.4390243902439024
         },
         "mode": "markers",
         "showlegend": false,
         "type": "scatter",
         "x": [
          71
         ],
         "y": [
          -14
         ]
        },
        {
         "marker": {
          "color": "blue",
          "opacity": 0.5,
          "size": 1.2195121951219512
         },
         "mode": "markers",
         "showlegend": false,
         "type": "scatter",
         "x": [
          71
         ],
         "y": [
          -9
         ]
        },
        {
         "marker": {
          "color": "blue",
          "opacity": 0.5,
          "size": 1.2195121951219512
         },
         "mode": "markers",
         "showlegend": false,
         "type": "scatter",
         "x": [
          71
         ],
         "y": [
          -7
         ]
        },
        {
         "marker": {
          "color": "blue",
          "opacity": 0.5,
          "size": 1.2195121951219512
         },
         "mode": "markers",
         "showlegend": false,
         "type": "scatter",
         "x": [
          71
         ],
         "y": [
          -6
         ]
        },
        {
         "marker": {
          "color": "blue",
          "opacity": 0.5,
          "size": 1.2195121951219512
         },
         "mode": "markers",
         "showlegend": false,
         "type": "scatter",
         "x": [
          71
         ],
         "y": [
          -5
         ]
        },
        {
         "marker": {
          "color": "blue",
          "opacity": 0.5,
          "size": 1.2195121951219512
         },
         "mode": "markers",
         "showlegend": false,
         "type": "scatter",
         "x": [
          71
         ],
         "y": [
          -3
         ]
        },
        {
         "marker": {
          "color": "blue",
          "opacity": 0.5,
          "size": 3.6585365853658534
         },
         "mode": "markers",
         "showlegend": false,
         "type": "scatter",
         "x": [
          71
         ],
         "y": [
          1
         ]
        },
        {
         "marker": {
          "color": "blue",
          "opacity": 0.5,
          "size": 1.2195121951219512
         },
         "mode": "markers",
         "showlegend": false,
         "type": "scatter",
         "x": [
          71
         ],
         "y": [
          2
         ]
        },
        {
         "marker": {
          "color": "blue",
          "opacity": 0.5,
          "size": 3.6585365853658534
         },
         "mode": "markers",
         "showlegend": false,
         "type": "scatter",
         "x": [
          71
         ],
         "y": [
          3
         ]
        },
        {
         "marker": {
          "color": "blue",
          "opacity": 0.5,
          "size": 1.2195121951219512
         },
         "mode": "markers",
         "showlegend": false,
         "type": "scatter",
         "x": [
          71
         ],
         "y": [
          5
         ]
        },
        {
         "marker": {
          "color": "blue",
          "opacity": 0.5,
          "size": 1.2195121951219512
         },
         "mode": "markers",
         "showlegend": false,
         "type": "scatter",
         "x": [
          71
         ],
         "y": [
          6
         ]
        },
        {
         "marker": {
          "color": "blue",
          "opacity": 0.5,
          "size": 2.4390243902439024
         },
         "mode": "markers",
         "showlegend": false,
         "type": "scatter",
         "x": [
          71
         ],
         "y": [
          7
         ]
        },
        {
         "marker": {
          "color": "blue",
          "opacity": 0.5,
          "size": 2.4390243902439024
         },
         "mode": "markers",
         "showlegend": false,
         "type": "scatter",
         "x": [
          71
         ],
         "y": [
          10
         ]
        },
        {
         "marker": {
          "color": "blue",
          "opacity": 0.5,
          "size": 2.4390243902439024
         },
         "mode": "markers",
         "showlegend": false,
         "type": "scatter",
         "x": [
          71
         ],
         "y": [
          12
         ]
        },
        {
         "marker": {
          "color": "blue",
          "opacity": 0.5,
          "size": 1.2195121951219512
         },
         "mode": "markers",
         "showlegend": false,
         "type": "scatter",
         "x": [
          71
         ],
         "y": [
          13
         ]
        },
        {
         "marker": {
          "color": "blue",
          "opacity": 0.5,
          "size": 1.2195121951219512
         },
         "mode": "markers",
         "showlegend": false,
         "type": "scatter",
         "x": [
          71
         ],
         "y": [
          14
         ]
        },
        {
         "marker": {
          "color": "blue",
          "opacity": 0.5,
          "size": 2.4390243902439024
         },
         "mode": "markers",
         "showlegend": false,
         "type": "scatter",
         "x": [
          71
         ],
         "y": [
          16
         ]
        },
        {
         "marker": {
          "color": "blue",
          "opacity": 0.5,
          "size": 1.2195121951219512
         },
         "mode": "markers",
         "showlegend": false,
         "type": "scatter",
         "x": [
          71
         ],
         "y": [
          18
         ]
        },
        {
         "marker": {
          "color": "blue",
          "opacity": 0.5,
          "size": 1.2195121951219512
         },
         "mode": "markers",
         "showlegend": false,
         "type": "scatter",
         "x": [
          71
         ],
         "y": [
          20
         ]
        },
        {
         "marker": {
          "color": "blue",
          "opacity": 0.5,
          "size": 1.2195121951219512
         },
         "mode": "markers",
         "showlegend": false,
         "type": "scatter",
         "x": [
          71
         ],
         "y": [
          21
         ]
        },
        {
         "marker": {
          "color": "blue",
          "opacity": 0.5,
          "size": 1.2195121951219512
         },
         "mode": "markers",
         "showlegend": false,
         "type": "scatter",
         "x": [
          71
         ],
         "y": [
          22
         ]
        },
        {
         "marker": {
          "color": "blue",
          "opacity": 0.5,
          "size": 2.4390243902439024
         },
         "mode": "markers",
         "showlegend": false,
         "type": "scatter",
         "x": [
          71
         ],
         "y": [
          23
         ]
        },
        {
         "marker": {
          "color": "blue",
          "opacity": 0.5,
          "size": 1.2195121951219512
         },
         "mode": "markers",
         "showlegend": false,
         "type": "scatter",
         "x": [
          71
         ],
         "y": [
          24
         ]
        },
        {
         "marker": {
          "color": "blue",
          "opacity": 0.5,
          "size": 1.2195121951219512
         },
         "mode": "markers",
         "showlegend": false,
         "type": "scatter",
         "x": [
          71
         ],
         "y": [
          26
         ]
        },
        {
         "marker": {
          "color": "blue",
          "opacity": 0.5,
          "size": 1.2195121951219512
         },
         "mode": "markers",
         "showlegend": false,
         "type": "scatter",
         "x": [
          72
         ],
         "y": [
          -41
         ]
        },
        {
         "marker": {
          "color": "blue",
          "opacity": 0.5,
          "size": 1.2195121951219512
         },
         "mode": "markers",
         "showlegend": false,
         "type": "scatter",
         "x": [
          72
         ],
         "y": [
          -34
         ]
        },
        {
         "marker": {
          "color": "blue",
          "opacity": 0.5,
          "size": 1.2195121951219512
         },
         "mode": "markers",
         "showlegend": false,
         "type": "scatter",
         "x": [
          72
         ],
         "y": [
          -29
         ]
        },
        {
         "marker": {
          "color": "blue",
          "opacity": 0.5,
          "size": 1.2195121951219512
         },
         "mode": "markers",
         "showlegend": false,
         "type": "scatter",
         "x": [
          72
         ],
         "y": [
          -26
         ]
        },
        {
         "marker": {
          "color": "blue",
          "opacity": 0.5,
          "size": 1.2195121951219512
         },
         "mode": "markers",
         "showlegend": false,
         "type": "scatter",
         "x": [
          72
         ],
         "y": [
          -25
         ]
        },
        {
         "marker": {
          "color": "blue",
          "opacity": 0.5,
          "size": 1.2195121951219512
         },
         "mode": "markers",
         "showlegend": false,
         "type": "scatter",
         "x": [
          72
         ],
         "y": [
          -23
         ]
        },
        {
         "marker": {
          "color": "blue",
          "opacity": 0.5,
          "size": 1.2195121951219512
         },
         "mode": "markers",
         "showlegend": false,
         "type": "scatter",
         "x": [
          72
         ],
         "y": [
          -21
         ]
        },
        {
         "marker": {
          "color": "blue",
          "opacity": 0.5,
          "size": 2.4390243902439024
         },
         "mode": "markers",
         "showlegend": false,
         "type": "scatter",
         "x": [
          72
         ],
         "y": [
          -19
         ]
        },
        {
         "marker": {
          "color": "blue",
          "opacity": 0.5,
          "size": 2.4390243902439024
         },
         "mode": "markers",
         "showlegend": false,
         "type": "scatter",
         "x": [
          72
         ],
         "y": [
          -18
         ]
        },
        {
         "marker": {
          "color": "blue",
          "opacity": 0.5,
          "size": 2.4390243902439024
         },
         "mode": "markers",
         "showlegend": false,
         "type": "scatter",
         "x": [
          72
         ],
         "y": [
          -17
         ]
        },
        {
         "marker": {
          "color": "blue",
          "opacity": 0.5,
          "size": 1.2195121951219512
         },
         "mode": "markers",
         "showlegend": false,
         "type": "scatter",
         "x": [
          72
         ],
         "y": [
          -16
         ]
        },
        {
         "marker": {
          "color": "blue",
          "opacity": 0.5,
          "size": 1.2195121951219512
         },
         "mode": "markers",
         "showlegend": false,
         "type": "scatter",
         "x": [
          72
         ],
         "y": [
          -15
         ]
        },
        {
         "marker": {
          "color": "blue",
          "opacity": 0.5,
          "size": 1.2195121951219512
         },
         "mode": "markers",
         "showlegend": false,
         "type": "scatter",
         "x": [
          72
         ],
         "y": [
          -14
         ]
        },
        {
         "marker": {
          "color": "blue",
          "opacity": 0.5,
          "size": 3.6585365853658534
         },
         "mode": "markers",
         "showlegend": false,
         "type": "scatter",
         "x": [
          72
         ],
         "y": [
          -13
         ]
        },
        {
         "marker": {
          "color": "blue",
          "opacity": 0.5,
          "size": 1.2195121951219512
         },
         "mode": "markers",
         "showlegend": false,
         "type": "scatter",
         "x": [
          72
         ],
         "y": [
          -12
         ]
        },
        {
         "marker": {
          "color": "blue",
          "opacity": 0.5,
          "size": 1.2195121951219512
         },
         "mode": "markers",
         "showlegend": false,
         "type": "scatter",
         "x": [
          72
         ],
         "y": [
          -10
         ]
        },
        {
         "marker": {
          "color": "blue",
          "opacity": 0.5,
          "size": 1.2195121951219512
         },
         "mode": "markers",
         "showlegend": false,
         "type": "scatter",
         "x": [
          72
         ],
         "y": [
          -8
         ]
        },
        {
         "marker": {
          "color": "blue",
          "opacity": 0.5,
          "size": 1.2195121951219512
         },
         "mode": "markers",
         "showlegend": false,
         "type": "scatter",
         "x": [
          72
         ],
         "y": [
          -7
         ]
        },
        {
         "marker": {
          "color": "blue",
          "opacity": 0.5,
          "size": 1.2195121951219512
         },
         "mode": "markers",
         "showlegend": false,
         "type": "scatter",
         "x": [
          72
         ],
         "y": [
          -5
         ]
        },
        {
         "marker": {
          "color": "blue",
          "opacity": 0.5,
          "size": 1.2195121951219512
         },
         "mode": "markers",
         "showlegend": false,
         "type": "scatter",
         "x": [
          72
         ],
         "y": [
          -4
         ]
        },
        {
         "marker": {
          "color": "blue",
          "opacity": 0.5,
          "size": 2.4390243902439024
         },
         "mode": "markers",
         "showlegend": false,
         "type": "scatter",
         "x": [
          72
         ],
         "y": [
          -3
         ]
        },
        {
         "marker": {
          "color": "blue",
          "opacity": 0.5,
          "size": 2.4390243902439024
         },
         "mode": "markers",
         "showlegend": false,
         "type": "scatter",
         "x": [
          72
         ],
         "y": [
          -1
         ]
        },
        {
         "marker": {
          "color": "blue",
          "opacity": 0.5,
          "size": 2.4390243902439024
         },
         "mode": "markers",
         "showlegend": false,
         "type": "scatter",
         "x": [
          72
         ],
         "y": [
          1
         ]
        },
        {
         "marker": {
          "color": "blue",
          "opacity": 0.5,
          "size": 1.2195121951219512
         },
         "mode": "markers",
         "showlegend": false,
         "type": "scatter",
         "x": [
          72
         ],
         "y": [
          3
         ]
        },
        {
         "marker": {
          "color": "blue",
          "opacity": 0.5,
          "size": 1.2195121951219512
         },
         "mode": "markers",
         "showlegend": false,
         "type": "scatter",
         "x": [
          72
         ],
         "y": [
          5
         ]
        },
        {
         "marker": {
          "color": "blue",
          "opacity": 0.5,
          "size": 1.2195121951219512
         },
         "mode": "markers",
         "showlegend": false,
         "type": "scatter",
         "x": [
          72
         ],
         "y": [
          7
         ]
        },
        {
         "marker": {
          "color": "blue",
          "opacity": 0.5,
          "size": 2.4390243902439024
         },
         "mode": "markers",
         "showlegend": false,
         "type": "scatter",
         "x": [
          72
         ],
         "y": [
          8
         ]
        },
        {
         "marker": {
          "color": "blue",
          "opacity": 0.5,
          "size": 2.4390243902439024
         },
         "mode": "markers",
         "showlegend": false,
         "type": "scatter",
         "x": [
          72
         ],
         "y": [
          9
         ]
        },
        {
         "marker": {
          "color": "blue",
          "opacity": 0.5,
          "size": 1.2195121951219512
         },
         "mode": "markers",
         "showlegend": false,
         "type": "scatter",
         "x": [
          72
         ],
         "y": [
          11
         ]
        },
        {
         "marker": {
          "color": "blue",
          "opacity": 0.5,
          "size": 2.4390243902439024
         },
         "mode": "markers",
         "showlegend": false,
         "type": "scatter",
         "x": [
          72
         ],
         "y": [
          14
         ]
        },
        {
         "marker": {
          "color": "blue",
          "opacity": 0.5,
          "size": 1.2195121951219512
         },
         "mode": "markers",
         "showlegend": false,
         "type": "scatter",
         "x": [
          72
         ],
         "y": [
          15
         ]
        },
        {
         "marker": {
          "color": "blue",
          "opacity": 0.5,
          "size": 1.2195121951219512
         },
         "mode": "markers",
         "showlegend": false,
         "type": "scatter",
         "x": [
          72
         ],
         "y": [
          16
         ]
        },
        {
         "marker": {
          "color": "blue",
          "opacity": 0.5,
          "size": 1.2195121951219512
         },
         "mode": "markers",
         "showlegend": false,
         "type": "scatter",
         "x": [
          72
         ],
         "y": [
          17
         ]
        },
        {
         "marker": {
          "color": "blue",
          "opacity": 0.5,
          "size": 1.2195121951219512
         },
         "mode": "markers",
         "showlegend": false,
         "type": "scatter",
         "x": [
          72
         ],
         "y": [
          20
         ]
        },
        {
         "marker": {
          "color": "blue",
          "opacity": 0.5,
          "size": 2.4390243902439024
         },
         "mode": "markers",
         "showlegend": false,
         "type": "scatter",
         "x": [
          72
         ],
         "y": [
          23
         ]
        },
        {
         "marker": {
          "color": "blue",
          "opacity": 0.5,
          "size": 1.2195121951219512
         },
         "mode": "markers",
         "showlegend": false,
         "type": "scatter",
         "x": [
          72
         ],
         "y": [
          24
         ]
        },
        {
         "marker": {
          "color": "blue",
          "opacity": 0.5,
          "size": 1.2195121951219512
         },
         "mode": "markers",
         "showlegend": false,
         "type": "scatter",
         "x": [
          72
         ],
         "y": [
          26
         ]
        },
        {
         "marker": {
          "color": "blue",
          "opacity": 0.5,
          "size": 1.2195121951219512
         },
         "mode": "markers",
         "showlegend": false,
         "type": "scatter",
         "x": [
          72
         ],
         "y": [
          29
         ]
        },
        {
         "marker": {
          "color": "blue",
          "opacity": 0.5,
          "size": 1.2195121951219512
         },
         "mode": "markers",
         "showlegend": false,
         "type": "scatter",
         "x": [
          72
         ],
         "y": [
          32
         ]
        },
        {
         "marker": {
          "color": "blue",
          "opacity": 0.5,
          "size": 1.2195121951219512
         },
         "mode": "markers",
         "showlegend": false,
         "type": "scatter",
         "x": [
          73
         ],
         "y": [
          -30
         ]
        },
        {
         "marker": {
          "color": "blue",
          "opacity": 0.5,
          "size": 1.2195121951219512
         },
         "mode": "markers",
         "showlegend": false,
         "type": "scatter",
         "x": [
          73
         ],
         "y": [
          -29
         ]
        },
        {
         "marker": {
          "color": "blue",
          "opacity": 0.5,
          "size": 1.2195121951219512
         },
         "mode": "markers",
         "showlegend": false,
         "type": "scatter",
         "x": [
          73
         ],
         "y": [
          -22
         ]
        },
        {
         "marker": {
          "color": "blue",
          "opacity": 0.5,
          "size": 1.2195121951219512
         },
         "mode": "markers",
         "showlegend": false,
         "type": "scatter",
         "x": [
          73
         ],
         "y": [
          -19
         ]
        },
        {
         "marker": {
          "color": "blue",
          "opacity": 0.5,
          "size": 1.2195121951219512
         },
         "mode": "markers",
         "showlegend": false,
         "type": "scatter",
         "x": [
          73
         ],
         "y": [
          -15
         ]
        },
        {
         "marker": {
          "color": "blue",
          "opacity": 0.5,
          "size": 2.4390243902439024
         },
         "mode": "markers",
         "showlegend": false,
         "type": "scatter",
         "x": [
          73
         ],
         "y": [
          -14
         ]
        },
        {
         "marker": {
          "color": "blue",
          "opacity": 0.5,
          "size": 1.2195121951219512
         },
         "mode": "markers",
         "showlegend": false,
         "type": "scatter",
         "x": [
          73
         ],
         "y": [
          -13
         ]
        },
        {
         "marker": {
          "color": "blue",
          "opacity": 0.5,
          "size": 1.2195121951219512
         },
         "mode": "markers",
         "showlegend": false,
         "type": "scatter",
         "x": [
          73
         ],
         "y": [
          -12
         ]
        },
        {
         "marker": {
          "color": "blue",
          "opacity": 0.5,
          "size": 1.2195121951219512
         },
         "mode": "markers",
         "showlegend": false,
         "type": "scatter",
         "x": [
          73
         ],
         "y": [
          -11
         ]
        },
        {
         "marker": {
          "color": "blue",
          "opacity": 0.5,
          "size": 4.878048780487805
         },
         "mode": "markers",
         "showlegend": false,
         "type": "scatter",
         "x": [
          73
         ],
         "y": [
          -10
         ]
        },
        {
         "marker": {
          "color": "blue",
          "opacity": 0.5,
          "size": 1.2195121951219512
         },
         "mode": "markers",
         "showlegend": false,
         "type": "scatter",
         "x": [
          73
         ],
         "y": [
          -9
         ]
        },
        {
         "marker": {
          "color": "blue",
          "opacity": 0.5,
          "size": 1.2195121951219512
         },
         "mode": "markers",
         "showlegend": false,
         "type": "scatter",
         "x": [
          73
         ],
         "y": [
          -8
         ]
        },
        {
         "marker": {
          "color": "blue",
          "opacity": 0.5,
          "size": 2.4390243902439024
         },
         "mode": "markers",
         "showlegend": false,
         "type": "scatter",
         "x": [
          73
         ],
         "y": [
          -6
         ]
        },
        {
         "marker": {
          "color": "blue",
          "opacity": 0.5,
          "size": 1.2195121951219512
         },
         "mode": "markers",
         "showlegend": false,
         "type": "scatter",
         "x": [
          73
         ],
         "y": [
          -4
         ]
        },
        {
         "marker": {
          "color": "blue",
          "opacity": 0.5,
          "size": 1.2195121951219512
         },
         "mode": "markers",
         "showlegend": false,
         "type": "scatter",
         "x": [
          73
         ],
         "y": [
          -3
         ]
        },
        {
         "marker": {
          "color": "blue",
          "opacity": 0.5,
          "size": 2.4390243902439024
         },
         "mode": "markers",
         "showlegend": false,
         "type": "scatter",
         "x": [
          73
         ],
         "y": [
          -2
         ]
        },
        {
         "marker": {
          "color": "blue",
          "opacity": 0.5,
          "size": 4.878048780487805
         },
         "mode": "markers",
         "showlegend": false,
         "type": "scatter",
         "x": [
          73
         ],
         "y": [
          -1
         ]
        },
        {
         "marker": {
          "color": "blue",
          "opacity": 0.5,
          "size": 1.2195121951219512
         },
         "mode": "markers",
         "showlegend": false,
         "type": "scatter",
         "x": [
          73
         ],
         "y": [
          0
         ]
        },
        {
         "marker": {
          "color": "blue",
          "opacity": 0.5,
          "size": 1.2195121951219512
         },
         "mode": "markers",
         "showlegend": false,
         "type": "scatter",
         "x": [
          73
         ],
         "y": [
          1
         ]
        },
        {
         "marker": {
          "color": "blue",
          "opacity": 0.5,
          "size": 1.2195121951219512
         },
         "mode": "markers",
         "showlegend": false,
         "type": "scatter",
         "x": [
          73
         ],
         "y": [
          2
         ]
        },
        {
         "marker": {
          "color": "blue",
          "opacity": 0.5,
          "size": 3.6585365853658534
         },
         "mode": "markers",
         "showlegend": false,
         "type": "scatter",
         "x": [
          73
         ],
         "y": [
          3
         ]
        },
        {
         "marker": {
          "color": "blue",
          "opacity": 0.5,
          "size": 1.2195121951219512
         },
         "mode": "markers",
         "showlegend": false,
         "type": "scatter",
         "x": [
          73
         ],
         "y": [
          5
         ]
        },
        {
         "marker": {
          "color": "blue",
          "opacity": 0.5,
          "size": 3.6585365853658534
         },
         "mode": "markers",
         "showlegend": false,
         "type": "scatter",
         "x": [
          73
         ],
         "y": [
          6
         ]
        },
        {
         "marker": {
          "color": "blue",
          "opacity": 0.5,
          "size": 2.4390243902439024
         },
         "mode": "markers",
         "showlegend": false,
         "type": "scatter",
         "x": [
          73
         ],
         "y": [
          8
         ]
        },
        {
         "marker": {
          "color": "blue",
          "opacity": 0.5,
          "size": 1.2195121951219512
         },
         "mode": "markers",
         "showlegend": false,
         "type": "scatter",
         "x": [
          73
         ],
         "y": [
          9
         ]
        },
        {
         "marker": {
          "color": "blue",
          "opacity": 0.5,
          "size": 1.2195121951219512
         },
         "mode": "markers",
         "showlegend": false,
         "type": "scatter",
         "x": [
          73
         ],
         "y": [
          11
         ]
        },
        {
         "marker": {
          "color": "blue",
          "opacity": 0.5,
          "size": 2.4390243902439024
         },
         "mode": "markers",
         "showlegend": false,
         "type": "scatter",
         "x": [
          73
         ],
         "y": [
          12
         ]
        },
        {
         "marker": {
          "color": "blue",
          "opacity": 0.5,
          "size": 2.4390243902439024
         },
         "mode": "markers",
         "showlegend": false,
         "type": "scatter",
         "x": [
          73
         ],
         "y": [
          14
         ]
        },
        {
         "marker": {
          "color": "blue",
          "opacity": 0.5,
          "size": 1.2195121951219512
         },
         "mode": "markers",
         "showlegend": false,
         "type": "scatter",
         "x": [
          73
         ],
         "y": [
          16
         ]
        },
        {
         "marker": {
          "color": "blue",
          "opacity": 0.5,
          "size": 1.2195121951219512
         },
         "mode": "markers",
         "showlegend": false,
         "type": "scatter",
         "x": [
          73
         ],
         "y": [
          17
         ]
        },
        {
         "marker": {
          "color": "blue",
          "opacity": 0.5,
          "size": 1.2195121951219512
         },
         "mode": "markers",
         "showlegend": false,
         "type": "scatter",
         "x": [
          73
         ],
         "y": [
          18
         ]
        },
        {
         "marker": {
          "color": "blue",
          "opacity": 0.5,
          "size": 3.6585365853658534
         },
         "mode": "markers",
         "showlegend": false,
         "type": "scatter",
         "x": [
          73
         ],
         "y": [
          19
         ]
        },
        {
         "marker": {
          "color": "blue",
          "opacity": 0.5,
          "size": 1.2195121951219512
         },
         "mode": "markers",
         "showlegend": false,
         "type": "scatter",
         "x": [
          73
         ],
         "y": [
          21
         ]
        },
        {
         "marker": {
          "color": "blue",
          "opacity": 0.5,
          "size": 1.2195121951219512
         },
         "mode": "markers",
         "showlegend": false,
         "type": "scatter",
         "x": [
          73
         ],
         "y": [
          22
         ]
        },
        {
         "marker": {
          "color": "blue",
          "opacity": 0.5,
          "size": 1.2195121951219512
         },
         "mode": "markers",
         "showlegend": false,
         "type": "scatter",
         "x": [
          73
         ],
         "y": [
          25
         ]
        },
        {
         "marker": {
          "color": "blue",
          "opacity": 0.5,
          "size": 1.2195121951219512
         },
         "mode": "markers",
         "showlegend": false,
         "type": "scatter",
         "x": [
          73
         ],
         "y": [
          26
         ]
        },
        {
         "marker": {
          "color": "blue",
          "opacity": 0.5,
          "size": 1.2195121951219512
         },
         "mode": "markers",
         "showlegend": false,
         "type": "scatter",
         "x": [
          73
         ],
         "y": [
          29
         ]
        },
        {
         "marker": {
          "color": "blue",
          "opacity": 0.5,
          "size": 1.2195121951219512
         },
         "mode": "markers",
         "showlegend": false,
         "type": "scatter",
         "x": [
          73
         ],
         "y": [
          31
         ]
        },
        {
         "marker": {
          "color": "blue",
          "opacity": 0.5,
          "size": 1.2195121951219512
         },
         "mode": "markers",
         "showlegend": false,
         "type": "scatter",
         "x": [
          73
         ],
         "y": [
          35
         ]
        },
        {
         "marker": {
          "color": "blue",
          "opacity": 0.5,
          "size": 1.2195121951219512
         },
         "mode": "markers",
         "showlegend": false,
         "type": "scatter",
         "x": [
          73
         ],
         "y": [
          36
         ]
        },
        {
         "marker": {
          "color": "blue",
          "opacity": 0.5,
          "size": 1.2195121951219512
         },
         "mode": "markers",
         "showlegend": false,
         "type": "scatter",
         "x": [
          73
         ],
         "y": [
          40
         ]
        },
        {
         "marker": {
          "color": "blue",
          "opacity": 0.5,
          "size": 1.2195121951219512
         },
         "mode": "markers",
         "showlegend": false,
         "type": "scatter",
         "x": [
          74
         ],
         "y": [
          -35
         ]
        },
        {
         "marker": {
          "color": "blue",
          "opacity": 0.5,
          "size": 1.2195121951219512
         },
         "mode": "markers",
         "showlegend": false,
         "type": "scatter",
         "x": [
          74
         ],
         "y": [
          -34
         ]
        },
        {
         "marker": {
          "color": "blue",
          "opacity": 0.5,
          "size": 1.2195121951219512
         },
         "mode": "markers",
         "showlegend": false,
         "type": "scatter",
         "x": [
          74
         ],
         "y": [
          -31
         ]
        },
        {
         "marker": {
          "color": "blue",
          "opacity": 0.5,
          "size": 1.2195121951219512
         },
         "mode": "markers",
         "showlegend": false,
         "type": "scatter",
         "x": [
          74
         ],
         "y": [
          -27
         ]
        },
        {
         "marker": {
          "color": "blue",
          "opacity": 0.5,
          "size": 2.4390243902439024
         },
         "mode": "markers",
         "showlegend": false,
         "type": "scatter",
         "x": [
          74
         ],
         "y": [
          -21
         ]
        },
        {
         "marker": {
          "color": "blue",
          "opacity": 0.5,
          "size": 1.2195121951219512
         },
         "mode": "markers",
         "showlegend": false,
         "type": "scatter",
         "x": [
          74
         ],
         "y": [
          -17
         ]
        },
        {
         "marker": {
          "color": "blue",
          "opacity": 0.5,
          "size": 1.2195121951219512
         },
         "mode": "markers",
         "showlegend": false,
         "type": "scatter",
         "x": [
          74
         ],
         "y": [
          -15
         ]
        },
        {
         "marker": {
          "color": "blue",
          "opacity": 0.5,
          "size": 2.4390243902439024
         },
         "mode": "markers",
         "showlegend": false,
         "type": "scatter",
         "x": [
          74
         ],
         "y": [
          -13
         ]
        },
        {
         "marker": {
          "color": "blue",
          "opacity": 0.5,
          "size": 3.6585365853658534
         },
         "mode": "markers",
         "showlegend": false,
         "type": "scatter",
         "x": [
          74
         ],
         "y": [
          -12
         ]
        },
        {
         "marker": {
          "color": "blue",
          "opacity": 0.5,
          "size": 1.2195121951219512
         },
         "mode": "markers",
         "showlegend": false,
         "type": "scatter",
         "x": [
          74
         ],
         "y": [
          -9
         ]
        },
        {
         "marker": {
          "color": "blue",
          "opacity": 0.5,
          "size": 3.6585365853658534
         },
         "mode": "markers",
         "showlegend": false,
         "type": "scatter",
         "x": [
          74
         ],
         "y": [
          -8
         ]
        },
        {
         "marker": {
          "color": "blue",
          "opacity": 0.5,
          "size": 1.2195121951219512
         },
         "mode": "markers",
         "showlegend": false,
         "type": "scatter",
         "x": [
          74
         ],
         "y": [
          -7
         ]
        },
        {
         "marker": {
          "color": "blue",
          "opacity": 0.5,
          "size": 1.2195121951219512
         },
         "mode": "markers",
         "showlegend": false,
         "type": "scatter",
         "x": [
          74
         ],
         "y": [
          -6
         ]
        },
        {
         "marker": {
          "color": "blue",
          "opacity": 0.5,
          "size": 1.2195121951219512
         },
         "mode": "markers",
         "showlegend": false,
         "type": "scatter",
         "x": [
          74
         ],
         "y": [
          -5
         ]
        },
        {
         "marker": {
          "color": "blue",
          "opacity": 0.5,
          "size": 3.6585365853658534
         },
         "mode": "markers",
         "showlegend": false,
         "type": "scatter",
         "x": [
          74
         ],
         "y": [
          -3
         ]
        },
        {
         "marker": {
          "color": "blue",
          "opacity": 0.5,
          "size": 2.4390243902439024
         },
         "mode": "markers",
         "showlegend": false,
         "type": "scatter",
         "x": [
          74
         ],
         "y": [
          -2
         ]
        },
        {
         "marker": {
          "color": "blue",
          "opacity": 0.5,
          "size": 6.097560975609756
         },
         "mode": "markers",
         "showlegend": false,
         "type": "scatter",
         "x": [
          74
         ],
         "y": [
          0
         ]
        },
        {
         "marker": {
          "color": "blue",
          "opacity": 0.5,
          "size": 2.4390243902439024
         },
         "mode": "markers",
         "showlegend": false,
         "type": "scatter",
         "x": [
          74
         ],
         "y": [
          1
         ]
        },
        {
         "marker": {
          "color": "blue",
          "opacity": 0.5,
          "size": 1.2195121951219512
         },
         "mode": "markers",
         "showlegend": false,
         "type": "scatter",
         "x": [
          74
         ],
         "y": [
          3
         ]
        },
        {
         "marker": {
          "color": "blue",
          "opacity": 0.5,
          "size": 1.2195121951219512
         },
         "mode": "markers",
         "showlegend": false,
         "type": "scatter",
         "x": [
          74
         ],
         "y": [
          5
         ]
        },
        {
         "marker": {
          "color": "blue",
          "opacity": 0.5,
          "size": 2.4390243902439024
         },
         "mode": "markers",
         "showlegend": false,
         "type": "scatter",
         "x": [
          74
         ],
         "y": [
          6
         ]
        },
        {
         "marker": {
          "color": "blue",
          "opacity": 0.5,
          "size": 1.2195121951219512
         },
         "mode": "markers",
         "showlegend": false,
         "type": "scatter",
         "x": [
          74
         ],
         "y": [
          7
         ]
        },
        {
         "marker": {
          "color": "blue",
          "opacity": 0.5,
          "size": 1.2195121951219512
         },
         "mode": "markers",
         "showlegend": false,
         "type": "scatter",
         "x": [
          74
         ],
         "y": [
          9
         ]
        },
        {
         "marker": {
          "color": "blue",
          "opacity": 0.5,
          "size": 4.878048780487805
         },
         "mode": "markers",
         "showlegend": false,
         "type": "scatter",
         "x": [
          74
         ],
         "y": [
          10
         ]
        },
        {
         "marker": {
          "color": "blue",
          "opacity": 0.5,
          "size": 1.2195121951219512
         },
         "mode": "markers",
         "showlegend": false,
         "type": "scatter",
         "x": [
          74
         ],
         "y": [
          11
         ]
        },
        {
         "marker": {
          "color": "blue",
          "opacity": 0.5,
          "size": 1.2195121951219512
         },
         "mode": "markers",
         "showlegend": false,
         "type": "scatter",
         "x": [
          74
         ],
         "y": [
          13
         ]
        },
        {
         "marker": {
          "color": "blue",
          "opacity": 0.5,
          "size": 2.4390243902439024
         },
         "mode": "markers",
         "showlegend": false,
         "type": "scatter",
         "x": [
          74
         ],
         "y": [
          14
         ]
        },
        {
         "marker": {
          "color": "blue",
          "opacity": 0.5,
          "size": 3.6585365853658534
         },
         "mode": "markers",
         "showlegend": false,
         "type": "scatter",
         "x": [
          74
         ],
         "y": [
          15
         ]
        },
        {
         "marker": {
          "color": "blue",
          "opacity": 0.5,
          "size": 1.2195121951219512
         },
         "mode": "markers",
         "showlegend": false,
         "type": "scatter",
         "x": [
          74
         ],
         "y": [
          16
         ]
        },
        {
         "marker": {
          "color": "blue",
          "opacity": 0.5,
          "size": 2.4390243902439024
         },
         "mode": "markers",
         "showlegend": false,
         "type": "scatter",
         "x": [
          74
         ],
         "y": [
          17
         ]
        },
        {
         "marker": {
          "color": "blue",
          "opacity": 0.5,
          "size": 1.2195121951219512
         },
         "mode": "markers",
         "showlegend": false,
         "type": "scatter",
         "x": [
          74
         ],
         "y": [
          18
         ]
        },
        {
         "marker": {
          "color": "blue",
          "opacity": 0.5,
          "size": 2.4390243902439024
         },
         "mode": "markers",
         "showlegend": false,
         "type": "scatter",
         "x": [
          74
         ],
         "y": [
          20
         ]
        },
        {
         "marker": {
          "color": "blue",
          "opacity": 0.5,
          "size": 1.2195121951219512
         },
         "mode": "markers",
         "showlegend": false,
         "type": "scatter",
         "x": [
          74
         ],
         "y": [
          21
         ]
        },
        {
         "marker": {
          "color": "blue",
          "opacity": 0.5,
          "size": 2.4390243902439024
         },
         "mode": "markers",
         "showlegend": false,
         "type": "scatter",
         "x": [
          74
         ],
         "y": [
          22
         ]
        },
        {
         "marker": {
          "color": "blue",
          "opacity": 0.5,
          "size": 1.2195121951219512
         },
         "mode": "markers",
         "showlegend": false,
         "type": "scatter",
         "x": [
          74
         ],
         "y": [
          24
         ]
        },
        {
         "marker": {
          "color": "blue",
          "opacity": 0.5,
          "size": 1.2195121951219512
         },
         "mode": "markers",
         "showlegend": false,
         "type": "scatter",
         "x": [
          74
         ],
         "y": [
          31
         ]
        },
        {
         "marker": {
          "color": "blue",
          "opacity": 0.5,
          "size": 1.2195121951219512
         },
         "mode": "markers",
         "showlegend": false,
         "type": "scatter",
         "x": [
          74
         ],
         "y": [
          34
         ]
        },
        {
         "marker": {
          "color": "blue",
          "opacity": 0.5,
          "size": 1.2195121951219512
         },
         "mode": "markers",
         "showlegend": false,
         "type": "scatter",
         "x": [
          74
         ],
         "y": [
          36
         ]
        },
        {
         "marker": {
          "color": "blue",
          "opacity": 0.5,
          "size": 1.2195121951219512
         },
         "mode": "markers",
         "showlegend": false,
         "type": "scatter",
         "x": [
          74
         ],
         "y": [
          37
         ]
        },
        {
         "marker": {
          "color": "blue",
          "opacity": 0.5,
          "size": 1.2195121951219512
         },
         "mode": "markers",
         "showlegend": false,
         "type": "scatter",
         "x": [
          75
         ],
         "y": [
          -38
         ]
        },
        {
         "marker": {
          "color": "blue",
          "opacity": 0.5,
          "size": 1.2195121951219512
         },
         "mode": "markers",
         "showlegend": false,
         "type": "scatter",
         "x": [
          75
         ],
         "y": [
          -36
         ]
        },
        {
         "marker": {
          "color": "blue",
          "opacity": 0.5,
          "size": 1.2195121951219512
         },
         "mode": "markers",
         "showlegend": false,
         "type": "scatter",
         "x": [
          75
         ],
         "y": [
          -35
         ]
        },
        {
         "marker": {
          "color": "blue",
          "opacity": 0.5,
          "size": 1.2195121951219512
         },
         "mode": "markers",
         "showlegend": false,
         "type": "scatter",
         "x": [
          75
         ],
         "y": [
          -31
         ]
        },
        {
         "marker": {
          "color": "blue",
          "opacity": 0.5,
          "size": 1.2195121951219512
         },
         "mode": "markers",
         "showlegend": false,
         "type": "scatter",
         "x": [
          75
         ],
         "y": [
          -30
         ]
        },
        {
         "marker": {
          "color": "blue",
          "opacity": 0.5,
          "size": 1.2195121951219512
         },
         "mode": "markers",
         "showlegend": false,
         "type": "scatter",
         "x": [
          75
         ],
         "y": [
          -26
         ]
        },
        {
         "marker": {
          "color": "blue",
          "opacity": 0.5,
          "size": 1.2195121951219512
         },
         "mode": "markers",
         "showlegend": false,
         "type": "scatter",
         "x": [
          75
         ],
         "y": [
          -23
         ]
        },
        {
         "marker": {
          "color": "blue",
          "opacity": 0.5,
          "size": 1.2195121951219512
         },
         "mode": "markers",
         "showlegend": false,
         "type": "scatter",
         "x": [
          75
         ],
         "y": [
          -21
         ]
        },
        {
         "marker": {
          "color": "blue",
          "opacity": 0.5,
          "size": 2.4390243902439024
         },
         "mode": "markers",
         "showlegend": false,
         "type": "scatter",
         "x": [
          75
         ],
         "y": [
          -20
         ]
        },
        {
         "marker": {
          "color": "blue",
          "opacity": 0.5,
          "size": 1.2195121951219512
         },
         "mode": "markers",
         "showlegend": false,
         "type": "scatter",
         "x": [
          75
         ],
         "y": [
          -17
         ]
        },
        {
         "marker": {
          "color": "blue",
          "opacity": 0.5,
          "size": 2.4390243902439024
         },
         "mode": "markers",
         "showlegend": false,
         "type": "scatter",
         "x": [
          75
         ],
         "y": [
          -16
         ]
        },
        {
         "marker": {
          "color": "blue",
          "opacity": 0.5,
          "size": 1.2195121951219512
         },
         "mode": "markers",
         "showlegend": false,
         "type": "scatter",
         "x": [
          75
         ],
         "y": [
          -12
         ]
        },
        {
         "marker": {
          "color": "blue",
          "opacity": 0.5,
          "size": 2.4390243902439024
         },
         "mode": "markers",
         "showlegend": false,
         "type": "scatter",
         "x": [
          75
         ],
         "y": [
          -10
         ]
        },
        {
         "marker": {
          "color": "blue",
          "opacity": 0.5,
          "size": 1.2195121951219512
         },
         "mode": "markers",
         "showlegend": false,
         "type": "scatter",
         "x": [
          75
         ],
         "y": [
          -9
         ]
        },
        {
         "marker": {
          "color": "blue",
          "opacity": 0.5,
          "size": 4.878048780487805
         },
         "mode": "markers",
         "showlegend": false,
         "type": "scatter",
         "x": [
          75
         ],
         "y": [
          -7
         ]
        },
        {
         "marker": {
          "color": "blue",
          "opacity": 0.5,
          "size": 2.4390243902439024
         },
         "mode": "markers",
         "showlegend": false,
         "type": "scatter",
         "x": [
          75
         ],
         "y": [
          -5
         ]
        },
        {
         "marker": {
          "color": "blue",
          "opacity": 0.5,
          "size": 1.2195121951219512
         },
         "mode": "markers",
         "showlegend": false,
         "type": "scatter",
         "x": [
          75
         ],
         "y": [
          -3
         ]
        },
        {
         "marker": {
          "color": "blue",
          "opacity": 0.5,
          "size": 1.2195121951219512
         },
         "mode": "markers",
         "showlegend": false,
         "type": "scatter",
         "x": [
          75
         ],
         "y": [
          -2
         ]
        },
        {
         "marker": {
          "color": "blue",
          "opacity": 0.5,
          "size": 2.4390243902439024
         },
         "mode": "markers",
         "showlegend": false,
         "type": "scatter",
         "x": [
          75
         ],
         "y": [
          -1
         ]
        },
        {
         "marker": {
          "color": "blue",
          "opacity": 0.5,
          "size": 4.878048780487805
         },
         "mode": "markers",
         "showlegend": false,
         "type": "scatter",
         "x": [
          75
         ],
         "y": [
          1
         ]
        },
        {
         "marker": {
          "color": "blue",
          "opacity": 0.5,
          "size": 1.2195121951219512
         },
         "mode": "markers",
         "showlegend": false,
         "type": "scatter",
         "x": [
          75
         ],
         "y": [
          2
         ]
        },
        {
         "marker": {
          "color": "blue",
          "opacity": 0.5,
          "size": 3.6585365853658534
         },
         "mode": "markers",
         "showlegend": false,
         "type": "scatter",
         "x": [
          75
         ],
         "y": [
          3
         ]
        },
        {
         "marker": {
          "color": "blue",
          "opacity": 0.5,
          "size": 1.2195121951219512
         },
         "mode": "markers",
         "showlegend": false,
         "type": "scatter",
         "x": [
          75
         ],
         "y": [
          5
         ]
        },
        {
         "marker": {
          "color": "blue",
          "opacity": 0.5,
          "size": 2.4390243902439024
         },
         "mode": "markers",
         "showlegend": false,
         "type": "scatter",
         "x": [
          75
         ],
         "y": [
          7
         ]
        },
        {
         "marker": {
          "color": "blue",
          "opacity": 0.5,
          "size": 1.2195121951219512
         },
         "mode": "markers",
         "showlegend": false,
         "type": "scatter",
         "x": [
          75
         ],
         "y": [
          10
         ]
        },
        {
         "marker": {
          "color": "blue",
          "opacity": 0.5,
          "size": 1.2195121951219512
         },
         "mode": "markers",
         "showlegend": false,
         "type": "scatter",
         "x": [
          75
         ],
         "y": [
          11
         ]
        },
        {
         "marker": {
          "color": "blue",
          "opacity": 0.5,
          "size": 1.2195121951219512
         },
         "mode": "markers",
         "showlegend": false,
         "type": "scatter",
         "x": [
          75
         ],
         "y": [
          12
         ]
        },
        {
         "marker": {
          "color": "blue",
          "opacity": 0.5,
          "size": 1.2195121951219512
         },
         "mode": "markers",
         "showlegend": false,
         "type": "scatter",
         "x": [
          75
         ],
         "y": [
          14
         ]
        },
        {
         "marker": {
          "color": "blue",
          "opacity": 0.5,
          "size": 1.2195121951219512
         },
         "mode": "markers",
         "showlegend": false,
         "type": "scatter",
         "x": [
          75
         ],
         "y": [
          15
         ]
        },
        {
         "marker": {
          "color": "blue",
          "opacity": 0.5,
          "size": 1.2195121951219512
         },
         "mode": "markers",
         "showlegend": false,
         "type": "scatter",
         "x": [
          75
         ],
         "y": [
          16
         ]
        },
        {
         "marker": {
          "color": "blue",
          "opacity": 0.5,
          "size": 1.2195121951219512
         },
         "mode": "markers",
         "showlegend": false,
         "type": "scatter",
         "x": [
          75
         ],
         "y": [
          17
         ]
        },
        {
         "marker": {
          "color": "blue",
          "opacity": 0.5,
          "size": 2.4390243902439024
         },
         "mode": "markers",
         "showlegend": false,
         "type": "scatter",
         "x": [
          75
         ],
         "y": [
          21
         ]
        },
        {
         "marker": {
          "color": "blue",
          "opacity": 0.5,
          "size": 1.2195121951219512
         },
         "mode": "markers",
         "showlegend": false,
         "type": "scatter",
         "x": [
          75
         ],
         "y": [
          25
         ]
        },
        {
         "marker": {
          "color": "blue",
          "opacity": 0.5,
          "size": 1.2195121951219512
         },
         "mode": "markers",
         "showlegend": false,
         "type": "scatter",
         "x": [
          75
         ],
         "y": [
          26
         ]
        },
        {
         "marker": {
          "color": "blue",
          "opacity": 0.5,
          "size": 1.2195121951219512
         },
         "mode": "markers",
         "showlegend": false,
         "type": "scatter",
         "x": [
          75
         ],
         "y": [
          27
         ]
        },
        {
         "marker": {
          "color": "blue",
          "opacity": 0.5,
          "size": 1.2195121951219512
         },
         "mode": "markers",
         "showlegend": false,
         "type": "scatter",
         "x": [
          75
         ],
         "y": [
          31
         ]
        },
        {
         "marker": {
          "color": "blue",
          "opacity": 0.5,
          "size": 1.2195121951219512
         },
         "mode": "markers",
         "showlegend": false,
         "type": "scatter",
         "x": [
          75
         ],
         "y": [
          32
         ]
        },
        {
         "marker": {
          "color": "blue",
          "opacity": 0.5,
          "size": 1.2195121951219512
         },
         "mode": "markers",
         "showlegend": false,
         "type": "scatter",
         "x": [
          75
         ],
         "y": [
          33
         ]
        },
        {
         "marker": {
          "color": "blue",
          "opacity": 0.5,
          "size": 1.2195121951219512
         },
         "mode": "markers",
         "showlegend": false,
         "type": "scatter",
         "x": [
          75
         ],
         "y": [
          34
         ]
        },
        {
         "marker": {
          "color": "blue",
          "opacity": 0.5,
          "size": 1.2195121951219512
         },
         "mode": "markers",
         "showlegend": false,
         "type": "scatter",
         "x": [
          75
         ],
         "y": [
          35
         ]
        },
        {
         "marker": {
          "color": "blue",
          "opacity": 0.5,
          "size": 1.2195121951219512
         },
         "mode": "markers",
         "showlegend": false,
         "type": "scatter",
         "x": [
          76
         ],
         "y": [
          -32
         ]
        },
        {
         "marker": {
          "color": "blue",
          "opacity": 0.5,
          "size": 1.2195121951219512
         },
         "mode": "markers",
         "showlegend": false,
         "type": "scatter",
         "x": [
          76
         ],
         "y": [
          -31
         ]
        },
        {
         "marker": {
          "color": "blue",
          "opacity": 0.5,
          "size": 1.2195121951219512
         },
         "mode": "markers",
         "showlegend": false,
         "type": "scatter",
         "x": [
          76
         ],
         "y": [
          -30
         ]
        },
        {
         "marker": {
          "color": "blue",
          "opacity": 0.5,
          "size": 1.2195121951219512
         },
         "mode": "markers",
         "showlegend": false,
         "type": "scatter",
         "x": [
          76
         ],
         "y": [
          -29
         ]
        },
        {
         "marker": {
          "color": "blue",
          "opacity": 0.5,
          "size": 3.6585365853658534
         },
         "mode": "markers",
         "showlegend": false,
         "type": "scatter",
         "x": [
          76
         ],
         "y": [
          -27
         ]
        },
        {
         "marker": {
          "color": "blue",
          "opacity": 0.5,
          "size": 2.4390243902439024
         },
         "mode": "markers",
         "showlegend": false,
         "type": "scatter",
         "x": [
          76
         ],
         "y": [
          -25
         ]
        },
        {
         "marker": {
          "color": "blue",
          "opacity": 0.5,
          "size": 1.2195121951219512
         },
         "mode": "markers",
         "showlegend": false,
         "type": "scatter",
         "x": [
          76
         ],
         "y": [
          -24
         ]
        },
        {
         "marker": {
          "color": "blue",
          "opacity": 0.5,
          "size": 1.2195121951219512
         },
         "mode": "markers",
         "showlegend": false,
         "type": "scatter",
         "x": [
          76
         ],
         "y": [
          -21
         ]
        },
        {
         "marker": {
          "color": "blue",
          "opacity": 0.5,
          "size": 3.6585365853658534
         },
         "mode": "markers",
         "showlegend": false,
         "type": "scatter",
         "x": [
          76
         ],
         "y": [
          -18
         ]
        },
        {
         "marker": {
          "color": "blue",
          "opacity": 0.5,
          "size": 1.2195121951219512
         },
         "mode": "markers",
         "showlegend": false,
         "type": "scatter",
         "x": [
          76
         ],
         "y": [
          -17
         ]
        },
        {
         "marker": {
          "color": "blue",
          "opacity": 0.5,
          "size": 4.878048780487805
         },
         "mode": "markers",
         "showlegend": false,
         "type": "scatter",
         "x": [
          76
         ],
         "y": [
          -16
         ]
        },
        {
         "marker": {
          "color": "blue",
          "opacity": 0.5,
          "size": 2.4390243902439024
         },
         "mode": "markers",
         "showlegend": false,
         "type": "scatter",
         "x": [
          76
         ],
         "y": [
          -15
         ]
        },
        {
         "marker": {
          "color": "blue",
          "opacity": 0.5,
          "size": 2.4390243902439024
         },
         "mode": "markers",
         "showlegend": false,
         "type": "scatter",
         "x": [
          76
         ],
         "y": [
          -14
         ]
        },
        {
         "marker": {
          "color": "blue",
          "opacity": 0.5,
          "size": 2.4390243902439024
         },
         "mode": "markers",
         "showlegend": false,
         "type": "scatter",
         "x": [
          76
         ],
         "y": [
          -12
         ]
        },
        {
         "marker": {
          "color": "blue",
          "opacity": 0.5,
          "size": 1.2195121951219512
         },
         "mode": "markers",
         "showlegend": false,
         "type": "scatter",
         "x": [
          76
         ],
         "y": [
          -11
         ]
        },
        {
         "marker": {
          "color": "blue",
          "opacity": 0.5,
          "size": 3.6585365853658534
         },
         "mode": "markers",
         "showlegend": false,
         "type": "scatter",
         "x": [
          76
         ],
         "y": [
          -10
         ]
        },
        {
         "marker": {
          "color": "blue",
          "opacity": 0.5,
          "size": 3.6585365853658534
         },
         "mode": "markers",
         "showlegend": false,
         "type": "scatter",
         "x": [
          76
         ],
         "y": [
          -9
         ]
        },
        {
         "marker": {
          "color": "blue",
          "opacity": 0.5,
          "size": 2.4390243902439024
         },
         "mode": "markers",
         "showlegend": false,
         "type": "scatter",
         "x": [
          76
         ],
         "y": [
          -8
         ]
        },
        {
         "marker": {
          "color": "blue",
          "opacity": 0.5,
          "size": 1.2195121951219512
         },
         "mode": "markers",
         "showlegend": false,
         "type": "scatter",
         "x": [
          76
         ],
         "y": [
          -7
         ]
        },
        {
         "marker": {
          "color": "blue",
          "opacity": 0.5,
          "size": 2.4390243902439024
         },
         "mode": "markers",
         "showlegend": false,
         "type": "scatter",
         "x": [
          76
         ],
         "y": [
          -6
         ]
        },
        {
         "marker": {
          "color": "blue",
          "opacity": 0.5,
          "size": 3.6585365853658534
         },
         "mode": "markers",
         "showlegend": false,
         "type": "scatter",
         "x": [
          76
         ],
         "y": [
          -5
         ]
        },
        {
         "marker": {
          "color": "blue",
          "opacity": 0.5,
          "size": 1.2195121951219512
         },
         "mode": "markers",
         "showlegend": false,
         "type": "scatter",
         "x": [
          76
         ],
         "y": [
          -4
         ]
        },
        {
         "marker": {
          "color": "blue",
          "opacity": 0.5,
          "size": 2.4390243902439024
         },
         "mode": "markers",
         "showlegend": false,
         "type": "scatter",
         "x": [
          76
         ],
         "y": [
          -3
         ]
        },
        {
         "marker": {
          "color": "blue",
          "opacity": 0.5,
          "size": 2.4390243902439024
         },
         "mode": "markers",
         "showlegend": false,
         "type": "scatter",
         "x": [
          76
         ],
         "y": [
          -2
         ]
        },
        {
         "marker": {
          "color": "blue",
          "opacity": 0.5,
          "size": 7.317073170731707
         },
         "mode": "markers",
         "showlegend": false,
         "type": "scatter",
         "x": [
          76
         ],
         "y": [
          -1
         ]
        },
        {
         "marker": {
          "color": "blue",
          "opacity": 0.5,
          "size": 8.536585365853659
         },
         "mode": "markers",
         "showlegend": false,
         "type": "scatter",
         "x": [
          76
         ],
         "y": [
          0
         ]
        },
        {
         "marker": {
          "color": "blue",
          "opacity": 0.5,
          "size": 3.6585365853658534
         },
         "mode": "markers",
         "showlegend": false,
         "type": "scatter",
         "x": [
          76
         ],
         "y": [
          1
         ]
        },
        {
         "marker": {
          "color": "blue",
          "opacity": 0.5,
          "size": 2.4390243902439024
         },
         "mode": "markers",
         "showlegend": false,
         "type": "scatter",
         "x": [
          76
         ],
         "y": [
          2
         ]
        },
        {
         "marker": {
          "color": "blue",
          "opacity": 0.5,
          "size": 1.2195121951219512
         },
         "mode": "markers",
         "showlegend": false,
         "type": "scatter",
         "x": [
          76
         ],
         "y": [
          6
         ]
        },
        {
         "marker": {
          "color": "blue",
          "opacity": 0.5,
          "size": 4.878048780487805
         },
         "mode": "markers",
         "showlegend": false,
         "type": "scatter",
         "x": [
          76
         ],
         "y": [
          8
         ]
        },
        {
         "marker": {
          "color": "blue",
          "opacity": 0.5,
          "size": 1.2195121951219512
         },
         "mode": "markers",
         "showlegend": false,
         "type": "scatter",
         "x": [
          76
         ],
         "y": [
          10
         ]
        },
        {
         "marker": {
          "color": "blue",
          "opacity": 0.5,
          "size": 2.4390243902439024
         },
         "mode": "markers",
         "showlegend": false,
         "type": "scatter",
         "x": [
          76
         ],
         "y": [
          12
         ]
        },
        {
         "marker": {
          "color": "blue",
          "opacity": 0.5,
          "size": 1.2195121951219512
         },
         "mode": "markers",
         "showlegend": false,
         "type": "scatter",
         "x": [
          76
         ],
         "y": [
          13
         ]
        },
        {
         "marker": {
          "color": "blue",
          "opacity": 0.5,
          "size": 2.4390243902439024
         },
         "mode": "markers",
         "showlegend": false,
         "type": "scatter",
         "x": [
          76
         ],
         "y": [
          14
         ]
        },
        {
         "marker": {
          "color": "blue",
          "opacity": 0.5,
          "size": 2.4390243902439024
         },
         "mode": "markers",
         "showlegend": false,
         "type": "scatter",
         "x": [
          76
         ],
         "y": [
          16
         ]
        },
        {
         "marker": {
          "color": "blue",
          "opacity": 0.5,
          "size": 1.2195121951219512
         },
         "mode": "markers",
         "showlegend": false,
         "type": "scatter",
         "x": [
          76
         ],
         "y": [
          18
         ]
        },
        {
         "marker": {
          "color": "blue",
          "opacity": 0.5,
          "size": 3.6585365853658534
         },
         "mode": "markers",
         "showlegend": false,
         "type": "scatter",
         "x": [
          76
         ],
         "y": [
          19
         ]
        },
        {
         "marker": {
          "color": "blue",
          "opacity": 0.5,
          "size": 2.4390243902439024
         },
         "mode": "markers",
         "showlegend": false,
         "type": "scatter",
         "x": [
          76
         ],
         "y": [
          20
         ]
        },
        {
         "marker": {
          "color": "blue",
          "opacity": 0.5,
          "size": 2.4390243902439024
         },
         "mode": "markers",
         "showlegend": false,
         "type": "scatter",
         "x": [
          76
         ],
         "y": [
          23
         ]
        },
        {
         "marker": {
          "color": "blue",
          "opacity": 0.5,
          "size": 1.2195121951219512
         },
         "mode": "markers",
         "showlegend": false,
         "type": "scatter",
         "x": [
          76
         ],
         "y": [
          25
         ]
        },
        {
         "marker": {
          "color": "blue",
          "opacity": 0.5,
          "size": 3.6585365853658534
         },
         "mode": "markers",
         "showlegend": false,
         "type": "scatter",
         "x": [
          76
         ],
         "y": [
          27
         ]
        },
        {
         "marker": {
          "color": "blue",
          "opacity": 0.5,
          "size": 1.2195121951219512
         },
         "mode": "markers",
         "showlegend": false,
         "type": "scatter",
         "x": [
          76
         ],
         "y": [
          29
         ]
        },
        {
         "marker": {
          "color": "blue",
          "opacity": 0.5,
          "size": 1.2195121951219512
         },
         "mode": "markers",
         "showlegend": false,
         "type": "scatter",
         "x": [
          76
         ],
         "y": [
          34
         ]
        },
        {
         "marker": {
          "color": "blue",
          "opacity": 0.5,
          "size": 1.2195121951219512
         },
         "mode": "markers",
         "showlegend": false,
         "type": "scatter",
         "x": [
          76
         ],
         "y": [
          36
         ]
        },
        {
         "marker": {
          "color": "blue",
          "opacity": 0.5,
          "size": 1.2195121951219512
         },
         "mode": "markers",
         "showlegend": false,
         "type": "scatter",
         "x": [
          77
         ],
         "y": [
          -34
         ]
        },
        {
         "marker": {
          "color": "blue",
          "opacity": 0.5,
          "size": 1.2195121951219512
         },
         "mode": "markers",
         "showlegend": false,
         "type": "scatter",
         "x": [
          77
         ],
         "y": [
          -32
         ]
        },
        {
         "marker": {
          "color": "blue",
          "opacity": 0.5,
          "size": 3.6585365853658534
         },
         "mode": "markers",
         "showlegend": false,
         "type": "scatter",
         "x": [
          77
         ],
         "y": [
          -29
         ]
        },
        {
         "marker": {
          "color": "blue",
          "opacity": 0.5,
          "size": 1.2195121951219512
         },
         "mode": "markers",
         "showlegend": false,
         "type": "scatter",
         "x": [
          77
         ],
         "y": [
          -26
         ]
        },
        {
         "marker": {
          "color": "blue",
          "opacity": 0.5,
          "size": 1.2195121951219512
         },
         "mode": "markers",
         "showlegend": false,
         "type": "scatter",
         "x": [
          77
         ],
         "y": [
          -23
         ]
        },
        {
         "marker": {
          "color": "blue",
          "opacity": 0.5,
          "size": 1.2195121951219512
         },
         "mode": "markers",
         "showlegend": false,
         "type": "scatter",
         "x": [
          77
         ],
         "y": [
          -22
         ]
        },
        {
         "marker": {
          "color": "blue",
          "opacity": 0.5,
          "size": 1.2195121951219512
         },
         "mode": "markers",
         "showlegend": false,
         "type": "scatter",
         "x": [
          77
         ],
         "y": [
          -19
         ]
        },
        {
         "marker": {
          "color": "blue",
          "opacity": 0.5,
          "size": 1.2195121951219512
         },
         "mode": "markers",
         "showlegend": false,
         "type": "scatter",
         "x": [
          77
         ],
         "y": [
          -18
         ]
        },
        {
         "marker": {
          "color": "blue",
          "opacity": 0.5,
          "size": 2.4390243902439024
         },
         "mode": "markers",
         "showlegend": false,
         "type": "scatter",
         "x": [
          77
         ],
         "y": [
          -17
         ]
        },
        {
         "marker": {
          "color": "blue",
          "opacity": 0.5,
          "size": 1.2195121951219512
         },
         "mode": "markers",
         "showlegend": false,
         "type": "scatter",
         "x": [
          77
         ],
         "y": [
          -14
         ]
        },
        {
         "marker": {
          "color": "blue",
          "opacity": 0.5,
          "size": 3.6585365853658534
         },
         "mode": "markers",
         "showlegend": false,
         "type": "scatter",
         "x": [
          77
         ],
         "y": [
          -11
         ]
        },
        {
         "marker": {
          "color": "blue",
          "opacity": 0.5,
          "size": 2.4390243902439024
         },
         "mode": "markers",
         "showlegend": false,
         "type": "scatter",
         "x": [
          77
         ],
         "y": [
          -10
         ]
        },
        {
         "marker": {
          "color": "blue",
          "opacity": 0.5,
          "size": 1.2195121951219512
         },
         "mode": "markers",
         "showlegend": false,
         "type": "scatter",
         "x": [
          77
         ],
         "y": [
          -9
         ]
        },
        {
         "marker": {
          "color": "blue",
          "opacity": 0.5,
          "size": 2.4390243902439024
         },
         "mode": "markers",
         "showlegend": false,
         "type": "scatter",
         "x": [
          77
         ],
         "y": [
          -6
         ]
        },
        {
         "marker": {
          "color": "blue",
          "opacity": 0.5,
          "size": 2.4390243902439024
         },
         "mode": "markers",
         "showlegend": false,
         "type": "scatter",
         "x": [
          77
         ],
         "y": [
          -5
         ]
        },
        {
         "marker": {
          "color": "blue",
          "opacity": 0.5,
          "size": 2.4390243902439024
         },
         "mode": "markers",
         "showlegend": false,
         "type": "scatter",
         "x": [
          77
         ],
         "y": [
          -4
         ]
        },
        {
         "marker": {
          "color": "blue",
          "opacity": 0.5,
          "size": 3.6585365853658534
         },
         "mode": "markers",
         "showlegend": false,
         "type": "scatter",
         "x": [
          77
         ],
         "y": [
          -3
         ]
        },
        {
         "marker": {
          "color": "blue",
          "opacity": 0.5,
          "size": 2.4390243902439024
         },
         "mode": "markers",
         "showlegend": false,
         "type": "scatter",
         "x": [
          77
         ],
         "y": [
          -2
         ]
        },
        {
         "marker": {
          "color": "blue",
          "opacity": 0.5,
          "size": 3.6585365853658534
         },
         "mode": "markers",
         "showlegend": false,
         "type": "scatter",
         "x": [
          77
         ],
         "y": [
          -1
         ]
        },
        {
         "marker": {
          "color": "blue",
          "opacity": 0.5,
          "size": 2.4390243902439024
         },
         "mode": "markers",
         "showlegend": false,
         "type": "scatter",
         "x": [
          77
         ],
         "y": [
          0
         ]
        },
        {
         "marker": {
          "color": "blue",
          "opacity": 0.5,
          "size": 3.6585365853658534
         },
         "mode": "markers",
         "showlegend": false,
         "type": "scatter",
         "x": [
          77
         ],
         "y": [
          1
         ]
        },
        {
         "marker": {
          "color": "blue",
          "opacity": 0.5,
          "size": 6.097560975609756
         },
         "mode": "markers",
         "showlegend": false,
         "type": "scatter",
         "x": [
          77
         ],
         "y": [
          2
         ]
        },
        {
         "marker": {
          "color": "blue",
          "opacity": 0.5,
          "size": 7.317073170731707
         },
         "mode": "markers",
         "showlegend": false,
         "type": "scatter",
         "x": [
          77
         ],
         "y": [
          3
         ]
        },
        {
         "marker": {
          "color": "blue",
          "opacity": 0.5,
          "size": 3.6585365853658534
         },
         "mode": "markers",
         "showlegend": false,
         "type": "scatter",
         "x": [
          77
         ],
         "y": [
          4
         ]
        },
        {
         "marker": {
          "color": "blue",
          "opacity": 0.5,
          "size": 4.878048780487805
         },
         "mode": "markers",
         "showlegend": false,
         "type": "scatter",
         "x": [
          77
         ],
         "y": [
          5
         ]
        },
        {
         "marker": {
          "color": "blue",
          "opacity": 0.5,
          "size": 2.4390243902439024
         },
         "mode": "markers",
         "showlegend": false,
         "type": "scatter",
         "x": [
          77
         ],
         "y": [
          7
         ]
        },
        {
         "marker": {
          "color": "blue",
          "opacity": 0.5,
          "size": 4.878048780487805
         },
         "mode": "markers",
         "showlegend": false,
         "type": "scatter",
         "x": [
          77
         ],
         "y": [
          8
         ]
        },
        {
         "marker": {
          "color": "blue",
          "opacity": 0.5,
          "size": 2.4390243902439024
         },
         "mode": "markers",
         "showlegend": false,
         "type": "scatter",
         "x": [
          77
         ],
         "y": [
          10
         ]
        },
        {
         "marker": {
          "color": "blue",
          "opacity": 0.5,
          "size": 2.4390243902439024
         },
         "mode": "markers",
         "showlegend": false,
         "type": "scatter",
         "x": [
          77
         ],
         "y": [
          12
         ]
        },
        {
         "marker": {
          "color": "blue",
          "opacity": 0.5,
          "size": 1.2195121951219512
         },
         "mode": "markers",
         "showlegend": false,
         "type": "scatter",
         "x": [
          77
         ],
         "y": [
          14
         ]
        },
        {
         "marker": {
          "color": "blue",
          "opacity": 0.5,
          "size": 1.2195121951219512
         },
         "mode": "markers",
         "showlegend": false,
         "type": "scatter",
         "x": [
          77
         ],
         "y": [
          18
         ]
        },
        {
         "marker": {
          "color": "blue",
          "opacity": 0.5,
          "size": 1.2195121951219512
         },
         "mode": "markers",
         "showlegend": false,
         "type": "scatter",
         "x": [
          77
         ],
         "y": [
          20
         ]
        },
        {
         "marker": {
          "color": "blue",
          "opacity": 0.5,
          "size": 2.4390243902439024
         },
         "mode": "markers",
         "showlegend": false,
         "type": "scatter",
         "x": [
          77
         ],
         "y": [
          21
         ]
        },
        {
         "marker": {
          "color": "blue",
          "opacity": 0.5,
          "size": 1.2195121951219512
         },
         "mode": "markers",
         "showlegend": false,
         "type": "scatter",
         "x": [
          77
         ],
         "y": [
          23
         ]
        },
        {
         "marker": {
          "color": "blue",
          "opacity": 0.5,
          "size": 1.2195121951219512
         },
         "mode": "markers",
         "showlegend": false,
         "type": "scatter",
         "x": [
          77
         ],
         "y": [
          28
         ]
        },
        {
         "marker": {
          "color": "blue",
          "opacity": 0.5,
          "size": 1.2195121951219512
         },
         "mode": "markers",
         "showlegend": false,
         "type": "scatter",
         "x": [
          77
         ],
         "y": [
          30
         ]
        },
        {
         "marker": {
          "color": "blue",
          "opacity": 0.5,
          "size": 1.2195121951219512
         },
         "mode": "markers",
         "showlegend": false,
         "type": "scatter",
         "x": [
          78
         ],
         "y": [
          -30
         ]
        },
        {
         "marker": {
          "color": "blue",
          "opacity": 0.5,
          "size": 1.2195121951219512
         },
         "mode": "markers",
         "showlegend": false,
         "type": "scatter",
         "x": [
          78
         ],
         "y": [
          -29
         ]
        },
        {
         "marker": {
          "color": "blue",
          "opacity": 0.5,
          "size": 2.4390243902439024
         },
         "mode": "markers",
         "showlegend": false,
         "type": "scatter",
         "x": [
          78
         ],
         "y": [
          -22
         ]
        },
        {
         "marker": {
          "color": "blue",
          "opacity": 0.5,
          "size": 2.4390243902439024
         },
         "mode": "markers",
         "showlegend": false,
         "type": "scatter",
         "x": [
          78
         ],
         "y": [
          -21
         ]
        },
        {
         "marker": {
          "color": "blue",
          "opacity": 0.5,
          "size": 1.2195121951219512
         },
         "mode": "markers",
         "showlegend": false,
         "type": "scatter",
         "x": [
          78
         ],
         "y": [
          -20
         ]
        },
        {
         "marker": {
          "color": "blue",
          "opacity": 0.5,
          "size": 1.2195121951219512
         },
         "mode": "markers",
         "showlegend": false,
         "type": "scatter",
         "x": [
          78
         ],
         "y": [
          -19
         ]
        },
        {
         "marker": {
          "color": "blue",
          "opacity": 0.5,
          "size": 1.2195121951219512
         },
         "mode": "markers",
         "showlegend": false,
         "type": "scatter",
         "x": [
          78
         ],
         "y": [
          -18
         ]
        },
        {
         "marker": {
          "color": "blue",
          "opacity": 0.5,
          "size": 1.2195121951219512
         },
         "mode": "markers",
         "showlegend": false,
         "type": "scatter",
         "x": [
          78
         ],
         "y": [
          -16
         ]
        },
        {
         "marker": {
          "color": "blue",
          "opacity": 0.5,
          "size": 1.2195121951219512
         },
         "mode": "markers",
         "showlegend": false,
         "type": "scatter",
         "x": [
          78
         ],
         "y": [
          -13
         ]
        },
        {
         "marker": {
          "color": "blue",
          "opacity": 0.5,
          "size": 2.4390243902439024
         },
         "mode": "markers",
         "showlegend": false,
         "type": "scatter",
         "x": [
          78
         ],
         "y": [
          -12
         ]
        },
        {
         "marker": {
          "color": "blue",
          "opacity": 0.5,
          "size": 1.2195121951219512
         },
         "mode": "markers",
         "showlegend": false,
         "type": "scatter",
         "x": [
          78
         ],
         "y": [
          -11
         ]
        },
        {
         "marker": {
          "color": "blue",
          "opacity": 0.5,
          "size": 2.4390243902439024
         },
         "mode": "markers",
         "showlegend": false,
         "type": "scatter",
         "x": [
          78
         ],
         "y": [
          -10
         ]
        },
        {
         "marker": {
          "color": "blue",
          "opacity": 0.5,
          "size": 2.4390243902439024
         },
         "mode": "markers",
         "showlegend": false,
         "type": "scatter",
         "x": [
          78
         ],
         "y": [
          -9
         ]
        },
        {
         "marker": {
          "color": "blue",
          "opacity": 0.5,
          "size": 2.4390243902439024
         },
         "mode": "markers",
         "showlegend": false,
         "type": "scatter",
         "x": [
          78
         ],
         "y": [
          -8
         ]
        },
        {
         "marker": {
          "color": "blue",
          "opacity": 0.5,
          "size": 6.097560975609756
         },
         "mode": "markers",
         "showlegend": false,
         "type": "scatter",
         "x": [
          78
         ],
         "y": [
          -7
         ]
        },
        {
         "marker": {
          "color": "blue",
          "opacity": 0.5,
          "size": 2.4390243902439024
         },
         "mode": "markers",
         "showlegend": false,
         "type": "scatter",
         "x": [
          78
         ],
         "y": [
          -6
         ]
        },
        {
         "marker": {
          "color": "blue",
          "opacity": 0.5,
          "size": 2.4390243902439024
         },
         "mode": "markers",
         "showlegend": false,
         "type": "scatter",
         "x": [
          78
         ],
         "y": [
          -5
         ]
        },
        {
         "marker": {
          "color": "blue",
          "opacity": 0.5,
          "size": 1.2195121951219512
         },
         "mode": "markers",
         "showlegend": false,
         "type": "scatter",
         "x": [
          78
         ],
         "y": [
          -4
         ]
        },
        {
         "marker": {
          "color": "blue",
          "opacity": 0.5,
          "size": 3.6585365853658534
         },
         "mode": "markers",
         "showlegend": false,
         "type": "scatter",
         "x": [
          78
         ],
         "y": [
          -3
         ]
        },
        {
         "marker": {
          "color": "blue",
          "opacity": 0.5,
          "size": 3.6585365853658534
         },
         "mode": "markers",
         "showlegend": false,
         "type": "scatter",
         "x": [
          78
         ],
         "y": [
          -2
         ]
        },
        {
         "marker": {
          "color": "blue",
          "opacity": 0.5,
          "size": 8.536585365853659
         },
         "mode": "markers",
         "showlegend": false,
         "type": "scatter",
         "x": [
          78
         ],
         "y": [
          -1
         ]
        },
        {
         "marker": {
          "color": "blue",
          "opacity": 0.5,
          "size": 1.2195121951219512
         },
         "mode": "markers",
         "showlegend": false,
         "type": "scatter",
         "x": [
          78
         ],
         "y": [
          0
         ]
        },
        {
         "marker": {
          "color": "blue",
          "opacity": 0.5,
          "size": 6.097560975609756
         },
         "mode": "markers",
         "showlegend": false,
         "type": "scatter",
         "x": [
          78
         ],
         "y": [
          1
         ]
        },
        {
         "marker": {
          "color": "blue",
          "opacity": 0.5,
          "size": 6.097560975609756
         },
         "mode": "markers",
         "showlegend": false,
         "type": "scatter",
         "x": [
          78
         ],
         "y": [
          2
         ]
        },
        {
         "marker": {
          "color": "blue",
          "opacity": 0.5,
          "size": 6.097560975609756
         },
         "mode": "markers",
         "showlegend": false,
         "type": "scatter",
         "x": [
          78
         ],
         "y": [
          3
         ]
        },
        {
         "marker": {
          "color": "blue",
          "opacity": 0.5,
          "size": 2.4390243902439024
         },
         "mode": "markers",
         "showlegend": false,
         "type": "scatter",
         "x": [
          78
         ],
         "y": [
          4
         ]
        },
        {
         "marker": {
          "color": "blue",
          "opacity": 0.5,
          "size": 3.6585365853658534
         },
         "mode": "markers",
         "showlegend": false,
         "type": "scatter",
         "x": [
          78
         ],
         "y": [
          5
         ]
        },
        {
         "marker": {
          "color": "blue",
          "opacity": 0.5,
          "size": 4.878048780487805
         },
         "mode": "markers",
         "showlegend": false,
         "type": "scatter",
         "x": [
          78
         ],
         "y": [
          6
         ]
        },
        {
         "marker": {
          "color": "blue",
          "opacity": 0.5,
          "size": 4.878048780487805
         },
         "mode": "markers",
         "showlegend": false,
         "type": "scatter",
         "x": [
          78
         ],
         "y": [
          7
         ]
        },
        {
         "marker": {
          "color": "blue",
          "opacity": 0.5,
          "size": 2.4390243902439024
         },
         "mode": "markers",
         "showlegend": false,
         "type": "scatter",
         "x": [
          78
         ],
         "y": [
          8
         ]
        },
        {
         "marker": {
          "color": "blue",
          "opacity": 0.5,
          "size": 3.6585365853658534
         },
         "mode": "markers",
         "showlegend": false,
         "type": "scatter",
         "x": [
          78
         ],
         "y": [
          10
         ]
        },
        {
         "marker": {
          "color": "blue",
          "opacity": 0.5,
          "size": 1.2195121951219512
         },
         "mode": "markers",
         "showlegend": false,
         "type": "scatter",
         "x": [
          78
         ],
         "y": [
          12
         ]
        },
        {
         "marker": {
          "color": "blue",
          "opacity": 0.5,
          "size": 1.2195121951219512
         },
         "mode": "markers",
         "showlegend": false,
         "type": "scatter",
         "x": [
          78
         ],
         "y": [
          13
         ]
        },
        {
         "marker": {
          "color": "blue",
          "opacity": 0.5,
          "size": 1.2195121951219512
         },
         "mode": "markers",
         "showlegend": false,
         "type": "scatter",
         "x": [
          78
         ],
         "y": [
          16
         ]
        },
        {
         "marker": {
          "color": "blue",
          "opacity": 0.5,
          "size": 1.2195121951219512
         },
         "mode": "markers",
         "showlegend": false,
         "type": "scatter",
         "x": [
          78
         ],
         "y": [
          17
         ]
        },
        {
         "marker": {
          "color": "blue",
          "opacity": 0.5,
          "size": 1.2195121951219512
         },
         "mode": "markers",
         "showlegend": false,
         "type": "scatter",
         "x": [
          78
         ],
         "y": [
          18
         ]
        },
        {
         "marker": {
          "color": "blue",
          "opacity": 0.5,
          "size": 2.4390243902439024
         },
         "mode": "markers",
         "showlegend": false,
         "type": "scatter",
         "x": [
          78
         ],
         "y": [
          19
         ]
        },
        {
         "marker": {
          "color": "blue",
          "opacity": 0.5,
          "size": 1.2195121951219512
         },
         "mode": "markers",
         "showlegend": false,
         "type": "scatter",
         "x": [
          78
         ],
         "y": [
          20
         ]
        },
        {
         "marker": {
          "color": "blue",
          "opacity": 0.5,
          "size": 1.2195121951219512
         },
         "mode": "markers",
         "showlegend": false,
         "type": "scatter",
         "x": [
          78
         ],
         "y": [
          22
         ]
        },
        {
         "marker": {
          "color": "blue",
          "opacity": 0.5,
          "size": 1.2195121951219512
         },
         "mode": "markers",
         "showlegend": false,
         "type": "scatter",
         "x": [
          78
         ],
         "y": [
          24
         ]
        },
        {
         "marker": {
          "color": "blue",
          "opacity": 0.5,
          "size": 2.4390243902439024
         },
         "mode": "markers",
         "showlegend": false,
         "type": "scatter",
         "x": [
          78
         ],
         "y": [
          25
         ]
        },
        {
         "marker": {
          "color": "blue",
          "opacity": 0.5,
          "size": 2.4390243902439024
         },
         "mode": "markers",
         "showlegend": false,
         "type": "scatter",
         "x": [
          78
         ],
         "y": [
          27
         ]
        },
        {
         "marker": {
          "color": "blue",
          "opacity": 0.5,
          "size": 2.4390243902439024
         },
         "mode": "markers",
         "showlegend": false,
         "type": "scatter",
         "x": [
          78
         ],
         "y": [
          28
         ]
        },
        {
         "marker": {
          "color": "blue",
          "opacity": 0.5,
          "size": 1.2195121951219512
         },
         "mode": "markers",
         "showlegend": false,
         "type": "scatter",
         "x": [
          78
         ],
         "y": [
          33
         ]
        },
        {
         "marker": {
          "color": "blue",
          "opacity": 0.5,
          "size": 1.2195121951219512
         },
         "mode": "markers",
         "showlegend": false,
         "type": "scatter",
         "x": [
          79
         ],
         "y": [
          -38
         ]
        },
        {
         "marker": {
          "color": "blue",
          "opacity": 0.5,
          "size": 1.2195121951219512
         },
         "mode": "markers",
         "showlegend": false,
         "type": "scatter",
         "x": [
          79
         ],
         "y": [
          -27
         ]
        },
        {
         "marker": {
          "color": "blue",
          "opacity": 0.5,
          "size": 1.2195121951219512
         },
         "mode": "markers",
         "showlegend": false,
         "type": "scatter",
         "x": [
          79
         ],
         "y": [
          -22
         ]
        },
        {
         "marker": {
          "color": "blue",
          "opacity": 0.5,
          "size": 1.2195121951219512
         },
         "mode": "markers",
         "showlegend": false,
         "type": "scatter",
         "x": [
          79
         ],
         "y": [
          -19
         ]
        },
        {
         "marker": {
          "color": "blue",
          "opacity": 0.5,
          "size": 1.2195121951219512
         },
         "mode": "markers",
         "showlegend": false,
         "type": "scatter",
         "x": [
          79
         ],
         "y": [
          -18
         ]
        },
        {
         "marker": {
          "color": "blue",
          "opacity": 0.5,
          "size": 1.2195121951219512
         },
         "mode": "markers",
         "showlegend": false,
         "type": "scatter",
         "x": [
          79
         ],
         "y": [
          -12
         ]
        },
        {
         "marker": {
          "color": "blue",
          "opacity": 0.5,
          "size": 1.2195121951219512
         },
         "mode": "markers",
         "showlegend": false,
         "type": "scatter",
         "x": [
          79
         ],
         "y": [
          -11
         ]
        },
        {
         "marker": {
          "color": "blue",
          "opacity": 0.5,
          "size": 2.4390243902439024
         },
         "mode": "markers",
         "showlegend": false,
         "type": "scatter",
         "x": [
          79
         ],
         "y": [
          -10
         ]
        },
        {
         "marker": {
          "color": "blue",
          "opacity": 0.5,
          "size": 4.878048780487805
         },
         "mode": "markers",
         "showlegend": false,
         "type": "scatter",
         "x": [
          79
         ],
         "y": [
          -9
         ]
        },
        {
         "marker": {
          "color": "blue",
          "opacity": 0.5,
          "size": 1.2195121951219512
         },
         "mode": "markers",
         "showlegend": false,
         "type": "scatter",
         "x": [
          79
         ],
         "y": [
          -8
         ]
        },
        {
         "marker": {
          "color": "blue",
          "opacity": 0.5,
          "size": 1.2195121951219512
         },
         "mode": "markers",
         "showlegend": false,
         "type": "scatter",
         "x": [
          79
         ],
         "y": [
          -6
         ]
        },
        {
         "marker": {
          "color": "blue",
          "opacity": 0.5,
          "size": 4.878048780487805
         },
         "mode": "markers",
         "showlegend": false,
         "type": "scatter",
         "x": [
          79
         ],
         "y": [
          -5
         ]
        },
        {
         "marker": {
          "color": "blue",
          "opacity": 0.5,
          "size": 4.878048780487805
         },
         "mode": "markers",
         "showlegend": false,
         "type": "scatter",
         "x": [
          79
         ],
         "y": [
          -4
         ]
        },
        {
         "marker": {
          "color": "blue",
          "opacity": 0.5,
          "size": 4.878048780487805
         },
         "mode": "markers",
         "showlegend": false,
         "type": "scatter",
         "x": [
          79
         ],
         "y": [
          -3
         ]
        },
        {
         "marker": {
          "color": "blue",
          "opacity": 0.5,
          "size": 6.097560975609756
         },
         "mode": "markers",
         "showlegend": false,
         "type": "scatter",
         "x": [
          79
         ],
         "y": [
          -2
         ]
        },
        {
         "marker": {
          "color": "blue",
          "opacity": 0.5,
          "size": 13.414634146341465
         },
         "mode": "markers",
         "showlegend": false,
         "type": "scatter",
         "x": [
          79
         ],
         "y": [
          -1
         ]
        },
        {
         "marker": {
          "color": "blue",
          "opacity": 0.5,
          "size": 6.097560975609756
         },
         "mode": "markers",
         "showlegend": false,
         "type": "scatter",
         "x": [
          79
         ],
         "y": [
          0
         ]
        },
        {
         "marker": {
          "color": "blue",
          "opacity": 0.5,
          "size": 9.75609756097561
         },
         "mode": "markers",
         "showlegend": false,
         "type": "scatter",
         "x": [
          79
         ],
         "y": [
          1
         ]
        },
        {
         "marker": {
          "color": "blue",
          "opacity": 0.5,
          "size": 3.6585365853658534
         },
         "mode": "markers",
         "showlegend": false,
         "type": "scatter",
         "x": [
          79
         ],
         "y": [
          2
         ]
        },
        {
         "marker": {
          "color": "blue",
          "opacity": 0.5,
          "size": 4.878048780487805
         },
         "mode": "markers",
         "showlegend": false,
         "type": "scatter",
         "x": [
          79
         ],
         "y": [
          3
         ]
        },
        {
         "marker": {
          "color": "blue",
          "opacity": 0.5,
          "size": 6.097560975609756
         },
         "mode": "markers",
         "showlegend": false,
         "type": "scatter",
         "x": [
          79
         ],
         "y": [
          4
         ]
        },
        {
         "marker": {
          "color": "blue",
          "opacity": 0.5,
          "size": 6.097560975609756
         },
         "mode": "markers",
         "showlegend": false,
         "type": "scatter",
         "x": [
          79
         ],
         "y": [
          5
         ]
        },
        {
         "marker": {
          "color": "blue",
          "opacity": 0.5,
          "size": 1.2195121951219512
         },
         "mode": "markers",
         "showlegend": false,
         "type": "scatter",
         "x": [
          79
         ],
         "y": [
          6
         ]
        },
        {
         "marker": {
          "color": "blue",
          "opacity": 0.5,
          "size": 1.2195121951219512
         },
         "mode": "markers",
         "showlegend": false,
         "type": "scatter",
         "x": [
          79
         ],
         "y": [
          7
         ]
        },
        {
         "marker": {
          "color": "blue",
          "opacity": 0.5,
          "size": 4.878048780487805
         },
         "mode": "markers",
         "showlegend": false,
         "type": "scatter",
         "x": [
          79
         ],
         "y": [
          8
         ]
        },
        {
         "marker": {
          "color": "blue",
          "opacity": 0.5,
          "size": 2.4390243902439024
         },
         "mode": "markers",
         "showlegend": false,
         "type": "scatter",
         "x": [
          79
         ],
         "y": [
          9
         ]
        },
        {
         "marker": {
          "color": "blue",
          "opacity": 0.5,
          "size": 1.2195121951219512
         },
         "mode": "markers",
         "showlegend": false,
         "type": "scatter",
         "x": [
          79
         ],
         "y": [
          10
         ]
        },
        {
         "marker": {
          "color": "blue",
          "opacity": 0.5,
          "size": 2.4390243902439024
         },
         "mode": "markers",
         "showlegend": false,
         "type": "scatter",
         "x": [
          79
         ],
         "y": [
          11
         ]
        },
        {
         "marker": {
          "color": "blue",
          "opacity": 0.5,
          "size": 2.4390243902439024
         },
         "mode": "markers",
         "showlegend": false,
         "type": "scatter",
         "x": [
          79
         ],
         "y": [
          12
         ]
        },
        {
         "marker": {
          "color": "blue",
          "opacity": 0.5,
          "size": 1.2195121951219512
         },
         "mode": "markers",
         "showlegend": false,
         "type": "scatter",
         "x": [
          79
         ],
         "y": [
          14
         ]
        },
        {
         "marker": {
          "color": "blue",
          "opacity": 0.5,
          "size": 1.2195121951219512
         },
         "mode": "markers",
         "showlegend": false,
         "type": "scatter",
         "x": [
          79
         ],
         "y": [
          15
         ]
        },
        {
         "marker": {
          "color": "blue",
          "opacity": 0.5,
          "size": 2.4390243902439024
         },
         "mode": "markers",
         "showlegend": false,
         "type": "scatter",
         "x": [
          79
         ],
         "y": [
          16
         ]
        },
        {
         "marker": {
          "color": "blue",
          "opacity": 0.5,
          "size": 2.4390243902439024
         },
         "mode": "markers",
         "showlegend": false,
         "type": "scatter",
         "x": [
          79
         ],
         "y": [
          17
         ]
        },
        {
         "marker": {
          "color": "blue",
          "opacity": 0.5,
          "size": 2.4390243902439024
         },
         "mode": "markers",
         "showlegend": false,
         "type": "scatter",
         "x": [
          79
         ],
         "y": [
          18
         ]
        },
        {
         "marker": {
          "color": "blue",
          "opacity": 0.5,
          "size": 1.2195121951219512
         },
         "mode": "markers",
         "showlegend": false,
         "type": "scatter",
         "x": [
          79
         ],
         "y": [
          20
         ]
        },
        {
         "marker": {
          "color": "blue",
          "opacity": 0.5,
          "size": 1.2195121951219512
         },
         "mode": "markers",
         "showlegend": false,
         "type": "scatter",
         "x": [
          79
         ],
         "y": [
          21
         ]
        },
        {
         "marker": {
          "color": "blue",
          "opacity": 0.5,
          "size": 1.2195121951219512
         },
         "mode": "markers",
         "showlegend": false,
         "type": "scatter",
         "x": [
          79
         ],
         "y": [
          22
         ]
        },
        {
         "marker": {
          "color": "blue",
          "opacity": 0.5,
          "size": 2.4390243902439024
         },
         "mode": "markers",
         "showlegend": false,
         "type": "scatter",
         "x": [
          79
         ],
         "y": [
          23
         ]
        },
        {
         "marker": {
          "color": "blue",
          "opacity": 0.5,
          "size": 1.2195121951219512
         },
         "mode": "markers",
         "showlegend": false,
         "type": "scatter",
         "x": [
          79
         ],
         "y": [
          27
         ]
        },
        {
         "marker": {
          "color": "blue",
          "opacity": 0.5,
          "size": 1.2195121951219512
         },
         "mode": "markers",
         "showlegend": false,
         "type": "scatter",
         "x": [
          79
         ],
         "y": [
          36
         ]
        },
        {
         "marker": {
          "color": "blue",
          "opacity": 0.5,
          "size": 1.2195121951219512
         },
         "mode": "markers",
         "showlegend": false,
         "type": "scatter",
         "x": [
          80
         ],
         "y": [
          -32
         ]
        },
        {
         "marker": {
          "color": "blue",
          "opacity": 0.5,
          "size": 2.4390243902439024
         },
         "mode": "markers",
         "showlegend": false,
         "type": "scatter",
         "x": [
          80
         ],
         "y": [
          -28
         ]
        },
        {
         "marker": {
          "color": "blue",
          "opacity": 0.5,
          "size": 2.4390243902439024
         },
         "mode": "markers",
         "showlegend": false,
         "type": "scatter",
         "x": [
          80
         ],
         "y": [
          -25
         ]
        },
        {
         "marker": {
          "color": "blue",
          "opacity": 0.5,
          "size": 1.2195121951219512
         },
         "mode": "markers",
         "showlegend": false,
         "type": "scatter",
         "x": [
          80
         ],
         "y": [
          -24
         ]
        },
        {
         "marker": {
          "color": "blue",
          "opacity": 0.5,
          "size": 1.2195121951219512
         },
         "mode": "markers",
         "showlegend": false,
         "type": "scatter",
         "x": [
          80
         ],
         "y": [
          -23
         ]
        },
        {
         "marker": {
          "color": "blue",
          "opacity": 0.5,
          "size": 1.2195121951219512
         },
         "mode": "markers",
         "showlegend": false,
         "type": "scatter",
         "x": [
          80
         ],
         "y": [
          -22
         ]
        },
        {
         "marker": {
          "color": "blue",
          "opacity": 0.5,
          "size": 1.2195121951219512
         },
         "mode": "markers",
         "showlegend": false,
         "type": "scatter",
         "x": [
          80
         ],
         "y": [
          -21
         ]
        },
        {
         "marker": {
          "color": "blue",
          "opacity": 0.5,
          "size": 1.2195121951219512
         },
         "mode": "markers",
         "showlegend": false,
         "type": "scatter",
         "x": [
          80
         ],
         "y": [
          -17
         ]
        },
        {
         "marker": {
          "color": "blue",
          "opacity": 0.5,
          "size": 2.4390243902439024
         },
         "mode": "markers",
         "showlegend": false,
         "type": "scatter",
         "x": [
          80
         ],
         "y": [
          -14
         ]
        },
        {
         "marker": {
          "color": "blue",
          "opacity": 0.5,
          "size": 2.4390243902439024
         },
         "mode": "markers",
         "showlegend": false,
         "type": "scatter",
         "x": [
          80
         ],
         "y": [
          -11
         ]
        },
        {
         "marker": {
          "color": "blue",
          "opacity": 0.5,
          "size": 2.4390243902439024
         },
         "mode": "markers",
         "showlegend": false,
         "type": "scatter",
         "x": [
          80
         ],
         "y": [
          -10
         ]
        },
        {
         "marker": {
          "color": "blue",
          "opacity": 0.5,
          "size": 1.2195121951219512
         },
         "mode": "markers",
         "showlegend": false,
         "type": "scatter",
         "x": [
          80
         ],
         "y": [
          -9
         ]
        },
        {
         "marker": {
          "color": "blue",
          "opacity": 0.5,
          "size": 7.317073170731707
         },
         "mode": "markers",
         "showlegend": false,
         "type": "scatter",
         "x": [
          80
         ],
         "y": [
          -8
         ]
        },
        {
         "marker": {
          "color": "blue",
          "opacity": 0.5,
          "size": 1.2195121951219512
         },
         "mode": "markers",
         "showlegend": false,
         "type": "scatter",
         "x": [
          80
         ],
         "y": [
          -7
         ]
        },
        {
         "marker": {
          "color": "blue",
          "opacity": 0.5,
          "size": 6.097560975609756
         },
         "mode": "markers",
         "showlegend": false,
         "type": "scatter",
         "x": [
          80
         ],
         "y": [
          -6
         ]
        },
        {
         "marker": {
          "color": "blue",
          "opacity": 0.5,
          "size": 6.097560975609756
         },
         "mode": "markers",
         "showlegend": false,
         "type": "scatter",
         "x": [
          80
         ],
         "y": [
          -5
         ]
        },
        {
         "marker": {
          "color": "blue",
          "opacity": 0.5,
          "size": 7.317073170731707
         },
         "mode": "markers",
         "showlegend": false,
         "type": "scatter",
         "x": [
          80
         ],
         "y": [
          -4
         ]
        },
        {
         "marker": {
          "color": "blue",
          "opacity": 0.5,
          "size": 7.317073170731707
         },
         "mode": "markers",
         "showlegend": false,
         "type": "scatter",
         "x": [
          80
         ],
         "y": [
          -3
         ]
        },
        {
         "marker": {
          "color": "blue",
          "opacity": 0.5,
          "size": 2.4390243902439024
         },
         "mode": "markers",
         "showlegend": false,
         "type": "scatter",
         "x": [
          80
         ],
         "y": [
          -2
         ]
        },
        {
         "marker": {
          "color": "blue",
          "opacity": 0.5,
          "size": 4.878048780487805
         },
         "mode": "markers",
         "showlegend": false,
         "type": "scatter",
         "x": [
          80
         ],
         "y": [
          -1
         ]
        },
        {
         "marker": {
          "color": "blue",
          "opacity": 0.5,
          "size": 2.4390243902439024
         },
         "mode": "markers",
         "showlegend": false,
         "type": "scatter",
         "x": [
          80
         ],
         "y": [
          0
         ]
        },
        {
         "marker": {
          "color": "blue",
          "opacity": 0.5,
          "size": 7.317073170731707
         },
         "mode": "markers",
         "showlegend": false,
         "type": "scatter",
         "x": [
          80
         ],
         "y": [
          1
         ]
        },
        {
         "marker": {
          "color": "blue",
          "opacity": 0.5,
          "size": 3.6585365853658534
         },
         "mode": "markers",
         "showlegend": false,
         "type": "scatter",
         "x": [
          80
         ],
         "y": [
          2
         ]
        },
        {
         "marker": {
          "color": "blue",
          "opacity": 0.5,
          "size": 1.2195121951219512
         },
         "mode": "markers",
         "showlegend": false,
         "type": "scatter",
         "x": [
          80
         ],
         "y": [
          3
         ]
        },
        {
         "marker": {
          "color": "blue",
          "opacity": 0.5,
          "size": 6.097560975609756
         },
         "mode": "markers",
         "showlegend": false,
         "type": "scatter",
         "x": [
          80
         ],
         "y": [
          4
         ]
        },
        {
         "marker": {
          "color": "blue",
          "opacity": 0.5,
          "size": 2.4390243902439024
         },
         "mode": "markers",
         "showlegend": false,
         "type": "scatter",
         "x": [
          80
         ],
         "y": [
          5
         ]
        },
        {
         "marker": {
          "color": "blue",
          "opacity": 0.5,
          "size": 1.2195121951219512
         },
         "mode": "markers",
         "showlegend": false,
         "type": "scatter",
         "x": [
          80
         ],
         "y": [
          6
         ]
        },
        {
         "marker": {
          "color": "blue",
          "opacity": 0.5,
          "size": 1.2195121951219512
         },
         "mode": "markers",
         "showlegend": false,
         "type": "scatter",
         "x": [
          80
         ],
         "y": [
          7
         ]
        },
        {
         "marker": {
          "color": "blue",
          "opacity": 0.5,
          "size": 1.2195121951219512
         },
         "mode": "markers",
         "showlegend": false,
         "type": "scatter",
         "x": [
          80
         ],
         "y": [
          8
         ]
        },
        {
         "marker": {
          "color": "blue",
          "opacity": 0.5,
          "size": 4.878048780487805
         },
         "mode": "markers",
         "showlegend": false,
         "type": "scatter",
         "x": [
          80
         ],
         "y": [
          9
         ]
        },
        {
         "marker": {
          "color": "blue",
          "opacity": 0.5,
          "size": 2.4390243902439024
         },
         "mode": "markers",
         "showlegend": false,
         "type": "scatter",
         "x": [
          80
         ],
         "y": [
          12
         ]
        },
        {
         "marker": {
          "color": "blue",
          "opacity": 0.5,
          "size": 2.4390243902439024
         },
         "mode": "markers",
         "showlegend": false,
         "type": "scatter",
         "x": [
          80
         ],
         "y": [
          13
         ]
        },
        {
         "marker": {
          "color": "blue",
          "opacity": 0.5,
          "size": 2.4390243902439024
         },
         "mode": "markers",
         "showlegend": false,
         "type": "scatter",
         "x": [
          80
         ],
         "y": [
          14
         ]
        },
        {
         "marker": {
          "color": "blue",
          "opacity": 0.5,
          "size": 1.2195121951219512
         },
         "mode": "markers",
         "showlegend": false,
         "type": "scatter",
         "x": [
          80
         ],
         "y": [
          16
         ]
        },
        {
         "marker": {
          "color": "blue",
          "opacity": 0.5,
          "size": 1.2195121951219512
         },
         "mode": "markers",
         "showlegend": false,
         "type": "scatter",
         "x": [
          80
         ],
         "y": [
          18
         ]
        },
        {
         "marker": {
          "color": "blue",
          "opacity": 0.5,
          "size": 1.2195121951219512
         },
         "mode": "markers",
         "showlegend": false,
         "type": "scatter",
         "x": [
          80
         ],
         "y": [
          20
         ]
        },
        {
         "marker": {
          "color": "blue",
          "opacity": 0.5,
          "size": 1.2195121951219512
         },
         "mode": "markers",
         "showlegend": false,
         "type": "scatter",
         "x": [
          80
         ],
         "y": [
          29
         ]
        },
        {
         "marker": {
          "color": "blue",
          "opacity": 0.5,
          "size": 1.2195121951219512
         },
         "mode": "markers",
         "showlegend": false,
         "type": "scatter",
         "x": [
          81
         ],
         "y": [
          -26
         ]
        },
        {
         "marker": {
          "color": "blue",
          "opacity": 0.5,
          "size": 1.2195121951219512
         },
         "mode": "markers",
         "showlegend": false,
         "type": "scatter",
         "x": [
          81
         ],
         "y": [
          -23
         ]
        },
        {
         "marker": {
          "color": "blue",
          "opacity": 0.5,
          "size": 1.2195121951219512
         },
         "mode": "markers",
         "showlegend": false,
         "type": "scatter",
         "x": [
          81
         ],
         "y": [
          -22
         ]
        },
        {
         "marker": {
          "color": "blue",
          "opacity": 0.5,
          "size": 1.2195121951219512
         },
         "mode": "markers",
         "showlegend": false,
         "type": "scatter",
         "x": [
          81
         ],
         "y": [
          -18
         ]
        },
        {
         "marker": {
          "color": "blue",
          "opacity": 0.5,
          "size": 1.2195121951219512
         },
         "mode": "markers",
         "showlegend": false,
         "type": "scatter",
         "x": [
          81
         ],
         "y": [
          -12
         ]
        },
        {
         "marker": {
          "color": "blue",
          "opacity": 0.5,
          "size": 1.2195121951219512
         },
         "mode": "markers",
         "showlegend": false,
         "type": "scatter",
         "x": [
          81
         ],
         "y": [
          -11
         ]
        },
        {
         "marker": {
          "color": "blue",
          "opacity": 0.5,
          "size": 2.4390243902439024
         },
         "mode": "markers",
         "showlegend": false,
         "type": "scatter",
         "x": [
          81
         ],
         "y": [
          -10
         ]
        },
        {
         "marker": {
          "color": "blue",
          "opacity": 0.5,
          "size": 1.2195121951219512
         },
         "mode": "markers",
         "showlegend": false,
         "type": "scatter",
         "x": [
          81
         ],
         "y": [
          -9
         ]
        },
        {
         "marker": {
          "color": "blue",
          "opacity": 0.5,
          "size": 1.2195121951219512
         },
         "mode": "markers",
         "showlegend": false,
         "type": "scatter",
         "x": [
          81
         ],
         "y": [
          -8
         ]
        },
        {
         "marker": {
          "color": "blue",
          "opacity": 0.5,
          "size": 4.878048780487805
         },
         "mode": "markers",
         "showlegend": false,
         "type": "scatter",
         "x": [
          81
         ],
         "y": [
          -7
         ]
        },
        {
         "marker": {
          "color": "blue",
          "opacity": 0.5,
          "size": 8.536585365853659
         },
         "mode": "markers",
         "showlegend": false,
         "type": "scatter",
         "x": [
          81
         ],
         "y": [
          -6
         ]
        },
        {
         "marker": {
          "color": "blue",
          "opacity": 0.5,
          "size": 7.317073170731707
         },
         "mode": "markers",
         "showlegend": false,
         "type": "scatter",
         "x": [
          81
         ],
         "y": [
          -5
         ]
        },
        {
         "marker": {
          "color": "blue",
          "opacity": 0.5,
          "size": 4.878048780487805
         },
         "mode": "markers",
         "showlegend": false,
         "type": "scatter",
         "x": [
          81
         ],
         "y": [
          -4
         ]
        },
        {
         "marker": {
          "color": "blue",
          "opacity": 0.5,
          "size": 4.878048780487805
         },
         "mode": "markers",
         "showlegend": false,
         "type": "scatter",
         "x": [
          81
         ],
         "y": [
          -3
         ]
        },
        {
         "marker": {
          "color": "blue",
          "opacity": 0.5,
          "size": 2.4390243902439024
         },
         "mode": "markers",
         "showlegend": false,
         "type": "scatter",
         "x": [
          81
         ],
         "y": [
          -1
         ]
        },
        {
         "marker": {
          "color": "blue",
          "opacity": 0.5,
          "size": 3.6585365853658534
         },
         "mode": "markers",
         "showlegend": false,
         "type": "scatter",
         "x": [
          81
         ],
         "y": [
          0
         ]
        },
        {
         "marker": {
          "color": "blue",
          "opacity": 0.5,
          "size": 4.878048780487805
         },
         "mode": "markers",
         "showlegend": false,
         "type": "scatter",
         "x": [
          81
         ],
         "y": [
          1
         ]
        },
        {
         "marker": {
          "color": "blue",
          "opacity": 0.5,
          "size": 3.6585365853658534
         },
         "mode": "markers",
         "showlegend": false,
         "type": "scatter",
         "x": [
          81
         ],
         "y": [
          2
         ]
        },
        {
         "marker": {
          "color": "blue",
          "opacity": 0.5,
          "size": 6.097560975609756
         },
         "mode": "markers",
         "showlegend": false,
         "type": "scatter",
         "x": [
          81
         ],
         "y": [
          3
         ]
        },
        {
         "marker": {
          "color": "blue",
          "opacity": 0.5,
          "size": 6.097560975609756
         },
         "mode": "markers",
         "showlegend": false,
         "type": "scatter",
         "x": [
          81
         ],
         "y": [
          4
         ]
        },
        {
         "marker": {
          "color": "blue",
          "opacity": 0.5,
          "size": 6.097560975609756
         },
         "mode": "markers",
         "showlegend": false,
         "type": "scatter",
         "x": [
          81
         ],
         "y": [
          5
         ]
        },
        {
         "marker": {
          "color": "blue",
          "opacity": 0.5,
          "size": 3.6585365853658534
         },
         "mode": "markers",
         "showlegend": false,
         "type": "scatter",
         "x": [
          81
         ],
         "y": [
          7
         ]
        },
        {
         "marker": {
          "color": "blue",
          "opacity": 0.5,
          "size": 4.878048780487805
         },
         "mode": "markers",
         "showlegend": false,
         "type": "scatter",
         "x": [
          81
         ],
         "y": [
          8
         ]
        },
        {
         "marker": {
          "color": "blue",
          "opacity": 0.5,
          "size": 1.2195121951219512
         },
         "mode": "markers",
         "showlegend": false,
         "type": "scatter",
         "x": [
          81
         ],
         "y": [
          11
         ]
        },
        {
         "marker": {
          "color": "blue",
          "opacity": 0.5,
          "size": 2.4390243902439024
         },
         "mode": "markers",
         "showlegend": false,
         "type": "scatter",
         "x": [
          81
         ],
         "y": [
          12
         ]
        },
        {
         "marker": {
          "color": "blue",
          "opacity": 0.5,
          "size": 1.2195121951219512
         },
         "mode": "markers",
         "showlegend": false,
         "type": "scatter",
         "x": [
          81
         ],
         "y": [
          14
         ]
        },
        {
         "marker": {
          "color": "blue",
          "opacity": 0.5,
          "size": 1.2195121951219512
         },
         "mode": "markers",
         "showlegend": false,
         "type": "scatter",
         "x": [
          81
         ],
         "y": [
          15
         ]
        },
        {
         "marker": {
          "color": "blue",
          "opacity": 0.5,
          "size": 1.2195121951219512
         },
         "mode": "markers",
         "showlegend": false,
         "type": "scatter",
         "x": [
          81
         ],
         "y": [
          17
         ]
        },
        {
         "marker": {
          "color": "blue",
          "opacity": 0.5,
          "size": 1.2195121951219512
         },
         "mode": "markers",
         "showlegend": false,
         "type": "scatter",
         "x": [
          81
         ],
         "y": [
          18
         ]
        },
        {
         "marker": {
          "color": "blue",
          "opacity": 0.5,
          "size": 2.4390243902439024
         },
         "mode": "markers",
         "showlegend": false,
         "type": "scatter",
         "x": [
          81
         ],
         "y": [
          20
         ]
        },
        {
         "marker": {
          "color": "blue",
          "opacity": 0.5,
          "size": 1.2195121951219512
         },
         "mode": "markers",
         "showlegend": false,
         "type": "scatter",
         "x": [
          81
         ],
         "y": [
          22
         ]
        },
        {
         "marker": {
          "color": "blue",
          "opacity": 0.5,
          "size": 1.2195121951219512
         },
         "mode": "markers",
         "showlegend": false,
         "type": "scatter",
         "x": [
          81
         ],
         "y": [
          29
         ]
        },
        {
         "marker": {
          "color": "blue",
          "opacity": 0.5,
          "size": 1.2195121951219512
         },
         "mode": "markers",
         "showlegend": false,
         "type": "scatter",
         "x": [
          82
         ],
         "y": [
          -39
         ]
        },
        {
         "marker": {
          "color": "blue",
          "opacity": 0.5,
          "size": 1.2195121951219512
         },
         "mode": "markers",
         "showlegend": false,
         "type": "scatter",
         "x": [
          82
         ],
         "y": [
          -31
         ]
        },
        {
         "marker": {
          "color": "blue",
          "opacity": 0.5,
          "size": 1.2195121951219512
         },
         "mode": "markers",
         "showlegend": false,
         "type": "scatter",
         "x": [
          82
         ],
         "y": [
          -18
         ]
        },
        {
         "marker": {
          "color": "blue",
          "opacity": 0.5,
          "size": 1.2195121951219512
         },
         "mode": "markers",
         "showlegend": false,
         "type": "scatter",
         "x": [
          82
         ],
         "y": [
          -16
         ]
        },
        {
         "marker": {
          "color": "blue",
          "opacity": 0.5,
          "size": 1.2195121951219512
         },
         "mode": "markers",
         "showlegend": false,
         "type": "scatter",
         "x": [
          82
         ],
         "y": [
          -13
         ]
        },
        {
         "marker": {
          "color": "blue",
          "opacity": 0.5,
          "size": 2.4390243902439024
         },
         "mode": "markers",
         "showlegend": false,
         "type": "scatter",
         "x": [
          82
         ],
         "y": [
          -12
         ]
        },
        {
         "marker": {
          "color": "blue",
          "opacity": 0.5,
          "size": 2.4390243902439024
         },
         "mode": "markers",
         "showlegend": false,
         "type": "scatter",
         "x": [
          82
         ],
         "y": [
          -10
         ]
        },
        {
         "marker": {
          "color": "blue",
          "opacity": 0.5,
          "size": 1.2195121951219512
         },
         "mode": "markers",
         "showlegend": false,
         "type": "scatter",
         "x": [
          82
         ],
         "y": [
          -9
         ]
        },
        {
         "marker": {
          "color": "blue",
          "opacity": 0.5,
          "size": 6.097560975609756
         },
         "mode": "markers",
         "showlegend": false,
         "type": "scatter",
         "x": [
          82
         ],
         "y": [
          -8
         ]
        },
        {
         "marker": {
          "color": "blue",
          "opacity": 0.5,
          "size": 4.878048780487805
         },
         "mode": "markers",
         "showlegend": false,
         "type": "scatter",
         "x": [
          82
         ],
         "y": [
          -7
         ]
        },
        {
         "marker": {
          "color": "blue",
          "opacity": 0.5,
          "size": 4.878048780487805
         },
         "mode": "markers",
         "showlegend": false,
         "type": "scatter",
         "x": [
          82
         ],
         "y": [
          -6
         ]
        },
        {
         "marker": {
          "color": "blue",
          "opacity": 0.5,
          "size": 3.6585365853658534
         },
         "mode": "markers",
         "showlegend": false,
         "type": "scatter",
         "x": [
          82
         ],
         "y": [
          -5
         ]
        },
        {
         "marker": {
          "color": "blue",
          "opacity": 0.5,
          "size": 2.4390243902439024
         },
         "mode": "markers",
         "showlegend": false,
         "type": "scatter",
         "x": [
          82
         ],
         "y": [
          -4
         ]
        },
        {
         "marker": {
          "color": "blue",
          "opacity": 0.5,
          "size": 2.4390243902439024
         },
         "mode": "markers",
         "showlegend": false,
         "type": "scatter",
         "x": [
          82
         ],
         "y": [
          -3
         ]
        },
        {
         "marker": {
          "color": "blue",
          "opacity": 0.5,
          "size": 1.2195121951219512
         },
         "mode": "markers",
         "showlegend": false,
         "type": "scatter",
         "x": [
          82
         ],
         "y": [
          -2
         ]
        },
        {
         "marker": {
          "color": "blue",
          "opacity": 0.5,
          "size": 2.4390243902439024
         },
         "mode": "markers",
         "showlegend": false,
         "type": "scatter",
         "x": [
          82
         ],
         "y": [
          -1
         ]
        },
        {
         "marker": {
          "color": "blue",
          "opacity": 0.5,
          "size": 7.317073170731707
         },
         "mode": "markers",
         "showlegend": false,
         "type": "scatter",
         "x": [
          82
         ],
         "y": [
          3
         ]
        },
        {
         "marker": {
          "color": "blue",
          "opacity": 0.5,
          "size": 1.2195121951219512
         },
         "mode": "markers",
         "showlegend": false,
         "type": "scatter",
         "x": [
          82
         ],
         "y": [
          4
         ]
        },
        {
         "marker": {
          "color": "blue",
          "opacity": 0.5,
          "size": 2.4390243902439024
         },
         "mode": "markers",
         "showlegend": false,
         "type": "scatter",
         "x": [
          82
         ],
         "y": [
          5
         ]
        },
        {
         "marker": {
          "color": "blue",
          "opacity": 0.5,
          "size": 1.2195121951219512
         },
         "mode": "markers",
         "showlegend": false,
         "type": "scatter",
         "x": [
          82
         ],
         "y": [
          6
         ]
        },
        {
         "marker": {
          "color": "blue",
          "opacity": 0.5,
          "size": 2.4390243902439024
         },
         "mode": "markers",
         "showlegend": false,
         "type": "scatter",
         "x": [
          82
         ],
         "y": [
          7
         ]
        },
        {
         "marker": {
          "color": "blue",
          "opacity": 0.5,
          "size": 4.878048780487805
         },
         "mode": "markers",
         "showlegend": false,
         "type": "scatter",
         "x": [
          82
         ],
         "y": [
          8
         ]
        },
        {
         "marker": {
          "color": "blue",
          "opacity": 0.5,
          "size": 2.4390243902439024
         },
         "mode": "markers",
         "showlegend": false,
         "type": "scatter",
         "x": [
          82
         ],
         "y": [
          9
         ]
        },
        {
         "marker": {
          "color": "blue",
          "opacity": 0.5,
          "size": 3.6585365853658534
         },
         "mode": "markers",
         "showlegend": false,
         "type": "scatter",
         "x": [
          82
         ],
         "y": [
          10
         ]
        },
        {
         "marker": {
          "color": "blue",
          "opacity": 0.5,
          "size": 2.4390243902439024
         },
         "mode": "markers",
         "showlegend": false,
         "type": "scatter",
         "x": [
          82
         ],
         "y": [
          11
         ]
        },
        {
         "marker": {
          "color": "blue",
          "opacity": 0.5,
          "size": 2.4390243902439024
         },
         "mode": "markers",
         "showlegend": false,
         "type": "scatter",
         "x": [
          82
         ],
         "y": [
          12
         ]
        },
        {
         "marker": {
          "color": "blue",
          "opacity": 0.5,
          "size": 2.4390243902439024
         },
         "mode": "markers",
         "showlegend": false,
         "type": "scatter",
         "x": [
          82
         ],
         "y": [
          13
         ]
        },
        {
         "marker": {
          "color": "blue",
          "opacity": 0.5,
          "size": 1.2195121951219512
         },
         "mode": "markers",
         "showlegend": false,
         "type": "scatter",
         "x": [
          82
         ],
         "y": [
          14
         ]
        },
        {
         "marker": {
          "color": "blue",
          "opacity": 0.5,
          "size": 3.6585365853658534
         },
         "mode": "markers",
         "showlegend": false,
         "type": "scatter",
         "x": [
          82
         ],
         "y": [
          15
         ]
        },
        {
         "marker": {
          "color": "blue",
          "opacity": 0.5,
          "size": 1.2195121951219512
         },
         "mode": "markers",
         "showlegend": false,
         "type": "scatter",
         "x": [
          82
         ],
         "y": [
          16
         ]
        },
        {
         "marker": {
          "color": "blue",
          "opacity": 0.5,
          "size": 2.4390243902439024
         },
         "mode": "markers",
         "showlegend": false,
         "type": "scatter",
         "x": [
          82
         ],
         "y": [
          19
         ]
        },
        {
         "marker": {
          "color": "blue",
          "opacity": 0.5,
          "size": 1.2195121951219512
         },
         "mode": "markers",
         "showlegend": false,
         "type": "scatter",
         "x": [
          82
         ],
         "y": [
          21
         ]
        },
        {
         "marker": {
          "color": "blue",
          "opacity": 0.5,
          "size": 1.2195121951219512
         },
         "mode": "markers",
         "showlegend": false,
         "type": "scatter",
         "x": [
          82
         ],
         "y": [
          22
         ]
        },
        {
         "marker": {
          "color": "blue",
          "opacity": 0.5,
          "size": 1.2195121951219512
         },
         "mode": "markers",
         "showlegend": false,
         "type": "scatter",
         "x": [
          82
         ],
         "y": [
          23
         ]
        },
        {
         "marker": {
          "color": "blue",
          "opacity": 0.5,
          "size": 1.2195121951219512
         },
         "mode": "markers",
         "showlegend": false,
         "type": "scatter",
         "x": [
          82
         ],
         "y": [
          25
         ]
        },
        {
         "marker": {
          "color": "blue",
          "opacity": 0.5,
          "size": 2.4390243902439024
         },
         "mode": "markers",
         "showlegend": false,
         "type": "scatter",
         "x": [
          82
         ],
         "y": [
          27
         ]
        },
        {
         "marker": {
          "color": "blue",
          "opacity": 0.5,
          "size": 1.2195121951219512
         },
         "mode": "markers",
         "showlegend": false,
         "type": "scatter",
         "x": [
          82
         ],
         "y": [
          28
         ]
        },
        {
         "marker": {
          "color": "blue",
          "opacity": 0.5,
          "size": 1.2195121951219512
         },
         "mode": "markers",
         "showlegend": false,
         "type": "scatter",
         "x": [
          82
         ],
         "y": [
          33
         ]
        },
        {
         "marker": {
          "color": "blue",
          "opacity": 0.5,
          "size": 1.2195121951219512
         },
         "mode": "markers",
         "showlegend": false,
         "type": "scatter",
         "x": [
          82
         ],
         "y": [
          34
         ]
        },
        {
         "marker": {
          "color": "blue",
          "opacity": 0.5,
          "size": 1.2195121951219512
         },
         "mode": "markers",
         "showlegend": false,
         "type": "scatter",
         "x": [
          83
         ],
         "y": [
          -30
         ]
        },
        {
         "marker": {
          "color": "blue",
          "opacity": 0.5,
          "size": 1.2195121951219512
         },
         "mode": "markers",
         "showlegend": false,
         "type": "scatter",
         "x": [
          83
         ],
         "y": [
          -25
         ]
        },
        {
         "marker": {
          "color": "blue",
          "opacity": 0.5,
          "size": 1.2195121951219512
         },
         "mode": "markers",
         "showlegend": false,
         "type": "scatter",
         "x": [
          83
         ],
         "y": [
          -21
         ]
        },
        {
         "marker": {
          "color": "blue",
          "opacity": 0.5,
          "size": 1.2195121951219512
         },
         "mode": "markers",
         "showlegend": false,
         "type": "scatter",
         "x": [
          83
         ],
         "y": [
          -20
         ]
        },
        {
         "marker": {
          "color": "blue",
          "opacity": 0.5,
          "size": 1.2195121951219512
         },
         "mode": "markers",
         "showlegend": false,
         "type": "scatter",
         "x": [
          83
         ],
         "y": [
          -18
         ]
        },
        {
         "marker": {
          "color": "blue",
          "opacity": 0.5,
          "size": 2.4390243902439024
         },
         "mode": "markers",
         "showlegend": false,
         "type": "scatter",
         "x": [
          83
         ],
         "y": [
          -14
         ]
        },
        {
         "marker": {
          "color": "blue",
          "opacity": 0.5,
          "size": 1.2195121951219512
         },
         "mode": "markers",
         "showlegend": false,
         "type": "scatter",
         "x": [
          83
         ],
         "y": [
          -12
         ]
        },
        {
         "marker": {
          "color": "blue",
          "opacity": 0.5,
          "size": 1.2195121951219512
         },
         "mode": "markers",
         "showlegend": false,
         "type": "scatter",
         "x": [
          83
         ],
         "y": [
          -11
         ]
        },
        {
         "marker": {
          "color": "blue",
          "opacity": 0.5,
          "size": 1.2195121951219512
         },
         "mode": "markers",
         "showlegend": false,
         "type": "scatter",
         "x": [
          83
         ],
         "y": [
          -10
         ]
        },
        {
         "marker": {
          "color": "blue",
          "opacity": 0.5,
          "size": 7.317073170731707
         },
         "mode": "markers",
         "showlegend": false,
         "type": "scatter",
         "x": [
          83
         ],
         "y": [
          -9
         ]
        },
        {
         "marker": {
          "color": "blue",
          "opacity": 0.5,
          "size": 4.878048780487805
         },
         "mode": "markers",
         "showlegend": false,
         "type": "scatter",
         "x": [
          83
         ],
         "y": [
          -8
         ]
        },
        {
         "marker": {
          "color": "blue",
          "opacity": 0.5,
          "size": 4.878048780487805
         },
         "mode": "markers",
         "showlegend": false,
         "type": "scatter",
         "x": [
          83
         ],
         "y": [
          -7
         ]
        },
        {
         "marker": {
          "color": "blue",
          "opacity": 0.5,
          "size": 3.6585365853658534
         },
         "mode": "markers",
         "showlegend": false,
         "type": "scatter",
         "x": [
          83
         ],
         "y": [
          -5
         ]
        },
        {
         "marker": {
          "color": "blue",
          "opacity": 0.5,
          "size": 1.2195121951219512
         },
         "mode": "markers",
         "showlegend": false,
         "type": "scatter",
         "x": [
          83
         ],
         "y": [
          -3
         ]
        },
        {
         "marker": {
          "color": "blue",
          "opacity": 0.5,
          "size": 1.2195121951219512
         },
         "mode": "markers",
         "showlegend": false,
         "type": "scatter",
         "x": [
          83
         ],
         "y": [
          -2
         ]
        },
        {
         "marker": {
          "color": "blue",
          "opacity": 0.5,
          "size": 1.2195121951219512
         },
         "mode": "markers",
         "showlegend": false,
         "type": "scatter",
         "x": [
          83
         ],
         "y": [
          -1
         ]
        },
        {
         "marker": {
          "color": "blue",
          "opacity": 0.5,
          "size": 1.2195121951219512
         },
         "mode": "markers",
         "showlegend": false,
         "type": "scatter",
         "x": [
          83
         ],
         "y": [
          1
         ]
        },
        {
         "marker": {
          "color": "blue",
          "opacity": 0.5,
          "size": 2.4390243902439024
         },
         "mode": "markers",
         "showlegend": false,
         "type": "scatter",
         "x": [
          83
         ],
         "y": [
          4
         ]
        },
        {
         "marker": {
          "color": "blue",
          "opacity": 0.5,
          "size": 2.4390243902439024
         },
         "mode": "markers",
         "showlegend": false,
         "type": "scatter",
         "x": [
          83
         ],
         "y": [
          7
         ]
        },
        {
         "marker": {
          "color": "blue",
          "opacity": 0.5,
          "size": 3.6585365853658534
         },
         "mode": "markers",
         "showlegend": false,
         "type": "scatter",
         "x": [
          83
         ],
         "y": [
          8
         ]
        },
        {
         "marker": {
          "color": "blue",
          "opacity": 0.5,
          "size": 1.2195121951219512
         },
         "mode": "markers",
         "showlegend": false,
         "type": "scatter",
         "x": [
          83
         ],
         "y": [
          10
         ]
        },
        {
         "marker": {
          "color": "blue",
          "opacity": 0.5,
          "size": 2.4390243902439024
         },
         "mode": "markers",
         "showlegend": false,
         "type": "scatter",
         "x": [
          83
         ],
         "y": [
          11
         ]
        },
        {
         "marker": {
          "color": "blue",
          "opacity": 0.5,
          "size": 1.2195121951219512
         },
         "mode": "markers",
         "showlegend": false,
         "type": "scatter",
         "x": [
          83
         ],
         "y": [
          13
         ]
        },
        {
         "marker": {
          "color": "blue",
          "opacity": 0.5,
          "size": 1.2195121951219512
         },
         "mode": "markers",
         "showlegend": false,
         "type": "scatter",
         "x": [
          83
         ],
         "y": [
          14
         ]
        },
        {
         "marker": {
          "color": "blue",
          "opacity": 0.5,
          "size": 1.2195121951219512
         },
         "mode": "markers",
         "showlegend": false,
         "type": "scatter",
         "x": [
          83
         ],
         "y": [
          15
         ]
        },
        {
         "marker": {
          "color": "blue",
          "opacity": 0.5,
          "size": 1.2195121951219512
         },
         "mode": "markers",
         "showlegend": false,
         "type": "scatter",
         "x": [
          83
         ],
         "y": [
          18
         ]
        },
        {
         "marker": {
          "color": "blue",
          "opacity": 0.5,
          "size": 1.2195121951219512
         },
         "mode": "markers",
         "showlegend": false,
         "type": "scatter",
         "x": [
          83
         ],
         "y": [
          25
         ]
        },
        {
         "marker": {
          "color": "blue",
          "opacity": 0.5,
          "size": 1.2195121951219512
         },
         "mode": "markers",
         "showlegend": false,
         "type": "scatter",
         "x": [
          84
         ],
         "y": [
          -32
         ]
        },
        {
         "marker": {
          "color": "blue",
          "opacity": 0.5,
          "size": 3.6585365853658534
         },
         "mode": "markers",
         "showlegend": false,
         "type": "scatter",
         "x": [
          84
         ],
         "y": [
          -18
         ]
        },
        {
         "marker": {
          "color": "blue",
          "opacity": 0.5,
          "size": 2.4390243902439024
         },
         "mode": "markers",
         "showlegend": false,
         "type": "scatter",
         "x": [
          84
         ],
         "y": [
          -16
         ]
        },
        {
         "marker": {
          "color": "blue",
          "opacity": 0.5,
          "size": 1.2195121951219512
         },
         "mode": "markers",
         "showlegend": false,
         "type": "scatter",
         "x": [
          84
         ],
         "y": [
          -13
         ]
        },
        {
         "marker": {
          "color": "blue",
          "opacity": 0.5,
          "size": 2.4390243902439024
         },
         "mode": "markers",
         "showlegend": false,
         "type": "scatter",
         "x": [
          84
         ],
         "y": [
          -12
         ]
        },
        {
         "marker": {
          "color": "blue",
          "opacity": 0.5,
          "size": 2.4390243902439024
         },
         "mode": "markers",
         "showlegend": false,
         "type": "scatter",
         "x": [
          84
         ],
         "y": [
          -11
         ]
        },
        {
         "marker": {
          "color": "blue",
          "opacity": 0.5,
          "size": 6.097560975609756
         },
         "mode": "markers",
         "showlegend": false,
         "type": "scatter",
         "x": [
          84
         ],
         "y": [
          -8
         ]
        },
        {
         "marker": {
          "color": "blue",
          "opacity": 0.5,
          "size": 3.6585365853658534
         },
         "mode": "markers",
         "showlegend": false,
         "type": "scatter",
         "x": [
          84
         ],
         "y": [
          -7
         ]
        },
        {
         "marker": {
          "color": "blue",
          "opacity": 0.5,
          "size": 1.2195121951219512
         },
         "mode": "markers",
         "showlegend": false,
         "type": "scatter",
         "x": [
          84
         ],
         "y": [
          -6
         ]
        },
        {
         "marker": {
          "color": "blue",
          "opacity": 0.5,
          "size": 4.878048780487805
         },
         "mode": "markers",
         "showlegend": false,
         "type": "scatter",
         "x": [
          84
         ],
         "y": [
          -5
         ]
        },
        {
         "marker": {
          "color": "blue",
          "opacity": 0.5,
          "size": 3.6585365853658534
         },
         "mode": "markers",
         "showlegend": false,
         "type": "scatter",
         "x": [
          84
         ],
         "y": [
          -4
         ]
        },
        {
         "marker": {
          "color": "blue",
          "opacity": 0.5,
          "size": 3.6585365853658534
         },
         "mode": "markers",
         "showlegend": false,
         "type": "scatter",
         "x": [
          84
         ],
         "y": [
          -3
         ]
        },
        {
         "marker": {
          "color": "blue",
          "opacity": 0.5,
          "size": 1.2195121951219512
         },
         "mode": "markers",
         "showlegend": false,
         "type": "scatter",
         "x": [
          84
         ],
         "y": [
          3
         ]
        },
        {
         "marker": {
          "color": "blue",
          "opacity": 0.5,
          "size": 1.2195121951219512
         },
         "mode": "markers",
         "showlegend": false,
         "type": "scatter",
         "x": [
          84
         ],
         "y": [
          4
         ]
        },
        {
         "marker": {
          "color": "blue",
          "opacity": 0.5,
          "size": 4.878048780487805
         },
         "mode": "markers",
         "showlegend": false,
         "type": "scatter",
         "x": [
          84
         ],
         "y": [
          5
         ]
        },
        {
         "marker": {
          "color": "blue",
          "opacity": 0.5,
          "size": 2.4390243902439024
         },
         "mode": "markers",
         "showlegend": false,
         "type": "scatter",
         "x": [
          84
         ],
         "y": [
          6
         ]
        },
        {
         "marker": {
          "color": "blue",
          "opacity": 0.5,
          "size": 3.6585365853658534
         },
         "mode": "markers",
         "showlegend": false,
         "type": "scatter",
         "x": [
          84
         ],
         "y": [
          7
         ]
        },
        {
         "marker": {
          "color": "blue",
          "opacity": 0.5,
          "size": 1.2195121951219512
         },
         "mode": "markers",
         "showlegend": false,
         "type": "scatter",
         "x": [
          84
         ],
         "y": [
          8
         ]
        },
        {
         "marker": {
          "color": "blue",
          "opacity": 0.5,
          "size": 1.2195121951219512
         },
         "mode": "markers",
         "showlegend": false,
         "type": "scatter",
         "x": [
          84
         ],
         "y": [
          9
         ]
        },
        {
         "marker": {
          "color": "blue",
          "opacity": 0.5,
          "size": 2.4390243902439024
         },
         "mode": "markers",
         "showlegend": false,
         "type": "scatter",
         "x": [
          84
         ],
         "y": [
          10
         ]
        },
        {
         "marker": {
          "color": "blue",
          "opacity": 0.5,
          "size": 1.2195121951219512
         },
         "mode": "markers",
         "showlegend": false,
         "type": "scatter",
         "x": [
          84
         ],
         "y": [
          11
         ]
        },
        {
         "marker": {
          "color": "blue",
          "opacity": 0.5,
          "size": 2.4390243902439024
         },
         "mode": "markers",
         "showlegend": false,
         "type": "scatter",
         "x": [
          84
         ],
         "y": [
          12
         ]
        },
        {
         "marker": {
          "color": "blue",
          "opacity": 0.5,
          "size": 1.2195121951219512
         },
         "mode": "markers",
         "showlegend": false,
         "type": "scatter",
         "x": [
          84
         ],
         "y": [
          14
         ]
        },
        {
         "marker": {
          "color": "blue",
          "opacity": 0.5,
          "size": 2.4390243902439024
         },
         "mode": "markers",
         "showlegend": false,
         "type": "scatter",
         "x": [
          84
         ],
         "y": [
          17
         ]
        },
        {
         "marker": {
          "color": "blue",
          "opacity": 0.5,
          "size": 1.2195121951219512
         },
         "mode": "markers",
         "showlegend": false,
         "type": "scatter",
         "x": [
          84
         ],
         "y": [
          18
         ]
        },
        {
         "marker": {
          "color": "blue",
          "opacity": 0.5,
          "size": 1.2195121951219512
         },
         "mode": "markers",
         "showlegend": false,
         "type": "scatter",
         "x": [
          84
         ],
         "y": [
          24
         ]
        },
        {
         "marker": {
          "color": "blue",
          "opacity": 0.5,
          "size": 2.4390243902439024
         },
         "mode": "markers",
         "showlegend": false,
         "type": "scatter",
         "x": [
          84
         ],
         "y": [
          26
         ]
        },
        {
         "marker": {
          "color": "blue",
          "opacity": 0.5,
          "size": 1.2195121951219512
         },
         "mode": "markers",
         "showlegend": false,
         "type": "scatter",
         "x": [
          84
         ],
         "y": [
          29
         ]
        },
        {
         "marker": {
          "color": "blue",
          "opacity": 0.5,
          "size": 1.2195121951219512
         },
         "mode": "markers",
         "showlegend": false,
         "type": "scatter",
         "x": [
          84
         ],
         "y": [
          30
         ]
        },
        {
         "marker": {
          "color": "blue",
          "opacity": 0.5,
          "size": 1.2195121951219512
         },
         "mode": "markers",
         "showlegend": false,
         "type": "scatter",
         "x": [
          84
         ],
         "y": [
          31
         ]
        },
        {
         "marker": {
          "color": "blue",
          "opacity": 0.5,
          "size": 1.2195121951219512
         },
         "mode": "markers",
         "showlegend": false,
         "type": "scatter",
         "x": [
          84
         ],
         "y": [
          40
         ]
        },
        {
         "marker": {
          "color": "blue",
          "opacity": 0.5,
          "size": 1.2195121951219512
         },
         "mode": "markers",
         "showlegend": false,
         "type": "scatter",
         "x": [
          85
         ],
         "y": [
          -34
         ]
        },
        {
         "marker": {
          "color": "blue",
          "opacity": 0.5,
          "size": 1.2195121951219512
         },
         "mode": "markers",
         "showlegend": false,
         "type": "scatter",
         "x": [
          85
         ],
         "y": [
          -29
         ]
        },
        {
         "marker": {
          "color": "blue",
          "opacity": 0.5,
          "size": 1.2195121951219512
         },
         "mode": "markers",
         "showlegend": false,
         "type": "scatter",
         "x": [
          85
         ],
         "y": [
          -22
         ]
        },
        {
         "marker": {
          "color": "blue",
          "opacity": 0.5,
          "size": 2.4390243902439024
         },
         "mode": "markers",
         "showlegend": false,
         "type": "scatter",
         "x": [
          85
         ],
         "y": [
          -21
         ]
        },
        {
         "marker": {
          "color": "blue",
          "opacity": 0.5,
          "size": 2.4390243902439024
         },
         "mode": "markers",
         "showlegend": false,
         "type": "scatter",
         "x": [
          85
         ],
         "y": [
          -16
         ]
        },
        {
         "marker": {
          "color": "blue",
          "opacity": 0.5,
          "size": 1.2195121951219512
         },
         "mode": "markers",
         "showlegend": false,
         "type": "scatter",
         "x": [
          85
         ],
         "y": [
          -12
         ]
        },
        {
         "marker": {
          "color": "blue",
          "opacity": 0.5,
          "size": 1.2195121951219512
         },
         "mode": "markers",
         "showlegend": false,
         "type": "scatter",
         "x": [
          85
         ],
         "y": [
          -11
         ]
        },
        {
         "marker": {
          "color": "blue",
          "opacity": 0.5,
          "size": 1.2195121951219512
         },
         "mode": "markers",
         "showlegend": false,
         "type": "scatter",
         "x": [
          85
         ],
         "y": [
          -9
         ]
        },
        {
         "marker": {
          "color": "blue",
          "opacity": 0.5,
          "size": 4.878048780487805
         },
         "mode": "markers",
         "showlegend": false,
         "type": "scatter",
         "x": [
          85
         ],
         "y": [
          -8
         ]
        },
        {
         "marker": {
          "color": "blue",
          "opacity": 0.5,
          "size": 4.878048780487805
         },
         "mode": "markers",
         "showlegend": false,
         "type": "scatter",
         "x": [
          85
         ],
         "y": [
          -7
         ]
        },
        {
         "marker": {
          "color": "blue",
          "opacity": 0.5,
          "size": 2.4390243902439024
         },
         "mode": "markers",
         "showlegend": false,
         "type": "scatter",
         "x": [
          85
         ],
         "y": [
          -6
         ]
        },
        {
         "marker": {
          "color": "blue",
          "opacity": 0.5,
          "size": 2.4390243902439024
         },
         "mode": "markers",
         "showlegend": false,
         "type": "scatter",
         "x": [
          85
         ],
         "y": [
          -5
         ]
        },
        {
         "marker": {
          "color": "blue",
          "opacity": 0.5,
          "size": 1.2195121951219512
         },
         "mode": "markers",
         "showlegend": false,
         "type": "scatter",
         "x": [
          85
         ],
         "y": [
          -3
         ]
        },
        {
         "marker": {
          "color": "blue",
          "opacity": 0.5,
          "size": 1.2195121951219512
         },
         "mode": "markers",
         "showlegend": false,
         "type": "scatter",
         "x": [
          85
         ],
         "y": [
          5
         ]
        },
        {
         "marker": {
          "color": "blue",
          "opacity": 0.5,
          "size": 2.4390243902439024
         },
         "mode": "markers",
         "showlegend": false,
         "type": "scatter",
         "x": [
          85
         ],
         "y": [
          7
         ]
        },
        {
         "marker": {
          "color": "blue",
          "opacity": 0.5,
          "size": 3.6585365853658534
         },
         "mode": "markers",
         "showlegend": false,
         "type": "scatter",
         "x": [
          85
         ],
         "y": [
          8
         ]
        },
        {
         "marker": {
          "color": "blue",
          "opacity": 0.5,
          "size": 1.2195121951219512
         },
         "mode": "markers",
         "showlegend": false,
         "type": "scatter",
         "x": [
          85
         ],
         "y": [
          10
         ]
        },
        {
         "marker": {
          "color": "blue",
          "opacity": 0.5,
          "size": 1.2195121951219512
         },
         "mode": "markers",
         "showlegend": false,
         "type": "scatter",
         "x": [
          85
         ],
         "y": [
          12
         ]
        },
        {
         "marker": {
          "color": "blue",
          "opacity": 0.5,
          "size": 1.2195121951219512
         },
         "mode": "markers",
         "showlegend": false,
         "type": "scatter",
         "x": [
          85
         ],
         "y": [
          19
         ]
        },
        {
         "marker": {
          "color": "blue",
          "opacity": 0.5,
          "size": 3.6585365853658534
         },
         "mode": "markers",
         "showlegend": false,
         "type": "scatter",
         "x": [
          85
         ],
         "y": [
          21
         ]
        },
        {
         "marker": {
          "color": "blue",
          "opacity": 0.5,
          "size": 1.2195121951219512
         },
         "mode": "markers",
         "showlegend": false,
         "type": "scatter",
         "x": [
          85
         ],
         "y": [
          22
         ]
        },
        {
         "marker": {
          "color": "blue",
          "opacity": 0.5,
          "size": 1.2195121951219512
         },
         "mode": "markers",
         "showlegend": false,
         "type": "scatter",
         "x": [
          85
         ],
         "y": [
          37
         ]
        },
        {
         "marker": {
          "color": "blue",
          "opacity": 0.5,
          "size": 1.2195121951219512
         },
         "mode": "markers",
         "showlegend": false,
         "type": "scatter",
         "x": [
          86
         ],
         "y": [
          -25
         ]
        },
        {
         "marker": {
          "color": "blue",
          "opacity": 0.5,
          "size": 1.2195121951219512
         },
         "mode": "markers",
         "showlegend": false,
         "type": "scatter",
         "x": [
          86
         ],
         "y": [
          -16
         ]
        },
        {
         "marker": {
          "color": "blue",
          "opacity": 0.5,
          "size": 1.2195121951219512
         },
         "mode": "markers",
         "showlegend": false,
         "type": "scatter",
         "x": [
          86
         ],
         "y": [
          -12
         ]
        },
        {
         "marker": {
          "color": "blue",
          "opacity": 0.5,
          "size": 3.6585365853658534
         },
         "mode": "markers",
         "showlegend": false,
         "type": "scatter",
         "x": [
          86
         ],
         "y": [
          -10
         ]
        },
        {
         "marker": {
          "color": "blue",
          "opacity": 0.5,
          "size": 6.097560975609756
         },
         "mode": "markers",
         "showlegend": false,
         "type": "scatter",
         "x": [
          86
         ],
         "y": [
          -7
         ]
        },
        {
         "marker": {
          "color": "blue",
          "opacity": 0.5,
          "size": 7.317073170731707
         },
         "mode": "markers",
         "showlegend": false,
         "type": "scatter",
         "x": [
          86
         ],
         "y": [
          -6
         ]
        },
        {
         "marker": {
          "color": "blue",
          "opacity": 0.5,
          "size": 1.2195121951219512
         },
         "mode": "markers",
         "showlegend": false,
         "type": "scatter",
         "x": [
          86
         ],
         "y": [
          -2
         ]
        },
        {
         "marker": {
          "color": "blue",
          "opacity": 0.5,
          "size": 2.4390243902439024
         },
         "mode": "markers",
         "showlegend": false,
         "type": "scatter",
         "x": [
          86
         ],
         "y": [
          5
         ]
        },
        {
         "marker": {
          "color": "blue",
          "opacity": 0.5,
          "size": 1.2195121951219512
         },
         "mode": "markers",
         "showlegend": false,
         "type": "scatter",
         "x": [
          86
         ],
         "y": [
          6
         ]
        },
        {
         "marker": {
          "color": "blue",
          "opacity": 0.5,
          "size": 4.878048780487805
         },
         "mode": "markers",
         "showlegend": false,
         "type": "scatter",
         "x": [
          86
         ],
         "y": [
          7
         ]
        },
        {
         "marker": {
          "color": "blue",
          "opacity": 0.5,
          "size": 1.2195121951219512
         },
         "mode": "markers",
         "showlegend": false,
         "type": "scatter",
         "x": [
          86
         ],
         "y": [
          10
         ]
        },
        {
         "marker": {
          "color": "blue",
          "opacity": 0.5,
          "size": 1.2195121951219512
         },
         "mode": "markers",
         "showlegend": false,
         "type": "scatter",
         "x": [
          86
         ],
         "y": [
          11
         ]
        },
        {
         "marker": {
          "color": "blue",
          "opacity": 0.5,
          "size": 1.2195121951219512
         },
         "mode": "markers",
         "showlegend": false,
         "type": "scatter",
         "x": [
          86
         ],
         "y": [
          13
         ]
        },
        {
         "marker": {
          "color": "blue",
          "opacity": 0.5,
          "size": 2.4390243902439024
         },
         "mode": "markers",
         "showlegend": false,
         "type": "scatter",
         "x": [
          86
         ],
         "y": [
          29
         ]
        },
        {
         "marker": {
          "color": "blue",
          "opacity": 0.5,
          "size": 1.2195121951219512
         },
         "mode": "markers",
         "showlegend": false,
         "type": "scatter",
         "x": [
          86
         ],
         "y": [
          32
         ]
        },
        {
         "marker": {
          "color": "blue",
          "opacity": 0.5,
          "size": 1.2195121951219512
         },
         "mode": "markers",
         "showlegend": false,
         "type": "scatter",
         "x": [
          87
         ],
         "y": [
          -38
         ]
        },
        {
         "marker": {
          "color": "blue",
          "opacity": 0.5,
          "size": 1.2195121951219512
         },
         "mode": "markers",
         "showlegend": false,
         "type": "scatter",
         "x": [
          87
         ],
         "y": [
          -32
         ]
        },
        {
         "marker": {
          "color": "blue",
          "opacity": 0.5,
          "size": 2.4390243902439024
         },
         "mode": "markers",
         "showlegend": false,
         "type": "scatter",
         "x": [
          87
         ],
         "y": [
          -28
         ]
        },
        {
         "marker": {
          "color": "blue",
          "opacity": 0.5,
          "size": 1.2195121951219512
         },
         "mode": "markers",
         "showlegend": false,
         "type": "scatter",
         "x": [
          87
         ],
         "y": [
          -12
         ]
        },
        {
         "marker": {
          "color": "blue",
          "opacity": 0.5,
          "size": 2.4390243902439024
         },
         "mode": "markers",
         "showlegend": false,
         "type": "scatter",
         "x": [
          87
         ],
         "y": [
          -11
         ]
        },
        {
         "marker": {
          "color": "blue",
          "opacity": 0.5,
          "size": 1.2195121951219512
         },
         "mode": "markers",
         "showlegend": false,
         "type": "scatter",
         "x": [
          87
         ],
         "y": [
          -10
         ]
        },
        {
         "marker": {
          "color": "blue",
          "opacity": 0.5,
          "size": 3.6585365853658534
         },
         "mode": "markers",
         "showlegend": false,
         "type": "scatter",
         "x": [
          87
         ],
         "y": [
          -9
         ]
        },
        {
         "marker": {
          "color": "blue",
          "opacity": 0.5,
          "size": 2.4390243902439024
         },
         "mode": "markers",
         "showlegend": false,
         "type": "scatter",
         "x": [
          87
         ],
         "y": [
          -7
         ]
        },
        {
         "marker": {
          "color": "blue",
          "opacity": 0.5,
          "size": 3.6585365853658534
         },
         "mode": "markers",
         "showlegend": false,
         "type": "scatter",
         "x": [
          87
         ],
         "y": [
          -6
         ]
        },
        {
         "marker": {
          "color": "blue",
          "opacity": 0.5,
          "size": 1.2195121951219512
         },
         "mode": "markers",
         "showlegend": false,
         "type": "scatter",
         "x": [
          87
         ],
         "y": [
          3
         ]
        },
        {
         "marker": {
          "color": "blue",
          "opacity": 0.5,
          "size": 2.4390243902439024
         },
         "mode": "markers",
         "showlegend": false,
         "type": "scatter",
         "x": [
          87
         ],
         "y": [
          12
         ]
        },
        {
         "marker": {
          "color": "blue",
          "opacity": 0.5,
          "size": 1.2195121951219512
         },
         "mode": "markers",
         "showlegend": false,
         "type": "scatter",
         "x": [
          87
         ],
         "y": [
          14
         ]
        },
        {
         "marker": {
          "color": "blue",
          "opacity": 0.5,
          "size": 1.2195121951219512
         },
         "mode": "markers",
         "showlegend": false,
         "type": "scatter",
         "x": [
          87
         ],
         "y": [
          17
         ]
        },
        {
         "marker": {
          "color": "blue",
          "opacity": 0.5,
          "size": 1.2195121951219512
         },
         "mode": "markers",
         "showlegend": false,
         "type": "scatter",
         "x": [
          87
         ],
         "y": [
          18
         ]
        },
        {
         "marker": {
          "color": "blue",
          "opacity": 0.5,
          "size": 1.2195121951219512
         },
         "mode": "markers",
         "showlegend": false,
         "type": "scatter",
         "x": [
          87
         ],
         "y": [
          21
         ]
        },
        {
         "marker": {
          "color": "blue",
          "opacity": 0.5,
          "size": 2.4390243902439024
         },
         "mode": "markers",
         "showlegend": false,
         "type": "scatter",
         "x": [
          87
         ],
         "y": [
          22
         ]
        },
        {
         "marker": {
          "color": "blue",
          "opacity": 0.5,
          "size": 1.2195121951219512
         },
         "mode": "markers",
         "showlegend": false,
         "type": "scatter",
         "x": [
          87
         ],
         "y": [
          31
         ]
        },
        {
         "marker": {
          "color": "blue",
          "opacity": 0.5,
          "size": 1.2195121951219512
         },
         "mode": "markers",
         "showlegend": false,
         "type": "scatter",
         "x": [
          88
         ],
         "y": [
          -33
         ]
        },
        {
         "marker": {
          "color": "blue",
          "opacity": 0.5,
          "size": 1.2195121951219512
         },
         "mode": "markers",
         "showlegend": false,
         "type": "scatter",
         "x": [
          88
         ],
         "y": [
          -23
         ]
        },
        {
         "marker": {
          "color": "blue",
          "opacity": 0.5,
          "size": 1.2195121951219512
         },
         "mode": "markers",
         "showlegend": false,
         "type": "scatter",
         "x": [
          88
         ],
         "y": [
          -18
         ]
        },
        {
         "marker": {
          "color": "blue",
          "opacity": 0.5,
          "size": 1.2195121951219512
         },
         "mode": "markers",
         "showlegend": false,
         "type": "scatter",
         "x": [
          88
         ],
         "y": [
          -14
         ]
        },
        {
         "marker": {
          "color": "blue",
          "opacity": 0.5,
          "size": 1.2195121951219512
         },
         "mode": "markers",
         "showlegend": false,
         "type": "scatter",
         "x": [
          88
         ],
         "y": [
          -13
         ]
        },
        {
         "marker": {
          "color": "blue",
          "opacity": 0.5,
          "size": 1.2195121951219512
         },
         "mode": "markers",
         "showlegend": false,
         "type": "scatter",
         "x": [
          88
         ],
         "y": [
          -12
         ]
        },
        {
         "marker": {
          "color": "blue",
          "opacity": 0.5,
          "size": 1.2195121951219512
         },
         "mode": "markers",
         "showlegend": false,
         "type": "scatter",
         "x": [
          88
         ],
         "y": [
          -10
         ]
        },
        {
         "marker": {
          "color": "blue",
          "opacity": 0.5,
          "size": 1.2195121951219512
         },
         "mode": "markers",
         "showlegend": false,
         "type": "scatter",
         "x": [
          88
         ],
         "y": [
          -9
         ]
        },
        {
         "marker": {
          "color": "blue",
          "opacity": 0.5,
          "size": 1.2195121951219512
         },
         "mode": "markers",
         "showlegend": false,
         "type": "scatter",
         "x": [
          88
         ],
         "y": [
          -7
         ]
        },
        {
         "marker": {
          "color": "blue",
          "opacity": 0.5,
          "size": 1.2195121951219512
         },
         "mode": "markers",
         "showlegend": false,
         "type": "scatter",
         "x": [
          88
         ],
         "y": [
          -6
         ]
        },
        {
         "marker": {
          "color": "blue",
          "opacity": 0.5,
          "size": 1.2195121951219512
         },
         "mode": "markers",
         "showlegend": false,
         "type": "scatter",
         "x": [
          88
         ],
         "y": [
          8
         ]
        },
        {
         "marker": {
          "color": "blue",
          "opacity": 0.5,
          "size": 1.2195121951219512
         },
         "mode": "markers",
         "showlegend": false,
         "type": "scatter",
         "x": [
          88
         ],
         "y": [
          10
         ]
        },
        {
         "marker": {
          "color": "blue",
          "opacity": 0.5,
          "size": 1.2195121951219512
         },
         "mode": "markers",
         "showlegend": false,
         "type": "scatter",
         "x": [
          88
         ],
         "y": [
          17
         ]
        },
        {
         "marker": {
          "color": "blue",
          "opacity": 0.5,
          "size": 1.2195121951219512
         },
         "mode": "markers",
         "showlegend": false,
         "type": "scatter",
         "x": [
          88
         ],
         "y": [
          27
         ]
        },
        {
         "marker": {
          "color": "blue",
          "opacity": 0.5,
          "size": 1.2195121951219512
         },
         "mode": "markers",
         "showlegend": false,
         "type": "scatter",
         "x": [
          88
         ],
         "y": [
          33
         ]
        },
        {
         "marker": {
          "color": "blue",
          "opacity": 0.5,
          "size": 1.2195121951219512
         },
         "mode": "markers",
         "showlegend": false,
         "type": "scatter",
         "x": [
          89
         ],
         "y": [
          -18
         ]
        },
        {
         "marker": {
          "color": "blue",
          "opacity": 0.5,
          "size": 2.4390243902439024
         },
         "mode": "markers",
         "showlegend": false,
         "type": "scatter",
         "x": [
          89
         ],
         "y": [
          -6
         ]
        },
        {
         "marker": {
          "color": "blue",
          "opacity": 0.5,
          "size": 1.2195121951219512
         },
         "mode": "markers",
         "showlegend": false,
         "type": "scatter",
         "x": [
          89
         ],
         "y": [
          12
         ]
        },
        {
         "marker": {
          "color": "blue",
          "opacity": 0.5,
          "size": 1.2195121951219512
         },
         "mode": "markers",
         "showlegend": false,
         "type": "scatter",
         "x": [
          89
         ],
         "y": [
          25
         ]
        },
        {
         "marker": {
          "color": "blue",
          "opacity": 0.5,
          "size": 1.2195121951219512
         },
         "mode": "markers",
         "showlegend": false,
         "type": "scatter",
         "x": [
          90
         ],
         "y": [
          -29
         ]
        },
        {
         "marker": {
          "color": "blue",
          "opacity": 0.5,
          "size": 1.2195121951219512
         },
         "mode": "markers",
         "showlegend": false,
         "type": "scatter",
         "x": [
          90
         ],
         "y": [
          -17
         ]
        },
        {
         "marker": {
          "color": "blue",
          "opacity": 0.5,
          "size": 1.2195121951219512
         },
         "mode": "markers",
         "showlegend": false,
         "type": "scatter",
         "x": [
          90
         ],
         "y": [
          6
         ]
        },
        {
         "marker": {
          "color": "blue",
          "opacity": 0.5,
          "size": 1.2195121951219512
         },
         "mode": "markers",
         "showlegend": false,
         "type": "scatter",
         "x": [
          91
         ],
         "y": [
          7
         ]
        },
        {
         "marker": {
          "color": "blue",
          "opacity": 0.5,
          "size": 1.2195121951219512
         },
         "mode": "markers",
         "showlegend": false,
         "type": "scatter",
         "x": [
          91
         ],
         "y": [
          8
         ]
        },
        {
         "marker": {
          "color": "blue",
          "opacity": 0.5,
          "size": 1.2195121951219512
         },
         "mode": "markers",
         "showlegend": false,
         "type": "scatter",
         "x": [
          91
         ],
         "y": [
          26
         ]
        },
        {
         "marker": {
          "color": "blue",
          "opacity": 0.5,
          "size": 1.2195121951219512
         },
         "mode": "markers",
         "showlegend": false,
         "type": "scatter",
         "x": [
          92
         ],
         "y": [
          -4
         ]
        },
        {
         "marker": {
          "color": "blue",
          "opacity": 0.5,
          "size": 1.2195121951219512
         },
         "mode": "markers",
         "showlegend": false,
         "type": "scatter",
         "x": [
          93
         ],
         "y": [
          -26
         ]
        },
        {
         "marker": {
          "color": "blue",
          "opacity": 0.5,
          "size": 1.2195121951219512
         },
         "mode": "markers",
         "showlegend": false,
         "type": "scatter",
         "x": [
          93
         ],
         "y": [
          10
         ]
        },
        {
         "marker": {
          "color": "blue",
          "opacity": 0.5,
          "size": 1.2195121951219512
         },
         "mode": "markers",
         "showlegend": false,
         "type": "scatter",
         "x": [
          93
         ],
         "y": [
          18
         ]
        },
        {
         "marker": {
          "color": "blue",
          "opacity": 0.5,
          "size": 1.2195121951219512
         },
         "mode": "markers",
         "showlegend": false,
         "type": "scatter",
         "x": [
          95
         ],
         "y": [
          10
         ]
        },
        {
         "marker": {
          "color": "blue",
          "opacity": 0.5,
          "size": 1.2195121951219512
         },
         "mode": "markers",
         "showlegend": false,
         "type": "scatter",
         "x": [
          95
         ],
         "y": [
          11
         ]
        },
        {
         "marker": {
          "color": "blue",
          "opacity": 0.5,
          "size": 1.2195121951219512
         },
         "mode": "markers",
         "showlegend": false,
         "type": "scatter",
         "x": [
          99
         ],
         "y": [
          -4
         ]
        },
        {
         "marker": {
          "color": "blue",
          "opacity": 0.5,
          "size": 1.2195121951219512
         },
         "mode": "markers",
         "showlegend": false,
         "type": "scatter",
         "x": [
          99
         ],
         "y": [
          10
         ]
        }
       ],
       "layout": {
        "height": 425,
        "images": [
         {
          "layer": "below",
          "opacity": 1,
          "sizex": 200,
          "sizey": 85,
          "sizing": "stretch",
          "source": "data:image/png;base64,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",
          "x": -100,
          "xanchor": "left",
          "xref": "x",
          "y": 42.5,
          "yanchor": "top",
          "yref": "y"
         }
        ],
        "paper_bgcolor": "white",
        "plot_bgcolor": "white",
        "showlegend": false,
        "template": {
         "data": {
          "bar": [
           {
            "error_x": {
             "color": "#2a3f5f"
            },
            "error_y": {
             "color": "#2a3f5f"
            },
            "marker": {
             "line": {
              "color": "#E5ECF6",
              "width": 0.5
             },
             "pattern": {
              "fillmode": "overlay",
              "size": 10,
              "solidity": 0.2
             }
            },
            "type": "bar"
           }
          ],
          "barpolar": [
           {
            "marker": {
             "line": {
              "color": "#E5ECF6",
              "width": 0.5
             },
             "pattern": {
              "fillmode": "overlay",
              "size": 10,
              "solidity": 0.2
             }
            },
            "type": "barpolar"
           }
          ],
          "carpet": [
           {
            "aaxis": {
             "endlinecolor": "#2a3f5f",
             "gridcolor": "white",
             "linecolor": "white",
             "minorgridcolor": "white",
             "startlinecolor": "#2a3f5f"
            },
            "baxis": {
             "endlinecolor": "#2a3f5f",
             "gridcolor": "white",
             "linecolor": "white",
             "minorgridcolor": "white",
             "startlinecolor": "#2a3f5f"
            },
            "type": "carpet"
           }
          ],
          "choropleth": [
           {
            "colorbar": {
             "outlinewidth": 0,
             "ticks": ""
            },
            "type": "choropleth"
           }
          ],
          "contour": [
           {
            "colorbar": {
             "outlinewidth": 0,
             "ticks": ""
            },
            "colorscale": [
             [
              0,
              "#0d0887"
             ],
             [
              0.1111111111111111,
              "#46039f"
             ],
             [
              0.2222222222222222,
              "#7201a8"
             ],
             [
              0.3333333333333333,
              "#9c179e"
             ],
             [
              0.4444444444444444,
              "#bd3786"
             ],
             [
              0.5555555555555556,
              "#d8576b"
             ],
             [
              0.6666666666666666,
              "#ed7953"
             ],
             [
              0.7777777777777778,
              "#fb9f3a"
             ],
             [
              0.8888888888888888,
              "#fdca26"
             ],
             [
              1,
              "#f0f921"
             ]
            ],
            "type": "contour"
           }
          ],
          "contourcarpet": [
           {
            "colorbar": {
             "outlinewidth": 0,
             "ticks": ""
            },
            "type": "contourcarpet"
           }
          ],
          "heatmap": [
           {
            "colorbar": {
             "outlinewidth": 0,
             "ticks": ""
            },
            "colorscale": [
             [
              0,
              "#0d0887"
             ],
             [
              0.1111111111111111,
              "#46039f"
             ],
             [
              0.2222222222222222,
              "#7201a8"
             ],
             [
              0.3333333333333333,
              "#9c179e"
             ],
             [
              0.4444444444444444,
              "#bd3786"
             ],
             [
              0.5555555555555556,
              "#d8576b"
             ],
             [
              0.6666666666666666,
              "#ed7953"
             ],
             [
              0.7777777777777778,
              "#fb9f3a"
             ],
             [
              0.8888888888888888,
              "#fdca26"
             ],
             [
              1,
              "#f0f921"
             ]
            ],
            "type": "heatmap"
           }
          ],
          "heatmapgl": [
           {
            "colorbar": {
             "outlinewidth": 0,
             "ticks": ""
            },
            "colorscale": [
             [
              0,
              "#0d0887"
             ],
             [
              0.1111111111111111,
              "#46039f"
             ],
             [
              0.2222222222222222,
              "#7201a8"
             ],
             [
              0.3333333333333333,
              "#9c179e"
             ],
             [
              0.4444444444444444,
              "#bd3786"
             ],
             [
              0.5555555555555556,
              "#d8576b"
             ],
             [
              0.6666666666666666,
              "#ed7953"
             ],
             [
              0.7777777777777778,
              "#fb9f3a"
             ],
             [
              0.8888888888888888,
              "#fdca26"
             ],
             [
              1,
              "#f0f921"
             ]
            ],
            "type": "heatmapgl"
           }
          ],
          "histogram": [
           {
            "marker": {
             "pattern": {
              "fillmode": "overlay",
              "size": 10,
              "solidity": 0.2
             }
            },
            "type": "histogram"
           }
          ],
          "histogram2d": [
           {
            "colorbar": {
             "outlinewidth": 0,
             "ticks": ""
            },
            "colorscale": [
             [
              0,
              "#0d0887"
             ],
             [
              0.1111111111111111,
              "#46039f"
             ],
             [
              0.2222222222222222,
              "#7201a8"
             ],
             [
              0.3333333333333333,
              "#9c179e"
             ],
             [
              0.4444444444444444,
              "#bd3786"
             ],
             [
              0.5555555555555556,
              "#d8576b"
             ],
             [
              0.6666666666666666,
              "#ed7953"
             ],
             [
              0.7777777777777778,
              "#fb9f3a"
             ],
             [
              0.8888888888888888,
              "#fdca26"
             ],
             [
              1,
              "#f0f921"
             ]
            ],
            "type": "histogram2d"
           }
          ],
          "histogram2dcontour": [
           {
            "colorbar": {
             "outlinewidth": 0,
             "ticks": ""
            },
            "colorscale": [
             [
              0,
              "#0d0887"
             ],
             [
              0.1111111111111111,
              "#46039f"
             ],
             [
              0.2222222222222222,
              "#7201a8"
             ],
             [
              0.3333333333333333,
              "#9c179e"
             ],
             [
              0.4444444444444444,
              "#bd3786"
             ],
             [
              0.5555555555555556,
              "#d8576b"
             ],
             [
              0.6666666666666666,
              "#ed7953"
             ],
             [
              0.7777777777777778,
              "#fb9f3a"
             ],
             [
              0.8888888888888888,
              "#fdca26"
             ],
             [
              1,
              "#f0f921"
             ]
            ],
            "type": "histogram2dcontour"
           }
          ],
          "mesh3d": [
           {
            "colorbar": {
             "outlinewidth": 0,
             "ticks": ""
            },
            "type": "mesh3d"
           }
          ],
          "parcoords": [
           {
            "line": {
             "colorbar": {
              "outlinewidth": 0,
              "ticks": ""
             }
            },
            "type": "parcoords"
           }
          ],
          "pie": [
           {
            "automargin": true,
            "type": "pie"
           }
          ],
          "scatter": [
           {
            "fillpattern": {
             "fillmode": "overlay",
             "size": 10,
             "solidity": 0.2
            },
            "type": "scatter"
           }
          ],
          "scatter3d": [
           {
            "line": {
             "colorbar": {
              "outlinewidth": 0,
              "ticks": ""
             }
            },
            "marker": {
             "colorbar": {
              "outlinewidth": 0,
              "ticks": ""
             }
            },
            "type": "scatter3d"
           }
          ],
          "scattercarpet": [
           {
            "marker": {
             "colorbar": {
              "outlinewidth": 0,
              "ticks": ""
             }
            },
            "type": "scattercarpet"
           }
          ],
          "scattergeo": [
           {
            "marker": {
             "colorbar": {
              "outlinewidth": 0,
              "ticks": ""
             }
            },
            "type": "scattergeo"
           }
          ],
          "scattergl": [
           {
            "marker": {
             "colorbar": {
              "outlinewidth": 0,
              "ticks": ""
             }
            },
            "type": "scattergl"
           }
          ],
          "scattermapbox": [
           {
            "marker": {
             "colorbar": {
              "outlinewidth": 0,
              "ticks": ""
             }
            },
            "type": "scattermapbox"
           }
          ],
          "scatterpolar": [
           {
            "marker": {
             "colorbar": {
              "outlinewidth": 0,
              "ticks": ""
             }
            },
            "type": "scatterpolar"
           }
          ],
          "scatterpolargl": [
           {
            "marker": {
             "colorbar": {
              "outlinewidth": 0,
              "ticks": ""
             }
            },
            "type": "scatterpolargl"
           }
          ],
          "scatterternary": [
           {
            "marker": {
             "colorbar": {
              "outlinewidth": 0,
              "ticks": ""
             }
            },
            "type": "scatterternary"
           }
          ],
          "surface": [
           {
            "colorbar": {
             "outlinewidth": 0,
             "ticks": ""
            },
            "colorscale": [
             [
              0,
              "#0d0887"
             ],
             [
              0.1111111111111111,
              "#46039f"
             ],
             [
              0.2222222222222222,
              "#7201a8"
             ],
             [
              0.3333333333333333,
              "#9c179e"
             ],
             [
              0.4444444444444444,
              "#bd3786"
             ],
             [
              0.5555555555555556,
              "#d8576b"
             ],
             [
              0.6666666666666666,
              "#ed7953"
             ],
             [
              0.7777777777777778,
              "#fb9f3a"
             ],
             [
              0.8888888888888888,
              "#fdca26"
             ],
             [
              1,
              "#f0f921"
             ]
            ],
            "type": "surface"
           }
          ],
          "table": [
           {
            "cells": {
             "fill": {
              "color": "#EBF0F8"
             },
             "line": {
              "color": "white"
             }
            },
            "header": {
             "fill": {
              "color": "#C8D4E3"
             },
             "line": {
              "color": "white"
             }
            },
            "type": "table"
           }
          ]
         },
         "layout": {
          "annotationdefaults": {
           "arrowcolor": "#2a3f5f",
           "arrowhead": 0,
           "arrowwidth": 1
          },
          "autotypenumbers": "strict",
          "coloraxis": {
           "colorbar": {
            "outlinewidth": 0,
            "ticks": ""
           }
          },
          "colorscale": {
           "diverging": [
            [
             0,
             "#8e0152"
            ],
            [
             0.1,
             "#c51b7d"
            ],
            [
             0.2,
             "#de77ae"
            ],
            [
             0.3,
             "#f1b6da"
            ],
            [
             0.4,
             "#fde0ef"
            ],
            [
             0.5,
             "#f7f7f7"
            ],
            [
             0.6,
             "#e6f5d0"
            ],
            [
             0.7,
             "#b8e186"
            ],
            [
             0.8,
             "#7fbc41"
            ],
            [
             0.9,
             "#4d9221"
            ],
            [
             1,
             "#276419"
            ]
           ],
           "sequential": [
            [
             0,
             "#0d0887"
            ],
            [
             0.1111111111111111,
             "#46039f"
            ],
            [
             0.2222222222222222,
             "#7201a8"
            ],
            [
             0.3333333333333333,
             "#9c179e"
            ],
            [
             0.4444444444444444,
             "#bd3786"
            ],
            [
             0.5555555555555556,
             "#d8576b"
            ],
            [
             0.6666666666666666,
             "#ed7953"
            ],
            [
             0.7777777777777778,
             "#fb9f3a"
            ],
            [
             0.8888888888888888,
             "#fdca26"
            ],
            [
             1,
             "#f0f921"
            ]
           ],
           "sequentialminus": [
            [
             0,
             "#0d0887"
            ],
            [
             0.1111111111111111,
             "#46039f"
            ],
            [
             0.2222222222222222,
             "#7201a8"
            ],
            [
             0.3333333333333333,
             "#9c179e"
            ],
            [
             0.4444444444444444,
             "#bd3786"
            ],
            [
             0.5555555555555556,
             "#d8576b"
            ],
            [
             0.6666666666666666,
             "#ed7953"
            ],
            [
             0.7777777777777778,
             "#fb9f3a"
            ],
            [
             0.8888888888888888,
             "#fdca26"
            ],
            [
             1,
             "#f0f921"
            ]
           ]
          },
          "colorway": [
           "#636efa",
           "#EF553B",
           "#00cc96",
           "#ab63fa",
           "#FFA15A",
           "#19d3f3",
           "#FF6692",
           "#B6E880",
           "#FF97FF",
           "#FECB52"
          ],
          "font": {
           "color": "#2a3f5f"
          },
          "geo": {
           "bgcolor": "white",
           "lakecolor": "white",
           "landcolor": "#E5ECF6",
           "showlakes": true,
           "showland": true,
           "subunitcolor": "white"
          },
          "hoverlabel": {
           "align": "left"
          },
          "hovermode": "closest",
          "mapbox": {
           "style": "light"
          },
          "paper_bgcolor": "white",
          "plot_bgcolor": "#E5ECF6",
          "polar": {
           "angularaxis": {
            "gridcolor": "white",
            "linecolor": "white",
            "ticks": ""
           },
           "bgcolor": "#E5ECF6",
           "radialaxis": {
            "gridcolor": "white",
            "linecolor": "white",
            "ticks": ""
           }
          },
          "scene": {
           "xaxis": {
            "backgroundcolor": "#E5ECF6",
            "gridcolor": "white",
            "gridwidth": 2,
            "linecolor": "white",
            "showbackground": true,
            "ticks": "",
            "zerolinecolor": "white"
           },
           "yaxis": {
            "backgroundcolor": "#E5ECF6",
            "gridcolor": "white",
            "gridwidth": 2,
            "linecolor": "white",
            "showbackground": true,
            "ticks": "",
            "zerolinecolor": "white"
           },
           "zaxis": {
            "backgroundcolor": "#E5ECF6",
            "gridcolor": "white",
            "gridwidth": 2,
            "linecolor": "white",
            "showbackground": true,
            "ticks": "",
            "zerolinecolor": "white"
           }
          },
          "shapedefaults": {
           "line": {
            "color": "#2a3f5f"
           }
          },
          "ternary": {
           "aaxis": {
            "gridcolor": "white",
            "linecolor": "white",
            "ticks": ""
           },
           "baxis": {
            "gridcolor": "white",
            "linecolor": "white",
            "ticks": ""
           },
           "bgcolor": "#E5ECF6",
           "caxis": {
            "gridcolor": "white",
            "linecolor": "white",
            "ticks": ""
           }
          },
          "title": {
           "x": 0.05
          },
          "xaxis": {
           "automargin": true,
           "gridcolor": "white",
           "linecolor": "white",
           "ticks": "",
           "title": {
            "standoff": 15
           },
           "zerolinecolor": "white",
           "zerolinewidth": 2
          },
          "yaxis": {
           "automargin": true,
           "gridcolor": "white",
           "linecolor": "white",
           "ticks": "",
           "title": {
            "standoff": 15
           },
           "zerolinecolor": "white",
           "zerolinewidth": 2
          }
         }
        },
        "title": {
         "text": "Shot Distribution on NHL Rink"
        },
        "width": 500,
        "xaxis": {
         "range": [
          0,
          100
         ],
         "title": {
          "text": "X Coordinate (feet)"
         }
        },
        "yaxis": {
         "range": [
          -42.5,
          42.5
         ],
         "title": {
          "text": "Y Coordinate (feet)"
         }
        }
       }
      }
     },
     "metadata": {},
     "output_type": "display_data"
    }
   ],
   "source": [
    "def plot_shot_map_plotly(shot_rate_map: pd.DataFrame):\n",
    "    fig = go.Figure()\n",
    "\n",
    "    fig.add_layout_image(\n",
    "        dict(\n",
    "            source=Image.open(\"../../figures/nhl_rink.png\"),\n",
    "            x=-100,\n",
    "            y=42.5,\n",
    "            xref=\"x\",\n",
    "            yref=\"y\",\n",
    "            sizex=200,\n",
    "            sizey=85,\n",
    "            opacity=1,\n",
    "            sizing=\"stretch\",\n",
    "            xanchor=\"left\",\n",
    "            yanchor=\"top\",\n",
    "            layer=\"below\"\n",
    "        )\n",
    "    )\n",
    "\n",
    "    for _, row in tqdm(shot_rate_map.iterrows(), desc=\"Processing DataFrame\"):\n",
    "        fig.add_trace(go.Scatter(\n",
    "            x = [row['x_coord']],\n",
    "            y = [row['y_coord']],\n",
    "            mode='markers',\n",
    "            marker=dict(\n",
    "                size = row['team_shot_rate'] * 100, \n",
    "                opacity=0.5, \n",
    "                color='blue'),\n",
    "            showlegend=False\n",
    "        )) \n",
    "\n",
    "    fig.update_layout(\n",
    "        xaxis=dict(title='X Coordinate (feet)', range=[0, 100]),\n",
    "        yaxis=dict(title='Y Coordinate (feet)', range=[-42.5, 42.5]),\n",
    "        title='Shot Distribution on NHL Rink',\n",
    "        showlegend=False,\n",
    "        height=425,\n",
    "        width=500,    \n",
    "        plot_bgcolor='white',\n",
    "        paper_bgcolor='white'\n",
    "        )\n",
    "    fig.show()\n",
    "\n",
    "plot_shot_map_plotly(df)"
   ]
  },
  {
   "cell_type": "code",
   "execution_count": 59,
   "metadata": {},
   "outputs": [],
   "source": [
    "def plot_shot_heatmap_plotly(shot_rate_map: pd.DataFrame):\n",
    "    x = shot_rate_map['x_coord']\n",
    "    y = shot_rate_map['y_coord']\n",
    "    shot_rate = shot_rate_map['team_shot_rate']\n",
    "\n",
    "    # Create a 2D histogram (heatmap) of the shot rates - obtained using ChatGPT\n",
    "    heatmap, xedges, yedges = np.histogram2d(\n",
    "        x, \n",
    "        y, \n",
    "        bins=[np.linspace(0, 100, 50), \n",
    "              np.linspace(-42.5, 42.5, 50)], \n",
    "        weights=shot_rate)\n",
    "\n",
    "    heatmap = gaussian_filter(heatmap, sigma=3)\n",
    "\n",
    "    fig = go.Figure()\n",
    "\n",
    "    fig.add_layout_image(\n",
    "        dict(\n",
    "            source=Image.open(\"../../figures/nhl_rink.png\"),\n",
    "            x=-100,\n",
    "            y=42.5,\n",
    "            xref=\"x\",\n",
    "            yref=\"y\",\n",
    "            sizex=200,\n",
    "            sizey=85,\n",
    "            opacity=1,\n",
    "            sizing=\"stretch\",\n",
    "            xanchor=\"left\",\n",
    "            yanchor=\"top\",\n",
    "            layer=\"below\"\n",
    "        )\n",
    "    )\n",
    "\n",
    "    custom_colorscale = [[0, 'rgba(0,0,255,0)'], [0.01, 'rgba(0,0,255,0.05)'], [1, 'rgba(255,0,0,1)']]\n",
    "\n",
    "    fig.add_trace(go.Heatmap(\n",
    "        z=heatmap.T,\n",
    "        x=xedges[:-1],\n",
    "        y=yedges[:-1],\n",
    "        colorscale=custom_colorscale,\n",
    "        colorbar=dict(title='Shot Rate'),\n",
    "        zmin=0,\n",
    "        zmax=np.max(heatmap),\n",
    "        hovertemplate='X: %{x:.2f}<br>Y: %{y:.2f}<br>Shot Density: %{z:.2f}<extra></extra>',\n",
    "    ))\n",
    "\n",
    "    fig.update_layout(\n",
    "        xaxis=dict(title='X Coordinate (feet)', range=[0, 100]),\n",
    "        yaxis=dict(title='Y Coordinate (feet)', range=[-42.5, 42.5]),\n",
    "        title='Shot Distribution on NHL Rink',\n",
    "        showlegend=False,\n",
    "        height=425,\n",
    "        width=500,\n",
    "        plot_bgcolor='white',\n",
    "        paper_bgcolor='white'\n",
    "    )\n",
    "    \n",
    "    return fig"
   ]
  },
  {
   "cell_type": "code",
   "execution_count": 60,
   "metadata": {},
   "outputs": [
    {
     "name": "stderr",
     "output_type": "stream",
     "text": [
      "Generating Shot Rate Plots:   0%|          | 0/4 [00:25<?, ?it/s]\n"
     ]
    },
    {
     "ename": "KeyboardInterrupt",
     "evalue": "",
     "output_type": "error",
     "traceback": [
      "\u001b[1;31m---------------------------------------------------------------------------\u001b[0m",
      "\u001b[1;31mKeyboardInterrupt\u001b[0m                         Traceback (most recent call last)",
      "Cell \u001b[1;32mIn[60], line 14\u001b[0m\n\u001b[0;32m     10\u001b[0m         fig\u001b[38;5;241m.\u001b[39madd_trace(heatmap)\n\u001b[0;32m     12\u001b[0m     fig\u001b[38;5;241m.\u001b[39mshow()\n\u001b[1;32m---> 14\u001b[0m \u001b[43mgenerate_shot_rate_plots\u001b[49m\u001b[43m(\u001b[49m\u001b[38;5;241;43m15\u001b[39;49m\u001b[43m)\u001b[49m\n",
      "Cell \u001b[1;32mIn[60], line 7\u001b[0m, in \u001b[0;36mgenerate_shot_rate_plots\u001b[1;34m(team_id)\u001b[0m\n\u001b[0;32m      5\u001b[0m \u001b[38;5;28;01mif\u001b[39;00m i \u001b[38;5;241m==\u001b[39m \u001b[38;5;241m0\u001b[39m:\n\u001b[0;32m      6\u001b[0m     fig \u001b[38;5;241m=\u001b[39m plot_shot_heatmap_plotly(get_team_excess_shot_rate(years[\u001b[38;5;241m0\u001b[39m], team_id))\n\u001b[1;32m----> 7\u001b[0m df \u001b[38;5;241m=\u001b[39m \u001b[43mget_team_excess_shot_rate\u001b[49m\u001b[43m(\u001b[49m\u001b[43myear\u001b[49m\u001b[43m,\u001b[49m\u001b[43m \u001b[49m\u001b[43mteam_id\u001b[49m\u001b[43m)\u001b[49m\n\u001b[0;32m      8\u001b[0m heatmap \u001b[38;5;241m=\u001b[39m plot_shot_heatmap_plotly(df)\u001b[38;5;241m.\u001b[39mdata[\u001b[38;5;241m0\u001b[39m]\n\u001b[0;32m      9\u001b[0m heatmap\u001b[38;5;241m.\u001b[39mvisible \u001b[38;5;241m=\u001b[39m \u001b[38;5;28;01mFalse\u001b[39;00m\n",
      "Cell \u001b[1;32mIn[39], line 2\u001b[0m, in \u001b[0;36mget_team_excess_shot_rate\u001b[1;34m(year, team_id)\u001b[0m\n\u001b[0;32m      1\u001b[0m \u001b[38;5;28;01mdef\u001b[39;00m \u001b[38;5;21mget_team_excess_shot_rate\u001b[39m(year: \u001b[38;5;28mstr\u001b[39m, team_id: \u001b[38;5;28mint\u001b[39m):\n\u001b[1;32m----> 2\u001b[0m     team_df \u001b[38;5;241m=\u001b[39m \u001b[43mget_team_avg_shot_rate_by_coordinate\u001b[49m\u001b[43m(\u001b[49m\u001b[43myear\u001b[49m\u001b[43m,\u001b[49m\u001b[43m \u001b[49m\u001b[43mteam_id\u001b[49m\u001b[43m)\u001b[49m\n\u001b[0;32m      3\u001b[0m     league_df \u001b[38;5;241m=\u001b[39m get_league_avg_shot_rate_by_coordinate(year)\n\u001b[0;32m      5\u001b[0m     result_df \u001b[38;5;241m=\u001b[39m team_df\n",
      "Cell \u001b[1;32mIn[11], line 3\u001b[0m, in \u001b[0;36mget_team_avg_shot_rate_by_coordinate\u001b[1;34m(year, team_id)\u001b[0m\n\u001b[0;32m      2\u001b[0m \u001b[38;5;28;01mdef\u001b[39;00m \u001b[38;5;21mget_team_avg_shot_rate_by_coordinate\u001b[39m(year: \u001b[38;5;28mstr\u001b[39m, team_id: \u001b[38;5;28mint\u001b[39m):\n\u001b[1;32m----> 3\u001b[0m     df \u001b[38;5;241m=\u001b[39m \u001b[43mshotsDataRetriever\u001b[49m\u001b[38;5;241;43m.\u001b[39;49m\u001b[43mget_season_shots_for_team\u001b[49m\u001b[43m(\u001b[49m\u001b[43myear\u001b[49m\u001b[43m,\u001b[49m\u001b[43m \u001b[49m\u001b[43mteam_id\u001b[49m\u001b[43m)\u001b[49m\n\u001b[0;32m      5\u001b[0m     single_game_time \u001b[38;5;241m=\u001b[39m \u001b[38;5;241m1\u001b[39m \u001b[38;5;66;03m# in hours, assumption from google doc\u001b[39;00m\n\u001b[0;32m      6\u001b[0m     total_games \u001b[38;5;241m=\u001b[39m df[\u001b[38;5;124m'\u001b[39m\u001b[38;5;124mgame_id\u001b[39m\u001b[38;5;124m'\u001b[39m]\u001b[38;5;241m.\u001b[39mnunique()\n",
      "File \u001b[1;32mc:\\Users\\Dell.DESKTOP-4AU2O53\\Documents\\UdeM\\IFT 6758\\Projet\\ift6758\\visualizations\\shots_data_retriever.py:30\u001b[0m, in \u001b[0;36mShotsDataRetriever.get_season_shots_for_team\u001b[1;34m(self, season, team_id)\u001b[0m\n\u001b[0;32m     29\u001b[0m \u001b[38;5;28;01mdef\u001b[39;00m \u001b[38;5;21mget_season_shots_for_team\u001b[39m(\u001b[38;5;28mself\u001b[39m, season: \u001b[38;5;28mstr\u001b[39m, team_id: \u001b[38;5;28mint\u001b[39m) \u001b[38;5;241m-\u001b[39m\u001b[38;5;241m>\u001b[39m pd\u001b[38;5;241m.\u001b[39mDataFrame:\n\u001b[1;32m---> 30\u001b[0m     df \u001b[38;5;241m=\u001b[39m \u001b[38;5;28;43mself\u001b[39;49m\u001b[38;5;241;43m.\u001b[39;49m\u001b[43mget_season_shots\u001b[49m\u001b[43m(\u001b[49m\u001b[43mseason\u001b[49m\u001b[43m)\u001b[49m\n\u001b[0;32m     31\u001b[0m     df \u001b[38;5;241m=\u001b[39m df[df[\u001b[38;5;124m'\u001b[39m\u001b[38;5;124mteam_id\u001b[39m\u001b[38;5;124m'\u001b[39m] \u001b[38;5;241m==\u001b[39m team_id]\n\u001b[0;32m     32\u001b[0m     \u001b[38;5;28;01mreturn\u001b[39;00m df\n",
      "File \u001b[1;32mc:\\Users\\Dell.DESKTOP-4AU2O53\\Documents\\UdeM\\IFT 6758\\Projet\\ift6758\\visualizations\\shots_data_retriever.py:49\u001b[0m, in \u001b[0;36mShotsDataRetriever.get_season_shots\u001b[1;34m(self, season)\u001b[0m\n\u001b[0;32m     46\u001b[0m playoffs_df \u001b[38;5;241m=\u001b[39m pd\u001b[38;5;241m.\u001b[39mread_csv(\u001b[38;5;124mf\u001b[39m\u001b[38;5;124m\"\u001b[39m\u001b[38;5;132;01m{\u001b[39;00mplayoffs_path\u001b[38;5;132;01m}\u001b[39;00m\u001b[38;5;124m\"\u001b[39m)\n\u001b[0;32m     48\u001b[0m df \u001b[38;5;241m=\u001b[39m pd\u001b[38;5;241m.\u001b[39mconcat([season_df, playoffs_df], axis\u001b[38;5;241m=\u001b[39m\u001b[38;5;241m0\u001b[39m)\n\u001b[1;32m---> 49\u001b[0m df \u001b[38;5;241m=\u001b[39m \u001b[43mdf\u001b[49m\u001b[38;5;241;43m.\u001b[39;49m\u001b[43mapply\u001b[49m\u001b[43m(\u001b[49m\u001b[38;5;28;43mself\u001b[39;49m\u001b[38;5;241;43m.\u001b[39;49m\u001b[43m_normalize_shot_coordinates\u001b[49m\u001b[43m,\u001b[49m\u001b[43m \u001b[49m\u001b[43maxis\u001b[49m\u001b[38;5;241;43m=\u001b[39;49m\u001b[38;5;241;43m1\u001b[39;49m\u001b[43m)\u001b[49m\n\u001b[0;32m     50\u001b[0m \u001b[38;5;28;01mreturn\u001b[39;00m df\n",
      "File \u001b[1;32mc:\\Users\\Dell.DESKTOP-4AU2O53\\anaconda3\\envs\\ift6758-projet\\lib\\site-packages\\pandas\\core\\frame.py:10374\u001b[0m, in \u001b[0;36mDataFrame.apply\u001b[1;34m(self, func, axis, raw, result_type, args, by_row, engine, engine_kwargs, **kwargs)\u001b[0m\n\u001b[0;32m  10360\u001b[0m \u001b[38;5;28;01mfrom\u001b[39;00m \u001b[38;5;21;01mpandas\u001b[39;00m\u001b[38;5;21;01m.\u001b[39;00m\u001b[38;5;21;01mcore\u001b[39;00m\u001b[38;5;21;01m.\u001b[39;00m\u001b[38;5;21;01mapply\u001b[39;00m \u001b[38;5;28;01mimport\u001b[39;00m frame_apply\n\u001b[0;32m  10362\u001b[0m op \u001b[38;5;241m=\u001b[39m frame_apply(\n\u001b[0;32m  10363\u001b[0m     \u001b[38;5;28mself\u001b[39m,\n\u001b[0;32m  10364\u001b[0m     func\u001b[38;5;241m=\u001b[39mfunc,\n\u001b[1;32m   (...)\u001b[0m\n\u001b[0;32m  10372\u001b[0m     kwargs\u001b[38;5;241m=\u001b[39mkwargs,\n\u001b[0;32m  10373\u001b[0m )\n\u001b[1;32m> 10374\u001b[0m \u001b[38;5;28;01mreturn\u001b[39;00m \u001b[43mop\u001b[49m\u001b[38;5;241;43m.\u001b[39;49m\u001b[43mapply\u001b[49m\u001b[43m(\u001b[49m\u001b[43m)\u001b[49m\u001b[38;5;241m.\u001b[39m__finalize__(\u001b[38;5;28mself\u001b[39m, method\u001b[38;5;241m=\u001b[39m\u001b[38;5;124m\"\u001b[39m\u001b[38;5;124mapply\u001b[39m\u001b[38;5;124m\"\u001b[39m)\n",
      "File \u001b[1;32mc:\\Users\\Dell.DESKTOP-4AU2O53\\anaconda3\\envs\\ift6758-projet\\lib\\site-packages\\pandas\\core\\apply.py:916\u001b[0m, in \u001b[0;36mFrameApply.apply\u001b[1;34m(self)\u001b[0m\n\u001b[0;32m    913\u001b[0m \u001b[38;5;28;01melif\u001b[39;00m \u001b[38;5;28mself\u001b[39m\u001b[38;5;241m.\u001b[39mraw:\n\u001b[0;32m    914\u001b[0m     \u001b[38;5;28;01mreturn\u001b[39;00m \u001b[38;5;28mself\u001b[39m\u001b[38;5;241m.\u001b[39mapply_raw(engine\u001b[38;5;241m=\u001b[39m\u001b[38;5;28mself\u001b[39m\u001b[38;5;241m.\u001b[39mengine, engine_kwargs\u001b[38;5;241m=\u001b[39m\u001b[38;5;28mself\u001b[39m\u001b[38;5;241m.\u001b[39mengine_kwargs)\n\u001b[1;32m--> 916\u001b[0m \u001b[38;5;28;01mreturn\u001b[39;00m \u001b[38;5;28;43mself\u001b[39;49m\u001b[38;5;241;43m.\u001b[39;49m\u001b[43mapply_standard\u001b[49m\u001b[43m(\u001b[49m\u001b[43m)\u001b[49m\n",
      "File \u001b[1;32mc:\\Users\\Dell.DESKTOP-4AU2O53\\anaconda3\\envs\\ift6758-projet\\lib\\site-packages\\pandas\\core\\apply.py:1063\u001b[0m, in \u001b[0;36mFrameApply.apply_standard\u001b[1;34m(self)\u001b[0m\n\u001b[0;32m   1061\u001b[0m \u001b[38;5;28;01mdef\u001b[39;00m \u001b[38;5;21mapply_standard\u001b[39m(\u001b[38;5;28mself\u001b[39m):\n\u001b[0;32m   1062\u001b[0m     \u001b[38;5;28;01mif\u001b[39;00m \u001b[38;5;28mself\u001b[39m\u001b[38;5;241m.\u001b[39mengine \u001b[38;5;241m==\u001b[39m \u001b[38;5;124m\"\u001b[39m\u001b[38;5;124mpython\u001b[39m\u001b[38;5;124m\"\u001b[39m:\n\u001b[1;32m-> 1063\u001b[0m         results, res_index \u001b[38;5;241m=\u001b[39m \u001b[38;5;28;43mself\u001b[39;49m\u001b[38;5;241;43m.\u001b[39;49m\u001b[43mapply_series_generator\u001b[49m\u001b[43m(\u001b[49m\u001b[43m)\u001b[49m\n\u001b[0;32m   1064\u001b[0m     \u001b[38;5;28;01melse\u001b[39;00m:\n\u001b[0;32m   1065\u001b[0m         results, res_index \u001b[38;5;241m=\u001b[39m \u001b[38;5;28mself\u001b[39m\u001b[38;5;241m.\u001b[39mapply_series_numba()\n",
      "File \u001b[1;32mc:\\Users\\Dell.DESKTOP-4AU2O53\\anaconda3\\envs\\ift6758-projet\\lib\\site-packages\\pandas\\core\\apply.py:1085\u001b[0m, in \u001b[0;36mFrameApply.apply_series_generator\u001b[1;34m(self)\u001b[0m\n\u001b[0;32m   1081\u001b[0m         results[i] \u001b[38;5;241m=\u001b[39m \u001b[38;5;28mself\u001b[39m\u001b[38;5;241m.\u001b[39mfunc(v, \u001b[38;5;241m*\u001b[39m\u001b[38;5;28mself\u001b[39m\u001b[38;5;241m.\u001b[39margs, \u001b[38;5;241m*\u001b[39m\u001b[38;5;241m*\u001b[39m\u001b[38;5;28mself\u001b[39m\u001b[38;5;241m.\u001b[39mkwargs)\n\u001b[0;32m   1082\u001b[0m         \u001b[38;5;28;01mif\u001b[39;00m \u001b[38;5;28misinstance\u001b[39m(results[i], ABCSeries):\n\u001b[0;32m   1083\u001b[0m             \u001b[38;5;66;03m# If we have a view on v, we need to make a copy because\u001b[39;00m\n\u001b[0;32m   1084\u001b[0m             \u001b[38;5;66;03m#  series_generator will swap out the underlying data\u001b[39;00m\n\u001b[1;32m-> 1085\u001b[0m             results[i] \u001b[38;5;241m=\u001b[39m \u001b[43mresults\u001b[49m\u001b[43m[\u001b[49m\u001b[43mi\u001b[49m\u001b[43m]\u001b[49m\u001b[38;5;241;43m.\u001b[39;49m\u001b[43mcopy\u001b[49m\u001b[43m(\u001b[49m\u001b[43mdeep\u001b[49m\u001b[38;5;241;43m=\u001b[39;49m\u001b[38;5;28;43;01mFalse\u001b[39;49;00m\u001b[43m)\u001b[49m\n\u001b[0;32m   1087\u001b[0m \u001b[38;5;28;01mreturn\u001b[39;00m results, res_index\n",
      "File \u001b[1;32mc:\\Users\\Dell.DESKTOP-4AU2O53\\anaconda3\\envs\\ift6758-projet\\lib\\site-packages\\pandas\\core\\generic.py:6811\u001b[0m, in \u001b[0;36mNDFrame.copy\u001b[1;34m(self, deep)\u001b[0m\n\u001b[0;32m   6662\u001b[0m \u001b[38;5;129m@final\u001b[39m\n\u001b[0;32m   6663\u001b[0m \u001b[38;5;28;01mdef\u001b[39;00m \u001b[38;5;21mcopy\u001b[39m(\u001b[38;5;28mself\u001b[39m, deep: bool_t \u001b[38;5;241m|\u001b[39m \u001b[38;5;28;01mNone\u001b[39;00m \u001b[38;5;241m=\u001b[39m \u001b[38;5;28;01mTrue\u001b[39;00m) \u001b[38;5;241m-\u001b[39m\u001b[38;5;241m>\u001b[39m Self:\n\u001b[0;32m   6664\u001b[0m \u001b[38;5;250m    \u001b[39m\u001b[38;5;124;03m\"\"\"\u001b[39;00m\n\u001b[0;32m   6665\u001b[0m \u001b[38;5;124;03m    Make a copy of this object's indices and data.\u001b[39;00m\n\u001b[0;32m   6666\u001b[0m \n\u001b[1;32m   (...)\u001b[0m\n\u001b[0;32m   6809\u001b[0m \u001b[38;5;124;03m    dtype: int64\u001b[39;00m\n\u001b[0;32m   6810\u001b[0m \u001b[38;5;124;03m    \"\"\"\u001b[39;00m\n\u001b[1;32m-> 6811\u001b[0m     data \u001b[38;5;241m=\u001b[39m \u001b[38;5;28;43mself\u001b[39;49m\u001b[38;5;241;43m.\u001b[39;49m\u001b[43m_mgr\u001b[49m\u001b[38;5;241;43m.\u001b[39;49m\u001b[43mcopy\u001b[49m\u001b[43m(\u001b[49m\u001b[43mdeep\u001b[49m\u001b[38;5;241;43m=\u001b[39;49m\u001b[43mdeep\u001b[49m\u001b[43m)\u001b[49m\n\u001b[0;32m   6812\u001b[0m     \u001b[38;5;28mself\u001b[39m\u001b[38;5;241m.\u001b[39m_clear_item_cache()\n\u001b[0;32m   6813\u001b[0m     \u001b[38;5;28;01mreturn\u001b[39;00m \u001b[38;5;28mself\u001b[39m\u001b[38;5;241m.\u001b[39m_constructor_from_mgr(data, axes\u001b[38;5;241m=\u001b[39mdata\u001b[38;5;241m.\u001b[39maxes)\u001b[38;5;241m.\u001b[39m__finalize__(\n\u001b[0;32m   6814\u001b[0m         \u001b[38;5;28mself\u001b[39m, method\u001b[38;5;241m=\u001b[39m\u001b[38;5;124m\"\u001b[39m\u001b[38;5;124mcopy\u001b[39m\u001b[38;5;124m\"\u001b[39m\n\u001b[0;32m   6815\u001b[0m     )\n",
      "File \u001b[1;32mc:\\Users\\Dell.DESKTOP-4AU2O53\\anaconda3\\envs\\ift6758-projet\\lib\\site-packages\\pandas\\core\\internals\\managers.py:593\u001b[0m, in \u001b[0;36mBaseBlockManager.copy\u001b[1;34m(self, deep)\u001b[0m\n\u001b[0;32m    590\u001b[0m     \u001b[38;5;28;01melse\u001b[39;00m:\n\u001b[0;32m    591\u001b[0m         new_axes \u001b[38;5;241m=\u001b[39m \u001b[38;5;28mlist\u001b[39m(\u001b[38;5;28mself\u001b[39m\u001b[38;5;241m.\u001b[39maxes)\n\u001b[1;32m--> 593\u001b[0m res \u001b[38;5;241m=\u001b[39m \u001b[38;5;28;43mself\u001b[39;49m\u001b[38;5;241;43m.\u001b[39;49m\u001b[43mapply\u001b[49m\u001b[43m(\u001b[49m\u001b[38;5;124;43m\"\u001b[39;49m\u001b[38;5;124;43mcopy\u001b[39;49m\u001b[38;5;124;43m\"\u001b[39;49m\u001b[43m,\u001b[49m\u001b[43m \u001b[49m\u001b[43mdeep\u001b[49m\u001b[38;5;241;43m=\u001b[39;49m\u001b[43mdeep\u001b[49m\u001b[43m)\u001b[49m\n\u001b[0;32m    594\u001b[0m res\u001b[38;5;241m.\u001b[39maxes \u001b[38;5;241m=\u001b[39m new_axes\n\u001b[0;32m    596\u001b[0m \u001b[38;5;28;01mif\u001b[39;00m \u001b[38;5;28mself\u001b[39m\u001b[38;5;241m.\u001b[39mndim \u001b[38;5;241m>\u001b[39m \u001b[38;5;241m1\u001b[39m:\n\u001b[0;32m    597\u001b[0m     \u001b[38;5;66;03m# Avoid needing to re-compute these\u001b[39;00m\n",
      "File \u001b[1;32mc:\\Users\\Dell.DESKTOP-4AU2O53\\anaconda3\\envs\\ift6758-projet\\lib\\site-packages\\pandas\\core\\internals\\managers.py:363\u001b[0m, in \u001b[0;36mBaseBlockManager.apply\u001b[1;34m(self, f, align_keys, **kwargs)\u001b[0m\n\u001b[0;32m    361\u001b[0m         applied \u001b[38;5;241m=\u001b[39m b\u001b[38;5;241m.\u001b[39mapply(f, \u001b[38;5;241m*\u001b[39m\u001b[38;5;241m*\u001b[39mkwargs)\n\u001b[0;32m    362\u001b[0m     \u001b[38;5;28;01melse\u001b[39;00m:\n\u001b[1;32m--> 363\u001b[0m         applied \u001b[38;5;241m=\u001b[39m \u001b[38;5;28mgetattr\u001b[39m(b, f)(\u001b[38;5;241m*\u001b[39m\u001b[38;5;241m*\u001b[39mkwargs)\n\u001b[0;32m    364\u001b[0m     result_blocks \u001b[38;5;241m=\u001b[39m extend_blocks(applied, result_blocks)\n\u001b[0;32m    366\u001b[0m out \u001b[38;5;241m=\u001b[39m \u001b[38;5;28mtype\u001b[39m(\u001b[38;5;28mself\u001b[39m)\u001b[38;5;241m.\u001b[39mfrom_blocks(result_blocks, \u001b[38;5;28mself\u001b[39m\u001b[38;5;241m.\u001b[39maxes)\n",
      "File \u001b[1;32mc:\\Users\\Dell.DESKTOP-4AU2O53\\anaconda3\\envs\\ift6758-projet\\lib\\site-packages\\pandas\\core\\internals\\blocks.py:800\u001b[0m, in \u001b[0;36mBlock.copy\u001b[1;34m(self, deep)\u001b[0m\n\u001b[0;32m    798\u001b[0m \u001b[38;5;28;01melse\u001b[39;00m:\n\u001b[0;32m    799\u001b[0m     refs \u001b[38;5;241m=\u001b[39m \u001b[38;5;28mself\u001b[39m\u001b[38;5;241m.\u001b[39mrefs\n\u001b[1;32m--> 800\u001b[0m \u001b[38;5;28;01mreturn\u001b[39;00m \u001b[38;5;28;43mtype\u001b[39;49m\u001b[43m(\u001b[49m\u001b[38;5;28;43mself\u001b[39;49m\u001b[43m)\u001b[49m\u001b[43m(\u001b[49m\u001b[43mvalues\u001b[49m\u001b[43m,\u001b[49m\u001b[43m \u001b[49m\u001b[43mplacement\u001b[49m\u001b[38;5;241;43m=\u001b[39;49m\u001b[38;5;28;43mself\u001b[39;49m\u001b[38;5;241;43m.\u001b[39;49m\u001b[43m_mgr_locs\u001b[49m\u001b[43m,\u001b[49m\u001b[43m \u001b[49m\u001b[43mndim\u001b[49m\u001b[38;5;241;43m=\u001b[39;49m\u001b[38;5;28;43mself\u001b[39;49m\u001b[38;5;241;43m.\u001b[39;49m\u001b[43mndim\u001b[49m\u001b[43m,\u001b[49m\u001b[43m \u001b[49m\u001b[43mrefs\u001b[49m\u001b[38;5;241;43m=\u001b[39;49m\u001b[43mrefs\u001b[49m\u001b[43m)\u001b[49m\n",
      "\u001b[1;31mKeyboardInterrupt\u001b[0m: "
     ]
    }
   ],
   "source": [
    "def generate_shot_rate_plots(team_id: int):\n",
    "    years = [2016, 2017, 2018, 2019]\n",
    "\n",
    "    for i, year in tqdm(enumerate(years), desc=\"Generating Shot Rate Plots\", total=len(years)):\n",
    "        if i == 0:\n",
    "            fig = plot_shot_heatmap_plotly(get_team_excess_shot_rate(years[0], team_id))\n",
    "            continue\n",
    "\n",
    "        df = get_team_excess_shot_rate(year, team_id)\n",
    "        heatmap_fig = plot_shot_heatmap_plotly(df)\n",
    "        heatmap = heatmap_fig.data[0]\n",
    "        heatmap.visible = False\n",
    "        fig.add_trace(heatmap)\n",
    "    \n",
    "    fig.show()\n",
    "\n",
    "generate_shot_rate_plots(15)"
   ]
  }
 ],
 "metadata": {
  "kernelspec": {
   "display_name": "ift6758-projet",
   "language": "python",
   "name": "python3"
  },
  "language_info": {
   "codemirror_mode": {
    "name": "ipython",
    "version": 3
   },
   "file_extension": ".py",
   "mimetype": "text/x-python",
   "name": "python",
   "nbconvert_exporter": "python",
   "pygments_lexer": "ipython3",
   "version": "3.9.19"
  }
 },
 "nbformat": 4,
 "nbformat_minor": 2
}
