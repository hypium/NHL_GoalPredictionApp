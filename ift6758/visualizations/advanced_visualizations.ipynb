{
 "cells": [
  {
   "cell_type": "code",
   "execution_count": 1,
   "metadata": {},
   "outputs": [],
   "source": [
    "import shots_data_retriever\n",
    "from shots_data_retriever import ShotsDataRetriever\n",
    "import importlib\n",
    "import warnings\n",
    "import pandas as pd\n",
    "\n",
    "# Filter dtype warnings. Column 10 can contain str, int, and float types \n",
    "# which spams a warning in the output\n",
    "warnings.filterwarnings(\"ignore\", category=pd.errors.DtypeWarning)\n",
    "importlib.reload(shots_data_retriever)\n",
    "\n",
    "shotsDataRetriever = ShotsDataRetriever()"
   ]
  },
  {
   "cell_type": "code",
   "execution_count": 2,
   "metadata": {},
   "outputs": [],
   "source": [
    "# Average shot rate\n",
    "def get_league_avg_shot_rate_by_coordinate(year: str):\n",
    "    df = shotsDataRetriever.get_season_shots(year)\n",
    "\n",
    "    single_game_time = 1 # in hours, assumption from google doc\n",
    "    total_games = df['game_id'].nunique()\n",
    "    total_game_time = single_game_time * total_games\n",
    "\n",
    "    shot_location = df.groupby(['x_coord', 'y_coord']).size().reset_index(name='shot_count')\n",
    "    shot_location['shot_rate'] = shot_location['shot_count'] / total_game_time\n",
    "\n",
    "    shot_location = shot_location.sort_values(by=['x_coord', 'y_coord']).reset_index(drop=True)\n",
    "\n",
    "    return shot_location"
   ]
  },
  {
   "cell_type": "code",
   "execution_count": 3,
   "metadata": {},
   "outputs": [],
   "source": [
    "# Shot rate by team\n",
    "def get_team_avg_shot_rate_by_coordinate(year: str, team_id: int):\n",
    "    df = shotsDataRetriever.get_season_shots_for_team(year, team_id)\n",
    "\n",
    "    single_game_time = 1 # in hours, assumption from google doc\n",
    "    total_games = df['game_id'].nunique()\n",
    "    total_game_time = single_game_time * total_games\n",
    "\n",
    "    shot_location = df.groupby(['x_coord', 'y_coord']).size().reset_index(name='shot_count')\n",
    "    shot_location['shot_rate'] = shot_location['shot_count'] / total_game_time\n",
    "\n",
    "    shot_location = shot_location.sort_values(by=['x_coord', 'y_coord']).reset_index(drop=True)\n",
    "\n",
    "    return shot_location"
   ]
  },
  {
   "cell_type": "code",
   "execution_count": 4,
   "metadata": {},
   "outputs": [],
   "source": [
    "def get_team_excess_shot_rate(year: str, team_id: int):\n",
    "    team_df = get_team_avg_shot_rate_by_coordinate(year, team_id)\n",
    "    league_df = get_league_avg_shot_rate_by_coordinate(year)\n",
    "\n",
    "    result_df = pd.merge(league_df, team_df, on=['x_coord', 'y_coord'], how='left', suffixes=('_league', '_team'))\n",
    "\n",
    "    result_df.loc[:, 'shot_count_team'] = result_df['shot_count_team'].fillna(0)\n",
    "    result_df.loc[:, 'shot_rate_team'] = result_df['shot_rate_team'].fillna(0)\n",
    "\n",
    "    result_df['team_shot_rate'] = result_df['shot_rate_team']\n",
    "    result_df['league_shot_rate_per_side'] = result_df['shot_rate_league'] / 2 # divide by two to account for two teams playing per game\n",
    "\n",
    "    result_df['excess_shot_rate'] = result_df['team_shot_rate'].sub(result_df['league_shot_rate_per_side'], fill_value=0)\n",
    "\n",
    "    return result_df"
   ]
  },
  {
   "cell_type": "code",
   "execution_count": 5,
   "metadata": {},
   "outputs": [],
   "source": [
    "import numpy as np\n",
    "from tqdm import tqdm\n",
    "import plotly.graph_objects as go\n",
    "from PIL import Image\n",
    "from scipy.ndimage import gaussian_filter"
   ]
  },
  {
   "cell_type": "code",
   "execution_count": 6,
   "metadata": {},
   "outputs": [],
   "source": [
    "def plot_shot_heatmap_plotly(shot_rate_map: pd.DataFrame):\n",
    "    x = shot_rate_map['x_coord']\n",
    "    y = shot_rate_map['y_coord']\n",
    "    shot_rate = shot_rate_map['excess_shot_rate']\n",
    "\n",
    "    # Create a 2D histogram (heatmap) of the shot rates - obtained using ChatGPT\n",
    "    heatmap, xedges, yedges = np.histogram2d(\n",
    "        x, \n",
    "        y, \n",
    "        bins=[np.linspace(0, 100, 150), \n",
    "              np.linspace(-42.5, 42.5, 150)], \n",
    "        weights=shot_rate)\n",
    "    \n",
    "    heatmap = gaussian_filter(heatmap, sigma=5)\n",
    "\n",
    "    fig = go.Figure()\n",
    "\n",
    "    fig.add_layout_image(\n",
    "        dict(\n",
    "            source=Image.open(\"../../figures/nhl_rink.png\"),\n",
    "            x=-100,\n",
    "            y=42.5,\n",
    "            xref=\"x\",\n",
    "            yref=\"y\",\n",
    "            sizex=200,\n",
    "            sizey=85,\n",
    "            opacity=1,\n",
    "            sizing=\"stretch\",\n",
    "            xanchor=\"left\",\n",
    "            yanchor=\"top\",\n",
    "            layer=\"below\"\n",
    "        )\n",
    "    )\n",
    "\n",
    "    custom_colorscale = [[0, 'rgba(0,0,255,0.5)'], [0.5, 'rgba(255,255,255,0.5)'], [1, 'rgba(255,0,0,0.5)']]\n",
    "\n",
    "    z_val = max(np.max(heatmap), abs(np.min(heatmap)))\n",
    "\n",
    "    fig.add_trace(go.Heatmap(\n",
    "        z=heatmap.T,\n",
    "        x=xedges[:-1],\n",
    "        y=yedges[:-1],\n",
    "        colorscale=custom_colorscale,\n",
    "        colorbar=dict(\n",
    "            title='Excess Shot Rate',\n",
    "            tickvals=[-z_val, 0, z_val],\n",
    "            ticktext=[f'-{z_val:.2e}', '0', f'{z_val:.2e}'],\n",
    "        ),        \n",
    "        zmin=-z_val,\n",
    "        zmax=z_val,\n",
    "        hovertemplate='X: %{x:.1f}<br>Y: %{y:.1f}<br>Excess Shot Rate: %{z:.2e}<extra></extra>',\n",
    "    ))\n",
    "\n",
    "    fig.update_layout(\n",
    "        xaxis=dict(title='X Coordinate (feet)', range=[0, 100]),\n",
    "        yaxis=dict(title='Y Coordinate (feet)', range=[-42.5, 42.5]),\n",
    "        title='Shot Distribution on NHL Rink',\n",
    "        showlegend=False,\n",
    "        height=640,\n",
    "        width=800,\n",
    "        plot_bgcolor='white',\n",
    "        paper_bgcolor='white'\n",
    "    )\n",
    "    \n",
    "    return fig"
   ]
  },
  {
   "cell_type": "code",
   "execution_count": null,
   "metadata": {},
   "outputs": [
    {
     "name": "stdout",
     "output_type": "stream",
     "text": [
      "[52 10  5]\n"
     ]
    },
    {
     "name": "stderr",
     "output_type": "stream",
     "text": [
      "Generating Shot Rate Plots:  33%|███▎      | 1/3 [00:28<00:57, 28.80s/it]"
     ]
    },
    {
     "name": "stdout",
     "output_type": "stream",
     "text": [
      "-0.04488053971448805\n",
      "0.06507883260650789\n",
      "-0.0013549816640636542\n",
      "0.0017715353110487441\n"
     ]
    },
    {
     "name": "stderr",
     "output_type": "stream",
     "text": [
      "Generating Shot Rate Plots:  67%|██████▋   | 2/3 [00:52<00:25, 25.69s/it]"
     ]
    },
    {
     "name": "stdout",
     "output_type": "stream",
     "text": [
      "-0.040055557858949375\n",
      "0.07180645963763008\n",
      "-0.0021504276302721573\n",
      "0.00536644853072136\n"
     ]
    }
   ],
   "source": [
    "def generate_shot_rate_plots(year: str):\n",
    "    teams = shotsDataRetriever.get_season_shots(year)['team_id'].unique()[:3]\n",
    "    print(teams)\n",
    "\n",
    "    for i, team_id in tqdm(enumerate(teams), desc=\"Generating Shot Rate Plots\", total=len(teams)):\n",
    "        if i == 0:\n",
    "            fig = plot_shot_heatmap_plotly(get_team_excess_shot_rate(year, team_id))\n",
    "            continue\n",
    "\n",
    "        df = get_team_excess_shot_rate(year, team_id)\n",
    "        heatmap_fig = plot_shot_heatmap_plotly(df)\n",
    "        heatmap = heatmap_fig.data[0]\n",
    "        heatmap.visible = False\n",
    "        fig.add_trace(heatmap)\n",
    "    \n",
    "    fig.update_layout(\n",
    "        title = f'Excess Shot Rate for Team {team_id} - {year}',\n",
    "        updatemenus = [\n",
    "            {\n",
    "                \"buttons\": [\n",
    "                    {\n",
    "                        \"label\": f\"Team: {team_id}\",\n",
    "                        \"method\": \"update\",\n",
    "                        \"args\": [\n",
    "                            {\"visible\": [i == j for j in range(len(teams))]},  # Show selected trace\n",
    "                            {\"title\": f'Excess Shot Rate for Team {team_id} - {year}'},  # Update title\n",
    "                        ],\n",
    "                    } for i, team_id in enumerate(teams)\n",
    "                ],\n",
    "                \"direction\": \"down\",\n",
    "                \"showactive\": True,\n",
    "                \"x\": 1.1,\n",
    "                \"y\": 1.15,\n",
    "            }\n",
    "        ],\n",
    "    )\n",
    "\n",
    "    fig.show()\n",
    "\n",
    "generate_shot_rate_plots('2017')"
   ]
  }
 ],
 "metadata": {
  "kernelspec": {
   "display_name": "ift6758-projet",
   "language": "python",
   "name": "python3"
  },
  "language_info": {
   "codemirror_mode": {
    "name": "ipython",
    "version": 3
   },
   "file_extension": ".py",
   "mimetype": "text/x-python",
   "name": "python",
   "nbconvert_exporter": "python",
   "pygments_lexer": "ipython3",
   "version": "3.9.19"
  }
 },
 "nbformat": 4,
 "nbformat_minor": 2
}
