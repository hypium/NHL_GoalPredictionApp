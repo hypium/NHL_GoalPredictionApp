{
 "cells": [
  {
   "cell_type": "code",
   "execution_count": 3,
   "metadata": {},
   "outputs": [],
   "source": [
    "import sys\n",
    "import os\n",
    "sys.path.append(os.path.abspath(\"..\"))"
   ]
  },
  {
   "cell_type": "code",
   "execution_count": 4,
   "metadata": {},
   "outputs": [],
   "source": [
    "import pandas as pd\n",
    "import numpy as np\n",
    "from data.shots_data_retriever import ShotsDataRetriever"
   ]
  },
  {
   "cell_type": "code",
   "execution_count": 5,
   "metadata": {},
   "outputs": [
    {
     "data": {
      "text/plain": [
       "Index(['game_id', 'play_num', 'period', 'is_goal', 'x_coord', 'y_coord',\n",
       "       'shot_type', 'is_empty_net', 'distance', 'angle_to_goal',\n",
       "       'game_seconds', 'last_event_type', 'last_event_x_coord',\n",
       "       'last_event_y_coord', 'time_since_last_event',\n",
       "       'distance_from_last_event', 'rebound', 'angle_change', 'speed',\n",
       "       'time_since_powerplay', 'away_skaters', 'home_skaters'],\n",
       "      dtype='object')"
      ]
     },
     "execution_count": 5,
     "metadata": {},
     "output_type": "execute_result"
    }
   ],
   "source": [
    "shotsDataRetriever = ShotsDataRetriever()\n",
    "season_df = shotsDataRetriever.get_season_df_for_milestone2_test_set()\n",
    "season_df.columns"
   ]
  },
  {
   "cell_type": "code",
   "execution_count": 21,
   "metadata": {},
   "outputs": [],
   "source": [
    "angles = season_df['angle_to_goal']\n",
    "distances = season_df['distance']\n",
    "distances_and_angles = season_df[['distance', 'angle_to_goal']]"
   ]
  },
  {
   "cell_type": "code",
   "execution_count": 7,
   "metadata": {},
   "outputs": [],
   "source": [
    "import json\n",
    "import requests"
   ]
  },
  {
   "cell_type": "code",
   "execution_count": 19,
   "metadata": {},
   "outputs": [
    {
     "name": "stdout",
     "output_type": "stream",
     "text": [
      "Model loaded successfully: {'message': 'Model base_distance_angle version v2 successfully loaded.'}\n"
     ]
    }
   ],
   "source": [
    "# Define the endpoint and payload\n",
    "url = \"http://127.0.0.1:8000/download_registry_model\"\n",
    "payload = {\n",
    "    \"workspace\": \"IFT6758-2024-A02/IFT6758.2024-A02\",  # Replace with your workspace name\n",
    "    \"model\": \"base_distance_angle\",   # The model name\n",
    "    \"version\": \"v2\"                   # The model version\n",
    "}\n",
    "\n",
    "# Send the POST request\n",
    "response = requests.post(url, json=payload)\n",
    "\n",
    "# Check the response\n",
    "if response.status_code == 200:\n",
    "    print(\"Model loaded successfully:\", response.json())\n",
    "else:\n",
    "    print(\"Failed to load model:\", response.json())\n"
   ]
  },
  {
   "cell_type": "code",
   "execution_count": 22,
   "metadata": {},
   "outputs": [
    {
     "name": "stdout",
     "output_type": "stream",
     "text": [
      "Model loaded successfully: [[0.9140037625300975, 0.08599623746990247]]\n"
     ]
    }
   ],
   "source": [
    "# Define the endpoint and payload\n",
    "url = \"http://127.0.0.1:8000/predict\"\n",
    "payload = {\n",
    "    \"distance\": f\"{distances_and_angles['distance'][0]}\",\n",
    "    \"angle_to_goal\": f\"{distances_and_angles['angle_to_goal'][0]}\",\n",
    "}\n",
    "\n",
    "# Send the POST request\n",
    "response = requests.post(url, json=payload)\n",
    "\n",
    "# Check the response\n",
    "if response.status_code == 200:\n",
    "    print(\"Model loaded successfully:\", response.json())\n",
    "else:\n",
    "    print(\"Failed to load model:\", response.json())\n"
   ]
  },
  {
   "cell_type": "code",
   "execution_count": 23,
   "metadata": {},
   "outputs": [
    {
     "name": "stdout",
     "output_type": "stream",
     "text": [
      "Logs from the server:\n",
      "INFO:waitress:Serving on http://0.0.0.0:8000\n",
      "INFO:app:Received request to download model: base_distance_angle version v2 from workspace IFT6758-2024-A02/IFT6758.2024-A02\n",
      "INFO:app:Attemping to load model base_distance_angle version v2\n",
      "INFO:app:Model files: <ArtifactFiles IFT6758-2024-A02/IFT6758.2024-A02/base_distance_angle:v2 (1)>\n",
      "INFO:app:Model file: <File base_distance_angle.pkl (None) 845.0B>\n",
      "INFO:app:Model path: <_io.TextIOWrapper name='.\\\\base_distance_angle.pkl' mode='r' encoding='cp1252'>\n",
      "ERROR:app:Error loading model base_distance_angle version v2: expected str, bytes or os.PathLike object, not TextIOWrapper\n",
      "INFO:waitress:Serving on http://0.0.0.0:8000\n",
      "INFO:app:Received request to download model: base_distance_angle version v2 from workspace IFT6758-2024-A02/IFT6758.2024-A02\n",
      "INFO:app:Attemping to load model base_distance_angle version v2\n",
      "INFO:app:Model files: <ArtifactFiles IFT6758-2024-A02/IFT6758.2024-A02/base_distance_angle:v2 (1)>\n",
      "INFO:app:Model file: <File base_distance_angle.pkl (None) 845.0B>\n",
      "INFO:app:Model path: .\\base_distance_angle.pkl\n",
      "INFO:app:Model base_distance_angle version v2 downloaded and loaded succesfully.\n",
      "INFO:app:Received prediction request: {'distance': '33.12099032335839', 'angle_to_goal': '61.1134182330893'}\n",
      "INFO:app:Prediction result: [[0.9140037625300975, 0.08599623746990247]]\n"
     ]
    }
   ],
   "source": [
    "url = \"http://127.0.0.1:8000/logs\"\n",
    "response = requests.get(url)\n",
    "if response.status_code == 200:\n",
    "    # Print the logs returned by the endpoint\n",
    "    logs = response.json()\n",
    "    print(\"Logs from the server:\")\n",
    "    for log in logs:\n",
    "        print(log)\n",
    "else:\n",
    "    print(f\"Failed to retrieve logs. Status code: {response.status_code}\")\n",
    "    print(f\"Error message: {response.json()}\")"
   ]
  }
 ],
 "metadata": {
  "kernelspec": {
   "display_name": "ift6758-conda-env",
   "language": "python",
   "name": "python3"
  },
  "language_info": {
   "codemirror_mode": {
    "name": "ipython",
    "version": 3
   },
   "file_extension": ".py",
   "mimetype": "text/x-python",
   "name": "python",
   "nbconvert_exporter": "python",
   "pygments_lexer": "ipython3",
   "version": "3.12.7"
  }
 },
 "nbformat": 4,
 "nbformat_minor": 2
}
