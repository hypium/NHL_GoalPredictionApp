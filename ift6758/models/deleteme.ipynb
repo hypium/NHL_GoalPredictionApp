{
 "cells": [
  {
   "cell_type": "code",
   "execution_count": 46,
   "metadata": {},
   "outputs": [],
   "source": [
    "import sys\n",
    "import os\n",
    "sys.path.append(os.path.abspath(\"..\"))"
   ]
  },
  {
   "cell_type": "code",
   "execution_count": 47,
   "metadata": {},
   "outputs": [],
   "source": [
    "import pandas as pd\n",
    "import numpy as np\n",
    "from data.shots_data_retriever import ShotsDataRetriever"
   ]
  },
  {
   "cell_type": "code",
   "execution_count": 48,
   "metadata": {},
   "outputs": [
    {
     "data": {
      "text/plain": [
       "Index(['game_id', 'play_num', 'period', 'is_goal', 'x_coord', 'y_coord',\n",
       "       'shot_type', 'is_empty_net', 'distance', 'angle_to_goal',\n",
       "       'game_seconds', 'last_event_type', 'last_event_x_coord',\n",
       "       'last_event_y_coord', 'time_since_last_event',\n",
       "       'distance_from_last_event', 'rebound', 'angle_change', 'speed',\n",
       "       'time_since_powerplay', 'away_skaters', 'home_skaters'],\n",
       "      dtype='object')"
      ]
     },
     "execution_count": 48,
     "metadata": {},
     "output_type": "execute_result"
    }
   ],
   "source": [
    "shotsDataRetriever = ShotsDataRetriever()\n",
    "season_df = shotsDataRetriever.get_season_df_for_milestone2_test_set()\n",
    "season_df.columns"
   ]
  },
  {
   "cell_type": "code",
   "execution_count": 49,
   "metadata": {},
   "outputs": [],
   "source": [
    "angles = season_df['angle_to_goal']\n",
    "distances = season_df['distance']\n",
    "distances_and_angles = season_df[['distance', 'angle_to_goal']]"
   ]
  },
  {
   "cell_type": "code",
   "execution_count": 50,
   "metadata": {},
   "outputs": [
    {
     "data": {
      "text/plain": [
       "distance         33.120990\n",
       "angle_to_goal    61.113418\n",
       "Name: 0, dtype: float64"
      ]
     },
     "execution_count": 50,
     "metadata": {},
     "output_type": "execute_result"
    }
   ],
   "source": [
    "distances_and_angles.iloc[0]"
   ]
  },
  {
   "cell_type": "code",
   "execution_count": 51,
   "metadata": {},
   "outputs": [],
   "source": [
    "import json\n",
    "import requests"
   ]
  },
  {
   "cell_type": "code",
   "execution_count": 52,
   "metadata": {},
   "outputs": [
    {
     "name": "stdout",
     "output_type": "stream",
     "text": [
      "Model loaded successfully: {'message': 'Model base_distance version v2 successfully loaded.'}\n"
     ]
    }
   ],
   "source": [
    "# Define the endpoint and payload\n",
    "url = \"http://127.0.0.1:8000/download_registry_model\"\n",
    "payload = {\n",
    "    \"workspace\": \"IFT6758-2024-A02/IFT6758.2024-A02\",  # Replace with your workspace name\n",
    "    \"model\": \"base_distance\",   # The model name\n",
    "    \"version\": \"v2\"                   # The model version\n",
    "}\n",
    "\n",
    "# Send the POST request\n",
    "response = requests.post(url, json=payload)\n",
    "\n",
    "# Check the response\n",
    "if response.status_code == 200:\n",
    "    print(\"Model loaded successfully:\", response.json())\n",
    "else:\n",
    "    print(\"Failed to load model:\", response.json())\n"
   ]
  },
  {
   "cell_type": "code",
   "execution_count": 62,
   "metadata": {},
   "outputs": [
    {
     "name": "stdout",
     "output_type": "stream",
     "text": [
      "Failed to get prediction: {'error': 'Prediction failed'}\n"
     ]
    }
   ],
   "source": [
    "# Define the endpoint and payload\n",
    "url = \"http://127.0.0.1:8000/predict\"\n",
    "payload = {\n",
    "    \"features\": {\n",
    "        \"distance\": [distances_and_angles['distance'][:3].tolist()],  # Use a list\n",
    "        \"angle_to_goal\": [distances_and_angles['angle_to_goal'][:3].tolist()],  # Use a list\n",
    "    }\n",
    "}\n",
    "\n",
    "# Send the POST request\n",
    "response = requests.post(url, json=payload)\n",
    "\n",
    "# Check the response\n",
    "if response.status_code == 200:\n",
    "    print(\"Prediction result:\", response.json())\n",
    "else:\n",
    "    print(\"Failed to get prediction:\", response.json())\n"
   ]
  },
  {
   "cell_type": "code",
   "execution_count": 54,
   "metadata": {},
   "outputs": [
    {
     "name": "stdout",
     "output_type": "stream",
     "text": [
      "Logs from the server:\n",
      "INFO:waitress:Serving on http://0.0.0.0:8000\n",
      "INFO:app:Received request to download model: base_distance version v2 from workspace IFT6758-2024-A02/IFT6758.2024-A02\n",
      "INFO:app:Attemping to load model base_distance version v2\n",
      "INFO:app:Model base_distance version v2 downloaded and loaded succesfully.\n",
      "INFO:app:Received prediction request: {'features': {'distance': [33.12099032335839], 'angle_to_goal': [61.1134182330893]}}\n",
      "INFO:app:Prediction result: [0.08241519115479685]\n"
     ]
    }
   ],
   "source": [
    "url = \"http://127.0.0.1:8000/logs\"\n",
    "response = requests.get(url)\n",
    "if response.status_code == 200:\n",
    "    # Print the logs returned by the endpoint\n",
    "    logs = response.json()\n",
    "    print(\"Logs from the server:\")\n",
    "    for log in logs:\n",
    "        print(log)\n",
    "else:\n",
    "    print(f\"Failed to retrieve logs. Status code: {response.status_code}\")\n",
    "    print(f\"Error message: {response.json()}\")"
   ]
  }
 ],
 "metadata": {
  "kernelspec": {
   "display_name": "ift6758-conda-env",
   "language": "python",
   "name": "python3"
  },
  "language_info": {
   "codemirror_mode": {
    "name": "ipython",
    "version": 3
   },
   "file_extension": ".py",
   "mimetype": "text/x-python",
   "name": "python",
   "nbconvert_exporter": "python",
   "pygments_lexer": "ipython3",
   "version": "3.12.7"
  }
 },
 "nbformat": 4,
 "nbformat_minor": 2
}
