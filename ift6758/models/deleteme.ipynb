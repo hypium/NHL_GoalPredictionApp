{
 "cells": [
  {
   "cell_type": "code",
   "execution_count": 137,
   "metadata": {},
   "outputs": [],
   "source": [
    "import sys\n",
    "import os\n",
    "sys.path.append(os.path.abspath(\"..\"))"
   ]
  },
  {
   "cell_type": "code",
   "execution_count": 138,
   "metadata": {},
   "outputs": [],
   "source": [
    "import pandas as pd\n",
    "import numpy as np\n",
    "from data.shots_data_retriever import ShotsDataRetriever"
   ]
  },
  {
   "cell_type": "code",
   "execution_count": 139,
   "metadata": {},
   "outputs": [
    {
     "data": {
      "text/plain": [
       "Index(['game_id', 'play_num', 'period', 'is_goal', 'x_coord', 'y_coord',\n",
       "       'shot_type', 'is_empty_net', 'distance', 'angle_to_goal',\n",
       "       'game_seconds', 'last_event_type', 'last_event_x_coord',\n",
       "       'last_event_y_coord', 'time_since_last_event',\n",
       "       'distance_from_last_event', 'rebound', 'angle_change', 'speed',\n",
       "       'time_since_powerplay', 'away_skaters', 'home_skaters'],\n",
       "      dtype='object')"
      ]
     },
     "execution_count": 139,
     "metadata": {},
     "output_type": "execute_result"
    }
   ],
   "source": [
    "shotsDataRetriever = ShotsDataRetriever()\n",
    "season_df = shotsDataRetriever.get_season_df_for_milestone2_test_set()\n",
    "season_df.columns"
   ]
  },
  {
   "cell_type": "code",
   "execution_count": 140,
   "metadata": {},
   "outputs": [],
   "source": [
    "angles = season_df['angle_to_goal']\n",
    "distances = season_df['distance']\n",
    "distances_and_angles = season_df[['distance', 'angle_to_goal']]"
   ]
  },
  {
   "cell_type": "code",
   "execution_count": 141,
   "metadata": {},
   "outputs": [
    {
     "data": {
      "text/plain": [
       "distance         33.120990\n",
       "angle_to_goal    61.113418\n",
       "Name: 0, dtype: float64"
      ]
     },
     "execution_count": 141,
     "metadata": {},
     "output_type": "execute_result"
    }
   ],
   "source": [
    "distances_and_angles.iloc[0]"
   ]
  },
  {
   "cell_type": "code",
   "execution_count": 142,
   "metadata": {},
   "outputs": [],
   "source": [
    "import json\n",
    "import requests"
   ]
  },
  {
   "cell_type": "code",
   "execution_count": 143,
   "metadata": {},
   "outputs": [
    {
     "name": "stdout",
     "output_type": "stream",
     "text": [
      "Model loaded successfully: {'message': 'Model base_distance version v2 successfully loaded.'}\n"
     ]
    }
   ],
   "source": [
    "# Define the endpoint and payload\n",
    "url = \"http://127.0.0.1:8000/download_registry_model\"\n",
    "payload = {\n",
    "    \"workspace\": \"IFT6758-2024-A02/IFT6758.2024-A02\",  # Replace with your workspace name\n",
    "    \"model\": \"base_distance\",   # The model name\n",
    "    \"version\": \"v2\"                   # The model version\n",
    "}\n",
    "\n",
    "# Send the POST request\n",
    "response = requests.post(url, json=payload)\n",
    "\n",
    "# Check the response\n",
    "if response.status_code == 200:\n",
    "    print(\"Model loaded successfully:\", response.json())\n",
    "else:\n",
    "    print(\"Failed to load model:\", response.json())\n"
   ]
  },
  {
   "cell_type": "code",
   "execution_count": null,
   "metadata": {},
   "outputs": [
    {
     "ename": "ValueError",
     "evalue": "Invalid value 'list' for option 'orient'",
     "output_type": "error",
     "traceback": [
      "\u001b[1;31m---------------------------------------------------------------------------\u001b[0m",
      "\u001b[1;31mValueError\u001b[0m                                Traceback (most recent call last)",
      "Cell \u001b[1;32mIn[145], line 3\u001b[0m\n\u001b[0;32m      1\u001b[0m \u001b[38;5;66;03m# Define the endpoint and payload\u001b[39;00m\n\u001b[0;32m      2\u001b[0m url \u001b[38;5;241m=\u001b[39m \u001b[38;5;124m\"\u001b[39m\u001b[38;5;124mhttp://127.0.0.1:8000/predict\u001b[39m\u001b[38;5;124m\"\u001b[39m\n\u001b[1;32m----> 3\u001b[0m payload \u001b[38;5;241m=\u001b[39m \u001b[43mdistances_and_angles\u001b[49m\u001b[43m[\u001b[49m\u001b[43m:\u001b[49m\u001b[38;5;241;43m5\u001b[39;49m\u001b[43m]\u001b[49m\u001b[38;5;241;43m.\u001b[39;49m\u001b[43mto_json\u001b[49m\u001b[43m(\u001b[49m\u001b[43morient\u001b[49m\u001b[38;5;241;43m=\u001b[39;49m\u001b[38;5;124;43m'\u001b[39;49m\u001b[38;5;124;43mlist\u001b[39;49m\u001b[38;5;124;43m'\u001b[39;49m\u001b[43m)\u001b[49m\n\u001b[0;32m      5\u001b[0m \u001b[38;5;66;03m# Send the POST request\u001b[39;00m\n\u001b[0;32m      6\u001b[0m response \u001b[38;5;241m=\u001b[39m requests\u001b[38;5;241m.\u001b[39mpost(url, json\u001b[38;5;241m=\u001b[39mpayload)\n",
      "File \u001b[1;32mc:\\Users\\Daniel\\.conda\\envs\\ift6758-conda-env\\Lib\\site-packages\\pandas\\util\\_decorators.py:333\u001b[0m, in \u001b[0;36mdeprecate_nonkeyword_arguments.<locals>.decorate.<locals>.wrapper\u001b[1;34m(*args, **kwargs)\u001b[0m\n\u001b[0;32m    327\u001b[0m \u001b[38;5;28;01mif\u001b[39;00m \u001b[38;5;28mlen\u001b[39m(args) \u001b[38;5;241m>\u001b[39m num_allow_args:\n\u001b[0;32m    328\u001b[0m     warnings\u001b[38;5;241m.\u001b[39mwarn(\n\u001b[0;32m    329\u001b[0m         msg\u001b[38;5;241m.\u001b[39mformat(arguments\u001b[38;5;241m=\u001b[39m_format_argument_list(allow_args)),\n\u001b[0;32m    330\u001b[0m         \u001b[38;5;167;01mFutureWarning\u001b[39;00m,\n\u001b[0;32m    331\u001b[0m         stacklevel\u001b[38;5;241m=\u001b[39mfind_stack_level(),\n\u001b[0;32m    332\u001b[0m     )\n\u001b[1;32m--> 333\u001b[0m \u001b[38;5;28;01mreturn\u001b[39;00m \u001b[43mfunc\u001b[49m\u001b[43m(\u001b[49m\u001b[38;5;241;43m*\u001b[39;49m\u001b[43margs\u001b[49m\u001b[43m,\u001b[49m\u001b[43m \u001b[49m\u001b[38;5;241;43m*\u001b[39;49m\u001b[38;5;241;43m*\u001b[39;49m\u001b[43mkwargs\u001b[49m\u001b[43m)\u001b[49m\n",
      "File \u001b[1;32mc:\\Users\\Daniel\\.conda\\envs\\ift6758-conda-env\\Lib\\site-packages\\pandas\\core\\generic.py:2702\u001b[0m, in \u001b[0;36mNDFrame.to_json\u001b[1;34m(self, path_or_buf, orient, date_format, double_precision, force_ascii, date_unit, default_handler, lines, compression, index, indent, storage_options, mode)\u001b[0m\n\u001b[0;32m   2699\u001b[0m config\u001b[38;5;241m.\u001b[39mis_nonnegative_int(indent)\n\u001b[0;32m   2700\u001b[0m indent \u001b[38;5;241m=\u001b[39m indent \u001b[38;5;129;01mor\u001b[39;00m \u001b[38;5;241m0\u001b[39m\n\u001b[1;32m-> 2702\u001b[0m \u001b[38;5;28;01mreturn\u001b[39;00m \u001b[43mjson\u001b[49m\u001b[38;5;241;43m.\u001b[39;49m\u001b[43mto_json\u001b[49m\u001b[43m(\u001b[49m\n\u001b[0;32m   2703\u001b[0m \u001b[43m    \u001b[49m\u001b[43mpath_or_buf\u001b[49m\u001b[38;5;241;43m=\u001b[39;49m\u001b[43mpath_or_buf\u001b[49m\u001b[43m,\u001b[49m\n\u001b[0;32m   2704\u001b[0m \u001b[43m    \u001b[49m\u001b[43mobj\u001b[49m\u001b[38;5;241;43m=\u001b[39;49m\u001b[38;5;28;43mself\u001b[39;49m\u001b[43m,\u001b[49m\n\u001b[0;32m   2705\u001b[0m \u001b[43m    \u001b[49m\u001b[43morient\u001b[49m\u001b[38;5;241;43m=\u001b[39;49m\u001b[43morient\u001b[49m\u001b[43m,\u001b[49m\n\u001b[0;32m   2706\u001b[0m \u001b[43m    \u001b[49m\u001b[43mdate_format\u001b[49m\u001b[38;5;241;43m=\u001b[39;49m\u001b[43mdate_format\u001b[49m\u001b[43m,\u001b[49m\n\u001b[0;32m   2707\u001b[0m \u001b[43m    \u001b[49m\u001b[43mdouble_precision\u001b[49m\u001b[38;5;241;43m=\u001b[39;49m\u001b[43mdouble_precision\u001b[49m\u001b[43m,\u001b[49m\n\u001b[0;32m   2708\u001b[0m \u001b[43m    \u001b[49m\u001b[43mforce_ascii\u001b[49m\u001b[38;5;241;43m=\u001b[39;49m\u001b[43mforce_ascii\u001b[49m\u001b[43m,\u001b[49m\n\u001b[0;32m   2709\u001b[0m \u001b[43m    \u001b[49m\u001b[43mdate_unit\u001b[49m\u001b[38;5;241;43m=\u001b[39;49m\u001b[43mdate_unit\u001b[49m\u001b[43m,\u001b[49m\n\u001b[0;32m   2710\u001b[0m \u001b[43m    \u001b[49m\u001b[43mdefault_handler\u001b[49m\u001b[38;5;241;43m=\u001b[39;49m\u001b[43mdefault_handler\u001b[49m\u001b[43m,\u001b[49m\n\u001b[0;32m   2711\u001b[0m \u001b[43m    \u001b[49m\u001b[43mlines\u001b[49m\u001b[38;5;241;43m=\u001b[39;49m\u001b[43mlines\u001b[49m\u001b[43m,\u001b[49m\n\u001b[0;32m   2712\u001b[0m \u001b[43m    \u001b[49m\u001b[43mcompression\u001b[49m\u001b[38;5;241;43m=\u001b[39;49m\u001b[43mcompression\u001b[49m\u001b[43m,\u001b[49m\n\u001b[0;32m   2713\u001b[0m \u001b[43m    \u001b[49m\u001b[43mindex\u001b[49m\u001b[38;5;241;43m=\u001b[39;49m\u001b[43mindex\u001b[49m\u001b[43m,\u001b[49m\n\u001b[0;32m   2714\u001b[0m \u001b[43m    \u001b[49m\u001b[43mindent\u001b[49m\u001b[38;5;241;43m=\u001b[39;49m\u001b[43mindent\u001b[49m\u001b[43m,\u001b[49m\n\u001b[0;32m   2715\u001b[0m \u001b[43m    \u001b[49m\u001b[43mstorage_options\u001b[49m\u001b[38;5;241;43m=\u001b[39;49m\u001b[43mstorage_options\u001b[49m\u001b[43m,\u001b[49m\n\u001b[0;32m   2716\u001b[0m \u001b[43m    \u001b[49m\u001b[43mmode\u001b[49m\u001b[38;5;241;43m=\u001b[39;49m\u001b[43mmode\u001b[49m\u001b[43m,\u001b[49m\n\u001b[0;32m   2717\u001b[0m \u001b[43m\u001b[49m\u001b[43m)\u001b[49m\n",
      "File \u001b[1;32mc:\\Users\\Daniel\\.conda\\envs\\ift6758-conda-env\\Lib\\site-packages\\pandas\\io\\json\\_json.py:210\u001b[0m, in \u001b[0;36mto_json\u001b[1;34m(path_or_buf, obj, orient, date_format, double_precision, force_ascii, date_unit, default_handler, lines, compression, index, indent, storage_options, mode)\u001b[0m\n\u001b[0;32m    197\u001b[0m \u001b[38;5;28;01melse\u001b[39;00m:\n\u001b[0;32m    198\u001b[0m     \u001b[38;5;28;01mraise\u001b[39;00m \u001b[38;5;167;01mNotImplementedError\u001b[39;00m(\u001b[38;5;124m\"\u001b[39m\u001b[38;5;124m'\u001b[39m\u001b[38;5;124mobj\u001b[39m\u001b[38;5;124m'\u001b[39m\u001b[38;5;124m should be a Series or a DataFrame\u001b[39m\u001b[38;5;124m\"\u001b[39m)\n\u001b[0;32m    200\u001b[0m s \u001b[38;5;241m=\u001b[39m \u001b[43mwriter\u001b[49m\u001b[43m(\u001b[49m\n\u001b[0;32m    201\u001b[0m \u001b[43m    \u001b[49m\u001b[43mobj\u001b[49m\u001b[43m,\u001b[49m\n\u001b[0;32m    202\u001b[0m \u001b[43m    \u001b[49m\u001b[43morient\u001b[49m\u001b[38;5;241;43m=\u001b[39;49m\u001b[43morient\u001b[49m\u001b[43m,\u001b[49m\n\u001b[0;32m    203\u001b[0m \u001b[43m    \u001b[49m\u001b[43mdate_format\u001b[49m\u001b[38;5;241;43m=\u001b[39;49m\u001b[43mdate_format\u001b[49m\u001b[43m,\u001b[49m\n\u001b[0;32m    204\u001b[0m \u001b[43m    \u001b[49m\u001b[43mdouble_precision\u001b[49m\u001b[38;5;241;43m=\u001b[39;49m\u001b[43mdouble_precision\u001b[49m\u001b[43m,\u001b[49m\n\u001b[0;32m    205\u001b[0m \u001b[43m    \u001b[49m\u001b[43mensure_ascii\u001b[49m\u001b[38;5;241;43m=\u001b[39;49m\u001b[43mforce_ascii\u001b[49m\u001b[43m,\u001b[49m\n\u001b[0;32m    206\u001b[0m \u001b[43m    \u001b[49m\u001b[43mdate_unit\u001b[49m\u001b[38;5;241;43m=\u001b[39;49m\u001b[43mdate_unit\u001b[49m\u001b[43m,\u001b[49m\n\u001b[0;32m    207\u001b[0m \u001b[43m    \u001b[49m\u001b[43mdefault_handler\u001b[49m\u001b[38;5;241;43m=\u001b[39;49m\u001b[43mdefault_handler\u001b[49m\u001b[43m,\u001b[49m\n\u001b[0;32m    208\u001b[0m \u001b[43m    \u001b[49m\u001b[43mindex\u001b[49m\u001b[38;5;241;43m=\u001b[39;49m\u001b[43mindex\u001b[49m\u001b[43m,\u001b[49m\n\u001b[0;32m    209\u001b[0m \u001b[43m    \u001b[49m\u001b[43mindent\u001b[49m\u001b[38;5;241;43m=\u001b[39;49m\u001b[43mindent\u001b[49m\u001b[43m,\u001b[49m\n\u001b[1;32m--> 210\u001b[0m \u001b[43m\u001b[49m\u001b[43m)\u001b[49m\u001b[38;5;241;43m.\u001b[39;49m\u001b[43mwrite\u001b[49m\u001b[43m(\u001b[49m\u001b[43m)\u001b[49m\n\u001b[0;32m    212\u001b[0m \u001b[38;5;28;01mif\u001b[39;00m lines:\n\u001b[0;32m    213\u001b[0m     s \u001b[38;5;241m=\u001b[39m convert_to_line_delimits(s)\n",
      "File \u001b[1;32mc:\\Users\\Daniel\\.conda\\envs\\ift6758-conda-env\\Lib\\site-packages\\pandas\\io\\json\\_json.py:263\u001b[0m, in \u001b[0;36mWriter.write\u001b[1;34m(self)\u001b[0m\n\u001b[0;32m    261\u001b[0m \u001b[38;5;28;01mdef\u001b[39;00m \u001b[38;5;21mwrite\u001b[39m(\u001b[38;5;28mself\u001b[39m) \u001b[38;5;241m-\u001b[39m\u001b[38;5;241m>\u001b[39m \u001b[38;5;28mstr\u001b[39m:\n\u001b[0;32m    262\u001b[0m     iso_dates \u001b[38;5;241m=\u001b[39m \u001b[38;5;28mself\u001b[39m\u001b[38;5;241m.\u001b[39mdate_format \u001b[38;5;241m==\u001b[39m \u001b[38;5;124m\"\u001b[39m\u001b[38;5;124miso\u001b[39m\u001b[38;5;124m\"\u001b[39m\n\u001b[1;32m--> 263\u001b[0m     \u001b[38;5;28;01mreturn\u001b[39;00m \u001b[43mujson_dumps\u001b[49m\u001b[43m(\u001b[49m\n\u001b[0;32m    264\u001b[0m \u001b[43m        \u001b[49m\u001b[38;5;28;43mself\u001b[39;49m\u001b[38;5;241;43m.\u001b[39;49m\u001b[43mobj_to_write\u001b[49m\u001b[43m,\u001b[49m\n\u001b[0;32m    265\u001b[0m \u001b[43m        \u001b[49m\u001b[43morient\u001b[49m\u001b[38;5;241;43m=\u001b[39;49m\u001b[38;5;28;43mself\u001b[39;49m\u001b[38;5;241;43m.\u001b[39;49m\u001b[43morient\u001b[49m\u001b[43m,\u001b[49m\n\u001b[0;32m    266\u001b[0m \u001b[43m        \u001b[49m\u001b[43mdouble_precision\u001b[49m\u001b[38;5;241;43m=\u001b[39;49m\u001b[38;5;28;43mself\u001b[39;49m\u001b[38;5;241;43m.\u001b[39;49m\u001b[43mdouble_precision\u001b[49m\u001b[43m,\u001b[49m\n\u001b[0;32m    267\u001b[0m \u001b[43m        \u001b[49m\u001b[43mensure_ascii\u001b[49m\u001b[38;5;241;43m=\u001b[39;49m\u001b[38;5;28;43mself\u001b[39;49m\u001b[38;5;241;43m.\u001b[39;49m\u001b[43mensure_ascii\u001b[49m\u001b[43m,\u001b[49m\n\u001b[0;32m    268\u001b[0m \u001b[43m        \u001b[49m\u001b[43mdate_unit\u001b[49m\u001b[38;5;241;43m=\u001b[39;49m\u001b[38;5;28;43mself\u001b[39;49m\u001b[38;5;241;43m.\u001b[39;49m\u001b[43mdate_unit\u001b[49m\u001b[43m,\u001b[49m\n\u001b[0;32m    269\u001b[0m \u001b[43m        \u001b[49m\u001b[43miso_dates\u001b[49m\u001b[38;5;241;43m=\u001b[39;49m\u001b[43miso_dates\u001b[49m\u001b[43m,\u001b[49m\n\u001b[0;32m    270\u001b[0m \u001b[43m        \u001b[49m\u001b[43mdefault_handler\u001b[49m\u001b[38;5;241;43m=\u001b[39;49m\u001b[38;5;28;43mself\u001b[39;49m\u001b[38;5;241;43m.\u001b[39;49m\u001b[43mdefault_handler\u001b[49m\u001b[43m,\u001b[49m\n\u001b[0;32m    271\u001b[0m \u001b[43m        \u001b[49m\u001b[43mindent\u001b[49m\u001b[38;5;241;43m=\u001b[39;49m\u001b[38;5;28;43mself\u001b[39;49m\u001b[38;5;241;43m.\u001b[39;49m\u001b[43mindent\u001b[49m\u001b[43m,\u001b[49m\n\u001b[0;32m    272\u001b[0m \u001b[43m    \u001b[49m\u001b[43m)\u001b[49m\n",
      "\u001b[1;31mValueError\u001b[0m: Invalid value 'list' for option 'orient'"
     ]
    }
   ],
   "source": [
    "# Define the endpoint and payload\n",
    "url = \"http://127.0.0.1:8000/predict\"\n",
    "payload = distances_and_angles[:5].to_dict(orient='list')\n",
    "\n",
    "# Send the POST request\n",
    "response = requests.post(url, json=payload)\n",
    "\n",
    "# Check the response\n",
    "if response.status_code == 200:\n",
    "    print(\"Prediction result:\", response.json())\n",
    "else:\n",
    "    print(\"Failed to get prediction:\", response.json())\n"
   ]
  },
  {
   "cell_type": "code",
   "execution_count": null,
   "metadata": {},
   "outputs": [
    {
     "name": "stdout",
     "output_type": "stream",
     "text": [
      "Logs from the server:\n",
      "INFO:waitress:Serving on http://0.0.0.0:8000\n",
      "INFO:app:Received prediction request: {\"distance\":{\"0\":33.1209903234,\"1\":48.0208288142,\"2\":49.040799341,\"3\":61.0737259384,\"4\":37.8549864615},\"angle_to_goal\":{\"0\":61.1134182331,\"1\":-31.3730051401,\"2\":-39.207203505,\"3\":39.6854543301,\"4\":12.2004687274}}\n",
      "INFO:app:Received request to download model: base_distance version v2 from workspace IFT6758-2024-A02/IFT6758.2024-A02\n",
      "INFO:app:Model base_distance version v2 loaded from disk.\n",
      "INFO:app:Received prediction request: {\"distance\":{\"0\":33.1209903234,\"1\":48.0208288142,\"2\":49.040799341,\"3\":61.0737259384,\"4\":37.8549864615},\"angle_to_goal\":{\"0\":61.1134182331,\"1\":-31.3730051401,\"2\":-39.207203505,\"3\":39.6854543301,\"4\":12.2004687274}}\n",
      "ERROR:app:Exception on /predict [POST]\n",
      "Traceback (most recent call last):\n",
      "  File \"C:\\Users\\Daniel\\.conda\\envs\\ift6758-conda-env\\Lib\\site-packages\\flask\\app.py\", line 1511, in wsgi_app\n",
      "    response = self.full_dispatch_request()\n",
      "               ^^^^^^^^^^^^^^^^^^^^^^^^^^^^\n",
      "  File \"C:\\Users\\Daniel\\.conda\\envs\\ift6758-conda-env\\Lib\\site-packages\\flask\\app.py\", line 919, in full_dispatch_request\n",
      "    rv = self.handle_user_exception(e)\n",
      "         ^^^^^^^^^^^^^^^^^^^^^^^^^^^^^\n",
      "  File \"C:\\Users\\Daniel\\.conda\\envs\\ift6758-conda-env\\Lib\\site-packages\\flask\\app.py\", line 917, in full_dispatch_request\n",
      "    rv = self.dispatch_request()\n",
      "         ^^^^^^^^^^^^^^^^^^^^^^^\n",
      "  File \"C:\\Users\\Daniel\\.conda\\envs\\ift6758-conda-env\\Lib\\site-packages\\flask\\app.py\", line 902, in dispatch_request\n",
      "    return self.ensure_sync(self.view_functions[rule.endpoint])(**view_args)  # type: ignore[no-any-return]\n",
      "           ^^^^^^^^^^^^^^^^^^^^^^^^^^^^^^^^^^^^^^^^^^^^^^^^^^^^^^^^^^^^^^^^^\n",
      "  File \"D:\\École\\IFT 6758\\ift6758_projet\\serving\\app.py\", line 107, in predict\n",
      "    return jsonify({\"error:\" \"'features' key not found in payload.\"}), 400\n",
      "           ^^^^^^^^^^^^^^^^^^^^^^^^^^^^^^^^^^^^^^^^^^^^^^^^^^^^^^^^^^\n",
      "  File \"C:\\Users\\Daniel\\.conda\\envs\\ift6758-conda-env\\Lib\\site-packages\\flask\\json\\__init__.py\", line 170, in jsonify\n",
      "    return current_app.json.response(*args, **kwargs)  # type: ignore[return-value]\n",
      "           ^^^^^^^^^^^^^^^^^^^^^^^^^^^^^^^^^^^^^^^^^^\n",
      "  File \"C:\\Users\\Daniel\\.conda\\envs\\ift6758-conda-env\\Lib\\site-packages\\flask\\json\\provider.py\", line 214, in response\n",
      "    f\"{self.dumps(obj, **dump_args)}\\n\", mimetype=self.mimetype\n",
      "       ^^^^^^^^^^^^^^^^^^^^^^^^^^^^\n",
      "  File \"C:\\Users\\Daniel\\.conda\\envs\\ift6758-conda-env\\Lib\\site-packages\\flask\\json\\provider.py\", line 179, in dumps\n",
      "    return json.dumps(obj, **kwargs)\n",
      "           ^^^^^^^^^^^^^^^^^^^^^^^^^\n",
      "  File \"C:\\Users\\Daniel\\.conda\\envs\\ift6758-conda-env\\Lib\\json\\__init__.py\", line 238, in dumps\n",
      "    **kw).encode(obj)\n",
      "          ^^^^^^^^^^^\n",
      "  File \"C:\\Users\\Daniel\\.conda\\envs\\ift6758-conda-env\\Lib\\json\\encoder.py\", line 200, in encode\n",
      "    chunks = self.iterencode(o, _one_shot=True)\n",
      "             ^^^^^^^^^^^^^^^^^^^^^^^^^^^^^^^^^^\n",
      "  File \"C:\\Users\\Daniel\\.conda\\envs\\ift6758-conda-env\\Lib\\json\\encoder.py\", line 258, in iterencode\n",
      "    return _iterencode(o, 0)\n",
      "           ^^^^^^^^^^^^^^^^^\n",
      "  File \"C:\\Users\\Daniel\\.conda\\envs\\ift6758-conda-env\\Lib\\site-packages\\flask\\json\\provider.py\", line 121, in _default\n",
      "    raise TypeError(f\"Object of type {type(o).__name__} is not JSON serializable\")\n",
      "TypeError: Object of type set is not JSON serializable\n",
      "INFO:waitress:Serving on http://0.0.0.0:8000\n",
      "INFO:app:Received request to download model: base_distance version v2 from workspace IFT6758-2024-A02/IFT6758.2024-A02\n",
      "INFO:app:Model base_distance version v2 loaded from disk.\n",
      "INFO:app:Received prediction request: {\"distance\":{\"0\":33.1209903234,\"1\":48.0208288142,\"2\":49.040799341,\"3\":61.0737259384,\"4\":37.8549864615},\"angle_to_goal\":{\"0\":61.1134182331,\"1\":-31.3730051401,\"2\":-39.207203505,\"3\":39.6854543301,\"4\":12.2004687274}}\n",
      "ERROR:app:Exception on /predict [POST]\n",
      "Traceback (most recent call last):\n",
      "  File \"C:\\Users\\Daniel\\.conda\\envs\\ift6758-conda-env\\Lib\\site-packages\\flask\\app.py\", line 1511, in wsgi_app\n",
      "    response = self.full_dispatch_request()\n",
      "               ^^^^^^^^^^^^^^^^^^^^^^^^^^^^\n",
      "  File \"C:\\Users\\Daniel\\.conda\\envs\\ift6758-conda-env\\Lib\\site-packages\\flask\\app.py\", line 919, in full_dispatch_request\n",
      "    rv = self.handle_user_exception(e)\n",
      "         ^^^^^^^^^^^^^^^^^^^^^^^^^^^^^\n",
      "  File \"C:\\Users\\Daniel\\.conda\\envs\\ift6758-conda-env\\Lib\\site-packages\\flask\\app.py\", line 917, in full_dispatch_request\n",
      "    rv = self.dispatch_request()\n",
      "         ^^^^^^^^^^^^^^^^^^^^^^^\n",
      "  File \"C:\\Users\\Daniel\\.conda\\envs\\ift6758-conda-env\\Lib\\site-packages\\flask\\app.py\", line 902, in dispatch_request\n",
      "    return self.ensure_sync(self.view_functions[rule.endpoint])(**view_args)  # type: ignore[no-any-return]\n",
      "           ^^^^^^^^^^^^^^^^^^^^^^^^^^^^^^^^^^^^^^^^^^^^^^^^^^^^^^^^^^^^^^^^^\n",
      "  File \"D:\\École\\IFT 6758\\ift6758_projet\\serving\\app.py\", line 107, in predict\n",
      "    return jsonify({\"error:\" \"'features' key not found in payload.\"}), 400\n",
      "           ^^^^^^^^^^^^^^^^^^^^^^^^^^^^^^^^^^^^^^^^^^^^^^^^^^^^^^^^^^\n",
      "  File \"C:\\Users\\Daniel\\.conda\\envs\\ift6758-conda-env\\Lib\\site-packages\\flask\\json\\__init__.py\", line 170, in jsonify\n",
      "    return current_app.json.response(*args, **kwargs)  # type: ignore[return-value]\n",
      "           ^^^^^^^^^^^^^^^^^^^^^^^^^^^^^^^^^^^^^^^^^^\n",
      "  File \"C:\\Users\\Daniel\\.conda\\envs\\ift6758-conda-env\\Lib\\site-packages\\flask\\json\\provider.py\", line 214, in response\n",
      "    f\"{self.dumps(obj, **dump_args)}\\n\", mimetype=self.mimetype\n",
      "       ^^^^^^^^^^^^^^^^^^^^^^^^^^^^\n",
      "  File \"C:\\Users\\Daniel\\.conda\\envs\\ift6758-conda-env\\Lib\\site-packages\\flask\\json\\provider.py\", line 179, in dumps\n",
      "    return json.dumps(obj, **kwargs)\n",
      "           ^^^^^^^^^^^^^^^^^^^^^^^^^\n",
      "  File \"C:\\Users\\Daniel\\.conda\\envs\\ift6758-conda-env\\Lib\\json\\__init__.py\", line 238, in dumps\n",
      "    **kw).encode(obj)\n",
      "          ^^^^^^^^^^^\n",
      "  File \"C:\\Users\\Daniel\\.conda\\envs\\ift6758-conda-env\\Lib\\json\\encoder.py\", line 200, in encode\n",
      "    chunks = self.iterencode(o, _one_shot=True)\n",
      "             ^^^^^^^^^^^^^^^^^^^^^^^^^^^^^^^^^^\n",
      "  File \"C:\\Users\\Daniel\\.conda\\envs\\ift6758-conda-env\\Lib\\json\\encoder.py\", line 258, in iterencode\n",
      "    return _iterencode(o, 0)\n",
      "           ^^^^^^^^^^^^^^^^^\n",
      "  File \"C:\\Users\\Daniel\\.conda\\envs\\ift6758-conda-env\\Lib\\site-packages\\flask\\json\\provider.py\", line 121, in _default\n",
      "    raise TypeError(f\"Object of type {type(o).__name__} is not JSON serializable\")\n",
      "TypeError: Object of type set is not JSON serializable\n",
      "INFO:waitress:Serving on http://0.0.0.0:8000\n",
      "INFO:app:Received request to download model: base_distance version v2 from workspace IFT6758-2024-A02/IFT6758.2024-A02\n",
      "INFO:app:Model base_distance version v2 loaded from disk.\n",
      "INFO:app:Received prediction request: {\"distance\":{\"0\":33.1209903234,\"1\":48.0208288142,\"2\":49.040799341,\"3\":61.0737259384,\"4\":37.8549864615},\"angle_to_goal\":{\"0\":61.1134182331,\"1\":-31.3730051401,\"2\":-39.207203505,\"3\":39.6854543301,\"4\":12.2004687274}}\n",
      "ERROR:app:Prediction error: string indices must be integers, not 'str'\n",
      "INFO:app:Received prediction request: {\"distance\":{\"0\":33.1209903234,\"1\":48.0208288142,\"2\":49.040799341,\"3\":61.0737259384,\"4\":37.8549864615},\"angle_to_goal\":{\"0\":61.1134182331,\"1\":-31.3730051401,\"2\":-39.207203505,\"3\":39.6854543301,\"4\":12.2004687274}}\n",
      "ERROR:app:Prediction error: string indices must be integers, not 'str'\n",
      "INFO:waitress:Serving on http://0.0.0.0:8000\n",
      "INFO:app:Received request to download model: base_distance version v2 from workspace IFT6758-2024-A02/IFT6758.2024-A02\n",
      "INFO:app:Model base_distance version v2 loaded from disk.\n",
      "INFO:app:Received prediction request: {\"distance\":{\"0\":33.1209903234,\"1\":48.0208288142,\"2\":49.040799341,\"3\":61.0737259384,\"4\":37.8549864615},\"angle_to_goal\":{\"0\":61.1134182331,\"1\":-31.3730051401,\"2\":-39.207203505,\"3\":39.6854543301,\"4\":12.2004687274}}\n",
      "ERROR:app:Prediction error: string indices must be integers, not 'str'\n",
      "INFO:waitress:Serving on http://0.0.0.0:8000\n",
      "INFO:app:Received request to download model: base_distance version v2 from workspace IFT6758-2024-A02/IFT6758.2024-A02\n",
      "INFO:app:Model base_distance version v2 loaded from disk.\n",
      "INFO:app:Received prediction request: {\"distance\":{\"0\":33.1209903234,\"1\":48.0208288142,\"2\":49.040799341,\"3\":61.0737259384,\"4\":37.8549864615},\"angle_to_goal\":{\"0\":61.1134182331,\"1\":-31.3730051401,\"2\":-39.207203505,\"3\":39.6854543301,\"4\":12.2004687274}}\n",
      "ERROR:app:Prediction error: string indices must be integers, not 'str'\n",
      "INFO:app:Received request to download model: base_distance version v2 from workspace IFT6758-2024-A02/IFT6758.2024-A02\n",
      "INFO:app:Model base_distance version v2 loaded from disk.\n",
      "INFO:app:Received prediction request: {\"distance\":{\"0\":33.1209903234,\"1\":48.0208288142,\"2\":49.040799341,\"3\":61.0737259384,\"4\":37.8549864615},\"angle_to_goal\":{\"0\":61.1134182331,\"1\":-31.3730051401,\"2\":-39.207203505,\"3\":39.6854543301,\"4\":12.2004687274}}\n",
      "ERROR:app:Prediction error: string indices must be integers, not 'str'\n"
     ]
    }
   ],
   "source": [
    "url = \"http://127.0.0.1:8000/logs\"\n",
    "response = requests.get(url)\n",
    "if response.status_code == 200:\n",
    "    # Print the logs returned by the endpoint\n",
    "    logs = response.json()\n",
    "    print(\"Logs from the server:\")\n",
    "    for log in logs:\n",
    "        print(log)\n",
    "else:\n",
    "    print(f\"Failed to retrieve logs. Status code: {response.status_code}\")\n",
    "    print(f\"Error message: {response.json()}\")"
   ]
  }
 ],
 "metadata": {
  "kernelspec": {
   "display_name": "ift6758-conda-env",
   "language": "python",
   "name": "python3"
  },
  "language_info": {
   "codemirror_mode": {
    "name": "ipython",
    "version": 3
   },
   "file_extension": ".py",
   "mimetype": "text/x-python",
   "name": "python",
   "nbconvert_exporter": "python",
   "pygments_lexer": "ipython3",
   "version": "3.12.7"
  }
 },
 "nbformat": 4,
 "nbformat_minor": 2
}
