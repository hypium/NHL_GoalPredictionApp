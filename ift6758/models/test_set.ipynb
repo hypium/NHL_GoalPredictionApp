{
 "cells": [
  {
   "cell_type": "markdown",
   "metadata": {},
   "source": [
    "# Testing models on the test set"
   ]
  },
  {
   "cell_type": "code",
   "execution_count": 1,
   "metadata": {},
   "outputs": [],
   "source": [
    "import sys\n",
    "import os\n",
    "sys.path.append(os.path.abspath(\"..\"))"
   ]
  },
  {
   "cell_type": "code",
   "execution_count": 2,
   "metadata": {},
   "outputs": [
    {
     "name": "stderr",
     "output_type": "stream",
     "text": [
      "\u001b[34m\u001b[1mwandb\u001b[0m: Using wandb-core as the SDK backend.  Please refer to https://wandb.me/wandb-core for more information.\n",
      "\u001b[34m\u001b[1mwandb\u001b[0m: Currently logged in as: \u001b[33mnathan-crms\u001b[0m (\u001b[33mIFT6758-2024-A02\u001b[0m). Use \u001b[1m`wandb login --relogin`\u001b[0m to force relogin\n"
     ]
    },
    {
     "data": {
      "text/plain": [
       "True"
      ]
     },
     "execution_count": 2,
     "metadata": {},
     "output_type": "execute_result"
    }
   ],
   "source": [
    "import pandas as pd\n",
    "import numpy as np\n",
    "import wandb\n",
    "import pickle\n",
    "import matplotlib.pyplot as plt\n",
    "from matplotlib.ticker import FuncFormatter\n",
    "from sklearn import metrics\n",
    "from sklearn.calibration import CalibrationDisplay\n",
    "from sklearn.preprocessing import StandardScaler\n",
    "from sklearn.metrics import accuracy_score, roc_auc_score\n",
    "from data.shots_data_retriever import ShotsDataRetriever\n",
    "\n",
    "wandb.login()"
   ]
  },
  {
   "cell_type": "markdown",
   "metadata": {},
   "source": [
    "## Data pre-processing"
   ]
  },
  {
   "cell_type": "code",
   "execution_count": 3,
   "metadata": {},
   "outputs": [],
   "source": [
    "shotsDataRetriever = ShotsDataRetriever()\n",
    "season_df = shotsDataRetriever.get_season_df_for_milestone2_test_set()\n",
    "playoffs_df = shotsDataRetriever.get_playoffs_df_for_milestone2_test_set()"
   ]
  },
  {
   "cell_type": "code",
   "execution_count": 4,
   "metadata": {},
   "outputs": [],
   "source": [
    "season_df1 = pd.get_dummies(season_df.drop(columns=['game_id', 'play_num']), columns=['shot_type'])\n",
    "X_season = season_df1.drop(columns=['is_goal'])\n",
    "y_season = season_df1['is_goal']\n",
    "\n",
    "playoffs_df1 = pd.get_dummies(playoffs_df.drop(columns=['game_id', 'play_num']), columns=['shot_type'])\n",
    "X_playoffs = playoffs_df1.drop(columns=['is_goal'])\n",
    "y_playoffs = playoffs_df1['is_goal']"
   ]
  },
  {
   "cell_type": "code",
   "execution_count": 5,
   "metadata": {},
   "outputs": [],
   "source": [
    "X_base_distance_season = X_season[['distance']]\n",
    "X_base_angle_season = X_season[['angle_to_goal']]\n",
    "X_base_distance_angle_season = X_season[['distance', 'angle_to_goal']]\n",
    "X_xgboost_v0_season = X_season[['angle_to_goal', 'distance']]\n",
    "X_xgboost_v1_season = X_season\n",
    "\n",
    "X_base_distance_playoffs = X_playoffs[['distance']]\n",
    "X_base_angle_playoffs = X_playoffs[['angle_to_goal']]\n",
    "X_base_distance_angle_playoffs = X_playoffs[['distance', 'angle_to_goal']]\n",
    "X_xgboost_v0_playoffs = X_playoffs[['angle_to_goal', 'distance']]\n",
    "X_xgboost_v1_playoffs = X_playoffs"
   ]
  },
  {
   "cell_type": "markdown",
   "metadata": {},
   "source": [
    "## Load models"
   ]
  },
  {
   "cell_type": "code",
   "execution_count": 7,
   "metadata": {},
   "outputs": [
    {
     "data": {
      "application/vnd.jupyter.widget-view+json": {
       "model_id": "e585e4ebffe74519aedd96bd3110b357",
       "version_major": 2,
       "version_minor": 0
      },
      "text/plain": [
       "VBox(children=(Label(value='Waiting for wandb.init()...\\r'), FloatProgress(value=0.01115815941110567, max=1.0)…"
      ]
     },
     "metadata": {},
     "output_type": "display_data"
    },
    {
     "ename": "KeyboardInterrupt",
     "evalue": "",
     "output_type": "error",
     "traceback": [
      "\u001b[0;31m---------------------------------------------------------------------------\u001b[0m",
      "\u001b[0;31mKeyboardInterrupt\u001b[0m                         Traceback (most recent call last)",
      "Cell \u001b[0;32mIn[7], line 2\u001b[0m\n\u001b[1;32m      1\u001b[0m \u001b[38;5;66;03m# run = wandb.init(project=\"IFT6758.2024-A02\", entity=\"IFT6758-2024-A02\", id=\"get_models\", resume=\"allow\")\u001b[39;00m\n\u001b[0;32m----> 2\u001b[0m run \u001b[38;5;241m=\u001b[39m \u001b[43mwandb\u001b[49m\u001b[38;5;241;43m.\u001b[39;49m\u001b[43minit\u001b[49m\u001b[43m(\u001b[49m\u001b[43mproject\u001b[49m\u001b[38;5;241;43m=\u001b[39;49m\u001b[38;5;124;43m\"\u001b[39;49m\u001b[38;5;124;43mIFT6758.2024-A02\u001b[39;49m\u001b[38;5;124;43m\"\u001b[39;49m\u001b[43m,\u001b[49m\u001b[43m \u001b[49m\u001b[38;5;28;43mid\u001b[39;49m\u001b[38;5;241;43m=\u001b[39;49m\u001b[38;5;124;43m\"\u001b[39;49m\u001b[38;5;124;43mget_models_2\u001b[39;49m\u001b[38;5;124;43m\"\u001b[39;49m\u001b[43m,\u001b[49m\u001b[43m \u001b[49m\u001b[43mreinit\u001b[49m\u001b[38;5;241;43m=\u001b[39;49m\u001b[38;5;28;43;01mTrue\u001b[39;49;00m\u001b[43m)\u001b[49m\n\u001b[1;32m      4\u001b[0m \u001b[38;5;66;03m# Base models\u001b[39;00m\n\u001b[1;32m      5\u001b[0m base_distance_path \u001b[38;5;241m=\u001b[39m run\u001b[38;5;241m.\u001b[39muse_model(name\u001b[38;5;241m=\u001b[39m\u001b[38;5;124m\"\u001b[39m\u001b[38;5;124mbase_distance:v1\u001b[39m\u001b[38;5;124m\"\u001b[39m)\n",
      "File \u001b[0;32m~/Documents/UdeM/ift6758/ift6758_projet/venv/lib/python3.11/site-packages/wandb/sdk/wandb_init.py:1256\u001b[0m, in \u001b[0;36minit\u001b[0;34m(job_type, dir, config, project, entity, reinit, tags, group, name, notes, magic, config_exclude_keys, config_include_keys, anonymous, mode, allow_val_change, resume, force, tensorboard, sync_tensorboard, monitor_gym, save_code, id, fork_from, resume_from, settings)\u001b[0m\n\u001b[1;32m   1254\u001b[0m     wi \u001b[38;5;241m=\u001b[39m _WandbInit()\n\u001b[1;32m   1255\u001b[0m     wi\u001b[38;5;241m.\u001b[39msetup(kwargs)\n\u001b[0;32m-> 1256\u001b[0m     \u001b[38;5;28;01mreturn\u001b[39;00m \u001b[43mwi\u001b[49m\u001b[38;5;241;43m.\u001b[39;49m\u001b[43minit\u001b[49m\u001b[43m(\u001b[49m\u001b[43m)\u001b[49m\n\u001b[1;32m   1258\u001b[0m \u001b[38;5;28;01mexcept\u001b[39;00m \u001b[38;5;167;01mKeyboardInterrupt\u001b[39;00m \u001b[38;5;28;01mas\u001b[39;00m e:\n\u001b[1;32m   1259\u001b[0m     \u001b[38;5;28;01mif\u001b[39;00m logger \u001b[38;5;129;01mis\u001b[39;00m \u001b[38;5;129;01mnot\u001b[39;00m \u001b[38;5;28;01mNone\u001b[39;00m:\n",
      "File \u001b[0;32m~/Documents/UdeM/ift6758/ift6758_projet/venv/lib/python3.11/site-packages/wandb/sdk/wandb_init.py:817\u001b[0m, in \u001b[0;36m_WandbInit.init\u001b[0;34m(self)\u001b[0m\n\u001b[1;32m    814\u001b[0m logger\u001b[38;5;241m.\u001b[39minfo(\u001b[38;5;124mf\u001b[39m\u001b[38;5;124m\"\u001b[39m\u001b[38;5;124mcommunicating run to backend with \u001b[39m\u001b[38;5;132;01m{\u001b[39;00mtimeout\u001b[38;5;132;01m}\u001b[39;00m\u001b[38;5;124m second timeout\u001b[39m\u001b[38;5;124m\"\u001b[39m)\n\u001b[1;32m    816\u001b[0m run_init_handle \u001b[38;5;241m=\u001b[39m backend\u001b[38;5;241m.\u001b[39minterface\u001b[38;5;241m.\u001b[39mdeliver_run(run)\n\u001b[0;32m--> 817\u001b[0m result \u001b[38;5;241m=\u001b[39m \u001b[43mrun_init_handle\u001b[49m\u001b[38;5;241;43m.\u001b[39;49m\u001b[43mwait\u001b[49m\u001b[43m(\u001b[49m\n\u001b[1;32m    818\u001b[0m \u001b[43m    \u001b[49m\u001b[43mtimeout\u001b[49m\u001b[38;5;241;43m=\u001b[39;49m\u001b[43mtimeout\u001b[49m\u001b[43m,\u001b[49m\n\u001b[1;32m    819\u001b[0m \u001b[43m    \u001b[49m\u001b[43mon_progress\u001b[49m\u001b[38;5;241;43m=\u001b[39;49m\u001b[38;5;28;43mself\u001b[39;49m\u001b[38;5;241;43m.\u001b[39;49m\u001b[43m_on_progress_init\u001b[49m\u001b[43m,\u001b[49m\n\u001b[1;32m    820\u001b[0m \u001b[43m    \u001b[49m\u001b[43mcancel\u001b[49m\u001b[38;5;241;43m=\u001b[39;49m\u001b[38;5;28;43;01mTrue\u001b[39;49;00m\u001b[43m,\u001b[49m\n\u001b[1;32m    821\u001b[0m \u001b[43m\u001b[49m\u001b[43m)\u001b[49m\n\u001b[1;32m    822\u001b[0m \u001b[38;5;28;01mif\u001b[39;00m result:\n\u001b[1;32m    823\u001b[0m     run_result \u001b[38;5;241m=\u001b[39m result\u001b[38;5;241m.\u001b[39mrun_result\n",
      "File \u001b[0;32m~/Documents/UdeM/ift6758/ift6758_projet/venv/lib/python3.11/site-packages/wandb/sdk/lib/mailbox.py:279\u001b[0m, in \u001b[0;36mMailboxHandle.wait\u001b[0;34m(self, timeout, on_probe, on_progress, release, cancel)\u001b[0m\n\u001b[1;32m    276\u001b[0m     \u001b[38;5;28;01mif\u001b[39;00m \u001b[38;5;28mself\u001b[39m\u001b[38;5;241m.\u001b[39m_interface\u001b[38;5;241m.\u001b[39m_transport_keepalive_failed():\n\u001b[1;32m    277\u001b[0m         \u001b[38;5;28;01mraise\u001b[39;00m MailboxError(\u001b[38;5;124m\"\u001b[39m\u001b[38;5;124mtransport failed\u001b[39m\u001b[38;5;124m\"\u001b[39m)\n\u001b[0;32m--> 279\u001b[0m found, abandoned \u001b[38;5;241m=\u001b[39m \u001b[38;5;28;43mself\u001b[39;49m\u001b[38;5;241;43m.\u001b[39;49m\u001b[43m_slot\u001b[49m\u001b[38;5;241;43m.\u001b[39;49m\u001b[43m_get_and_clear\u001b[49m\u001b[43m(\u001b[49m\u001b[43mtimeout\u001b[49m\u001b[38;5;241;43m=\u001b[39;49m\u001b[43mwait_timeout\u001b[49m\u001b[43m)\u001b[49m\n\u001b[1;32m    280\u001b[0m \u001b[38;5;28;01mif\u001b[39;00m found:\n\u001b[1;32m    281\u001b[0m     \u001b[38;5;66;03m# Always update progress to 100% when done\u001b[39;00m\n\u001b[1;32m    282\u001b[0m     \u001b[38;5;28;01mif\u001b[39;00m on_progress \u001b[38;5;129;01mand\u001b[39;00m progress_handle \u001b[38;5;129;01mand\u001b[39;00m progress_sent:\n",
      "File \u001b[0;32m~/Documents/UdeM/ift6758/ift6758_projet/venv/lib/python3.11/site-packages/wandb/sdk/lib/mailbox.py:126\u001b[0m, in \u001b[0;36m_MailboxSlot._get_and_clear\u001b[0;34m(self, timeout)\u001b[0m\n\u001b[1;32m    124\u001b[0m \u001b[38;5;28;01mdef\u001b[39;00m \u001b[38;5;21m_get_and_clear\u001b[39m(\u001b[38;5;28mself\u001b[39m, timeout: \u001b[38;5;28mfloat\u001b[39m) \u001b[38;5;241m-\u001b[39m\u001b[38;5;241m>\u001b[39m Tuple[Optional[pb\u001b[38;5;241m.\u001b[39mResult], \u001b[38;5;28mbool\u001b[39m]:\n\u001b[1;32m    125\u001b[0m     found \u001b[38;5;241m=\u001b[39m \u001b[38;5;28;01mNone\u001b[39;00m\n\u001b[0;32m--> 126\u001b[0m     \u001b[38;5;28;01mif\u001b[39;00m \u001b[38;5;28;43mself\u001b[39;49m\u001b[38;5;241;43m.\u001b[39;49m\u001b[43m_wait\u001b[49m\u001b[43m(\u001b[49m\u001b[43mtimeout\u001b[49m\u001b[38;5;241;43m=\u001b[39;49m\u001b[43mtimeout\u001b[49m\u001b[43m)\u001b[49m:\n\u001b[1;32m    127\u001b[0m         \u001b[38;5;28;01mwith\u001b[39;00m \u001b[38;5;28mself\u001b[39m\u001b[38;5;241m.\u001b[39m_lock:\n\u001b[1;32m    128\u001b[0m             found \u001b[38;5;241m=\u001b[39m \u001b[38;5;28mself\u001b[39m\u001b[38;5;241m.\u001b[39m_result\n",
      "File \u001b[0;32m~/Documents/UdeM/ift6758/ift6758_projet/venv/lib/python3.11/site-packages/wandb/sdk/lib/mailbox.py:122\u001b[0m, in \u001b[0;36m_MailboxSlot._wait\u001b[0;34m(self, timeout)\u001b[0m\n\u001b[1;32m    121\u001b[0m \u001b[38;5;28;01mdef\u001b[39;00m \u001b[38;5;21m_wait\u001b[39m(\u001b[38;5;28mself\u001b[39m, timeout: \u001b[38;5;28mfloat\u001b[39m) \u001b[38;5;241m-\u001b[39m\u001b[38;5;241m>\u001b[39m \u001b[38;5;28mbool\u001b[39m:\n\u001b[0;32m--> 122\u001b[0m     \u001b[38;5;28;01mreturn\u001b[39;00m \u001b[38;5;28;43mself\u001b[39;49m\u001b[38;5;241;43m.\u001b[39;49m\u001b[43m_event\u001b[49m\u001b[38;5;241;43m.\u001b[39;49m\u001b[43mwait\u001b[49m\u001b[43m(\u001b[49m\u001b[43mtimeout\u001b[49m\u001b[38;5;241;43m=\u001b[39;49m\u001b[43mtimeout\u001b[49m\u001b[43m)\u001b[49m\n",
      "File \u001b[0;32m/usr/local/Cellar/python@3.11/3.11.10/Frameworks/Python.framework/Versions/3.11/lib/python3.11/threading.py:629\u001b[0m, in \u001b[0;36mEvent.wait\u001b[0;34m(self, timeout)\u001b[0m\n\u001b[1;32m    627\u001b[0m signaled \u001b[38;5;241m=\u001b[39m \u001b[38;5;28mself\u001b[39m\u001b[38;5;241m.\u001b[39m_flag\n\u001b[1;32m    628\u001b[0m \u001b[38;5;28;01mif\u001b[39;00m \u001b[38;5;129;01mnot\u001b[39;00m signaled:\n\u001b[0;32m--> 629\u001b[0m     signaled \u001b[38;5;241m=\u001b[39m \u001b[38;5;28;43mself\u001b[39;49m\u001b[38;5;241;43m.\u001b[39;49m\u001b[43m_cond\u001b[49m\u001b[38;5;241;43m.\u001b[39;49m\u001b[43mwait\u001b[49m\u001b[43m(\u001b[49m\u001b[43mtimeout\u001b[49m\u001b[43m)\u001b[49m\n\u001b[1;32m    630\u001b[0m \u001b[38;5;28;01mreturn\u001b[39;00m signaled\n",
      "File \u001b[0;32m/usr/local/Cellar/python@3.11/3.11.10/Frameworks/Python.framework/Versions/3.11/lib/python3.11/threading.py:331\u001b[0m, in \u001b[0;36mCondition.wait\u001b[0;34m(self, timeout)\u001b[0m\n\u001b[1;32m    329\u001b[0m \u001b[38;5;28;01melse\u001b[39;00m:\n\u001b[1;32m    330\u001b[0m     \u001b[38;5;28;01mif\u001b[39;00m timeout \u001b[38;5;241m>\u001b[39m \u001b[38;5;241m0\u001b[39m:\n\u001b[0;32m--> 331\u001b[0m         gotit \u001b[38;5;241m=\u001b[39m \u001b[43mwaiter\u001b[49m\u001b[38;5;241;43m.\u001b[39;49m\u001b[43macquire\u001b[49m\u001b[43m(\u001b[49m\u001b[38;5;28;43;01mTrue\u001b[39;49;00m\u001b[43m,\u001b[49m\u001b[43m \u001b[49m\u001b[43mtimeout\u001b[49m\u001b[43m)\u001b[49m\n\u001b[1;32m    332\u001b[0m     \u001b[38;5;28;01melse\u001b[39;00m:\n\u001b[1;32m    333\u001b[0m         gotit \u001b[38;5;241m=\u001b[39m waiter\u001b[38;5;241m.\u001b[39macquire(\u001b[38;5;28;01mFalse\u001b[39;00m)\n",
      "\u001b[0;31mKeyboardInterrupt\u001b[0m: "
     ]
    }
   ],
   "source": [
    "# run = wandb.init(project=\"IFT6758.2024-A02\", entity=\"IFT6758-2024-A02\", id=\"get_models\", resume=\"allow\")\n",
    "run = wandb.init(project=\"IFT6758.2024-A02\", id=\"get_models_2\", reinit=True)\n",
    "\n",
    "# Base models\n",
    "base_distance_path = run.use_model(name=\"base_distance:v1\")\n",
    "base_angle_path = run.use_model(name=\"base_angle:v1\")\n",
    "base_distance_angle_path = run.use_model(name=\"base_distance_angle:v1\")\n",
    "\n",
    "with open(base_distance_path, 'rb') as f:\n",
    "    base_distance = pickle.load(f)\n",
    "with open(base_angle_path, 'rb') as f:\n",
    "    base_angle = pickle.load(f)\n",
    "with open(base_distance_angle_path, 'rb') as f:\n",
    "    base_distance_angle = pickle.load(f)\n",
    "\n",
    "# XGBoost model\n",
    "xgboost_v1_path = run.use_model(name=\"xgboost_v1_model:v0\")\n",
    "\n",
    "with open(xgboost_v1_path, 'rb') as f:\n",
    "    xgboost_v1 = pickle.load(f)\n",
    "\n",
    "# Advanced models\n",
    "xgboost_hp_feature_sel = run.use_model(name=\"run-eqiitp2n-xgb-hp_finetuned_feature_selection.pkl:v0\")\n",
    "\n",
    "with open(xgboost_hp_feature_sel, 'rb') as f:\n",
    "    xgboost_hp_feature_sel = pickle.load(f)\n",
    "\n",
    "wandb.finish()"
   ]
  },
  {
   "cell_type": "markdown",
   "metadata": {},
   "source": [
    "## Make predictions and obtain results"
   ]
  },
  {
   "cell_type": "code",
   "execution_count": null,
   "metadata": {},
   "outputs": [],
   "source": [
    "def get_and_log_model_results(id: str, model, X_test, y_test):\n",
    "    wandb.init(project=\"IFT6758.2024-A02\", entity=\"IFT6758-2024-A02\", id=id, resume=\"allow\")\n",
    "\n",
    "    y_pred = model.predict(X_test)\n",
    "    y_pred_prob = model.predict_proba(X_test)[:, 1]\n",
    "\n",
    "    accuracy = accuracy_score(y_test, y_pred)\n",
    "    roc_auc = roc_auc_score(y_test, y_pred_prob)\n",
    "    wandb.log({\n",
    "        \"accuracy\": accuracy,\n",
    "        \"roc_auc\": roc_auc,\n",
    "    })\n",
    "    print(f\"Accuracy: {accuracy}\", f\"ROC AUC: {roc_auc}\")\n",
    "\n",
    "    results = pd.DataFrame({\n",
    "        'goal_proba': y_pred_prob,\n",
    "        'non_goal_proba': 1 - y_pred_prob,\n",
    "        'is_goal': y_test\n",
    "    })\n",
    "    wandb.log({f\"results-{id}\": wandb.Table(dataframe=results)})\n",
    "\n",
    "    wandb.finish()\n",
    "\n",
    "    return results"
   ]
  },
  {
   "cell_type": "markdown",
   "metadata": {},
   "source": [
    "### Season results"
   ]
  },
  {
   "cell_type": "code",
   "execution_count": null,
   "metadata": {},
   "outputs": [],
   "source": [
    "# Base models\n",
    "results_base_distance_season = get_and_log_model_results(\"base_distance-test_set-season\", base_distance, X_base_distance_season, y_season)\n",
    "results_base_angle_season = get_and_log_model_results(\"base_angle-test_set-season\", base_angle, X_base_angle_season, y_season)\n",
    "results_base_distance_angle_season = get_and_log_model_results(\"base_distance_angle-test_set-season\", base_distance_angle, X_base_distance_angle_season, y_season)\n",
    "\n",
    "# XGBoost models\n",
    "results_xgboost_v1_season = get_and_log_model_results(\"xgboost_v1-test_set-season\", xgboost_v1, X_xgboost_v1_season, y_season)\n",
    "\n",
    "# Advanced models - Nathan à rajouter\n",
    "results_xgboost_hp_feature_sel_season = get_and_log_model_results(\"xgboost_hp_feature_sel-season\", xgboost_hp_feature_sel, X_season[xgboost_hp_feature_sel.feature_names_in_], y_season)"
   ]
  },
  {
   "cell_type": "markdown",
   "metadata": {},
   "source": [
    "### Playoffs results"
   ]
  },
  {
   "cell_type": "code",
   "execution_count": null,
   "metadata": {},
   "outputs": [],
   "source": [
    "# Base models\n",
    "results_base_distance_playoffs = get_and_log_model_results(\"base_distance-test_set-playoffs\", base_distance, X_base_distance_playoffs, y_playoffs)\n",
    "results_base_angle_playoffs = get_and_log_model_results(\"base_angle-test_set-playoffs\", base_angle, X_base_angle_playoffs, y_playoffs)\n",
    "results_base_distance_angle_playoffs = get_and_log_model_results(\"base_distance_angle-test_set-playoffs\", base_distance_angle, X_base_distance_angle_playoffs, y_playoffs)\n",
    "\n",
    "# XGBoost models\n",
    "results_xgboost_v1_playoffs = get_and_log_model_results(\"xgboost_v1-test_set-playoffs\", xgboost_v1, X_xgboost_v1_playoffs, y_playoffs)\n",
    "\n",
    "# Advanced models - Nathan à rajouter\n",
    "results_xgboost_hp_feature_sel_playoffs = get_and_log_model_results(\"xgboost_hp_feature_sel-playoffs\", xgboost_hp_feature_sel, X_playoffs[xgboost_hp_feature_sel.feature_names_in_], y_playoffs)"
   ]
  },
  {
   "cell_type": "markdown",
   "metadata": {},
   "source": [
    "## Plot performance metrics"
   ]
  },
  {
   "cell_type": "markdown",
   "metadata": {},
   "source": [
    "### Regular season"
   ]
  },
  {
   "cell_type": "code",
   "execution_count": null,
   "metadata": {},
   "outputs": [],
   "source": [
    "figpath_season = \"../../figures/models/test_set/season\"\n",
    "if not os.path.exists(figpath_season):\n",
    "    os.makedirs(figpath_season)"
   ]
  },
  {
   "cell_type": "code",
   "execution_count": null,
   "metadata": {},
   "outputs": [],
   "source": [
    "plt.figure(0).clf()\n",
    "plt.figure(figsize=(12, 7))\n",
    "\n",
    "fpr, tpr, thresh = metrics.roc_curve(results_base_distance_season['is_goal'], results_base_distance_season['goal_proba'])\n",
    "auc = metrics.roc_auc_score(results_base_distance_season['is_goal'], results_base_distance_season['goal_proba'])\n",
    "plt.plot(fpr, tpr, label=\"Base - distance, AUC=\" + f\"{auc:.3f}\", color='pink')\n",
    "\n",
    "fpr, tpr, thresh = metrics.roc_curve(results_base_angle_season['is_goal'], results_base_angle_season['goal_proba'])\n",
    "auc = metrics.roc_auc_score(results_base_angle_season['is_goal'], results_base_angle_season['goal_proba'])\n",
    "plt.plot(fpr, tpr, label=\"Base - angle, AUC=\" + f\"{auc:.3f}\", color='red')\n",
    "\n",
    "fpr, tpr, thresh = metrics.roc_curve(results_base_distance_angle_season['is_goal'], results_base_distance_angle_season['goal_proba'])\n",
    "auc = metrics.roc_auc_score(results_base_distance_angle_season['is_goal'], results_base_distance_angle_season['goal_proba'])\n",
    "plt.plot(fpr, tpr, label=\"Base - distance + angle, AUC=\" + f\"{auc:.3f}\", color='cyan')\n",
    "\n",
    "fpr, tpr, thresh = metrics.roc_curve(results_xgboost_v1_season['is_goal'], results_xgboost_v1_season['goal_proba'])\n",
    "auc = metrics.roc_auc_score(results_xgboost_v1_season['is_goal'], results_xgboost_v1_season['goal_proba'])\n",
    "plt.plot(fpr, tpr, label=\"XGBoost v1 - optimization d'hyperparamètres, AUC=\" + f\"{auc:.3f}\", color='blue')\n",
    "\n",
    "# À rajouter les modèles avancés\n",
    "fpr, tpr, thresh = metrics.roc_curve(results_xgboost_hp_feature_sel_season['is_goal'], results_xgboost_hp_feature_sel_season['goal_proba'])\n",
    "auc = metrics.roc_auc_score(results_xgboost_hp_feature_sel_season['is_goal'], results_xgboost_hp_feature_sel_season['goal_proba'])\n",
    "plt.plot(fpr, tpr, label=\"XGBoost v0 - fine-tuning d'hyperparamètres + feature selection, AUC=\" + f\"{auc:.3f}\", color='green')\n",
    "\n",
    "plt.plot([0, 1], [0, 1], 'k--', label=\"Aléatoire\")\n",
    "\n",
    "plt.xlabel(\"False Positive Rate\")\n",
    "plt.ylabel(\"True Positive Rate\")\n",
    "plt.title(\"Courbes ROC - Saison régulière\")\n",
    "plt.legend(loc=\"lower right\")\n",
    "\n",
    "plt.savefig(os.path.join(figpath_season, \"roc.png\"))\n",
    "plt.show()"
   ]
  },
  {
   "cell_type": "code",
   "execution_count": null,
   "metadata": {},
   "outputs": [],
   "source": [
    "def plot_goal_rates(results, label, color):\n",
    "    gr_df = results.copy()\n",
    "    percentile_bins = np.linspace(0, 1, 21)\n",
    "    gr_df['percentile'] = pd.qcut(\n",
    "        gr_df['goal_proba'], q=percentile_bins, labels=[p * 100 for p in percentile_bins[:-1]]\n",
    "    )\n",
    "    goal_rates = gr_df.groupby('percentile', observed=False)['is_goal'].mean()\n",
    "    plt.plot(percentile_bins[:-1], goal_rates, color=color, label=label)\n",
    "\n",
    "plt.figure(figsize=(12, 7))\n",
    "\n",
    "plot_goal_rates(results_base_distance_season, label=\"Base - distance\", color='pink')\n",
    "plot_goal_rates(results_base_angle_season, label=\"Base - angle\", color='red')\n",
    "plot_goal_rates(results_base_distance_angle_season, label=\"Base - distance + angle\", color='cyan')\n",
    "plot_goal_rates(results_xgboost_v1_season, label=\"XGBoost v1 - optimization d'hyperparamètres\", color='blue')\n",
    "\n",
    "# À rajouter les modèles avancés\n",
    "plot_goal_rates(results_xgboost_hp_feature_sel_season, label=\"XGBoost v0 - fine-tuning d'hyperparamètres + feature selection\", color='green')\n",
    "\n",
    "plt.gca().invert_xaxis()\n",
    "plt.gca().xaxis.set_major_formatter(FuncFormatter(lambda x, pos: f'{x * 100:.0f}'))\n",
    "plt.gca().yaxis.set_major_formatter(FuncFormatter(lambda x, pos: f'{x * 100:.0f}%'))\n",
    "plt.xlabel('Centile de la probabilité de but')\n",
    "plt.ylabel('Buts / (Tirs + Buts)')\n",
    "plt.title('Taux de buts - Saison régulière')\n",
    "plt.legend()\n",
    "plt.grid(True)\n",
    "\n",
    "plt.savefig(os.path.join(figpath_season, \"taux_de_buts.png\"))\n",
    "plt.show()"
   ]
  },
  {
   "cell_type": "code",
   "execution_count": null,
   "metadata": {},
   "outputs": [],
   "source": [
    "def plot_cumulative_goals(results, label, color):\n",
    "    cg_df = results.copy()\n",
    "    percentile_bins = np.linspace(0, 1, 21)\n",
    "    cg_df['percentile'] = pd.qcut(\n",
    "        cg_df['goal_proba'], q=percentile_bins, labels=[p * 100 for p in percentile_bins[:-1]]\n",
    "    )\n",
    "    total_goals = cg_df['is_goal'].sum()\n",
    "    goals_cums = 1 - cg_df.groupby('percentile', observed=False)['is_goal'].sum().cumsum() / total_goals\n",
    "    plt.plot(percentile_bins[:-1], goals_cums, color=color, label=label)\n",
    "\n",
    "plt.figure(figsize=(12, 7))\n",
    "\n",
    "plot_cumulative_goals(results_base_distance_season, label=\"Base - distance\", color='pink')\n",
    "plot_cumulative_goals(results_base_angle_season, label=\"Base - angle\", color='red')\n",
    "plot_cumulative_goals(results_base_distance_angle_season, label=\"Base - distance + angle\", color='cyan')\n",
    "plot_cumulative_goals(results_xgboost_v1_season, label=\"XGBoost v1 - optimization d'hyperparamètres\", color='blue')\n",
    "\n",
    "# À rajouter les modèles avancés\n",
    "plot_cumulative_goals(results_xgboost_hp_feature_sel_season, label=\"XGBoost v0 - fine-tuning d'hyperparamètres + feature selection\", color='green')\n",
    "\n",
    "plt.gca().invert_xaxis()\n",
    "plt.gca().xaxis.set_major_formatter(FuncFormatter(lambda x, pos: f'{x * 100:.0f}'))\n",
    "plt.gca().yaxis.set_major_formatter(FuncFormatter(lambda x, pos: f'{x * 100:.0f}%'))\n",
    "\n",
    "plt.xlabel('Centile de la probabilité de but')\n",
    "plt.ylabel('Proportion')\n",
    "plt.title('% de buts cumulé - Saison régulière')\n",
    "\n",
    "plt.legend()\n",
    "plt.grid(True)\n",
    "\n",
    "plt.savefig(os.path.join(figpath_season, \"buts_cumul.png\"))\n",
    "plt.show()\n"
   ]
  },
  {
   "cell_type": "code",
   "execution_count": null,
   "metadata": {},
   "outputs": [],
   "source": [
    "def plot_calibration_curve(results, label, color):\n",
    "    CalibrationDisplay.from_predictions(\n",
    "        results['is_goal'],\n",
    "        results['goal_proba'],\n",
    "        name=label,\n",
    "        color=color,\n",
    "        ax=plt.gca()\n",
    "    )\n",
    "\n",
    "plt.figure(figsize=(12, 7))\n",
    "\n",
    "plot_calibration_curve(results_base_distance_season, label=\"Base - distance\", color='pink')\n",
    "plot_calibration_curve(results_base_angle_season, label=\"Base - angle\", color='red')\n",
    "plot_calibration_curve(results_base_distance_angle_season, label=\"Base - distance + angle\", color='cyan')\n",
    "plot_calibration_curve(results_xgboost_v1_season, label=\"XGBoost v1 - optimization d'hyperparamètres\", color='blue')\n",
    "\n",
    "# À rajouter les modèles avancés\n",
    "plot_calibration_curve(results_xgboost_hp_feature_sel_season, label=\"XGBoost v0 - fine-tuning d'hyperparamètres + feature selection\", color='green')\n",
    "\n",
    "plt.title(\"Diagramme de fiabilité - Saison régulière\")\n",
    "plt.xlabel(\"Probabilité moyenne prédite\")\n",
    "plt.ylabel(\"Fraction de positifs\")\n",
    "plt.legend(loc=\"best\")\n",
    "plt.grid(True)\n",
    "\n",
    "plt.savefig(os.path.join(figpath_season, \"diag_fiab.png\"))\n",
    "plt.show()"
   ]
  },
  {
   "cell_type": "markdown",
   "metadata": {},
   "source": [
    "### Playoffs"
   ]
  },
  {
   "cell_type": "code",
   "execution_count": null,
   "metadata": {},
   "outputs": [],
   "source": [
    "figpath_playoffs = \"../../figures/models/test_set/playoffs\"\n",
    "if not os.path.exists(figpath_playoffs):\n",
    "    os.makedirs(figpath_playoffs)"
   ]
  },
  {
   "cell_type": "code",
   "execution_count": null,
   "metadata": {},
   "outputs": [],
   "source": [
    "plt.figure(0).clf()\n",
    "plt.figure(figsize=(12, 7))\n",
    "\n",
    "fpr, tpr, thresh = metrics.roc_curve(results_base_distance_playoffs['is_goal'], results_base_distance_playoffs['goal_proba'])\n",
    "auc = metrics.roc_auc_score(results_base_distance_playoffs['is_goal'], results_base_distance_playoffs['goal_proba'])\n",
    "plt.plot(fpr, tpr, label=\"Base - distance, AUC=\" + f\"{auc:.3f}\", color='pink')\n",
    "\n",
    "fpr, tpr, thresh = metrics.roc_curve(results_base_angle_playoffs['is_goal'], results_base_angle_playoffs['goal_proba'])\n",
    "auc = metrics.roc_auc_score(results_base_angle_playoffs['is_goal'], results_base_angle_playoffs['goal_proba'])\n",
    "plt.plot(fpr, tpr, label=\"Base - angle, AUC=\" + f\"{auc:.3f}\", color='red')\n",
    "\n",
    "fpr, tpr, thresh = metrics.roc_curve(results_base_distance_angle_playoffs['is_goal'], results_base_distance_angle_playoffs['goal_proba'])\n",
    "auc = metrics.roc_auc_score(results_base_distance_angle_playoffs['is_goal'], results_base_distance_angle_playoffs['goal_proba'])\n",
    "plt.plot(fpr, tpr, label=\"Base - distance + angle, AUC=\" + f\"{auc:.3f}\", color='cyan')\n",
    "\n",
    "fpr, tpr, thresh = metrics.roc_curve(results_xgboost_v1_playoffs['is_goal'], results_xgboost_v1_playoffs['goal_proba'])\n",
    "auc = metrics.roc_auc_score(results_xgboost_v1_playoffs['is_goal'], results_xgboost_v1_playoffs['goal_proba'])\n",
    "plt.plot(fpr, tpr, label=\"XGBoost v1 - optimization d'hyperparamètres, AUC=\" + f\"{auc:.3f}\", color='blue')\n",
    "\n",
    "# À rajouter les modèles avancés\n",
    "fpr, tpr, thresh = metrics.roc_curve(results_xgboost_hp_feature_sel_playoffs['is_goal'], results_xgboost_hp_feature_sel_playoffs['goal_proba'])\n",
    "auc = metrics.roc_auc_score(results_xgboost_hp_feature_sel_playoffs['is_goal'], results_xgboost_hp_feature_sel_playoffs['goal_proba'])\n",
    "plt.plot(fpr, tpr, label=\"XGBoost v0 - fine-tuning d'hyperparamètres + feature selection, AUC=\" + f\"{auc:.3f}\", color='green')\n",
    "\n",
    "plt.plot([0, 1], [0, 1], 'k--', label=\"Aléatoire\")\n",
    "\n",
    "plt.xlabel(\"False Positive Rate\")\n",
    "plt.ylabel(\"True Positive Rate\")\n",
    "plt.title(\"Courbes ROC - Playoffs\")\n",
    "plt.legend(loc=\"lower right\")\n",
    "\n",
    "plt.savefig(os.path.join(figpath_playoffs, \"roc.png\"))\n",
    "plt.show()"
   ]
  },
  {
   "cell_type": "code",
   "execution_count": null,
   "metadata": {},
   "outputs": [],
   "source": [
    "def plot_goal_rates(results, label, color):\n",
    "    gr_df = results.copy()\n",
    "    percentile_bins = np.linspace(0, 1, 21)\n",
    "    gr_df['percentile'] = pd.qcut(\n",
    "        gr_df['goal_proba'], q=percentile_bins, labels=[p * 100 for p in percentile_bins[:-1]]\n",
    "    )\n",
    "    goal_rates = gr_df.groupby('percentile', observed=False)['is_goal'].mean()\n",
    "    plt.plot(percentile_bins[:-1], goal_rates, color=color, label=label)\n",
    "\n",
    "plt.figure(figsize=(12, 7))\n",
    "\n",
    "plot_goal_rates(results_base_distance_playoffs, label=\"Base - distance\", color='pink')\n",
    "plot_goal_rates(results_base_angle_playoffs, label=\"Base - angle\", color='red')\n",
    "plot_goal_rates(results_base_distance_angle_playoffs, label=\"Base - distance + angle\", color='cyan')\n",
    "plot_goal_rates(results_xgboost_v1_playoffs, label=\"XGBoost v1 - optimization d'hyperparamètres\", color='blue')\n",
    "\n",
    "# À rajouter les modèles avancés\n",
    "plot_goal_rates(results_xgboost_hp_feature_sel_playoffs, label=\"XGBoost v0 - fine-tuning d'hyperparamètres + feature selection\", color='green')\n",
    "\n",
    "plt.gca().invert_xaxis()\n",
    "plt.gca().xaxis.set_major_formatter(FuncFormatter(lambda x, pos: f'{x * 100:.0f}'))\n",
    "plt.gca().yaxis.set_major_formatter(FuncFormatter(lambda x, pos: f'{x * 100:.0f}%'))\n",
    "plt.xlabel('Centile de la probabilité de but')\n",
    "plt.ylabel('Buts / (Tirs + Buts)')\n",
    "plt.title('Taux de buts - Playoffs')\n",
    "plt.legend()\n",
    "plt.grid(True)\n",
    "\n",
    "plt.savefig(os.path.join(figpath_playoffs, \"taux_de_buts.png\"))\n",
    "plt.show()"
   ]
  },
  {
   "cell_type": "code",
   "execution_count": null,
   "metadata": {},
   "outputs": [],
   "source": [
    "def plot_cumulative_goals(results, label, color):\n",
    "    cg_df = results.copy()\n",
    "    percentile_bins = np.linspace(0, 1, 21)\n",
    "    cg_df['percentile'] = pd.qcut(\n",
    "        cg_df['goal_proba'], q=percentile_bins, labels=[p * 100 for p in percentile_bins[:-1]]\n",
    "    )\n",
    "    total_goals = cg_df['is_goal'].sum()\n",
    "    goals_cums = 1 - cg_df.groupby('percentile', observed=False)['is_goal'].sum().cumsum() / total_goals\n",
    "    plt.plot(percentile_bins[:-1], goals_cums, color=color, label=label)\n",
    "\n",
    "plt.figure(figsize=(12, 7))\n",
    "\n",
    "plot_cumulative_goals(results_base_distance_playoffs, label=\"Base - distance\", color='pink')\n",
    "plot_cumulative_goals(results_base_angle_playoffs, label=\"Base - angle\", color='red')\n",
    "plot_cumulative_goals(results_base_distance_angle_playoffs, label=\"Base - distance + angle\", color='cyan')\n",
    "plot_cumulative_goals(results_xgboost_v1_playoffs, label=\"XGBoost v1 - optimization d'hyperparamètres\", color='blue')\n",
    "\n",
    "# À rajouter les modèles avancés\n",
    "plot_cumulative_goals(results_xgboost_hp_feature_sel_playoffs, label=\"XGBoost v1 - fine-tuning d'hyperparamètres + feature selection\", color='green')\n",
    "\n",
    "plt.gca().invert_xaxis()\n",
    "plt.gca().xaxis.set_major_formatter(FuncFormatter(lambda x, pos: f'{x * 100:.0f}'))\n",
    "plt.gca().yaxis.set_major_formatter(FuncFormatter(lambda x, pos: f'{x * 100:.0f}%'))\n",
    "\n",
    "plt.xlabel('Centile de la probabilité de but')\n",
    "plt.ylabel('Proportion')\n",
    "plt.title('% de buts cumulé - Saison régulière')\n",
    "\n",
    "plt.legend()\n",
    "plt.grid(True)\n",
    "\n",
    "plt.savefig(os.path.join(figpath_playoffs, \"buts_cumul.png\"))\n",
    "plt.show()\n"
   ]
  },
  {
   "cell_type": "code",
   "execution_count": null,
   "metadata": {},
   "outputs": [],
   "source": [
    "def plot_calibration_curve(results, label, color):\n",
    "    CalibrationDisplay.from_predictions(\n",
    "        results['is_goal'],\n",
    "        results['goal_proba'],\n",
    "        name=label,\n",
    "        color=color,\n",
    "        ax=plt.gca()\n",
    "    )\n",
    "\n",
    "plt.figure(figsize=(12, 7))\n",
    "\n",
    "plot_calibration_curve(results_base_distance_playoffs, label=\"Base - distance\", color='pink')\n",
    "plot_calibration_curve(results_base_angle_playoffs, label=\"Base - angle\", color='red')\n",
    "plot_calibration_curve(results_base_distance_angle_playoffs, label=\"Base - distance + angle\", color='cyan')\n",
    "plot_calibration_curve(results_xgboost_v1_playoffs, label=\"XGBoost v1 - optimization d'hyperparamètres\", color='blue')\n",
    "\n",
    "# À rajouter les modèles avancés\n",
    "plot_calibration_curve(results_xgboost_hp_feature_sel_playoffs, label=\"XGBoost v1 - fine-tuning d'hyperparamètres + feature selection\", color='green')\n",
    "\n",
    "plt.title(\"Diagramme de fiabilité - Saison régulière\")\n",
    "plt.xlabel(\"Probabilité moyenne prédite\")\n",
    "plt.ylabel(\"Fraction de positifs\")\n",
    "plt.legend(loc=\"best\")\n",
    "plt.grid(True)\n",
    "\n",
    "plt.savefig(os.path.join(figpath_playoffs, \"diag_fiab.png\"))\n",
    "plt.show()"
   ]
  }
 ],
 "metadata": {
  "kernelspec": {
   "display_name": "venv",
   "language": "python",
   "name": "python3"
  },
  "language_info": {
   "codemirror_mode": {
    "name": "ipython",
    "version": 3
   },
   "file_extension": ".py",
   "mimetype": "text/x-python",
   "name": "python",
   "nbconvert_exporter": "python",
   "pygments_lexer": "ipython3",
   "version": "3.11.10"
  }
 },
 "nbformat": 4,
 "nbformat_minor": 2
}
