{
 "cells": [
  {
   "cell_type": "code",
   "execution_count": 1,
   "metadata": {},
   "outputs": [],
   "source": [
    "import wandb\n",
    "import pandas as pd"
   ]
  },
  {
   "cell_type": "code",
   "execution_count": 2,
   "metadata": {},
   "outputs": [
    {
     "name": "stdout",
     "output_type": "stream",
     "text": [
      "          game_id  play_num  period  is_goal  x_coord  y_coord shot_type  \\\n",
      "68657  2017021065         9       1        0       50       36      snap   \n",
      "68658  2017021065        10       1        0       85      -25     wrist   \n",
      "68659  2017021065        14       1        0       73      -16  backhand   \n",
      "68660  2017021065        18       1        0       29       -6      slap   \n",
      "68661  2017021065        19       1        0       23      -34     wrist   \n",
      "...           ...       ...     ...      ...      ...      ...       ...   \n",
      "68723  2017021065       347       4        0       71       -8      snap   \n",
      "68724  2017021065       348       4        0       58       10      slap   \n",
      "68725  2017021065       350       4        0       60       23      slap   \n",
      "68726  2017021065       356       4        0       74        1     wrist   \n",
      "68727  2017021065       359       4        1       74        1     wrist   \n",
      "\n",
      "       is_empty_net   distance  angle_to_goal  ...  last_event_x_coord  \\\n",
      "68657             0  53.814496      41.987212  ...                72.0   \n",
      "68658             0  25.495098     -78.690068  ...                50.0   \n",
      "68659             0  23.345235     -43.264295  ...                39.0   \n",
      "68660             0  61.294372      -5.617581  ...                10.0   \n",
      "68661             0  75.133215     -26.906093  ...                29.0   \n",
      "...             ...        ...            ...  ...                 ...   \n",
      "68723             0  20.615528     -22.833654  ...                76.0   \n",
      "68724             0  33.526109      17.354025  ...                71.0   \n",
      "68725             0  37.802116      37.476180  ...                61.0   \n",
      "68726             0  16.031220       3.576334  ...                57.0   \n",
      "68727             0  16.031220       3.576334  ...                69.0   \n",
      "\n",
      "       last_event_y_coord  time_since_last_event  distance_from_last_event  \\\n",
      "68657                37.0                   11.0                 22.022716   \n",
      "68658                36.0                    4.0                 70.327804   \n",
      "68659               -28.0                    1.0                 36.055513   \n",
      "68660                38.0                    5.0                 47.927028   \n",
      "68661                -6.0                    8.0                 28.635642   \n",
      "...                   ...                    ...                       ...   \n",
      "68723                -5.0                    7.0                  5.830952   \n",
      "68724                -8.0                   11.0                 22.203603   \n",
      "68725               -32.0                   14.0                 55.009090   \n",
      "68726               -12.0                    2.0                 21.400935   \n",
      "68727                22.0                   43.0                 21.587033   \n",
      "\n",
      "       rebound  angle_change      speed  time_since_powerplay  away_skaters  \\\n",
      "68657    False      0.000000   2.002065                     0             5   \n",
      "68658     True    120.677280  17.581951                     0             5   \n",
      "68659    False      0.000000  36.055513                     0             5   \n",
      "68660    False      0.000000   9.585406                     0             5   \n",
      "68661     True     21.288513   3.579455                     0             5   \n",
      "...        ...           ...        ...                   ...           ...   \n",
      "68723     True      3.179830   0.832993                    76             3   \n",
      "68724     True    -40.187679   2.018509                    87             3   \n",
      "68725    False      0.000000   3.929221                   115             3   \n",
      "68726    False      0.000000  10.700467                     0             4   \n",
      "68727    False      0.000000   0.502024                     0             3   \n",
      "\n",
      "       home_skaters  \n",
      "68657             5  \n",
      "68658             5  \n",
      "68659             5  \n",
      "68660             5  \n",
      "68661             5  \n",
      "...             ...  \n",
      "68723             4  \n",
      "68724             4  \n",
      "68725             4  \n",
      "68726             4  \n",
      "68727             3  \n",
      "\n",
      "[71 rows x 22 columns]\n"
     ]
    }
   ],
   "source": [
    "df = pd.read_csv(\"milestone2/2017/season.csv\")\n",
    "df = df[df['game_id'] == 2017021065]\n",
    "print(df)"
   ]
  },
  {
   "cell_type": "code",
   "execution_count": 11,
   "metadata": {},
   "outputs": [
    {
     "name": "stderr",
     "output_type": "stream",
     "text": [
      "wandb: Using wandb-core as the SDK backend.  Please refer to https://wandb.me/wandb-core for more information.\n",
      "wandb: Currently logged in as: lofeodo (IFT6758-2024-A02). Use `wandb login --relogin` to force relogin\n"
     ]
    },
    {
     "data": {
      "text/html": [
       "Tracking run with wandb version 0.18.7"
      ],
      "text/plain": [
       "<IPython.core.display.HTML object>"
      ]
     },
     "metadata": {},
     "output_type": "display_data"
    },
    {
     "data": {
      "text/html": [
       "Run data is saved locally in <code>d:\\École\\IFT 6758\\ift6758_projet\\ift6758\\data\\milestone2\\wandb\\run-20241117_152227-naow38e8</code>"
      ],
      "text/plain": [
       "<IPython.core.display.HTML object>"
      ]
     },
     "metadata": {},
     "output_type": "display_data"
    },
    {
     "data": {
      "text/html": [
       "Syncing run <strong><a href='https://wandb.ai/IFT6758-2024-A02/IFT6758.2024-A02/runs/naow38e8' target=\"_blank\">polar-fire-1</a></strong> to <a href='https://wandb.ai/IFT6758-2024-A02/IFT6758.2024-A02' target=\"_blank\">Weights & Biases</a> (<a href='https://wandb.me/developer-guide' target=\"_blank\">docs</a>)<br/>"
      ],
      "text/plain": [
       "<IPython.core.display.HTML object>"
      ]
     },
     "metadata": {},
     "output_type": "display_data"
    },
    {
     "data": {
      "text/html": [
       " View project at <a href='https://wandb.ai/IFT6758-2024-A02/IFT6758.2024-A02' target=\"_blank\">https://wandb.ai/IFT6758-2024-A02/IFT6758.2024-A02</a>"
      ],
      "text/plain": [
       "<IPython.core.display.HTML object>"
      ]
     },
     "metadata": {},
     "output_type": "display_data"
    },
    {
     "data": {
      "text/html": [
       " View run at <a href='https://wandb.ai/IFT6758-2024-A02/IFT6758.2024-A02/runs/naow38e8' target=\"_blank\">https://wandb.ai/IFT6758-2024-A02/IFT6758.2024-A02/runs/naow38e8</a>"
      ],
      "text/plain": [
       "<IPython.core.display.HTML object>"
      ]
     },
     "metadata": {},
     "output_type": "display_data"
    },
    {
     "data": {
      "text/plain": [
       "<Artifact wpg_v_wsh_2017021065>"
      ]
     },
     "execution_count": 11,
     "metadata": {},
     "output_type": "execute_result"
    }
   ],
   "source": [
    "run = wandb.init(project=\"IFT6758.2024-A02\")\n",
    "\n",
    "artifact = wandb.Artifact(\n",
    "    \"wpg_v_wsh_2017021065\",\n",
    "    type=\"dataset\"\n",
    ")\n",
    "\n",
    "my_table = wandb.Table(dataframe=df)\n",
    "\n",
    "artifact.add(my_table, \"wpg_v_wsh_2017021065\")\n",
    "run.log_artifact(artifact)"
   ]
  }
 ],
 "metadata": {
  "kernelspec": {
   "display_name": "ift6758-conda-env",
   "language": "python",
   "name": "python3"
  },
  "language_info": {
   "codemirror_mode": {
    "name": "ipython",
    "version": 3
   },
   "file_extension": ".py",
   "mimetype": "text/x-python",
   "name": "python",
   "nbconvert_exporter": "python",
   "pygments_lexer": "ipython3",
   "version": "3.12.7"
  }
 },
 "nbformat": 4,
 "nbformat_minor": 2
}
